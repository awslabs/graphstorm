{
 "cells": [
  {
   "cell_type": "markdown",
   "metadata": {},
   "source": [
    "# Notebook 5: Use GraphStorm APIs for Graph Prediction\n",
    "\n",
    "Graph prediction, such as classification and regression, is a common task in Graph Machine Learning (GML) across various domains, including life sciences and chemistry. In graph prediction, the entire graph data is typically organized into batches of subgraphs, where each subgraph's nodes have edges only within the subgraph and no edges connecting to nodes in other subgraphs. GML labels are linked to these subgraphs. And then GML model makes prediction on new subgraphs as well.\n",
    "\n",
    "A typical operation used in graph prediction is called `Read-out`, e.g., `sum`, `mean`, or `max/min`, which aggregates the representations of nodes in a subgraph to form one representation for the subgraph. Outputs of the `Read-out` will be further used to perform downstream prediction computation.\n",
    "\n",
    "<img src=\"../../../../tutorial/GP_readout.png\" style=\"margin:auto\" width=\"400\"/>\n",
    "\n",
    "The current version of GraphStorm can not directly perform graph prediction. But as GraphStorm supports node-level prediction, we can use a method called `supernode` to fulfill the graph prediction requirement.\n",
    "\n",
    "----"
   ]
  },
  {
   "cell_type": "markdown",
   "metadata": {},
   "source": [
    "## `super-node` Method Explanation\n",
    "\n",
    "Instead of use the `Read-out` operation, we add a new node, called **super node**, "
   ]
  },
  {
   "cell_type": "markdown",
   "metadata": {},
   "source": [
    "\n",
    "\n",
    "This notebook will demonstrate the supernode method with \n",
    "\n",
    "1. uses a dummy data that contains hundreds of subgraphs and a set of supernodes, each of which contact to all nodes in one subgraph with in-degree edges so that only have messages passing into supernodes, but not back.\n",
    "2. GraphStorm's data APIs, trainer and inferrer APIs.\n",
    "3. A customized RGCN model that implement a Graph Classification-like method based on the \"supernode\" graph structure. **This RGCN model takes GraphStorm's graph conv layers as one of the arguments, therefore having the flexibility to change different base models for Graph Classification, which is considered as Option 2.**\n",
    "\n",
    "This notebook serves as an example of a Graph Classification Solution using current version of GrahpStorm. Users can modify the customer GNN model and implement their own version.\n",
    "This notebook then run Option 2 solution on the converted OGBG-molhiv data."
   ]
  },
  {
   "cell_type": "markdown",
   "metadata": {},
   "source": [
    "---\n",
    "\n",
    "## 1. The OGBG-molhiv supernode graph\n",
    "\n",
    "With the converted molhiv raw data tables, we run GraphStorm's gconstruct command and partition the graph into one partition. The processed graph is stored in `/data/gc_solution/dataset/ogbg_molhiv/gs_1p`."
   ]
  },
  {
   "cell_type": "code",
   "execution_count": 1,
   "metadata": {},
   "outputs": [
    {
     "name": "stdout",
     "output_type": "stream",
     "text": [
      "INFO:root:The graph has 2 node types and 2 edge types.\n",
      "INFO:root:Node type node has 1049163 nodes\n",
      "INFO:root:Node type super has 41127 nodes\n",
      "INFO:root:Edge type ('node', 'to', 'node') has 2259376 edges\n",
      "INFO:root:Edge type ('node', 'to_super', 'super') has 1049163 edges\n",
      "INFO:root:Node type node has features: ['feat'].\n",
      "INFO:root:Node type super has features: ['feat', 'train_mask', 'val_mask', 'test_mask', 'labels'].\n",
      "INFO:root:Train/val/test on super: 32901, 4113, 4113\n",
      "Converting to homogeneous graph takes 0.027s, peak mem: 8.348 GB\n",
      "Save partitions: 0.524 seconds, peak memory: 8.348 GB\n",
      "There are 3308539 edges in the graph and 0 edge cuts for 1 partitions.\n",
      "INFO:root:Graph construction generates new node IDs for 'node'. The ID map is saved in /data/gc_solution/dataset/ogbg_molhiv/gs_1p/node_id_remap.parquet.\n",
      "INFO:root:Graph construction generates new node IDs for 'super'. The ID map is saved in /data/gc_solution/dataset/ogbg_molhiv/gs_1p/super_id_remap.parquet.\n"
     ]
    }
   ],
   "source": [
    "!python -m graphstorm.gconstruct.construct_graph \\\n",
    "        --conf-file /data/gc_solution/dataset/ogbg_molhiv/gs_raw/config.json \\\n",
    "        --output-dir /data/gc_solution/dataset/ogbg_molhiv/gs_1p/ \\\n",
    "        --num-parts 1 \\\n",
    "        --graph-name molhiv"
   ]
  },
  {
   "cell_type": "code",
   "execution_count": 2,
   "metadata": {},
   "outputs": [],
   "source": [
    "# ogbg-molhiv input data config:\n",
    "graph_config = '/data/gc_solution/dataset/ogbg_molhiv/gs_1p/molhiv.json'"
   ]
  },
  {
   "cell_type": "markdown",
   "metadata": {},
   "source": [
    "## 2. Customized RGCN Encoder Module Using Conv Layers\n",
    "\n",
    "The key component of this super-node based solution is the modification of the GNN model that can perform message passing and aggregation in each subgraph, then perform sorts of \"read-out\" operation in the super nodes, and finally perform classification on those super-nodes.\n",
    "\n",
    "This option uses GraphStorm's [RelGraphConvLayer](https://graphstorm.readthedocs.io/en/latest/generated/graphstorm.model.RelGraphConvLayer.html#graphstorm.model.RelGraphConvLayer) API as one of the input arguments, and implement an customzied RGCN model for graph classification task.\n",
    "\n",
    "Using this option, users can change the graph conv layer type, hence forming different GCN models."
   ]
  },
  {
   "cell_type": "code",
   "execution_count": 3,
   "metadata": {},
   "outputs": [],
   "source": [
    "import torch as th\n",
    "from graphstorm.model import (GSgnnNodeModel,\n",
    "                              GSNodeEncoderInputLayer,\n",
    "                              RelationalGCNEncoder,\n",
    "                              RelationalGATEncoder,\n",
    "                              HGTEncoder,\n",
    "                              EntityClassifier,\n",
    "                              ClassifyLossFunc)\n",
    "from graphstorm.model.gnn_encoder_base import GraphConvEncoder"
   ]
  },
  {
   "cell_type": "code",
   "execution_count": 4,
   "metadata": {},
   "outputs": [],
   "source": [
    "class GCNEncoder4GC(GraphConvEncoder):\n",
    "    r\"\"\"A graph conv encoder for Graph Classification\n",
    "\n",
    "        Unique arguments in this class:\n",
    "        -------------------------------\n",
    "        base_encoder: GraphStorm ConvEncoder types, options:\n",
    "            1. `RelationalGCNEncoder`;\n",
    "            2. `RelationalGATEncoder`;\n",
    "            3. `HGTEncoder`.\n",
    "        read_out_opt: string in the following options:\n",
    "            The aggregation method for the cached supernodes' representations. The current options:\n",
    "            1. `last_only`: only use the last layer's representations. If use this option, \n",
    "               the read_out_ops will be ignored because there is only one layer representation\n",
    "               is involved in the final read_out.\n",
    "            2. `mean`: compute the mean of all of the cached supernode representations.\n",
    "            3. `sum`: compute the summantion of all of the cached supernode representations.\n",
    "            4. `weighted_sum`: use additional weight parameters to compute the weighted summation\n",
    "               all of the cached supernode representations.\n",
    "            5. `min`: compute the minimum in each dimension of the all of the cached supernode\n",
    "               representations.\n",
    "            6. `max`: compute the maximum in each dimension of the all of the cached supernode\n",
    "               representations.\n",
    "        super_ntype: string\n",
    "            The name of supernode. Default is 'super'.\n",
    "            \n",
    "    \"\"\"\n",
    "    def __init__(self,\n",
    "                 h_dim,\n",
    "                 out_dim,\n",
    "                 base_encoder,\n",
    "                 read_out_opt='last_only',\n",
    "                 super_ntype='super'\n",
    "                ):\n",
    "        assert isinstance(base_encoder, (RelationalGCNEncoder, RelationalGATEncoder, HGTEncoder)), \\\n",
    "               'Only support GraphStorm\\'s RelationalGCNEncoder, RelationalGATEncoder, and HGTEncoder'\n",
    "        assert base_encoder.num_layers >= 3, 'For Graph Classification task, at least two layers GNN' + \\\n",
    "                                       f'encoder required, but got {num_hidden_layers} ...'\n",
    "        \n",
    "        super(GCNEncoder4GC, self).__init__(h_dim, out_dim, base_encoder.num_layers)\n",
    "        \n",
    "        assert read_out_opt in ['last_only', 'mean', 'sum', 'weighted_sum', 'min', 'max'], + \\\n",
    "                                f'Not recognized read_out_opt {read_out_opt}. Options include ' + \\\n",
    "                                '\\'last_only\\', \\'mean\\', \\'sum\\', \\'weighted_sum\\', \\'mim\\', ' + \\\n",
    "                                'and \\'max\\'.'\n",
    "        self.base_encoder = base_encoder\n",
    "        self.read_out_opt = read_out_opt\n",
    "        self.super_ntype = super_ntype\n",
    "        if read_out_opt=='weighted_sum':\n",
    "            self.weighted_sum_para = th.nn.Parameter(th.Tensor(1, num_hidden_layers))\n",
    "\n",
    "    def forward(self, blocks, h):\n",
    "\n",
    "        supernode_cache = []\n",
    "\n",
    "        # message passing in subgraphs and cache super-nodes representations\n",
    "        for layer, block in zip(self.base_encoder.layers, blocks):\n",
    "            h = layer(block, h)\n",
    "            \n",
    "            # 1. cache the output of supernodes in each layer\n",
    "            supernode_cache.append(h[self.super_ntype])\n",
    "            # 2. zero out the representations of supernodes as the next layer input\n",
    "            h[self.super_ntype] = th.zeros_like(h[self.super_ntype])\n",
    "\n",
    "        # add final read_out functions.\n",
    "        supernode_cache = th.stack(supernode_cache)\n",
    "        output = self._read_out_ops(supernode_cache)\n",
    "        \n",
    "        return {self.super_ntype: output}\n",
    "\n",
    "    def _read_out_ops(self, supernode_cache):\n",
    "        \"\"\" The supernode_cache shape L * N * D\n",
    "            The output shape N * D\n",
    "        \"\"\"\n",
    "        if self.read_out_opt=='last_only':\n",
    "            output = supernode_cache[-1]\n",
    "        elif self.read_out_opt=='mean':\n",
    "            output = th.mean(supernode_cache, dim=0)\n",
    "        elif self.read_out_opt=='sum':\n",
    "            output = th.sum(supernode_cache, dim=0)\n",
    "        elif self.read_out_opt=='weighted_sum':\n",
    "            output = th.einsum('ij, jkl->kl', self.weighted_sum_para, supernode_cache)\n",
    "\n",
    "        return output\n",
    "\n",
    "    # @property\n",
    "    # def in_dims(self):\n",
    "    #     return self.base_encoder.in_dims\n",
    "    # @property\n",
    "    # def out_dims(self):\n",
    "    #     return self.base_encoder.out_dims"
   ]
  },
  {
   "cell_type": "markdown",
   "metadata": {},
   "source": [
    "## 3. Training and Inference Pipeline\n",
    "\n",
    "With the customized RGCN model modified for graph classification, we can reuse GraphStorm's end-to-end training and inference pipeline to conduct the graph classification task on our dummy data."
   ]
  },
  {
   "cell_type": "code",
   "execution_count": 5,
   "metadata": {},
   "outputs": [],
   "source": [
    "import os\n",
    "import graphstorm as gs\n",
    "from graphstorm.trainer import GSgnnNodePredictionTrainer\n",
    "from graphstorm.dataloading import (GSgnnNodeTrainData,\n",
    "                                    GSgnnNodeInferData,\n",
    "                                    GSgnnNodeDataLoader)\n",
    "from graphstorm.inference import GSgnnNodePredictionInferrer\n",
    "from graphstorm.eval import GSgnnAccEvaluator"
   ]
  },
  {
   "cell_type": "code",
   "execution_count": 6,
   "metadata": {},
   "outputs": [],
   "source": [
    "# initialize the graphstorm standalone environment\n",
    "gs.initialize(ip_config=None, backend='gloo')\n",
    "device = gs.utils.setup_device(0)"
   ]
  },
  {
   "cell_type": "code",
   "execution_count": 7,
   "metadata": {},
   "outputs": [],
   "source": [
    "# config about the dataset and task for ogbg-molhiv data\n",
    "graph_name = 'molhiv'\n",
    "target_ntype = 'super'\n",
    "node_feat_name = 'feat'\n",
    "feat_sizes = {'node': 9, 'super': 16}\n",
    "label_field = 'labels'\n",
    "num_classes = 2\n",
    "multilabel = False\n",
    "\n",
    "# learning params:\n",
    "batch_size = 256\n",
    "lr = 0.001\n",
    "sparse_optimizer_lr = 0.01\n",
    "weight_decay = 0.\n",
    "\n",
    "# model architecture:\n",
    "hidden_size = 32\n",
    "fanout = [20,20,20]\n",
    "dropout = 0.0\n",
    "num_bases = -1\n",
    "num_layers = 3\n",
    "use_self_loop = False"
   ]
  },
  {
   "cell_type": "code",
   "execution_count": 8,
   "metadata": {},
   "outputs": [],
   "source": [
    "# load the constructed graph data\n",
    "train_data = GSgnnNodeTrainData(\n",
    "    graph_name=graph_name,\n",
    "    part_config=graph_config,\n",
    "    train_ntypes=target_ntype,\n",
    "    eval_ntypes=target_ntype,\n",
    "    node_feat_field=node_feat_name,\n",
    "    label_field=label_field)"
   ]
  },
  {
   "cell_type": "code",
   "execution_count": 9,
   "metadata": {},
   "outputs": [
    {
     "name": "stdout",
     "output_type": "stream",
     "text": [
      "Number of nodes:\n",
      "- node: 1049163\n",
      "- super: 41127\n",
      "Number of edges:\n",
      "- to: 2259376\n",
      "- to_super: 1049163\n"
     ]
    }
   ],
   "source": [
    "# train_data.g stores a DistGraph object\n",
    "print('Number of nodes:')\n",
    "for ntype in train_data.g.ntypes:\n",
    "    print(f'- {ntype}: {train_data.g.num_nodes(ntype)}')\n",
    "print('Number of edges:')\n",
    "for etype in train_data.g.etypes:\n",
    "    print(f'- {etype}: {train_data.g.num_edges(etype)}')"
   ]
  },
  {
   "cell_type": "code",
   "execution_count": 10,
   "metadata": {},
   "outputs": [],
   "source": [
    "# set up data loaders\n",
    "dataloader = GSgnnNodeDataLoader(\n",
    "    train_data, train_data.train_idxs, fanout=fanout,\n",
    "    batch_size=batch_size,\n",
    "    device=device, train_task=True)\n",
    "\n",
    "val_dataloader = GSgnnNodeDataLoader(\n",
    "    train_data, train_data.val_idxs, fanout=fanout,\n",
    "    batch_size=batch_size,\n",
    "    device=device, train_task=False)\n",
    "\n",
    "test_dataloader = GSgnnNodeDataLoader(\n",
    "    train_data, train_data.test_idxs, fanout=fanout,\n",
    "    batch_size=batch_size,\n",
    "    device=device, train_task=False)"
   ]
  },
  {
   "attachments": {},
   "cell_type": "markdown",
   "metadata": {},
   "source": [
    "### Use the customized RGCN encoder\n",
    "\n",
    "A GSF model should contain the following components: \n",
    "- Input encoder for nodes (and optionally edges): process and project input features and embeddings into a certain dimension\n",
    "- GNN encoder: performs message-passing on projected node/edge inputs, which is replaced with our customized RGCN encoder\n",
    "- Decoder: specific for tasks on the graph\n",
    "\n",
    "In the following codes, we set up a `GSgnnNodeModel` model composed of `GSNodeEncoderInputLayer`, `GCNEncoder4GC`, `EntityClassifier` step-by-step.\n",
    "\n",
    "Users can try out your own components to replace these modules."
   ]
  },
  {
   "cell_type": "code",
   "execution_count": 11,
   "metadata": {},
   "outputs": [
    {
     "name": "stdout",
     "output_type": "stream",
     "text": [
      "Input output dims: 32\n",
      "Base encoder input dims: 32\n"
     ]
    },
    {
     "data": {
      "text/plain": [
       "GSgnnNodeModel(\n",
       "  (_node_input_encoder): GSNodeEncoderInputLayer(\n",
       "    (dropout): Dropout(p=0.0, inplace=False)\n",
       "    (proj_matrix): ParameterDict()\n",
       "    (input_projs): ParameterDict(\n",
       "        (node): Parameter containing: [torch.FloatTensor of size 9x32]\n",
       "        (super): Parameter containing: [torch.FloatTensor of size 16x32]\n",
       "    )\n",
       "    (ngnn_mlp): ModuleDict(\n",
       "      (node): NGNNMLP(\n",
       "        (dropout): Dropout(p=0.0, inplace=False)\n",
       "        (ngnn_gnn): ParameterList()\n",
       "      )\n",
       "      (super): NGNNMLP(\n",
       "        (dropout): Dropout(p=0.0, inplace=False)\n",
       "        (ngnn_gnn): ParameterList()\n",
       "      )\n",
       "    )\n",
       "  )\n",
       "  (_gnn_encoder): GCNEncoder4GC(\n",
       "    (_layers): ModuleList()\n",
       "    (base_encoder): RelationalGCNEncoder(\n",
       "      (_layers): ModuleList(\n",
       "        (0-3): 4 x RelGraphConvLayer(\n",
       "          (conv): HeteroGraphConv(\n",
       "            (mods): ModuleDict(\n",
       "              (('node', 'to', 'node')): GraphConv(in=32, out=32, normalization=right, activation=None)\n",
       "              (('node', 'to_super', 'super')): GraphConv(in=32, out=32, normalization=right, activation=None)\n",
       "            )\n",
       "          )\n",
       "          (ngnn_mlp): NGNNMLP(\n",
       "            (dropout): Dropout(p=0.0, inplace=False)\n",
       "            (ngnn_gnn): ParameterList()\n",
       "          )\n",
       "          (dropout): Dropout(p=0.0, inplace=False)\n",
       "        )\n",
       "      )\n",
       "    )\n",
       "  )\n",
       "  (_decoder): EntityClassifier(\n",
       "    (dropout): Dropout(p=0, inplace=False)\n",
       "  )\n",
       "  (_loss_fn): ClassifyLossFunc(\n",
       "    (loss_fn): CrossEntropyLoss()\n",
       "  )\n",
       ")"
      ]
     },
     "execution_count": 11,
     "metadata": {},
     "output_type": "execute_result"
    }
   ],
   "source": [
    "# create a gsf model\n",
    "model = GSgnnNodeModel(alpha_l2norm=0.)\n",
    "\n",
    "# set input layer encoder\n",
    "encoder = GSNodeEncoderInputLayer(\n",
    "    train_data.g,\n",
    "    feat_sizes,\n",
    "    hidden_size,\n",
    "    dropout=dropout,\n",
    "    activation=None)\n",
    "print(f'Input output dims: {encoder.out_dims}')\n",
    "model.set_node_input_encoder(encoder)\n",
    "\n",
    "# set base gcn encoder\n",
    "gnn_encoder = RelationalGCNEncoder(\n",
    "    train_data.g,\n",
    "    hidden_size,\n",
    "    hidden_size,\n",
    "    num_bases,\n",
    "    num_hidden_layers=num_layers,\n",
    "    dropout=dropout,\n",
    "    use_self_loop=use_self_loop)\n",
    "print(f'Base encoder input dims: {gnn_encoder.in_dims}')\n",
    "# wrap base gcn encoder into GCNEncoder4GC\n",
    "gc_encoder = GCNEncoder4GC(hidden_size,\n",
    "                           hidden_size,\n",
    "                           gnn_encoder,\n",
    "                           read_out_opt='last_only',\n",
    "                           super_ntype='super')\n",
    "model.set_gnn_encoder(gc_encoder)\n",
    "\n",
    "# set decoder specific to node-classification task\n",
    "model.set_decoder(EntityClassifier(\n",
    "    model.node_input_encoder.out_dims,\n",
    "    num_classes, \n",
    "    multilabel))\n",
    "# classification loss function\n",
    "model.set_loss_func(ClassifyLossFunc(multilabel))\n",
    "\n",
    "model.init_optimizer(\n",
    "    lr=lr, \n",
    "    sparse_optimizer_lr=sparse_optimizer_lr,\n",
    "    weight_decay=weight_decay\n",
    "    )\n",
    "\n",
    "model"
   ]
  },
  {
   "attachments": {},
   "cell_type": "markdown",
   "metadata": {},
   "source": [
    "### 3. Create a graphstorm trainer and train the model\n",
    "The trainers is task-specific in graphstorm. It handles:\n",
    "1. model training/evaluation loops\n",
    "2. saving and restoring model checkpoints\n",
    "3. early-stopping\n",
    "\n",
    "The OGBG leaderboard uses `roc_auc` as the evaluation metric for the molhiv data because its labels are extremely unbalanced. Therefore, here we set the evaluator's `eval_metric` to be `roc_auc`. But due to a GraphStorm bug that fails to evaluate `f` and `auc` when handles binary classification, users need to modify the line 299 in `graphstorm/python/graphstorm/eval/eval_func.py` like the followings:\n",
    "\n",
    "``` python\n",
    "    try:\n",
    "        if y_pred.shape[1] == 2:\n",
    "            auc_score = roc_auc_score(y_true, y_pred[:, 1], sample_weight=weights, multi_class='ovr')\n",
    "        else:\n",
    "            auc_score = roc_auc_score(y_true, y_pred, sample_weight=weights, multi_class='ovr')\n",
    "    except ValueError as e:\n",
    "        logging.error(\"Failure found during evaluation of the auc metric returning -1: %s\", str(e))\n",
    "    return auc_score\n",
    "```"
   ]
  },
  {
   "cell_type": "code",
   "execution_count": 12,
   "metadata": {},
   "outputs": [],
   "source": [
    "# create a trainer for the model\n",
    "trainer = GSgnnNodePredictionTrainer(\n",
    "    model, \n",
    "    topk_model_to_save=1)\n",
    "\n",
    "# set up device for the trainer\n",
    "trainer.setup_device(device=device)\n",
    "\n",
    "# set up evaluator for the trainer:\n",
    "evaluator = GSgnnAccEvaluator(\n",
    "    eval_frequency=5,\n",
    "    eval_metric=['roc_auc'],\n",
    "    multilabel=multilabel)\n",
    "\n",
    "trainer.setup_evaluator(evaluator)"
   ]
  },
  {
   "cell_type": "code",
   "execution_count": 13,
   "metadata": {
    "scrolled": true
   },
   "outputs": [
    {
     "name": "stderr",
     "output_type": "stream",
     "text": [
      "/home/ubuntu/anaconda3/envs/gsf/lib/python3.9/site-packages/dgl/backend/pytorch/tensor.py:445: UserWarning: TypedStorage is deprecated. It will be removed in the future and UntypedStorage will be the only storage class. This should only matter to you if you are using storages directly.  To access UntypedStorage directly, use tensor.untyped_storage() instead of tensor.storage()\n",
      "  assert input.numel() == input.storage().size(), (\n",
      "WARNING:root:{'roc_auc'} requires return_proba==True.                 Set return_proba to True.\n",
      "WARNING:root:{'roc_auc'} requires return_proba==True.                 Set return_proba to True.\n",
      "WARNING:root:{'roc_auc'} requires return_proba==True.                 Set return_proba to True.\n",
      "WARNING:root:{'roc_auc'} requires return_proba==True.                 Set return_proba to True.\n",
      "WARNING:root:{'roc_auc'} requires return_proba==True.                 Set return_proba to True.\n",
      "WARNING:root:{'roc_auc'} requires return_proba==True.                 Set return_proba to True.\n",
      "WARNING:root:{'roc_auc'} requires return_proba==True.                 Set return_proba to True.\n",
      "WARNING:root:{'roc_auc'} requires return_proba==True.                 Set return_proba to True.\n",
      "WARNING:root:{'roc_auc'} requires return_proba==True.                 Set return_proba to True.\n",
      "WARNING:root:{'roc_auc'} requires return_proba==True.                 Set return_proba to True.\n",
      "WARNING:root:{'roc_auc'} requires return_proba==True.                 Set return_proba to True.\n",
      "WARNING:root:{'roc_auc'} requires return_proba==True.                 Set return_proba to True.\n",
      "WARNING:root:{'roc_auc'} requires return_proba==True.                 Set return_proba to True.\n",
      "WARNING:root:{'roc_auc'} requires return_proba==True.                 Set return_proba to True.\n",
      "WARNING:root:{'roc_auc'} requires return_proba==True.                 Set return_proba to True.\n",
      "WARNING:root:{'roc_auc'} requires return_proba==True.                 Set return_proba to True.\n",
      "WARNING:root:{'roc_auc'} requires return_proba==True.                 Set return_proba to True.\n",
      "WARNING:root:{'roc_auc'} requires return_proba==True.                 Set return_proba to True.\n",
      "WARNING:root:{'roc_auc'} requires return_proba==True.                 Set return_proba to True.\n",
      "WARNING:root:{'roc_auc'} requires return_proba==True.                 Set return_proba to True.\n",
      "WARNING:root:{'roc_auc'} requires return_proba==True.                 Set return_proba to True.\n",
      "WARNING:root:{'roc_auc'} requires return_proba==True.                 Set return_proba to True.\n",
      "WARNING:root:{'roc_auc'} requires return_proba==True.                 Set return_proba to True.\n",
      "WARNING:root:{'roc_auc'} requires return_proba==True.                 Set return_proba to True.\n",
      "WARNING:root:{'roc_auc'} requires return_proba==True.                 Set return_proba to True.\n",
      "WARNING:root:{'roc_auc'} requires return_proba==True.                 Set return_proba to True.\n",
      "WARNING:root:{'roc_auc'} requires return_proba==True.                 Set return_proba to True.\n",
      "WARNING:root:{'roc_auc'} requires return_proba==True.                 Set return_proba to True.\n",
      "WARNING:root:{'roc_auc'} requires return_proba==True.                 Set return_proba to True.\n",
      "WARNING:root:{'roc_auc'} requires return_proba==True.                 Set return_proba to True.\n",
      "WARNING:root:{'roc_auc'} requires return_proba==True.                 Set return_proba to True.\n",
      "WARNING:root:{'roc_auc'} requires return_proba==True.                 Set return_proba to True.\n",
      "WARNING:root:{'roc_auc'} requires return_proba==True.                 Set return_proba to True.\n",
      "WARNING:root:{'roc_auc'} requires return_proba==True.                 Set return_proba to True.\n",
      "WARNING:root:{'roc_auc'} requires return_proba==True.                 Set return_proba to True.\n",
      "WARNING:root:{'roc_auc'} requires return_proba==True.                 Set return_proba to True.\n",
      "WARNING:root:{'roc_auc'} requires return_proba==True.                 Set return_proba to True.\n",
      "WARNING:root:{'roc_auc'} requires return_proba==True.                 Set return_proba to True.\n",
      "WARNING:root:{'roc_auc'} requires return_proba==True.                 Set return_proba to True.\n",
      "WARNING:root:{'roc_auc'} requires return_proba==True.                 Set return_proba to True.\n",
      "WARNING:root:{'roc_auc'} requires return_proba==True.                 Set return_proba to True.\n",
      "WARNING:root:{'roc_auc'} requires return_proba==True.                 Set return_proba to True.\n",
      "WARNING:root:{'roc_auc'} requires return_proba==True.                 Set return_proba to True.\n",
      "WARNING:root:{'roc_auc'} requires return_proba==True.                 Set return_proba to True.\n",
      "WARNING:root:{'roc_auc'} requires return_proba==True.                 Set return_proba to True.\n",
      "WARNING:root:{'roc_auc'} requires return_proba==True.                 Set return_proba to True.\n",
      "WARNING:root:{'roc_auc'} requires return_proba==True.                 Set return_proba to True.\n",
      "WARNING:root:{'roc_auc'} requires return_proba==True.                 Set return_proba to True.\n",
      "WARNING:root:{'roc_auc'} requires return_proba==True.                 Set return_proba to True.\n",
      "WARNING:root:{'roc_auc'} requires return_proba==True.                 Set return_proba to True.\n",
      "WARNING:root:{'roc_auc'} requires return_proba==True.                 Set return_proba to True.\n",
      "WARNING:root:{'roc_auc'} requires return_proba==True.                 Set return_proba to True.\n",
      "WARNING:root:{'roc_auc'} requires return_proba==True.                 Set return_proba to True.\n",
      "WARNING:root:{'roc_auc'} requires return_proba==True.                 Set return_proba to True.\n",
      "WARNING:root:{'roc_auc'} requires return_proba==True.                 Set return_proba to True.\n",
      "WARNING:root:{'roc_auc'} requires return_proba==True.                 Set return_proba to True.\n",
      "WARNING:root:{'roc_auc'} requires return_proba==True.                 Set return_proba to True.\n",
      "WARNING:root:{'roc_auc'} requires return_proba==True.                 Set return_proba to True.\n",
      "WARNING:root:{'roc_auc'} requires return_proba==True.                 Set return_proba to True.\n",
      "WARNING:root:{'roc_auc'} requires return_proba==True.                 Set return_proba to True.\n",
      "WARNING:root:{'roc_auc'} requires return_proba==True.                 Set return_proba to True.\n",
      "WARNING:root:{'roc_auc'} requires return_proba==True.                 Set return_proba to True.\n",
      "WARNING:root:{'roc_auc'} requires return_proba==True.                 Set return_proba to True.\n",
      "WARNING:root:{'roc_auc'} requires return_proba==True.                 Set return_proba to True.\n",
      "WARNING:root:{'roc_auc'} requires return_proba==True.                 Set return_proba to True.\n",
      "WARNING:root:{'roc_auc'} requires return_proba==True.                 Set return_proba to True.\n",
      "WARNING:root:{'roc_auc'} requires return_proba==True.                 Set return_proba to True.\n",
      "WARNING:root:{'roc_auc'} requires return_proba==True.                 Set return_proba to True.\n",
      "WARNING:root:{'roc_auc'} requires return_proba==True.                 Set return_proba to True.\n",
      "WARNING:root:{'roc_auc'} requires return_proba==True.                 Set return_proba to True.\n",
      "WARNING:root:{'roc_auc'} requires return_proba==True.                 Set return_proba to True.\n",
      "WARNING:root:{'roc_auc'} requires return_proba==True.                 Set return_proba to True.\n",
      "WARNING:root:{'roc_auc'} requires return_proba==True.                 Set return_proba to True.\n",
      "WARNING:root:{'roc_auc'} requires return_proba==True.                 Set return_proba to True.\n",
      "WARNING:root:{'roc_auc'} requires return_proba==True.                 Set return_proba to True.\n",
      "WARNING:root:{'roc_auc'} requires return_proba==True.                 Set return_proba to True.\n",
      "WARNING:root:{'roc_auc'} requires return_proba==True.                 Set return_proba to True.\n",
      "WARNING:root:{'roc_auc'} requires return_proba==True.                 Set return_proba to True.\n",
      "WARNING:root:{'roc_auc'} requires return_proba==True.                 Set return_proba to True.\n",
      "WARNING:root:{'roc_auc'} requires return_proba==True.                 Set return_proba to True.\n",
      "WARNING:root:{'roc_auc'} requires return_proba==True.                 Set return_proba to True.\n",
      "WARNING:root:{'roc_auc'} requires return_proba==True.                 Set return_proba to True.\n",
      "WARNING:root:{'roc_auc'} requires return_proba==True.                 Set return_proba to True.\n",
      "WARNING:root:{'roc_auc'} requires return_proba==True.                 Set return_proba to True.\n",
      "WARNING:root:{'roc_auc'} requires return_proba==True.                 Set return_proba to True.\n",
      "WARNING:root:{'roc_auc'} requires return_proba==True.                 Set return_proba to True.\n",
      "WARNING:root:{'roc_auc'} requires return_proba==True.                 Set return_proba to True.\n",
      "WARNING:root:{'roc_auc'} requires return_proba==True.                 Set return_proba to True.\n",
      "WARNING:root:{'roc_auc'} requires return_proba==True.                 Set return_proba to True.\n",
      "WARNING:root:{'roc_auc'} requires return_proba==True.                 Set return_proba to True.\n",
      "WARNING:root:{'roc_auc'} requires return_proba==True.                 Set return_proba to True.\n",
      "WARNING:root:{'roc_auc'} requires return_proba==True.                 Set return_proba to True.\n",
      "WARNING:root:{'roc_auc'} requires return_proba==True.                 Set return_proba to True.\n",
      "WARNING:root:{'roc_auc'} requires return_proba==True.                 Set return_proba to True.\n",
      "WARNING:root:{'roc_auc'} requires return_proba==True.                 Set return_proba to True.\n",
      "WARNING:root:{'roc_auc'} requires return_proba==True.                 Set return_proba to True.\n",
      "WARNING:root:{'roc_auc'} requires return_proba==True.                 Set return_proba to True.\n",
      "WARNING:root:{'roc_auc'} requires return_proba==True.                 Set return_proba to True.\n",
      "WARNING:root:{'roc_auc'} requires return_proba==True.                 Set return_proba to True.\n",
      "WARNING:root:{'roc_auc'} requires return_proba==True.                 Set return_proba to True.\n",
      "WARNING:root:{'roc_auc'} requires return_proba==True.                 Set return_proba to True.\n",
      "WARNING:root:{'roc_auc'} requires return_proba==True.                 Set return_proba to True.\n",
      "WARNING:root:{'roc_auc'} requires return_proba==True.                 Set return_proba to True.\n",
      "WARNING:root:{'roc_auc'} requires return_proba==True.                 Set return_proba to True.\n",
      "WARNING:root:{'roc_auc'} requires return_proba==True.                 Set return_proba to True.\n",
      "WARNING:root:{'roc_auc'} requires return_proba==True.                 Set return_proba to True.\n",
      "WARNING:root:{'roc_auc'} requires return_proba==True.                 Set return_proba to True.\n",
      "WARNING:root:{'roc_auc'} requires return_proba==True.                 Set return_proba to True.\n",
      "WARNING:root:{'roc_auc'} requires return_proba==True.                 Set return_proba to True.\n",
      "WARNING:root:{'roc_auc'} requires return_proba==True.                 Set return_proba to True.\n",
      "WARNING:root:{'roc_auc'} requires return_proba==True.                 Set return_proba to True.\n",
      "WARNING:root:{'roc_auc'} requires return_proba==True.                 Set return_proba to True.\n",
      "WARNING:root:{'roc_auc'} requires return_proba==True.                 Set return_proba to True.\n",
      "WARNING:root:{'roc_auc'} requires return_proba==True.                 Set return_proba to True.\n",
      "WARNING:root:{'roc_auc'} requires return_proba==True.                 Set return_proba to True.\n",
      "WARNING:root:{'roc_auc'} requires return_proba==True.                 Set return_proba to True.\n",
      "WARNING:root:{'roc_auc'} requires return_proba==True.                 Set return_proba to True.\n",
      "WARNING:root:{'roc_auc'} requires return_proba==True.                 Set return_proba to True.\n",
      "WARNING:root:{'roc_auc'} requires return_proba==True.                 Set return_proba to True.\n",
      "WARNING:root:{'roc_auc'} requires return_proba==True.                 Set return_proba to True.\n",
      "WARNING:root:{'roc_auc'} requires return_proba==True.                 Set return_proba to True.\n",
      "WARNING:root:{'roc_auc'} requires return_proba==True.                 Set return_proba to True.\n",
      "WARNING:root:{'roc_auc'} requires return_proba==True.                 Set return_proba to True.\n",
      "WARNING:root:{'roc_auc'} requires return_proba==True.                 Set return_proba to True.\n",
      "WARNING:root:{'roc_auc'} requires return_proba==True.                 Set return_proba to True.\n",
      "WARNING:root:{'roc_auc'} requires return_proba==True.                 Set return_proba to True.\n",
      "WARNING:root:{'roc_auc'} requires return_proba==True.                 Set return_proba to True.\n",
      "WARNING:root:{'roc_auc'} requires return_proba==True.                 Set return_proba to True.\n",
      "WARNING:root:{'roc_auc'} requires return_proba==True.                 Set return_proba to True.\n",
      "WARNING:root:{'roc_auc'} requires return_proba==True.                 Set return_proba to True.\n",
      "WARNING:root:{'roc_auc'} requires return_proba==True.                 Set return_proba to True.\n",
      "WARNING:root:{'roc_auc'} requires return_proba==True.                 Set return_proba to True.\n",
      "WARNING:root:{'roc_auc'} requires return_proba==True.                 Set return_proba to True.\n",
      "WARNING:root:{'roc_auc'} requires return_proba==True.                 Set return_proba to True.\n"
     ]
    }
   ],
   "source": [
    "# Train the model with the trainer\n",
    "trainer.fit(\n",
    "    train_loader=dataloader, \n",
    "    val_loader=val_dataloader,\n",
    "    test_loader=test_dataloader, \n",
    "    num_epochs=5,\n",
    "    save_model_path='nc_model/',\n",
    ")"
   ]
  },
  {
   "attachments": {},
   "cell_type": "markdown",
   "metadata": {},
   "source": [
    "Next, we examine the model performance over the training process"
   ]
  },
  {
   "cell_type": "code",
   "execution_count": 14,
   "metadata": {},
   "outputs": [],
   "source": [
    "# Extract accuracies from the trainer's evaluator:\n",
    "val_accs, test_accs = [], []\n",
    "for val_acc, test_acc in trainer.evaluator.history:\n",
    "    val_accs.append(val_acc['roc_auc'])\n",
    "    test_accs.append(test_acc['roc_auc'])"
   ]
  },
  {
   "cell_type": "code",
   "execution_count": 15,
   "metadata": {},
   "outputs": [
    {
     "data": {
      "image/png": "[encoded data removed]",
      "text/plain": [
       "<Figure size 1500x1000 with 1 Axes>"
      ]
     },
     "metadata": {},
     "output_type": "display_data"
    }
   ],
   "source": [
    "import matplotlib.pyplot as plt\n",
    "\n",
    "# plot the learning curves\n",
    "fig, ax = plt.subplots(figsize=(15, 10))\n",
    "ax.plot(val_accs, label='val')\n",
    "ax.plot(test_accs, label='test')\n",
    "ax.set(xlabel='Eval Times', ylabel='ROC_AUC')\n",
    "ax.legend(loc='best');"
   ]
  },
  {
   "cell_type": "code",
   "execution_count": 16,
   "metadata": {},
   "outputs": [
    {
     "name": "stdout",
     "output_type": "stream",
     "text": [
      "Best model checkpoint: nc_model/epoch-2\n"
     ]
    }
   ],
   "source": [
    "# after training, the best model is saved to disk:\n",
    "best_model_path = trainer.get_best_model_path()\n",
    "print('Best model checkpoint:', best_model_path)"
   ]
  },
  {
   "cell_type": "code",
   "execution_count": 17,
   "metadata": {},
   "outputs": [
    {
     "name": "stdout",
     "output_type": "stream",
     "text": [
      "total 128\n",
      "44 -rw-rw-r-- 1 ubuntu ubuntu 42391 Jan  8 21:34 model.bin\n",
      "84 -rw-rw-r-- 1 ubuntu ubuntu 82914 Jan  8 21:34 optimizers.bin\n"
     ]
    }
   ],
   "source": [
    "# check the saved artifacts\n",
    "!ls -ls {best_model_path}"
   ]
  },
  {
   "attachments": {},
   "cell_type": "markdown",
   "metadata": {},
   "source": [
    "### 3. Inference with the trained model"
   ]
  },
  {
   "cell_type": "code",
   "execution_count": 18,
   "metadata": {},
   "outputs": [],
   "source": [
    "# we can restore the model from the checkpoint:\n",
    "model.restore_model(best_model_path)"
   ]
  },
  {
   "cell_type": "code",
   "execution_count": 19,
   "metadata": {},
   "outputs": [],
   "source": [
    "# Create a dataset for inference, we use the same MovieLens graph\n",
    "infer_data = GSgnnNodeInferData(\n",
    "    graph_name, \n",
    "    graph_config,\n",
    "    eval_ntypes=target_ntype,\n",
    "    node_feat_field=node_feat_name,\n",
    "    label_field=label_field)\n",
    "\n",
    "# Set up dataloader for the inference dataset\n",
    "infer_dataloader = GSgnnNodeDataLoader(\n",
    "    infer_data, infer_data.test_idxs, fanout=fanout, \n",
    "    batch_size=100, device=device,\n",
    "    train_task=False)\n",
    "\n",
    "\n",
    "# Create an Inferrer object\n",
    "infer = GSgnnNodePredictionInferrer(model)\n",
    "infer.setup_device(device=device)\n",
    "infer.setup_evaluator(evaluator)\n"
   ]
  },
  {
   "cell_type": "code",
   "execution_count": 20,
   "metadata": {},
   "outputs": [],
   "source": [
    "# Run inference on the inference dataset\n",
    "infer.infer(infer_dataloader, \n",
    "            save_embed_path=os.path.join(best_model_path, 'infer/embeddings'),\n",
    "            save_prediction_path=os.path.join(best_model_path, 'infer/predictions'),\n",
    "            use_mini_batch_infer=True)"
   ]
  },
  {
   "cell_type": "code",
   "execution_count": 21,
   "metadata": {},
   "outputs": [
    {
     "name": "stdout",
     "output_type": "stream",
     "text": [
      "total 8.0K\n",
      "-rw-rw-r-- 1 ubuntu ubuntu   89 Jan  8 21:35 emb_info.json\n",
      "drwxrwxr-x 2 ubuntu ubuntu 4.0K Jan  8 21:35 super\n"
     ]
    }
   ],
   "source": [
    "# The GNN embeddings on the inference graph are saved to:\n",
    "!ls -lh {best_model_path}/infer/embeddings"
   ]
  },
  {
   "cell_type": "code",
   "execution_count": 22,
   "metadata": {},
   "outputs": [
    {
     "name": "stdout",
     "output_type": "stream",
     "text": [
      "total 8.0K\n",
      "-rw-rw-r-- 1 ubuntu ubuntu   87 Jan  8 21:35 result_info.json\n",
      "drwxrw-rwx 2 ubuntu ubuntu 4.0K Jan  8 21:35 super\n"
     ]
    }
   ],
   "source": [
    "!ls -lh {best_model_path}/infer/predictions"
   ]
  },
  {
   "cell_type": "code",
   "execution_count": null,
   "metadata": {},
   "outputs": [],
   "source": []
  }
 ],
 "metadata": {
  "kernelspec": {
   "display_name": "Python 3 (ipykernel)",
   "language": "python",
   "name": "python3"
  },
  "language_info": {
   "codemirror_mode": {
    "name": "ipython",
    "version": 3
   },
   "file_extension": ".py",
   "mimetype": "text/x-python",
   "name": "python",
   "nbconvert_exporter": "python",
   "pygments_lexer": "ipython3",
   "version": "3.10.14"
  }
 },
 "nbformat": 4,
 "nbformat_minor": 4
}
