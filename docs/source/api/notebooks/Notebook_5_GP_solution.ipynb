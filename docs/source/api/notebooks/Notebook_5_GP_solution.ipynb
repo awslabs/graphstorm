{
 "cells": [
  {
   "cell_type": "markdown",
   "metadata": {
    "tags": []
   },
   "source": [
    "# Notebook 5: Use GraphStorm APIs for a Customized Model to Perform Graph Prediction\n",
    "\n",
    "Graph prediction, such as graph classification or graph regression, is a common task in Graph Machine Learning (GML) across various domains, including life sciences and chemistry. In graph prediction, the entire graph data is typically organized as a batch of subgraphs, where each subgraph's nodes have edges only within the subgraph and no edges connecting to nodes in other subgraphs. GML labels are linked to these subgraphs. Once trained, GML models can make predictions on new and unseen subgraphs.\n",
    "\n",
    "A typical operation used in graph prediction is called `Read-out`, which aggregates the representations of nodes in a subgraph to form one representation for the subgraph. The outputs of the `Read-out` can then be used to make predictions downstream, acting as a single representation of the entire subgraph.\n",
    "\n",
    "<img src=\"../../../../tutorial/GP_readout.png\" style=\"margin:auto\" width=\"400\"/>\n",
    "\n",
    "The current version of GraphStorm can not directly perform graph prediction. But as GraphStorm supports node-level prediction, we can use a method called `supernode` to perform graph-level predictions.\n",
    "\n",
    "----"
   ]
  },
  {
   "cell_type": "markdown",
   "metadata": {},
   "source": [
    "## `super-node` Method Explanation\n",
    "\n",
    "Instead of using the `Read-out` operation, we add a new node, called **super node**, to each subgraph, and link all original nodes of the subgraph to it, but not adding reversed edges. With these inbound edges, representations of all original nodes in a subgraph could be easily aggregated to the **super node**. We can then use the **super node** as the representation of this subgraph to perform graph-level prediction tasks. The `super-node` method helps us to turn a graph prediction task into a node prediction task.\n",
    "\n",
    "<img src=\"../../../../tutorial/GP_supernode.png\" style=\"margin:auto\" width=\"300\"/>\n",
    "\n",
    "----"
   ]
  },
  {
   "cell_type": "markdown",
   "metadata": {},
   "source": [
    "## Implementation Ideas\n",
    "\n",
    "In order to use the `super-node` method in GraphStorm, we need to implement two extra functions.\n",
    "\n",
    "- **Raw Graph Data Conversion**: \n",
    "    Add a super node to each subgraph in the original batch of subgraphs, and store all of them as one heterogenous graph ready for GraphStorm's graph construction CLIs. After be constructed into GraphStorm's distributed graph format, we can use all GraphStorm's built-in GNN model to perform the `super-node` prediction.\n",
    "- **Customized GNN Encoder** (Optional):\n",
    "    Create a customized GNN encoder for specific aggregation method for **super nodes**. This is an optional function as all built-in GraphStorm GNN encoders can aggregate and generate embeddings for **super nodes** naturally. But creating a customized GNN encoder could have fine-granular control of aggregation methods, which might minic the `Read-out` method.\n",
    "\n",
    "This notebook will demonstrate the `super-node` method by using GraphStorm APIs and other libraries to implement both functions. This notebook serves as an example of a Graph Classification Solution using GrahpStorm APIs. Users can modify the customer GNN model and implement their own version."
   ]
  },
  {
   "cell_type": "markdown",
   "metadata": {},
   "source": [
    "-----\n",
    "\n",
    "## Prerequisites\n",
    "This notebook assumes the following:\n",
    "- Python 3;\n",
    "- Linux OS, Ubuntu or Amazon Linux;\n",
    "- GraphStorm and its dependencies (following the [Setup GraphStorm with pip packages tutorial](https://graphstorm.readthedocs.io/en/latest/install/env-setup.html#setup-graphstorm-with-pip-packages))\n",
    "- [Jupyter web interactive server](https://jupyter.org/)."
   ]
  },
  {
   "cell_type": "markdown",
   "metadata": {},
   "source": [
    "---\n",
    "\n",
    "## 1. Raw Graph Data Conversion\n",
    "\n",
    "Converting the raw graph prediction dataset into `super-node` format for GraphStorm could be illustrated as the diagram below.\n",
    "\n",
    "<img src=\"../../../../tutorial/GP_data_conversion.png\" style=\"margin:auto\" width=\"750\"/>\n",
    "\n",
    "In this notebook, we use the [OGBG Molhiv Data](https://ogb.stanford.edu/docs/graphprop/#ogbg-mol), which is a popular graph property prediction dataset. \n",
    "Due to the large number of lines of code, we will not show the actual raw graph data conversion code in this notebook. Users can find the [souce code of OGBG data conversion](https://github.com/awslabs/graphstorm/blob/main/examples/graph_prediction/gen_ogbg_supernode.py) in GraphStorm's [graph prediction example folder](https://github.com/awslabs/graphstorm/blob/main/examples/graph_prediction/).\n",
    "\n",
    "<div class=\"alert alert-block alert-info\">\n",
    "<b>Tip:</b> We also provide a Python script to generate synthetic supernode-based graph data for user to better understand the `super-node` grahp data format, which is avaible <a href=\"https://github.com/awslabs/graphstorm/blob/main/docs/source/api/notebooks/dummy_gc_data.py\"><u>here</u></a>.</div>\n"
   ]
  },
  {
   "cell_type": "markdown",
   "metadata": {},
   "source": [
    "We can download the source code of the OGBG conversion and generate the `super-node` format OGBG data with the following commands.\n"
   ]
  },
  {
   "cell_type": "code",
   "execution_count": 1,
   "metadata": {
    "tags": []
   },
   "outputs": [],
   "source": [
    "!wget -c https://raw.githubusercontent.com/awslabs/graphstorm/main/examples/graph_prediction/gen_ogbg_supernode.py\n",
    "\n",
    "!python gen_ogbg_supernode.py --ogbg-data-name molhiv --output-path ./supernode_raw/"
   ]
  },
  {
   "cell_type": "markdown",
   "metadata": {},
   "source": [
    "The converted OGBG data will be stored at `./supernode_raw/`. Then we can run GraphStorm's gconstruct command to partition the graph for model training and inference. The processed graph is stored in the `/supernode_gs_1p/` folder."
   ]
  },
  {
   "cell_type": "code",
   "execution_count": 4,
   "metadata": {
    "tags": []
   },
   "outputs": [],
   "source": [
    "!python -m graphstorm.gconstruct.construct_graph \\\n",
    "        --conf-file ./supernode_raw/config.json \\\n",
    "        --output-dir ./supernode_gs_1p/ \\\n",
    "        --num-parts 1 \\\n",
    "        --graph-name supernode_molhiv"
   ]
  },
  {
   "cell_type": "markdown",
   "metadata": {},
   "source": [
    "<div class=\"alert alert-block alert-warning\">\n",
    "<b>Tip:</b> If the above Python commands fail to run in a Notebook, please run it in a Linux terminal environment where GraphStorm is install.</div>"
   ]
  },
  {
   "cell_type": "markdown",
   "metadata": {},
   "source": [
    "## 2. Customized GNN Encoder for Graph Prediction\n",
    "\n",
    "The key component of this `super-node` based solution is the GNN model that can perform message passing and aggregation in each subgraph, and then perform sorts of `Read-out` operation in the super nodes. This component could be easily implemented as a customized GraphStorm GNN Encoder like demonstrated in the [Notebook 4: Customized Models](https://graphstorm.readthedocs.io/en/latest/api/notebooks/Notebook_4_Customized_Models.html)\n",
    "\n",
    "As shown in the diagram below, a **super node** will aggregate the representations from other nodes in each GNN layer. Built-in GNN encoders will udpate the aggregated representations with an additional trainable parameters. This operation is different from the common `Read-out` operation, hence causing worse performance.\n",
    "\n",
    "<img src=\"../../../../tutorial/GP_layer_agg.png\" style=\"margin:auto\" width=\"350\"/>\n",
    "\n",
    "To mimic the `Read-out` operation, we can cache the aggregated representations, and clean the **super node**'s own representation to zeros after each GNN layer computation. Using this method, we can still leverage the built-in GraphStorm encoders, e.g., `RelationalGCNEncoder` and `RelationalGATEncoder`, but avoid the built-in self-update operation from one layer to another. In addition, we can design more flexible `Read-out` function on these cached representations, other than just use the last layer's aggregation presentations.\n",
    "\n",
    "The below `GPEncoder4SupernodeOgbg` class implements this cache representations mechanism, and provides a few options for the read-out function."
   ]
  },
  {
   "cell_type": "code",
   "execution_count": 2,
   "metadata": {
    "tags": []
   },
   "outputs": [
    {
     "name": "stderr",
     "output_type": "stream",
     "text": [
      "/home/ec2-user/anaconda3/envs/gsf/lib/python3.10/site-packages/tqdm/auto.py:21: TqdmWarning: IProgress not found. Please update jupyter and ipywidgets. See https://ipywidgets.readthedocs.io/en/stable/user_install.html\n",
      "  from .autonotebook import tqdm as notebook_tqdm\n",
      "/home/ec2-user/anaconda3/envs/gsf/lib/python3.10/site-packages/transformers/utils/generic.py:441: UserWarning: torch.utils._pytree._register_pytree_node is deprecated. Please use torch.utils._pytree.register_pytree_node instead.\n",
      "  _torch_pytree._register_pytree_node(\n",
      "/home/ec2-user/anaconda3/envs/gsf/lib/python3.10/site-packages/transformers/utils/generic.py:309: UserWarning: torch.utils._pytree._register_pytree_node is deprecated. Please use torch.utils._pytree.register_pytree_node instead.\n",
      "  _torch_pytree._register_pytree_node(\n"
     ]
    }
   ],
   "source": [
    "import torch as th\n",
    "from graphstorm.model import (GSgnnNodeModel,\n",
    "                              GSNodeEncoderInputLayer,\n",
    "                              RelationalGCNEncoder,\n",
    "                              RelationalGATEncoder,\n",
    "                              HGTEncoder,\n",
    "                              EntityClassifier,\n",
    "                              ClassifyLossFunc)\n",
    "from graphstorm.model.gnn_encoder_base import GraphConvEncoder\n",
    "\n",
    "class GPEncoder4SupernodeOgbg(GraphConvEncoder):\n",
    "    r\"\"\"A graph conv encoder for Graph Classification\n",
    "\n",
    "        Unique arguments in this class:\n",
    "        -------------------------------\n",
    "        base_encoder: GraphStorm ConvEncoder types, options:\n",
    "            1. `RelationalGCNEncoder`;\n",
    "            2. `RelationalGATEncoder`;\n",
    "            3. `HGTEncoder`.\n",
    "        read_out_opt: string in the following options:\n",
    "            The aggregation method for the cached supernodes' representations. The current options:\n",
    "            1. `last_only`: only use the last layer's representations. If use this option, \n",
    "               the read_out_ops will be ignored because there is only one layer representation\n",
    "               is involved in the final read_out.\n",
    "            2. `mean`: compute the mean of all of the cached supernode representations.\n",
    "            3. `sum`: compute the summantion of all of the cached supernode representations.\n",
    "            4. `weighted_sum`: use additional weight parameters to compute the weighted summation\n",
    "               all of the cached supernode representations.\n",
    "            5. `min`: compute the minimum in each dimension of the all of the cached supernode\n",
    "               representations.\n",
    "            6. `max`: compute the maximum in each dimension of the all of the cached supernode\n",
    "               representations.\n",
    "        super_ntype: string\n",
    "            The name of supernode type. Default is 'super'.\n",
    "\n",
    "    \"\"\"\n",
    "    def __init__(self,\n",
    "                 h_dim,\n",
    "                 out_dim,\n",
    "                 base_encoder,\n",
    "                 read_out_opt='last_only',\n",
    "                 super_ntype='super'\n",
    "                ):\n",
    "        assert isinstance(base_encoder, (RelationalGCNEncoder, RelationalGATEncoder, HGTEncoder)), \\\n",
    "               'Only support GraphStorm\\'s RelationalGCNEncoder, RelationalGATEncoder, and HGTEncoder'\n",
    "        assert base_encoder.num_layers >= 3, 'For Graph Prediction task, at least two layers GNN' + \\\n",
    "                                       f'encoder required, but got {num_hidden_layers} ...'\n",
    "        super(GPEncoder4SupernodeOgbg, self).__init__(h_dim, out_dim, base_encoder.num_layers)\n",
    "\n",
    "        assert read_out_opt in ['last_only', 'mean', 'sum', 'weighted_sum', 'min', 'max'], + \\\n",
    "                                f'Not recognized read_out_opt {read_out_opt}. Options include ' + \\\n",
    "                                '\\'last_only\\', \\'mean\\', \\'sum\\', \\'weighted_sum\\', \\'mim\\', ' + \\\n",
    "                                'and \\'max\\'.'\n",
    "        self.base_encoder = base_encoder\n",
    "        self.read_out_opt = read_out_opt\n",
    "        self.super_ntype = super_ntype\n",
    "        if read_out_opt=='weighted_sum':\n",
    "            self.weighted_sum_para = th.nn.Parameter(th.Tensor(1, num_hidden_layers))\n",
    "\n",
    "    def forward(self, blocks, h):\n",
    "\n",
    "        supernode_cache = []\n",
    "\n",
    "        # message passing in subgraphs and cache super-nodes representations\n",
    "        for layer, block in zip(self.base_encoder.layers, blocks):\n",
    "            h = layer(block, h)\n",
    "\n",
    "            # 1. cache the output of supernodes in each layer\n",
    "            supernode_cache.append(h[self.super_ntype])\n",
    "            # 2. zero out the representations of supernodes as the next layer input\n",
    "            h[self.super_ntype] = th.zeros_like(h[self.super_ntype])\n",
    "\n",
    "        # add final read_out functions.\n",
    "        supernode_cache = th.stack(supernode_cache)\n",
    "        output = self._read_out_ops(supernode_cache)\n",
    "\n",
    "        return {self.super_ntype: output}\n",
    "\n",
    "    def _read_out_ops(self, supernode_cache):\n",
    "        \"\"\" The supernode_cache shape L * N * D\n",
    "            The output shape N * D\n",
    "        \"\"\"\n",
    "        if self.read_out_opt=='last_only':\n",
    "            output = supernode_cache[-1]\n",
    "        elif self.read_out_opt=='mean':\n",
    "            output = th.mean(supernode_cache, dim=0)\n",
    "        elif self.read_out_opt=='sum':\n",
    "            output = th.sum(supernode_cache, dim=0)\n",
    "        elif self.read_out_opt=='weighted_sum':\n",
    "            output = th.einsum('ij, jkl->kl', self.weighted_sum_para, supernode_cache)\n",
    "\n",
    "        return output"
   ]
  },
  {
   "cell_type": "markdown",
   "metadata": {},
   "source": [
    "## 3. Training and Inference Pipeline\n",
    "\n",
    "With the customized encoder modified for graph prediction, we can reuse GraphStorm's end-to-end training and inference pipeline as the one in the [Notebook 1: Node Classification Pipeline](https://graphstorm.readthedocs.io/en/latest/api/notebooks/Notebook_1_NC_Pipeline.html) and \n",
    "[Notebook 2: Link Prediction Pipeline](https://graphstorm.readthedocs.io/en/latest/api/notebooks/Notebook_2_LP_Pipeline.html) to conduct the graph classification task on the converted `super-node` OGBG data."
   ]
  },
  {
   "cell_type": "code",
   "execution_count": 3,
   "metadata": {
    "tags": []
   },
   "outputs": [],
   "source": [
    "import logging\n",
    "logging.basicConfig(level=20)\n",
    "\n",
    "import graphstorm as gs\n",
    "gs.initialize()"
   ]
  },
  {
   "cell_type": "code",
   "execution_count": 6,
   "metadata": {
    "tags": []
   },
   "outputs": [
    {
     "name": "stderr",
     "output_type": "stream",
     "text": [
      "INFO:root:Start to load partition from ./supernode_gs_1p/part0/graph.dgl which is 110126629 bytes. It may take non-trivial time for large partition.\n",
      "INFO:root:Finished loading partition.\n",
      "INFO:root:Finished loading node data.\n",
      "INFO:root:Finished loading edge data.\n"
     ]
    }
   ],
   "source": [
    "ogbg_data = gs.dataloading.GSgnnData(part_config='./supernode_gs_1p/supernode_molhiv.json')"
   ]
  },
  {
   "cell_type": "code",
   "execution_count": 7,
   "metadata": {
    "tags": []
   },
   "outputs": [
    {
     "name": "stderr",
     "output_type": "stream",
     "text": [
      "INFO:root:part 0, train 32901\n",
      "INFO:root:part 0, val 4113\n",
      "INFO:root:part 0, test 4113\n"
     ]
    }
   ],
   "source": [
    "# define dataloaders for training, validation, and testing\n",
    "nfeats_4_modeling = {'node': ['n_feat'], 'super': ['n_feat']}\n",
    "\n",
    "train_dataloader = gs.dataloading.GSgnnNodeDataLoader(\n",
    "    dataset=ogbg_data,\n",
    "    target_idx=ogbg_data.get_node_train_set(ntypes=['super']),\n",
    "    node_feats=nfeats_4_modeling,\n",
    "    label_field='labels',\n",
    "    fanout=[20, 20, 20],\n",
    "    batch_size=128,\n",
    "    train_task=True)\n",
    "val_dataloader = gs.dataloading.GSgnnNodeDataLoader(\n",
    "    dataset=ogbg_data,\n",
    "    target_idx=ogbg_data.get_node_val_set(ntypes=['super']),\n",
    "    node_feats=nfeats_4_modeling,\n",
    "    label_field='labels',\n",
    "    fanout=[100, 100, 100],\n",
    "    batch_size=256,\n",
    "    train_task=False)\n",
    "test_dataloader = gs.dataloading.GSgnnNodeDataLoader(\n",
    "    dataset=ogbg_data,\n",
    "    target_idx=ogbg_data.get_node_test_set(ntypes=['super']),\n",
    "    node_feats=nfeats_4_modeling,\n",
    "    label_field='labels',\n",
    "    fanout=[100, 100, 100],\n",
    "    batch_size=256,\n",
    "    train_task=False)"
   ]
  },
  {
   "cell_type": "markdown",
   "metadata": {
    "tags": []
   },
   "source": [
    "In terms of GNN model, we can create a GraphStorm GNN model using nearly the same architecture as in the other notebooks, except that we replace the built-in GNN encoders, e.g., `RelationGCNEncoder` with the customized `GPEncoder4SupernodeOgbg`, which wraps a `RelationGCNEncoder` as its base encoder."
   ]
  },
  {
   "cell_type": "code",
   "execution_count": 10,
   "metadata": {
    "tags": []
   },
   "outputs": [],
   "source": [
    "class RgcnGCModel4SuperOgbg(GSgnnNodeModel):\n",
    "    \"\"\" A customized GNN model for graph classification using Graphstorm APIs\n",
    "\n",
    "    Arguments\n",
    "    ----------\n",
    "    g: DistGraph\n",
    "        A DGL DistGraph.\n",
    "    num_hid_layers: int\n",
    "        The number of gnn layers.\n",
    "    node_feat_field: dict of list of strings\n",
    "        The list features for each node type to be used in the model.\n",
    "    hid_size: int\n",
    "        The dimension of hidden layers.\n",
    "    num_classes: int\n",
    "        The target number of classes for classification.\n",
    "    multilabel: boolean\n",
    "        Indicator of if this is a multilabel task.\n",
    "    \"\"\"\n",
    "    def __init__(self,\n",
    "                 g,\n",
    "                 num_hid_layers,\n",
    "                 node_feat_field,\n",
    "                 hid_size,\n",
    "                 num_classes,\n",
    "                 multilabel=False):\n",
    "        super(RgcnGCModel4SuperOgbg, self).__init__(alpha_l2norm=0.)\n",
    "\n",
    "        # extract feature size\n",
    "        feat_size = gs.get_node_feat_size(g, node_feat_field)\n",
    "\n",
    "        # set an input layer encoder\n",
    "        encoder = GSNodeEncoderInputLayer(g=g, feat_size=feat_size, embed_size=hid_size)\n",
    "        self.set_node_input_encoder(encoder)\n",
    "\n",
    "        # set an RGCN  encoder as the base encoder\n",
    "        gnn_encoder = RelationalGCNEncoder(g=g,\n",
    "                                           h_dim=hid_size,\n",
    "                                           out_dim=hid_size,\n",
    "                                           num_hidden_layers=num_hid_layers)\n",
    "        # wrap the base RGCN encoder into GPEncoder4SupernodeOgbg\n",
    "        gp_encoder = GPEncoder4SupernodeOgbg(hid_size,\n",
    "                                             hid_size,\n",
    "                                             gnn_encoder,\n",
    "                                             read_out_opt='last_only',\n",
    "                                             super_ntype='super')\n",
    "        self.set_gnn_encoder(gp_encoder)\n",
    "\n",
    "        # set a decoder specific to node classification task\n",
    "        decoder = EntityClassifier(in_dim=hid_size,\n",
    "                                   num_classes=num_classes,\n",
    "                                   multilabel=multilabel)\n",
    "        self.set_decoder(decoder)\n",
    "\n",
    "        # classification loss function\n",
    "        self.set_loss_func(ClassifyLossFunc(multilabel=multilabel))\n",
    "\n",
    "        # initialize model's optimizer\n",
    "        self.init_optimizer(lr=0.001,\n",
    "                            sparse_optimizer_lr=0.001,\n",
    "                            weight_decay=0)\n"
   ]
  },
  {
   "cell_type": "code",
   "execution_count": 11,
   "metadata": {
    "tags": []
   },
   "outputs": [],
   "source": [
    "model = RgcnNCModel4SuperOgbg(g=ogbg_data.g,\n",
    "                              num_hid_layers=3,\n",
    "                              node_feat_field=nfeats_4_modeling,\n",
    "                              hid_size=128,\n",
    "                              num_classes=2)"
   ]
  },
  {
   "cell_type": "code",
   "execution_count": 12,
   "metadata": {
    "tags": []
   },
   "outputs": [],
   "source": [
    "# setup a classification evaluator for the trainer\n",
    "evaluator = gs.eval.GSgnnClassificationEvaluator(eval_frequency=100,\n",
    "                                                 eval_metric_list=['roc_auc'])"
   ]
  },
  {
   "cell_type": "code",
   "execution_count": 13,
   "metadata": {
    "tags": []
   },
   "outputs": [],
   "source": [
    "# create a GraphStorm node task trainer for the RGCN model\n",
    "trainer = gs.trainer.GSgnnNodePredictionTrainer(model)\n",
    "trainer.setup_evaluator(evaluator)\n",
    "trainer.setup_device(gs.utils.get_device())"
   ]
  },
  {
   "cell_type": "code",
   "execution_count": 14,
   "metadata": {
    "tags": []
   },
   "outputs": [
    {
     "name": "stderr",
     "output_type": "stream",
     "text": [
      "INFO:root:Part 0 | Epoch 00000 | Batch 000 | Loss: 0.4890 | Time: 0.1570\n",
      "INFO:root:Part 0 | Epoch 00000 | Batch 020 | Loss: 0.1473 | Time: 0.0413\n",
      "INFO:root:Part 0 | Epoch 00000 | Batch 040 | Loss: 0.2024 | Time: 0.0310\n",
      "INFO:root:Part 0 | Epoch 00000 | Batch 060 | Loss: 0.1660 | Time: 0.0342\n",
      "INFO:root:Part 0 | Epoch 00000 | Batch 080 | Loss: 0.1361 | Time: 0.0334\n",
      "INFO:root:Step 100 | Train loss: 0.2344\n",
      "WARNING:root:{'roc_auc'} requires return_proba==True.                 Set return_proba to True.\n",
      "INFO:root:Step 100 | Validation roc_auc: 0.5889\n",
      "INFO:root:Step 100 | Test roc_auc: 0.6477\n",
      "INFO:root:Step 100 | Best Validation roc_auc: 0.5889\n",
      "INFO:root:Step 100 | Best Test roc_auc: 0.6477\n",
      "INFO:root:Step 100 | Best Iteration roc_auc: 100.0000\n",
      "INFO:root: Eval time: 1.9635, Evaluation step: 100.\n",
      "INFO:root:Part 0 | Epoch 00000 | Batch 100 | Loss: 0.2008 | Time: 0.0345\n",
      "INFO:root:Part 0 | Epoch 00000 | Batch 120 | Loss: 0.0778 | Time: 0.0435\n",
      "INFO:root:Part 0 | Epoch 00000 | Batch 140 | Loss: 0.2142 | Time: 0.0327\n",
      "INFO:root:Part 0 | Epoch 00000 | Batch 160 | Loss: 0.2008 | Time: 0.0311\n",
      "INFO:root:Part 0 | Epoch 00000 | Batch 180 | Loss: 0.1314 | Time: 0.0350\n",
      "INFO:root:Step 200 | Train loss: 0.2125\n",
      "WARNING:root:{'roc_auc'} requires return_proba==True.                 Set return_proba to True.\n",
      "INFO:root:Step 200 | Validation roc_auc: 0.5738\n",
      "INFO:root:Step 200 | Test roc_auc: 0.6422\n",
      "INFO:root:Step 200 | Best Validation roc_auc: 0.5889\n",
      "INFO:root:Step 200 | Best Test roc_auc: 0.6477\n",
      "INFO:root:Step 200 | Best Iteration roc_auc: 100.0000\n",
      "INFO:root: Eval time: 1.8974, Evaluation step: 200.\n",
      "INFO:root:Part 0 | Epoch 00000 | Batch 200 | Loss: 0.0945 | Time: 0.0322\n",
      "INFO:root:Part 0 | Epoch 00000 | Batch 220 | Loss: 0.1052 | Time: 0.0282\n",
      "INFO:root:Part 0 | Epoch 00000 | Batch 240 | Loss: 0.1365 | Time: 0.0383\n",
      "INFO:root:Epoch 0 take 12.691 seconds\n",
      "WARNING:root:{'roc_auc'} requires return_proba==True.                 Set return_proba to True.\n",
      "INFO:root:Step 258 | Validation roc_auc: 0.5662\n",
      "INFO:root:Step 258 | Test roc_auc: 0.6360\n",
      "INFO:root:Step 258 | Best Validation roc_auc: 0.5889\n",
      "INFO:root:Step 258 | Best Test roc_auc: 0.6477\n",
      "INFO:root:Step 258 | Best Iteration roc_auc: 100.0000\n",
      "INFO:root: Eval time: 1.4147, Evaluation step: 258.\n",
      "INFO:root:successfully save the model to a_save_path/epoch-0\n",
      "INFO:root:Time on save model: 0.003 seconds\n",
      "INFO:root:Part 0 | Epoch 00001 | Batch 000 | Loss: 0.1268 | Time: 0.0329\n",
      "INFO:root:Part 0 | Epoch 00001 | Batch 020 | Loss: 0.1368 | Time: 0.0309\n",
      "INFO:root:Part 0 | Epoch 00001 | Batch 040 | Loss: 0.0906 | Time: 0.0327\n",
      "INFO:root:Step 300 | Train loss: 0.1342\n",
      "WARNING:root:{'roc_auc'} requires return_proba==True.                 Set return_proba to True.\n",
      "INFO:root:Step 300 | Validation roc_auc: 0.5706\n",
      "INFO:root:Step 300 | Test roc_auc: 0.6357\n",
      "INFO:root:Step 300 | Best Validation roc_auc: 0.5889\n",
      "INFO:root:Step 300 | Best Test roc_auc: 0.6477\n",
      "INFO:root:Step 300 | Best Iteration roc_auc: 100.0000\n",
      "INFO:root: Eval time: 2.4571, Evaluation step: 300.\n",
      "INFO:root:Part 0 | Epoch 00001 | Batch 060 | Loss: 0.0526 | Time: 0.0357\n",
      "INFO:root:Part 0 | Epoch 00001 | Batch 080 | Loss: 0.1665 | Time: 0.0390\n",
      "INFO:root:Part 0 | Epoch 00001 | Batch 100 | Loss: 0.2391 | Time: 0.0422\n",
      "INFO:root:Part 0 | Epoch 00001 | Batch 120 | Loss: 0.0449 | Time: 0.0361\n",
      "INFO:root:Part 0 | Epoch 00001 | Batch 140 | Loss: 0.1298 | Time: 0.0403\n",
      "INFO:root:Step 400 | Train loss: 0.1605\n",
      "WARNING:root:{'roc_auc'} requires return_proba==True.                 Set return_proba to True.\n",
      "INFO:root:Step 400 | Validation roc_auc: 0.5780\n",
      "INFO:root:Step 400 | Test roc_auc: 0.6305\n",
      "INFO:root:Step 400 | Best Validation roc_auc: 0.5889\n",
      "INFO:root:Step 400 | Best Test roc_auc: 0.6477\n",
      "INFO:root:Step 400 | Best Iteration roc_auc: 100.0000\n",
      "INFO:root: Eval time: 1.6202, Evaluation step: 400.\n",
      "INFO:root:Part 0 | Epoch 00001 | Batch 160 | Loss: 0.1842 | Time: 0.0345\n",
      "INFO:root:Part 0 | Epoch 00001 | Batch 180 | Loss: 0.1464 | Time: 0.0450\n",
      "INFO:root:Part 0 | Epoch 00001 | Batch 200 | Loss: 0.0730 | Time: 0.0364\n",
      "INFO:root:Part 0 | Epoch 00001 | Batch 220 | Loss: 0.2200 | Time: 0.0342\n",
      "INFO:root:Part 0 | Epoch 00001 | Batch 240 | Loss: 0.1114 | Time: 0.0354\n",
      "INFO:root:Step 500 | Train loss: 0.1109\n",
      "WARNING:root:{'roc_auc'} requires return_proba==True.                 Set return_proba to True.\n",
      "INFO:root:Step 500 | Validation roc_auc: 0.5960\n",
      "INFO:root:Step 500 | Test roc_auc: 0.6285\n",
      "INFO:root:Step 500 | Best Validation roc_auc: 0.5960\n",
      "INFO:root:Step 500 | Best Test roc_auc: 0.6285\n",
      "INFO:root:Step 500 | Best Iteration roc_auc: 500.0000\n",
      "INFO:root: Eval time: 1.7481, Evaluation step: 500.\n",
      "INFO:root:Epoch 1 take 14.997 seconds\n",
      "WARNING:root:{'roc_auc'} requires return_proba==True.                 Set return_proba to True.\n",
      "INFO:root:Step 516 | Validation roc_auc: 0.5851\n",
      "INFO:root:Step 516 | Test roc_auc: 0.6341\n",
      "INFO:root:Step 516 | Best Validation roc_auc: 0.5960\n",
      "INFO:root:Step 516 | Best Test roc_auc: 0.6285\n",
      "INFO:root:Step 516 | Best Iteration roc_auc: 500.0000\n",
      "INFO:root: Eval time: 1.7834, Evaluation step: 516.\n",
      "INFO:root:successfully save the model to a_save_path/epoch-1\n",
      "INFO:root:Time on save model: 0.004 seconds\n",
      "INFO:root:Part 0 | Epoch 00002 | Batch 000 | Loss: 0.1221 | Time: 0.0331\n",
      "INFO:root:Part 0 | Epoch 00002 | Batch 020 | Loss: 0.1334 | Time: 0.0335\n",
      "INFO:root:Part 0 | Epoch 00002 | Batch 040 | Loss: 0.1170 | Time: 0.0325\n",
      "INFO:root:Part 0 | Epoch 00002 | Batch 060 | Loss: 0.1587 | Time: 0.0342\n",
      "INFO:root:Part 0 | Epoch 00002 | Batch 080 | Loss: 0.1402 | Time: 0.0327\n",
      "INFO:root:Step 600 | Train loss: 0.1577\n",
      "WARNING:root:{'roc_auc'} requires return_proba==True.                 Set return_proba to True.\n",
      "INFO:root:Step 600 | Validation roc_auc: 0.5741\n",
      "INFO:root:Step 600 | Test roc_auc: 0.6229\n",
      "INFO:root:Step 600 | Best Validation roc_auc: 0.5960\n",
      "INFO:root:Step 600 | Best Test roc_auc: 0.6285\n",
      "INFO:root:Step 600 | Best Iteration roc_auc: 500.0000\n",
      "INFO:root: Eval time: 1.9635, Evaluation step: 600.\n",
      "INFO:root:Part 0 | Epoch 00002 | Batch 100 | Loss: 0.2394 | Time: 0.0311\n",
      "INFO:root:Part 0 | Epoch 00002 | Batch 120 | Loss: 0.1400 | Time: 0.0397\n",
      "INFO:root:Part 0 | Epoch 00002 | Batch 140 | Loss: 0.1660 | Time: 0.0324\n",
      "INFO:root:Part 0 | Epoch 00002 | Batch 160 | Loss: 0.1328 | Time: 0.0374\n",
      "INFO:root:Part 0 | Epoch 00002 | Batch 180 | Loss: 0.1533 | Time: 0.0318\n",
      "INFO:root:Step 700 | Train loss: 0.2117\n",
      "WARNING:root:{'roc_auc'} requires return_proba==True.                 Set return_proba to True.\n",
      "INFO:root:Step 700 | Validation roc_auc: 0.5881\n",
      "INFO:root:Step 700 | Test roc_auc: 0.6285\n",
      "INFO:root:Step 700 | Best Validation roc_auc: 0.5960\n",
      "INFO:root:Step 700 | Best Test roc_auc: 0.6285\n",
      "INFO:root:Step 700 | Best Iteration roc_auc: 500.0000\n",
      "INFO:root: Eval time: 2.1248, Evaluation step: 700.\n",
      "INFO:root:Part 0 | Epoch 00002 | Batch 200 | Loss: 0.2257 | Time: 0.0345\n",
      "INFO:root:Part 0 | Epoch 00002 | Batch 220 | Loss: 0.1465 | Time: 0.0325\n",
      "INFO:root:Part 0 | Epoch 00002 | Batch 240 | Loss: 0.3616 | Time: 0.0341\n",
      "INFO:root:Epoch 2 take 13.170 seconds\n",
      "WARNING:root:{'roc_auc'} requires return_proba==True.                 Set return_proba to True.\n",
      "INFO:root:Step 774 | Validation roc_auc: 0.5860\n",
      "INFO:root:Step 774 | Test roc_auc: 0.6269\n",
      "INFO:root:Step 774 | Best Validation roc_auc: 0.5960\n",
      "INFO:root:Step 774 | Best Test roc_auc: 0.6285\n",
      "INFO:root:Step 774 | Best Iteration roc_auc: 500.0000\n",
      "INFO:root: Eval time: 2.3401, Evaluation step: 774.\n",
      "INFO:root:successfully save the model to a_save_path/epoch-2\n",
      "INFO:root:Time on save model: 0.004 seconds\n",
      "INFO:root:Part 0 | Epoch 00003 | Batch 000 | Loss: 0.0524 | Time: 0.0331\n",
      "INFO:root:Part 0 | Epoch 00003 | Batch 020 | Loss: 0.1181 | Time: 0.0424\n",
      "INFO:root:Step 800 | Train loss: 0.1137\n",
      "WARNING:root:{'roc_auc'} requires return_proba==True.                 Set return_proba to True.\n",
      "INFO:root:Step 800 | Validation roc_auc: 0.5970\n",
      "INFO:root:Step 800 | Test roc_auc: 0.6319\n",
      "INFO:root:Step 800 | Best Validation roc_auc: 0.5970\n",
      "INFO:root:Step 800 | Best Test roc_auc: 0.6319\n",
      "INFO:root:Step 800 | Best Iteration roc_auc: 800.0000\n",
      "INFO:root: Eval time: 1.5352, Evaluation step: 800.\n",
      "INFO:root:Part 0 | Epoch 00003 | Batch 040 | Loss: 0.1605 | Time: 0.0381\n",
      "INFO:root:Part 0 | Epoch 00003 | Batch 060 | Loss: 0.1834 | Time: 0.0330\n",
      "INFO:root:Part 0 | Epoch 00003 | Batch 080 | Loss: 0.1440 | Time: 0.0379\n",
      "INFO:root:Part 0 | Epoch 00003 | Batch 100 | Loss: 0.2828 | Time: 0.0345\n",
      "INFO:root:Part 0 | Epoch 00003 | Batch 120 | Loss: 0.1895 | Time: 0.0318\n",
      "INFO:root:Step 900 | Train loss: 0.1383\n",
      "WARNING:root:{'roc_auc'} requires return_proba==True.                 Set return_proba to True.\n",
      "INFO:root:Step 900 | Validation roc_auc: 0.5953\n",
      "INFO:root:Step 900 | Test roc_auc: 0.6384\n",
      "INFO:root:Step 900 | Best Validation roc_auc: 0.5970\n",
      "INFO:root:Step 900 | Best Test roc_auc: 0.6319\n",
      "INFO:root:Step 900 | Best Iteration roc_auc: 800.0000\n",
      "INFO:root: Eval time: 1.4435, Evaluation step: 900.\n",
      "INFO:root:Part 0 | Epoch 00003 | Batch 140 | Loss: 0.1933 | Time: 0.0327\n",
      "INFO:root:Part 0 | Epoch 00003 | Batch 160 | Loss: 0.1216 | Time: 0.0358\n",
      "INFO:root:Part 0 | Epoch 00003 | Batch 180 | Loss: 0.1748 | Time: 0.0326\n",
      "INFO:root:Part 0 | Epoch 00003 | Batch 200 | Loss: 0.2016 | Time: 0.0329\n",
      "INFO:root:Part 0 | Epoch 00003 | Batch 220 | Loss: 0.1019 | Time: 0.0430\n",
      "INFO:root:Step 1000 | Train loss: 0.2118\n",
      "WARNING:root:{'roc_auc'} requires return_proba==True.                 Set return_proba to True.\n",
      "INFO:root:Step 1000 | Validation roc_auc: 0.5917\n",
      "INFO:root:Step 1000 | Test roc_auc: 0.6347\n",
      "INFO:root:Step 1000 | Best Validation roc_auc: 0.5970\n",
      "INFO:root:Step 1000 | Best Test roc_auc: 0.6319\n",
      "INFO:root:Step 1000 | Best Iteration roc_auc: 800.0000\n",
      "INFO:root: Eval time: 1.6673, Evaluation step: 1000.\n",
      "INFO:root:Part 0 | Epoch 00003 | Batch 240 | Loss: 0.1352 | Time: 0.0439\n",
      "INFO:root:Epoch 3 take 13.799 seconds\n",
      "WARNING:root:{'roc_auc'} requires return_proba==True.                 Set return_proba to True.\n",
      "INFO:root:Step 1032 | Validation roc_auc: 0.5962\n",
      "INFO:root:Step 1032 | Test roc_auc: 0.6320\n",
      "INFO:root:Step 1032 | Best Validation roc_auc: 0.5970\n",
      "INFO:root:Step 1032 | Best Test roc_auc: 0.6319\n",
      "INFO:root:Step 1032 | Best Iteration roc_auc: 800.0000\n",
      "INFO:root: Eval time: 1.6801, Evaluation step: 1032.\n",
      "INFO:root:successfully save the model to a_save_path/epoch-3\n",
      "INFO:root:Time on save model: 0.004 seconds\n",
      "INFO:root:Part 0 | Epoch 00004 | Batch 000 | Loss: 0.1224 | Time: 0.0309\n",
      "INFO:root:Part 0 | Epoch 00004 | Batch 020 | Loss: 0.1514 | Time: 0.0403\n",
      "INFO:root:Part 0 | Epoch 00004 | Batch 040 | Loss: 0.1590 | Time: 0.0355\n",
      "INFO:root:Part 0 | Epoch 00004 | Batch 060 | Loss: 0.3049 | Time: 0.0372\n",
      "INFO:root:Step 1100 | Train loss: 0.1956\n",
      "WARNING:root:{'roc_auc'} requires return_proba==True.                 Set return_proba to True.\n",
      "INFO:root:Step 1100 | Validation roc_auc: 0.6101\n",
      "INFO:root:Step 1100 | Test roc_auc: 0.6349\n",
      "INFO:root:Step 1100 | Best Validation roc_auc: 0.6101\n",
      "INFO:root:Step 1100 | Best Test roc_auc: 0.6349\n",
      "INFO:root:Step 1100 | Best Iteration roc_auc: 1100.0000\n",
      "INFO:root: Eval time: 1.7073, Evaluation step: 1100.\n",
      "INFO:root:Part 0 | Epoch 00004 | Batch 080 | Loss: 0.1102 | Time: 0.0359\n",
      "INFO:root:Part 0 | Epoch 00004 | Batch 100 | Loss: 0.0687 | Time: 0.0415\n",
      "INFO:root:Part 0 | Epoch 00004 | Batch 120 | Loss: 0.1526 | Time: 0.0302\n",
      "INFO:root:Part 0 | Epoch 00004 | Batch 140 | Loss: 0.2211 | Time: 0.0301\n",
      "INFO:root:Part 0 | Epoch 00004 | Batch 160 | Loss: 0.0520 | Time: 0.0382\n",
      "INFO:root:Step 1200 | Train loss: 0.1457\n",
      "WARNING:root:{'roc_auc'} requires return_proba==True.                 Set return_proba to True.\n",
      "INFO:root:Step 1200 | Validation roc_auc: 0.6121\n",
      "INFO:root:Step 1200 | Test roc_auc: 0.6395\n",
      "INFO:root:Step 1200 | Best Validation roc_auc: 0.6121\n",
      "INFO:root:Step 1200 | Best Test roc_auc: 0.6395\n",
      "INFO:root:Step 1200 | Best Iteration roc_auc: 1200.0000\n",
      "INFO:root: Eval time: 1.6800, Evaluation step: 1200.\n",
      "INFO:root:Part 0 | Epoch 00004 | Batch 180 | Loss: 0.1625 | Time: 0.0327\n",
      "INFO:root:Part 0 | Epoch 00004 | Batch 200 | Loss: 0.2158 | Time: 0.0403\n",
      "INFO:root:Part 0 | Epoch 00004 | Batch 220 | Loss: 0.0725 | Time: 0.0414\n",
      "INFO:root:Part 0 | Epoch 00004 | Batch 240 | Loss: 0.0494 | Time: 0.0369\n",
      "INFO:root:Epoch 4 take 12.714 seconds\n",
      "WARNING:root:{'roc_auc'} requires return_proba==True.                 Set return_proba to True.\n",
      "INFO:root:Step 1290 | Validation roc_auc: 0.6538\n",
      "INFO:root:Step 1290 | Test roc_auc: 0.6544\n",
      "INFO:root:Step 1290 | Best Validation roc_auc: 0.6538\n",
      "INFO:root:Step 1290 | Best Test roc_auc: 0.6544\n",
      "INFO:root:Step 1290 | Best Iteration roc_auc: 1290.0000\n",
      "INFO:root: Eval time: 1.5196, Evaluation step: 1290.\n",
      "INFO:root:successfully save the model to a_save_path/epoch-4\n",
      "INFO:root:Time on save model: 0.002 seconds\n",
      "INFO:root:Peak RAM Mem alloc: 1624.8242 MB\n",
      "INFO:root:best_test_score: {'roc_auc': 0.6543540817706021}\n",
      "INFO:root:best_val_score: {'roc_auc': 0.65380658436214}\n",
      "INFO:root:peak_GPU_mem_alloc_MB: 0.0\n",
      "INFO:root:peak_RAM_mem_alloc_MB: 1624.82421875\n",
      "INFO:root:best validation iteration: 1290\n",
      "INFO:root:best model path: a_save_path/epoch-4\n"
     ]
    }
   ],
   "source": [
    "# Train the model with the trainer using fit() function\n",
    "trainer.fit(train_loader=train_dataloader,\n",
    "            val_loader=val_dataloader,\n",
    "            test_loader=test_dataloader,\n",
    "            num_epochs=50,\n",
    "            save_model_path='a_save_path/')"
   ]
  },
  {
   "cell_type": "markdown",
   "metadata": {},
   "source": [
    "Next, we examine the model performance over the training process"
   ]
  },
  {
   "cell_type": "code",
   "execution_count": 15,
   "metadata": {
    "tags": []
   },
   "outputs": [],
   "source": [
    "# Extract accuracies from the trainer's evaluator:\n",
    "val_accs, test_accs = [], []\n",
    "for val_acc, test_acc in trainer.evaluator.history:\n",
    "    val_accs.append(val_acc['roc_auc'])\n",
    "    test_accs.append(test_acc['roc_auc'])"
   ]
  },
  {
   "cell_type": "code",
   "execution_count": 16,
   "metadata": {
    "tags": []
   },
   "outputs": [
    {
     "data": {
      "image/png": "[encoded data removed]",
      "text/plain": [
       "<Figure size 1500x1000 with 1 Axes>"
      ]
     },
     "metadata": {},
     "output_type": "display_data"
    }
   ],
   "source": [
    "import matplotlib.pyplot as plt\n",
    "\n",
    "# plot the learning curves\n",
    "fig, ax = plt.subplots(figsize=(15, 10))\n",
    "ax.plot(val_accs, label='val')\n",
    "ax.plot(test_accs, label='test')\n",
    "ax.set(xlabel='Eval Times', ylabel='ROC_AUC')\n",
    "ax.legend(loc='best');"
   ]
  },
  {
   "cell_type": "code",
   "execution_count": 17,
   "metadata": {
    "tags": []
   },
   "outputs": [
    {
     "name": "stdout",
     "output_type": "stream",
     "text": [
      "Best model checkpoint: a_save_path/epoch-4\n"
     ]
    }
   ],
   "source": [
    "# after training, the best model is saved to disk:\n",
    "best_model_path = trainer.get_best_model_path()\n",
    "print('Best model checkpoint:', best_model_path)"
   ]
  },
  {
   "cell_type": "code",
   "execution_count": 18,
   "metadata": {
    "tags": []
   },
   "outputs": [
    {
     "name": "stdout",
     "output_type": "stream",
     "text": [
      "total 2372\n",
      " 792 -rw-rw-r-- 1 ec2-user ec2-user  808835 Sep 13 00:42 model.bin\n",
      "1580 -rw-rw-r-- 1 ec2-user ec2-user 1617186 Sep 13 00:42 optimizers.bin\n"
     ]
    }
   ],
   "source": [
    "# check the saved artifacts\n",
    "!ls -ls {best_model_path}"
   ]
  },
  {
   "cell_type": "markdown",
   "metadata": {},
   "source": [
    "### 3. Inference with the trained model"
   ]
  },
  {
   "cell_type": "code",
   "execution_count": 19,
   "metadata": {
    "tags": []
   },
   "outputs": [
    {
     "name": "stderr",
     "output_type": "stream",
     "text": [
      "INFO:root:successfully load the model from a_save_path/epoch-4\n",
      "INFO:root:Time on load model: 0.006 seconds\n"
     ]
    }
   ],
   "source": [
    "# we can restore the model from the checkpoint:\n",
    "model.restore_model(best_model_path)"
   ]
  },
  {
   "cell_type": "code",
   "execution_count": 20,
   "metadata": {
    "tags": []
   },
   "outputs": [
    {
     "name": "stderr",
     "output_type": "stream",
     "text": [
      "INFO:root:part 0, test 4113\n"
     ]
    }
   ],
   "source": [
    "# Setup dataloader for inference\n",
    "infer_dataloader = gs.dataloading.GSgnnNodeDataLoader(dataset=ogbg_data,\n",
    "                                                      target_idx=ogbg_data.get_node_test_set(ntypes=['super']),\n",
    "                                                      node_feats=nfeats_4_modeling,\n",
    "                                                      label_field='labels',\n",
    "                                                      fanout=[100, 100, 100],\n",
    "                                                      batch_size=256,\n",
    "                                                      train_task=False)"
   ]
  },
  {
   "cell_type": "code",
   "execution_count": 21,
   "metadata": {
    "tags": []
   },
   "outputs": [
    {
     "name": "stderr",
     "output_type": "stream",
     "text": [
      "INFO:root:save embeddings pf super to infer/embeddings\n",
      "INFO:root:Writing GNN embeddings to infer/embeddings in pytorch format.\n"
     ]
    }
   ],
   "source": [
    "# Create an Inferrer object\n",
    "infer = gs.inference.GSgnnNodePredictionInferrer(model)\n",
    "\n",
    "# Run inference on the inference dataset\n",
    "infer.infer(infer_dataloader,\n",
    "            save_embed_path='infer/embeddings',\n",
    "            save_prediction_path='infer/predictions',\n",
    "            use_mini_batch_infer=True)"
   ]
  },
  {
   "cell_type": "code",
   "execution_count": 30,
   "metadata": {
    "tags": []
   },
   "outputs": [
    {
     "name": "stdout",
     "output_type": "stream",
     "text": [
      "total 8.0K\n",
      "-rw-rw-r-- 1 ec2-user ec2-user   89 Sep 13 00:44 emb_info.json\n",
      "drwxrwxr-x 2 ec2-user ec2-user 4.0K Sep 13 00:44 super\n",
      "total 2.1M\n",
      "-rw-rw-r-- 1 ec2-user ec2-user 2.1M Sep 13 00:44 embed-00000.pt\n",
      "-rw-rw-r-- 1 ec2-user ec2-user  34K Sep 13 00:44 embed_nids-00000.pt\n"
     ]
    }
   ],
   "source": [
    "# The GNN embeddings on the inference graph are saved to:\n",
    "!ls -lh infer/embeddings\n",
    "!ls -lh infer/embeddings/super/"
   ]
  },
  {
   "cell_type": "code",
   "execution_count": 29,
   "metadata": {
    "tags": []
   },
   "outputs": [
    {
     "name": "stdout",
     "output_type": "stream",
     "text": [
      "total 8.0K\n",
      "-rw-rw-r-- 1 ec2-user ec2-user   87 Sep 13 00:44 result_info.json\n",
      "drwxrw-rwx 2 ec2-user ec2-user 4.0K Sep 13 00:44 super\n",
      "total 72K\n",
      "-rw-rw-r-- 1 ec2-user ec2-user 34K Sep 13 00:44 predict-00000.pt\n",
      "-rw-rw-r-- 1 ec2-user ec2-user 34K Sep 13 00:44 predict_nids-00000.pt\n"
     ]
    }
   ],
   "source": [
    "!ls -lh infer/predictions\n",
    "!ls -lh infer/predictions/super"
   ]
  },
  {
   "cell_type": "code",
   "execution_count": null,
   "metadata": {},
   "outputs": [],
   "source": []
  }
 ],
 "metadata": {
  "kernelspec": {
   "display_name": "gsf",
   "language": "python",
   "name": "gsf"
  },
  "language_info": {
   "codemirror_mode": {
    "name": "ipython",
    "version": 3
   },
   "file_extension": ".py",
   "mimetype": "text/x-python",
   "name": "python",
   "nbconvert_exporter": "python",
   "pygments_lexer": "ipython3",
   "version": "3.10.14"
  }
 },
 "nbformat": 4,
 "nbformat_minor": 4
}
