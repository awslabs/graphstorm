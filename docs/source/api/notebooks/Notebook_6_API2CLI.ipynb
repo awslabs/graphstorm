{
 "cells": [
  {
   "cell_type": "markdown",
   "metadata": {},
   "source": [
    "# Notebook 6: Converting Customized Model Notebooks to Using GraphStorm CLIs \n",
    "\n",
    "Notebook 1 to 5 provides examples about how to use GraphStorm APIs to implement various GNN components and models. These notebooks can run in the GraphStrom Standalone mode, i.e., on a single CPU or GPU of a single machine. GraphStorm Standalone mode is good for quick model development and debugging on a relatively small graph dataset. To fully leverage GraphStorm's distributed model training and inference capacity, however, we need to convert code implemented on these notebook into Python scripts that can be launched with GraphStorm Command Line Interfaces (CLIs) that can handle extreme large graphs.\n",
    "\n",
    "This notebook introduces the method of conversion, and explain the key components of the example Python scripts. For this notebook, we use the customized model developed in the [Notebook 4: Use GraphStorm APIs for Customizing Model Components](https://graphstorm.readthedocs.io/en/latest/api/notebooks/Notebook_4_Customized_Models.html) as an example.\n",
    "\n",
    "----\n",
    "\n",
    "### Prerequisites\n",
    "\n",
    "- GraphStorm. Please find [more details on installation of GraphStorm](https://graphstorm.readthedocs.io/en/latest/install/env-setup.html#setup-graphstorm-with-pip-packages).\n",
    "- ACM data that has been created according to [Notebook 0: Data Preparation](https://graphstorm.readthedocs.io/en/latest/api/notebooks/Notebook_0_Data_Prepare.html), and is stored in the `./acm_gs_1p/` folder."
   ]
  },
  {
   "cell_type": "markdown",
   "metadata": {},
   "source": [
    "## Brief Introduction and Run\n",
    "\n",
    "In order to use GraphStorm CLIs, we need to put the customized model into a Python file, which can be called in the [Task-agnostic CLI for model training and inference](https://graphstorm.readthedocs.io/en/latest/cli/model-training-inference/single-machine-training-inference.html#task-agnostic-cli-for-model-training-and-inference) as an argument. We could build two files for model training and inference separately.\n",
    "\n",
    "We can reuse most of the code about the customized `RGAT` module in Notebook 4 in the training and inference files, i.e., copy and paste the code of class `Ara_GatLayer`, `Ara_GatEncoder`, and `RgatNCModel` into the two files. \n",
    "\n",
    "For the training file, we can copy and paste the code of training pipeline, and enclose them in a `fit()` function. Similarly, for the inference file, we can copy and paste the code of infernece pipeline, and enclose them in a `infer()` function.\n",
    "\n",
    "We have created the two files, named `demo_run_train.py` and `demo_run_infer.py` under the [GraphStorm API documentation folder](https://github.com/awslabs/graphstorm/tree/main/docs/source/api). With the two files, we can call GraphStorm's task-agnostic CLIs to run our customized model as shown below."
   ]
  },
  {
   "cell_type": "code",
   "execution_count": null,
   "metadata": {},
   "outputs": [],
   "source": [
    "# download the example yaml configuration file\n",
    "!wget -O acm_nc.yaml https://github.com/awslabs/graphstorm/raw/main/examples/use_your_own_data/acm_nc.yaml\n",
    "\n",
    "# CLI for the customized RGAT model training\n",
    "!python -m graphstorm.run.launch \\\n",
    "           --part-config ./acm_gs_1p/acm.json \\\n",
    "           --num-trainers 4 \\\n",
    "           --num-servers 1 \\\n",
    "           --num-samplers 0 \\\n",
    "           demo_run_train.py --cf acm_nc.yaml \\\n",
    "                             --save-model-path model_path/ \\\n",
    "                             --node-feat-name paper:feat author:feat subject:feat \\\n",
    "                             --num-epochs 5 \\\n",
    "                             --rgat-encoder-type ara\n",
    "\n",
    "# CLI for the customized RGAT model inference\n",
    "!python -m graphstorm.run.launch \\\n",
    "           --part-config ./acm_gs_1p/acm.json \\\n",
    "           --num-trainers 4 \\\n",
    "           --num-servers 1 \\\n",
    "           --num-samplers 0 \\\n",
    "           demo_run_infer.py --cf acm_nc.yaml \\\n",
    "                             --restore-model-path models/epoch-4 \\\n",
    "                             --save-prediction-path predictions/ \\\n",
    "                             --save-embed-path embeddings/ \\\n",
    "                             --node-feat-name paper:feat author:feat subject:feat \\\n",
    "                             --rgat-encoder-type ara"
   ]
  },
  {
   "cell_type": "markdown",
   "metadata": {
    "tags": []
   },
   "source": [
    "## CLI argument processing explanation\n",
    "Compared to the code in [Notebook 4](https://graphstorm.readthedocs.io/en/latest/api/notebooks/Notebook_4_Customized_Models.html), the majority of modifications in the two Python files is related to how to collect and parse GraphStorm CLI configurations. Unlike hard-coding some variables, e.g., `nfeats_4_modeling`, or setting fix input values, e.g., `label_field='label',` or `encoder_type='ara'`, we will need to provide these values via CLI configurations.\n",
    "\n",
    "As shown in the above commands, there are three types of configurations passed to the GraphStorm task-agnostic command.\n",
    "\n",
    "- [Launch CLI arguments](https://graphstorm.readthedocs.io/en/latest/cli/model-training-inference/configuration-run.html#launch-cli-arguments), which direclty follow the `graphstom.run.launch`.\n",
    "- [Model training and inference configurations](https://graphstorm.readthedocs.io/en/latest/cli/model-training-inference/configuration-run.html#model-training-and-inference-configurations), which are predefined in GraphStorm. These configurations can be put into a yaml file and become the value of `--cf` argument follow the training or inference Python file. You can also set them as arguments too, which will overwrite the same configurations set in the yaml file.\n",
    "- Configurations specified for customized modules, which are not predefined by GraphStorm, but are used only for the customized modules. These configurations should be defined as the arguments for training or inference Python files.\n",
    "\n",
    "If following the argument placement convension, it is easy to collect and parse them. Below we show the main entrance method of the `demo_run_train.py` file."
   ]
  },
  {
   "cell_type": "code",
   "execution_count": 3,
   "metadata": {
    "tags": []
   },
   "outputs": [],
   "source": [
    "import argparse\n",
    "from graphstorm.config import get_argument_parser\n",
    "\n",
    "......\n",
    "\n",
    "if __name__ == '__main__':\n",
    "    # Leverage GraphStorm's argument parser to accept configuratioin yaml file\n",
    "    arg_parser = get_argument_parser()\n",
    "\n",
    "    # parse all arguments and split GraphStorm's built-in arguments from the customized ones\n",
    "    gs_args, unknown_args = arg_parser.parse_known_args()\n",
    "    print(f'GS arguments: {gs_args}')\n",
    "\n",
    "    # create a new argument parser dedicated for customized arguments\n",
    "    cust_parser = argparse.ArgumentParser(description=\"Customized Arguments\")\n",
    "    # add customized arguments\n",
    "    cust_parser.add_argument('--rgat-encoder-type', type=str, default=\"ara\")\n",
    "    cust_args = cust_parser.parse_args(unknown_args)\n",
    "    print(f'Customized arguments: {cust_args}')\n",
    "\n",
    "    # use both argument sets in our main function\n",
    "    fit(gs_args, cust_args)"
   ]
  },
  {
   "cell_type": "markdown",
   "metadata": {},
   "source": [
    "GraphStorm's config module provides a `get_argument_parser` method, which can create a argument parser, e.g., `arg_parser`, dedicated to process GraphStorm launch CLI arguments and model training and inference configurations. Using its `parse_known_args()` method, the argument parser can extract all GraphStorm built-in configurations, and also return other customized arguments, which can be processed by another argument parse, e.g., the `cust_parser`. We can then pass these arguments to the corresponding methods. Please refer to [get_argument_parser API document](https://graphstorm.readthedocs.io/en/latest/api/generated/graphstorm.config.get_argument_parser.html#graphstorm.config.get_argument_parser) for more details about this method."
   ]
  },
  {
   "cell_type": "markdown",
   "metadata": {},
   "source": [
    "### GraphStorm `GSConfig` object explanation\n",
    "Once obtained these arguments, we can use them to create a `GSConfig` object and then pass the object to different modules to get related configurations. The `GSConfig` object can check all arguments' format and values to ensure compliance with GraphStorm specifications. Below shows the code of creating the `GSConfig` object and examples of how to use it. Please refer to the [GSConfig API doc](https://graphstorm.readthedocs.io/en/latest/api/generated/graphstorm.config.GSConfig.html#graphstorm.config.GSConfig) for more details of this class."
   ]
  },
  {
   "cell_type": "code",
   "execution_count": 20,
   "metadata": {
    "tags": []
   },
   "outputs": [],
   "source": [
    "from graphstorm.config import GSConfig\n",
    "\n",
    "......\n",
    "\n",
    "def fit(gs_args, cust_args):\n",
    "    # Utilize GraphStorm's GSConfig class to accept arguments\n",
    "    config = GSConfig(gs_args)\n",
    "\n",
    "    gs.initialize(ip_config=config.ip_config, backend=config.backend, local_rank=config.local_rank)\n",
    "    acm_data = gs.dataloading.GSgnnData(part_config=config.part_config)\n",
    "\n",
    "    ......\n",
    "\n",
    "    model = RgatNCModel(g=acm_data.g,\n",
    "                    num_heads=config.num_heads, \n",
    "                    num_hid_layers=config.num_layers,\n",
    "                    node_feat_field=config.node_feat_name,\n",
    "                    hid_size=config.hidden_size,\n",
    "                    num_classes=config.num_classes,\n",
    "                    encoder_type=cust_args.rgat_encoder_type)   # here use the customized argument instead of GSConfig"
   ]
  },
  {
   "cell_type": "code",
   "execution_count": null,
   "metadata": {},
   "outputs": [],
   "source": []
  }
 ],
 "metadata": {
  "kernelspec": {
   "display_name": "gsf",
   "language": "python",
   "name": "gsf"
  },
  "language_info": {
   "codemirror_mode": {
    "name": "ipython",
    "version": 3
   },
   "file_extension": ".py",
   "mimetype": "text/x-python",
   "name": "python",
   "nbconvert_exporter": "python",
   "pygments_lexer": "ipython3",
   "version": "3.10.14"
  }
 },
 "nbformat": 4,
 "nbformat_minor": 4
}
