{
 "cells": [
  {
   "cell_type": "markdown",
   "metadata": {},
   "source": [
    "# Notebook x: Use APIs for Link Prediction\n",
    "\n",
    "This notebook demonstrates how to use GraphStorm's APIs to create graph machine learning pipeline.\n",
    "\n",
    "\n",
    "\n",
    "### Prerequsites\n",
    "\n",
    "- GraphStorm installed using pip. Please find [more details on installation of GraphStorm](https://graphstorm.readthedocs.io/en/latest/install/env-setup.html#setup-graphstorm-with-pip-packages).\n",
    "- ACM data created in the [Notebook 0: Data Prepare](https://graphstorm.readthedocs.io/en/latest/notebooks/Notebook_0_Data_Prepare.html), and is stored in the `./acm_gs_1p/` folder.\n",
    "- Installation of supporting libraries, e.g., matplotlib."
   ]
  },
  {
   "cell_type": "code",
   "execution_count": 1,
   "metadata": {},
   "outputs": [],
   "source": [
    "# Setup log level in Jupyter Notebook\n",
    "import logging\n",
    "logging.basicConfig(level=20)"
   ]
  },
  {
   "cell_type": "markdown",
   "metadata": {},
   "source": [
    "---\n",
    "\n",
    "### 0. Initialize the GraphStorm Standalone Environment\n",
    "\n",
    "We might set default argument values in `gs.initialize()` for the Standalone mode."
   ]
  },
  {
   "cell_type": "code",
   "execution_count": 2,
   "metadata": {
    "tags": []
   },
   "outputs": [],
   "source": [
    "import graphstorm as gs\n",
    "gs.initialize()"
   ]
  },
  {
   "cell_type": "markdown",
   "metadata": {},
   "source": [
    "### 1. Setup GraphStorm Dataset and DataLoaders\n",
    "\n",
    "The role of `gs.dataset.GSgnnData` is mainly for loading and storing given partitioned graphs. The existing roles such as target node type, label field, and node feature for training/inference, will move to Dataloader classes. "
   ]
  },
  {
   "cell_type": "code",
   "execution_count": 3,
   "metadata": {
    "tags": []
   },
   "outputs": [],
   "source": [
    "nfeats_4_modeling = {'author':['feat'], 'paper':['feat'],'subject':['feat']}\n",
    "\n",
    "# create a GraphStorm Dataset for the ACM graph data generated in the Notebook 0\n",
    "acm_data = gs.dataloading.GSgnnData(part_config='./acm_gs_1p/acm.json', node_feat_field=nfeats_4_modeling)"
   ]
  },
  {
   "cell_type": "markdown",
   "metadata": {},
   "source": [
    "`Dataloaders` take node feature dictionary and label field string. They do not handle features and labels, but pass these information to `Datasets`. And then `Datasets` retrieve related information and return to `Dataloaders`."
   ]
  },
  {
   "cell_type": "code",
   "execution_count": 4,
   "metadata": {
    "tags": []
   },
   "outputs": [
    {
     "name": "stderr",
     "output_type": "stream",
     "text": [
      "INFO:root:part 0, train 24631\n",
      "INFO:root:part 0, val 3078\n",
      "INFO:root:part 0, test 3078\n"
     ]
    }
   ],
   "source": [
    "# define dataloaders for training and validation\n",
    "train_dataloader = gs.dataloading.GSgnnLinkPredictionDataLoader(\n",
    "    dataset=acm_data,\n",
    "    target_idx=acm_data.get_edge_train_set(etypes=[('paper', 'citing', 'paper')]),\n",
    "    fanout=[20, 20],\n",
    "    num_negative_edges=10,\n",
    "    node_feats=nfeats_4_modeling,\n",
    "    batch_size=64,\n",
    "    exclude_training_targets=False,\n",
    "    reverse_edge_types_map=[\"paper,citing,cited,paper\"],\n",
    "    train_task=True)\n",
    "val_dataloader = gs.dataloading.GSgnnLinkPredictionTestDataLoader(\n",
    "    dataset=acm_data,\n",
    "    target_idx=acm_data.get_edge_val_set(etypes=[('paper', 'citing', 'paper')]),\n",
    "    fanout=[100, 100],\n",
    "    num_negative_edges=100,\n",
    "    node_feats=nfeats_4_modeling,\n",
    "    batch_size=256)\n",
    "test_dataloader = gs.dataloading.GSgnnLinkPredictionTestDataLoader(\n",
    "    dataset=acm_data,\n",
    "    target_idx=acm_data.get_edge_test_set(etypes=[('paper', 'citing', 'paper')]),\n",
    "    fanout=[100, 100],\n",
    "    num_negative_edges=100,\n",
    "    node_feats=nfeats_4_modeling,\n",
    "    batch_size=256)"
   ]
  },
  {
   "cell_type": "markdown",
   "metadata": {},
   "source": [
    "### 2. Create a GraphStorm-compatible RGCN Model for Node Classification \n",
    "\n",
    "This `Model` could be a customized model extends from `GSgnnModel` and implements required methods. The `GSgnnModel` has a few new API features."
   ]
  },
  {
   "cell_type": "code",
   "execution_count": 7,
   "metadata": {
    "tags": []
   },
   "outputs": [],
   "source": [
    "# import a simplified RGCN model for node classification\n",
    "from demo_models import RgcnLPModel\n",
    "\n",
    "model = RgcnLPModel(g=acm_data.g,\n",
    "                    num_hid_layers=2,\n",
    "                    node_feat_field=nfeats_4_modeling,\n",
    "                    hid_size=128)"
   ]
  },
  {
   "cell_type": "markdown",
   "metadata": {},
   "source": [
    "### 3. Setup a GraphStorm Evaluator\n",
    "\n",
    "Now, `Evaluators` are task-oriented, i.e., `ClassificationEvaluator`, `RegressionEvaluator`, and `LPEvaluator`. And each Evaluator constructor could have a default evaluation metrics, i.e., `accuracy` for classification, `mse` for regression, and `mrr` for link prediction."
   ]
  },
  {
   "cell_type": "code",
   "execution_count": 8,
   "metadata": {
    "tags": []
   },
   "outputs": [],
   "source": [
    "# setup a Classification evaluator for the trainer\n",
    "evaluator = gs.eval.GSgnnMrrLPEvaluator(eval_frequency=1000)"
   ]
  },
  {
   "cell_type": "markdown",
   "metadata": {},
   "source": [
    "### 4. Setup a Trainer and Training"
   ]
  },
  {
   "cell_type": "code",
   "execution_count": 9,
   "metadata": {
    "scrolled": true,
    "tags": []
   },
   "outputs": [],
   "source": [
    "# create a GraphStorm node task trainer for the RGCN model\n",
    "trainer = gs.trainer.GSgnnLinkPredictionTrainer(model, topk_model_to_save=1)\n",
    "trainer.setup_evaluator(evaluator)\n",
    "trainer.setup_device(gs.utils.get_device())"
   ]
  },
  {
   "cell_type": "code",
   "execution_count": 10,
   "metadata": {
    "tags": []
   },
   "outputs": [
    {
     "name": "stderr",
     "output_type": "stream",
     "text": [
      "/home/ubuntu/anaconda3/envs/gsf/lib/python3.9/site-packages/dgl/backend/pytorch/tensor.py:445: UserWarning: TypedStorage is deprecated. It will be removed in the future and UntypedStorage will be the only storage class. This should only matter to you if you are using storages directly.  To access UntypedStorage directly, use tensor.untyped_storage() instead of tensor.storage()\n",
      "  assert input.numel() == input.storage().size(), (\n",
      "INFO:root:Epoch 00000 | Batch 000 | Train Loss: 0.7275 | Time: 0.1002\n",
      "INFO:root:Epoch 00000 | Batch 020 | Train Loss: 0.6885 | Time: 0.0729\n",
      "INFO:root:Epoch 00000 | Batch 040 | Train Loss: 0.6845 | Time: 0.0741\n",
      "INFO:root:Epoch 00000 | Batch 060 | Train Loss: 0.6943 | Time: 0.0746\n",
      "INFO:root:Epoch 00000 | Batch 080 | Train Loss: 0.6847 | Time: 0.0752\n",
      "INFO:root:Epoch 00000 | Batch 100 | Train Loss: 0.6890 | Time: 0.0765\n",
      "INFO:root:Epoch 00000 | Batch 120 | Train Loss: 0.6805 | Time: 0.0736\n",
      "INFO:root:Epoch 00000 | Batch 140 | Train Loss: 0.6825 | Time: 0.0739\n",
      "INFO:root:Epoch 00000 | Batch 160 | Train Loss: 0.6714 | Time: 0.0804\n",
      "INFO:root:Epoch 00000 | Batch 180 | Train Loss: 0.6800 | Time: 0.0671\n",
      "INFO:root:Epoch 00000 | Batch 200 | Train Loss: 0.6640 | Time: 0.0666\n",
      "INFO:root:Epoch 00000 | Batch 220 | Train Loss: 0.6722 | Time: 0.0660\n",
      "INFO:root:Epoch 00000 | Batch 240 | Train Loss: 0.6639 | Time: 0.0686\n",
      "INFO:root:Epoch 00000 | Batch 260 | Train Loss: 0.6685 | Time: 0.0678\n",
      "INFO:root:Epoch 00000 | Batch 280 | Train Loss: 0.6700 | Time: 0.0668\n",
      "INFO:root:Epoch 00000 | Batch 300 | Train Loss: 0.6449 | Time: 0.0692\n",
      "INFO:root:Epoch 00000 | Batch 320 | Train Loss: 0.6693 | Time: 0.0661\n",
      "INFO:root:Epoch 00000 | Batch 340 | Train Loss: 0.6435 | Time: 0.0685\n",
      "INFO:root:Epoch 00000 | Batch 360 | Train Loss: 0.6452 | Time: 0.0670\n",
      "INFO:root:Epoch 00000 | Batch 380 | Train Loss: 0.6272 | Time: 0.0671\n",
      "INFO:root:Epoch 0 take 27.566 seconds\n",
      "INFO:root:[Rank 0] dist inference: finishes 0 iterations.\n",
      "/data/graphstorm/python/graphstorm/eval/eval_func.py:614: UserWarning: To copy construct from a tensor, it is recommended to use sourceTensor.clone().detach() or sourceTensor.clone().detach().requires_grad_(True), rather than torch.tensor(sourceTensor).\n",
      "  metrics = th.tensor(th.div(th.sum(logs),len(logs)))\n",
      "INFO:root:Step 385 | Validation mrr: 0.1117\n",
      "INFO:root:Step 385 | Test mrr: 0.1078\n",
      "INFO:root:Step 385 | Best Validation mrr: 0.1117\n",
      "INFO:root:Step 385 | Best Test mrr: 0.1078\n",
      "INFO:root:Step 385 | Best Iteration mrr: 385.0000\n",
      "INFO:root: Eval time: 1.3828, Evaluation step: 385.\n",
      "INFO:root:successfully save the model to a_save_path/epoch-0\n",
      "INFO:root:Time on save model: 0.003 seconds\n",
      "INFO:root:Epoch 00001 | Batch 000 | Train Loss: 0.6569 | Time: 0.0761\n",
      "INFO:root:Epoch 00001 | Batch 020 | Train Loss: 0.6706 | Time: 0.0681\n",
      "INFO:root:Epoch 00001 | Batch 040 | Train Loss: 0.6645 | Time: 0.0668\n",
      "INFO:root:Epoch 00001 | Batch 060 | Train Loss: 0.6431 | Time: 0.0688\n",
      "INFO:root:Epoch 00001 | Batch 080 | Train Loss: 0.6241 | Time: 0.0699\n",
      "INFO:root:Epoch 00001 | Batch 100 | Train Loss: 0.6444 | Time: 0.0733\n",
      "INFO:root:Epoch 00001 | Batch 120 | Train Loss: 0.6306 | Time: 0.0687\n",
      "INFO:root:Epoch 00001 | Batch 140 | Train Loss: 0.6457 | Time: 0.0678\n",
      "INFO:root:Epoch 00001 | Batch 160 | Train Loss: 0.6045 | Time: 0.0680\n",
      "INFO:root:Epoch 00001 | Batch 180 | Train Loss: 0.6203 | Time: 0.0678\n",
      "INFO:root:Epoch 00001 | Batch 200 | Train Loss: 0.6091 | Time: 0.0672\n",
      "INFO:root:Epoch 00001 | Batch 220 | Train Loss: 0.6350 | Time: 0.0673\n",
      "INFO:root:Epoch 00001 | Batch 240 | Train Loss: 0.6241 | Time: 0.0685\n",
      "INFO:root:Epoch 00001 | Batch 260 | Train Loss: 0.6151 | Time: 0.0681\n",
      "INFO:root:Epoch 00001 | Batch 280 | Train Loss: 0.6331 | Time: 0.0667\n",
      "INFO:root:Epoch 00001 | Batch 300 | Train Loss: 0.6270 | Time: 0.0662\n",
      "INFO:root:Epoch 00001 | Batch 320 | Train Loss: 0.5877 | Time: 0.0668\n",
      "INFO:root:Epoch 00001 | Batch 340 | Train Loss: 0.5987 | Time: 0.0662\n",
      "INFO:root:Epoch 00001 | Batch 360 | Train Loss: 0.6140 | Time: 0.0677\n",
      "INFO:root:Epoch 00001 | Batch 380 | Train Loss: 0.5954 | Time: 0.0672\n",
      "INFO:root:Epoch 1 take 26.193 seconds\n",
      "INFO:root:[Rank 0] dist inference: finishes 0 iterations.\n",
      "INFO:root:Step 770 | Validation mrr: 0.1251\n",
      "INFO:root:Step 770 | Test mrr: 0.1239\n",
      "INFO:root:Step 770 | Best Validation mrr: 0.1251\n",
      "INFO:root:Step 770 | Best Test mrr: 0.1239\n",
      "INFO:root:Step 770 | Best Iteration mrr: 770.0000\n",
      "INFO:root: Eval time: 1.3623, Evaluation step: 770.\n",
      "INFO:root:successfully save the model to a_save_path/epoch-1\n",
      "INFO:root:Time on save model: 0.002 seconds\n",
      "INFO:root:Epoch 00002 | Batch 000 | Train Loss: 0.5982 | Time: 0.0698\n",
      "INFO:root:Epoch 00002 | Batch 020 | Train Loss: 0.6082 | Time: 0.0673\n",
      "INFO:root:Epoch 00002 | Batch 040 | Train Loss: 0.5927 | Time: 0.0707\n",
      "INFO:root:Epoch 00002 | Batch 060 | Train Loss: 0.6244 | Time: 0.0668\n",
      "INFO:root:Epoch 00002 | Batch 080 | Train Loss: 0.5965 | Time: 0.0699\n",
      "INFO:root:Epoch 00002 | Batch 100 | Train Loss: 0.5974 | Time: 0.0689\n",
      "INFO:root:Epoch 00002 | Batch 120 | Train Loss: 0.6217 | Time: 0.0674\n",
      "INFO:root:Epoch 00002 | Batch 140 | Train Loss: 0.6099 | Time: 0.0674\n",
      "INFO:root:Epoch 00002 | Batch 160 | Train Loss: 0.5901 | Time: 0.0682\n",
      "INFO:root:Epoch 00002 | Batch 180 | Train Loss: 0.5978 | Time: 0.0679\n",
      "INFO:root:Epoch 00002 | Batch 200 | Train Loss: 0.6077 | Time: 0.0680\n",
      "INFO:root:Epoch 00002 | Batch 220 | Train Loss: 0.6125 | Time: 0.0688\n",
      "INFO:root:Step 1000 | Train loss: 0.6262\n",
      "INFO:root:[Rank 0] dist inference: finishes 0 iterations.\n",
      "INFO:root:Step 1000 | Validation mrr: 0.1404\n",
      "INFO:root:Step 1000 | Test mrr: 0.1322\n",
      "INFO:root:Step 1000 | Best Validation mrr: 0.1404\n",
      "INFO:root:Step 1000 | Best Test mrr: 0.1322\n",
      "INFO:root:Step 1000 | Best Iteration mrr: 1000.0000\n",
      "INFO:root: Eval time: 1.3442, Evaluation step: 1000.\n",
      "INFO:root:successfully save the model to a_save_path/epoch-2-iter-229\n",
      "INFO:root:Time on save model: 0.002 seconds\n",
      "INFO:root:Epoch 00002 | Batch 240 | Train Loss: 0.5822 | Time: 0.0736\n",
      "INFO:root:Epoch 00002 | Batch 260 | Train Loss: 0.5931 | Time: 0.0754\n",
      "INFO:root:Epoch 00002 | Batch 280 | Train Loss: 0.5772 | Time: 0.0748\n",
      "INFO:root:Epoch 00002 | Batch 300 | Train Loss: 0.5674 | Time: 0.0755\n",
      "INFO:root:Epoch 00002 | Batch 320 | Train Loss: 0.5971 | Time: 0.0742\n",
      "INFO:root:Epoch 00002 | Batch 340 | Train Loss: 0.6097 | Time: 0.0742\n",
      "INFO:root:Epoch 00002 | Batch 360 | Train Loss: 0.5809 | Time: 0.0736\n",
      "INFO:root:Epoch 00002 | Batch 380 | Train Loss: 0.5691 | Time: 0.0753\n",
      "INFO:root:Epoch 2 take 28.683 seconds\n",
      "INFO:root:[Rank 0] dist inference: finishes 0 iterations.\n",
      "INFO:root:Step 1155 | Validation mrr: 0.1390\n",
      "INFO:root:Step 1155 | Test mrr: 0.1356\n",
      "INFO:root:Step 1155 | Best Validation mrr: 0.1404\n",
      "INFO:root:Step 1155 | Best Test mrr: 0.1322\n",
      "INFO:root:Step 1155 | Best Iteration mrr: 1000.0000\n",
      "INFO:root: Eval time: 1.5275, Evaluation step: 1155.\n",
      "INFO:root:Epoch 00003 | Batch 000 | Train Loss: 0.5848 | Time: 0.0799\n",
      "INFO:root:Epoch 00003 | Batch 020 | Train Loss: 0.5960 | Time: 0.0666\n",
      "INFO:root:Epoch 00003 | Batch 040 | Train Loss: 0.5936 | Time: 0.0686\n",
      "INFO:root:Epoch 00003 | Batch 060 | Train Loss: 0.6025 | Time: 0.0695\n",
      "INFO:root:Epoch 00003 | Batch 080 | Train Loss: 0.5756 | Time: 0.0681\n",
      "INFO:root:Epoch 00003 | Batch 100 | Train Loss: 0.6037 | Time: 0.0673\n",
      "INFO:root:Epoch 00003 | Batch 120 | Train Loss: 0.5982 | Time: 0.0692\n",
      "INFO:root:Epoch 00003 | Batch 140 | Train Loss: 0.5940 | Time: 0.0701\n",
      "INFO:root:Epoch 00003 | Batch 160 | Train Loss: 0.5778 | Time: 0.0741\n",
      "INFO:root:Epoch 00003 | Batch 180 | Train Loss: 0.5915 | Time: 0.0686\n",
      "INFO:root:Epoch 00003 | Batch 200 | Train Loss: 0.5816 | Time: 0.0690\n",
      "INFO:root:Epoch 00003 | Batch 220 | Train Loss: 0.5906 | Time: 0.0685\n",
      "INFO:root:Epoch 00003 | Batch 240 | Train Loss: 0.5886 | Time: 0.0669\n",
      "INFO:root:Epoch 00003 | Batch 260 | Train Loss: 0.6035 | Time: 0.0685\n",
      "INFO:root:Epoch 00003 | Batch 280 | Train Loss: 0.5889 | Time: 0.0694\n",
      "INFO:root:Epoch 00003 | Batch 300 | Train Loss: 0.5833 | Time: 0.0682\n",
      "INFO:root:Epoch 00003 | Batch 320 | Train Loss: 0.5869 | Time: 0.0687\n",
      "INFO:root:Epoch 00003 | Batch 340 | Train Loss: 0.5667 | Time: 0.0675\n",
      "INFO:root:Epoch 00003 | Batch 360 | Train Loss: 0.5905 | Time: 0.0680\n",
      "INFO:root:Epoch 00003 | Batch 380 | Train Loss: 0.6060 | Time: 0.0688\n",
      "INFO:root:Epoch 3 take 26.411 seconds\n",
      "INFO:root:[Rank 0] dist inference: finishes 0 iterations.\n",
      "INFO:root:Step 1540 | Validation mrr: 0.1485\n",
      "INFO:root:Step 1540 | Test mrr: 0.1438\n",
      "INFO:root:Step 1540 | Best Validation mrr: 0.1485\n",
      "INFO:root:Step 1540 | Best Test mrr: 0.1438\n",
      "INFO:root:Step 1540 | Best Iteration mrr: 1540.0000\n",
      "INFO:root: Eval time: 1.3672, Evaluation step: 1540.\n",
      "INFO:root:successfully save the model to a_save_path/epoch-3\n",
      "INFO:root:Time on save model: 0.002 seconds\n",
      "INFO:root:Epoch 00004 | Batch 000 | Train Loss: 0.5814 | Time: 0.0781\n",
      "INFO:root:Epoch 00004 | Batch 020 | Train Loss: 0.5644 | Time: 0.0729\n",
      "INFO:root:Epoch 00004 | Batch 040 | Train Loss: 0.5690 | Time: 0.0767\n",
      "INFO:root:Epoch 00004 | Batch 060 | Train Loss: 0.6050 | Time: 0.0756\n",
      "INFO:root:Epoch 00004 | Batch 080 | Train Loss: 0.5510 | Time: 0.0746\n",
      "INFO:root:Epoch 00004 | Batch 100 | Train Loss: 0.5771 | Time: 0.0751\n",
      "INFO:root:Epoch 00004 | Batch 120 | Train Loss: 0.5647 | Time: 0.0737\n",
      "INFO:root:Epoch 00004 | Batch 140 | Train Loss: 0.5939 | Time: 0.0741\n",
      "INFO:root:Epoch 00004 | Batch 160 | Train Loss: 0.6316 | Time: 0.0748\n",
      "INFO:root:Epoch 00004 | Batch 180 | Train Loss: 0.5980 | Time: 0.0742\n",
      "INFO:root:Epoch 00004 | Batch 200 | Train Loss: 0.5889 | Time: 0.0774\n",
      "INFO:root:Epoch 00004 | Batch 220 | Train Loss: 0.5762 | Time: 0.0742\n",
      "INFO:root:Epoch 00004 | Batch 240 | Train Loss: 0.5755 | Time: 0.0764\n",
      "INFO:root:Epoch 00004 | Batch 260 | Train Loss: 0.5747 | Time: 0.0742\n",
      "INFO:root:Epoch 00004 | Batch 280 | Train Loss: 0.5699 | Time: 0.0747\n",
      "INFO:root:Epoch 00004 | Batch 300 | Train Loss: 0.5699 | Time: 0.0745\n",
      "INFO:root:Epoch 00004 | Batch 320 | Train Loss: 0.5834 | Time: 0.0744\n",
      "INFO:root:Epoch 00004 | Batch 340 | Train Loss: 0.5833 | Time: 0.0736\n",
      "INFO:root:Epoch 00004 | Batch 360 | Train Loss: 0.5872 | Time: 0.0772\n",
      "INFO:root:Epoch 00004 | Batch 380 | Train Loss: 0.6014 | Time: 0.0739\n",
      "INFO:root:Epoch 4 take 28.749 seconds\n",
      "INFO:root:[Rank 0] dist inference: finishes 0 iterations.\n",
      "INFO:root:Step 1925 | Validation mrr: 0.1601\n",
      "INFO:root:Step 1925 | Test mrr: 0.1532\n",
      "INFO:root:Step 1925 | Best Validation mrr: 0.1601\n",
      "INFO:root:Step 1925 | Best Test mrr: 0.1532\n",
      "INFO:root:Step 1925 | Best Iteration mrr: 1925.0000\n",
      "INFO:root: Eval time: 1.4325, Evaluation step: 1925.\n",
      "INFO:root:successfully save the model to a_save_path/epoch-4\n",
      "INFO:root:Time on save model: 0.003 seconds\n",
      "INFO:root:Peak RAM Mem alloc: 730.2422 MB\n",
      "INFO:root:best_test_mrr: {'mrr': 0.1531756967306137}\n",
      "INFO:root:best_val_mrr: {'mrr': 0.16006936132907867}\n",
      "INFO:root:peak_GPU_mem_alloc_MB: 0.0\n",
      "INFO:root:peak_RAM_mem_alloc_MB: 730.2421875\n",
      "INFO:root:best validation iteration: 1925\n",
      "INFO:root:best model path: a_save_path/epoch-4\n"
     ]
    }
   ],
   "source": [
    "# Train the model with the trainer using fit() function\n",
    "trainer.fit(train_loader=train_dataloader,\n",
    "            val_loader=val_dataloader,\n",
    "            test_loader=test_dataloader,\n",
    "            num_epochs=5,\n",
    "            save_model_path='a_save_path/',\n",
    "            save_model_frequency=1000,\n",
    "            use_mini_batch_infer=True)"
   ]
  },
  {
   "cell_type": "markdown",
   "metadata": {},
   "source": [
    "### (Optional) 5. Visualize Model Performance History\n",
    "\n",
    "Next, we examine the model performance on the validation, and testing over the training process."
   ]
  },
  {
   "cell_type": "code",
   "execution_count": 11,
   "metadata": {
    "tags": []
   },
   "outputs": [
    {
     "data": {
      "text/plain": [
       "<matplotlib.legend.Legend at 0x7f5e42ca7df0>"
      ]
     },
     "execution_count": 11,
     "metadata": {},
     "output_type": "execute_result"
    },
    {
     "data": {
      "image/png": "[encoded data removed]",
      "text/plain": [
       "<Figure size 640x480 with 1 Axes>"
      ]
     },
     "metadata": {},
     "output_type": "display_data"
    }
   ],
   "source": [
    "import matplotlib.pyplot as plt\n",
    "\n",
    "# extract evaluation history of metrics from the trainer's evaluator:\n",
    "val_metrics, test_metrics = [], []\n",
    "for val_metric, test_metric in trainer.evaluator.history:\n",
    "    val_metrics.append(val_metric['mrr'])\n",
    "    test_metrics.append(test_metric['mrr'])\n",
    "\n",
    "# plot the performance curves\n",
    "fig, ax = plt.subplots()\n",
    "ax.plot(val_metrics, label='val')\n",
    "ax.plot(test_metrics, label='test')\n",
    "ax.set(xlabel='Epoch', ylabel='Mrr')\n",
    "ax.legend(loc='best')"
   ]
  },
  {
   "cell_type": "markdown",
   "metadata": {},
   "source": [
    "### 6. Inference with the Trained Model\n",
    "\n",
    "GraphStorm automatically save the best performaned model in the given `save_model_path` argument. We can first find out what is the best model and its path."
   ]
  },
  {
   "cell_type": "code",
   "execution_count": 12,
   "metadata": {
    "tags": []
   },
   "outputs": [
    {
     "name": "stdout",
     "output_type": "stream",
     "text": [
      "Best model path: a_save_path/epoch-4\n"
     ]
    }
   ],
   "source": [
    "# after training, the best model is saved to disk:\n",
    "best_model_path = trainer.get_best_model_path()\n",
    "print('Best model path:', best_model_path)"
   ]
  },
  {
   "cell_type": "code",
   "execution_count": 13,
   "metadata": {},
   "outputs": [
    {
     "name": "stderr",
     "output_type": "stream",
     "text": [
      "INFO:root:successfully load the model from a_save_path/epoch-4\n",
      "INFO:root:Time on load model: 0.004 seconds\n"
     ]
    }
   ],
   "source": [
    "# we can restore the model from the saved path using the model's restore_model() function.\n",
    "model.restore_model(best_model_path)"
   ]
  },
  {
   "cell_type": "code",
   "execution_count": 14,
   "metadata": {},
   "outputs": [
    {
     "name": "stderr",
     "output_type": "stream",
     "text": [
      "INFO:root:part 0, test 3078\n"
     ]
    }
   ],
   "source": [
    "# Setup dataloader for inference\n",
    "infer_dataloader = gs.dataloading.GSgnnLinkPredictionTestDataLoader(dataset=acm_data,\n",
    "                                                                    target_idx=acm_data.get_edge_test_set(etypes=[('paper', 'citing', 'paper')]),\n",
    "                                                                    fanout=[100, 100],\n",
    "                                                                    num_negative_edges=100,\n",
    "                                                                    node_feats=nfeats_4_modeling,\n",
    "                                                                    batch_size=256)\n",
    "# Create an Inferrer object\n",
    "infer = gs.inference.GSgnnLinkPredictionInferrer(model)"
   ]
  },
  {
   "cell_type": "code",
   "execution_count": 15,
   "metadata": {},
   "outputs": [
    {
     "name": "stderr",
     "output_type": "stream",
     "text": [
      "INFO:root:[Rank 0] dist inference: finishes 0 iterations.\n",
      "INFO:root:save embeddings of author to infer/embeddings\n",
      "INFO:root:save embeddings of paper to infer/embeddings\n",
      "INFO:root:save embeddings of subject to infer/embeddings\n",
      "INFO:root:Writing GNN embeddings to infer/embeddings in pytorch format.\n"
     ]
    }
   ],
   "source": [
    "# Run inference on the inference dataset\n",
    "infer.infer(acm_data,\n",
    "            infer_dataloader,\n",
    "            save_embed_path='infer/embeddings',\n",
    "            use_mini_batch_infer=True)"
   ]
  },
  {
   "cell_type": "code",
   "execution_count": 16,
   "metadata": {},
   "outputs": [
    {
     "name": "stdout",
     "output_type": "stream",
     "text": [
      "total 6.3M\n",
      "-rw-rw-r-- 1 ubuntu ubuntu 6.2M May  9 22:59 embed-00000.pt\n",
      "-rw-rw-r-- 1 ubuntu ubuntu  99K May  9 22:59 embed_nids-00000.pt\n"
     ]
    }
   ],
   "source": [
    "# The GNN embeddings and predictions on the inference graph are saved to the folder named after the target_ntype\n",
    "!ls -lh infer/embeddings/paper"
   ]
  },
  {
   "cell_type": "code",
   "execution_count": null,
   "metadata": {},
   "outputs": [],
   "source": []
  }
 ],
 "metadata": {
  "kernelspec": {
   "display_name": "gsf",
   "language": "python",
   "name": "gsf"
  },
  "language_info": {
   "codemirror_mode": {
    "name": "ipython",
    "version": 3
   },
   "file_extension": ".py",
   "mimetype": "text/x-python",
   "name": "python",
   "nbconvert_exporter": "python",
   "pygments_lexer": "ipython3",
   "version": "3.9.18"
  }
 },
 "nbformat": 4,
 "nbformat_minor": 4
}
