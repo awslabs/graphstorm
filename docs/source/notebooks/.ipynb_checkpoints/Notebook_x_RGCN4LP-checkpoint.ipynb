{
 "cells": [
  {
   "cell_type": "markdown",
   "metadata": {},
   "source": [
    "# Notebook x: Use APIs for Link Prediction\n",
    "\n",
    "This notebook demonstrates how to use GraphStorm's APIs to create graph machine learning pipelines. This notebook is designed to run on GraphStorm's Standalone mode, i.e., in a single Linux machine with CPUs or GPUs. \n",
    "\n",
    ".\n",
    "\n",
    "### Prerequsites\n",
    "\n",
    "- GraphStorm installed using pip. Please find [more details on installation of GraphStorm](https://graphstorm.readthedocs.io/en/latest/install/env-setup.html#setup-graphstorm-with-pip-packages).\n",
    "- ACM data created in the [Notebook 0: Data Prepare](https://graphstorm.readthedocs.io/en/latest/notebooks/Notebook_0_Data_Prepare.html), and is stored in the `./acm_gs_1p/` folder.\n",
    "- Installation of supporting libraries, e.g., matplotlib."
   ]
  },
  {
   "cell_type": "code",
   "execution_count": 1,
   "metadata": {},
   "outputs": [],
   "source": [
    "# Setup log level in Jupyter Notebook\n",
    "import logging\n",
    "logging.basicConfig(level=20)"
   ]
  },
  {
   "cell_type": "markdown",
   "metadata": {},
   "source": [
    "---\n",
    "\n",
    "### 0. Initialize the GraphStorm Standalone Environment\n",
    "\n",
    "We might set default argument values in `gs.initialize()` for the Standalone mode."
   ]
  },
  {
   "cell_type": "code",
   "execution_count": 2,
   "metadata": {
    "tags": []
   },
   "outputs": [],
   "source": [
    "import graphstorm as gs\n",
    "gs.initialize()"
   ]
  },
  {
   "cell_type": "markdown",
   "metadata": {},
   "source": [
    "### 1. Setup GraphStorm Dataset and DataLoaders\n",
    "\n",
    "The role of `gs.dataset.GSgnnData` is mainly for loading and storing given partitioned graphs. The existing roles such as target node type, label field, and node feature for training/inference, will move to Dataloader classes. "
   ]
  },
  {
   "cell_type": "code",
   "execution_count": 3,
   "metadata": {
    "tags": []
   },
   "outputs": [],
   "source": [
    "nfeats_4_modeling = {'author':['feat'], 'paper':['feat'],'subject':['feat']}\n",
    "\n",
    "# create a GraphStorm Dataset for the ACM graph data generated in the Notebook 0\n",
    "acm_data = gs.dataloading.GSgnnData(part_config='./acm_gs_1p/acm.json', node_feat_field=nfeats_4_modeling)"
   ]
  },
  {
   "cell_type": "markdown",
   "metadata": {},
   "source": [
    "`Dataloaders` take node feature dictionary and label field string. They do not handle features and labels, but pass these information to `Datasets`. And then `Datasets` retrieve related information and return to `Dataloaders`."
   ]
  },
  {
   "cell_type": "code",
   "execution_count": 4,
   "metadata": {
    "tags": []
   },
   "outputs": [
    {
     "name": "stderr",
     "output_type": "stream",
     "text": [
      "INFO:root:part 0, train 24631\n",
      "INFO:root:part 0, val 3078\n",
      "INFO:root:part 0, test 3078\n"
     ]
    }
   ],
   "source": [
    "# define dataloaders for training and validation\n",
    "train_dataloader = gs.dataloading.GSgnnLinkPredictionDataLoader(\n",
    "    dataset=acm_data,\n",
    "    target_idx=acm_data.get_edge_train_set(etypes=[('paper', 'citing', 'paper')]),\n",
    "    fanout=[20, 20],\n",
    "    num_negative_edges=10,\n",
    "    node_feats=nfeats_4_modeling,\n",
    "    batch_size=64,\n",
    "    exclude_training_targets=False,\n",
    "    reverse_edge_types_map=[\"paper,citing,cited,paper\"],\n",
    "    train_task=True)\n",
    "val_dataloader = gs.dataloading.GSgnnLinkPredictionTestDataLoader(\n",
    "    dataset=acm_data,\n",
    "    target_idx=acm_data.get_edge_val_set(etypes=[('paper', 'citing', 'paper')]),\n",
    "    fanout=[100, 100],\n",
    "    num_negative_edges=100,\n",
    "    node_feats=nfeats_4_modeling,\n",
    "    batch_size=256)\n",
    "test_dataloader = gs.dataloading.GSgnnLinkPredictionTestDataLoader(\n",
    "    dataset=acm_data,\n",
    "    target_idx=acm_data.get_edge_test_set(etypes=[('paper', 'citing', 'paper')]),\n",
    "    fanout=[100, 100],\n",
    "    num_negative_edges=100,\n",
    "    node_feats=nfeats_4_modeling,\n",
    "    batch_size=256)"
   ]
  },
  {
   "cell_type": "markdown",
   "metadata": {},
   "source": [
    "### 2. Create a GraphStorm-compatible RGCN Model for Node Classification \n",
    "\n",
    "This `Model` could be a customized model extends from `GSgnnModel` and implements required methods. The `GSgnnModel` has a few new API features."
   ]
  },
  {
   "cell_type": "code",
   "execution_count": 5,
   "metadata": {
    "tags": []
   },
   "outputs": [],
   "source": [
    "# import a simplified RGCN model for node classification\n",
    "from demo_models import RgcnLPModel\n",
    "\n",
    "model = RgcnLPModel(\n",
    "    g=acm_data.g,\n",
    "    num_hid_layers=2,\n",
    "    feat_size=gs.get_node_feat_size(acm_data.g, nfeats_4_modeling),\n",
    "    hid_size=128)"
   ]
  },
  {
   "cell_type": "markdown",
   "metadata": {},
   "source": [
    "### 3. Setup a GraphStorm Evaluator\n",
    "\n",
    "Now, `Evaluators` are task-oriented, i.e., `ClassificationEvaluator`, `RegressionEvaluator`, and `LPEvaluator`. And each Evaluator constructor could have a default evaluation metrics, i.e., `accuracy` for classification, `mse` for regression, and `mrr` for link prediction."
   ]
  },
  {
   "cell_type": "code",
   "execution_count": 6,
   "metadata": {
    "tags": []
   },
   "outputs": [],
   "source": [
    "# setup a Classification evaluator for the trainer\n",
    "evaluator = gs.eval.GSgnnMrrLPEvaluator(eval_frequency=1000)"
   ]
  },
  {
   "cell_type": "markdown",
   "metadata": {},
   "source": [
    "### 4. Setup a Trainer and Training"
   ]
  },
  {
   "cell_type": "code",
   "execution_count": 7,
   "metadata": {
    "scrolled": true,
    "tags": []
   },
   "outputs": [],
   "source": [
    "# create a GraphStorm node task trainer for the RGCN model\n",
    "trainer = gs.trainer.GSgnnLinkPredictionTrainer(model, topk_model_to_save=1)\n",
    "trainer.setup_evaluator(evaluator)\n",
    "trainer.setup_device(gs.utils.get_device())"
   ]
  },
  {
   "cell_type": "code",
   "execution_count": 8,
   "metadata": {
    "tags": []
   },
   "outputs": [
    {
     "name": "stderr",
     "output_type": "stream",
     "text": [
      "/home/ubuntu/anaconda3/envs/gsf/lib/python3.9/site-packages/dgl/backend/pytorch/tensor.py:445: UserWarning: TypedStorage is deprecated. It will be removed in the future and UntypedStorage will be the only storage class. This should only matter to you if you are using storages directly.  To access UntypedStorage directly, use tensor.untyped_storage() instead of tensor.storage()\n",
      "  assert input.numel() == input.storage().size(), (\n",
      "INFO:root:Epoch 00000 | Batch 000 | Train Loss: 0.7193 | Time: 0.0936\n",
      "INFO:root:Epoch 00000 | Batch 020 | Train Loss: 0.6908 | Time: 0.0664\n",
      "INFO:root:Epoch 00000 | Batch 040 | Train Loss: 0.6887 | Time: 0.0659\n",
      "INFO:root:Epoch 00000 | Batch 060 | Train Loss: 0.6952 | Time: 0.0656\n",
      "INFO:root:Epoch 00000 | Batch 080 | Train Loss: 0.6858 | Time: 0.0663\n",
      "INFO:root:Step 100 | Train loss: 0.6821\n",
      "INFO:root:[Rank 0] dist inference: finishes 0 iterations.\n",
      "/data/graphstorm/python/graphstorm/eval/eval_func.py:614: UserWarning: To copy construct from a tensor, it is recommended to use sourceTensor.clone().detach() or sourceTensor.clone().detach().requires_grad_(True), rather than torch.tensor(sourceTensor).\n",
      "  metrics = th.tensor(th.div(th.sum(logs),len(logs)))\n",
      "INFO:root:Step 100 | Validation mrr: 0.0907\n",
      "INFO:root:Step 100 | Test mrr: 0.0881\n",
      "INFO:root:Step 100 | Best Validation mrr: 0.0907\n",
      "INFO:root:Step 100 | Best Test mrr: 0.0881\n",
      "INFO:root:Step 100 | Best Iteration mrr: 100.0000\n",
      "INFO:root: Eval time: 1.4183, Evaluation step: 100.\n",
      "INFO:root:Epoch 00000 | Batch 100 | Train Loss: 0.6825 | Time: 0.0721\n",
      "INFO:root:Epoch 00000 | Batch 120 | Train Loss: 0.6821 | Time: 0.0669\n",
      "INFO:root:Epoch 00000 | Batch 140 | Train Loss: 0.6811 | Time: 0.0687\n",
      "INFO:root:Epoch 00000 | Batch 160 | Train Loss: 0.6768 | Time: 0.0670\n",
      "INFO:root:Epoch 00000 | Batch 180 | Train Loss: 0.6682 | Time: 0.0679\n",
      "INFO:root:Step 200 | Train loss: 0.6704\n",
      "INFO:root:[Rank 0] dist inference: finishes 0 iterations.\n",
      "INFO:root:Step 200 | Validation mrr: 0.0957\n",
      "INFO:root:Step 200 | Test mrr: 0.0935\n",
      "INFO:root:Step 200 | Best Validation mrr: 0.0957\n",
      "INFO:root:Step 200 | Best Test mrr: 0.0935\n",
      "INFO:root:Step 200 | Best Iteration mrr: 200.0000\n",
      "INFO:root: Eval time: 1.3842, Evaluation step: 200.\n",
      "INFO:root:Epoch 00000 | Batch 200 | Train Loss: 0.6581 | Time: 0.0745\n",
      "INFO:root:Epoch 00000 | Batch 220 | Train Loss: 0.6638 | Time: 0.0730\n",
      "INFO:root:Epoch 00000 | Batch 240 | Train Loss: 0.6805 | Time: 0.0737\n",
      "INFO:root:Epoch 00000 | Batch 260 | Train Loss: 0.6679 | Time: 0.0750\n",
      "INFO:root:Epoch 00000 | Batch 280 | Train Loss: 0.6495 | Time: 0.0733\n",
      "INFO:root:Step 300 | Train loss: 0.6274\n",
      "INFO:root:[Rank 0] dist inference: finishes 0 iterations.\n",
      "INFO:root:Step 300 | Validation mrr: 0.0964\n",
      "INFO:root:Step 300 | Test mrr: 0.0976\n",
      "INFO:root:Step 300 | Best Validation mrr: 0.0964\n",
      "INFO:root:Step 300 | Best Test mrr: 0.0976\n",
      "INFO:root:Step 300 | Best Iteration mrr: 300.0000\n",
      "INFO:root: Eval time: 1.4996, Evaluation step: 300.\n",
      "INFO:root:Epoch 00000 | Batch 300 | Train Loss: 0.6572 | Time: 0.0757\n",
      "INFO:root:Epoch 00000 | Batch 320 | Train Loss: 0.6459 | Time: 0.0753\n",
      "INFO:root:Epoch 00000 | Batch 340 | Train Loss: 0.6346 | Time: 0.0746\n",
      "INFO:root:Epoch 00000 | Batch 360 | Train Loss: 0.6663 | Time: 0.0750\n",
      "INFO:root:Epoch 00000 | Batch 380 | Train Loss: 0.6326 | Time: 0.0755\n",
      "INFO:root:Epoch 0 take 31.628 seconds\n",
      "INFO:root:[Rank 0] dist inference: finishes 0 iterations.\n",
      "INFO:root:Step 385 | Validation mrr: 0.1075\n",
      "INFO:root:Step 385 | Test mrr: 0.1078\n",
      "INFO:root:Step 385 | Best Validation mrr: 0.1075\n",
      "INFO:root:Step 385 | Best Test mrr: 0.1078\n",
      "INFO:root:Step 385 | Best Iteration mrr: 385.0000\n",
      "INFO:root: Eval time: 1.5161, Evaluation step: 385.\n",
      "INFO:root:successfully save the model to a_save_path/epoch-0\n",
      "INFO:root:Time on save model: 0.003 seconds\n",
      "INFO:root:Epoch 00001 | Batch 000 | Train Loss: 0.6271 | Time: 0.0742\n",
      "INFO:root:Step 400 | Train loss: 0.6456\n",
      "INFO:root:[Rank 0] dist inference: finishes 0 iterations.\n",
      "INFO:root:Step 400 | Validation mrr: 0.1109\n",
      "INFO:root:Step 400 | Test mrr: 0.1095\n",
      "INFO:root:Step 400 | Best Validation mrr: 0.1109\n",
      "INFO:root:Step 400 | Best Test mrr: 0.1095\n",
      "INFO:root:Step 400 | Best Iteration mrr: 400.0000\n",
      "INFO:root: Eval time: 1.5236, Evaluation step: 400.\n",
      "INFO:root:Epoch 00001 | Batch 020 | Train Loss: 0.6283 | Time: 0.0736\n",
      "INFO:root:Epoch 00001 | Batch 040 | Train Loss: 0.6347 | Time: 0.0749\n",
      "INFO:root:Epoch 00001 | Batch 060 | Train Loss: 0.6130 | Time: 0.0727\n",
      "INFO:root:Epoch 00001 | Batch 080 | Train Loss: 0.6201 | Time: 0.0731\n",
      "INFO:root:Epoch 00001 | Batch 100 | Train Loss: 0.6099 | Time: 0.0802\n",
      "INFO:root:Step 500 | Train loss: 0.6194\n",
      "INFO:root:[Rank 0] dist inference: finishes 0 iterations.\n",
      "INFO:root:Step 500 | Validation mrr: 0.1115\n",
      "INFO:root:Step 500 | Test mrr: 0.1111\n",
      "INFO:root:Step 500 | Best Validation mrr: 0.1115\n",
      "INFO:root:Step 500 | Best Test mrr: 0.1111\n",
      "INFO:root:Step 500 | Best Iteration mrr: 500.0000\n",
      "INFO:root: Eval time: 1.6167, Evaluation step: 500.\n",
      "INFO:root:Epoch 00001 | Batch 120 | Train Loss: 0.6095 | Time: 0.0742\n",
      "INFO:root:Epoch 00001 | Batch 140 | Train Loss: 0.6425 | Time: 0.0734\n",
      "INFO:root:Epoch 00001 | Batch 160 | Train Loss: 0.6271 | Time: 0.0736\n",
      "INFO:root:Epoch 00001 | Batch 180 | Train Loss: 0.6255 | Time: 0.0740\n",
      "INFO:root:Epoch 00001 | Batch 200 | Train Loss: 0.6210 | Time: 0.0750\n",
      "INFO:root:Step 600 | Train loss: 0.6132\n",
      "INFO:root:[Rank 0] dist inference: finishes 0 iterations.\n",
      "INFO:root:Step 600 | Validation mrr: 0.1186\n",
      "INFO:root:Step 600 | Test mrr: 0.1161\n",
      "INFO:root:Step 600 | Best Validation mrr: 0.1186\n",
      "INFO:root:Step 600 | Best Test mrr: 0.1161\n",
      "INFO:root:Step 600 | Best Iteration mrr: 600.0000\n",
      "INFO:root: Eval time: 1.5056, Evaluation step: 600.\n",
      "INFO:root:Epoch 00001 | Batch 220 | Train Loss: 0.5964 | Time: 0.0745\n",
      "INFO:root:Epoch 00001 | Batch 240 | Train Loss: 0.6145 | Time: 0.0739\n",
      "INFO:root:Epoch 00001 | Batch 260 | Train Loss: 0.6222 | Time: 0.0736\n",
      "INFO:root:Epoch 00001 | Batch 280 | Train Loss: 0.6045 | Time: 0.0745\n",
      "INFO:root:Epoch 00001 | Batch 300 | Train Loss: 0.6439 | Time: 0.0745\n",
      "INFO:root:Step 700 | Train loss: 0.5733\n",
      "INFO:root:[Rank 0] dist inference: finishes 0 iterations.\n",
      "INFO:root:Step 700 | Validation mrr: 0.1162\n",
      "INFO:root:Step 700 | Test mrr: 0.1161\n",
      "INFO:root:Step 700 | Best Validation mrr: 0.1186\n",
      "INFO:root:Step 700 | Best Test mrr: 0.1161\n",
      "INFO:root:Step 700 | Best Iteration mrr: 600.0000\n",
      "INFO:root: Eval time: 1.5309, Evaluation step: 700.\n",
      "INFO:root:Epoch 00001 | Batch 320 | Train Loss: 0.5852 | Time: 0.0756\n",
      "INFO:root:Epoch 00001 | Batch 340 | Train Loss: 0.5972 | Time: 0.0743\n",
      "INFO:root:Epoch 00001 | Batch 360 | Train Loss: 0.6164 | Time: 0.0739\n",
      "INFO:root:Epoch 00001 | Batch 380 | Train Loss: 0.6234 | Time: 0.0751\n",
      "INFO:root:Epoch 1 take 34.933 seconds\n",
      "INFO:root:[Rank 0] dist inference: finishes 0 iterations.\n",
      "INFO:root:Step 770 | Validation mrr: 0.1257\n",
      "INFO:root:Step 770 | Test mrr: 0.1250\n",
      "INFO:root:Step 770 | Best Validation mrr: 0.1257\n",
      "INFO:root:Step 770 | Best Test mrr: 0.1250\n",
      "INFO:root:Step 770 | Best Iteration mrr: 770.0000\n",
      "INFO:root: Eval time: 1.5642, Evaluation step: 770.\n",
      "INFO:root:successfully save the model to a_save_path/epoch-1\n",
      "INFO:root:Time on save model: 0.003 seconds\n",
      "INFO:root:Epoch 00002 | Batch 000 | Train Loss: 0.6063 | Time: 0.0778\n",
      "INFO:root:Epoch 00002 | Batch 020 | Train Loss: 0.6161 | Time: 0.0734\n",
      "INFO:root:Step 800 | Train loss: 0.5880\n",
      "INFO:root:[Rank 0] dist inference: finishes 0 iterations.\n",
      "INFO:root:Step 800 | Validation mrr: 0.1297\n",
      "INFO:root:Step 800 | Test mrr: 0.1240\n",
      "INFO:root:Step 800 | Best Validation mrr: 0.1297\n",
      "INFO:root:Step 800 | Best Test mrr: 0.1240\n",
      "INFO:root:Step 800 | Best Iteration mrr: 800.0000\n",
      "INFO:root: Eval time: 1.5252, Evaluation step: 800.\n",
      "INFO:root:Epoch 00002 | Batch 040 | Train Loss: 0.6209 | Time: 0.0712\n",
      "INFO:root:Epoch 00002 | Batch 060 | Train Loss: 0.5955 | Time: 0.0669\n",
      "INFO:root:Epoch 00002 | Batch 080 | Train Loss: 0.6246 | Time: 0.0687\n",
      "INFO:root:Epoch 00002 | Batch 100 | Train Loss: 0.5886 | Time: 0.0673\n",
      "INFO:root:Epoch 00002 | Batch 120 | Train Loss: 0.5935 | Time: 0.0680\n",
      "INFO:root:Step 900 | Train loss: 0.6055\n",
      "INFO:root:[Rank 0] dist inference: finishes 0 iterations.\n",
      "INFO:root:Step 900 | Validation mrr: 0.1294\n",
      "INFO:root:Step 900 | Test mrr: 0.1278\n",
      "INFO:root:Step 900 | Best Validation mrr: 0.1297\n",
      "INFO:root:Step 900 | Best Test mrr: 0.1240\n",
      "INFO:root:Step 900 | Best Iteration mrr: 800.0000\n",
      "INFO:root: Eval time: 1.4040, Evaluation step: 900.\n",
      "INFO:root:Epoch 00002 | Batch 140 | Train Loss: 0.5755 | Time: 0.0759\n",
      "INFO:root:Epoch 00002 | Batch 160 | Train Loss: 0.6140 | Time: 0.0745\n",
      "INFO:root:Epoch 00002 | Batch 180 | Train Loss: 0.6220 | Time: 0.0758\n",
      "INFO:root:Epoch 00002 | Batch 200 | Train Loss: 0.5921 | Time: 0.0773\n",
      "INFO:root:Epoch 00002 | Batch 220 | Train Loss: 0.5921 | Time: 0.0763\n",
      "INFO:root:Step 1000 | Train loss: 0.5810\n",
      "INFO:root:[Rank 0] dist inference: finishes 0 iterations.\n",
      "INFO:root:Step 1000 | Validation mrr: 0.1294\n",
      "INFO:root:Step 1000 | Test mrr: 0.1270\n",
      "INFO:root:Step 1000 | Best Validation mrr: 0.1297\n",
      "INFO:root:Step 1000 | Best Test mrr: 0.1240\n",
      "INFO:root:Step 1000 | Best Iteration mrr: 800.0000\n",
      "INFO:root: Eval time: 1.5211, Evaluation step: 1000.\n",
      "INFO:root:successfully save the model to a_save_path/epoch-2-iter-229\n",
      "INFO:root:Time on save model: 0.003 seconds\n",
      "INFO:root:Epoch 00002 | Batch 240 | Train Loss: 0.6246 | Time: 0.0706\n",
      "INFO:root:Epoch 00002 | Batch 260 | Train Loss: 0.5981 | Time: 0.0681\n",
      "INFO:root:Epoch 00002 | Batch 280 | Train Loss: 0.5744 | Time: 0.0682\n",
      "INFO:root:Epoch 00002 | Batch 300 | Train Loss: 0.5875 | Time: 0.0686\n",
      "INFO:root:Epoch 00002 | Batch 320 | Train Loss: 0.5900 | Time: 0.0687\n",
      "INFO:root:Step 1100 | Train loss: 0.5951\n",
      "INFO:root:[Rank 0] dist inference: finishes 0 iterations.\n",
      "INFO:root:Step 1100 | Validation mrr: 0.1315\n",
      "INFO:root:Step 1100 | Test mrr: 0.1287\n",
      "INFO:root:Step 1100 | Best Validation mrr: 0.1315\n",
      "INFO:root:Step 1100 | Best Test mrr: 0.1287\n",
      "INFO:root:Step 1100 | Best Iteration mrr: 1100.0000\n",
      "INFO:root: Eval time: 1.3874, Evaluation step: 1100.\n",
      "INFO:root:Epoch 00002 | Batch 340 | Train Loss: 0.5969 | Time: 0.0690\n",
      "INFO:root:Epoch 00002 | Batch 360 | Train Loss: 0.5984 | Time: 0.0676\n",
      "INFO:root:Epoch 00002 | Batch 380 | Train Loss: 0.5929 | Time: 0.0679\n",
      "INFO:root:Epoch 2 take 33.124 seconds\n",
      "INFO:root:[Rank 0] dist inference: finishes 0 iterations.\n",
      "INFO:root:Step 1155 | Validation mrr: 0.1315\n",
      "INFO:root:Step 1155 | Test mrr: 0.1299\n",
      "INFO:root:Step 1155 | Best Validation mrr: 0.1315\n",
      "INFO:root:Step 1155 | Best Test mrr: 0.1287\n",
      "INFO:root:Step 1155 | Best Iteration mrr: 1100.0000\n",
      "INFO:root: Eval time: 1.3523, Evaluation step: 1155.\n",
      "INFO:root:successfully save the model to a_save_path/epoch-2\n",
      "INFO:root:Time on save model: 0.003 seconds\n",
      "INFO:root:Epoch 00003 | Batch 000 | Train Loss: 0.6019 | Time: 0.0779\n",
      "INFO:root:Epoch 00003 | Batch 020 | Train Loss: 0.6113 | Time: 0.0684\n",
      "INFO:root:Epoch 00003 | Batch 040 | Train Loss: 0.6013 | Time: 0.0683\n",
      "INFO:root:Step 1200 | Train loss: 0.6319\n",
      "INFO:root:[Rank 0] dist inference: finishes 0 iterations.\n",
      "INFO:root:Step 1200 | Validation mrr: 0.1357\n",
      "INFO:root:Step 1200 | Test mrr: 0.1353\n",
      "INFO:root:Step 1200 | Best Validation mrr: 0.1357\n",
      "INFO:root:Step 1200 | Best Test mrr: 0.1353\n",
      "INFO:root:Step 1200 | Best Iteration mrr: 1200.0000\n",
      "INFO:root: Eval time: 1.3734, Evaluation step: 1200.\n",
      "INFO:root:Epoch 00003 | Batch 060 | Train Loss: 0.6010 | Time: 0.0704\n",
      "INFO:root:Epoch 00003 | Batch 080 | Train Loss: 0.6011 | Time: 0.0663\n",
      "INFO:root:Epoch 00003 | Batch 100 | Train Loss: 0.6091 | Time: 0.0668\n",
      "INFO:root:Epoch 00003 | Batch 120 | Train Loss: 0.5977 | Time: 0.0680\n",
      "INFO:root:Epoch 00003 | Batch 140 | Train Loss: 0.5950 | Time: 0.0672\n",
      "INFO:root:Step 1300 | Train loss: 0.5759\n",
      "INFO:root:[Rank 0] dist inference: finishes 0 iterations.\n",
      "INFO:root:Step 1300 | Validation mrr: 0.1449\n",
      "INFO:root:Step 1300 | Test mrr: 0.1377\n",
      "INFO:root:Step 1300 | Best Validation mrr: 0.1449\n",
      "INFO:root:Step 1300 | Best Test mrr: 0.1377\n",
      "INFO:root:Step 1300 | Best Iteration mrr: 1300.0000\n",
      "INFO:root: Eval time: 1.3820, Evaluation step: 1300.\n",
      "INFO:root:Epoch 00003 | Batch 160 | Train Loss: 0.5943 | Time: 0.0756\n",
      "INFO:root:Epoch 00003 | Batch 180 | Train Loss: 0.5949 | Time: 0.0737\n",
      "INFO:root:Epoch 00003 | Batch 200 | Train Loss: 0.5974 | Time: 0.0749\n",
      "INFO:root:Epoch 00003 | Batch 220 | Train Loss: 0.5724 | Time: 0.0740\n",
      "INFO:root:Epoch 00003 | Batch 240 | Train Loss: 0.6033 | Time: 0.0741\n",
      "INFO:root:Step 1400 | Train loss: 0.5914\n",
      "INFO:root:[Rank 0] dist inference: finishes 0 iterations.\n",
      "INFO:root:Step 1400 | Validation mrr: 0.1428\n",
      "INFO:root:Step 1400 | Test mrr: 0.1378\n",
      "INFO:root:Step 1400 | Best Validation mrr: 0.1449\n",
      "INFO:root:Step 1400 | Best Test mrr: 0.1377\n",
      "INFO:root:Step 1400 | Best Iteration mrr: 1300.0000\n",
      "INFO:root: Eval time: 1.4752, Evaluation step: 1400.\n",
      "INFO:root:Epoch 00003 | Batch 260 | Train Loss: 0.5966 | Time: 0.0744\n",
      "INFO:root:Epoch 00003 | Batch 280 | Train Loss: 0.5734 | Time: 0.0751\n",
      "INFO:root:Epoch 00003 | Batch 300 | Train Loss: 0.5630 | Time: 0.0750\n",
      "INFO:root:Epoch 00003 | Batch 320 | Train Loss: 0.5809 | Time: 0.0744\n",
      "INFO:root:Epoch 00003 | Batch 340 | Train Loss: 0.5894 | Time: 0.0775\n",
      "INFO:root:Step 1500 | Train loss: 0.5979\n",
      "INFO:root:[Rank 0] dist inference: finishes 0 iterations.\n",
      "INFO:root:Step 1500 | Validation mrr: 0.1423\n",
      "INFO:root:Step 1500 | Test mrr: 0.1402\n",
      "INFO:root:Step 1500 | Best Validation mrr: 0.1449\n",
      "INFO:root:Step 1500 | Best Test mrr: 0.1377\n",
      "INFO:root:Step 1500 | Best Iteration mrr: 1300.0000\n",
      "INFO:root: Eval time: 1.5627, Evaluation step: 1500.\n",
      "INFO:root:Epoch 00003 | Batch 360 | Train Loss: 0.5958 | Time: 0.0756\n",
      "INFO:root:Epoch 00003 | Batch 380 | Train Loss: 0.5789 | Time: 0.0746\n",
      "INFO:root:Epoch 3 take 33.752 seconds\n",
      "INFO:root:[Rank 0] dist inference: finishes 0 iterations.\n",
      "INFO:root:Step 1540 | Validation mrr: 0.1383\n",
      "INFO:root:Step 1540 | Test mrr: 0.1332\n",
      "INFO:root:Step 1540 | Best Validation mrr: 0.1449\n",
      "INFO:root:Step 1540 | Best Test mrr: 0.1377\n",
      "INFO:root:Step 1540 | Best Iteration mrr: 1300.0000\n",
      "INFO:root: Eval time: 1.5265, Evaluation step: 1540.\n",
      "INFO:root:successfully save the model to a_save_path/epoch-3\n",
      "INFO:root:Time on save model: 0.002 seconds\n",
      "INFO:root:Epoch 00004 | Batch 000 | Train Loss: 0.6242 | Time: 0.0746\n",
      "INFO:root:Epoch 00004 | Batch 020 | Train Loss: 0.5944 | Time: 0.0750\n",
      "INFO:root:Epoch 00004 | Batch 040 | Train Loss: 0.5821 | Time: 0.0733\n",
      "INFO:root:Step 1600 | Train loss: 0.5872\n",
      "INFO:root:[Rank 0] dist inference: finishes 0 iterations.\n",
      "INFO:root:Step 1600 | Validation mrr: 0.1507\n",
      "INFO:root:Step 1600 | Test mrr: 0.1444\n",
      "INFO:root:Step 1600 | Best Validation mrr: 0.1507\n",
      "INFO:root:Step 1600 | Best Test mrr: 0.1444\n",
      "INFO:root:Step 1600 | Best Iteration mrr: 1600.0000\n",
      "INFO:root: Eval time: 1.5419, Evaluation step: 1600.\n",
      "INFO:root:Epoch 00004 | Batch 060 | Train Loss: 0.5848 | Time: 0.0783\n",
      "INFO:root:Epoch 00004 | Batch 080 | Train Loss: 0.5943 | Time: 0.0755\n",
      "INFO:root:Epoch 00004 | Batch 100 | Train Loss: 0.5961 | Time: 0.0754\n",
      "INFO:root:Epoch 00004 | Batch 120 | Train Loss: 0.5938 | Time: 0.0735\n",
      "INFO:root:Epoch 00004 | Batch 140 | Train Loss: 0.6162 | Time: 0.0773\n",
      "INFO:root:Step 1700 | Train loss: 0.5936\n",
      "INFO:root:[Rank 0] dist inference: finishes 0 iterations.\n",
      "INFO:root:Step 1700 | Validation mrr: 0.1453\n",
      "INFO:root:Step 1700 | Test mrr: 0.1334\n",
      "INFO:root:Step 1700 | Best Validation mrr: 0.1507\n",
      "INFO:root:Step 1700 | Best Test mrr: 0.1444\n",
      "INFO:root:Step 1700 | Best Iteration mrr: 1600.0000\n",
      "INFO:root: Eval time: 1.5162, Evaluation step: 1700.\n",
      "INFO:root:Epoch 00004 | Batch 160 | Train Loss: 0.5996 | Time: 0.0756\n",
      "INFO:root:Epoch 00004 | Batch 180 | Train Loss: 0.5808 | Time: 0.0765\n",
      "INFO:root:Epoch 00004 | Batch 200 | Train Loss: 0.5971 | Time: 0.0769\n",
      "INFO:root:Epoch 00004 | Batch 220 | Train Loss: 0.5358 | Time: 0.0758\n",
      "INFO:root:Epoch 00004 | Batch 240 | Train Loss: 0.5710 | Time: 0.0756\n",
      "INFO:root:Step 1800 | Train loss: 0.6066\n",
      "INFO:root:[Rank 0] dist inference: finishes 0 iterations.\n",
      "INFO:root:Step 1800 | Validation mrr: 0.1507\n",
      "INFO:root:Step 1800 | Test mrr: 0.1468\n",
      "INFO:root:Step 1800 | Best Validation mrr: 0.1507\n",
      "INFO:root:Step 1800 | Best Test mrr: 0.1444\n",
      "INFO:root:Step 1800 | Best Iteration mrr: 1600.0000\n",
      "INFO:root: Eval time: 1.6083, Evaluation step: 1800.\n",
      "INFO:root:Epoch 00004 | Batch 260 | Train Loss: 0.5780 | Time: 0.0762\n",
      "INFO:root:Epoch 00004 | Batch 280 | Train Loss: 0.5797 | Time: 0.0749\n",
      "INFO:root:Epoch 00004 | Batch 300 | Train Loss: 0.6325 | Time: 0.0738\n",
      "INFO:root:Epoch 00004 | Batch 320 | Train Loss: 0.5699 | Time: 0.0782\n",
      "INFO:root:Epoch 00004 | Batch 340 | Train Loss: 0.5914 | Time: 0.0740\n",
      "INFO:root:Step 1900 | Train loss: 0.5716\n",
      "INFO:root:[Rank 0] dist inference: finishes 0 iterations.\n",
      "INFO:root:Step 1900 | Validation mrr: 0.1481\n",
      "INFO:root:Step 1900 | Test mrr: 0.1433\n",
      "INFO:root:Step 1900 | Best Validation mrr: 0.1507\n",
      "INFO:root:Step 1900 | Best Test mrr: 0.1444\n",
      "INFO:root:Step 1900 | Best Iteration mrr: 1600.0000\n",
      "INFO:root: Eval time: 1.5254, Evaluation step: 1900.\n",
      "INFO:root:Epoch 00004 | Batch 360 | Train Loss: 0.5732 | Time: 0.0788\n",
      "INFO:root:Epoch 00004 | Batch 380 | Train Loss: 0.5912 | Time: 0.0749\n",
      "INFO:root:Epoch 4 take 35.157 seconds\n",
      "INFO:root:[Rank 0] dist inference: finishes 0 iterations.\n",
      "INFO:root:Step 1925 | Validation mrr: 0.1507\n",
      "INFO:root:Step 1925 | Test mrr: 0.1449\n",
      "INFO:root:Step 1925 | Best Validation mrr: 0.1507\n",
      "INFO:root:Step 1925 | Best Test mrr: 0.1444\n",
      "INFO:root:Step 1925 | Best Iteration mrr: 1600.0000\n",
      "INFO:root: Eval time: 1.4996, Evaluation step: 1925.\n",
      "INFO:root:successfully save the model to a_save_path/epoch-4\n",
      "INFO:root:Time on save model: 0.003 seconds\n",
      "INFO:root:Peak RAM Mem alloc: 714.8555 MB\n",
      "INFO:root:best_test_mrr: {'mrr': 0.1443687528371811}\n",
      "INFO:root:best_val_mrr: {'mrr': 0.1507299244403839}\n",
      "INFO:root:peak_GPU_mem_alloc_MB: 0.0\n",
      "INFO:root:peak_RAM_mem_alloc_MB: 714.85546875\n",
      "INFO:root:best validation iteration: 1600\n",
      "INFO:root:best model path: a_save_path/epoch-4\n"
     ]
    }
   ],
   "source": [
    "# Train the model with the trainer using fit() function\n",
    "trainer.fit(train_loader=train_dataloader,\n",
    "            val_loader=val_dataloader,\n",
    "            test_loader=test_dataloader,\n",
    "            num_epochs=5,\n",
    "            save_model_path='a_save_path/',\n",
    "            save_model_frequency=1000,\n",
    "            use_mini_batch_infer=True)"
   ]
  },
  {
   "cell_type": "markdown",
   "metadata": {},
   "source": [
    "### (Optional) 5. Visualize Model Performance History\n",
    "\n",
    "Next, we examine the model performance on the validation, and testing over the training process."
   ]
  },
  {
   "cell_type": "code",
   "execution_count": 9,
   "metadata": {
    "tags": []
   },
   "outputs": [
    {
     "data": {
      "text/plain": [
       "<matplotlib.legend.Legend at 0x7f679d654d00>"
      ]
     },
     "execution_count": 9,
     "metadata": {},
     "output_type": "execute_result"
    },
    {
     "data": {
      "image/png": "[encoded data removed]",
      "text/plain": [
       "<Figure size 640x480 with 1 Axes>"
      ]
     },
     "metadata": {},
     "output_type": "display_data"
    }
   ],
   "source": [
    "import matplotlib.pyplot as plt\n",
    "\n",
    "# extract evaluation history of metrics from the trainer's evaluator:\n",
    "val_metrics, test_metrics = [], []\n",
    "for val_metric, test_metric in trainer.evaluator.history:\n",
    "    val_metrics.append(val_metric['mrr'])\n",
    "    test_metrics.append(test_metric['mrr'])\n",
    "\n",
    "# plot the performance curves\n",
    "fig, ax = plt.subplots()\n",
    "ax.plot(val_metrics, label='val')\n",
    "ax.plot(test_metrics, label='test')\n",
    "ax.set(xlabel='Epoch', ylabel='Mrr')\n",
    "ax.legend(loc='best')"
   ]
  },
  {
   "cell_type": "markdown",
   "metadata": {},
   "source": [
    "### 6. Inference with the Trained Model\n",
    "\n",
    "GraphStorm automatically save the best performaned model in the given `save_model_path` argument. We can first find out what is the best model and its path."
   ]
  },
  {
   "cell_type": "code",
   "execution_count": 10,
   "metadata": {
    "tags": []
   },
   "outputs": [
    {
     "name": "stdout",
     "output_type": "stream",
     "text": [
      "Best model path: a_save_path/epoch-4\n"
     ]
    }
   ],
   "source": [
    "# after training, the best model is saved to disk:\n",
    "best_model_path = trainer.get_best_model_path()\n",
    "print('Best model path:', best_model_path)"
   ]
  },
  {
   "cell_type": "code",
   "execution_count": 11,
   "metadata": {},
   "outputs": [
    {
     "name": "stderr",
     "output_type": "stream",
     "text": [
      "INFO:root:successfully load the model from a_save_path/epoch-4\n",
      "INFO:root:Time on load model: 0.004 seconds\n"
     ]
    }
   ],
   "source": [
    "# we can restore the model from the saved path using the model's restore_model() function.\n",
    "model.restore_model(best_model_path)"
   ]
  },
  {
   "cell_type": "code",
   "execution_count": 12,
   "metadata": {},
   "outputs": [
    {
     "name": "stderr",
     "output_type": "stream",
     "text": [
      "INFO:root:part 0, test 3078\n"
     ]
    }
   ],
   "source": [
    "# Setup dataloader for inference\n",
    "infer_dataloader = gs.dataloading.GSgnnLinkPredictionTestDataLoader(dataset=acm_data,\n",
    "                                                                    target_idx=acm_data.get_edge_test_set(etypes=[('paper', 'citing', 'paper')]),\n",
    "                                                                    fanout=[100, 100],\n",
    "                                                                    num_negative_edges=100,\n",
    "                                                                    node_feats=nfeats_4_modeling,\n",
    "                                                                    batch_size=256)\n",
    "# Create an Inferrer object\n",
    "infer = gs.inference.GSgnnLinkPredictionInferrer(model)"
   ]
  },
  {
   "cell_type": "code",
   "execution_count": 13,
   "metadata": {},
   "outputs": [
    {
     "name": "stderr",
     "output_type": "stream",
     "text": [
      "INFO:root:[Rank 0] dist inference: finishes 0 iterations.\n",
      "INFO:root:save embeddings of author to infer/embeddings\n",
      "INFO:root:save embeddings of paper to infer/embeddings\n",
      "INFO:root:save embeddings of subject to infer/embeddings\n",
      "INFO:root:Writing GNN embeddings to infer/embeddings in pytorch format.\n"
     ]
    }
   ],
   "source": [
    "# Run inference on the inference dataset\n",
    "infer.infer(acm_data,\n",
    "            infer_dataloader,\n",
    "            save_embed_path='infer/embeddings',\n",
    "            use_mini_batch_infer=True)"
   ]
  },
  {
   "cell_type": "code",
   "execution_count": 14,
   "metadata": {},
   "outputs": [
    {
     "name": "stdout",
     "output_type": "stream",
     "text": [
      "total 6.3M\n",
      "-rw-rw-r-- 1 ubuntu ubuntu 6.2M May  9 18:09 embed-00000.pt\n",
      "-rw-rw-r-- 1 ubuntu ubuntu  99K May  9 18:09 embed_nids-00000.pt\n"
     ]
    }
   ],
   "source": [
    "# The GNN embeddings and predictions on the inference graph are saved to the folder named after the target_ntype\n",
    "!ls -lh infer/embeddings/paper"
   ]
  },
  {
   "cell_type": "code",
   "execution_count": null,
   "metadata": {},
   "outputs": [],
   "source": []
  }
 ],
 "metadata": {
  "kernelspec": {
   "display_name": "gsf",
   "language": "python",
   "name": "gsf"
  },
  "language_info": {
   "codemirror_mode": {
    "name": "ipython",
    "version": 3
   },
   "file_extension": ".py",
   "mimetype": "text/x-python",
   "name": "python",
   "nbconvert_exporter": "python",
   "pygments_lexer": "ipython3",
   "version": "3.9.18"
  }
 },
 "nbformat": 4,
 "nbformat_minor": 4
}
