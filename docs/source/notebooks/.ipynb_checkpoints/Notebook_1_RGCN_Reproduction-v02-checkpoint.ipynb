{
 "cells": [
  {
   "cell_type": "markdown",
   "metadata": {},
   "source": [
    "# Notebook 1: Reproduce RGCN Model with APIs\n",
    "\n",
    "This notebook is the first in a series that demonstrates how to use GraphStorm's APIs to create users' own graph machine learning setup by leveraging GraphStorm's easy-to-use and great scalability features. All of these notebooks are designed to run on GraphStorm's Standalone mode, i.e., in a single Linux machine with CPUs and GPUs. \n",
    "\n",
    "In this notebook, we willl reproduce the GraphStorm RGCN model with the nessessary APIs and use it to conduct a node classification task on the ACM dataset. By playing with this notebook, users will be able to get familiar with these APIs.\n",
    "\n",
    "### Prerequsites\n",
    "\n",
    "- GraphStorm installed using pip. Please find [more details on installation of GraphStorm](https://graphstorm.readthedocs.io/en/latest/install/env-setup.html#setup-graphstorm-with-pip-packages).\n",
    "- ACM data created in the [Notebook 0: Data Prepare](https://graphstorm.readthedocs.io/en/latest/notebooks/Notebook_0_Data_Prepare.html), and is stored in the `./acm_gs_1p/` folder.\n",
    "- Installation of supporting libraries, e.g., matplotlib."
   ]
  },
  {
   "cell_type": "code",
   "execution_count": 2,
   "metadata": {},
   "outputs": [],
   "source": [
    "# Setup log level in Jupyter Notebook\n",
    "import logging\n",
    "logging.basicConfig(level=20)"
   ]
  },
  {
   "cell_type": "markdown",
   "metadata": {},
   "source": [
    "---\n",
    "\n",
    "### 0. Initialize the GraphStorm Standalone Environment\n",
    "\n",
    "We might set default argument values in `gs.initialize()` for the Standalone mode."
   ]
  },
  {
   "cell_type": "code",
   "execution_count": 1,
   "metadata": {
    "tags": []
   },
   "outputs": [
    {
     "data": {
      "text/plain": [
       "'0.3'"
      ]
     },
     "execution_count": 1,
     "metadata": {},
     "output_type": "execute_result"
    }
   ],
   "source": [
    "import graphstorm as gs\n",
    "gs.initialize()"
   ]
  },
  {
   "cell_type": "markdown",
   "metadata": {},
   "source": [
    "### 1. Setup GraphStorm Dataset and DataLoaders\n",
    "\n",
    "The role of `gs.dataset.GSgnnData` is mainly for loading and storing given partitioned graphs. The existing roles such as target node type, label field, and node feature for training/inference, will move to Dataloader classes. "
   ]
  },
  {
   "cell_type": "code",
   "execution_count": 4,
   "metadata": {
    "tags": []
   },
   "outputs": [],
   "source": [
    "# create a GraphStorm Dataset for the ACM graph data \n",
    "acm_data = gs.dataloading.GSgnnData(part_config='./acm_gs_1p/acm.json')"
   ]
  },
  {
   "cell_type": "markdown",
   "metadata": {},
   "source": [
    "`Dataloaders` take node feature dictionary and label field string. They do not handle features and labels, but pass these information to `Datasets`. And then `Datasets` retrieve related information and return to `Dataloaders`."
   ]
  },
  {
   "cell_type": "code",
   "execution_count": 5,
   "metadata": {
    "tags": []
   },
   "outputs": [
    {
     "name": "stderr",
     "output_type": "stream",
     "text": [
      "INFO:root:part 0, train 9999\n",
      "INFO:root:part 0, val 1249\n",
      "INFO:root:part 0, test 1249\n"
     ]
    }
   ],
   "source": [
    "# define dataloaders for training and validation\n",
    "nfeats_4_modeling = {'author':['feat'], 'paper':['feat'],'subject':['feat']}\n",
    "train_dataloader = gs.dataloading.GSgnnNodeDataLoader(\n",
    "    dataset=acm_data,\n",
    "    target_idx=acm_data.get_node_train_set(ntypes=['paper']),\n",
    "    node_feats=nfeats_4_modeling,\n",
    "    label_field='label',\n",
    "    fanout=[20, 20],\n",
    "    batch_size=64,\n",
    "    train_task=True)\n",
    "val_dataloader = gs.dataloading.GSgnnNodeDataLoader(\n",
    "    dataset=acm_data,\n",
    "    target_idx=acm_data.get_node_val_set(ntypes=['paper']),\n",
    "    node_feats=nfeats_4_modeling,\n",
    "    label_field='label',\n",
    "    fanout=[100, 100],\n",
    "    batch_size=256,\n",
    "    train_task=False)\n",
    "test_dataloader = gs.dataloading.GSgnnNodeDataLoader(\n",
    "    dataset=acm_data,\n",
    "    target_idx=acm_data.get_node_test_set(ntypes=['paper']),\n",
    "    node_feats=nfeats_4_modeling,\n",
    "    label_field='label',\n",
    "    fanout=[100, 100],\n",
    "    batch_size=256,\n",
    "    train_task=False)"
   ]
  },
  {
   "cell_type": "markdown",
   "metadata": {},
   "source": [
    "### 2. Create a GraphStorm-compatible RGCN Model for Node Classification \n",
    "\n",
    "This `Model` could be a customized model extends from `GSgnnModel` and implements required methods. The `GSgnnModel` has a few new API features.\n",
    "\n",
    "1. It asks for graph metadata, instead of the DistGraph.\n",
    "2. It will run `model.init_optimizer()` by default."
   ]
  },
  {
   "cell_type": "code",
   "execution_count": 6,
   "metadata": {
    "tags": []
   },
   "outputs": [],
   "source": [
    "# import a customized RGCN model for node classification\n",
    "from demo_models import RgcnNCModel\n",
    "model = RgcnNCModel(\n",
    "    g=acm_data.g,\n",
    "    num_hid_layers=2,\n",
    "    feat_size=gs.get_node_feat_size(acm_data.g, nfeats_4_modeling),\n",
    "    hid_size=128,\n",
    "    num_classes=14)"
   ]
  },
  {
   "cell_type": "markdown",
   "metadata": {},
   "source": [
    "### 3. Setup a GraphStorm Evaluator\n",
    "\n",
    "Now, `Evaluators` are task-oriented, i.e., `ClassificationEvaluator`, `RegressionEvaluator`, and `LPEvaluator`. And each Evaluator constructor could have a default evaluation metrics, i.e., `accuracy` for classification, `mse` for regression, and `mrr` for link prediction."
   ]
  },
  {
   "cell_type": "code",
   "execution_count": 7,
   "metadata": {
    "tags": []
   },
   "outputs": [],
   "source": [
    "# setup a Classification evaluator for the trainer\n",
    "evaluator = gs.eval.GSgnnClassificationEvaluator(eval_frequency=100)"
   ]
  },
  {
   "cell_type": "markdown",
   "metadata": {},
   "source": [
    "### 4. Setup a Trainer and Training"
   ]
  },
  {
   "cell_type": "code",
   "execution_count": 8,
   "metadata": {
    "scrolled": true,
    "tags": []
   },
   "outputs": [],
   "source": [
    "# create a GraphStorm node task trainer for the RGCN model\n",
    "trainer = gs.trainer.GSgnnNodePredictionTrainer(model)\n",
    "trainer.setup_evaluator(evaluator)\n",
    "trainer.setup_device(gs.utils.get_device())"
   ]
  },
  {
   "cell_type": "code",
   "execution_count": 9,
   "metadata": {
    "tags": []
   },
   "outputs": [
    {
     "name": "stderr",
     "output_type": "stream",
     "text": [
      "/home/ubuntu/anaconda3/envs/gsf/lib/python3.9/site-packages/dgl/backend/pytorch/tensor.py:445: UserWarning: TypedStorage is deprecated. It will be removed in the future and UntypedStorage will be the only storage class. This should only matter to you if you are using storages directly.  To access UntypedStorage directly, use tensor.untyped_storage() instead of tensor.storage()\n",
      "  assert input.numel() == input.storage().size(), (\n",
      "INFO:root:Part 0 | Epoch 00000 | Batch 000 | Loss: 2.6344 | Time: 0.0412\n",
      "INFO:root:Part 0 | Epoch 00000 | Batch 020 | Loss: 1.6360 | Time: 0.0343\n",
      "INFO:root:Part 0 | Epoch 00000 | Batch 040 | Loss: 1.4256 | Time: 0.0293\n",
      "INFO:root:Part 0 | Epoch 00000 | Batch 060 | Loss: 1.4182 | Time: 0.0298\n",
      "INFO:root:Part 0 | Epoch 00000 | Batch 080 | Loss: 1.4329 | Time: 0.0279\n",
      "INFO:root:Step 100 | Train loss: 1.2934\n",
      "INFO:root:Step 100 | Validation accuracy: 0.4932\n",
      "INFO:root:Step 100 | Test accuracy: 0.4924\n",
      "INFO:root:Step 100 | Best Validation accuracy: 0.4932\n",
      "INFO:root:Step 100 | Best Test accuracy: 0.4924\n",
      "INFO:root:Step 100 | Best Iteration accuracy: 100.0000\n",
      "INFO:root: Eval time: 0.3089, Evaluation step: 100.\n",
      "INFO:root:Part 0 | Epoch 00000 | Batch 100 | Loss: 1.3895 | Time: 0.0288\n",
      "INFO:root:Part 0 | Epoch 00000 | Batch 120 | Loss: 1.4654 | Time: 0.0278\n",
      "INFO:root:Part 0 | Epoch 00000 | Batch 140 | Loss: 1.2373 | Time: 0.0280\n",
      "INFO:root:Epoch 0 take 4.980 seconds\n",
      "INFO:root:Step 157 | Validation accuracy: 0.4876\n",
      "INFO:root:Step 157 | Test accuracy: 0.4772\n",
      "INFO:root:Step 157 | Best Validation accuracy: 0.4932\n",
      "INFO:root:Step 157 | Best Test accuracy: 0.4924\n",
      "INFO:root:Step 157 | Best Iteration accuracy: 100.0000\n",
      "INFO:root: Eval time: 0.2815, Evaluation step: 157.\n",
      "INFO:root:successfully save the model to a_save_path/epoch-0\n",
      "INFO:root:Time on save model: 0.003 seconds\n",
      "INFO:root:Part 0 | Epoch 00001 | Batch 000 | Loss: 1.4093 | Time: 0.0276\n",
      "INFO:root:Part 0 | Epoch 00001 | Batch 020 | Loss: 1.2168 | Time: 0.0296\n",
      "INFO:root:Part 0 | Epoch 00001 | Batch 040 | Loss: 1.2191 | Time: 0.0271\n",
      "INFO:root:Step 200 | Train loss: 1.2686\n",
      "INFO:root:Step 200 | Validation accuracy: 0.4932\n",
      "INFO:root:Step 200 | Test accuracy: 0.5028\n",
      "INFO:root:Step 200 | Best Validation accuracy: 0.4932\n",
      "INFO:root:Step 200 | Best Test accuracy: 0.5028\n",
      "INFO:root:Step 200 | Best Iteration accuracy: 200.0000\n",
      "INFO:root: Eval time: 0.2902, Evaluation step: 200.\n",
      "INFO:root:Part 0 | Epoch 00001 | Batch 060 | Loss: 1.2720 | Time: 0.0276\n",
      "INFO:root:Part 0 | Epoch 00001 | Batch 080 | Loss: 1.3224 | Time: 0.0288\n",
      "INFO:root:Part 0 | Epoch 00001 | Batch 100 | Loss: 1.2660 | Time: 0.0286\n",
      "INFO:root:Part 0 | Epoch 00001 | Batch 120 | Loss: 1.3843 | Time: 0.0277\n",
      "INFO:root:Part 0 | Epoch 00001 | Batch 140 | Loss: 1.2683 | Time: 0.0282\n",
      "INFO:root:Step 300 | Train loss: 1.1632\n",
      "INFO:root:Step 300 | Validation accuracy: 0.5060\n",
      "INFO:root:Step 300 | Test accuracy: 0.5092\n",
      "INFO:root:Step 300 | Best Validation accuracy: 0.5060\n",
      "INFO:root:Step 300 | Best Test accuracy: 0.5092\n",
      "INFO:root:Step 300 | Best Iteration accuracy: 300.0000\n",
      "INFO:root: Eval time: 0.2935, Evaluation step: 300.\n",
      "INFO:root:Epoch 1 take 5.085 seconds\n",
      "INFO:root:Step 314 | Validation accuracy: 0.5404\n",
      "INFO:root:Step 314 | Test accuracy: 0.5268\n",
      "INFO:root:Step 314 | Best Validation accuracy: 0.5404\n",
      "INFO:root:Step 314 | Best Test accuracy: 0.5268\n",
      "INFO:root:Step 314 | Best Iteration accuracy: 314.0000\n",
      "INFO:root: Eval time: 0.2978, Evaluation step: 314.\n",
      "INFO:root:successfully save the model to a_save_path/epoch-1\n",
      "INFO:root:Time on save model: 0.002 seconds\n",
      "INFO:root:Part 0 | Epoch 00002 | Batch 000 | Loss: 1.3095 | Time: 0.0317\n",
      "INFO:root:Part 0 | Epoch 00002 | Batch 020 | Loss: 1.1587 | Time: 0.0296\n",
      "INFO:root:Part 0 | Epoch 00002 | Batch 040 | Loss: 1.2328 | Time: 0.0287\n",
      "INFO:root:Part 0 | Epoch 00002 | Batch 060 | Loss: 1.1487 | Time: 0.0279\n",
      "INFO:root:Part 0 | Epoch 00002 | Batch 080 | Loss: 1.3206 | Time: 0.0283\n",
      "INFO:root:Step 400 | Train loss: 1.2061\n",
      "INFO:root:Step 400 | Validation accuracy: 0.5356\n",
      "INFO:root:Step 400 | Test accuracy: 0.5220\n",
      "INFO:root:Step 400 | Best Validation accuracy: 0.5404\n",
      "INFO:root:Step 400 | Best Test accuracy: 0.5268\n",
      "INFO:root:Step 400 | Best Iteration accuracy: 314.0000\n",
      "INFO:root: Eval time: 0.2870, Evaluation step: 400.\n",
      "INFO:root:Part 0 | Epoch 00002 | Batch 100 | Loss: 1.1081 | Time: 0.0295\n",
      "INFO:root:Part 0 | Epoch 00002 | Batch 120 | Loss: 1.0894 | Time: 0.0260\n",
      "INFO:root:Part 0 | Epoch 00002 | Batch 140 | Loss: 1.1575 | Time: 0.0269\n",
      "INFO:root:Epoch 2 take 4.765 seconds\n",
      "INFO:root:Step 471 | Validation accuracy: 0.5436\n",
      "INFO:root:Step 471 | Test accuracy: 0.5428\n",
      "INFO:root:Step 471 | Best Validation accuracy: 0.5436\n",
      "INFO:root:Step 471 | Best Test accuracy: 0.5428\n",
      "INFO:root:Step 471 | Best Iteration accuracy: 471.0000\n",
      "INFO:root: Eval time: 0.2895, Evaluation step: 471.\n",
      "INFO:root:successfully save the model to a_save_path/epoch-2\n",
      "INFO:root:Time on save model: 0.003 seconds\n",
      "INFO:root:Part 0 | Epoch 00003 | Batch 000 | Loss: 0.9180 | Time: 0.0321\n",
      "INFO:root:Part 0 | Epoch 00003 | Batch 020 | Loss: 0.9310 | Time: 0.0272\n",
      "INFO:root:Step 500 | Train loss: 1.1747\n",
      "INFO:root:Step 500 | Validation accuracy: 0.5484\n",
      "INFO:root:Step 500 | Test accuracy: 0.5276\n",
      "INFO:root:Step 500 | Best Validation accuracy: 0.5484\n",
      "INFO:root:Step 500 | Best Test accuracy: 0.5276\n",
      "INFO:root:Step 500 | Best Iteration accuracy: 500.0000\n",
      "INFO:root: Eval time: 0.2894, Evaluation step: 500.\n",
      "INFO:root:Part 0 | Epoch 00003 | Batch 040 | Loss: 1.1024 | Time: 0.0320\n",
      "INFO:root:Part 0 | Epoch 00003 | Batch 060 | Loss: 1.0375 | Time: 0.0280\n",
      "INFO:root:Part 0 | Epoch 00003 | Batch 080 | Loss: 1.0864 | Time: 0.0295\n",
      "INFO:root:Part 0 | Epoch 00003 | Batch 100 | Loss: 1.0908 | Time: 0.0286\n",
      "INFO:root:Part 0 | Epoch 00003 | Batch 120 | Loss: 1.1150 | Time: 0.0283\n",
      "INFO:root:Step 600 | Train loss: 0.8350\n",
      "INFO:root:Step 600 | Validation accuracy: 0.5460\n",
      "INFO:root:Step 600 | Test accuracy: 0.5452\n",
      "INFO:root:Step 600 | Best Validation accuracy: 0.5484\n",
      "INFO:root:Step 600 | Best Test accuracy: 0.5276\n",
      "INFO:root:Step 600 | Best Iteration accuracy: 500.0000\n",
      "INFO:root: Eval time: 0.2886, Evaluation step: 600.\n",
      "INFO:root:Part 0 | Epoch 00003 | Batch 140 | Loss: 0.8309 | Time: 0.0298\n",
      "INFO:root:Epoch 3 take 5.103 seconds\n",
      "INFO:root:Step 628 | Validation accuracy: 0.5372\n",
      "INFO:root:Step 628 | Test accuracy: 0.5276\n",
      "INFO:root:Step 628 | Best Validation accuracy: 0.5484\n",
      "INFO:root:Step 628 | Best Test accuracy: 0.5276\n",
      "INFO:root:Step 628 | Best Iteration accuracy: 500.0000\n",
      "INFO:root: Eval time: 0.2885, Evaluation step: 628.\n",
      "INFO:root:Part 0 | Epoch 00004 | Batch 000 | Loss: 1.1127 | Time: 0.0312\n",
      "INFO:root:Part 0 | Epoch 00004 | Batch 020 | Loss: 0.8698 | Time: 0.0279\n",
      "INFO:root:Part 0 | Epoch 00004 | Batch 040 | Loss: 0.8951 | Time: 0.0293\n",
      "INFO:root:Part 0 | Epoch 00004 | Batch 060 | Loss: 0.9434 | Time: 0.0270\n",
      "INFO:root:Step 700 | Train loss: 0.8893\n",
      "INFO:root:Step 700 | Validation accuracy: 0.5460\n",
      "INFO:root:Step 700 | Test accuracy: 0.5444\n",
      "INFO:root:Step 700 | Best Validation accuracy: 0.5484\n",
      "INFO:root:Step 700 | Best Test accuracy: 0.5276\n",
      "INFO:root:Step 700 | Best Iteration accuracy: 500.0000\n",
      "INFO:root: Eval time: 0.2859, Evaluation step: 700.\n",
      "INFO:root:Part 0 | Epoch 00004 | Batch 080 | Loss: 0.8102 | Time: 0.0289\n",
      "INFO:root:Part 0 | Epoch 00004 | Batch 100 | Loss: 1.3325 | Time: 0.0304\n",
      "INFO:root:Part 0 | Epoch 00004 | Batch 120 | Loss: 0.9082 | Time: 0.0285\n",
      "INFO:root:Part 0 | Epoch 00004 | Batch 140 | Loss: 0.8417 | Time: 0.0293\n",
      "INFO:root:Epoch 4 take 4.856 seconds\n",
      "INFO:root:Step 785 | Validation accuracy: 0.5380\n",
      "INFO:root:Step 785 | Test accuracy: 0.5460\n",
      "INFO:root:Step 785 | Best Validation accuracy: 0.5484\n",
      "INFO:root:Step 785 | Best Test accuracy: 0.5276\n",
      "INFO:root:Step 785 | Best Iteration accuracy: 500.0000\n",
      "INFO:root: Eval time: 0.2853, Evaluation step: 785.\n",
      "INFO:root:Part 0 | Epoch 00005 | Batch 000 | Loss: 0.8749 | Time: 0.0321\n",
      "INFO:root:Step 800 | Train loss: 0.7669\n",
      "INFO:root:Step 800 | Validation accuracy: 0.5364\n",
      "INFO:root:Step 800 | Test accuracy: 0.5332\n",
      "INFO:root:Step 800 | Best Validation accuracy: 0.5484\n",
      "INFO:root:Step 800 | Best Test accuracy: 0.5276\n",
      "INFO:root:Step 800 | Best Iteration accuracy: 500.0000\n",
      "INFO:root: Eval time: 0.2926, Evaluation step: 800.\n",
      "INFO:root:Part 0 | Epoch 00005 | Batch 020 | Loss: 0.7477 | Time: 0.0278\n",
      "INFO:root:Part 0 | Epoch 00005 | Batch 040 | Loss: 0.7740 | Time: 0.0299\n",
      "INFO:root:Part 0 | Epoch 00005 | Batch 060 | Loss: 0.6721 | Time: 0.0280\n",
      "INFO:root:Part 0 | Epoch 00005 | Batch 080 | Loss: 0.8584 | Time: 0.0264\n",
      "INFO:root:Part 0 | Epoch 00005 | Batch 100 | Loss: 0.7552 | Time: 0.0294\n",
      "INFO:root:Step 900 | Train loss: 0.8929\n",
      "INFO:root:Step 900 | Validation accuracy: 0.5452\n",
      "INFO:root:Step 900 | Test accuracy: 0.5356\n",
      "INFO:root:Step 900 | Best Validation accuracy: 0.5484\n",
      "INFO:root:Step 900 | Best Test accuracy: 0.5276\n",
      "INFO:root:Step 900 | Best Iteration accuracy: 500.0000\n",
      "INFO:root: Eval time: 0.2841, Evaluation step: 900.\n",
      "INFO:root:Part 0 | Epoch 00005 | Batch 120 | Loss: 0.8039 | Time: 0.0298\n",
      "INFO:root:Part 0 | Epoch 00005 | Batch 140 | Loss: 0.8054 | Time: 0.0274\n",
      "INFO:root:Epoch 5 take 5.029 seconds\n",
      "INFO:root:Step 942 | Validation accuracy: 0.5276\n",
      "INFO:root:Step 942 | Test accuracy: 0.5364\n",
      "INFO:root:Step 942 | Best Validation accuracy: 0.5484\n",
      "INFO:root:Step 942 | Best Test accuracy: 0.5276\n",
      "INFO:root:Step 942 | Best Iteration accuracy: 500.0000\n",
      "INFO:root: Eval time: 0.2865, Evaluation step: 942.\n",
      "INFO:root:Part 0 | Epoch 00006 | Batch 000 | Loss: 0.6471 | Time: 0.0303\n",
      "INFO:root:Part 0 | Epoch 00006 | Batch 020 | Loss: 0.6250 | Time: 0.0302\n",
      "INFO:root:Part 0 | Epoch 00006 | Batch 040 | Loss: 0.7000 | Time: 0.0281\n",
      "INFO:root:Step 1000 | Train loss: 0.6173\n",
      "INFO:root:Step 1000 | Validation accuracy: 0.5292\n",
      "INFO:root:Step 1000 | Test accuracy: 0.5356\n",
      "INFO:root:Step 1000 | Best Validation accuracy: 0.5484\n",
      "INFO:root:Step 1000 | Best Test accuracy: 0.5276\n",
      "INFO:root:Step 1000 | Best Iteration accuracy: 500.0000\n",
      "INFO:root: Eval time: 0.2855, Evaluation step: 1000.\n",
      "INFO:root:Part 0 | Epoch 00006 | Batch 060 | Loss: 0.8215 | Time: 0.0286\n",
      "INFO:root:Part 0 | Epoch 00006 | Batch 080 | Loss: 0.7098 | Time: 0.0290\n",
      "INFO:root:Part 0 | Epoch 00006 | Batch 100 | Loss: 0.8479 | Time: 0.0283\n",
      "INFO:root:Part 0 | Epoch 00006 | Batch 120 | Loss: 0.6662 | Time: 0.0306\n",
      "INFO:root:Part 0 | Epoch 00006 | Batch 140 | Loss: 1.0341 | Time: 0.0290\n",
      "INFO:root:Epoch 6 take 4.829 seconds\n",
      "INFO:root:Step 1099 | Validation accuracy: 0.5412\n",
      "INFO:root:Step 1099 | Test accuracy: 0.5420\n",
      "INFO:root:Step 1099 | Best Validation accuracy: 0.5484\n",
      "INFO:root:Step 1099 | Best Test accuracy: 0.5276\n",
      "INFO:root:Step 1099 | Best Iteration accuracy: 500.0000\n",
      "INFO:root: Eval time: 0.2863, Evaluation step: 1099.\n",
      "INFO:root:Step 1100 | Train loss: 0.7445\n",
      "INFO:root:Part 0 | Epoch 00007 | Batch 000 | Loss: 0.7445 | Time: 0.0311\n",
      "INFO:root:Step 1100 | Validation accuracy: 0.5428\n",
      "INFO:root:Step 1100 | Test accuracy: 0.5388\n",
      "INFO:root:Step 1100 | Best Validation accuracy: 0.5484\n",
      "INFO:root:Step 1100 | Best Test accuracy: 0.5276\n",
      "INFO:root:Step 1100 | Best Iteration accuracy: 500.0000\n",
      "INFO:root: Eval time: 0.2962, Evaluation step: 1100.\n",
      "INFO:root:Part 0 | Epoch 00007 | Batch 020 | Loss: 0.5615 | Time: 0.0274\n",
      "INFO:root:Part 0 | Epoch 00007 | Batch 040 | Loss: 0.6043 | Time: 0.0289\n",
      "INFO:root:Part 0 | Epoch 00007 | Batch 060 | Loss: 0.8280 | Time: 0.0265\n",
      "INFO:root:Part 0 | Epoch 00007 | Batch 080 | Loss: 0.5534 | Time: 0.0275\n",
      "INFO:root:Step 1200 | Train loss: 0.5785\n",
      "INFO:root:Part 0 | Epoch 00007 | Batch 100 | Loss: 0.5785 | Time: 0.0283\n",
      "INFO:root:Step 1200 | Validation accuracy: 0.5500\n",
      "INFO:root:Step 1200 | Test accuracy: 0.5404\n",
      "INFO:root:Step 1200 | Best Validation accuracy: 0.5500\n",
      "INFO:root:Step 1200 | Best Test accuracy: 0.5404\n",
      "INFO:root:Step 1200 | Best Iteration accuracy: 1200.0000\n",
      "INFO:root: Eval time: 0.3050, Evaluation step: 1200.\n",
      "INFO:root:Part 0 | Epoch 00007 | Batch 120 | Loss: 0.6072 | Time: 0.0283\n",
      "INFO:root:Part 0 | Epoch 00007 | Batch 140 | Loss: 0.6948 | Time: 0.0276\n",
      "INFO:root:Epoch 7 take 5.112 seconds\n",
      "INFO:root:Step 1256 | Validation accuracy: 0.5428\n",
      "INFO:root:Step 1256 | Test accuracy: 0.5332\n",
      "INFO:root:Step 1256 | Best Validation accuracy: 0.5500\n",
      "INFO:root:Step 1256 | Best Test accuracy: 0.5404\n",
      "INFO:root:Step 1256 | Best Iteration accuracy: 1200.0000\n",
      "INFO:root: Eval time: 0.2921, Evaluation step: 1256.\n",
      "INFO:root:Part 0 | Epoch 00008 | Batch 000 | Loss: 0.4344 | Time: 0.0317\n",
      "INFO:root:Part 0 | Epoch 00008 | Batch 020 | Loss: 0.5547 | Time: 0.0285\n",
      "INFO:root:Part 0 | Epoch 00008 | Batch 040 | Loss: 0.5912 | Time: 0.0264\n",
      "INFO:root:Step 1300 | Train loss: 0.4928\n",
      "INFO:root:Step 1300 | Validation accuracy: 0.5316\n",
      "INFO:root:Step 1300 | Test accuracy: 0.5324\n",
      "INFO:root:Step 1300 | Best Validation accuracy: 0.5500\n",
      "INFO:root:Step 1300 | Best Test accuracy: 0.5404\n",
      "INFO:root:Step 1300 | Best Iteration accuracy: 1200.0000\n",
      "INFO:root: Eval time: 0.2923, Evaluation step: 1300.\n",
      "INFO:root:Part 0 | Epoch 00008 | Batch 060 | Loss: 0.5384 | Time: 0.0299\n",
      "INFO:root:Part 0 | Epoch 00008 | Batch 080 | Loss: 0.6427 | Time: 0.0281\n",
      "INFO:root:Part 0 | Epoch 00008 | Batch 100 | Loss: 0.5386 | Time: 0.0302\n",
      "INFO:root:Part 0 | Epoch 00008 | Batch 120 | Loss: 0.4797 | Time: 0.0277\n",
      "INFO:root:Part 0 | Epoch 00008 | Batch 140 | Loss: 0.6907 | Time: 0.0282\n",
      "INFO:root:Step 1400 | Train loss: 0.5027\n",
      "INFO:root:Step 1400 | Validation accuracy: 0.5340\n",
      "INFO:root:Step 1400 | Test accuracy: 0.5388\n",
      "INFO:root:Step 1400 | Best Validation accuracy: 0.5500\n",
      "INFO:root:Step 1400 | Best Test accuracy: 0.5404\n",
      "INFO:root:Step 1400 | Best Iteration accuracy: 1200.0000\n",
      "INFO:root: Eval time: 0.2948, Evaluation step: 1400.\n",
      "INFO:root:Epoch 8 take 5.098 seconds\n",
      "INFO:root:Step 1413 | Validation accuracy: 0.5164\n",
      "INFO:root:Step 1413 | Test accuracy: 0.5292\n",
      "INFO:root:Step 1413 | Best Validation accuracy: 0.5500\n",
      "INFO:root:Step 1413 | Best Test accuracy: 0.5404\n",
      "INFO:root:Step 1413 | Best Iteration accuracy: 1200.0000\n",
      "INFO:root: Eval time: 0.2835, Evaluation step: 1413.\n",
      "INFO:root:Part 0 | Epoch 00009 | Batch 000 | Loss: 0.5256 | Time: 0.0291\n",
      "INFO:root:Part 0 | Epoch 00009 | Batch 020 | Loss: 0.4681 | Time: 0.0286\n",
      "INFO:root:Part 0 | Epoch 00009 | Batch 040 | Loss: 0.5152 | Time: 0.0302\n",
      "INFO:root:Part 0 | Epoch 00009 | Batch 060 | Loss: 0.3039 | Time: 0.0282\n",
      "INFO:root:Part 0 | Epoch 00009 | Batch 080 | Loss: 0.6054 | Time: 0.0284\n",
      "INFO:root:Step 1500 | Train loss: 0.5962\n",
      "INFO:root:Step 1500 | Validation accuracy: 0.5180\n",
      "INFO:root:Step 1500 | Test accuracy: 0.5356\n",
      "INFO:root:Step 1500 | Best Validation accuracy: 0.5500\n",
      "INFO:root:Step 1500 | Best Test accuracy: 0.5404\n",
      "INFO:root:Step 1500 | Best Iteration accuracy: 1200.0000\n",
      "INFO:root: Eval time: 0.2941, Evaluation step: 1500.\n",
      "INFO:root:Part 0 | Epoch 00009 | Batch 100 | Loss: 0.4472 | Time: 0.0273\n",
      "INFO:root:Part 0 | Epoch 00009 | Batch 120 | Loss: 0.4833 | Time: 0.0284\n",
      "INFO:root:Part 0 | Epoch 00009 | Batch 140 | Loss: 0.5119 | Time: 0.0288\n",
      "INFO:root:Epoch 9 take 4.836 seconds\n",
      "INFO:root:Step 1570 | Validation accuracy: 0.5364\n",
      "INFO:root:Step 1570 | Test accuracy: 0.5396\n",
      "INFO:root:Step 1570 | Best Validation accuracy: 0.5500\n",
      "INFO:root:Step 1570 | Best Test accuracy: 0.5404\n",
      "INFO:root:Step 1570 | Best Iteration accuracy: 1200.0000\n",
      "INFO:root: Eval time: 0.2912, Evaluation step: 1570.\n",
      "INFO:root:Peak RAM Mem alloc: 566.1836 MB\n",
      "INFO:root:best_test_score: {'accuracy': 0.5404323458767014}\n",
      "INFO:root:best_val_score: {'accuracy': 0.5500400320256205}\n",
      "INFO:root:peak_GPU_mem_alloc_MB: 0.0\n",
      "INFO:root:peak_RAM_mem_alloc_MB: 566.18359375\n",
      "INFO:root:best validation iteration: 1200\n",
      "INFO:root:best model path: a_save_path/epoch-2\n"
     ]
    }
   ],
   "source": [
    "# Train the model with the trainer using fit() function\n",
    "trainer.fit(train_loader=train_dataloader,\n",
    "            val_loader=val_dataloader,\n",
    "            test_loader=test_dataloader,\n",
    "            num_epochs=10,\n",
    "            save_model_path='a_save_path/')"
   ]
  },
  {
   "cell_type": "markdown",
   "metadata": {},
   "source": [
    "### (Optional) 5. Visualize Model Performance History\n",
    "\n",
    "Next, we examine the model performance on the validation, and testing over the training process."
   ]
  },
  {
   "cell_type": "code",
   "execution_count": 10,
   "metadata": {
    "tags": []
   },
   "outputs": [
    {
     "data": {
      "text/plain": [
       "<matplotlib.legend.Legend at 0x7fcf6a552550>"
      ]
     },
     "execution_count": 10,
     "metadata": {},
     "output_type": "execute_result"
    },
    {
     "data": {
      "image/png": "[encoded data removed]",
      "text/plain": [
       "<Figure size 640x480 with 1 Axes>"
      ]
     },
     "metadata": {},
     "output_type": "display_data"
    }
   ],
   "source": [
    "import matplotlib.pyplot as plt\n",
    "\n",
    "# extract evaluation history of metrics from the trainer's evaluator:\n",
    "val_metrics, test_metrics = [], []\n",
    "for val_metric, test_metric in trainer.evaluator.history:\n",
    "    val_metrics.append(val_metric['accuracy'])\n",
    "    test_metrics.append(test_metric['accuracy'])\n",
    "\n",
    "# plot the performance curves\n",
    "fig, ax = plt.subplots()\n",
    "ax.plot(val_metrics, label='val')\n",
    "ax.plot(test_metrics, label='test')\n",
    "ax.set(xlabel='Epoch', ylabel='Accuracy')\n",
    "ax.legend(loc='best')"
   ]
  },
  {
   "cell_type": "markdown",
   "metadata": {},
   "source": [
    "### 6. Inference with the Trained Model\n",
    "\n",
    "GraphStorm automatically save the best performaned model in the given `save_model_path` argument. We can first find out what is the best model and its path."
   ]
  },
  {
   "cell_type": "code",
   "execution_count": 11,
   "metadata": {
    "tags": []
   },
   "outputs": [
    {
     "name": "stdout",
     "output_type": "stream",
     "text": [
      "Best model path: a_save_path/epoch-2\n"
     ]
    }
   ],
   "source": [
    "# after training, the best model is saved to disk:\n",
    "best_model_path = trainer.get_best_model_path()\n",
    "print('Best model path:', best_model_path)"
   ]
  },
  {
   "cell_type": "code",
   "execution_count": 12,
   "metadata": {},
   "outputs": [
    {
     "name": "stderr",
     "output_type": "stream",
     "text": [
      "INFO:root:successfully load the model from a_save_path/epoch-2\n",
      "INFO:root:Time on load model: 0.004 seconds\n"
     ]
    }
   ],
   "source": [
    "# we can restore the model from the saved path using the model's restore_model() function.\n",
    "model.restore_model(best_model_path)"
   ]
  },
  {
   "cell_type": "code",
   "execution_count": 14,
   "metadata": {},
   "outputs": [
    {
     "name": "stderr",
     "output_type": "stream",
     "text": [
      "INFO:root:part 0, test 1249\n"
     ]
    }
   ],
   "source": [
    "# Setup dataloader for inference\n",
    "infer_dataloader = gs.dataloading.GSgnnNodeDataLoader(dataset=acm_data,\n",
    "                                                      target_idx=acm_data.get_node_test_set(ntypes=['paper']),\n",
    "                                                      node_feats=nfeats_4_modeling,\n",
    "                                                      label_field='label',\n",
    "                                                      fanout=[100, 100],\n",
    "                                                      batch_size=256,\n",
    "                                                      train_task=False)\n",
    "# Create an Inferrer object\n",
    "infer = gs.inference.GSgnnNodePredictionInferrer(model)"
   ]
  },
  {
   "cell_type": "code",
   "execution_count": 15,
   "metadata": {},
   "outputs": [
    {
     "name": "stderr",
     "output_type": "stream",
     "text": [
      "INFO:root:save embeddings pf paper to infer/embeddings\n",
      "INFO:root:Writing GNN embeddings to infer/embeddings in pytorch format.\n"
     ]
    }
   ],
   "source": [
    "# Run inference on the inference dataset\n",
    "infer.infer(infer_dataloader,\n",
    "            save_embed_path='infer/embeddings',\n",
    "            save_prediction_path='infer/predictions',\n",
    "            use_mini_batch_infer=True)"
   ]
  },
  {
   "cell_type": "code",
   "execution_count": 16,
   "metadata": {},
   "outputs": [
    {
     "name": "stdout",
     "output_type": "stream",
     "text": [
      "total 640K\n",
      "-rw-rw-r-- 1 ubuntu ubuntu 626K May  8 01:01 embed-00000.pt\n",
      "-rw-rw-r-- 1 ubuntu ubuntu  11K May  8 01:01 embed_nids-00000.pt\n",
      "total 84K\n",
      "-rw-rw-r-- 1 ubuntu ubuntu 70K May  8 01:01 predict-00000.pt\n",
      "-rw-rw-r-- 1 ubuntu ubuntu 11K May  8 01:01 predict_nids-00000.pt\n"
     ]
    }
   ],
   "source": [
    "# The GNN embeddings and predictions on the inference graph are saved to the folder named after the target_ntype\n",
    "!ls -lh infer/embeddings/paper\n",
    "!ls -lh infer/predictions/paper"
   ]
  },
  {
   "cell_type": "code",
   "execution_count": null,
   "metadata": {},
   "outputs": [],
   "source": []
  }
 ],
 "metadata": {
  "kernelspec": {
   "display_name": "gsf",
   "language": "python",
   "name": "gsf"
  },
  "language_info": {
   "codemirror_mode": {
    "name": "ipython",
    "version": 3
   },
   "file_extension": ".py",
   "mimetype": "text/x-python",
   "name": "python",
   "nbconvert_exporter": "python",
   "pygments_lexer": "ipython3",
   "version": "3.9.18"
  }
 },
 "nbformat": 4,
 "nbformat_minor": 4
}
