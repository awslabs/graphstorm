{
 "cells": [
  {
   "cell_type": "markdown",
   "id": "c4392287-0c04-44e6-a6b2-e34f5d7157ad",
   "metadata": {},
   "source": [
    "# Notebook 0: Data Prepare\n",
    "\n",
    "This notebook will create an example graph data to be used in the other notebooks to demonstrate how to program using GraphStorm APIs.\n",
    "The example graph data comes from [DGL's ACM publication dataset](https://data.dgl.ai/dataset/ACM.mat), which is the same as the data explainedin the [Use Your Own Data tutorial](https://graphstorm.readthedocs.io/en/latest/tutorials/own-data.html).\n",
    "\n",
    "-----\n",
    "\n",
    "## Prerequisites\n",
    "This notebook assumes the following:\n",
    "- Python 3;\n",
    "- Linux OS, Ubuntu or Amazon Linux;\n",
    "- GraphStorm and its dependencies (following the [Setup GraphStorm with pip packages tutorial](https://graphstorm.readthedocs.io/en/latest/install/env-setup.html#setup-graphstorm-with-pip-packages))\n",
    "- [Jupyter web interactive server](https://jupyter.org/).\n",
    "\n",
    "Users can use the following command to check if the above prerequisites are met."
   ]
  },
  {
   "cell_type": "code",
   "execution_count": 1,
   "id": "ef5d9b4a-2efa-4158-be55-53b22226d3d2",
   "metadata": {},
   "outputs": [],
   "source": [
    "import graphstorm as gs"
   ]
  },
  {
   "cell_type": "markdown",
   "id": "edeaa1cd-283a-4c5e-8f20-bbd3dd186928",
   "metadata": {},
   "source": [
    "## Download Data Generation Script\n",
    "GraphStorm provides a Python script that can download and convert the DGL ACM publication data for GraphStorm usage. Therefore, first let's download the script file from the [GraphStorm Github repository](https://github.com/awslabs/graphstorm)."
   ]
  },
  {
   "cell_type": "code",
   "execution_count": 2,
   "id": "609b0869-b4eb-4467-8353-31e2acc92203",
   "metadata": {},
   "outputs": [],
   "source": [
    "!wget -O ./acm_data.py https://github.com/awslabs/graphstorm/raw/main/examples/acm_data.py"
   ]
  },
  {
   "cell_type": "markdown",
   "id": "a78c88ef-91f0-4737-9506-985dc7d03c7f",
   "metadata": {},
   "source": [
    "## Generate ACM Raw Table Data\n",
    "Then we can use the command below to build the raw table data, which is the standard input data for GraphStorm's gconstruct module."
   ]
  },
  {
   "cell_type": "code",
   "execution_count": null,
   "id": "4e3e6c4e-9d6d-4a6d-9c51-cf856eef06fc",
   "metadata": {},
   "outputs": [],
   "source": [
    "!python ./acm_data.py --output-path ./acm_raw --output-type raw_w_text"
   ]
  },
  {
   "cell_type": "markdown",
   "id": "02183d5a-f574-4938-956a-69eeec1fd1ee",
   "metadata": {},
   "source": [
    "## Construct GraphStorm Input Graph Data\n",
    "With the raw ACM tables we then can use GraphStorm's graph construction method to prepare the ACM graph for other notebooks. The graph construction module perform:\n",
    "- read in the raw data, and convert it to DGL graph;\n",
    "- split the DGL graph into multiple partitions as the distributed DGL graphs;\n",
    "- produce node id mapping files and other supporting files.\n",
    "\n",
    "For the GraphStorm Standalone mode, we only need one partition. Therefore, in the command below we set the `--num-parts` to be `1`. For other arguments, users can refer to [GraphStorm Graph Construction arguments](https://graphstorm.readthedocs.io/en/latest/configuration/configuration-gconstruction.html)."
   ]
  },
  {
   "cell_type": "code",
   "execution_count": 4,
   "id": "2b8c752c-b6e8-4562-9637-4c56a4b09875",
   "metadata": {},
   "outputs": [],
   "source": [
    "!python -m graphstorm.gconstruct.construct_graph \\\n",
    "          --conf-file ./acm_raw/config.json \\\n",
    "          --output-dir ./acm_gs_1p \\\n",
    "          --num-parts 1 \\\n",
    "          --graph-name acm"
   ]
  },
  {
   "cell_type": "markdown",
   "id": "314eed68-b10b-4f59-94c5-fcac538cc202",
   "metadata": {},
   "source": [
    "#### 3-Partition Input Data\n",
    "To better illustrate GraphStorm required input data structure, we can use the following command to create a 3-partition input data."
   ]
  },
  {
   "cell_type": "code",
   "execution_count": 5,
   "id": "fc5eb53c-50ed-4b51-8b94-57094ee4dc15",
   "metadata": {},
   "outputs": [],
   "source": [
    "!python -m graphstorm.gconstruct.construct_graph \\\n",
    "          --conf-file ./acm_raw/config.json \\\n",
    "          --output-dir ./acm_gs_3p \\\n",
    "          --num-parts 3 \\\n",
    "          --graph-name acm"
   ]
  },
  {
   "cell_type": "markdown",
   "id": "e79e2712-4a3c-41a2-8c1b-819c7e8364d2",
   "metadata": {},
   "source": [
    "## Data Exploration and Explanation\n",
    "The above commands created two sets of ACM data, i.e., the raw ACM data tables, and ACM GraphStorm input graphs. Below we explore these datasets, and explain their format so that users can prepare their own graph data easily."
   ]
  },
  {
   "cell_type": "markdown",
   "id": "148db3bc-ca76-4a75-b3b8-e2ed55784b03",
   "metadata": {},
   "source": [
    "### Raw ACM Table Data in the `./acm_raw` Folder\n",
    "We can explore the `acm_raw` folder with the `ls -al` command. "
   ]
  },
  {
   "cell_type": "code",
   "execution_count": 6,
   "id": "c0a6cc31-2230-498e-9a19-33466ed0f916",
   "metadata": {},
   "outputs": [
    {
     "name": "stdout",
     "output_type": "stream",
     "text": [
      "total 24\n",
      "drwxrwxr-x 4 ubuntu ubuntu 4096 Dec 19 21:27 .\n",
      "drwxrwxr-x 6 ubuntu ubuntu 4096 Dec 19 21:29 ..\n",
      "-rw-rw-r-- 1 ubuntu ubuntu 5306 Dec 19 21:27 config.json\n",
      "drwxrwxr-x 2 ubuntu ubuntu 4096 Dec 19 21:27 edges\n",
      "drwxrwxr-x 2 ubuntu ubuntu 4096 Dec 19 21:27 nodes\n"
     ]
    }
   ],
   "source": [
    "!ls -al ./acm_raw"
   ]
  },
  {
   "cell_type": "code",
   "execution_count": 7,
   "id": "2cc6e2db-b5fd-4a03-9192-11a577f36988",
   "metadata": {},
   "outputs": [
    {
     "name": "stdout",
     "output_type": "stream",
     "text": [
      "total 38744\n",
      "drwxrwxr-x 2 ubuntu ubuntu     4096 Dec 19 21:27 .\n",
      "drwxrwxr-x 4 ubuntu ubuntu     4096 Dec 19 21:27 ..\n",
      "-rw-rw-r-- 1 ubuntu ubuntu 18843566 Dec 19 21:27 author.parquet\n",
      "-rw-rw-r-- 1 ubuntu ubuntu 20704514 Dec 19 21:27 paper.parquet\n",
      "-rw-rw-r-- 1 ubuntu ubuntu   113462 Dec 19 21:27 subject.parquet\n"
     ]
    }
   ],
   "source": [
    "!ls -al ./acm_raw/nodes"
   ]
  },
  {
   "cell_type": "code",
   "execution_count": 8,
   "id": "998dc284-8f0c-4f2a-89ca-f63c5d2fc65d",
   "metadata": {},
   "outputs": [
    {
     "name": "stdout",
     "output_type": "stream",
     "text": [
      "total 1016\n",
      "drwxrwxr-x 2 ubuntu ubuntu   4096 Dec 19 21:27 .\n",
      "drwxrwxr-x 4 ubuntu ubuntu   4096 Dec 19 21:27 ..\n",
      "-rw-rw-r-- 1 ubuntu ubuntu 263138 Dec 19 21:27 author_writing_paper.parquet\n",
      "-rw-rw-r-- 1 ubuntu ubuntu 156358 Dec 19 21:27 paper_cited_paper.parquet\n",
      "-rw-rw-r-- 1 ubuntu ubuntu 162714 Dec 19 21:27 paper_citing_paper.parquet\n",
      "-rw-rw-r-- 1 ubuntu ubuntu  87792 Dec 19 21:27 paper_is-about_subject.parquet\n",
      "-rw-rw-r-- 1 ubuntu ubuntu 265948 Dec 19 21:27 paper_written-by_author.parquet\n",
      "-rw-rw-r-- 1 ubuntu ubuntu  84005 Dec 19 21:27 subject_has_paper.parquet\n"
     ]
    }
   ],
   "source": [
    "!ls -al ./acm_raw/edges"
   ]
  },
  {
   "cell_type": "markdown",
   "id": "74be0c90-64f8-4d83-a741-35a6f58b3a9b",
   "metadata": {},
   "source": [
    "#### Graph Description JSON File `config.json`"
   ]
  },
  {
   "cell_type": "markdown",
   "id": "2346f42f-b8bb-4e5f-8485-cc9c508384f2",
   "metadata": {},
   "source": [
    "The `acm_raw` folder includes one `config.json` file that describes the table-based raw graph data. Except for a **version** object, the JSON file contains a **nodes** object and an **edges** object.\n",
    "\n",
    "The **nodes** object contains a list of *node* objects, each of which includes a set of properties to describe one node type in a graph data. For example, in the `config.json` file, there is a node type, called \"papers\". For each node type, GraphStorm defines a few other properties, such as **format**, **files**, and **features**.\n",
    "\n",
    "Similarly, the **edges** object contains a list of *edge* objects. Most of *edge* properties are same as *node*'s except that *edge* object has the **relation** property that define an edge type in a canonical format, i.e., *source node type*, *relation type*, and *destination node type*.\n",
    "\n",
    "For a full list of the JSON configuration properties, users can refer to the [GraphStorm Graph Construction JSON Explanations](https://graphstorm.readthedocs.io/en/latest/configuration/configuration-gconstruction.html#configuration-json-explanations).\n",
    "\n",
    "To use your own graph, users need to prepare their own JSON file."
   ]
  },
  {
   "cell_type": "code",
   "execution_count": 6,
   "id": "ddfef233-7fff-41ab-84f7-30d96885c472",
   "metadata": {
    "scrolled": true
   },
   "outputs": [],
   "source": [
    "!cat ./acm_raw/config.json"
   ]
  },
  {
   "cell_type": "markdown",
   "id": "6babcfd3-b570-4045-9cb6-541bf7ceaf4d",
   "metadata": {},
   "source": [
    "#### Raw ACM Tables in the `nodes/` and `edges/` folder.\n",
    "As defined in the `./acm_raw/config.json` file, the node data files are stored at the `./acm_raw/nodes/` folder, and edge data files are stored at the `./acm_raw/edges/` folder. General description of these files can be found at the [Input raw node/edge data files](https://graphstorm.readthedocs.io/en/latest/tutorials/own-data.html#input-raw-node-edge-data-files). Here, we can read some node (\"paper\") and edge (\\[\"paper\", \"citing\", \"paper\"\\]) tables to learn more about them."
   ]
  },
  {
   "cell_type": "code",
   "execution_count": 10,
   "id": "475be4f2-405a-4809-b51e-7a439566f00d",
   "metadata": {},
   "outputs": [],
   "source": [
    "import pandas as pd\n",
    "\n",
    "paper_node_path = './acm_raw/nodes/paper.parquet'\n",
    "paper_citing_paper_edge_path = './acm_raw/edges/paper_citing_paper.parquet'"
   ]
  },
  {
   "cell_type": "markdown",
   "id": "7237ea83-fc92-4a36-87b8-adecae9bdf99",
   "metadata": {},
   "source": [
    "**The \"paper\" node table**\n",
    "\n",
    "The paper node table could be read in as a Pandas DataFrame. The table has a few columns, whose names are used in the `config.json`. For the \"paper\" nodes, there is a `node_id` column, including a unique identifier for each node, a `feat` column, including a 256D numerical tensor for each node, a `text` column, including free text feature for each node, and a `label` column, including an integer to indicate the class that each node is assigned.\n",
    "\n",
    "The other two node types, \"author\" and \"subject\", have similar data tables. Users can explore them with the similar code below."
   ]
  },
  {
   "cell_type": "code",
   "execution_count": 11,
   "id": "930314ae-330c-4159-9c3b-d18ed8621c3d",
   "metadata": {},
   "outputs": [
    {
     "name": "stdout",
     "output_type": "stream",
     "text": [
      "(12499, 4)\n"
     ]
    },
    {
     "data": {
      "text/html": [
       "<div>\n",
       "<style scoped>\n",
       "    .dataframe tbody tr th:only-of-type {\n",
       "        vertical-align: middle;\n",
       "    }\n",
       "\n",
       "    .dataframe tbody tr th {\n",
       "        vertical-align: top;\n",
       "    }\n",
       "\n",
       "    .dataframe thead th {\n",
       "        text-align: right;\n",
       "    }\n",
       "</style>\n",
       "<table border=\"1\" class=\"dataframe\">\n",
       "  <thead>\n",
       "    <tr style=\"text-align: right;\">\n",
       "      <th></th>\n",
       "      <th>node_id</th>\n",
       "      <th>label</th>\n",
       "      <th>feat</th>\n",
       "      <th>text</th>\n",
       "    </tr>\n",
       "  </thead>\n",
       "  <tbody>\n",
       "    <tr>\n",
       "      <th>4011</th>\n",
       "      <td>p4011</td>\n",
       "      <td>4</td>\n",
       "      <td>[0.012342263, -0.01471429, -0.012913096, 0.007...</td>\n",
       "      <td>'User behavior driven ranking without editoria...</td>\n",
       "    </tr>\n",
       "    <tr>\n",
       "      <th>11379</th>\n",
       "      <td>p11379</td>\n",
       "      <td>12</td>\n",
       "      <td>[-0.012718345, 0.020719944, -0.010691697, 0.00...</td>\n",
       "      <td>'Reducing truth-telling online mechanisms to o...</td>\n",
       "    </tr>\n",
       "    <tr>\n",
       "      <th>9401</th>\n",
       "      <td>p9401</td>\n",
       "      <td>8</td>\n",
       "      <td>[-0.013923097, 0.017362924, -0.009770028, -0.0...</td>\n",
       "      <td>'The lazy adversary conjecture fails We prove ...</td>\n",
       "    </tr>\n",
       "    <tr>\n",
       "      <th>4928</th>\n",
       "      <td>p4928</td>\n",
       "      <td>1</td>\n",
       "      <td>[0.019353714, 0.0066366955, 0.0115322415, 0.01...</td>\n",
       "      <td>'Privacy preserving schema and data matching  ...</td>\n",
       "    </tr>\n",
       "  </tbody>\n",
       "</table>\n",
       "</div>"
      ],
      "text/plain": [
       "      node_id  label                                               feat  \\\n",
       "4011    p4011      4  [0.012342263, -0.01471429, -0.012913096, 0.007...   \n",
       "11379  p11379     12  [-0.012718345, 0.020719944, -0.010691697, 0.00...   \n",
       "9401    p9401      8  [-0.013923097, 0.017362924, -0.009770028, -0.0...   \n",
       "4928    p4928      1  [0.019353714, 0.0066366955, 0.0115322415, 0.01...   \n",
       "\n",
       "                                                    text  \n",
       "4011   'User behavior driven ranking without editoria...  \n",
       "11379  'Reducing truth-telling online mechanisms to o...  \n",
       "9401   'The lazy adversary conjecture fails We prove ...  \n",
       "4928   'Privacy preserving schema and data matching  ...  "
      ]
     },
     "execution_count": 11,
     "metadata": {},
     "output_type": "execute_result"
    }
   ],
   "source": [
    "paper_node_df = pd.read_parquet(paper_node_path)\n",
    "\n",
    "print(paper_node_df.shape)\n",
    "paper_node_df.sample(4)"
   ]
  },
  {
   "cell_type": "markdown",
   "id": "74d50c03-0485-4b33-be76-b33fe7c013fd",
   "metadata": {},
   "source": [
    "**The (paper, citing, paper) edge table**\n",
    "\n",
    "The \"paper, citing, paper\" edge table could also be read in as a Pandas DataFrame. It has three columns. The `source_id` and `dest_id` column contain the same identifiers listed in the \"paper\" node table. The `label` column is a placeholder to be used for spliting the \"paper, citing, paper\" edges for a link prediction task."
   ]
  },
  {
   "cell_type": "code",
   "execution_count": 12,
   "id": "cdce82e9-eecd-43c7-a0ac-ab7b161d4211",
   "metadata": {},
   "outputs": [
    {
     "name": "stdout",
     "output_type": "stream",
     "text": [
      "(30789, 3)\n"
     ]
    },
    {
     "data": {
      "text/html": [
       "<div>\n",
       "<style scoped>\n",
       "    .dataframe tbody tr th:only-of-type {\n",
       "        vertical-align: middle;\n",
       "    }\n",
       "\n",
       "    .dataframe tbody tr th {\n",
       "        vertical-align: top;\n",
       "    }\n",
       "\n",
       "    .dataframe thead th {\n",
       "        text-align: right;\n",
       "    }\n",
       "</style>\n",
       "<table border=\"1\" class=\"dataframe\">\n",
       "  <thead>\n",
       "    <tr style=\"text-align: right;\">\n",
       "      <th></th>\n",
       "      <th>source_id</th>\n",
       "      <th>dest_id</th>\n",
       "      <th>label</th>\n",
       "    </tr>\n",
       "  </thead>\n",
       "  <tbody>\n",
       "    <tr>\n",
       "      <th>28779</th>\n",
       "      <td>p11255</td>\n",
       "      <td>p12232</td>\n",
       "      <td>1.0</td>\n",
       "    </tr>\n",
       "    <tr>\n",
       "      <th>2791</th>\n",
       "      <td>p704</td>\n",
       "      <td>p6747</td>\n",
       "      <td>1.0</td>\n",
       "    </tr>\n",
       "    <tr>\n",
       "      <th>429</th>\n",
       "      <td>p119</td>\n",
       "      <td>p16</td>\n",
       "      <td>1.0</td>\n",
       "    </tr>\n",
       "    <tr>\n",
       "      <th>7301</th>\n",
       "      <td>p2354</td>\n",
       "      <td>p8747</td>\n",
       "      <td>1.0</td>\n",
       "    </tr>\n",
       "  </tbody>\n",
       "</table>\n",
       "</div>"
      ],
      "text/plain": [
       "      source_id dest_id  label\n",
       "28779    p11255  p12232    1.0\n",
       "2791       p704   p6747    1.0\n",
       "429        p119     p16    1.0\n",
       "7301      p2354   p8747    1.0"
      ]
     },
     "execution_count": 12,
     "metadata": {},
     "output_type": "execute_result"
    }
   ],
   "source": [
    "pcp_edge_df = pd.read_parquet(paper_citing_paper_edge_path)\n",
    "\n",
    "print(pcp_edge_df.shape)\n",
    "pcp_edge_df.sample(4)"
   ]
  },
  {
   "cell_type": "markdown",
   "id": "8cd709f6-9089-4084-b218-71d8cf0a8924",
   "metadata": {},
   "source": [
    "### GraphStorm Input Graph Data in the `./acm_gs_*p/` Folder\n",
    "\n",
    "In the above cells, we created a 1-partition graph in the `acm_gs_1p` folder and a 3-partition graph in the `acm_gs_3p` folder. The contents of the two folders are nearly the same, including \n",
    "\n",
    "1. a GraphStorm partitioned configuration JSON file;\n",
    "2. original node id space to GraphStorm node id space mapping files, created during graph processing;\n",
    "3. GraphStorm node id space to shuffle node id space mapping, created during graph patitioning;\n",
    "4. label statitic files."
   ]
  },
  {
   "cell_type": "code",
   "execution_count": 13,
   "id": "86ef095b-5997-46e4-a8a1-99f1db61de57",
   "metadata": {},
   "outputs": [
    {
     "name": "stdout",
     "output_type": "stream",
     "text": [
      "total 1884\n",
      "drwxrwxr-x 3 ubuntu ubuntu    4096 Dec 19 21:28 .\n",
      "drwxrwxr-x 6 ubuntu ubuntu    4096 Dec 19 21:29 ..\n",
      "-rw-rw-r-- 1 ubuntu ubuntu    1673 Dec 19 21:28 acm.json\n",
      "-rw-rw-r-- 1 ubuntu ubuntu  213402 Dec 19 21:28 author_id_remap.parquet\n",
      "-rw-rw-r-- 1 ubuntu ubuntu     191 Dec 19 21:28 edge_label_stats.json\n",
      "-rw-rw-r-- 1 ubuntu ubuntu 1287802 Dec 19 21:28 edge_mapping.pt\n",
      "-rw-rw-r-- 1 ubuntu ubuntu     515 Dec 19 21:28 node_label_stats.json\n",
      "-rw-rw-r-- 1 ubuntu ubuntu  241655 Dec 19 21:28 node_mapping.pt\n",
      "-rw-rw-r-- 1 ubuntu ubuntu  150409 Dec 19 21:28 paper_id_remap.parquet\n",
      "drwxrwxr-x 2 ubuntu ubuntu    4096 Dec 19 21:28 part0\n",
      "-rw-rw-r-- 1 ubuntu ubuntu    2934 Dec 19 21:28 subject_id_remap.parquet\n"
     ]
    }
   ],
   "source": [
    "!ls -al ./acm_gs_1p"
   ]
  },
  {
   "cell_type": "code",
   "execution_count": 14,
   "id": "d5a11133-75ef-4299-b167-81498c4f1dc4",
   "metadata": {},
   "outputs": [
    {
     "name": "stdout",
     "output_type": "stream",
     "text": [
      "total 1892\n",
      "drwxrwxr-x 5 ubuntu ubuntu    4096 Dec 19 21:29 .\n",
      "drwxrwxr-x 6 ubuntu ubuntu    4096 Dec 19 21:29 ..\n",
      "-rw-rw-r-- 1 ubuntu ubuntu    3319 Dec 19 21:29 acm.json\n",
      "-rw-rw-r-- 1 ubuntu ubuntu  213402 Dec 19 21:29 author_id_remap.parquet\n",
      "-rw-rw-r-- 1 ubuntu ubuntu     191 Dec 19 21:29 edge_label_stats.json\n",
      "-rw-rw-r-- 1 ubuntu ubuntu 1287802 Dec 19 21:29 edge_mapping.pt\n",
      "-rw-rw-r-- 1 ubuntu ubuntu     515 Dec 19 21:29 node_label_stats.json\n",
      "-rw-rw-r-- 1 ubuntu ubuntu  241655 Dec 19 21:29 node_mapping.pt\n",
      "-rw-rw-r-- 1 ubuntu ubuntu  150409 Dec 19 21:29 paper_id_remap.parquet\n",
      "drwxrwxr-x 2 ubuntu ubuntu    4096 Dec 19 21:29 part0\n",
      "drwxrwxr-x 2 ubuntu ubuntu    4096 Dec 19 21:29 part1\n",
      "drwxrwxr-x 2 ubuntu ubuntu    4096 Dec 19 21:29 part2\n",
      "-rw-rw-r-- 1 ubuntu ubuntu    2934 Dec 19 21:29 subject_id_remap.parquet\n"
     ]
    }
   ],
   "source": [
    "!ls -al ./acm_gs_3p"
   ]
  },
  {
   "cell_type": "markdown",
   "id": "7cbd682e-36e8-4410-ae77-b0d6931f3052",
   "metadata": {},
   "source": [
    "Because the choice of the different number of partitions, the two folders have different partition data sub-folders, named after \"part0\" to \"part***N***\", where ***N*** is the number of partitions specified with the `--num-parts` argument of construct_graph command.\n",
    "\n",
    "<div class=\"alert alert-block alert-info\">\n",
    "<b>Tip:</b> In the next sections, we use the 3-partition graph to explore these four sets of files and sub-folders one by one. But we will use the 1-partition graph in the other notebooks for GraphStorm standalone mode programming tutorials. </div>\n"
   ]
  },
  {
   "cell_type": "markdown",
   "id": "e675a0de-0324-4f5b-86b0-45e1909bbd68",
   "metadata": {},
   "source": [
    "#### The GraphStorm Partition Configuration File `acm.json`\n",
    "The `acm.json` file describe the partitioned graph that GraphStorm uses for model training and inference. \n",
    "\n",
    "It includes basic information about the partitioned graph, such as node and edge types, the number of each node and edge type, and the number of partitions along with the other partition mapping information."
   ]
  },
  {
   "cell_type": "code",
   "execution_count": 7,
   "id": "5f63bcba-fe24-4890-b232-4f9208886f02",
   "metadata": {
    "scrolled": true
   },
   "outputs": [],
   "source": [
    "!cat ./acm_gs_3p/acm.json"
   ]
  },
  {
   "cell_type": "markdown",
   "id": "c7c84137-0f41-4287-984f-a7358372fde6",
   "metadata": {},
   "source": [
    "#### Raw Node ID Mapping Files `****_id_remap.parquet`\n",
    "Because the original node ids could be any types, e.g., strings, integers, or even floats, during graph processing GraphStorm conducts an ID mapping, which map the original node ID space given by users into the interger type node ID space, starting from 0. This mapping information is stored in those `****_id_remap.parquet` files."
   ]
  },
  {
   "cell_type": "code",
   "execution_count": 16,
   "id": "bf47dee7-aabd-4d18-860b-218665a488a9",
   "metadata": {},
   "outputs": [
    {
     "name": "stdout",
     "output_type": "stream",
     "text": [
      "(17431, 2)\n"
     ]
    },
    {
     "data": {
      "text/html": [
       "<div>\n",
       "<style scoped>\n",
       "    .dataframe tbody tr th:only-of-type {\n",
       "        vertical-align: middle;\n",
       "    }\n",
       "\n",
       "    .dataframe tbody tr th {\n",
       "        vertical-align: top;\n",
       "    }\n",
       "\n",
       "    .dataframe thead th {\n",
       "        text-align: right;\n",
       "    }\n",
       "</style>\n",
       "<table border=\"1\" class=\"dataframe\">\n",
       "  <thead>\n",
       "    <tr style=\"text-align: right;\">\n",
       "      <th></th>\n",
       "      <th>orig</th>\n",
       "      <th>new</th>\n",
       "    </tr>\n",
       "  </thead>\n",
       "  <tbody>\n",
       "    <tr>\n",
       "      <th>765</th>\n",
       "      <td>a765</td>\n",
       "      <td>765</td>\n",
       "    </tr>\n",
       "    <tr>\n",
       "      <th>8438</th>\n",
       "      <td>a8438</td>\n",
       "      <td>8438</td>\n",
       "    </tr>\n",
       "    <tr>\n",
       "      <th>14914</th>\n",
       "      <td>a14914</td>\n",
       "      <td>14914</td>\n",
       "    </tr>\n",
       "    <tr>\n",
       "      <th>5227</th>\n",
       "      <td>a5227</td>\n",
       "      <td>5227</td>\n",
       "    </tr>\n",
       "  </tbody>\n",
       "</table>\n",
       "</div>"
      ],
      "text/plain": [
       "         orig    new\n",
       "765      a765    765\n",
       "8438    a8438   8438\n",
       "14914  a14914  14914\n",
       "5227    a5227   5227"
      ]
     },
     "execution_count": 16,
     "metadata": {},
     "output_type": "execute_result"
    }
   ],
   "source": [
    "author_nid_mapping_df = pd.read_parquet('./acm_gs_3p/author_id_remap.parquet')\n",
    "\n",
    "print(author_nid_mapping_df.shape)\n",
    "author_nid_mapping_df.sample(4)"
   ]
  },
  {
   "cell_type": "markdown",
   "id": "249a6a09-489a-4e45-a101-5ba459ffa50c",
   "metadata": {},
   "source": [
    "As shown above, the `author_id_remap.parquet` file has two columns. The `orig` column contains the original string type node IDs in the raw node table data, while the `new` column contains the new integer node IDs in the Graph Node ID space."
   ]
  },
  {
   "cell_type": "markdown",
   "id": "05de822c-5eb6-4656-bbe6-b3bd0ba034b4",
   "metadata": {},
   "source": [
    "#### GraphStorm Partition Node/Edge ID Mapping Files `****_mapping.pt`\n",
    "GraphStorm relies on the distributed DGL graph as its input graph data. The distributed DGL graph has its own node ID space, thus creating another node id mapping during graph partition.\n",
    "\n",
    "These node id mappings, in the form of a python dictionary, are stored in those `****_mapping.pt` files, which can be loaded using Pytorch.\n",
    "\n",
    "<div class=\"alert alert-block alert-info\">\n",
    "<b>Tip:</b>In general, uses do not need to do the id mapping back operations. If use GraphStorm's command line interface to train models and do inference, GraphStorm will automatically remapping the partitioned ID space to the original node ID space. </div>"
   ]
  },
  {
   "cell_type": "code",
   "execution_count": 17,
   "id": "96b2fa7e-cf62-44f0-8f14-714b472e1c17",
   "metadata": {},
   "outputs": [
    {
     "name": "stdout",
     "output_type": "stream",
     "text": [
      "Node id mapping:\n",
      "Node mapping keys: ['author', 'paper', 'subject']\n",
      "Node type 'author' first 10 mapping ids: tensor([16442,  7664,  7665,  7667, 16448,  7669,  7670, 16443,  7674, 16453])\n",
      "\n",
      "Edge id mapping:\n",
      "Edge mapping keys: [('author', 'writing', 'paper'), ('paper', 'cited', 'paper'), ('paper', 'citing', 'paper'), ('paper', 'is-about', 'subject'), ('paper', 'written-by', 'author'), ('subject', 'has', 'paper')]\n",
      "Edge type '('author', 'writing', 'paper')' first 10 mapping ids: tensor([ 8198, 15018,  3479,   253, 21728, 20622, 15980, 13148, 11788,  9858])\n",
      "\n"
     ]
    }
   ],
   "source": [
    "import torch as th\n",
    "\n",
    "node_mapping_dict = th.load('./acm_gs_3p/node_mapping.pt')\n",
    "print('Node id mapping:')\n",
    "print(f'Node mapping keys: {list(node_mapping_dict.keys())}')\n",
    "ntype0 = list(node_mapping_dict.keys())[0]\n",
    "print(f'Node type \\'{ntype0}\\' first 10 mapping ids: {node_mapping_dict[ntype0][:10]}\\n')\n",
    "\n",
    "edge_mapping_dict = th.load('./acm_gs_3p/edge_mapping.pt')\n",
    "print('Edge id mapping:')\n",
    "print(f'Edge mapping keys: {list(edge_mapping_dict.keys())}')\n",
    "etype0 = list(edge_mapping_dict.keys())[0]\n",
    "print(f'Edge type \\'{etype0}\\' first 10 mapping ids: {edge_mapping_dict[etype0][:10]}\\n')"
   ]
  },
  {
   "cell_type": "markdown",
   "id": "80ff4d2a",
   "metadata": {},
   "source": [
    "The ID mapping logic in those tensors is that GraphStorm graph ID is stored in these tensors, and their position indexes are the new partitioned node IDs. For example, for \"author\" nodes, the GraphStorm graph ID `16442` has a new partitioned node ID `0` because the number `16642` is in the first position (index=`0`) of the mapping tensor."
   ]
  },
  {
   "cell_type": "markdown",
   "id": "431462ea-401b-497b-a8b0-73a78f92a34e",
   "metadata": {},
   "source": [
    "#### Label Statistic Files `****_label_stats.json`\n",
    "\n",
    "If users specify the label statistc property in the `config.json` file, e.g., for the \"paper\" node's `label` object setting `\"label_stats_type\": \"frequency_cnt\"`, GraphStorm will collect labels' statistics and stored in the `****_label_stats.json` files."
   ]
  },
  {
   "cell_type": "code",
   "execution_count": 8,
   "id": "144790b0-dcca-4907-ab5b-f68d522a985d",
   "metadata": {},
   "outputs": [],
   "source": [
    "!cat ./acm_gs_3p/node_label_stats.json"
   ]
  },
  {
   "cell_type": "markdown",
   "id": "2ae5ed8d-72e5-4fbb-b31b-0291dfb43ab3",
   "metadata": {},
   "source": [
    "#### Partitioned Graph Data `partN/***.dgl`\n",
    "\n",
    "The distributed DGL graph datasets are saved in these `partN` subfolders, each of which contains three DGL formated files:\n",
    "1. `edge_feat.dgl`: edge features of one partition if have.\n",
    "2. `graph.dgl`: graph structure of one partition.\n",
    "3. `node_feat.dgl`: node features of one partition if have."
   ]
  },
  {
   "cell_type": "code",
   "execution_count": 19,
   "id": "4de36699-68f3-4c2f-a7aa-ccc8640ea3e1",
   "metadata": {},
   "outputs": [
    {
     "name": "stdout",
     "output_type": "stream",
     "text": [
      "total 13892\n",
      "drwxrwxr-x 2 ubuntu ubuntu     4096 Dec 19 21:29 .\n",
      "drwxrwxr-x 6 ubuntu ubuntu     4096 Dec 19 21:29 ..\n",
      "-rw-rw-r-- 1 ubuntu ubuntu    31926 Dec 19 21:29 edge_feat.dgl\n",
      "-rw-rw-r-- 1 ubuntu ubuntu  2081555 Dec 19 21:29 graph.dgl\n",
      "-rw-rw-r-- 1 ubuntu ubuntu 12097671 Dec 19 21:29 node_feat.dgl\n"
     ]
    }
   ],
   "source": [
    "!ls -al ./acm_gs_3p/part0"
   ]
  },
  {
   "cell_type": "code",
   "execution_count": null,
   "id": "466a4da8-85be-490f-9da6-b9f5c3f92029",
   "metadata": {},
   "outputs": [],
   "source": []
  }
 ],
 "metadata": {
  "kernelspec": {
   "display_name": "gsf",
   "language": "python",
   "name": "gsf"
  },
  "language_info": {
   "codemirror_mode": {
    "name": "ipython",
    "version": 3
   },
   "file_extension": ".py",
   "mimetype": "text/x-python",
   "name": "python",
   "nbconvert_exporter": "python",
   "pygments_lexer": "ipython3",
   "version": "3.9.18"
  }
 },
 "nbformat": 4,
 "nbformat_minor": 5
}
