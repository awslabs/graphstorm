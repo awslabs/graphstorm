{
 "cells": [
  {
   "cell_type": "markdown",
   "metadata": {},
   "source": [
    "# Notebook 1: Reproduce RGCN Model with APIs\n",
    "\n",
    "This notebook is the first in a series that demonstrates how to use GraphStorm's APIs to create users' own graph machine learning setup by leveraging GraphStorm's easy-to-use and great scalability features. All of these notebooks are designed to run on GraphStorm's Standalone mode, i.e., in a single Linux machine with GPUs or CPUs. \n",
    "\n",
    "In this notebook, we willl reproduce the GraphStorm RGCN model with the nessessary APIs and use it to conduct a node classification task on the ACM dataset. By playing with this notebook, users will be able to get familiar with these APIs.\n",
    "\n",
    "---\n",
    "\n",
    "## Prerequsites\n",
    "\n",
    "- GraphStorm installed using pip. Please find [more details on installation of GraphStorm](https://graphstorm.readthedocs.io/en/latest/install/env-setup.html#setup-graphstorm-with-pip-packages).\n",
    "- ACM data created in the [Notebook 0: Data Prepare](https://graphstorm.readthedocs.io/en/latest/notebooks/Notebook_0_Data_Prepare.html), and is stored in the `./acm_gs_1p/` folder."
   ]
  },
  {
   "cell_type": "code",
   "execution_count": 1,
   "metadata": {
    "tags": []
   },
   "outputs": [
    {
     "name": "stderr",
     "output_type": "stream",
     "text": [
      "/home/ec2-user/anaconda3/envs/gsf/lib/python3.9/site-packages/tqdm/auto.py:21: TqdmWarning: IProgress not found. Please update jupyter and ipywidgets. See https://ipywidgets.readthedocs.io/en/stable/user_install.html\n",
      "  from .autonotebook import tqdm as notebook_tqdm\n"
     ]
    }
   ],
   "source": [
    "# Import supporting libraries\n",
    "import os\n",
    "import matplotlib.pyplot as plt\n",
    "# Setup log lever\n",
    "import logging\n",
    "logging.basicConfig(level=20)\n",
    "\n",
    "# Import GraphStorm APIs\n",
    "import graphstorm as gs\n",
    "from graphstorm.trainer import GSgnnNodePredictionTrainer\n",
    "from graphstorm.dataloading import GSgnnNodeTrainData, GSgnnNodeDataLoader, GSgnnNodeInferData\n",
    "from graphstorm.model import GSgnnNodeModel, GSNodeEncoderInputLayer, EntityClassifier, ClassifyLossFunc, RelationalGCNEncoder\n",
    "from graphstorm.inference import GSgnnNodePredictionInferrer\n",
    "from graphstorm.eval import GSgnnAccEvaluator\n",
    "from graphstorm.tracker import GSSageMakerTaskTracker"
   ]
  },
  {
   "cell_type": "markdown",
   "metadata": {},
   "source": [
    "## Initialize the GraphStorm Standalone Environment"
   ]
  },
  {
   "cell_type": "code",
   "execution_count": 2,
   "metadata": {
    "tags": []
   },
   "outputs": [],
   "source": [
    "gs.initialize(ip_config=None, backend='gloo')\n",
    "device = gs.utils.setup_device(0)"
   ]
  },
  {
   "cell_type": "markdown",
   "metadata": {},
   "source": [
    "## Setup Graph Data Information\n",
    "\n",
    "First, let's setup the information of the ACM graph data for GraphStorm model training and inference.\n",
    "\n",
    "<div class=\"alert alert-block alert-success\">\n",
    "<b>Tip:</b> You can run the <a url=\"https://graphstorm.readthedocs.io/en/latest/notebooks/Notebook_0_Data_Prepare.html\">Notebook 0: Data Prepare</a> to create the ACM graph data. If you change the output path, please set the corresponding path in the following cells.</div>"
   ]
  },
  {
   "cell_type": "code",
   "execution_count": 3,
   "metadata": {
    "tags": []
   },
   "outputs": [],
   "source": [
    "acm_graph_config = './acm_gs_1p/acm.json'\n",
    "graph_name = 'acm'"
   ]
  },
  {
   "cell_type": "markdown",
   "metadata": {},
   "source": [
    "## Setup GraphStorm Dataset and DataLoaders"
   ]
  },
  {
   "cell_type": "code",
   "execution_count": 4,
   "metadata": {
    "tags": []
   },
   "outputs": [
    {
     "name": "stderr",
     "output_type": "stream",
     "text": [
      "INFO:root:part 0, train: 9999, val: 1249, test: 1249\n"
     ]
    }
   ],
   "source": [
    "# load the ACM graph data \n",
    "train_data = GSgnnNodeTrainData(graph_name=graph_name,\n",
    "                                part_config=acm_graph_config,\n",
    "                                train_ntypes='paper',\n",
    "                                eval_ntypes='paper',\n",
    "                                node_feat_field={'author':['feat'], 'paper':['feat'],'subject':['feat']},\n",
    "                                label_field='label')"
   ]
  },
  {
   "cell_type": "code",
   "execution_count": 6,
   "metadata": {
    "tags": []
   },
   "outputs": [],
   "source": [
    "# setup data loaders\n",
    "train_dataloader = GSgnnNodeDataLoader(train_data, train_data.train_idxs, fanout=[5,5], batch_size=64, device=device, train_task=True)\n",
    "val_dataloader = GSgnnNodeDataLoader(train_data, train_data.val_idxs, fanout=[5,5], batch_size=256, device=device, train_task=False)\n",
    "test_dataloader = GSgnnNodeDataLoader(train_data, train_data.test_idxs, fanout=[5,5], batch_size=256, device=device, train_task=False)"
   ]
  },
  {
   "cell_type": "markdown",
   "metadata": {},
   "source": [
    "## Reproduce the GraphStorm RGCN Model for Node Classification \n",
    "\n",
    "Next, we use a set of GraphStorm APIs to reproduce the built-in RGCN model.\n",
    "\n",
    "A GraphStorm model should contain the following components: \n",
    "- Input encoder for nodes (and optionally edges): process and project input features and embeddings into a certain dimension\n",
    "- GNN encoder: performs message-passing on projected node/edge inputs\n",
    "- Decoder: specific for tasks on the graph\n",
    "\n",
    "We can see the following codes set up a `GSgnnNodeModel` model composed of `GSNodeEncoderInputLayer`, `RelationalGCNEncoder`, `EntityClassifier` step-by-step. One can also replace individual components/layers with a custom model for development purpose."
   ]
  },
  {
   "cell_type": "code",
   "execution_count": 7,
   "metadata": {
    "tags": []
   },
   "outputs": [],
   "source": [
    "# create a GraphStorm model\n",
    "model = GSgnnNodeModel(alpha_l2norm=0.)\n",
    "\n",
    "# set an input layer encoder\n",
    "encoder = GSNodeEncoderInputLayer(g=train_data.g, feat_size={'author':256, 'paper':256, 'subject':256}, embed_size=64)\n",
    "model.set_node_input_encoder(encoder)\n",
    "\n",
    "# set a GNN encoder\n",
    "gnn_encoder = RelationalGCNEncoder(g=train_data.g, h_dim=64, out_dim=64, num_hidden_layers=2)\n",
    "model.set_gnn_encoder(gnn_encoder)\n",
    "\n",
    "# set a decoder specific to node-classification task\n",
    "decoder = EntityClassifier(in_dim=64, num_classes=14,multilabel=False)\n",
    "model.set_decoder(decoder)\n",
    "\n",
    "# classification loss function\n",
    "model.set_loss_func(ClassifyLossFunc(multilabel=False))\n",
    "\n",
    "# initialize model's optimizer\n",
    "model.init_optimizer(lr=0.001, sparse_optimizer_lr=0.01,weight_decay=0)\n",
    "\n",
    "# model"
   ]
  },
  {
   "cell_type": "markdown",
   "metadata": {},
   "source": [
    "## Setup GraphStorm Training Pipeline\n",
    "\n",
    "GraphStorm uses its Trainers to train the RGCN model. It handles:\n",
    "1. model training/evaluation loops\n",
    "2. saving and restoring model checkpoints\n",
    "3. early-stopping"
   ]
  },
  {
   "cell_type": "code",
   "execution_count": 9,
   "metadata": {
    "tags": []
   },
   "outputs": [],
   "source": [
    "# create a trainer for the RGCN model\n",
    "trainer = GSgnnNodePredictionTrainer(model)\n",
    "\n",
    "# setup device for the trainer\n",
    "trainer.setup_device(device=device)\n",
    "\n",
    "# setup evaluator for the trainer:\n",
    "evaluator = GSgnnAccEvaluator(eval_frequency=20, eval_metric=['accuracy'], multilabel=False)\n",
    "\n",
    "# setup a task tracker to output running information\n",
    "task_tracker = GSSageMakerTaskTracker(log_report_frequency=40)\n",
    "evaluator.setup_task_tracker(task_tracker)\n",
    "\n",
    "trainer.setup_evaluator(evaluator)"
   ]
  },
  {
   "cell_type": "code",
   "execution_count": 10,
   "metadata": {
    "tags": []
   },
   "outputs": [
    {
     "name": "stderr",
     "output_type": "stream",
     "text": [
      "/home/ec2-user/anaconda3/envs/gsf/lib/python3.9/site-packages/dgl/backend/pytorch/tensor.py:445: UserWarning: TypedStorage is deprecated. It will be removed in the future and UntypedStorage will be the only storage class. This should only matter to you if you are using storages directly.  To access UntypedStorage directly, use tensor.untyped_storage() instead of tensor.storage()\n",
      "  assert input.numel() == input.storage().size(), (\n",
      "INFO:root:Part 0 | Epoch 00000 | Batch 000 | Loss: 2.6524 | Time: 0.0458\n",
      "INFO:root:Part 0 | Epoch 00000 | Batch 020 | Loss: 2.2238 | Time: 0.0309\n",
      "INFO:root:Part 0 | Epoch 00000 | Batch 040 | Loss: 1.7401 | Time: 0.0323\n",
      "INFO:root:Part 0 | Epoch 00000 | Batch 060 | Loss: 1.4659 | Time: 0.0318\n",
      "INFO:root:Part 0 | Epoch 00000 | Batch 080 | Loss: 1.3840 | Time: 0.0276\n",
      "INFO:root:Part 0 | Epoch 00000 | Batch 100 | Loss: 1.3826 | Time: 0.0310\n",
      "INFO:root:Part 0 | Epoch 00000 | Batch 120 | Loss: 1.5390 | Time: 0.0311\n",
      "INFO:root:Part 0 | Epoch 00000 | Batch 140 | Loss: 1.3045 | Time: 0.0314\n",
      "INFO:root:Epoch 0 take 6.795 seconds\n",
      "INFO:root:successfully save the model to nc_model/epoch-0\n",
      "INFO:root:Time on save model: 0.002 seconds\n",
      "INFO:root:Part 0 | Epoch 00001 | Batch 000 | Loss: 1.2371 | Time: 0.0229\n",
      "INFO:root:Part 0 | Epoch 00001 | Batch 020 | Loss: 1.3660 | Time: 0.0262\n",
      "INFO:root:Part 0 | Epoch 00001 | Batch 040 | Loss: 1.4242 | Time: 0.0302\n",
      "INFO:root:Part 0 | Epoch 00001 | Batch 060 | Loss: 1.2620 | Time: 0.0309\n",
      "INFO:root:Part 0 | Epoch 00001 | Batch 080 | Loss: 1.0860 | Time: 0.0324\n",
      "INFO:root:Part 0 | Epoch 00001 | Batch 100 | Loss: 1.3223 | Time: 0.0319\n",
      "INFO:root:Part 0 | Epoch 00001 | Batch 120 | Loss: 1.2055 | Time: 0.0331\n",
      "INFO:root:Part 0 | Epoch 00001 | Batch 140 | Loss: 1.1692 | Time: 0.0343\n",
      "INFO:root:Epoch 1 take 6.889 seconds\n",
      "INFO:root:successfully save the model to nc_model/epoch-1\n",
      "INFO:root:Time on save model: 0.002 seconds\n",
      "INFO:root:Part 0 | Epoch 00002 | Batch 000 | Loss: 1.2704 | Time: 0.0232\n",
      "INFO:root:Part 0 | Epoch 00002 | Batch 020 | Loss: 1.3879 | Time: 0.0280\n",
      "INFO:root:Part 0 | Epoch 00002 | Batch 040 | Loss: 1.1942 | Time: 0.0331\n",
      "INFO:root:Part 0 | Epoch 00002 | Batch 060 | Loss: 1.2042 | Time: 0.0312\n",
      "INFO:root:Part 0 | Epoch 00002 | Batch 080 | Loss: 1.2570 | Time: 0.0317\n",
      "INFO:root:Part 0 | Epoch 00002 | Batch 100 | Loss: 1.2588 | Time: 0.0313\n",
      "INFO:root:Part 0 | Epoch 00002 | Batch 120 | Loss: 1.1553 | Time: 0.0313\n",
      "INFO:root:Part 0 | Epoch 00002 | Batch 140 | Loss: 1.1727 | Time: 0.0320\n",
      "INFO:root:Epoch 2 take 6.845 seconds\n",
      "INFO:root:successfully save the model to nc_model/epoch-2\n",
      "INFO:root:Time on save model: 0.002 seconds\n",
      "INFO:root:Part 0 | Epoch 00003 | Batch 000 | Loss: 1.2816 | Time: 0.0239\n",
      "INFO:root:Part 0 | Epoch 00003 | Batch 020 | Loss: 1.0375 | Time: 0.0270\n",
      "INFO:root:Part 0 | Epoch 00003 | Batch 040 | Loss: 1.2858 | Time: 0.0343\n",
      "INFO:root:Part 0 | Epoch 00003 | Batch 060 | Loss: 1.1574 | Time: 0.0308\n",
      "INFO:root:Part 0 | Epoch 00003 | Batch 080 | Loss: 1.0706 | Time: 0.0308\n",
      "INFO:root:Part 0 | Epoch 00003 | Batch 100 | Loss: 1.0984 | Time: 0.0326\n",
      "INFO:root:Part 0 | Epoch 00003 | Batch 120 | Loss: 1.1097 | Time: 0.0338\n",
      "INFO:root:Part 0 | Epoch 00003 | Batch 140 | Loss: 1.3750 | Time: 0.0338\n",
      "INFO:root:Epoch 3 take 7.044 seconds\n",
      "INFO:root:successfully save the model to nc_model/epoch-3\n",
      "INFO:root:Time on save model: 0.002 seconds\n",
      "INFO:root:Part 0 | Epoch 00004 | Batch 000 | Loss: 1.2153 | Time: 0.0318\n",
      "INFO:root:Part 0 | Epoch 00004 | Batch 020 | Loss: 0.9440 | Time: 0.0259\n",
      "INFO:root:Part 0 | Epoch 00004 | Batch 040 | Loss: 1.0601 | Time: 0.0334\n",
      "INFO:root:Part 0 | Epoch 00004 | Batch 060 | Loss: 1.0916 | Time: 0.0327\n",
      "INFO:root:Part 0 | Epoch 00004 | Batch 080 | Loss: 1.0559 | Time: 0.0332\n",
      "INFO:root:Part 0 | Epoch 00004 | Batch 100 | Loss: 1.0743 | Time: 0.0317\n",
      "INFO:root:Part 0 | Epoch 00004 | Batch 120 | Loss: 1.0866 | Time: 0.0305\n",
      "INFO:root:Part 0 | Epoch 00004 | Batch 140 | Loss: 0.9556 | Time: 0.0309\n",
      "INFO:root:Epoch 4 take 7.006 seconds\n",
      "INFO:root:Part 0 | Epoch 00005 | Batch 000 | Loss: 0.8807 | Time: 0.0263\n",
      "INFO:root:Part 0 | Epoch 00005 | Batch 020 | Loss: 0.9445 | Time: 0.0324\n",
      "INFO:root:Part 0 | Epoch 00005 | Batch 040 | Loss: 0.9371 | Time: 0.0326\n",
      "INFO:root:Part 0 | Epoch 00005 | Batch 060 | Loss: 1.1493 | Time: 0.0330\n",
      "INFO:root:Part 0 | Epoch 00005 | Batch 080 | Loss: 1.0415 | Time: 0.0318\n",
      "INFO:root:Part 0 | Epoch 00005 | Batch 100 | Loss: 1.1455 | Time: 0.0330\n",
      "INFO:root:Part 0 | Epoch 00005 | Batch 120 | Loss: 1.1166 | Time: 0.0321\n",
      "INFO:root:Part 0 | Epoch 00005 | Batch 140 | Loss: 1.2130 | Time: 0.0261\n",
      "INFO:root:Epoch 5 take 6.967 seconds\n",
      "INFO:root:Part 0 | Epoch 00006 | Batch 000 | Loss: 0.8902 | Time: 0.0263\n",
      "INFO:root:Part 0 | Epoch 00006 | Batch 020 | Loss: 0.9944 | Time: 0.0335\n",
      "INFO:root:Part 0 | Epoch 00006 | Batch 040 | Loss: 0.8099 | Time: 0.0320\n",
      "INFO:root:Part 0 | Epoch 00006 | Batch 060 | Loss: 0.9422 | Time: 0.0329\n",
      "INFO:root:Part 0 | Epoch 00006 | Batch 080 | Loss: 1.0123 | Time: 0.0321\n",
      "INFO:root:Part 0 | Epoch 00006 | Batch 100 | Loss: 1.0539 | Time: 0.0327\n",
      "INFO:root:Part 0 | Epoch 00006 | Batch 120 | Loss: 1.0188 | Time: 0.0271\n",
      "INFO:root:Part 0 | Epoch 00006 | Batch 140 | Loss: 1.1786 | Time: 0.0322\n",
      "INFO:root:Epoch 6 take 6.799 seconds\n",
      "INFO:root:successfully save the model to nc_model/epoch-6\n",
      "INFO:root:Time on save model: 0.002 seconds\n",
      "INFO:root:Part 0 | Epoch 00007 | Batch 000 | Loss: 0.8251 | Time: 0.0296\n",
      "INFO:root:Part 0 | Epoch 00007 | Batch 020 | Loss: 0.8027 | Time: 0.0308\n",
      "INFO:root:Part 0 | Epoch 00007 | Batch 040 | Loss: 0.7281 | Time: 0.0336\n",
      "INFO:root:Part 0 | Epoch 00007 | Batch 060 | Loss: 0.9476 | Time: 0.0298\n",
      "INFO:root:Part 0 | Epoch 00007 | Batch 080 | Loss: 1.0096 | Time: 0.0324\n",
      "INFO:root:Part 0 | Epoch 00007 | Batch 100 | Loss: 0.9226 | Time: 0.0270\n",
      "INFO:root:Part 0 | Epoch 00007 | Batch 120 | Loss: 0.8062 | Time: 0.0329\n",
      "INFO:root:Part 0 | Epoch 00007 | Batch 140 | Loss: 0.7068 | Time: 0.0310\n",
      "INFO:root:Epoch 7 take 6.991 seconds\n",
      "INFO:root:successfully save the model to nc_model/epoch-7\n",
      "INFO:root:Time on save model: 0.002 seconds\n",
      "INFO:root:Part 0 | Epoch 00008 | Batch 000 | Loss: 0.8715 | Time: 0.0274\n",
      "INFO:root:Part 0 | Epoch 00008 | Batch 020 | Loss: 0.8915 | Time: 0.0322\n",
      "INFO:root:Part 0 | Epoch 00008 | Batch 040 | Loss: 0.8030 | Time: 0.0286\n",
      "INFO:root:Part 0 | Epoch 00008 | Batch 060 | Loss: 0.7522 | Time: 0.0312\n",
      "INFO:root:Part 0 | Epoch 00008 | Batch 080 | Loss: 1.0391 | Time: 0.0314\n",
      "INFO:root:Part 0 | Epoch 00008 | Batch 100 | Loss: 0.7596 | Time: 0.0325\n",
      "INFO:root:Part 0 | Epoch 00008 | Batch 120 | Loss: 1.0848 | Time: 0.0313\n",
      "INFO:root:Part 0 | Epoch 00008 | Batch 140 | Loss: 0.8698 | Time: 0.0253\n",
      "INFO:root:Epoch 8 take 6.995 seconds\n",
      "INFO:root:Part 0 | Epoch 00009 | Batch 000 | Loss: 0.5978 | Time: 0.0261\n",
      "INFO:root:Part 0 | Epoch 00009 | Batch 020 | Loss: 0.7544 | Time: 0.0315\n",
      "INFO:root:Part 0 | Epoch 00009 | Batch 040 | Loss: 0.9029 | Time: 0.0325\n",
      "INFO:root:Part 0 | Epoch 00009 | Batch 060 | Loss: 0.7917 | Time: 0.0318\n",
      "INFO:root:Part 0 | Epoch 00009 | Batch 080 | Loss: 0.7852 | Time: 0.0323\n",
      "INFO:root:Part 0 | Epoch 00009 | Batch 100 | Loss: 0.7629 | Time: 0.0308\n",
      "INFO:root:Part 0 | Epoch 00009 | Batch 120 | Loss: 0.7173 | Time: 0.0322\n",
      "INFO:root:Part 0 | Epoch 00009 | Batch 140 | Loss: 0.6636 | Time: 0.0344\n",
      "INFO:root:Epoch 9 take 6.962 seconds\n",
      "INFO:root:Peak RAM Mem alloc: 549.3398 MB\n"
     ]
    }
   ],
   "source": [
    "# Train the model with the trainer using fit() function\n",
    "trainer.fit(train_loader=train_dataloader,\n",
    "            val_loader=val_dataloader,\n",
    "            test_loader=test_dataloader,\n",
    "            num_epochs=2,\n",
    "            save_model_path='nc_model/')"
   ]
  },
  {
   "cell_type": "markdown",
   "metadata": {},
   "source": [
    "## Visualize Model Performance History\n",
    "\n",
    "Next, we examine the model performance over the training process"
   ]
  },
  {
   "cell_type": "code",
   "execution_count": 13,
   "metadata": {
    "tags": []
   },
   "outputs": [
    {
     "data": {
      "text/plain": [
       "<matplotlib.legend.Legend at 0x7f958e1e1640>"
      ]
     },
     "execution_count": 13,
     "metadata": {},
     "output_type": "execute_result"
    },
    {
     "data": {
      "image/png": "[encoded data removed]",
      "text/plain": [
       "<Figure size 640x480 with 1 Axes>"
      ]
     },
     "metadata": {},
     "output_type": "display_data"
    }
   ],
   "source": [
    "# Extract evaluation history of metrics from the trainer's evaluator:\n",
    "val_accs, test_accs = [], []\n",
    "for val_acc, test_acc in trainer.evaluator.history:\n",
    "    val_accs.append(val_acc['accuracy'])\n",
    "    test_accs.append(test_acc['accuracy'])\n",
    "\n",
    "# plot the learning curves\n",
    "fig, ax = plt.subplots()\n",
    "ax.plot(val_accs, label='val')\n",
    "ax.plot(test_accs, label='test')\n",
    "ax.set(xlabel='Epoch', ylabel='Accuracy')\n",
    "ax.legend(loc='best')"
   ]
  },
  {
   "cell_type": "markdown",
   "metadata": {},
   "source": [
    "## Inference with the Trained Model\n",
    "\n",
    "GraphStorm automatically save the best performaned model in the given `save_model_path` argument. We can first find out what is the best model and its path."
   ]
  },
  {
   "cell_type": "code",
   "execution_count": 14,
   "metadata": {
    "tags": []
   },
   "outputs": [
    {
     "name": "stdout",
     "output_type": "stream",
     "text": [
      "Best model path: nc_model/epoch-7\n"
     ]
    }
   ],
   "source": [
    "# after training, the best model is saved to disk:\n",
    "best_model_path = trainer.get_best_model_path()\n",
    "print('Best model path:', best_model_path)"
   ]
  },
  {
   "cell_type": "code",
   "execution_count": 15,
   "metadata": {},
   "outputs": [
    {
     "name": "stdout",
     "output_type": "stream",
     "text": [
      "total 1616\n",
      " 540 -rw-rw-r-- 1 ec2-user ec2-user  551053 Jan 25 07:47 model.bin\n",
      "1076 -rw-rw-r-- 1 ec2-user ec2-user 1101026 Jan 25 07:47 optimizers.bin\n"
     ]
    }
   ],
   "source": [
    "# check the saved model artifacts\n",
    "!ls -ls {best_model_path}"
   ]
  },
  {
   "cell_type": "code",
   "execution_count": 16,
   "metadata": {},
   "outputs": [
    {
     "name": "stderr",
     "output_type": "stream",
     "text": [
      "INFO:root:successfully load the model from nc_model/epoch-7\n",
      "INFO:root:Time on load model: 0.007 seconds\n"
     ]
    }
   ],
   "source": [
    "# we can restore the model from the saved path:\n",
    "model.restore_model(best_model_path)"
   ]
  },
  {
   "cell_type": "code",
   "execution_count": 27,
   "metadata": {},
   "outputs": [],
   "source": [
    "# Create a dataset for inference, we use the same MovieLens graph\n",
    "infer_data = GSgnnNodeInferData(graph_name=graph_name,\n",
    "                                part_config=acm_graph_config,\n",
    "                                eval_ntypes='paper',\n",
    "                                node_feat_field={'author':['feat'], 'paper':['feat'],'subject':['feat']},\n",
    "                                label_field='label')\n",
    "\n",
    "# Set up dataloader for the inference dataset\n",
    "infer_dataloader = GSgnnNodeDataLoader(infer_data, infer_data.test_idxs, fanout=fanout, batch_size=100, device=device, train_task=False)\n",
    "\n",
    "# Create an Inferrer object\n",
    "infer = GSgnnNodePredictionInferrer(model)"
   ]
  },
  {
   "cell_type": "code",
   "execution_count": 20,
   "metadata": {},
   "outputs": [
    {
     "name": "stderr",
     "output_type": "stream",
     "text": [
      "INFO:root:save embeddings pf paper to infer/embeddings\n",
      "INFO:root:Writing GNN embeddings to infer/embeddings in pytorch format.\n"
     ]
    }
   ],
   "source": [
    "# Run inference on the inference dataset\n",
    "infer.infer(infer_dataloader,\n",
    "            save_embed_path='infer/embeddings',\n",
    "            save_prediction_path='infer/predictions',\n",
    "            use_mini_batch_infer=True)"
   ]
  },
  {
   "cell_type": "code",
   "execution_count": 25,
   "metadata": {},
   "outputs": [
    {
     "name": "stdout",
     "output_type": "stream",
     "text": [
      "total 328K\n",
      "-rw-rw-r-- 1 ec2-user ec2-user 314K Jan 25 18:03 embed-00000.pt\n",
      "-rw-rw-r-- 1 ec2-user ec2-user  11K Jan 25 18:03 embed_nids-00000.pt\n"
     ]
    }
   ],
   "source": [
    "# The GNN embeddings and predictions on the inference graph are saved to the folder named after the target_ntype\n",
    "!ls -lh infer/embeddings/paper"
   ]
  },
  {
   "cell_type": "code",
   "execution_count": 26,
   "metadata": {},
   "outputs": [
    {
     "name": "stdout",
     "output_type": "stream",
     "text": [
      "total 84K\n",
      "-rw-rw-r-- 1 ec2-user ec2-user 70K Jan 25 18:03 predict-00000.pt\n",
      "-rw-rw-r-- 1 ec2-user ec2-user 11K Jan 25 18:03 predict_nids-00000.pt\n"
     ]
    }
   ],
   "source": [
    "!ls -lh infer/predictions/paper"
   ]
  },
  {
   "cell_type": "code",
   "execution_count": null,
   "metadata": {},
   "outputs": [],
   "source": []
  }
 ],
 "metadata": {
  "kernelspec": {
   "display_name": "gsf",
   "language": "python",
   "name": "gsf"
  },
  "language_info": {
   "codemirror_mode": {
    "name": "ipython",
    "version": 3
   },
   "file_extension": ".py",
   "mimetype": "text/x-python",
   "name": "python",
   "nbconvert_exporter": "python",
   "pygments_lexer": "ipython3",
   "version": "3.9.18"
  }
 },
 "nbformat": 4,
 "nbformat_minor": 4
}
