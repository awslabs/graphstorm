{
 "cells": [
  {
   "cell_type": "markdown",
   "metadata": {},
   "source": [
    "# Notebook 1: Reproduce RGCN Model with APIs\n",
    "\n",
    "This notebook is the first in a series that demonstrates how to use GraphStorm's APIs to create users' own graph machine learning setup by leveraging GraphStorm's easy-to-use and great scalability features. All of these notebooks are designed to run on GraphStorm's Standalone mode, i.e., in a single Linux machine with GPUs or CPUs. \n",
    "\n",
    "In this notebook, we willl reproduce the GraphStorm RGCN model with the nessessary APIs and use it to conduct a node classification task on the ACM dataset. By playing with this notebook, users will be able to get familiar with these APIs.\n",
    "\n",
    "## Prerequsites\n",
    "\n",
    "- GraphStorm installed using pip. Please find [more details on installation of GraphStorm](https://graphstorm.readthedocs.io/en/latest/install/env-setup.html#setup-graphstorm-with-pip-packages).\n",
    "- ACM data created in the [Notebook 0: Data Prepare](https://graphstorm.readthedocs.io/en/latest/notebooks/Notebook_0_Data_Prepare.html), and is stored in the `./acm_gs_1p/` folder.\n",
    "\n",
    "---\n"
   ]
  },
  {
   "cell_type": "code",
   "execution_count": 1,
   "metadata": {
    "tags": []
   },
   "outputs": [],
   "source": [
    "# Import supporting libraries\n",
    "import os\n",
    "import matplotlib.pyplot as plt\n",
    "# Setup log lever\n",
    "import logging\n",
    "logging.basicConfig(level=20)\n",
    "\n",
    "# Import GraphStorm APIs\n",
    "import graphstorm as gs\n",
    "from graphstorm.trainer import GSgnnNodePredictionTrainer\n",
    "from graphstorm.dataloading import GSgnnNodeTrainData, GSgnnNodeDataLoader, GSgnnNodeInferData\n",
    "from graphstorm.model import GSgnnNodeModel, GSNodeEncoderInputLayer, EntityClassifier, ClassifyLossFunc, RelationalGCNEncoder\n",
    "from graphstorm.inference import GSgnnNodePredictionInferrer\n",
    "from graphstorm.eval import GSgnnAccEvaluator\n",
    "from graphstorm.tracker import GSSageMakerTaskTracker"
   ]
  },
  {
   "cell_type": "markdown",
   "metadata": {},
   "source": [
    "## Initialize the GraphStorm Standalone Environment"
   ]
  },
  {
   "cell_type": "code",
   "execution_count": 2,
   "metadata": {
    "tags": []
   },
   "outputs": [],
   "source": [
    "gs.initialize(ip_config=None, backend='gloo')\n",
    "device = gs.utils.setup_device(0)"
   ]
  },
  {
   "cell_type": "markdown",
   "metadata": {},
   "source": [
    "## Setup Graph Data Information\n",
    "\n",
    "First, let's setup the information of the ACM graph data for GraphStorm model training and inference."
   ]
  },
  {
   "cell_type": "code",
   "execution_count": 3,
   "metadata": {
    "tags": []
   },
   "outputs": [],
   "source": [
    "acm_graph_config = './acm_gs_1p/acm.json'\n",
    "graph_name = 'acm'"
   ]
  },
  {
   "cell_type": "markdown",
   "metadata": {},
   "source": [
    "## Setup GraphStorm Dataset and DataLoaders"
   ]
  },
  {
   "cell_type": "code",
   "execution_count": 6,
   "metadata": {
    "tags": []
   },
   "outputs": [
    {
     "name": "stderr",
     "output_type": "stream",
     "text": [
      "INFO:root:part 0, train: 9999, val: 1249, test: 1249\n"
     ]
    }
   ],
   "source": [
    "# load the ACM graph data \n",
    "acm_data = GSgnnNodeTrainData(graph_name=graph_name,\n",
    "                                part_config=acm_graph_config,\n",
    "                                train_ntypes='paper',\n",
    "                                eval_ntypes='paper',\n",
    "                                node_feat_field={'author':['feat'], 'paper':['feat'],'subject':['feat']},\n",
    "                                label_field='label')"
   ]
  },
  {
   "cell_type": "code",
   "execution_count": 7,
   "metadata": {
    "tags": []
   },
   "outputs": [],
   "source": [
    "# setup data loaders\n",
    "train_dataloader = GSgnnNodeDataLoader(dataset=train_data,\n",
    "                                       target_idx=train_data.train_idxs,\n",
    "                                       fanout=[5,5],\n",
    "                                       batch_size=64,\n",
    "                                       device=device,\n",
    "                                       train_task=True)\n",
    "val_dataloader = GSgnnNodeDataLoader(dataset=acm_data,\n",
    "                                     target_idx=train_data.val_idxs,\n",
    "                                     fanout=[5,5],\n",
    "                                     batch_size=256,\n",
    "                                     device=device,\n",
    "                                     train_task=False)\n",
    "test_dataloader = GSgnnNodeDataLoader(dataset=acm_data,\n",
    "                                      target_idx=train_data.test_idxs,\n",
    "                                      fanout=[5,5],\n",
    "                                      batch_size=256,\n",
    "                                      device=device,\n",
    "                                      train_task=False)"
   ]
  },
  {
   "cell_type": "markdown",
   "metadata": {},
   "source": [
    "## Reproduce the GraphStorm RGCN Model for Node Classification \n",
    "\n",
    "Next, we use a set of GraphStorm APIs to reproduce the built-in RGCN model.\n",
    "\n",
    "A GraphStorm model should contain the following components: \n",
    "- Input encoder for nodes (and optionally edges): process and project input features and embeddings into a certain dimension\n",
    "- GNN encoder: performs message-passing on projected node/edge inputs\n",
    "- Decoder: specific for tasks on the graph\n",
    "\n",
    "We can see the following codes set up a `GSgnnNodeModel` model composed of `GSNodeEncoderInputLayer`, `RelationalGCNEncoder`, `EntityClassifier` step-by-step. One can also replace individual components/layers with a custom model for development purpose."
   ]
  },
  {
   "cell_type": "code",
   "execution_count": 8,
   "metadata": {
    "tags": []
   },
   "outputs": [],
   "source": [
    "# create a GraphStorm model\n",
    "model = GSgnnNodeModel(alpha_l2norm=0.)\n",
    "\n",
    "# set an input layer encoder\n",
    "encoder = GSNodeEncoderInputLayer(g=train_data.g, feat_size={'author':256, 'paper':256, 'subject':256}, embed_size=64)\n",
    "model.set_node_input_encoder(encoder)\n",
    "\n",
    "# set a GNN encoder\n",
    "gnn_encoder = RelationalGCNEncoder(g=train_data.g, h_dim=64, out_dim=64, num_hidden_layers=2)\n",
    "model.set_gnn_encoder(gnn_encoder)\n",
    "\n",
    "# set a decoder specific to node-classification task\n",
    "decoder = EntityClassifier(in_dim=64, num_classes=14,multilabel=False)\n",
    "model.set_decoder(decoder)\n",
    "\n",
    "# classification loss function\n",
    "model.set_loss_func(ClassifyLossFunc(multilabel=False))\n",
    "\n",
    "# initialize model's optimizer\n",
    "model.init_optimizer(lr=0.001, sparse_optimizer_lr=0.01,weight_decay=0)\n",
    "\n",
    "# model"
   ]
  },
  {
   "cell_type": "markdown",
   "metadata": {},
   "source": [
    "## Setup GraphStorm Training Pipeline\n",
    "\n",
    "GraphStorm uses its Trainers to train the RGCN model. It handles:\n",
    "1. model training/evaluation loops\n",
    "2. saving and restoring model checkpoints\n",
    "3. early-stopping"
   ]
  },
  {
   "cell_type": "code",
   "execution_count": 9,
   "metadata": {
    "tags": []
   },
   "outputs": [],
   "source": [
    "# create a trainer for the RGCN model\n",
    "trainer = GSgnnNodePredictionTrainer(model)\n",
    "\n",
    "# setup device for the trainer\n",
    "trainer.setup_device(device=device)\n",
    "\n",
    "# setup evaluator for the trainer:\n",
    "evaluator = GSgnnAccEvaluator(eval_frequency=20, eval_metric=['accuracy'], multilabel=False)\n",
    "\n",
    "# setup a task tracker to output running information\n",
    "task_tracker = GSSageMakerTaskTracker(log_report_frequency=40)\n",
    "evaluator.setup_task_tracker(task_tracker)\n",
    "\n",
    "trainer.setup_evaluator(evaluator)"
   ]
  },
  {
   "cell_type": "code",
   "execution_count": 10,
   "metadata": {
    "tags": []
   },
   "outputs": [
    {
     "name": "stderr",
     "output_type": "stream",
     "text": [
      "/home/ubuntu/anaconda3/envs/gsf/lib/python3.9/site-packages/dgl/backend/pytorch/tensor.py:445: UserWarning: TypedStorage is deprecated. It will be removed in the future and UntypedStorage will be the only storage class. This should only matter to you if you are using storages directly.  To access UntypedStorage directly, use tensor.untyped_storage() instead of tensor.storage()\n",
      "  assert input.numel() == input.storage().size(), (\n",
      "INFO:root:Part 0 | Epoch 00000 | Batch 000 | Loss: 2.6317 | Time: 0.0383\n",
      "INFO:root:Part 0 | Epoch 00000 | Batch 020 | Loss: 2.1064 | Time: 0.0245\n",
      "INFO:root:Part 0 | Epoch 00000 | Batch 040 | Loss: 1.7417 | Time: 0.0238\n",
      "INFO:root:Part 0 | Epoch 00000 | Batch 060 | Loss: 1.5945 | Time: 0.0234\n",
      "INFO:root:Part 0 | Epoch 00000 | Batch 080 | Loss: 1.4486 | Time: 0.0240\n",
      "INFO:root:Part 0 | Epoch 00000 | Batch 100 | Loss: 1.5101 | Time: 0.0253\n",
      "INFO:root:Part 0 | Epoch 00000 | Batch 120 | Loss: 1.7775 | Time: 0.0236\n",
      "INFO:root:Part 0 | Epoch 00000 | Batch 140 | Loss: 1.5535 | Time: 0.0241\n",
      "INFO:root:Epoch 0 take 5.603 seconds\n",
      "INFO:root:successfully save the model to nc_model/epoch-0\n",
      "INFO:root:Time on save model: 0.002 seconds\n",
      "INFO:root:Part 0 | Epoch 00001 | Batch 000 | Loss: 1.2821 | Time: 0.0248\n",
      "INFO:root:Part 0 | Epoch 00001 | Batch 020 | Loss: 1.2803 | Time: 0.0259\n",
      "INFO:root:Part 0 | Epoch 00001 | Batch 040 | Loss: 1.4045 | Time: 0.0237\n",
      "INFO:root:Part 0 | Epoch 00001 | Batch 060 | Loss: 1.3204 | Time: 0.0243\n",
      "INFO:root:Part 0 | Epoch 00001 | Batch 080 | Loss: 1.2575 | Time: 0.0259\n",
      "INFO:root:Part 0 | Epoch 00001 | Batch 100 | Loss: 1.2544 | Time: 0.0241\n",
      "INFO:root:Part 0 | Epoch 00001 | Batch 120 | Loss: 1.3746 | Time: 0.0234\n",
      "INFO:root:Part 0 | Epoch 00001 | Batch 140 | Loss: 1.3657 | Time: 0.0257\n",
      "INFO:root:Epoch 1 take 5.755 seconds\n",
      "INFO:root:Peak RAM Mem alloc: 647.9570 MB\n"
     ]
    }
   ],
   "source": [
    "# Train the model with the trainer using fit() function\n",
    "trainer.fit(train_loader=train_dataloader,\n",
    "            val_loader=val_dataloader,\n",
    "            test_loader=test_dataloader,\n",
    "            num_epochs=2,\n",
    "            save_model_path='nc_model/')"
   ]
  },
  {
   "cell_type": "markdown",
   "metadata": {},
   "source": [
    "## Visualize Model Performance History\n",
    "\n",
    "Next, we examine the model performance over the training process"
   ]
  },
  {
   "cell_type": "code",
   "execution_count": 11,
   "metadata": {
    "tags": []
   },
   "outputs": [
    {
     "data": {
      "text/plain": [
       "<matplotlib.legend.Legend at 0x7f621a97dbe0>"
      ]
     },
     "execution_count": 11,
     "metadata": {},
     "output_type": "execute_result"
    },
    {
     "data": {
      "image/png": "[encoded data removed]",
      "text/plain": [
       "<Figure size 640x480 with 1 Axes>"
      ]
     },
     "metadata": {},
     "output_type": "display_data"
    }
   ],
   "source": [
    "# Extract evaluation history of metrics from the trainer's evaluator:\n",
    "val_accs, test_accs = [], []\n",
    "for val_acc, test_acc in trainer.evaluator.history:\n",
    "    val_accs.append(val_acc['accuracy'])\n",
    "    test_accs.append(test_acc['accuracy'])\n",
    "\n",
    "# plot the learning curves\n",
    "fig, ax = plt.subplots()\n",
    "ax.plot(val_accs, label='val')\n",
    "ax.plot(test_accs, label='test')\n",
    "ax.set(xlabel='Epoch', ylabel='Accuracy')\n",
    "ax.legend(loc='best')"
   ]
  },
  {
   "cell_type": "markdown",
   "metadata": {},
   "source": [
    "## Inference with the Trained Model\n",
    "\n",
    "GraphStorm automatically save the best performaned model in the given `save_model_path` argument. We can first find out what is the best model and its path."
   ]
  },
  {
   "cell_type": "code",
   "execution_count": 12,
   "metadata": {
    "tags": []
   },
   "outputs": [
    {
     "name": "stdout",
     "output_type": "stream",
     "text": [
      "Best model path: nc_model/epoch-0\n"
     ]
    }
   ],
   "source": [
    "# after training, the best model is saved to disk:\n",
    "best_model_path = trainer.get_best_model_path()\n",
    "print('Best model path:', best_model_path)"
   ]
  },
  {
   "cell_type": "code",
   "execution_count": 13,
   "metadata": {},
   "outputs": [
    {
     "name": "stdout",
     "output_type": "stream",
     "text": [
      "total 1616\n",
      " 540 -rw-rw-r-- 1 ubuntu ubuntu  551053 Jan 26 06:18 model.bin\n",
      "1076 -rw-rw-r-- 1 ubuntu ubuntu 1101026 Jan 26 06:18 optimizers.bin\n"
     ]
    }
   ],
   "source": [
    "# check the saved model artifacts\n",
    "!ls -ls {best_model_path}"
   ]
  },
  {
   "cell_type": "code",
   "execution_count": 14,
   "metadata": {},
   "outputs": [
    {
     "name": "stderr",
     "output_type": "stream",
     "text": [
      "INFO:root:successfully load the model from nc_model/epoch-0\n",
      "INFO:root:Time on load model: 0.006 seconds\n"
     ]
    }
   ],
   "source": [
    "# we can restore the model from the saved path:\n",
    "model.restore_model(best_model_path)"
   ]
  },
  {
   "cell_type": "code",
   "execution_count": 16,
   "metadata": {},
   "outputs": [],
   "source": [
    "# Create a dataset for inference, we use the same MovieLens graph\n",
    "infer_data = GSgnnNodeInferData(graph_name=graph_name,\n",
    "                                part_config=acm_graph_config,\n",
    "                                eval_ntypes='paper',\n",
    "                                node_feat_field={'author':['feat'], 'paper':['feat'],'subject':['feat']},\n",
    "                                label_field='label')\n",
    "\n",
    "# Set up dataloader for the inference dataset\n",
    "infer_dataloader = GSgnnNodeDataLoader(infer_data, infer_data.test_idxs, fanout=[50,50], batch_size=100, device=device, train_task=False)\n",
    "\n",
    "# Create an Inferrer object\n",
    "infer = GSgnnNodePredictionInferrer(model)"
   ]
  },
  {
   "cell_type": "code",
   "execution_count": 17,
   "metadata": {},
   "outputs": [
    {
     "name": "stderr",
     "output_type": "stream",
     "text": [
      "INFO:root:save embeddings pf paper to infer/embeddings\n",
      "INFO:root:Writing GNN embeddings to infer/embeddings in pytorch format.\n"
     ]
    }
   ],
   "source": [
    "# Run inference on the inference dataset\n",
    "infer.infer(infer_dataloader,\n",
    "            save_embed_path='infer/embeddings',\n",
    "            save_prediction_path='infer/predictions',\n",
    "            use_mini_batch_infer=True)"
   ]
  },
  {
   "cell_type": "code",
   "execution_count": 18,
   "metadata": {},
   "outputs": [
    {
     "name": "stdout",
     "output_type": "stream",
     "text": [
      "total 328K\n",
      "-rw-rw-r-- 1 ubuntu ubuntu 314K Jan 26 06:19 embed-00000.pt\n",
      "-rw-rw-r-- 1 ubuntu ubuntu  11K Jan 26 06:19 embed_nids-00000.pt\n"
     ]
    }
   ],
   "source": [
    "# The GNN embeddings and predictions on the inference graph are saved to the folder named after the target_ntype\n",
    "!ls -lh infer/embeddings/paper"
   ]
  },
  {
   "cell_type": "code",
   "execution_count": 19,
   "metadata": {},
   "outputs": [
    {
     "name": "stdout",
     "output_type": "stream",
     "text": [
      "total 84K\n",
      "-rw-rw-r-- 1 ubuntu ubuntu 70K Jan 26 06:19 predict-00000.pt\n",
      "-rw-rw-r-- 1 ubuntu ubuntu 11K Jan 26 06:19 predict_nids-00000.pt\n"
     ]
    }
   ],
   "source": [
    "!ls -lh infer/predictions/paper"
   ]
  },
  {
   "cell_type": "code",
   "execution_count": null,
   "metadata": {},
   "outputs": [],
   "source": []
  }
 ],
 "metadata": {
  "kernelspec": {
   "display_name": "gsf",
   "language": "python",
   "name": "gsf"
  },
  "language_info": {
   "codemirror_mode": {
    "name": "ipython",
    "version": 3
   },
   "file_extension": ".py",
   "mimetype": "text/x-python",
   "name": "python",
   "nbconvert_exporter": "python",
   "pygments_lexer": "ipython3",
   "version": "3.9.18"
  }
 },
 "nbformat": 4,
 "nbformat_minor": 4
}
