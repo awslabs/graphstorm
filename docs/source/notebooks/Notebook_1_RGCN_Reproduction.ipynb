{
 "cells": [
  {
   "cell_type": "markdown",
   "metadata": {},
   "source": [
    "# Notebook 1: Reproduce RGCN Model with APIs\n",
    "\n",
    "This notebook is the first in a series that demonstrates how to use GraphStorm's APIs to create users' own graph machine learning setup by leveraging GraphStorm's easy-to-use and great scalability features. All of these notebooks are designed to run on GraphStorm's Standalone mode, i.e., in a single Linux machine with CPUs and GPUs. \n",
    "\n",
    "In this notebook, we willl reproduce the GraphStorm RGCN model with the nessessary APIs and use it to conduct a node classification task on the ACM dataset. By playing with this notebook, users will be able to get familiar with these APIs.\n",
    "\n",
    "### Prerequsites\n",
    "\n",
    "- GraphStorm installed using pip. Please find [more details on installation of GraphStorm](https://graphstorm.readthedocs.io/en/latest/install/env-setup.html#setup-graphstorm-with-pip-packages).\n",
    "- ACM data created in the [Notebook 0: Data Prepare](https://graphstorm.readthedocs.io/en/latest/notebooks/Notebook_0_Data_Prepare.html), and is stored in the `./acm_gs_1p/` folder.\n",
    "- Installation of supporting libraries, e.g., matplotlib."
   ]
  },
  {
   "cell_type": "markdown",
   "metadata": {},
   "source": [
    "### Import libraries"
   ]
  },
  {
   "cell_type": "code",
   "execution_count": 1,
   "metadata": {
    "tags": []
   },
   "outputs": [],
   "source": [
    "# Import supporting libraries\n",
    "import os\n",
    "import matplotlib.pyplot as plt\n",
    "\n",
    "# Setup log level\n",
    "import logging\n",
    "logging.basicConfig(level=20)\n",
    "\n",
    "# Import GraphStorm APIs\n",
    "import graphstorm as gs\n",
    "from graphstorm.trainer import GSgnnNodePredictionTrainer\n",
    "from graphstorm.dataloading import GSgnnNodeTrainData, GSgnnNodeDataLoader, GSgnnNodeInferData\n",
    "from graphstorm.model import (GSgnnNodeModel,\n",
    "                              GSNodeEncoderInputLayer,\n",
    "                              RelationalGCNEncoder,\n",
    "                              EntityClassifier,\n",
    "                              ClassifyLossFunc)\n",
    "from graphstorm.inference import GSgnnNodePredictionInferrer\n",
    "from graphstorm.eval import GSgnnAccEvaluator\n",
    "from graphstorm.tracker import GSSageMakerTaskTracker"
   ]
  },
  {
   "cell_type": "markdown",
   "metadata": {},
   "source": [
    "---\n",
    "\n",
    "### 0. Initialize the GraphStorm Standalone Environment"
   ]
  },
  {
   "cell_type": "code",
   "execution_count": 2,
   "metadata": {
    "tags": []
   },
   "outputs": [],
   "source": [
    "gs.initialize(ip_config=None, backend='gloo')\n",
    "device = gs.utils.setup_device(0)"
   ]
  },
  {
   "cell_type": "markdown",
   "metadata": {},
   "source": [
    "### 1. Setup Graph Data Information\n",
    "\n",
    "First, let's setup the information of the ACM graph data for GraphStorm model training and inference."
   ]
  },
  {
   "cell_type": "code",
   "execution_count": 3,
   "metadata": {
    "tags": []
   },
   "outputs": [],
   "source": [
    "acm_graph_config = './acm_gs_1p/acm.json'\n",
    "graph_name = 'acm'"
   ]
  },
  {
   "cell_type": "markdown",
   "metadata": {},
   "source": [
    "### 2. Setup GraphStorm Dataset and DataLoaders"
   ]
  },
  {
   "cell_type": "code",
   "execution_count": 4,
   "metadata": {
    "tags": []
   },
   "outputs": [
    {
     "name": "stderr",
     "output_type": "stream",
     "text": [
      "INFO:root:part 0, train: 9999, val: 1249, test: 1249\n"
     ]
    }
   ],
   "source": [
    "# create a GraphStorm Dataset for the ACM graph data \n",
    "train_data = GSgnnNodeTrainData(graph_name=graph_name,\n",
    "                              part_config=acm_graph_config,\n",
    "                              train_ntypes='paper',            # node type/s for training\n",
    "                              eval_ntypes='paper',             # node type/s for evaluation and testing\n",
    "                              node_feat_field={'author':['feat'], 'paper':['feat'],'subject':['feat']},     # ?What if multiple features, e.g., feat1, feat2?\n",
    "                              label_field='label')             # name of the label field, "
   ]
  },
  {
   "cell_type": "code",
   "execution_count": 5,
   "metadata": {
    "tags": []
   },
   "outputs": [],
   "source": [
    "# setup data loaders for training, validation, and test\n",
    "train_dataloader = GSgnnNodeDataLoader(dataset=train_data,\n",
    "                                       target_idx=train_data.train_idxs,\n",
    "                                       fanout=[5,5],\n",
    "                                       batch_size=64,\n",
    "                                       device=device,\n",
    "                                       train_task=True)\n",
    "val_dataloader = GSgnnNodeDataLoader(dataset=train_data,\n",
    "                                     target_idx=train_data.val_idxs,\n",
    "                                     fanout=[5,5],\n",
    "                                     batch_size=256,\n",
    "                                     device=device,\n",
    "                                     train_task=False)\n",
    "test_dataloader = GSgnnNodeDataLoader(dataset=train_data,\n",
    "                                      target_idx=train_data.test_idxs,\n",
    "                                      fanout=[5,5],\n",
    "                                      batch_size=256,\n",
    "                                      device=device,\n",
    "                                      train_task=False)"
   ]
  },
  {
   "cell_type": "markdown",
   "metadata": {},
   "source": [
    "### 3. Reproduce the GraphStorm RGCN Model for Node Classification \n",
    "\n",
    "Next, we use a set of GraphStorm APIs to reproduce the built-in RGCN model.\n",
    "\n",
    "A GraphStorm model should contain the following components: \n",
    "- Input encoder for nodes (and optionally edges): process and project input features and embeddings into a certain dimension;\n",
    "- GNN encoder: performs message-passing on projected node/edge inputs;\n",
    "- Decoder: specific for tasks on the graph.\n",
    "\n",
    "We can see the following codes set up a `GSgnnNodeModel` model composed of `GSNodeEncoderInputLayer`, `RelationalGCNEncoder`, `EntityClassifier` step-by-step. One can also replace individual components/layers with a custom model for development purpose."
   ]
  },
  {
   "cell_type": "code",
   "execution_count": 6,
   "metadata": {
    "tags": []
   },
   "outputs": [],
   "source": [
    "# create a GraphStorm model for node tasks\n",
    "model = GSgnnNodeModel(alpha_l2norm=0.)\n",
    "\n",
    "# set an input layer encoder\n",
    "encoder = GSNodeEncoderInputLayer(g=train_data.g,\n",
    "                                  feat_size={'author':256, 'paper':256, 'subject':256}, # ?What if multiple features, e.g., feat1, feat2?\n",
    "                                  embed_size=64)\n",
    "model.set_node_input_encoder(encoder)\n",
    "\n",
    "# set a GNN encoder\n",
    "gnn_encoder = RelationalGCNEncoder(g=train_data.g,\n",
    "                                   h_dim=64,\n",
    "                                   out_dim=128,\n",
    "                                   num_hidden_layers=1)    # MUST be len(fanout)-1 !!\n",
    "model.set_gnn_encoder(gnn_encoder)\n",
    "\n",
    "# set a decoder specific to node-classification task\n",
    "decoder = EntityClassifier(in_dim=128,\n",
    "                           num_classes=14,\n",
    "                           multilabel=False)\n",
    "model.set_decoder(decoder)\n",
    "\n",
    "# classification loss function\n",
    "model.set_loss_func(ClassifyLossFunc(multilabel=False))\n",
    "\n",
    "# initialize model's optimizer\n",
    "model.init_optimizer(lr=0.001,\n",
    "                     sparse_optimizer_lr=0.01,\n",
    "                     weight_decay=0)\n",
    "\n",
    "# (Optional) uncomment to display the model architecture\n",
    "# model"
   ]
  },
  {
   "cell_type": "markdown",
   "metadata": {},
   "source": [
    "### 4. Setup GraphStorm Training Pipeline\n",
    "\n",
    "GraphStorm uses its Trainers to train the RGCN model. It handles:\n",
    "1. model training/evaluation loops\n",
    "2. saving and recording best performed models \n",
    "3. early-stopping"
   ]
  },
  {
   "cell_type": "code",
   "execution_count": 14,
   "metadata": {
    "tags": []
   },
   "outputs": [],
   "source": [
    "# create a GraphStorm node task trainer for the RGCN model\n",
    "trainer = GSgnnNodePredictionTrainer(model)\n",
    "\n",
    "# setup device for the trainer\n",
    "trainer.setup_device(device=device)\n",
    "\n",
    "# setup evaluator for the trainer:\n",
    "evaluator = GSgnnAccEvaluator(eval_frequency=20,\n",
    "                              eval_metric=['roc_auc', 'precision_recall'],\n",
    "                              multilabel=False)\n",
    "\n",
    "# setup a task tracker to output running information\n",
    "task_tracker = GSSageMakerTaskTracker(log_report_frequency=40)\n",
    "evaluator.setup_task_tracker(task_tracker)\n",
    "\n",
    "trainer.setup_evaluator(evaluator)"
   ]
  },
  {
   "cell_type": "code",
   "execution_count": 15,
   "metadata": {
    "scrolled": true,
    "tags": []
   },
   "outputs": [
    {
     "name": "stderr",
     "output_type": "stream",
     "text": [
      "INFO:root:Part 0 | Epoch 00000 | Batch 000 | Loss: 1.2975 | Time: 0.0262\n",
      "WARNING:root:{'roc_auc', 'precision_recall'} requires return_proba==True.                 Set return_proba to True.\n",
      "ERROR:root:Failure found during evaluation of the auc metric returning -1: Number of classes in y_true not equal to the number of columns in 'y_score'\n",
      "ERROR:root:Failure found during evaluation of the auc metric returning -1: multiclass format is not supported\n",
      "ERROR:root:Failure found during evaluation of the auc metric returning -1: Number of classes in y_true not equal to the number of columns in 'y_score'\n",
      "ERROR:root:Failure found during evaluation of the auc metric returning -1: multiclass format is not supported\n",
      "INFO:root:Part 0 | Epoch 00000 | Batch 020 | Loss: 1.0840 | Time: 0.0336\n",
      "WARNING:root:{'roc_auc', 'precision_recall'} requires return_proba==True.                 Set return_proba to True.\n",
      "ERROR:root:Failure found during evaluation of the auc metric returning -1: Number of classes in y_true not equal to the number of columns in 'y_score'\n",
      "ERROR:root:Failure found during evaluation of the auc metric returning -1: multiclass format is not supported\n",
      "ERROR:root:Failure found during evaluation of the auc metric returning -1: Number of classes in y_true not equal to the number of columns in 'y_score'\n",
      "ERROR:root:Failure found during evaluation of the auc metric returning -1: multiclass format is not supported\n",
      "INFO:root:Part 0 | Epoch 00000 | Batch 040 | Loss: 1.1221 | Time: 0.0327\n",
      "WARNING:root:{'roc_auc', 'precision_recall'} requires return_proba==True.                 Set return_proba to True.\n",
      "ERROR:root:Failure found during evaluation of the auc metric returning -1: Number of classes in y_true not equal to the number of columns in 'y_score'\n",
      "ERROR:root:Failure found during evaluation of the auc metric returning -1: multiclass format is not supported\n",
      "ERROR:root:Failure found during evaluation of the auc metric returning -1: Number of classes in y_true not equal to the number of columns in 'y_score'\n",
      "ERROR:root:Failure found during evaluation of the auc metric returning -1: multiclass format is not supported\n",
      "INFO:root:Part 0 | Epoch 00000 | Batch 060 | Loss: 1.1029 | Time: 0.0350\n",
      "WARNING:root:{'roc_auc', 'precision_recall'} requires return_proba==True.                 Set return_proba to True.\n",
      "ERROR:root:Failure found during evaluation of the auc metric returning -1: Number of classes in y_true not equal to the number of columns in 'y_score'\n",
      "ERROR:root:Failure found during evaluation of the auc metric returning -1: multiclass format is not supported\n",
      "ERROR:root:Failure found during evaluation of the auc metric returning -1: Number of classes in y_true not equal to the number of columns in 'y_score'\n",
      "ERROR:root:Failure found during evaluation of the auc metric returning -1: multiclass format is not supported\n",
      "INFO:root:Part 0 | Epoch 00000 | Batch 080 | Loss: 1.1297 | Time: 0.0325\n",
      "WARNING:root:{'roc_auc', 'precision_recall'} requires return_proba==True.                 Set return_proba to True.\n",
      "ERROR:root:Failure found during evaluation of the auc metric returning -1: Number of classes in y_true not equal to the number of columns in 'y_score'\n",
      "ERROR:root:Failure found during evaluation of the auc metric returning -1: multiclass format is not supported\n",
      "ERROR:root:Failure found during evaluation of the auc metric returning -1: Number of classes in y_true not equal to the number of columns in 'y_score'\n",
      "ERROR:root:Failure found during evaluation of the auc metric returning -1: multiclass format is not supported\n",
      "INFO:root:Part 0 | Epoch 00000 | Batch 100 | Loss: 1.0757 | Time: 0.0338\n",
      "WARNING:root:{'roc_auc', 'precision_recall'} requires return_proba==True.                 Set return_proba to True.\n",
      "ERROR:root:Failure found during evaluation of the auc metric returning -1: Number of classes in y_true not equal to the number of columns in 'y_score'\n",
      "ERROR:root:Failure found during evaluation of the auc metric returning -1: multiclass format is not supported\n",
      "ERROR:root:Failure found during evaluation of the auc metric returning -1: Number of classes in y_true not equal to the number of columns in 'y_score'\n",
      "ERROR:root:Failure found during evaluation of the auc metric returning -1: multiclass format is not supported\n",
      "INFO:root:Part 0 | Epoch 00000 | Batch 120 | Loss: 1.2623 | Time: 0.0263\n",
      "WARNING:root:{'roc_auc', 'precision_recall'} requires return_proba==True.                 Set return_proba to True.\n",
      "ERROR:root:Failure found during evaluation of the auc metric returning -1: Number of classes in y_true not equal to the number of columns in 'y_score'\n",
      "ERROR:root:Failure found during evaluation of the auc metric returning -1: multiclass format is not supported\n",
      "ERROR:root:Failure found during evaluation of the auc metric returning -1: Number of classes in y_true not equal to the number of columns in 'y_score'\n",
      "ERROR:root:Failure found during evaluation of the auc metric returning -1: multiclass format is not supported\n",
      "INFO:root:Part 0 | Epoch 00000 | Batch 140 | Loss: 1.4082 | Time: 0.0289\n",
      "INFO:root:Epoch 0 take 7.077 seconds\n",
      "WARNING:root:{'roc_auc', 'precision_recall'} requires return_proba==True.                 Set return_proba to True.\n",
      "ERROR:root:Failure found during evaluation of the auc metric returning -1: Number of classes in y_true not equal to the number of columns in 'y_score'\n",
      "ERROR:root:Failure found during evaluation of the auc metric returning -1: multiclass format is not supported\n",
      "ERROR:root:Failure found during evaluation of the auc metric returning -1: Number of classes in y_true not equal to the number of columns in 'y_score'\n",
      "ERROR:root:Failure found during evaluation of the auc metric returning -1: multiclass format is not supported\n",
      "INFO:root:successfully save the model to nc_model/epoch-0\n",
      "INFO:root:Time on save model: 0.002 seconds\n",
      "INFO:root:Part 0 | Epoch 00001 | Batch 000 | Loss: 1.2978 | Time: 0.0311\n",
      "WARNING:root:{'roc_auc', 'precision_recall'} requires return_proba==True.                 Set return_proba to True.\n",
      "ERROR:root:Failure found during evaluation of the auc metric returning -1: Number of classes in y_true not equal to the number of columns in 'y_score'\n",
      "ERROR:root:Failure found during evaluation of the auc metric returning -1: multiclass format is not supported\n",
      "ERROR:root:Failure found during evaluation of the auc metric returning -1: Number of classes in y_true not equal to the number of columns in 'y_score'\n",
      "ERROR:root:Failure found during evaluation of the auc metric returning -1: multiclass format is not supported\n",
      "INFO:root:Part 0 | Epoch 00001 | Batch 020 | Loss: 1.2263 | Time: 0.0273\n",
      "WARNING:root:{'roc_auc', 'precision_recall'} requires return_proba==True.                 Set return_proba to True.\n",
      "ERROR:root:Failure found during evaluation of the auc metric returning -1: Number of classes in y_true not equal to the number of columns in 'y_score'\n",
      "ERROR:root:Failure found during evaluation of the auc metric returning -1: multiclass format is not supported\n",
      "ERROR:root:Failure found during evaluation of the auc metric returning -1: Number of classes in y_true not equal to the number of columns in 'y_score'\n",
      "ERROR:root:Failure found during evaluation of the auc metric returning -1: multiclass format is not supported\n",
      "INFO:root:Part 0 | Epoch 00001 | Batch 040 | Loss: 1.0228 | Time: 0.0356\n",
      "WARNING:root:{'roc_auc', 'precision_recall'} requires return_proba==True.                 Set return_proba to True.\n",
      "ERROR:root:Failure found during evaluation of the auc metric returning -1: Number of classes in y_true not equal to the number of columns in 'y_score'\n",
      "ERROR:root:Failure found during evaluation of the auc metric returning -1: multiclass format is not supported\n",
      "ERROR:root:Failure found during evaluation of the auc metric returning -1: Number of classes in y_true not equal to the number of columns in 'y_score'\n",
      "ERROR:root:Failure found during evaluation of the auc metric returning -1: multiclass format is not supported\n",
      "INFO:root:Part 0 | Epoch 00001 | Batch 060 | Loss: 1.1866 | Time: 0.0276\n",
      "WARNING:root:{'roc_auc', 'precision_recall'} requires return_proba==True.                 Set return_proba to True.\n",
      "ERROR:root:Failure found during evaluation of the auc metric returning -1: Number of classes in y_true not equal to the number of columns in 'y_score'\n",
      "ERROR:root:Failure found during evaluation of the auc metric returning -1: multiclass format is not supported\n",
      "ERROR:root:Failure found during evaluation of the auc metric returning -1: Number of classes in y_true not equal to the number of columns in 'y_score'\n",
      "ERROR:root:Failure found during evaluation of the auc metric returning -1: multiclass format is not supported\n",
      "INFO:root:Part 0 | Epoch 00001 | Batch 080 | Loss: 1.0742 | Time: 0.0335\n",
      "WARNING:root:{'roc_auc', 'precision_recall'} requires return_proba==True.                 Set return_proba to True.\n",
      "ERROR:root:Failure found during evaluation of the auc metric returning -1: Number of classes in y_true not equal to the number of columns in 'y_score'\n",
      "ERROR:root:Failure found during evaluation of the auc metric returning -1: multiclass format is not supported\n",
      "ERROR:root:Failure found during evaluation of the auc metric returning -1: Number of classes in y_true not equal to the number of columns in 'y_score'\n",
      "ERROR:root:Failure found during evaluation of the auc metric returning -1: multiclass format is not supported\n",
      "INFO:root:Part 0 | Epoch 00001 | Batch 100 | Loss: 1.2537 | Time: 0.0328\n",
      "WARNING:root:{'roc_auc', 'precision_recall'} requires return_proba==True.                 Set return_proba to True.\n",
      "ERROR:root:Failure found during evaluation of the auc metric returning -1: Number of classes in y_true not equal to the number of columns in 'y_score'\n",
      "ERROR:root:Failure found during evaluation of the auc metric returning -1: multiclass format is not supported\n",
      "ERROR:root:Failure found during evaluation of the auc metric returning -1: Number of classes in y_true not equal to the number of columns in 'y_score'\n",
      "ERROR:root:Failure found during evaluation of the auc metric returning -1: multiclass format is not supported\n",
      "INFO:root:Part 0 | Epoch 00001 | Batch 120 | Loss: 1.1180 | Time: 0.0311\n",
      "WARNING:root:{'roc_auc', 'precision_recall'} requires return_proba==True.                 Set return_proba to True.\n",
      "ERROR:root:Failure found during evaluation of the auc metric returning -1: Number of classes in y_true not equal to the number of columns in 'y_score'\n",
      "ERROR:root:Failure found during evaluation of the auc metric returning -1: multiclass format is not supported\n",
      "ERROR:root:Failure found during evaluation of the auc metric returning -1: Number of classes in y_true not equal to the number of columns in 'y_score'\n",
      "ERROR:root:Failure found during evaluation of the auc metric returning -1: multiclass format is not supported\n",
      "INFO:root:Part 0 | Epoch 00001 | Batch 140 | Loss: 1.0319 | Time: 0.0345\n",
      "WARNING:root:{'roc_auc', 'precision_recall'} requires return_proba==True.                 Set return_proba to True.\n",
      "ERROR:root:Failure found during evaluation of the auc metric returning -1: Number of classes in y_true not equal to the number of columns in 'y_score'\n",
      "ERROR:root:Failure found during evaluation of the auc metric returning -1: multiclass format is not supported\n",
      "ERROR:root:Failure found during evaluation of the auc metric returning -1: Number of classes in y_true not equal to the number of columns in 'y_score'\n",
      "ERROR:root:Failure found during evaluation of the auc metric returning -1: multiclass format is not supported\n",
      "INFO:root:Epoch 1 take 7.320 seconds\n",
      "WARNING:root:{'roc_auc', 'precision_recall'} requires return_proba==True.                 Set return_proba to True.\n",
      "ERROR:root:Failure found during evaluation of the auc metric returning -1: Number of classes in y_true not equal to the number of columns in 'y_score'\n",
      "ERROR:root:Failure found during evaluation of the auc metric returning -1: multiclass format is not supported\n",
      "ERROR:root:Failure found during evaluation of the auc metric returning -1: Number of classes in y_true not equal to the number of columns in 'y_score'\n",
      "ERROR:root:Failure found during evaluation of the auc metric returning -1: multiclass format is not supported\n",
      "INFO:root:Peak RAM Mem alloc: 586.3984 MB\n"
     ]
    }
   ],
   "source": [
    "# Train the model with the trainer using fit() function\n",
    "trainer.fit(train_loader=train_dataloader,\n",
    "            val_loader=val_dataloader,\n",
    "            test_loader=test_dataloader,\n",
    "            num_epochs=2,\n",
    "            save_model_path='nc_model/')"
   ]
  },
  {
   "cell_type": "markdown",
   "metadata": {},
   "source": [
    "### 5. Visualize Model Performance History\n",
    "\n",
    "Next, we examine the model performance on the validation and testing sets over the training process."
   ]
  },
  {
   "cell_type": "code",
   "execution_count": 17,
   "metadata": {
    "tags": []
   },
   "outputs": [
    {
     "data": {
      "text/plain": [
       "<matplotlib.legend.Legend at 0x7f28d719f430>"
      ]
     },
     "execution_count": 17,
     "metadata": {},
     "output_type": "execute_result"
    },
    {
     "data": {
      "image/png": "[encoded data removed]",
      "text/plain": [
       "<Figure size 640x480 with 1 Axes>"
      ]
     },
     "metadata": {},
     "output_type": "display_data"
    }
   ],
   "source": [
    "# extract evaluation history of metrics from the trainer's evaluator:\n",
    "val_metrics, test_metrics = [], []\n",
    "for val_metric, test_metric in trainer.evaluator.history:\n",
    "    val_metrics.append(val_metric['roc_auc'])\n",
    "    test_metrics.append(test_metric['roc_auc'])\n",
    "\n",
    "# plot the performance curves\n",
    "fig, ax = plt.subplots()\n",
    "ax.plot(val_metrics, label='val')\n",
    "ax.plot(test_metrics, label='test')\n",
    "ax.set(xlabel='Epoch', ylabel='Accuracy')\n",
    "ax.legend(loc='best')"
   ]
  },
  {
   "cell_type": "markdown",
   "metadata": {},
   "source": [
    "### 6. Inference with the Trained Model\n",
    "\n",
    "GraphStorm automatically save the best performaned model in the given `save_model_path` argument. We can first find out what is the best model and its path."
   ]
  },
  {
   "cell_type": "code",
   "execution_count": 12,
   "metadata": {
    "tags": []
   },
   "outputs": [
    {
     "name": "stdout",
     "output_type": "stream",
     "text": [
      "Best model path: nc_model/epoch-0\n"
     ]
    }
   ],
   "source": [
    "# after training, the best model is saved to disk:\n",
    "best_model_path = trainer.get_best_model_path()\n",
    "print('Best model path:', best_model_path)"
   ]
  },
  {
   "cell_type": "code",
   "execution_count": 13,
   "metadata": {},
   "outputs": [
    {
     "name": "stdout",
     "output_type": "stream",
     "text": [
      "total 1616\n",
      " 540 -rw-rw-r-- 1 ubuntu ubuntu  551053 Jan 26 06:18 model.bin\n",
      "1076 -rw-rw-r-- 1 ubuntu ubuntu 1101026 Jan 26 06:18 optimizers.bin\n"
     ]
    }
   ],
   "source": [
    "# check the saved model artifacts\n",
    "!ls -ls {best_model_path}"
   ]
  },
  {
   "cell_type": "code",
   "execution_count": 14,
   "metadata": {},
   "outputs": [
    {
     "name": "stderr",
     "output_type": "stream",
     "text": [
      "INFO:root:successfully load the model from nc_model/epoch-0\n",
      "INFO:root:Time on load model: 0.006 seconds\n"
     ]
    }
   ],
   "source": [
    "# we can restore the model from the saved path:\n",
    "model.restore_model(best_model_path)"
   ]
  },
  {
   "cell_type": "code",
   "execution_count": 16,
   "metadata": {},
   "outputs": [],
   "source": [
    "# Create a dataset for inference, we use the same ACM graph\n",
    "infer_data = GSgnnNodeInferData(graph_name=graph_name,\n",
    "                                part_config=acm_graph_config,\n",
    "                                eval_ntypes='paper',\n",
    "                                node_feat_field={'author':['feat'], 'paper':['feat'],'subject':['feat']},\n",
    "                                label_field='label')\n",
    "\n",
    "# Setup dataloader for the inference dataset\n",
    "infer_dataloader = GSgnnNodeDataLoader(dataset=infer_data,\n",
    "                                       target_idx=infer_data.test_idxs,\n",
    "                                       fanout=[50,50],\n",
    "                                       batch_size=100,\n",
    "                                       device=device,\n",
    "                                       train_task=False)\n",
    "\n",
    "# Create an Inferrer object\n",
    "infer = GSgnnNodePredictionInferrer(model)"
   ]
  },
  {
   "cell_type": "code",
   "execution_count": 17,
   "metadata": {},
   "outputs": [
    {
     "name": "stderr",
     "output_type": "stream",
     "text": [
      "INFO:root:save embeddings pf paper to infer/embeddings\n",
      "INFO:root:Writing GNN embeddings to infer/embeddings in pytorch format.\n"
     ]
    }
   ],
   "source": [
    "# Run inference on the inference dataset\n",
    "infer.infer(infer_dataloader,\n",
    "            save_embed_path='infer/embeddings',\n",
    "            save_prediction_path='infer/predictions',\n",
    "            use_mini_batch_infer=True)"
   ]
  },
  {
   "cell_type": "code",
   "execution_count": 18,
   "metadata": {},
   "outputs": [
    {
     "name": "stdout",
     "output_type": "stream",
     "text": [
      "total 328K\n",
      "-rw-rw-r-- 1 ubuntu ubuntu 314K Jan 26 06:19 embed-00000.pt\n",
      "-rw-rw-r-- 1 ubuntu ubuntu  11K Jan 26 06:19 embed_nids-00000.pt\n"
     ]
    }
   ],
   "source": [
    "# The GNN embeddings and predictions on the inference graph are saved to the folder named after the target_ntype\n",
    "!ls -lh infer/embeddings/paper"
   ]
  },
  {
   "cell_type": "code",
   "execution_count": 19,
   "metadata": {},
   "outputs": [
    {
     "name": "stdout",
     "output_type": "stream",
     "text": [
      "total 84K\n",
      "-rw-rw-r-- 1 ubuntu ubuntu 70K Jan 26 06:19 predict-00000.pt\n",
      "-rw-rw-r-- 1 ubuntu ubuntu 11K Jan 26 06:19 predict_nids-00000.pt\n"
     ]
    }
   ],
   "source": [
    "!ls -lh infer/predictions/paper"
   ]
  },
  {
   "cell_type": "code",
   "execution_count": null,
   "metadata": {},
   "outputs": [],
   "source": []
  }
 ],
 "metadata": {
  "kernelspec": {
   "display_name": "gsf",
   "language": "python",
   "name": "gsf"
  },
  "language_info": {
   "codemirror_mode": {
    "name": "ipython",
    "version": 3
   },
   "file_extension": ".py",
   "mimetype": "text/x-python",
   "name": "python",
   "nbconvert_exporter": "python",
   "pygments_lexer": "ipython3",
   "version": "3.9.18"
  }
 },
 "nbformat": 4,
 "nbformat_minor": 4
}
