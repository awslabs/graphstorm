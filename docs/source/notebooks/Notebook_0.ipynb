{
 "cells": [
  {
   "cell_type": "markdown",
   "id": "c4392287-0c04-44e6-a6b2-e34f5d7157ad",
   "metadata": {},
   "source": [
    "# Notebook 0: Data Prepare\n",
    "\n",
    "This notebook will create an example graph data to be used in the other notebooks to demonstrate how to program using GraphStorm APIs.\n",
    "The example graph data comes from [DGL's ACM publication dataset](https://data.dgl.ai/dataset/ACM.mat), which is the same as the data explainedin the [Use Your Own Data tutorial](https://graphstorm.readthedocs.io/en/latest/tutorials/own-data.html)."
   ]
  },
  {
   "cell_type": "markdown",
   "id": "9a0fa3ed-a4e6-4231-979d-3d2c3003859c",
   "metadata": {},
   "source": [
    "## Prerequisites\n",
    "This notebook assumes the following prerequisites.\n",
    "- Python 3;\n",
    "- Linux OS, Ubuntu or Amazon Linux;\n",
    "- GraphStorm and its dependencies (following the [Setup GraphStorm with pip packages tutorial](https://graphstorm.readthedocs.io/en/latest/install/env-setup.html#setup-graphstorm-with-pip-packages))\n",
    "- [Jupyter web interacitve server](https://jupyter.org/).\n",
    "\n",
    "Users can use the following command to check if the above prerequisites are met."
   ]
  },
  {
   "cell_type": "code",
   "execution_count": 1,
   "id": "ef5d9b4a-2efa-4158-be55-53b22226d3d2",
   "metadata": {},
   "outputs": [
    {
     "name": "stdout",
     "output_type": "stream",
     "text": [
      "0.2.1\n"
     ]
    }
   ],
   "source": [
    "import graphstorm as gs\n",
    "print(gs.__version__)"
   ]
  },
  {
   "cell_type": "markdown",
   "id": "edeaa1cd-283a-4c5e-8f20-bbd3dd186928",
   "metadata": {},
   "source": [
    "### Download Data Generation Script\n",
    "GraphStorm provides a Python script that can download and convert the DGL ACM publication data for GraphStorm usage. Therefore, first let's download the script file from [GraphStorm Github repository](https://github.com/awslabs/graphstorm)."
   ]
  },
  {
   "cell_type": "code",
   "execution_count": 2,
   "id": "609b0869-b4eb-4467-8353-31e2acc92203",
   "metadata": {},
   "outputs": [
    {
     "name": "stdout",
     "output_type": "stream",
     "text": [
      "--2023-12-11 18:58:35--  https://github.com/awslabs/graphstorm/raw/main/examples/acm_data.py\n",
      "Resolving github.com (github.com)... 192.30.255.113\n",
      "Connecting to github.com (github.com)|192.30.255.113|:443... connected.\n",
      "HTTP request sent, awaiting response... 302 Found\n",
      "Location: https://raw.githubusercontent.com/awslabs/graphstorm/main/examples/acm_data.py [following]\n",
      "--2023-12-11 18:58:35--  https://raw.githubusercontent.com/awslabs/graphstorm/main/examples/acm_data.py\n",
      "Resolving raw.githubusercontent.com (raw.githubusercontent.com)... 185.199.110.133, 185.199.111.133, 185.199.108.133, ...\n",
      "Connecting to raw.githubusercontent.com (raw.githubusercontent.com)|185.199.110.133|:443... connected.\n",
      "HTTP request sent, awaiting response... 200 OK\n",
      "Length: 18296 (18K) [text/plain]\n",
      "Saving to: ‘./acm_data.py’\n",
      "\n",
      "./acm_data.py       100%[===================>]  17.87K  --.-KB/s    in 0.001s  \n",
      "\n",
      "2023-12-11 18:58:35 (29.6 MB/s) - ‘./acm_data.py’ saved [18296/18296]\n",
      "\n"
     ]
    }
   ],
   "source": [
    "!wget -O ./acm_data.py https://github.com/awslabs/graphstorm/raw/main/examples/acm_data.py"
   ]
  },
  {
   "cell_type": "markdown",
   "id": "a78c88ef-91f0-4737-9506-985dc7d03c7f",
   "metadata": {},
   "source": [
    "### Generate ACM Raw Table Data\n",
    "The Python script is self-contained. We can use it with the command below to build the raw table data, which is the stand input data for GraphStorm."
   ]
  },
  {
   "cell_type": "code",
   "execution_count": 2,
   "id": "4e3e6c4e-9d6d-4a6d-9c51-cf856eef06fc",
   "metadata": {},
   "outputs": [
    {
     "name": "stdout",
     "output_type": "stream",
     "text": [
      "Namespace(download_path='/tmp/ACM.mat', dataset_name='acm', output_type='raw_w_text', output_path='./acm_raw')\n",
      "Graph(num_nodes={'author': 17431, 'paper': 12499, 'subject': 73},\n",
      "      num_edges={('author', 'writing', 'paper'): 37055, ('paper', 'cited', 'paper'): 30789, ('paper', 'citing', 'paper'): 30789, ('paper', 'is-about', 'subject'): 12499, ('paper', 'written-by', 'author'): 37055, ('subject', 'has', 'paper'): 12499},\n",
      "      metagraph=[('author', 'paper', 'writing'), ('paper', 'paper', 'cited'), ('paper', 'paper', 'citing'), ('paper', 'subject', 'is-about'), ('paper', 'author', 'written-by'), ('subject', 'paper', 'has')])\n",
      "\n",
      " Number of classes: 14\n",
      "\n",
      " Paper node labels: torch.Size([12499])\n",
      "\n",
      " ('paper', 'citing', 'paper') edge labels:30789\n",
      "Saving ACM data to /tmp/acm.dgl ......\n",
      "/tmp/acm.dgl saved.\n",
      "Saving ACM node text to /tmp/acm_text.pkl ......\n",
      "/tmp/acm_text.pkl saved.\n",
      "author nodes have: Index(['node_id', 'feat', 'text'], dtype='object') columns ......\n",
      "paper nodes have: Index(['node_id', 'label', 'feat', 'text'], dtype='object') columns ......\n",
      "subject nodes have: Index(['node_id', 'feat', 'text'], dtype='object') columns ......\n",
      "Saved author node data to ./acm_raw/nodes/author.parquet.\n",
      "Saved paper node data to ./acm_raw/nodes/paper.parquet.\n",
      "Saved subject node data to ./acm_raw/nodes/subject.parquet.\n",
      "Saved ('author', 'writing', 'paper') edge data to ./acm_raw/edges/author_writing_paper.parquet\n",
      "Saved ('paper', 'cited', 'paper') edge data to ./acm_raw/edges/paper_cited_paper.parquet\n",
      "Saved ('paper', 'citing', 'paper') edge data to ./acm_raw/edges/paper_citing_paper.parquet\n",
      "Saved ('paper', 'is-about', 'subject') edge data to ./acm_raw/edges/paper_is-about_subject.parquet\n",
      "Saved ('paper', 'written-by', 'author') edge data to ./acm_raw/edges/paper_written-by_author.parquet\n",
      "Saved ('subject', 'has', 'paper') edge data to ./acm_raw/edges/subject_has_paper.parquet\n"
     ]
    }
   ],
   "source": [
    "!python ./acm_data.py --output-path ./acm_raw --output-type raw_w_text"
   ]
  },
  {
   "cell_type": "markdown",
   "id": "02183d5a-f574-4938-956a-69eeec1fd1ee",
   "metadata": {},
   "source": [
    "### Construct GraphStorm Input Graph Data\n",
    "With the raw ACM table we can use GraphStorm's graph construction method to prepare the ACM graph for other notebooks.\n",
    "\n",
    "For the GraphStorm Standalone mode, we only need one partition. Therefore, in the command below we set the `--num-parts` to be `1`. For other arguments, users can refer to [GraphStorm Graph Construction arguments](https://graphstorm.readthedocs.io/en/latest/configuration/configuration-gconstruction.html)."
   ]
  },
  {
   "cell_type": "code",
   "execution_count": 3,
   "id": "2b8c752c-b6e8-4562-9637-4c56a4b09875",
   "metadata": {},
   "outputs": [
    {
     "name": "stdout",
     "output_type": "stream",
     "text": [
      "INFO:root:The graph has 3 node types and 6 edge types.\n",
      "INFO:root:Node type author has 17431 nodes\n",
      "INFO:root:Node type paper has 12499 nodes\n",
      "INFO:root:Node type subject has 73 nodes\n",
      "INFO:root:Edge type ('author', 'writing', 'paper') has 37055 edges\n",
      "INFO:root:Edge type ('paper', 'cited', 'paper') has 30789 edges\n",
      "INFO:root:Edge type ('paper', 'citing', 'paper') has 30789 edges\n",
      "INFO:root:Edge type ('paper', 'is-about', 'subject') has 12499 edges\n",
      "INFO:root:Edge type ('paper', 'written-by', 'author') has 37055 edges\n",
      "INFO:root:Edge type ('subject', 'has', 'paper') has 12499 edges\n",
      "INFO:root:Node type author has features: ['feat', 'input_ids', 'attention_mask', 'token_type_ids'].\n",
      "INFO:root:Node type paper has features: ['feat', 'input_ids', 'attention_mask', 'token_type_ids', 'train_mask', 'val_mask', 'test_mask', 'label'].\n",
      "INFO:root:Train/val/test on paper: 9999, 1249, 1249\n",
      "INFO:root:Node type subject has features: ['feat', 'input_ids', 'attention_mask', 'token_type_ids'].\n",
      "INFO:root:Edge type ('paper', 'citing', 'paper') has features: ['train_mask', 'val_mask', 'test_mask'].\n",
      "INFO:root:Train/val/test on ('paper', 'citing', 'paper'): 24631, 3078, 3078\n",
      "Converting to homogeneous graph takes 0.004s, peak mem: 3.202 GB\n",
      "Save partitions: 0.008 seconds, peak memory: 3.389 GB\n",
      "There are 160686 edges in the graph and 0 edge cuts for 1 partitions.\n",
      "INFO:root:Graph construction generates new node IDs for 'author'. The ID map is saved in ./acm_gs/author_id_remap.parquet.\n",
      "INFO:root:Graph construction generates new node IDs for 'paper'. The ID map is saved in ./acm_gs/paper_id_remap.parquet.\n",
      "INFO:root:Graph construction generates new node IDs for 'subject'. The ID map is saved in ./acm_gs/subject_id_remap.parquet.\n"
     ]
    }
   ],
   "source": [
    "!python -m graphstorm.gconstruct.construct_graph \\\n",
    "          --conf-file ./acm_raw/config.json \\\n",
    "          --output-dir ./acm_gs \\\n",
    "          --num-parts 1 \\\n",
    "          --graph-name acm"
   ]
  },
  {
   "cell_type": "markdown",
   "id": "e79e2712-4a3c-41a2-8c1b-819c7e8364d2",
   "metadata": {},
   "source": [
    "## Data Exploration and Explanation\n",
    "The above commands created two sets of ACM data. Below we explore these datasets, and explain their format so that users can prepare their own graph data for using GraphStorm."
   ]
  },
  {
   "cell_type": "markdown",
   "id": "148db3bc-ca76-4a75-b3b8-e2ed55784b03",
   "metadata": {},
   "source": [
    "### Raw ACM Table Data in the `./acm_raw` Folder\n",
    "We can list the `acm_raw` folder with the `ls -al` command. "
   ]
  },
  {
   "cell_type": "code",
   "execution_count": 4,
   "id": "c0a6cc31-2230-498e-9a19-33466ed0f916",
   "metadata": {},
   "outputs": [
    {
     "name": "stdout",
     "output_type": "stream",
     "text": [
      "total 24\n",
      "drwxrwxr-x 4 ubuntu ubuntu 4096 Dec 12 22:41 .\n",
      "drwxrwxr-x 5 ubuntu ubuntu 4096 Dec 12 22:41 ..\n",
      "-rw-rw-r-- 1 ubuntu ubuntu 5249 Dec 12 22:41 config.json\n",
      "drwxrwxr-x 2 ubuntu ubuntu 4096 Dec 12 22:41 edges\n",
      "drwxrwxr-x 2 ubuntu ubuntu 4096 Dec 12 22:41 nodes\n"
     ]
    }
   ],
   "source": [
    "!ls -al ./acm_raw"
   ]
  },
  {
   "cell_type": "markdown",
   "id": "74be0c90-64f8-4d83-a741-35a6f58b3a9b",
   "metadata": {},
   "source": [
    "### GraphStorm Graph Construction JSON"
   ]
  },
  {
   "cell_type": "markdown",
   "id": "2346f42f-b8bb-4e5f-8485-cc9c508384f2",
   "metadata": {},
   "source": [
    "The `acm_raw` folder includes one `config.json` file that describes the table-based raw data format. Except for a **version** object, the JSON file contains a **nodes** object and an **edges** object.\n",
    "\n",
    "The **nodes** object contains a list of *nodes*, each of which includes a set of properties to describe one node type in a graph data. For example, in the `config.json` file, there is a node type, called \"papers\". For each node type, GraphStorm defines a few other properties, such as **format**, **files**, and **features**.\n",
    "\n",
    "Similarly, the **edges** object contains a list of *edges*. Most of *edge* properties are same as *node*'s except that *edge* object has the **relation** property that define an edge type in a canonical for, i.e., *source node type*, *relation type*, and *destination node type*.\n",
    "\n",
    "For a full list of the JSON configuration properties, users can refer to the [GraphStorm Graph Construction JSON Explanations](https://graphstorm.readthedocs.io/en/latest/configuration/configuration-gconstruction.html#configuration-json-explanations)."
   ]
  },
  {
   "cell_type": "code",
   "execution_count": 6,
   "id": "ddfef233-7fff-41ab-84f7-30d96885c472",
   "metadata": {
    "scrolled": true
   },
   "outputs": [
    {
     "name": "stdout",
     "output_type": "stream",
     "text": [
      "{\n",
      "    \"version\": \"gconstruct-v0.1\",\n",
      "    \"nodes\": [\n",
      "        {\n",
      "            \"node_type\": \"author\",\n",
      "            \"format\": {\n",
      "                \"name\": \"parquet\"\n",
      "            },\n",
      "            \"files\": [\n",
      "                \"./acm_raw/nodes/author.parquet\"\n",
      "            ],\n",
      "            \"node_id_col\": \"node_id\",\n",
      "            \"features\": [\n",
      "                {\n",
      "                    \"feature_col\": \"feat\",\n",
      "                    \"feature_name\": \"feat\"\n",
      "                },\n",
      "                {\n",
      "                    \"feature_col\": \"text\",\n",
      "                    \"feature_name\": \"text\",\n",
      "                    \"transform\": {\n",
      "                        \"name\": \"tokenize_hf\",\n",
      "                        \"bert_model\": \"bert-base-uncased\",\n",
      "                        \"max_seq_length\": 16\n",
      "                    }\n",
      "                }\n",
      "            ]\n",
      "        },\n",
      "        {\n",
      "            \"node_type\": \"paper\",\n",
      "            \"format\": {\n",
      "                \"name\": \"parquet\"\n",
      "            },\n",
      "            \"files\": [\n",
      "                \"./acm_raw/nodes/paper.parquet\"\n",
      "            ],\n",
      "            \"node_id_col\": \"node_id\",\n",
      "            \"features\": [\n",
      "                {\n",
      "                    \"feature_col\": \"feat\",\n",
      "                    \"feature_name\": \"feat\"\n",
      "                },\n",
      "                {\n",
      "                    \"feature_col\": \"text\",\n",
      "                    \"feature_name\": \"text\",\n",
      "                    \"transform\": {\n",
      "                        \"name\": \"tokenize_hf\",\n",
      "                        \"bert_model\": \"bert-base-uncased\",\n",
      "                        \"max_seq_length\": 16\n",
      "                    }\n",
      "                }\n",
      "            ],\n",
      "            \"labels\": [\n",
      "                {\n",
      "                    \"label_col\": \"label\",\n",
      "                    \"task_type\": \"classification\",\n",
      "                    \"split_pct\": [\n",
      "                        0.8,\n",
      "                        0.1,\n",
      "                        0.1\n",
      "                    ]\n",
      "                }\n",
      "            ]\n",
      "        },\n",
      "        {\n",
      "            \"node_type\": \"subject\",\n",
      "            \"format\": {\n",
      "                \"name\": \"parquet\"\n",
      "            },\n",
      "            \"files\": [\n",
      "                \"./acm_raw/nodes/subject.parquet\"\n",
      "            ],\n",
      "            \"node_id_col\": \"node_id\",\n",
      "            \"features\": [\n",
      "                {\n",
      "                    \"feature_col\": \"feat\",\n",
      "                    \"feature_name\": \"feat\"\n",
      "                },\n",
      "                {\n",
      "                    \"feature_col\": \"text\",\n",
      "                    \"feature_name\": \"text\",\n",
      "                    \"transform\": {\n",
      "                        \"name\": \"tokenize_hf\",\n",
      "                        \"bert_model\": \"bert-base-uncased\",\n",
      "                        \"max_seq_length\": 16\n",
      "                    }\n",
      "                }\n",
      "            ]\n",
      "        }\n",
      "    ],\n",
      "    \"edges\": [\n",
      "        {\n",
      "            \"relation\": [\n",
      "                \"author\",\n",
      "                \"writing\",\n",
      "                \"paper\"\n",
      "            ],\n",
      "            \"format\": {\n",
      "                \"name\": \"parquet\"\n",
      "            },\n",
      "            \"files\": [\n",
      "                \"./acm_raw/edges/author_writing_paper.parquet\"\n",
      "            ],\n",
      "            \"source_id_col\": \"source_id\",\n",
      "            \"dest_id_col\": \"dest_id\"\n",
      "        },\n",
      "        {\n",
      "            \"relation\": [\n",
      "                \"paper\",\n",
      "                \"cited\",\n",
      "                \"paper\"\n",
      "            ],\n",
      "            \"format\": {\n",
      "                \"name\": \"parquet\"\n",
      "            },\n",
      "            \"files\": [\n",
      "                \"./acm_raw/edges/paper_cited_paper.parquet\"\n",
      "            ],\n",
      "            \"source_id_col\": \"source_id\",\n",
      "            \"dest_id_col\": \"dest_id\"\n",
      "        },\n",
      "        {\n",
      "            \"relation\": [\n",
      "                \"paper\",\n",
      "                \"citing\",\n",
      "                \"paper\"\n",
      "            ],\n",
      "            \"format\": {\n",
      "                \"name\": \"parquet\"\n",
      "            },\n",
      "            \"files\": [\n",
      "                \"./acm_raw/edges/paper_citing_paper.parquet\"\n",
      "            ],\n",
      "            \"source_id_col\": \"source_id\",\n",
      "            \"dest_id_col\": \"dest_id\",\n",
      "            \"labels\": [\n",
      "                {\n",
      "                    \"task_type\": \"link_prediction\",\n",
      "                    \"split_pct\": [\n",
      "                        0.8,\n",
      "                        0.1,\n",
      "                        0.1\n",
      "                    ]\n",
      "                }\n",
      "            ]\n",
      "        },\n",
      "        {\n",
      "            \"relation\": [\n",
      "                \"paper\",\n",
      "                \"is-about\",\n",
      "                \"subject\"\n",
      "            ],\n",
      "            \"format\": {\n",
      "                \"name\": \"parquet\"\n",
      "            },\n",
      "            \"files\": [\n",
      "                \"./acm_raw/edges/paper_is-about_subject.parquet\"\n",
      "            ],\n",
      "            \"source_id_col\": \"source_id\",\n",
      "            \"dest_id_col\": \"dest_id\"\n",
      "        },\n",
      "        {\n",
      "            \"relation\": [\n",
      "                \"paper\",\n",
      "                \"written-by\",\n",
      "                \"author\"\n",
      "            ],\n",
      "            \"format\": {\n",
      "                \"name\": \"parquet\"\n",
      "            },\n",
      "            \"files\": [\n",
      "                \"./acm_raw/edges/paper_written-by_author.parquet\"\n",
      "            ],\n",
      "            \"source_id_col\": \"source_id\",\n",
      "            \"dest_id_col\": \"dest_id\"\n",
      "        },\n",
      "        {\n",
      "            \"relation\": [\n",
      "                \"subject\",\n",
      "                \"has\",\n",
      "                \"paper\"\n",
      "            ],\n",
      "            \"format\": {\n",
      "                \"name\": \"parquet\"\n",
      "            },\n",
      "            \"files\": [\n",
      "                \"./acm_raw/edges/subject_has_paper.parquet\"\n",
      "            ],\n",
      "            \"source_id_col\": \"source_id\",\n",
      "            \"dest_id_col\": \"dest_id\"\n",
      "        }\n",
      "    ]\n",
      "}"
     ]
    }
   ],
   "source": [
    "!cat ./acm_raw/config.json"
   ]
  },
  {
   "cell_type": "markdown",
   "id": "6babcfd3-b570-4045-9cb6-541bf7ceaf4d",
   "metadata": {},
   "source": [
    "### Raw ACM Tables\n",
    "As defined in the `./acm_raw/config.json` file, the node data files are stored at the `./acm_raw/nodes/` folder, and edge data files are stored at the `./acm_raw/edges/` folder. General description of these files can be found at the [Input raw node/edge data files](https://graphstorm.readthedocs.io/en/latest/tutorials/own-data.html#input-raw-node-edge-data-files). Here, we can read some nodes(\"paper\")/edges(\\[\"paper\", \"citing\", \"paper\"\\]) to know more about them."
   ]
  },
  {
   "cell_type": "code",
   "execution_count": 7,
   "id": "475be4f2-405a-4809-b51e-7a439566f00d",
   "metadata": {},
   "outputs": [],
   "source": [
    "import pandas as pd\n",
    "\n",
    "paper_node_path = './acm_raw/nodes/paper.parquet'\n",
    "paper_citing_paper_edge_path = './acm_raw/edges/paper_citing_paper.parquet'"
   ]
  },
  {
   "cell_type": "markdown",
   "id": "7237ea83-fc92-4a36-87b8-adecae9bdf99",
   "metadata": {},
   "source": [
    "#### Paper node table"
   ]
  },
  {
   "cell_type": "code",
   "execution_count": 8,
   "id": "930314ae-330c-4159-9c3b-d18ed8621c3d",
   "metadata": {},
   "outputs": [
    {
     "name": "stdout",
     "output_type": "stream",
     "text": [
      "(12499, 4)\n"
     ]
    },
    {
     "data": {
      "text/html": [
       "<div>\n",
       "<style scoped>\n",
       "    .dataframe tbody tr th:only-of-type {\n",
       "        vertical-align: middle;\n",
       "    }\n",
       "\n",
       "    .dataframe tbody tr th {\n",
       "        vertical-align: top;\n",
       "    }\n",
       "\n",
       "    .dataframe thead th {\n",
       "        text-align: right;\n",
       "    }\n",
       "</style>\n",
       "<table border=\"1\" class=\"dataframe\">\n",
       "  <thead>\n",
       "    <tr style=\"text-align: right;\">\n",
       "      <th></th>\n",
       "      <th>node_id</th>\n",
       "      <th>label</th>\n",
       "      <th>feat</th>\n",
       "      <th>text</th>\n",
       "    </tr>\n",
       "  </thead>\n",
       "  <tbody>\n",
       "    <tr>\n",
       "      <th>1511</th>\n",
       "      <td>p1511</td>\n",
       "      <td>2</td>\n",
       "      <td>[-0.0006541484, 0.009245367, 0.017781269, 0.01...</td>\n",
       "      <td>'Conversation specification: a new approach to...</td>\n",
       "    </tr>\n",
       "    <tr>\n",
       "      <th>8644</th>\n",
       "      <td>p8644</td>\n",
       "      <td>8</td>\n",
       "      <td>[-0.017404346, -0.013577025, 0.0048244707, -0....</td>\n",
       "      <td>'Strip packing with precedence constraints and...</td>\n",
       "    </tr>\n",
       "    <tr>\n",
       "      <th>8602</th>\n",
       "      <td>p8602</td>\n",
       "      <td>9</td>\n",
       "      <td>[0.0011218095, 0.016130054, -0.011704452, -0.0...</td>\n",
       "      <td>'  Network arrivals are often modeled as Poiss...</td>\n",
       "    </tr>\n",
       "    <tr>\n",
       "      <th>1580</th>\n",
       "      <td>p1580</td>\n",
       "      <td>0</td>\n",
       "      <td>[-0.019133765, 0.010865432, -0.021192657, 0.00...</td>\n",
       "      <td>'Dynamic hybrid clustering of bioinformatics b...</td>\n",
       "    </tr>\n",
       "  </tbody>\n",
       "</table>\n",
       "</div>"
      ],
      "text/plain": [
       "     node_id  label                                               feat  \\\n",
       "1511   p1511      2  [-0.0006541484, 0.009245367, 0.017781269, 0.01...   \n",
       "8644   p8644      8  [-0.017404346, -0.013577025, 0.0048244707, -0....   \n",
       "8602   p8602      9  [0.0011218095, 0.016130054, -0.011704452, -0.0...   \n",
       "1580   p1580      0  [-0.019133765, 0.010865432, -0.021192657, 0.00...   \n",
       "\n",
       "                                                   text  \n",
       "1511  'Conversation specification: a new approach to...  \n",
       "8644  'Strip packing with precedence constraints and...  \n",
       "8602  '  Network arrivals are often modeled as Poiss...  \n",
       "1580  'Dynamic hybrid clustering of bioinformatics b...  "
      ]
     },
     "execution_count": 8,
     "metadata": {},
     "output_type": "execute_result"
    }
   ],
   "source": [
    "paper_node_df = pd.read_parquet(paper_node_path)\n",
    "\n",
    "print(paper_node_df.shape)\n",
    "paper_node_df.sample(4)"
   ]
  },
  {
   "cell_type": "markdown",
   "id": "29b828cf-c346-4409-be7b-4fd9ba9a9f2a",
   "metadata": {},
   "source": [
    "The paper type node table has four columns."
   ]
  },
  {
   "cell_type": "markdown",
   "id": "74d50c03-0485-4b33-be76-b33fe7c013fd",
   "metadata": {},
   "source": [
    "#### paper_citing_paper edge table"
   ]
  },
  {
   "cell_type": "code",
   "execution_count": 14,
   "id": "cdce82e9-eecd-43c7-a0ac-ab7b161d4211",
   "metadata": {},
   "outputs": [
    {
     "name": "stdout",
     "output_type": "stream",
     "text": [
      "(30789, 3)\n"
     ]
    },
    {
     "data": {
      "text/html": [
       "<div>\n",
       "<style scoped>\n",
       "    .dataframe tbody tr th:only-of-type {\n",
       "        vertical-align: middle;\n",
       "    }\n",
       "\n",
       "    .dataframe tbody tr th {\n",
       "        vertical-align: top;\n",
       "    }\n",
       "\n",
       "    .dataframe thead th {\n",
       "        text-align: right;\n",
       "    }\n",
       "</style>\n",
       "<table border=\"1\" class=\"dataframe\">\n",
       "  <thead>\n",
       "    <tr style=\"text-align: right;\">\n",
       "      <th></th>\n",
       "      <th>source_id</th>\n",
       "      <th>dest_id</th>\n",
       "      <th>label</th>\n",
       "    </tr>\n",
       "  </thead>\n",
       "  <tbody>\n",
       "    <tr>\n",
       "      <th>24725</th>\n",
       "      <td>8712</td>\n",
       "      <td>4377</td>\n",
       "      <td>1.0</td>\n",
       "    </tr>\n",
       "    <tr>\n",
       "      <th>16460</th>\n",
       "      <td>5471</td>\n",
       "      <td>7375</td>\n",
       "      <td>1.0</td>\n",
       "    </tr>\n",
       "    <tr>\n",
       "      <th>6829</th>\n",
       "      <td>2262</td>\n",
       "      <td>97</td>\n",
       "      <td>1.0</td>\n",
       "    </tr>\n",
       "    <tr>\n",
       "      <th>28274</th>\n",
       "      <td>10890</td>\n",
       "      <td>5780</td>\n",
       "      <td>1.0</td>\n",
       "    </tr>\n",
       "  </tbody>\n",
       "</table>\n",
       "</div>"
      ],
      "text/plain": [
       "       source_id  dest_id  label\n",
       "24725       8712     4377    1.0\n",
       "16460       5471     7375    1.0\n",
       "6829        2262       97    1.0\n",
       "28274      10890     5780    1.0"
      ]
     },
     "execution_count": 14,
     "metadata": {},
     "output_type": "execute_result"
    }
   ],
   "source": [
    "pcp_edge_df = pd.read_parquet(paper_citing_paper_edge_path)\n",
    "\n",
    "print(pcp_edge_df.shape)\n",
    "pcp_edge_df.sample(4)"
   ]
  },
  {
   "cell_type": "code",
   "execution_count": null,
   "id": "b37b87fb-9393-4834-ad8d-2a0e29d48e5a",
   "metadata": {},
   "outputs": [],
   "source": []
  }
 ],
 "metadata": {
  "kernelspec": {
   "display_name": "gsf",
   "language": "python",
   "name": "gsf"
  },
  "language_info": {
   "codemirror_mode": {
    "name": "ipython",
    "version": 3
   },
   "file_extension": ".py",
   "mimetype": "text/x-python",
   "name": "python",
   "nbconvert_exporter": "python",
   "pygments_lexer": "ipython3",
   "version": "3.9.18"
  }
 },
 "nbformat": 4,
 "nbformat_minor": 5
}
