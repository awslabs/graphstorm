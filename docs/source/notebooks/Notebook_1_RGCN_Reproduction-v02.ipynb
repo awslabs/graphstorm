{
 "cells": [
  {
   "cell_type": "markdown",
   "metadata": {},
   "source": [
    "# Notebook 1: Reproduce RGCN Model with APIs\n",
    "\n",
    "This notebook is the first in a series that demonstrates how to use GraphStorm's APIs to create users' own graph machine learning setup by leveraging GraphStorm's easy-to-use and great scalability features. All of these notebooks are designed to run on GraphStorm's Standalone mode, i.e., in a single Linux machine with CPUs and GPUs. \n",
    "\n",
    "In this notebook, we willl reproduce the GraphStorm RGCN model with the nessessary APIs and use it to conduct a node classification task on the ACM dataset. By playing with this notebook, users will be able to get familiar with these APIs.\n",
    "\n",
    "### Prerequsites\n",
    "\n",
    "- GraphStorm installed using pip. Please find [more details on installation of GraphStorm](https://graphstorm.readthedocs.io/en/latest/install/env-setup.html#setup-graphstorm-with-pip-packages).\n",
    "- ACM data created in the [Notebook 0: Data Prepare](https://graphstorm.readthedocs.io/en/latest/notebooks/Notebook_0_Data_Prepare.html), and is stored in the `./acm_gs_1p/` folder.\n",
    "- Installation of supporting libraries, e.g., matplotlib."
   ]
  },
  {
   "cell_type": "code",
   "execution_count": 1,
   "metadata": {
    "tags": []
   },
   "outputs": [
    {
     "data": {
      "text/plain": [
       "'0.3'"
      ]
     },
     "execution_count": 1,
     "metadata": {},
     "output_type": "execute_result"
    }
   ],
   "source": [
    "import graphstorm as gs\n",
    "gs.__version__"
   ]
  },
  {
   "cell_type": "code",
   "execution_count": 2,
   "metadata": {},
   "outputs": [],
   "source": [
    "# Setup log level\n",
    "import logging\n",
    "logging.basicConfig(level=20)"
   ]
  },
  {
   "cell_type": "markdown",
   "metadata": {},
   "source": [
    "---\n",
    "\n",
    "### 0. Initialize the GraphStorm Standalone Environment\n",
    "\n",
    "We might set default argument values in `gs.initialize()` for the Standalone mode."
   ]
  },
  {
   "cell_type": "code",
   "execution_count": 3,
   "metadata": {
    "tags": []
   },
   "outputs": [],
   "source": [
    "gs.initialize()"
   ]
  },
  {
   "cell_type": "markdown",
   "metadata": {},
   "source": [
    "### 1. Setup GraphStorm Dataset and DataLoaders\n",
    "\n",
    "The role of `gs.dataset.GSgnnData` is mainly for loading and storing given partitioned graphs. The existing roles such as target node type, label field, and node feature for training/inference, will move to Dataloader classes. "
   ]
  },
  {
   "cell_type": "code",
   "execution_count": 4,
   "metadata": {
    "tags": []
   },
   "outputs": [],
   "source": [
    "# create a GraphStorm Dataset for the ACM graph data \n",
    "acm_data = gs.dataloading.GSgnnData(part_config='./acm_gs_1p/acm.json')"
   ]
  },
  {
   "cell_type": "markdown",
   "metadata": {},
   "source": [
    "`Dataloaders` take node feature dictionary and label field string. They do not handle features and labels, but pass these information to `Datasets`. And then `Datasets` retrieve related information and return to `Dataloaders`."
   ]
  },
  {
   "cell_type": "code",
   "execution_count": 5,
   "metadata": {
    "tags": []
   },
   "outputs": [
    {
     "name": "stderr",
     "output_type": "stream",
     "text": [
      "INFO:root:part 0, train 9999\n",
      "INFO:root:part 0, val 1249\n"
     ]
    }
   ],
   "source": [
    "# define dataloaders for training and validation\n",
    "train_dataloader = gs.dataloading.GSgnnNodeDataLoader(\n",
    "    dataset=acm_data,\n",
    "    target_idx=acm_data.get_node_train_set(ntypes=['paper']),\n",
    "    node_feats={'author':['feat'], 'paper':['feat'],'subject':['feat']},\n",
    "    label_field='label',\n",
    "    fanout=[20, 20],\n",
    "    batch_size=64,\n",
    "    train_task=True)\n",
    "val_dataloader = gs.dataloading.GSgnnNodeDataLoader(\n",
    "    dataset=acm_data,\n",
    "    target_idx=acm_data.get_node_val_set(ntypes=['paper']),\n",
    "    node_feats={'author':['feat'], 'paper':['feat'],'subject':['feat']},\n",
    "    label_field='label',\n",
    "    fanout=[100, 100],\n",
    "    batch_size=256,\n",
    "    train_task=False)"
   ]
  },
  {
   "cell_type": "markdown",
   "metadata": {},
   "source": [
    "### 2. Create a GraphStorm-compatible RGCN Model for Node Classification \n",
    "\n",
    "This `Model` could be a customized model extends from `GSgnnModel` and implements required methods. The `GSgnnModel` has a few new API features.\n",
    "\n",
    "1. It asks for graph metadata, instead of the DistGraph.\n",
    "2. It will run `model.init_optimizer()` by default."
   ]
  },
  {
   "cell_type": "code",
   "execution_count": 6,
   "metadata": {
    "tags": []
   },
   "outputs": [],
   "source": [
    "# import a customized RGCN model for node classification\n",
    "from demo_models import RgcnNCModel\n",
    "model = RgcnNCModel(\n",
    "    g=acm_data.g,\n",
    "    num_hid_layers=2,\n",
    "    feat_size={'author':256, 'paper':256, 'subject':256},\n",
    "    hid_size=128,\n",
    "    num_classes=14)"
   ]
  },
  {
   "cell_type": "markdown",
   "metadata": {},
   "source": [
    "### 3. Setup a GraphStorm Evaluator\n",
    "\n",
    "Now, `Evaluators` are task-oriented, i.e., `ClassificationEvaluator`, `RegressionEvaluator`, and `LPEvaluator`. And each Evaluator constructor could have a default evaluation metrics, i.e., `accuracy` for classification, `mse` for regression, and `mrr` for link prediction."
   ]
  },
  {
   "cell_type": "code",
   "execution_count": 7,
   "metadata": {
    "tags": []
   },
   "outputs": [],
   "source": [
    "# setup a Classification evaluator for the trainer\n",
    "evaluator = gs.eval.GSgnnClassificationEvaluator(eval_frequency=100)"
   ]
  },
  {
   "cell_type": "markdown",
   "metadata": {},
   "source": [
    "### 4. Setup a Trainer and Training"
   ]
  },
  {
   "cell_type": "code",
   "execution_count": 8,
   "metadata": {
    "scrolled": true,
    "tags": []
   },
   "outputs": [],
   "source": [
    "# create a GraphStorm node task trainer for the RGCN model\n",
    "from graphstorm.trainer import GSgnnNodePredictionTrainer\n",
    "trainer = GSgnnNodePredictionTrainer(model)\n",
    "# trainer = gs.trainer.GSgnnNodePredictionTrainer(model)\n",
    "trainer.setup_evaluator(evaluator)\n",
    "trainer.setup_device(gs.utils.get_device())"
   ]
  },
  {
   "cell_type": "code",
   "execution_count": 9,
   "metadata": {
    "tags": []
   },
   "outputs": [
    {
     "name": "stderr",
     "output_type": "stream",
     "text": [
      "/home/ubuntu/anaconda3/envs/gsf/lib/python3.9/site-packages/dgl/backend/pytorch/tensor.py:445: UserWarning: TypedStorage is deprecated. It will be removed in the future and UntypedStorage will be the only storage class. This should only matter to you if you are using storages directly.  To access UntypedStorage directly, use tensor.untyped_storage() instead of tensor.storage()\n",
      "  assert input.numel() == input.storage().size(), (\n",
      "INFO:root:Part 0 | Epoch 00000 | Batch 000 | Loss: 2.6374 | Time: 0.0455\n",
      "INFO:root:Part 0 | Epoch 00000 | Batch 020 | Loss: 1.6821 | Time: 0.0298\n",
      "INFO:root:Part 0 | Epoch 00000 | Batch 040 | Loss: 1.4471 | Time: 0.0256\n",
      "INFO:root:Part 0 | Epoch 00000 | Batch 060 | Loss: 1.4306 | Time: 0.0260\n",
      "INFO:root:Part 0 | Epoch 00000 | Batch 080 | Loss: 1.5173 | Time: 0.0259\n",
      "INFO:root:Step 100 | Train loss: 1.2248\n",
      "INFO:root:Step 100 | Validation accuracy: 0.4756\n",
      "INFO:root:Step 100 | Test accuracy: N/A\n",
      "INFO:root:Step 100 | Best Validation accuracy: 0.4756\n",
      "INFO:root:Step 100 | Best Test accuracy: N/A\n",
      "INFO:root:Step 100 | Best Iteration accuracy: 100.0000\n",
      "INFO:root: Eval time: 0.1361, Evaluation step: 100.\n",
      "INFO:root:Part 0 | Epoch 00000 | Batch 100 | Loss: 1.2153 | Time: 0.0270\n",
      "INFO:root:Part 0 | Epoch 00000 | Batch 120 | Loss: 1.3777 | Time: 0.0245\n",
      "INFO:root:Part 0 | Epoch 00000 | Batch 140 | Loss: 1.3070 | Time: 0.0239\n",
      "INFO:root:Epoch 0 take 4.495 seconds\n",
      "INFO:root:Step 157 | Validation accuracy: 0.4796\n",
      "INFO:root:Step 157 | Test accuracy: N/A\n",
      "INFO:root:Step 157 | Best Validation accuracy: 0.4796\n",
      "INFO:root:Step 157 | Best Test accuracy: N/A\n",
      "INFO:root:Step 157 | Best Iteration accuracy: 157.0000\n",
      "INFO:root: Eval time: 0.1333, Evaluation step: 157.\n",
      "INFO:root:successfully save the model to a_save_path/epoch-0\n",
      "INFO:root:Time on save model: 0.003 seconds\n",
      "INFO:root:Part 0 | Epoch 00001 | Batch 000 | Loss: 1.2469 | Time: 0.0327\n",
      "INFO:root:Part 0 | Epoch 00001 | Batch 020 | Loss: 1.3396 | Time: 0.0242\n",
      "INFO:root:Part 0 | Epoch 00001 | Batch 040 | Loss: 1.2849 | Time: 0.0240\n",
      "INFO:root:Step 200 | Train loss: 1.3604\n",
      "INFO:root:Step 200 | Validation accuracy: 0.4732\n",
      "INFO:root:Step 200 | Test accuracy: N/A\n",
      "INFO:root:Step 200 | Best Validation accuracy: 0.4796\n",
      "INFO:root:Step 200 | Best Test accuracy: N/A\n",
      "INFO:root:Step 200 | Best Iteration accuracy: 157.0000\n",
      "INFO:root: Eval time: 0.1450, Evaluation step: 200.\n",
      "INFO:root:Part 0 | Epoch 00001 | Batch 060 | Loss: 1.3430 | Time: 0.0273\n",
      "INFO:root:Part 0 | Epoch 00001 | Batch 080 | Loss: 1.3567 | Time: 0.0259\n",
      "INFO:root:Part 0 | Epoch 00001 | Batch 100 | Loss: 1.2977 | Time: 0.0246\n",
      "INFO:root:Part 0 | Epoch 00001 | Batch 120 | Loss: 1.2574 | Time: 0.0272\n",
      "INFO:root:Part 0 | Epoch 00001 | Batch 140 | Loss: 1.3469 | Time: 0.0264\n",
      "INFO:root:Step 300 | Train loss: 1.1562\n",
      "INFO:root:Step 300 | Validation accuracy: 0.5204\n",
      "INFO:root:Step 300 | Test accuracy: N/A\n",
      "INFO:root:Step 300 | Best Validation accuracy: 0.5204\n",
      "INFO:root:Step 300 | Best Test accuracy: N/A\n",
      "INFO:root:Step 300 | Best Iteration accuracy: 300.0000\n",
      "INFO:root: Eval time: 0.1346, Evaluation step: 300.\n",
      "INFO:root:Epoch 1 take 4.354 seconds\n",
      "INFO:root:Step 314 | Validation accuracy: 0.5180\n",
      "INFO:root:Step 314 | Test accuracy: N/A\n",
      "INFO:root:Step 314 | Best Validation accuracy: 0.5204\n",
      "INFO:root:Step 314 | Best Test accuracy: N/A\n",
      "INFO:root:Step 314 | Best Iteration accuracy: 300.0000\n",
      "INFO:root: Eval time: 0.1350, Evaluation step: 314.\n",
      "INFO:root:successfully save the model to a_save_path/epoch-1\n",
      "INFO:root:Time on save model: 0.002 seconds\n",
      "INFO:root:Part 0 | Epoch 00002 | Batch 000 | Loss: 1.1870 | Time: 0.0272\n",
      "INFO:root:Part 0 | Epoch 00002 | Batch 020 | Loss: 1.1708 | Time: 0.0252\n",
      "INFO:root:Part 0 | Epoch 00002 | Batch 040 | Loss: 1.4267 | Time: 0.0249\n",
      "INFO:root:Part 0 | Epoch 00002 | Batch 060 | Loss: 0.9560 | Time: 0.0247\n",
      "INFO:root:Part 0 | Epoch 00002 | Batch 080 | Loss: 1.0893 | Time: 0.0247\n",
      "INFO:root:Step 400 | Train loss: 1.1407\n",
      "INFO:root:Step 400 | Validation accuracy: 0.5460\n",
      "INFO:root:Step 400 | Test accuracy: N/A\n",
      "INFO:root:Step 400 | Best Validation accuracy: 0.5460\n",
      "INFO:root:Step 400 | Best Test accuracy: N/A\n",
      "INFO:root:Step 400 | Best Iteration accuracy: 400.0000\n",
      "INFO:root: Eval time: 0.1337, Evaluation step: 400.\n",
      "INFO:root:Part 0 | Epoch 00002 | Batch 100 | Loss: 1.0157 | Time: 0.0253\n",
      "INFO:root:Part 0 | Epoch 00002 | Batch 120 | Loss: 1.1995 | Time: 0.0258\n",
      "INFO:root:Part 0 | Epoch 00002 | Batch 140 | Loss: 1.5712 | Time: 0.0246\n",
      "INFO:root:Epoch 2 take 4.226 seconds\n",
      "INFO:root:Step 471 | Validation accuracy: 0.5412\n",
      "INFO:root:Step 471 | Test accuracy: N/A\n",
      "INFO:root:Step 471 | Best Validation accuracy: 0.5460\n",
      "INFO:root:Step 471 | Best Test accuracy: N/A\n",
      "INFO:root:Step 471 | Best Iteration accuracy: 400.0000\n",
      "INFO:root: Eval time: 0.1328, Evaluation step: 471.\n",
      "INFO:root:successfully save the model to a_save_path/epoch-2\n",
      "INFO:root:Time on save model: 0.002 seconds\n",
      "INFO:root:Part 0 | Epoch 00003 | Batch 000 | Loss: 1.1529 | Time: 0.0269\n",
      "INFO:root:Part 0 | Epoch 00003 | Batch 020 | Loss: 0.9476 | Time: 0.0241\n",
      "INFO:root:Step 500 | Train loss: 0.8648\n",
      "INFO:root:Step 500 | Validation accuracy: 0.5268\n",
      "INFO:root:Step 500 | Test accuracy: N/A\n",
      "INFO:root:Step 500 | Best Validation accuracy: 0.5460\n",
      "INFO:root:Step 500 | Best Test accuracy: N/A\n",
      "INFO:root:Step 500 | Best Iteration accuracy: 400.0000\n",
      "INFO:root: Eval time: 0.1316, Evaluation step: 500.\n",
      "INFO:root:Part 0 | Epoch 00003 | Batch 040 | Loss: 0.8999 | Time: 0.0254\n",
      "INFO:root:Part 0 | Epoch 00003 | Batch 060 | Loss: 0.9900 | Time: 0.0256\n",
      "INFO:root:Part 0 | Epoch 00003 | Batch 080 | Loss: 1.0276 | Time: 0.0245\n",
      "INFO:root:Part 0 | Epoch 00003 | Batch 100 | Loss: 0.9779 | Time: 0.0259\n",
      "INFO:root:Part 0 | Epoch 00003 | Batch 120 | Loss: 0.8519 | Time: 0.0241\n",
      "INFO:root:Step 600 | Train loss: 1.1073\n",
      "INFO:root:Step 600 | Validation accuracy: 0.5620\n",
      "INFO:root:Step 600 | Test accuracy: N/A\n",
      "INFO:root:Step 600 | Best Validation accuracy: 0.5620\n",
      "INFO:root:Step 600 | Best Test accuracy: N/A\n",
      "INFO:root:Step 600 | Best Iteration accuracy: 600.0000\n",
      "INFO:root: Eval time: 0.1429, Evaluation step: 600.\n",
      "INFO:root:Part 0 | Epoch 00003 | Batch 140 | Loss: 1.0021 | Time: 0.0250\n",
      "INFO:root:Epoch 3 take 4.332 seconds\n",
      "INFO:root:Step 628 | Validation accuracy: 0.5645\n",
      "INFO:root:Step 628 | Test accuracy: N/A\n",
      "INFO:root:Step 628 | Best Validation accuracy: 0.5645\n",
      "INFO:root:Step 628 | Best Test accuracy: N/A\n",
      "INFO:root:Step 628 | Best Iteration accuracy: 628.0000\n",
      "INFO:root: Eval time: 0.1377, Evaluation step: 628.\n",
      "INFO:root:successfully save the model to a_save_path/epoch-3\n",
      "INFO:root:Time on save model: 0.002 seconds\n",
      "INFO:root:Part 0 | Epoch 00004 | Batch 000 | Loss: 0.9663 | Time: 0.0276\n",
      "INFO:root:Part 0 | Epoch 00004 | Batch 020 | Loss: 0.7477 | Time: 0.0255\n",
      "INFO:root:Part 0 | Epoch 00004 | Batch 040 | Loss: 1.0785 | Time: 0.0252\n",
      "INFO:root:Part 0 | Epoch 00004 | Batch 060 | Loss: 0.9952 | Time: 0.0248\n",
      "INFO:root:Step 700 | Train loss: 0.8347\n",
      "INFO:root:Step 700 | Validation accuracy: 0.5516\n",
      "INFO:root:Step 700 | Test accuracy: N/A\n",
      "INFO:root:Step 700 | Best Validation accuracy: 0.5645\n",
      "INFO:root:Step 700 | Best Test accuracy: N/A\n",
      "INFO:root:Step 700 | Best Iteration accuracy: 628.0000\n",
      "INFO:root: Eval time: 0.1315, Evaluation step: 700.\n",
      "INFO:root:Part 0 | Epoch 00004 | Batch 080 | Loss: 0.8441 | Time: 0.0271\n",
      "INFO:root:Part 0 | Epoch 00004 | Batch 100 | Loss: 0.9032 | Time: 0.0246\n",
      "INFO:root:Part 0 | Epoch 00004 | Batch 120 | Loss: 0.8969 | Time: 0.0254\n",
      "INFO:root:Part 0 | Epoch 00004 | Batch 140 | Loss: 0.8176 | Time: 0.0244\n",
      "INFO:root:Epoch 4 take 4.162 seconds\n",
      "INFO:root:Step 785 | Validation accuracy: 0.5532\n",
      "INFO:root:Step 785 | Test accuracy: N/A\n",
      "INFO:root:Step 785 | Best Validation accuracy: 0.5645\n",
      "INFO:root:Step 785 | Best Test accuracy: N/A\n",
      "INFO:root:Step 785 | Best Iteration accuracy: 628.0000\n",
      "INFO:root: Eval time: 0.1288, Evaluation step: 785.\n",
      "INFO:root:Part 0 | Epoch 00005 | Batch 000 | Loss: 0.7567 | Time: 0.0263\n",
      "INFO:root:Step 800 | Train loss: 0.8186\n",
      "INFO:root:Step 800 | Validation accuracy: 0.5596\n",
      "INFO:root:Step 800 | Test accuracy: N/A\n",
      "INFO:root:Step 800 | Best Validation accuracy: 0.5645\n",
      "INFO:root:Step 800 | Best Test accuracy: N/A\n",
      "INFO:root:Step 800 | Best Iteration accuracy: 628.0000\n",
      "INFO:root: Eval time: 0.1307, Evaluation step: 800.\n",
      "INFO:root:Part 0 | Epoch 00005 | Batch 020 | Loss: 0.6625 | Time: 0.0245\n",
      "INFO:root:Part 0 | Epoch 00005 | Batch 040 | Loss: 0.8604 | Time: 0.0252\n",
      "INFO:root:Part 0 | Epoch 00005 | Batch 060 | Loss: 0.8359 | Time: 0.0257\n",
      "INFO:root:Part 0 | Epoch 00005 | Batch 080 | Loss: 1.0030 | Time: 0.0260\n",
      "INFO:root:Part 0 | Epoch 00005 | Batch 100 | Loss: 0.8860 | Time: 0.0267\n",
      "INFO:root:Step 900 | Train loss: 0.8684\n",
      "INFO:root:Step 900 | Validation accuracy: 0.5532\n",
      "INFO:root:Step 900 | Test accuracy: N/A\n",
      "INFO:root:Step 900 | Best Validation accuracy: 0.5645\n",
      "INFO:root:Step 900 | Best Test accuracy: N/A\n",
      "INFO:root:Step 900 | Best Iteration accuracy: 628.0000\n",
      "INFO:root: Eval time: 0.1293, Evaluation step: 900.\n",
      "INFO:root:Part 0 | Epoch 00005 | Batch 120 | Loss: 0.9851 | Time: 0.0252\n",
      "INFO:root:Part 0 | Epoch 00005 | Batch 140 | Loss: 0.7768 | Time: 0.0259\n",
      "INFO:root:Epoch 5 take 4.295 seconds\n",
      "INFO:root:Step 942 | Validation accuracy: 0.5677\n",
      "INFO:root:Step 942 | Test accuracy: N/A\n",
      "INFO:root:Step 942 | Best Validation accuracy: 0.5677\n",
      "INFO:root:Step 942 | Best Test accuracy: N/A\n",
      "INFO:root:Step 942 | Best Iteration accuracy: 942.0000\n",
      "INFO:root: Eval time: 0.1300, Evaluation step: 942.\n",
      "INFO:root:successfully save the model to a_save_path/epoch-5\n",
      "INFO:root:Time on save model: 0.002 seconds\n",
      "INFO:root:Part 0 | Epoch 00006 | Batch 000 | Loss: 0.7680 | Time: 0.0265\n",
      "INFO:root:Part 0 | Epoch 00006 | Batch 020 | Loss: 0.6418 | Time: 0.0273\n",
      "INFO:root:Part 0 | Epoch 00006 | Batch 040 | Loss: 0.6388 | Time: 0.0252\n",
      "INFO:root:Step 1000 | Train loss: 0.6325\n",
      "INFO:root:Step 1000 | Validation accuracy: 0.5508\n",
      "INFO:root:Step 1000 | Test accuracy: N/A\n",
      "INFO:root:Step 1000 | Best Validation accuracy: 0.5677\n",
      "INFO:root:Step 1000 | Best Test accuracy: N/A\n",
      "INFO:root:Step 1000 | Best Iteration accuracy: 942.0000\n",
      "INFO:root: Eval time: 0.1394, Evaluation step: 1000.\n",
      "INFO:root:Part 0 | Epoch 00006 | Batch 060 | Loss: 0.6459 | Time: 0.0270\n",
      "INFO:root:Part 0 | Epoch 00006 | Batch 080 | Loss: 0.7068 | Time: 0.0258\n",
      "INFO:root:Part 0 | Epoch 00006 | Batch 100 | Loss: 0.6940 | Time: 0.0246\n",
      "INFO:root:Part 0 | Epoch 00006 | Batch 120 | Loss: 0.6259 | Time: 0.0260\n",
      "INFO:root:Part 0 | Epoch 00006 | Batch 140 | Loss: 0.6857 | Time: 0.0251\n",
      "INFO:root:Epoch 6 take 4.210 seconds\n",
      "INFO:root:Step 1099 | Validation accuracy: 0.5572\n",
      "INFO:root:Step 1099 | Test accuracy: N/A\n",
      "INFO:root:Step 1099 | Best Validation accuracy: 0.5677\n",
      "INFO:root:Step 1099 | Best Test accuracy: N/A\n",
      "INFO:root:Step 1099 | Best Iteration accuracy: 942.0000\n",
      "INFO:root: Eval time: 0.1306, Evaluation step: 1099.\n",
      "INFO:root:Step 1100 | Train loss: 0.6573\n",
      "INFO:root:Part 0 | Epoch 00007 | Batch 000 | Loss: 0.6573 | Time: 0.0254\n",
      "INFO:root:Step 1100 | Validation accuracy: 0.5588\n",
      "INFO:root:Step 1100 | Test accuracy: N/A\n",
      "INFO:root:Step 1100 | Best Validation accuracy: 0.5677\n",
      "INFO:root:Step 1100 | Best Test accuracy: N/A\n",
      "INFO:root:Step 1100 | Best Iteration accuracy: 942.0000\n",
      "INFO:root: Eval time: 0.1308, Evaluation step: 1100.\n",
      "INFO:root:Part 0 | Epoch 00007 | Batch 020 | Loss: 0.5910 | Time: 0.0267\n",
      "INFO:root:Part 0 | Epoch 00007 | Batch 040 | Loss: 0.4835 | Time: 0.0243\n",
      "INFO:root:Part 0 | Epoch 00007 | Batch 060 | Loss: 0.6737 | Time: 0.0239\n",
      "INFO:root:Part 0 | Epoch 00007 | Batch 080 | Loss: 0.5328 | Time: 0.0262\n",
      "INFO:root:Step 1200 | Train loss: 0.6913\n",
      "INFO:root:Part 0 | Epoch 00007 | Batch 100 | Loss: 0.6913 | Time: 0.0254\n",
      "INFO:root:Step 1200 | Validation accuracy: 0.5548\n",
      "INFO:root:Step 1200 | Test accuracy: N/A\n",
      "INFO:root:Step 1200 | Best Validation accuracy: 0.5677\n",
      "INFO:root:Step 1200 | Best Test accuracy: N/A\n",
      "INFO:root:Step 1200 | Best Iteration accuracy: 942.0000\n",
      "INFO:root: Eval time: 0.1319, Evaluation step: 1200.\n",
      "INFO:root:Part 0 | Epoch 00007 | Batch 120 | Loss: 0.6152 | Time: 0.0257\n",
      "INFO:root:Part 0 | Epoch 00007 | Batch 140 | Loss: 0.5637 | Time: 0.0250\n",
      "INFO:root:Epoch 7 take 4.296 seconds\n",
      "INFO:root:Step 1256 | Validation accuracy: 0.5468\n",
      "INFO:root:Step 1256 | Test accuracy: N/A\n",
      "INFO:root:Step 1256 | Best Validation accuracy: 0.5677\n",
      "INFO:root:Step 1256 | Best Test accuracy: N/A\n",
      "INFO:root:Step 1256 | Best Iteration accuracy: 942.0000\n",
      "INFO:root: Eval time: 0.1286, Evaluation step: 1256.\n",
      "INFO:root:Part 0 | Epoch 00008 | Batch 000 | Loss: 0.5469 | Time: 0.0252\n",
      "INFO:root:Part 0 | Epoch 00008 | Batch 020 | Loss: 0.3859 | Time: 0.0266\n",
      "INFO:root:Part 0 | Epoch 00008 | Batch 040 | Loss: 0.4388 | Time: 0.0243\n",
      "INFO:root:Step 1300 | Train loss: 0.6346\n",
      "INFO:root:Step 1300 | Validation accuracy: 0.5460\n",
      "INFO:root:Step 1300 | Test accuracy: N/A\n",
      "INFO:root:Step 1300 | Best Validation accuracy: 0.5677\n",
      "INFO:root:Step 1300 | Best Test accuracy: N/A\n",
      "INFO:root:Step 1300 | Best Iteration accuracy: 942.0000\n",
      "INFO:root: Eval time: 0.1323, Evaluation step: 1300.\n",
      "INFO:root:Part 0 | Epoch 00008 | Batch 060 | Loss: 0.5363 | Time: 0.0241\n",
      "INFO:root:Part 0 | Epoch 00008 | Batch 080 | Loss: 0.5465 | Time: 0.0256\n",
      "INFO:root:Part 0 | Epoch 00008 | Batch 100 | Loss: 0.4115 | Time: 0.0257\n",
      "INFO:root:Part 0 | Epoch 00008 | Batch 120 | Loss: 0.5426 | Time: 0.0246\n",
      "INFO:root:Part 0 | Epoch 00008 | Batch 140 | Loss: 0.4299 | Time: 0.0272\n",
      "INFO:root:Step 1400 | Train loss: 0.8002\n",
      "INFO:root:Step 1400 | Validation accuracy: 0.5412\n",
      "INFO:root:Step 1400 | Test accuracy: N/A\n",
      "INFO:root:Step 1400 | Best Validation accuracy: 0.5677\n",
      "INFO:root:Step 1400 | Best Test accuracy: N/A\n",
      "INFO:root:Step 1400 | Best Iteration accuracy: 942.0000\n",
      "INFO:root: Eval time: 0.1449, Evaluation step: 1400.\n",
      "INFO:root:Epoch 8 take 4.387 seconds\n",
      "INFO:root:Step 1413 | Validation accuracy: 0.5380\n",
      "INFO:root:Step 1413 | Test accuracy: N/A\n",
      "INFO:root:Step 1413 | Best Validation accuracy: 0.5677\n",
      "INFO:root:Step 1413 | Best Test accuracy: N/A\n",
      "INFO:root:Step 1413 | Best Iteration accuracy: 942.0000\n",
      "INFO:root: Eval time: 0.1427, Evaluation step: 1413.\n",
      "INFO:root:Part 0 | Epoch 00009 | Batch 000 | Loss: 0.5611 | Time: 0.0280\n",
      "INFO:root:Part 0 | Epoch 00009 | Batch 020 | Loss: 0.5200 | Time: 0.0266\n",
      "INFO:root:Part 0 | Epoch 00009 | Batch 040 | Loss: 0.5029 | Time: 0.0254\n",
      "INFO:root:Part 0 | Epoch 00009 | Batch 060 | Loss: 0.5657 | Time: 0.0243\n",
      "INFO:root:Part 0 | Epoch 00009 | Batch 080 | Loss: 0.3919 | Time: 0.0249\n",
      "INFO:root:Step 1500 | Train loss: 0.4720\n",
      "INFO:root:Step 1500 | Validation accuracy: 0.5388\n",
      "INFO:root:Step 1500 | Test accuracy: N/A\n",
      "INFO:root:Step 1500 | Best Validation accuracy: 0.5677\n",
      "INFO:root:Step 1500 | Best Test accuracy: N/A\n",
      "INFO:root:Step 1500 | Best Iteration accuracy: 942.0000\n",
      "INFO:root: Eval time: 0.1335, Evaluation step: 1500.\n",
      "INFO:root:Part 0 | Epoch 00009 | Batch 100 | Loss: 0.4061 | Time: 0.0244\n",
      "INFO:root:Part 0 | Epoch 00009 | Batch 120 | Loss: 0.5152 | Time: 0.0249\n",
      "INFO:root:Part 0 | Epoch 00009 | Batch 140 | Loss: 0.4981 | Time: 0.0247\n",
      "INFO:root:Epoch 9 take 4.149 seconds\n",
      "INFO:root:Step 1570 | Validation accuracy: 0.5540\n",
      "INFO:root:Step 1570 | Test accuracy: N/A\n",
      "INFO:root:Step 1570 | Best Validation accuracy: 0.5677\n",
      "INFO:root:Step 1570 | Best Test accuracy: N/A\n",
      "INFO:root:Step 1570 | Best Iteration accuracy: 942.0000\n",
      "INFO:root: Eval time: 0.1306, Evaluation step: 1570.\n",
      "INFO:root:Peak RAM Mem alloc: 570.7109 MB\n",
      "INFO:root:best_test_score: {'accuracy': 'N/A'}\n",
      "INFO:root:best_val_score: {'accuracy': 0.567654123298639}\n",
      "INFO:root:peak_GPU_mem_alloc_MB: 0.0\n",
      "INFO:root:peak_RAM_mem_alloc_MB: 570.7109375\n",
      "INFO:root:best validation iteration: 942\n",
      "INFO:root:best model path: a_save_path/epoch-5\n"
     ]
    }
   ],
   "source": [
    "# Train the model with the trainer using fit() function\n",
    "trainer.fit(train_loader=train_dataloader,\n",
    "            val_loader=val_dataloader,\n",
    "            num_epochs=10,\n",
    "            save_model_path='a_save_path/')"
   ]
  },
  {
   "cell_type": "markdown",
   "metadata": {},
   "source": [
    "### (Optional) 5. Visualize Model Performance History\n",
    "\n",
    "Next, we examine the model performance on the validation, and testing over the training process."
   ]
  },
  {
   "cell_type": "code",
   "execution_count": 12,
   "metadata": {
    "tags": []
   },
   "outputs": [
    {
     "data": {
      "text/plain": [
       "<matplotlib.legend.Legend at 0x7f0e5b457a90>"
      ]
     },
     "execution_count": 12,
     "metadata": {},
     "output_type": "execute_result"
    },
    {
     "data": {
      "image/png": "[encoded data removed]",
      "text/plain": [
       "<Figure size 640x480 with 1 Axes>"
      ]
     },
     "metadata": {},
     "output_type": "display_data"
    }
   ],
   "source": [
    "import matplotlib.pyplot as plt\n",
    "\n",
    "# extract evaluation history of metrics from the trainer's evaluator:\n",
    "val_metrics, test_metrics = [], []\n",
    "for val_metric, test_metric in trainer.evaluator.history:\n",
    "    val_metrics.append(val_metric['accuracy'])\n",
    "    test_metrics.append(test_metric['accuracy'])\n",
    "\n",
    "# plot the performance curves\n",
    "fig, ax = plt.subplots()\n",
    "ax.plot(val_metrics, label='val')\n",
    "ax.plot(test_metrics, label='test')\n",
    "ax.set(xlabel='Epoch', ylabel='Accuracy')\n",
    "ax.legend(loc='best')"
   ]
  },
  {
   "cell_type": "markdown",
   "metadata": {},
   "source": [
    "### 6. Inference with the Trained Model\n",
    "\n",
    "GraphStorm automatically save the best performaned model in the given `save_model_path` argument. We can first find out what is the best model and its path."
   ]
  },
  {
   "cell_type": "code",
   "execution_count": 10,
   "metadata": {
    "tags": []
   },
   "outputs": [],
   "source": [
    "# after training, the best model is saved to disk:\n",
    "best_model_path = trainer.get_best_model_path()\n",
    "print('Best model path:', best_model_path)"
   ]
  },
  {
   "cell_type": "code",
   "execution_count": 11,
   "metadata": {},
   "outputs": [],
   "source": [
    "# we can restore the model from the saved path using the model's restore_model() function.\n",
    "model.restore_model(best_model_path)"
   ]
  },
  {
   "cell_type": "code",
   "execution_count": 12,
   "metadata": {},
   "outputs": [],
   "source": [
    "# Setup dataloader for inference\n",
    "infer_dataloader = GSgnnNodeDataLoader(dataset=acm_data,\n",
    "                                       target_idx=acm_data.test_idxs,\n",
    "                                       fanout=[50,50],\n",
    "                                       batch_size=100,\n",
    "                                       device=device,\n",
    "                                       train_task=False)\n",
    "# Create an Inferrer object\n",
    "infer = GSgnnNodePredictionInferrer(model)"
   ]
  },
  {
   "cell_type": "code",
   "execution_count": 13,
   "metadata": {},
   "outputs": [],
   "source": [
    "# Run inference on the inference dataset\n",
    "infer.infer(infer_dataloader,\n",
    "            save_embed_path='infer/embeddings',\n",
    "            save_prediction_path='infer/predictions',\n",
    "            use_mini_batch_infer=True)"
   ]
  },
  {
   "cell_type": "code",
   "execution_count": 14,
   "metadata": {},
   "outputs": [
    {
     "name": "stdout",
     "output_type": "stream",
     "text": [
      "total 640K\n",
      "-rw-rw-r-- 1 ubuntu ubuntu 626K Jan 26 20:54 embed-00000.pt\n",
      "-rw-rw-r-- 1 ubuntu ubuntu  11K Jan 26 20:54 embed_nids-00000.pt\n",
      "total 84K\n",
      "-rw-rw-r-- 1 ubuntu ubuntu 70K Jan 26 20:54 predict-00000.pt\n",
      "-rw-rw-r-- 1 ubuntu ubuntu 11K Jan 26 20:54 predict_nids-00000.pt\n"
     ]
    }
   ],
   "source": [
    "# The GNN embeddings and predictions on the inference graph are saved to the folder named after the target_ntype\n",
    "!ls -lh infer/embeddings/paper\n",
    "!ls -lh infer/predictions/paper"
   ]
  },
  {
   "cell_type": "code",
   "execution_count": null,
   "metadata": {},
   "outputs": [],
   "source": []
  }
 ],
 "metadata": {
  "kernelspec": {
   "display_name": "gsf",
   "language": "python",
   "name": "gsf"
  },
  "language_info": {
   "codemirror_mode": {
    "name": "ipython",
    "version": 3
   },
   "file_extension": ".py",
   "mimetype": "text/x-python",
   "name": "python",
   "nbconvert_exporter": "python",
   "pygments_lexer": "ipython3",
   "version": "3.9.18"
  }
 },
 "nbformat": 4,
 "nbformat_minor": 4
}
