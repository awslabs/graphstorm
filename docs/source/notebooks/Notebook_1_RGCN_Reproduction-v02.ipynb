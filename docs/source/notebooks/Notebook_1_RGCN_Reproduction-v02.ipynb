{
 "cells": [
  {
   "cell_type": "markdown",
   "metadata": {},
   "source": [
    "# Notebook 1: Reproduce RGCN Model with APIs\n",
    "\n",
    "This notebook demonstrates how to use GraphStorm's APIs to create graph machine learning pipelines. This notebooks are designed to run on GraphStorm's Standalone mode, i.e., in a single Linux machine with CPUs and GPUs. \n",
    "\n",
    "In this notebook, we willl reproduce the GraphStorm RGCN model with the nessessary APIs and use it to conduct a node classification task on the ACM dataset. By playing with this notebook, users will be able to get familiar with these APIs.\n",
    "\n",
    "### Prerequsites\n",
    "\n",
    "- GraphStorm installed using pip. Please find [more details on installation of GraphStorm](https://graphstorm.readthedocs.io/en/latest/install/env-setup.html#setup-graphstorm-with-pip-packages).\n",
    "- ACM data created in the [Notebook 0: Data Prepare](https://graphstorm.readthedocs.io/en/latest/notebooks/Notebook_0_Data_Prepare.html), and is stored in the `./acm_gs_1p/` folder.\n",
    "- Installation of supporting libraries, e.g., matplotlib."
   ]
  },
  {
   "cell_type": "code",
   "execution_count": 1,
   "metadata": {},
   "outputs": [],
   "source": [
    "# Setup log level in Jupyter Notebook\n",
    "import logging\n",
    "logging.basicConfig(level=20)"
   ]
  },
  {
   "cell_type": "markdown",
   "metadata": {},
   "source": [
    "---\n",
    "\n",
    "### 0. Initialize the GraphStorm Standalone Environment\n",
    "\n",
    "We might set default argument values in `gs.initialize()` for the Standalone mode."
   ]
  },
  {
   "cell_type": "code",
   "execution_count": 2,
   "metadata": {
    "tags": []
   },
   "outputs": [],
   "source": [
    "import graphstorm as gs\n",
    "gs.initialize()"
   ]
  },
  {
   "cell_type": "markdown",
   "metadata": {},
   "source": [
    "### 1. Setup GraphStorm Dataset and DataLoaders\n",
    "\n",
    "The role of `gs.dataset.GSgnnData` is mainly for loading and storing given partitioned graphs. The existing roles such as target node type, label field, and node feature for training/inference, will move to Dataloader classes. "
   ]
  },
  {
   "cell_type": "code",
   "execution_count": 3,
   "metadata": {
    "tags": []
   },
   "outputs": [],
   "source": [
    "# create a GraphStorm Dataset for the ACM graph data generated in the Notebook 0\n",
    "acm_data = gs.dataloading.GSgnnData(part_config='./acm_gs_1p/acm.json')"
   ]
  },
  {
   "cell_type": "markdown",
   "metadata": {},
   "source": [
    "`Dataloaders` take node feature dictionary and label field string. They do not handle features and labels, but pass these information to `Datasets`. And then `Datasets` retrieve related information and return to `Dataloaders`."
   ]
  },
  {
   "cell_type": "code",
   "execution_count": 4,
   "metadata": {
    "tags": []
   },
   "outputs": [
    {
     "name": "stderr",
     "output_type": "stream",
     "text": [
      "INFO:root:part 0, train 9999\n",
      "INFO:root:part 0, val 1249\n",
      "INFO:root:part 0, test 1249\n"
     ]
    }
   ],
   "source": [
    "# define dataloaders for training and validation\n",
    "nfeats_4_modeling = {'author':['feat'], 'paper':['feat'],'subject':['feat']}\n",
    "\n",
    "train_dataloader = gs.dataloading.GSgnnNodeDataLoader(\n",
    "    dataset=acm_data,\n",
    "    target_idx=acm_data.get_node_train_set(ntypes=['paper']),\n",
    "    node_feats=nfeats_4_modeling,\n",
    "    label_field='label',\n",
    "    fanout=[20, 20],\n",
    "    batch_size=64,\n",
    "    train_task=True)\n",
    "val_dataloader = gs.dataloading.GSgnnNodeDataLoader(\n",
    "    dataset=acm_data,\n",
    "    target_idx=acm_data.get_node_val_set(ntypes=['paper']),\n",
    "    node_feats=nfeats_4_modeling,\n",
    "    label_field='label',\n",
    "    fanout=[100, 100],\n",
    "    batch_size=256,\n",
    "    train_task=False)\n",
    "test_dataloader = gs.dataloading.GSgnnNodeDataLoader(\n",
    "    dataset=acm_data,\n",
    "    target_idx=acm_data.get_node_test_set(ntypes=['paper']),\n",
    "    node_feats=nfeats_4_modeling,\n",
    "    label_field='label',\n",
    "    fanout=[100, 100],\n",
    "    batch_size=256,\n",
    "    train_task=False)"
   ]
  },
  {
   "cell_type": "markdown",
   "metadata": {},
   "source": [
    "### 2. Create a GraphStorm-compatible RGCN Model for Node Classification \n",
    "\n",
    "This `Model` could be a customized model extends from `GSgnnModel` and implements required methods. The `GSgnnModel` has a few new API features."
   ]
  },
  {
   "cell_type": "code",
   "execution_count": 5,
   "metadata": {
    "tags": []
   },
   "outputs": [],
   "source": [
    "# import a simplified RGCN model for node classification\n",
    "from demo_models import RgcnNCModel\n",
    "\n",
    "model = RgcnNCModel(\n",
    "    g=acm_data.g,\n",
    "    num_hid_layers=2,\n",
    "    feat_size=gs.get_node_feat_size(acm_data.g, nfeats_4_modeling),\n",
    "    hid_size=128,\n",
    "    num_classes=14)"
   ]
  },
  {
   "cell_type": "markdown",
   "metadata": {},
   "source": [
    "### 3. Setup a GraphStorm Evaluator\n",
    "\n",
    "Now, `Evaluators` are task-oriented, i.e., `ClassificationEvaluator`, `RegressionEvaluator`, and `LPEvaluator`. And each Evaluator constructor could have a default evaluation metrics, i.e., `accuracy` for classification, `mse` for regression, and `mrr` for link prediction."
   ]
  },
  {
   "cell_type": "code",
   "execution_count": 6,
   "metadata": {
    "tags": []
   },
   "outputs": [],
   "source": [
    "# setup a Classification evaluator for the trainer\n",
    "evaluator = gs.eval.GSgnnClassificationEvaluator(eval_frequency=100)"
   ]
  },
  {
   "cell_type": "markdown",
   "metadata": {},
   "source": [
    "### 4. Setup a Trainer and Training"
   ]
  },
  {
   "cell_type": "code",
   "execution_count": 7,
   "metadata": {
    "scrolled": true,
    "tags": []
   },
   "outputs": [],
   "source": [
    "# create a GraphStorm node task trainer for the RGCN model\n",
    "trainer = gs.trainer.GSgnnNodePredictionTrainer(model)\n",
    "trainer.setup_evaluator(evaluator)\n",
    "trainer.setup_device(gs.utils.get_device())"
   ]
  },
  {
   "cell_type": "code",
   "execution_count": 8,
   "metadata": {
    "tags": []
   },
   "outputs": [
    {
     "name": "stderr",
     "output_type": "stream",
     "text": [
      "/home/ubuntu/anaconda3/envs/gsf/lib/python3.9/site-packages/dgl/backend/pytorch/tensor.py:445: UserWarning: TypedStorage is deprecated. It will be removed in the future and UntypedStorage will be the only storage class. This should only matter to you if you are using storages directly.  To access UntypedStorage directly, use tensor.untyped_storage() instead of tensor.storage()\n",
      "  assert input.numel() == input.storage().size(), (\n",
      "INFO:root:Part 0 | Epoch 00000 | Batch 000 | Loss: 2.6409 | Time: 0.1613\n",
      "INFO:root:Part 0 | Epoch 00000 | Batch 020 | Loss: 1.5550 | Time: 0.0373\n",
      "INFO:root:Part 0 | Epoch 00000 | Batch 040 | Loss: 1.6473 | Time: 0.0351\n",
      "INFO:root:Part 0 | Epoch 00000 | Batch 060 | Loss: 1.3423 | Time: 0.0381\n",
      "INFO:root:Part 0 | Epoch 00000 | Batch 080 | Loss: 1.5958 | Time: 0.0290\n",
      "INFO:root:Step 100 | Train loss: 1.4334\n",
      "INFO:root:Step 100 | Validation accuracy: 0.5028\n",
      "INFO:root:Step 100 | Test accuracy: 0.4804\n",
      "INFO:root:Step 100 | Best Validation accuracy: 0.5028\n",
      "INFO:root:Step 100 | Best Test accuracy: 0.4804\n",
      "INFO:root:Step 100 | Best Iteration accuracy: 100.0000\n",
      "INFO:root: Eval time: 0.3527, Evaluation step: 100.\n",
      "INFO:root:Part 0 | Epoch 00000 | Batch 100 | Loss: 1.3138 | Time: 0.0368\n",
      "INFO:root:Part 0 | Epoch 00000 | Batch 120 | Loss: 1.2595 | Time: 0.0280\n",
      "INFO:root:Part 0 | Epoch 00000 | Batch 140 | Loss: 1.2910 | Time: 0.0298\n",
      "INFO:root:Epoch 0 take 5.755 seconds\n",
      "INFO:root:Step 157 | Validation accuracy: 0.4924\n",
      "INFO:root:Step 157 | Test accuracy: 0.4996\n",
      "INFO:root:Step 157 | Best Validation accuracy: 0.5028\n",
      "INFO:root:Step 157 | Best Test accuracy: 0.4804\n",
      "INFO:root:Step 157 | Best Iteration accuracy: 100.0000\n",
      "INFO:root: Eval time: 0.3065, Evaluation step: 157.\n",
      "INFO:root:successfully save the model to a_save_path/epoch-0\n",
      "INFO:root:Time on save model: 0.003 seconds\n",
      "INFO:root:Part 0 | Epoch 00001 | Batch 000 | Loss: 1.2789 | Time: 0.0341\n",
      "INFO:root:Part 0 | Epoch 00001 | Batch 020 | Loss: 1.4204 | Time: 0.0327\n",
      "INFO:root:Part 0 | Epoch 00001 | Batch 040 | Loss: 1.3147 | Time: 0.0315\n",
      "INFO:root:Step 200 | Train loss: 1.2067\n",
      "INFO:root:Step 200 | Validation accuracy: 0.5092\n",
      "INFO:root:Step 200 | Test accuracy: 0.5068\n",
      "INFO:root:Step 200 | Best Validation accuracy: 0.5092\n",
      "INFO:root:Step 200 | Best Test accuracy: 0.5068\n",
      "INFO:root:Step 200 | Best Iteration accuracy: 200.0000\n",
      "INFO:root: Eval time: 0.3041, Evaluation step: 200.\n",
      "INFO:root:Part 0 | Epoch 00001 | Batch 060 | Loss: 1.4344 | Time: 0.0277\n",
      "INFO:root:Part 0 | Epoch 00001 | Batch 080 | Loss: 1.1245 | Time: 0.0285\n",
      "INFO:root:Part 0 | Epoch 00001 | Batch 100 | Loss: 1.1314 | Time: 0.0292\n",
      "INFO:root:Part 0 | Epoch 00001 | Batch 120 | Loss: 1.2192 | Time: 0.0304\n",
      "INFO:root:Part 0 | Epoch 00001 | Batch 140 | Loss: 1.5545 | Time: 0.0309\n",
      "INFO:root:Step 300 | Train loss: 1.3377\n",
      "INFO:root:Step 300 | Validation accuracy: 0.5252\n",
      "INFO:root:Step 300 | Test accuracy: 0.5156\n",
      "INFO:root:Step 300 | Best Validation accuracy: 0.5252\n",
      "INFO:root:Step 300 | Best Test accuracy: 0.5156\n",
      "INFO:root:Step 300 | Best Iteration accuracy: 300.0000\n",
      "INFO:root: Eval time: 0.3261, Evaluation step: 300.\n",
      "INFO:root:Epoch 1 take 5.418 seconds\n",
      "INFO:root:Step 314 | Validation accuracy: 0.5300\n",
      "INFO:root:Step 314 | Test accuracy: 0.5228\n",
      "INFO:root:Step 314 | Best Validation accuracy: 0.5300\n",
      "INFO:root:Step 314 | Best Test accuracy: 0.5228\n",
      "INFO:root:Step 314 | Best Iteration accuracy: 314.0000\n",
      "INFO:root: Eval time: 0.3045, Evaluation step: 314.\n",
      "INFO:root:successfully save the model to a_save_path/epoch-1\n",
      "INFO:root:Time on save model: 0.002 seconds\n",
      "INFO:root:Part 0 | Epoch 00002 | Batch 000 | Loss: 1.0404 | Time: 0.0303\n",
      "INFO:root:Part 0 | Epoch 00002 | Batch 020 | Loss: 1.2816 | Time: 0.0298\n",
      "INFO:root:Part 0 | Epoch 00002 | Batch 040 | Loss: 1.2364 | Time: 0.0319\n",
      "INFO:root:Part 0 | Epoch 00002 | Batch 060 | Loss: 1.2050 | Time: 0.0281\n",
      "INFO:root:Part 0 | Epoch 00002 | Batch 080 | Loss: 1.0942 | Time: 0.0274\n",
      "INFO:root:Step 400 | Train loss: 1.1139\n",
      "INFO:root:Step 400 | Validation accuracy: 0.5444\n",
      "INFO:root:Step 400 | Test accuracy: 0.5324\n",
      "INFO:root:Step 400 | Best Validation accuracy: 0.5444\n",
      "INFO:root:Step 400 | Best Test accuracy: 0.5324\n",
      "INFO:root:Step 400 | Best Iteration accuracy: 400.0000\n",
      "INFO:root: Eval time: 0.3005, Evaluation step: 400.\n",
      "INFO:root:Part 0 | Epoch 00002 | Batch 100 | Loss: 1.1763 | Time: 0.0270\n",
      "INFO:root:Part 0 | Epoch 00002 | Batch 120 | Loss: 1.0295 | Time: 0.0303\n",
      "INFO:root:Part 0 | Epoch 00002 | Batch 140 | Loss: 0.9557 | Time: 0.0330\n",
      "INFO:root:Epoch 2 take 4.974 seconds\n",
      "INFO:root:Step 471 | Validation accuracy: 0.5396\n",
      "INFO:root:Step 471 | Test accuracy: 0.5260\n",
      "INFO:root:Step 471 | Best Validation accuracy: 0.5444\n",
      "INFO:root:Step 471 | Best Test accuracy: 0.5324\n",
      "INFO:root:Step 471 | Best Iteration accuracy: 400.0000\n",
      "INFO:root: Eval time: 0.3016, Evaluation step: 471.\n",
      "INFO:root:successfully save the model to a_save_path/epoch-2\n",
      "INFO:root:Time on save model: 0.003 seconds\n",
      "INFO:root:Part 0 | Epoch 00003 | Batch 000 | Loss: 1.0176 | Time: 0.0360\n",
      "INFO:root:Part 0 | Epoch 00003 | Batch 020 | Loss: 1.1537 | Time: 0.0275\n",
      "INFO:root:Step 500 | Train loss: 1.1188\n",
      "INFO:root:Step 500 | Validation accuracy: 0.5404\n",
      "INFO:root:Step 500 | Test accuracy: 0.5324\n",
      "INFO:root:Step 500 | Best Validation accuracy: 0.5444\n",
      "INFO:root:Step 500 | Best Test accuracy: 0.5324\n",
      "INFO:root:Step 500 | Best Iteration accuracy: 400.0000\n",
      "INFO:root: Eval time: 0.3121, Evaluation step: 500.\n",
      "INFO:root:Part 0 | Epoch 00003 | Batch 040 | Loss: 1.0988 | Time: 0.0353\n",
      "INFO:root:Part 0 | Epoch 00003 | Batch 060 | Loss: 1.2045 | Time: 0.0341\n",
      "INFO:root:Part 0 | Epoch 00003 | Batch 080 | Loss: 0.9636 | Time: 0.0286\n",
      "INFO:root:Part 0 | Epoch 00003 | Batch 100 | Loss: 0.9909 | Time: 0.0280\n",
      "INFO:root:Part 0 | Epoch 00003 | Batch 120 | Loss: 1.0588 | Time: 0.0294\n",
      "INFO:root:Step 600 | Train loss: 1.1919\n",
      "INFO:root:Step 600 | Validation accuracy: 0.5572\n",
      "INFO:root:Step 600 | Test accuracy: 0.5356\n",
      "INFO:root:Step 600 | Best Validation accuracy: 0.5572\n",
      "INFO:root:Step 600 | Best Test accuracy: 0.5356\n",
      "INFO:root:Step 600 | Best Iteration accuracy: 600.0000\n",
      "INFO:root: Eval time: 0.3103, Evaluation step: 600.\n",
      "INFO:root:Part 0 | Epoch 00003 | Batch 140 | Loss: 0.9209 | Time: 0.0335\n",
      "INFO:root:Epoch 3 take 5.396 seconds\n",
      "INFO:root:Step 628 | Validation accuracy: 0.5500\n",
      "INFO:root:Step 628 | Test accuracy: 0.5380\n",
      "INFO:root:Step 628 | Best Validation accuracy: 0.5572\n",
      "INFO:root:Step 628 | Best Test accuracy: 0.5356\n",
      "INFO:root:Step 628 | Best Iteration accuracy: 600.0000\n",
      "INFO:root: Eval time: 0.3671, Evaluation step: 628.\n",
      "INFO:root:successfully save the model to a_save_path/epoch-3\n",
      "INFO:root:Time on save model: 0.002 seconds\n",
      "INFO:root:Part 0 | Epoch 00004 | Batch 000 | Loss: 0.9349 | Time: 0.0336\n",
      "INFO:root:Part 0 | Epoch 00004 | Batch 020 | Loss: 0.8208 | Time: 0.0331\n",
      "INFO:root:Part 0 | Epoch 00004 | Batch 040 | Loss: 0.7973 | Time: 0.0275\n",
      "INFO:root:Part 0 | Epoch 00004 | Batch 060 | Loss: 0.7948 | Time: 0.0333\n",
      "INFO:root:Step 700 | Train loss: 1.0392\n",
      "INFO:root:Step 700 | Validation accuracy: 0.5677\n",
      "INFO:root:Step 700 | Test accuracy: 0.5452\n",
      "INFO:root:Step 700 | Best Validation accuracy: 0.5677\n",
      "INFO:root:Step 700 | Best Test accuracy: 0.5452\n",
      "INFO:root:Step 700 | Best Iteration accuracy: 700.0000\n",
      "INFO:root: Eval time: 0.3025, Evaluation step: 700.\n",
      "INFO:root:Part 0 | Epoch 00004 | Batch 080 | Loss: 0.9276 | Time: 0.0275\n",
      "INFO:root:Part 0 | Epoch 00004 | Batch 100 | Loss: 1.0058 | Time: 0.0284\n",
      "INFO:root:Part 0 | Epoch 00004 | Batch 120 | Loss: 0.9275 | Time: 0.0293\n",
      "INFO:root:Part 0 | Epoch 00004 | Batch 140 | Loss: 0.9704 | Time: 0.0274\n",
      "INFO:root:Epoch 4 take 5.035 seconds\n",
      "INFO:root:Step 785 | Validation accuracy: 0.5444\n",
      "INFO:root:Step 785 | Test accuracy: 0.5540\n",
      "INFO:root:Step 785 | Best Validation accuracy: 0.5677\n",
      "INFO:root:Step 785 | Best Test accuracy: 0.5452\n",
      "INFO:root:Step 785 | Best Iteration accuracy: 700.0000\n",
      "INFO:root: Eval time: 0.3065, Evaluation step: 785.\n",
      "INFO:root:Peak RAM Mem alloc: 554.1836 MB\n",
      "INFO:root:best_test_score: {'accuracy': 0.5452361889511609}\n",
      "INFO:root:best_val_score: {'accuracy': 0.567654123298639}\n",
      "INFO:root:peak_GPU_mem_alloc_MB: 0.0\n",
      "INFO:root:peak_RAM_mem_alloc_MB: 554.18359375\n",
      "INFO:root:best validation iteration: 700\n",
      "INFO:root:best model path: a_save_path/epoch-3\n"
     ]
    }
   ],
   "source": [
    "# Train the model with the trainer using fit() function\n",
    "trainer.fit(train_loader=train_dataloader,\n",
    "            val_loader=val_dataloader,\n",
    "            test_loader=test_dataloader,\n",
    "            num_epochs=5,\n",
    "            save_model_path='a_save_path/')"
   ]
  },
  {
   "cell_type": "markdown",
   "metadata": {},
   "source": [
    "### (Optional) 5. Visualize Model Performance History\n",
    "\n",
    "Next, we examine the model performance on the validation, and testing over the training process."
   ]
  },
  {
   "cell_type": "code",
   "execution_count": 9,
   "metadata": {
    "tags": []
   },
   "outputs": [
    {
     "data": {
      "text/plain": [
       "<matplotlib.legend.Legend at 0x7f0afe3460d0>"
      ]
     },
     "execution_count": 9,
     "metadata": {},
     "output_type": "execute_result"
    },
    {
     "data": {
      "image/png": "[encoded data removed]",
      "text/plain": [
       "<Figure size 640x480 with 1 Axes>"
      ]
     },
     "metadata": {},
     "output_type": "display_data"
    }
   ],
   "source": [
    "import matplotlib.pyplot as plt\n",
    "\n",
    "# extract evaluation history of metrics from the trainer's evaluator:\n",
    "val_metrics, test_metrics = [], []\n",
    "for val_metric, test_metric in trainer.evaluator.history:\n",
    "    val_metrics.append(val_metric['accuracy'])\n",
    "    test_metrics.append(test_metric['accuracy'])\n",
    "\n",
    "# plot the performance curves\n",
    "fig, ax = plt.subplots()\n",
    "ax.plot(val_metrics, label='val')\n",
    "ax.plot(test_metrics, label='test')\n",
    "ax.set(xlabel='Epoch', ylabel='Accuracy')\n",
    "ax.legend(loc='best')"
   ]
  },
  {
   "cell_type": "markdown",
   "metadata": {},
   "source": [
    "### 6. Inference with the Trained Model\n",
    "\n",
    "GraphStorm automatically save the best performaned model in the given `save_model_path` argument. We can first find out what is the best model and its path."
   ]
  },
  {
   "cell_type": "code",
   "execution_count": 10,
   "metadata": {
    "tags": []
   },
   "outputs": [
    {
     "name": "stdout",
     "output_type": "stream",
     "text": [
      "Best model path: a_save_path/epoch-3\n"
     ]
    }
   ],
   "source": [
    "# after training, the best model is saved to disk:\n",
    "best_model_path = trainer.get_best_model_path()\n",
    "print('Best model path:', best_model_path)"
   ]
  },
  {
   "cell_type": "code",
   "execution_count": 11,
   "metadata": {},
   "outputs": [
    {
     "name": "stderr",
     "output_type": "stream",
     "text": [
      "INFO:root:successfully load the model from a_save_path/epoch-3\n",
      "INFO:root:Time on load model: 0.005 seconds\n"
     ]
    }
   ],
   "source": [
    "# we can restore the model from the saved path using the model's restore_model() function.\n",
    "model.restore_model(best_model_path)"
   ]
  },
  {
   "cell_type": "code",
   "execution_count": 12,
   "metadata": {},
   "outputs": [
    {
     "name": "stderr",
     "output_type": "stream",
     "text": [
      "INFO:root:part 0, test 1249\n"
     ]
    }
   ],
   "source": [
    "# Setup dataloader for inference\n",
    "infer_dataloader = gs.dataloading.GSgnnNodeDataLoader(dataset=acm_data,\n",
    "                                                      target_idx=acm_data.get_node_test_set(ntypes=['paper']),\n",
    "                                                      node_feats=nfeats_4_modeling,\n",
    "                                                      label_field='label',\n",
    "                                                      fanout=[100, 100],\n",
    "                                                      batch_size=256,\n",
    "                                                      train_task=False)\n",
    "# Create an Inferrer object\n",
    "infer = gs.inference.GSgnnNodePredictionInferrer(model)"
   ]
  },
  {
   "cell_type": "code",
   "execution_count": 13,
   "metadata": {},
   "outputs": [
    {
     "name": "stderr",
     "output_type": "stream",
     "text": [
      "INFO:root:save embeddings pf paper to infer/embeddings\n",
      "INFO:root:Writing GNN embeddings to infer/embeddings in pytorch format.\n"
     ]
    }
   ],
   "source": [
    "# Run inference on the inference dataset\n",
    "infer.infer(infer_dataloader,\n",
    "            save_embed_path='infer/embeddings',\n",
    "            save_prediction_path='infer/predictions',\n",
    "            use_mini_batch_infer=True)"
   ]
  },
  {
   "cell_type": "code",
   "execution_count": 14,
   "metadata": {},
   "outputs": [
    {
     "name": "stdout",
     "output_type": "stream",
     "text": [
      "total 640K\n",
      "-rw-rw-r-- 1 ubuntu ubuntu 626K May  8 05:17 embed-00000.pt\n",
      "-rw-rw-r-- 1 ubuntu ubuntu  11K May  8 05:17 embed_nids-00000.pt\n",
      "total 84K\n",
      "-rw-rw-r-- 1 ubuntu ubuntu 70K May  8 05:17 predict-00000.pt\n",
      "-rw-rw-r-- 1 ubuntu ubuntu 11K May  8 05:17 predict_nids-00000.pt\n"
     ]
    }
   ],
   "source": [
    "# The GNN embeddings and predictions on the inference graph are saved to the folder named after the target_ntype\n",
    "!ls -lh infer/embeddings/paper\n",
    "!ls -lh infer/predictions/paper"
   ]
  },
  {
   "cell_type": "code",
   "execution_count": null,
   "metadata": {},
   "outputs": [],
   "source": []
  }
 ],
 "metadata": {
  "kernelspec": {
   "display_name": "gsf",
   "language": "python",
   "name": "gsf"
  },
  "language_info": {
   "codemirror_mode": {
    "name": "ipython",
    "version": 3
   },
   "file_extension": ".py",
   "mimetype": "text/x-python",
   "name": "python",
   "nbconvert_exporter": "python",
   "pygments_lexer": "ipython3",
   "version": "3.9.18"
  }
 },
 "nbformat": 4,
 "nbformat_minor": 4
}
