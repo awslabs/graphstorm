{
 "cells": [
  {
   "cell_type": "markdown",
   "id": "9f7fa7f2-8b5c-4690-8f5b-800dee3f8e86",
   "metadata": {},
   "source": [
    "# Graphstorm PyTorch Lightning Demonstration - Node Classification\n",
    "\n",
    "In this notebook, we'll demonstrate how to use Graphstorm with [PyTorch Lightning](https://lightning.ai/docs/pytorch/stable) for Node Classification.\n",
    "\n",
    "---\n",
    "\n",
    "## Setup \n",
    "\n",
    "Please follow the README.md in graphstorm-lightning/examples."
   ]
  },
  {
   "cell_type": "code",
   "execution_count": 1,
   "id": "af273d51-441d-4bd9-933e-146d7a6c9eff",
   "metadata": {},
   "outputs": [],
   "source": [
    "import yaml\n",
    "import graphstorm as gs\n",
    "import graphstorm_lightning as gsl\n",
    "import pytorch_lightning as pl\n",
    "import requests\n",
    "from pathlib import Path"
   ]
  },
  {
   "cell_type": "code",
   "execution_count": 2,
   "id": "a631c359-b1f9-4fed-88fb-1117b41c421f",
   "metadata": {},
   "outputs": [],
   "source": [
    "num_nodes = 1"
   ]
  },
  {
   "cell_type": "markdown",
   "id": "6f8402f3-8979-4e11-986b-1020d3eba061",
   "metadata": {},
   "source": [
    "---\n",
    "\n",
    "## Data Preparation\n",
    "\n",
    "In this notebook we'll create ACM graph dataset following [this guide](https://graphstorm.readthedocs.io/en/latest/tutorials/own-data.html)."
   ]
  },
  {
   "cell_type": "code",
   "execution_count": 3,
   "id": "fce80697-7bab-4241-b2e0-aed483958de9",
   "metadata": {},
   "outputs": [
    {
     "name": "stdout",
     "output_type": "stream",
     "text": [
      "Namespace(download_path='/tmp/ACM.mat', dataset_name='acm', output_type='raw', output_path='/tmp/acm_raw')\n",
      "Graph(num_nodes={'author': 17431, 'paper': 12499, 'subject': 73},\n",
      "      num_edges={('author', 'writing', 'paper'): 37055, ('paper', 'cited', 'paper'): 30789, ('paper', 'citing', 'paper'): 30789, ('paper', 'is-about', 'subject'): 12499, ('paper', 'written-by', 'author'): 37055, ('subject', 'has', 'paper'): 12499},\n",
      "      metagraph=[('author', 'paper', 'writing'), ('paper', 'paper', 'cited'), ('paper', 'paper', 'citing'), ('paper', 'subject', 'is-about'), ('paper', 'author', 'written-by'), ('subject', 'paper', 'has')])\n",
      "\n",
      " Number of classes: 14\n",
      "\n",
      " Paper node labels: torch.Size([12499])\n",
      "\n",
      " ('paper', 'citing', 'paper') edge labels:30789\n",
      "Saving ACM data to /tmp/acm.dgl ......\n",
      "/tmp/acm.dgl saved.\n",
      "Saving ACM node text to /tmp/acm_text.pkl ......\n",
      "/tmp/acm_text.pkl saved.\n",
      "author nodes have: Index(['node_id', 'feat'], dtype='object') columns ......\n",
      "paper nodes have: Index(['node_id', 'label', 'feat'], dtype='object') columns ......\n",
      "subject nodes have: Index(['node_id', 'feat'], dtype='object') columns ......\n",
      "Saved author node data to /tmp/acm_raw/nodes/author.parquet.\n",
      "Saved paper node data to /tmp/acm_raw/nodes/paper.parquet.\n",
      "Saved subject node data to /tmp/acm_raw/nodes/subject.parquet.\n",
      "Saved ('author', 'writing', 'paper') edge data to /tmp/acm_raw/edges/author_writing_paper.parquet\n",
      "Saved ('paper', 'cited', 'paper') edge data to /tmp/acm_raw/edges/paper_cited_paper.parquet\n",
      "Saved ('paper', 'citing', 'paper') edge data to /tmp/acm_raw/edges/paper_citing_paper.parquet\n",
      "Saved ('paper', 'is-about', 'subject') edge data to /tmp/acm_raw/edges/paper_is-about_subject.parquet\n",
      "Saved ('paper', 'written-by', 'author') edge data to /tmp/acm_raw/edges/paper_written-by_author.parquet\n",
      "Saved ('subject', 'has', 'paper') edge data to /tmp/acm_raw/edges/subject_has_paper.parquet\n"
     ]
    }
   ],
   "source": [
    "acm_raw = Path(\"/tmp/acm_raw\")\n",
    "if not acm_raw.exists():\n",
    "    acm_raw.mkdir(parents=True)\n",
    "    \n",
    "    # get dataset creation script\n",
    "    url = \"https://raw.githubusercontent.com/awslabs/graphstorm/main/examples/acm_data.py\"\n",
    "    acm_data = acm_raw / \"acm_data.py\"\n",
    "    response = requests.get(url)\n",
    "    assert response.status_code == 200\n",
    "    with open(acm_data, \"wb\") as f:\n",
    "        f.write(response.content)\n",
    "\n",
    "    !python {acm_data} --output-path {acm_raw}"
   ]
  },
  {
   "cell_type": "code",
   "execution_count": 4,
   "id": "97de6ba9-576a-45a5-bf02-b5c9dfbb29cb",
   "metadata": {},
   "outputs": [],
   "source": [
    "acm_gs = \"/tmp/acm_gs\"\n",
    "if not Path(acm_gs).exists():\n",
    "    !python -m graphstorm.gconstruct.construct_graph \\\n",
    "              --conf-file {acm_raw}/config.json \\\n",
    "              --output-dir {acm_gs} \\\n",
    "              --num-parts {num_nodes} \\\n",
    "              --graph-name acm"
   ]
  },
  {
   "cell_type": "markdown",
   "id": "b4fa1233-844e-47c3-aee1-a4cb7402aef4",
   "metadata": {},
   "source": [
    "---\n",
    "\n",
    "## Model Training"
   ]
  },
  {
   "cell_type": "code",
   "execution_count": 5,
   "id": "c876825c-0810-42ad-a522-fa28cd71b8db",
   "metadata": {},
   "outputs": [
    {
     "name": "stderr",
     "output_type": "stream",
     "text": [
      "Trainer will use only 1 of 4 GPUs because it is running inside an interactive / notebook environment. You may try to set `Trainer(devices=4)` but please note that multi-GPU inside interactive / notebook environments is considered experimental and unstable. Your mileage may vary.\n",
      "GPU available: True (cuda), used: True\n",
      "TPU available: False, using: 0 TPU cores\n",
      "IPU available: False, using: 0 IPUs\n",
      "HPU available: False, using: 0 HPUs\n",
      "/root/.cache/pypoetry/virtualenvs/graphstorm-lightning-5me8nBHW-py3.10/lib/python3.10/site-packages/pytorch_lightning/trainer/connectors/logger_connector/logger_connector.py:75: Starting from v1.9.0, `tensorboardX` has been removed as a dependency of the `pytorch_lightning` package, due to potential conflicts with other packages in the ML ecosystem. For this reason, `logger=True` will use `CSVLogger` as the default logger, unless the `tensorboard` or `tensorboardX` packages are found. Please `pip install lightning[extra]` or one of them to enable TensorBoard support by default\n"
     ]
    }
   ],
   "source": [
    "# Works in Jupyter, Colab and Kaggle!\n",
    "trainer = pl.Trainer(accelerator=\"auto\", devices=\"auto\", max_epochs=2)"
   ]
  },
  {
   "cell_type": "code",
   "execution_count": 6,
   "id": "892318da-050b-423c-b2e7-8b9bdd415998",
   "metadata": {},
   "outputs": [],
   "source": [
    "config = yaml.safe_load(f\"\"\"\n",
    "  gsf:\n",
    "    basic:\n",
    "      graph_name: acm\n",
    "      part_config: /tmp/acm_nc_{num_nodes}p/acm.json\n",
    "      model_encoder_type: rgcn\n",
    "    gnn:\n",
    "      fanout: \"15,10\"\n",
    "      num_layers: 2\n",
    "      hidden_size: 128\n",
    "      use_mini_batch_infer: false\n",
    "    input:\n",
    "      restore_model_path: null\n",
    "    output:\n",
    "      save_model_path: null\n",
    "      save_embed_path: null\n",
    "    hyperparam:\n",
    "      dropout: 0.5\n",
    "      lr: 0.001\n",
    "      num_epochs: 10\n",
    "      batch_size: 1024\n",
    "      wd_l2norm: 0\n",
    "    rgcn:\n",
    "      num_bases: -1\n",
    "      use_self_loop: true\n",
    "      sparse_optimizer_lr: 1e-2\n",
    "      use_node_embeddings: false\n",
    "    node_classification:\n",
    "      node_feat_name:\n",
    "        - paper:feat\n",
    "        - author:feat\n",
    "        - subject:feat\n",
    "      target_ntype: paper\n",
    "      label_field: label\n",
    "      multilabel: false\n",
    "      num_classes: 40\n",
    "      eval_metric:\n",
    "        - accuracy\n",
    "\"\"\")"
   ]
  },
  {
   "cell_type": "code",
   "execution_count": 7,
   "id": "21fa3903-22b6-4c7b-8c9a-ed104f1f1410",
   "metadata": {},
   "outputs": [],
   "source": [
    "datamodule = gsl.datamodule.GSgnnNodeTrainDataModule(trainer=trainer, config=config, graph_data_uri=acm_gs)"
   ]
  },
  {
   "cell_type": "code",
   "execution_count": 8,
   "id": "2dff0714-f93e-49a8-bea5-b7947e21ee9e",
   "metadata": {},
   "outputs": [],
   "source": [
    "model = gsl.module.GSgnnNodeModel(datamodule=datamodule, config=config)"
   ]
  },
  {
   "cell_type": "code",
   "execution_count": 9,
   "id": "03ad74a4-6fe2-4914-8bc1-a354ed4f092d",
   "metadata": {},
   "outputs": [
    {
     "name": "stderr",
     "output_type": "stream",
     "text": [
      "/root/.cache/pypoetry/virtualenvs/graphstorm-lightning-5me8nBHW-py3.10/lib/python3.10/site-packages/dgl/distributed/dist_context.py:248: net_type is deprecated and will be removed in future release.\n",
      "INFO:root:Start to load partition from /tmp/acm_nc_1p/part0/graph.dgl which is 5055161 bytes. It may take non-trivial time for large partition.\n",
      "INFO:root:Finished loading partition from /tmp/acm_nc_1p/part0/graph.dgl.\n",
      "INFO:root:Finished loading node data.\n",
      "INFO:root:Finished loading edge data.\n",
      "INFO:root:part 0, train: 9999, val: 1249, test: 1249\n",
      "LOCAL_RANK: 0 - CUDA_VISIBLE_DEVICES: [0,1,2,3]\n"
     ]
    },
    {
     "name": "stdout",
     "output_type": "stream",
     "text": [
      "Initialize the distributed services with graphbolt: False\n"
     ]
    },
    {
     "name": "stderr",
     "output_type": "stream",
     "text": [
      "\n",
      "  | Name  | Type           | Params\n",
      "-----------------------------------------\n",
      "0 | model | GSgnnNodeModel | 333 K \n",
      "-----------------------------------------\n",
      "333 K     Trainable params\n",
      "0         Non-trainable params\n",
      "333 K     Total params\n",
      "1.332     Total estimated model params size (MB)\n"
     ]
    },
    {
     "data": {
      "application/vnd.jupyter.widget-view+json": {
       "model_id": "",
       "version_major": 2,
       "version_minor": 0
      },
      "text/plain": [
       "Sanity Checking: |                                                                                            …"
      ]
     },
     "metadata": {},
     "output_type": "display_data"
    },
    {
     "name": "stderr",
     "output_type": "stream",
     "text": [
      "INFO:root:[Rank 0] dist_inference: finishes 0 iterations.\n",
      "INFO:root:[Rank 0] dist_inference: finishes 0 iterations.\n",
      "/root/.cache/pypoetry/virtualenvs/graphstorm-lightning-5me8nBHW-py3.10/lib/python3.10/site-packages/pytorch_lightning/loops/fit_loop.py:298: The number of training batches (10) is smaller than the logging interval Trainer(log_every_n_steps=50). Set a lower value for log_every_n_steps if you want to see logs for the training epoch.\n"
     ]
    },
    {
     "data": {
      "application/vnd.jupyter.widget-view+json": {
       "model_id": "e64dc622c02d499b9b4c184472287701",
       "version_major": 2,
       "version_minor": 0
      },
      "text/plain": [
       "Training: |                                                                                                   …"
      ]
     },
     "metadata": {},
     "output_type": "display_data"
    },
    {
     "data": {
      "application/vnd.jupyter.widget-view+json": {
       "model_id": "",
       "version_major": 2,
       "version_minor": 0
      },
      "text/plain": [
       "Validation: |                                                                                                 …"
      ]
     },
     "metadata": {},
     "output_type": "display_data"
    },
    {
     "name": "stderr",
     "output_type": "stream",
     "text": [
      "INFO:root:[Rank 0] dist_inference: finishes 0 iterations.\n",
      "INFO:root:[Rank 0] dist_inference: finishes 0 iterations.\n"
     ]
    },
    {
     "data": {
      "application/vnd.jupyter.widget-view+json": {
       "model_id": "",
       "version_major": 2,
       "version_minor": 0
      },
      "text/plain": [
       "Validation: |                                                                                                 …"
      ]
     },
     "metadata": {},
     "output_type": "display_data"
    },
    {
     "name": "stderr",
     "output_type": "stream",
     "text": [
      "INFO:root:[Rank 0] dist_inference: finishes 0 iterations.\n",
      "INFO:root:[Rank 0] dist_inference: finishes 0 iterations.\n",
      "`Trainer.fit` stopped: `max_epochs=2` reached.\n"
     ]
    }
   ],
   "source": [
    "trainer.fit(model=model, datamodule=datamodule)"
   ]
  }
 ],
 "metadata": {
  "kernelspec": {
   "display_name": "graphstorm_lightning",
   "language": "python",
   "name": "graphstorm_lightning"
  },
  "language_info": {
   "codemirror_mode": {
    "name": "ipython",
    "version": 3
   },
   "file_extension": ".py",
   "mimetype": "text/x-python",
   "name": "python",
   "nbconvert_exporter": "python",
   "pygments_lexer": "ipython3",
   "version": "3.10.8"
  }
 },
 "nbformat": 4,
 "nbformat_minor": 5
}
