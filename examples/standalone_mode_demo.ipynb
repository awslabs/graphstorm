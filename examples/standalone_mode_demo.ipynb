{
 "cells": [
  {
   "attachments": {},
   "cell_type": "markdown",
   "metadata": {},
   "source": [
    "# Graphstorm Standalone Mode Demonstration\n",
    "\n",
    "## Setup (option 0): \n",
    "\n",
    "Run these codes in python REPL instead of Jupyter notebook. Please follow the instructions on creating a Graphstorm docker image, and start running the docker image. \n",
    "```bash\n",
    "nvidia-docker run \\\n",
    "    -v /mnt/efs/gsf-data:/data \\\n",
    "    --network=host \\\n",
    "    -d graphstorm:0712\n",
    "```\n",
    "\n",
    "After you have a running Docker container, run the following to start the Python REPL:\n",
    "\n",
    "```bash\n",
    "docker exec -it test /usr/bin/python3\n",
    "```\n",
    "\n",
    "## Setup (option 1): \n",
    "Run this in the Graphstorm docker images with Jupyter support.\n",
    "\n",
    "### Build a GraphStorm Docker image from source code\n",
    "\n",
    "Please use the following command to build a Docker image from source:\n",
    "\n",
    "```bash\n",
    "git clone https://github.com/awslabs/graphstorm.git\n",
    "cd /path-to-graphstorm/docker/\n",
    "docker build --no-cache -f docker/Dockerfile.jupyter\" . -t graphstorm:jupyter\n",
    "```\n",
    "\n",
    "### Create a GraphStorm Jupyter Server\n",
    "\n",
    "To start the image, run the following command:\n",
    "\n",
    "```bash\n",
    "nvidia-docker run --network=host -v /dev/shm:/dev/shm/ -d --name test graphstorm:jupyter\n",
    "```\n",
    "\n",
    "The jupyter server with Graphstorm installed will be running on port 8888.\n",
    "\n",
    "### Connect notebook to the Jupyter server\n",
    "\n",
    "TODO\n"
   ]
  },
  {
   "cell_type": "code",
   "execution_count": null,
   "metadata": {},
   "outputs": [],
   "source": [
    "%%bash\n",
    "python3 $GS_HOME/python/graphstorm/run/gsgnn_np/gsgnn_np.py \\\n",
    "    --part-config /data/movielen_100k_train_val_1p_4t/movie-lens-100k.json \\\n",
    "    --cf $GS_HOME/training_scripts/gsgnn_np/ml_nc.yaml\n"
   ]
  },
  {
   "attachments": {},
   "cell_type": "markdown",
   "metadata": {},
   "source": [
    "## Node classification"
   ]
  },
  {
   "cell_type": "code",
   "execution_count": null,
   "metadata": {},
   "outputs": [],
   "source": [
    "import os\n",
    "import torch as th\n",
    "# import gs related stuffs\n",
    "import graphstorm as gs\n",
    "# from graphstorm.config import get_argument_parser\n",
    "# from graphstorm.config import GSConfig\n",
    "from graphstorm.trainer import GSgnnNodePredictionTrainer\n",
    "from graphstorm.dataloading import GSgnnNodeTrainData, GSgnnNodeDataLoader\n",
    "from graphstorm.eval import GSgnnAccEvaluator\n",
    "from graphstorm.eval import GSgnnRegressionEvaluator\n",
    "from graphstorm.model.utils import save_embeddings\n",
    "from graphstorm.model import do_full_graph_inference\n",
    "from graphstorm.utils import rt_profiler, sys_tracker\n",
    "# setup_device\n",
    "# from graphstorm.run.gsgnn_np import get_evaluator"
   ]
  },
  {
   "cell_type": "code",
   "execution_count": null,
   "metadata": {},
   "outputs": [],
   "source": [
    "device = 'cuda:0' if th.cuda.is_available() else 'cpu'"
   ]
  },
  {
   "cell_type": "code",
   "execution_count": null,
   "metadata": {},
   "outputs": [],
   "source": [
    "# init the GS dist cluster\n",
    "os.environ['RANK'] = '0'\n",
    "os.environ['WORLD_SIZE'] = '1'\n",
    "os.environ['MASTER_ADDR'] = '127.0.0.1'\n",
    "os.environ['MASTER_PORT'] = '4321'\n",
    "gs.initialize(ip_config='127.0.0.1', backend='gloo')"
   ]
  },
  {
   "cell_type": "code",
   "execution_count": null,
   "metadata": {},
   "outputs": [],
   "source": [
    "# load the training config\n",
    "import yaml\n",
    "from argparse import Namespace\n",
    "config_path = 'graphstorm/training_scripts/gsgnn_np/ml_nc.yaml'\n",
    "with open(config_path, \"r\", encoding='utf-8') as stream:\n",
    "    config = yaml.safe_load(stream)\n",
    "\n",
    "config = Namespace(**config['gsf'])\n"
   ]
  },
  {
   "cell_type": "code",
   "execution_count": null,
   "metadata": {},
   "outputs": [],
   "source": [
    "# load the graph config\n",
    "import json\n",
    "part_config_path = '/data/movielen_100k_train_val_1p_4t/movie-lens-100k.json'\n",
    "data_config = json.load(open(part_config_path, 'r'))\n",
    "data_config"
   ]
  },
  {
   "cell_type": "code",
   "execution_count": null,
   "metadata": {},
   "outputs": [],
   "source": [
    "# load the training data\n",
    "train_data = GSgnnNodeTrainData(data_config['graph_name'],\n",
    "                                part_config_path,\n",
    "                                train_ntypes=config.node_classification['target_ntype'],\n",
    "                                eval_ntypes=config.node_classification['target_ntype'],\n",
    "                                # node_feat_field=config.node_feat_name,\n",
    "                                node_feat_field=None,\n",
    "                                label_field=config.node_classification['label_field'])"
   ]
  },
  {
   "cell_type": "code",
   "execution_count": null,
   "metadata": {},
   "outputs": [],
   "source": [
    "# create model\n",
    "config.glem = None\n",
    "config.alpha_l2norm = 0.\n",
    "config.node_feat_name = None\n",
    "config.model_encoder_type = 'rgcn'\n",
    "config.node_lm_configs = None\n",
    "config.hidden_size = 16\n",
    "config.dropout = 0.1\n",
    "config.use_node_embeddings = False\n",
    "config.num_bases = -1\n",
    "config.num_layers = 1\n",
    "config.use_self_loop = True\n",
    "config.task_type = 'node_classification'\n",
    "config.num_classes = 19\n",
    "config.multilabel = False\n",
    "config.multilabel_weights = None\n",
    "config.imbalance_class_weights= None\n",
    "config.lr = 0.01\n",
    "config.sparse_optimizer_lr = 0.01\n",
    "config.lm_tune_lr = 0.01\n",
    "config.wd_l2norm = 0.\n",
    "\n",
    "model = gs.create_builtin_node_gnn_model(\n",
    "    train_data.g, \n",
    "    config, \n",
    "    train_task=True)"
   ]
  },
  {
   "cell_type": "code",
   "execution_count": null,
   "metadata": {},
   "outputs": [],
   "source": [
    "# create a trainer for the model\n",
    "trainer = GSgnnNodePredictionTrainer(model, \n",
    "                                     gs.get_rank(),\n",
    "                                    topk_model_to_save=1)\n"
   ]
  },
  {
   "cell_type": "code",
   "execution_count": null,
   "metadata": {},
   "outputs": [],
   "source": [
    "trainer.setup_device(device=device)"
   ]
  },
  {
   "cell_type": "code",
   "execution_count": null,
   "metadata": {},
   "outputs": [],
   "source": [
    "# set up evaluator:\n",
    "multilabel = config.multilabel\n",
    "evaluator = GSgnnAccEvaluator(100,\n",
    "                            ['accuracy'],\n",
    "                            multilabel)\n",
    "# evaluator = get_evaluator(config)\n",
    "trainer.setup_evaluator(evaluator)\n"
   ]
  },
  {
   "cell_type": "code",
   "execution_count": null,
   "metadata": {},
   "outputs": [],
   "source": [
    "# set up data loader\n",
    "config.fanout = [4]\n",
    "config.batch_size = 32\n",
    "\n",
    "dataloader = GSgnnNodeDataLoader(train_data, train_data.train_idxs, fanout=config.fanout,\n",
    "                                    batch_size=config.batch_size,\n",
    "                                    device=device, train_task=True)\n",
    "\n",
    "val_dataloader = GSgnnNodeDataLoader(train_data, train_data.val_idxs, fanout=config.fanout,\n",
    "                                        batch_size=config.batch_size,\n",
    "                                        device=device, train_task=False)\n",
    "\n",
    "test_dataloader = None"
   ]
  },
  {
   "cell_type": "code",
   "execution_count": null,
   "metadata": {},
   "outputs": [],
   "source": [
    "# Preparing input layer for training or inference.\n",
    "# The input layer can pre-compute node features in the preparing step if needed.\n",
    "# For example pre-compute all BERT embeddings\n",
    "model.prepare_input_encoder(train_data)\n"
   ]
  },
  {
   "cell_type": "code",
   "execution_count": null,
   "metadata": {},
   "outputs": [],
   "source": [
    "config.num_epochs = 2\n",
    "trainer.fit(train_loader=dataloader, val_loader=val_dataloader,\n",
    "            test_loader=test_dataloader, num_epochs=config.num_epochs,\n",
    "            save_model_path=None,\n",
    "            )"
   ]
  }
 ],
 "metadata": {
  "kernelspec": {
   "display_name": "Python 3",
   "language": "python",
   "name": "python3"
  },
  "language_info": {
   "codemirror_mode": {
    "name": "ipython",
    "version": 3
   },
   "file_extension": ".py",
   "mimetype": "text/x-python",
   "name": "python",
   "nbconvert_exporter": "python",
   "pygments_lexer": "ipython3",
   "version": "3.8.10"
  },
  "orig_nbformat": 4
 },
 "nbformat": 4,
 "nbformat_minor": 2
}
