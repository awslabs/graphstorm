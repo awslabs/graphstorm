{
 "cells": [
  {
   "attachments": {},
   "cell_type": "markdown",
   "metadata": {},
   "source": [
    "# Graphstorm Standalone Mode Demonstration\n",
    "\n",
    "In this notebook, we'll demonstrate how to use the standalone mode of Graphstorm. The standalone mode is primarily designed for model developers to prototype their data and model training/evaluation/inference pipelines using a single machine. \n",
    "\n",
    "---\n",
    "\n",
    "## Setup \n",
    "\n",
    "This notebook requires installing graphstorm using pip. Please find [more details on installation of graphstorm](https://graphstorm.readthedocs.io/en/latest/install/env-setup.html#setup-graphstorm-with-pip-packages)."
   ]
  },
  {
   "cell_type": "code",
   "execution_count": 1,
   "metadata": {},
   "outputs": [],
   "source": [
    "# !pip install git+https://github.com/awslabs/graphstorm"
   ]
  },
  {
   "cell_type": "code",
   "execution_count": 2,
   "metadata": {},
   "outputs": [],
   "source": [
    "import os\n",
    "import matplotlib.pyplot as plt\n",
    "# import graphstorm related stuffs\n",
    "import graphstorm as gs\n",
    "from graphstorm.trainer import GSgnnNodePredictionTrainer\n",
    "from graphstorm.dataloading import GSgnnNodeTrainData, GSgnnNodeDataLoader, GSgnnNodeInferData\n",
    "from graphstorm.model import GSgnnNodeModel, GSNodeEncoderInputLayer, EntityClassifier, ClassifyLossFunc, RelationalGCNEncoder\n",
    "from graphstorm.inference import GSgnnNodePredictionInferrer\n",
    "from graphstorm.eval import GSgnnAccEvaluator"
   ]
  },
  {
   "cell_type": "code",
   "execution_count": 3,
   "metadata": {},
   "outputs": [],
   "source": [
    "# initialize the graphstorm standalone environment\n",
    "gs.initialize(ip_config=None, backend='gloo', local_rank=0)\n",
    "device = gs.utils.get_device()"
   ]
  },
  {
   "attachments": {},
   "cell_type": "markdown",
   "metadata": {},
   "source": [
    "## Develop a GNN model for node-classification \n",
    "\n",
    "Next, we use a GNN model to go over the model development cycle of a node classification problem on the MovieLens dataset. \n",
    "\n",
    "\n",
    "### 0. Load the constructed graph data\n",
    "\n",
    "In this demo we use the MovieLens graph constructed by [graphstorm's processing pipeline](https://graphstorm.readthedocs.io/en/latest/gs-processing/usage/example.html)."
   ]
  },
  {
   "cell_type": "code",
   "execution_count": 4,
   "metadata": {},
   "outputs": [],
   "source": [
    "# constructed graphstorm data config:\n",
    "constructed_graph_config = '/mnt/efs/gsf-data/movielen_100k_train_val_1p_4t/movie-lens-100k.json'"
   ]
  },
  {
   "cell_type": "code",
   "execution_count": 5,
   "metadata": {},
   "outputs": [],
   "source": [
    "# config about the dataset and task:\n",
    "graph_name = 'movie-lens-100k'\n",
    "target_ntype = 'movie'\n",
    "node_feat_name = None\n",
    "feat_sizes = {'movie': 0, 'user': 0}\n",
    "label_field = 'label'\n",
    "num_classes = 19\n",
    "multilabel = False\n",
    "\n",
    "# learning params:\n",
    "batch_size = 128\n",
    "lr = 0.001\n",
    "sparse_optimizer_lr = 0.01\n",
    "weight_decay = 0.\n",
    "\n",
    "# model architecture:\n",
    "hidden_size = 128\n",
    "fanout = [4]\n",
    "dropout = 0.0\n",
    "num_bases = -1\n",
    "num_layers = 1\n",
    "use_self_loop = True"
   ]
  },
  {
   "cell_type": "code",
   "execution_count": 6,
   "metadata": {},
   "outputs": [],
   "source": [
    "# load the constructed graph data\n",
    "train_data = GSgnnNodeTrainData(\n",
    "    graph_name=graph_name,\n",
    "    part_config=constructed_graph_config,\n",
    "    train_ntypes=target_ntype,\n",
    "    eval_ntypes=target_ntype,\n",
    "    node_feat_field=node_feat_name,\n",
    "    label_field=label_field)"
   ]
  },
  {
   "cell_type": "code",
   "execution_count": 7,
   "metadata": {},
   "outputs": [
    {
     "name": "stdout",
     "output_type": "stream",
     "text": [
      "Number of nodes:\n",
      "- movie: 1682\n",
      "- user: 943\n",
      "Number of edges:\n",
      "- rating-rev: 100000\n",
      "- rating: 100000\n"
     ]
    }
   ],
   "source": [
    "# train_data.g stores a DistGraph object\n",
    "print('Number of nodes:')\n",
    "for ntype in train_data.g.ntypes:\n",
    "    print(f'- {ntype}: {train_data.g.num_nodes(ntype)}')\n",
    "print('Number of edges:')\n",
    "for etype in train_data.g.etypes:\n",
    "    print(f'- {etype}: {train_data.g.num_edges(etype)}')"
   ]
  },
  {
   "cell_type": "code",
   "execution_count": 8,
   "metadata": {},
   "outputs": [],
   "source": [
    "# set up data loaders\n",
    "dataloader = GSgnnNodeDataLoader(\n",
    "    train_data, train_data.train_idxs, fanout=fanout,\n",
    "    batch_size=batch_size,\n",
    "    train_task=True)\n",
    "\n",
    "val_dataloader = GSgnnNodeDataLoader(\n",
    "    train_data, train_data.val_idxs, fanout=fanout,\n",
    "    batch_size=batch_size,\n",
    "    train_task=False)\n",
    "\n",
    "test_dataloader = GSgnnNodeDataLoader(\n",
    "    train_data, train_data.test_idxs, fanout=fanout,\n",
    "    batch_size=batch_size,\n",
    "    train_task=False)"
   ]
  },
  {
   "attachments": {},
   "cell_type": "markdown",
   "metadata": {},
   "source": [
    "### 2. Create a GNN model\n",
    "\n",
    "A GSF model should contain the following components: \n",
    "- Input encoder for nodes (and optionally edges): process and project input features and embeddings into a certain dimension\n",
    "- GNN encoder: performs message-passing on projected node/edge inputs\n",
    "- Decoder: specific for tasks on the graph\n",
    "\n",
    "We can see the following codes set up a `GSgnnNodeModel` model composed of `GSNodeEncoderInputLayer`, `RelationalGCNEncoder`, `EntityClassifier` step-by-step. One can also replace individual components/layers with a custom model for development purpose."
   ]
  },
  {
   "cell_type": "code",
   "execution_count": 9,
   "metadata": {},
   "outputs": [
    {
     "data": {
      "text/plain": [
       "GSgnnNodeModel(\n",
       "  (_node_input_encoder): GSNodeEncoderInputLayer(\n",
       "    (dropout): Dropout(p=0.0, inplace=False)\n",
       "    (proj_matrix): ParameterDict(\n",
       "        (movie): Parameter containing: [torch.FloatTensor of size 128x128]\n",
       "        (user): Parameter containing: [torch.FloatTensor of size 128x128]\n",
       "    )\n",
       "    (input_projs): ParameterDict()\n",
       "    (ngnn_mlp): ModuleDict(\n",
       "      (movie): NGNNMLP(\n",
       "        (dropout): Dropout(p=0.0, inplace=False)\n",
       "        (ngnn_gnn): ParameterList()\n",
       "      )\n",
       "      (user): NGNNMLP(\n",
       "        (dropout): Dropout(p=0.0, inplace=False)\n",
       "        (ngnn_gnn): ParameterList()\n",
       "      )\n",
       "    )\n",
       "  )\n",
       "  (_gnn_encoder): RelationalGCNEncoder(\n",
       "    (_layers): ModuleList(\n",
       "      (0): RelGraphConvLayer(\n",
       "        (conv): HeteroGraphConv(\n",
       "          (mods): ModuleDict(\n",
       "            (('movie', 'rating-rev', 'user')): GraphConv(in=128, out=128, normalization=right, activation=None)\n",
       "            (('user', 'rating', 'movie')): GraphConv(in=128, out=128, normalization=right, activation=None)\n",
       "          )\n",
       "        )\n",
       "        (ngnn_mlp): NGNNMLP(\n",
       "          (dropout): Dropout(p=0.0, inplace=False)\n",
       "          (ngnn_gnn): ParameterList()\n",
       "        )\n",
       "        (dropout): Dropout(p=0.0, inplace=False)\n",
       "      )\n",
       "    )\n",
       "  )\n",
       "  (_decoder): EntityClassifier(\n",
       "    (dropout): Dropout(p=0, inplace=False)\n",
       "  )\n",
       "  (_loss_fn): ClassifyLossFunc(\n",
       "    (loss_fn): CrossEntropyLoss()\n",
       "  )\n",
       ")"
      ]
     },
     "execution_count": 9,
     "metadata": {},
     "output_type": "execute_result"
    }
   ],
   "source": [
    "# create a gsf model\n",
    "model = GSgnnNodeModel(alpha_l2norm=0.)\n",
    "\n",
    "# set input layer encoder\n",
    "encoder = GSNodeEncoderInputLayer(\n",
    "    train_data.g,\n",
    "    feat_sizes,\n",
    "    hidden_size,\n",
    "    dropout=dropout,\n",
    "    activation=None)\n",
    "model.set_node_input_encoder(encoder)\n",
    "\n",
    "# set GNN encoder\n",
    "gnn_encoder = RelationalGCNEncoder(\n",
    "    train_data.g,\n",
    "    hidden_size, hidden_size,\n",
    "    num_bases=num_bases,\n",
    "    num_hidden_layers=num_layers - 1,\n",
    "    dropout=dropout,\n",
    "    use_self_loop=use_self_loop)\n",
    "model.set_gnn_encoder(gnn_encoder)\n",
    "\n",
    "# set decoder specific to node-classification task\n",
    "model.set_decoder(EntityClassifier(\n",
    "    model.node_input_encoder.out_dims,\n",
    "    num_classes,\n",
    "    multilabel))\n",
    "# classification loss function\n",
    "model.set_loss_func(ClassifyLossFunc(multilabel))\n",
    "\n",
    "model.init_optimizer(\n",
    "    lr=lr,\n",
    "    sparse_optimizer_lr=sparse_optimizer_lr,\n",
    "    weight_decay=weight_decay\n",
    "    )\n",
    "\n",
    "model"
   ]
  },
  {
   "attachments": {},
   "cell_type": "markdown",
   "metadata": {},
   "source": [
    "### 3. Create a graphstorm trainer and train the model\n",
    "The trainers is task-specific in graphstorm. It handles:\n",
    "1. model training/evaluation loops\n",
    "2. saving and restoring model checkpoints\n",
    "3. early-stopping"
   ]
  },
  {
   "cell_type": "code",
   "execution_count": 10,
   "metadata": {},
   "outputs": [],
   "source": [
    "# create a trainer for the model\n",
    "trainer = GSgnnNodePredictionTrainer(\n",
    "    model,\n",
    "    topk_model_to_save=1)\n",
    "\n",
    "# set up device for the trainer\n",
    "trainer.setup_device(device=device)\n",
    "\n",
    "# set up evaluator for the trainer:\n",
    "evaluator = GSgnnAccEvaluator(\n",
    "    eval_frequency=10000,\n",
    "    eval_metric=['accuracy'],\n",
    "    multilabel=multilabel)\n",
    "\n",
    "trainer.setup_evaluator(evaluator)"
   ]
  },
  {
   "cell_type": "code",
   "execution_count": 11,
   "metadata": {},
   "outputs": [
    {
     "name": "stderr",
     "output_type": "stream",
     "text": [
      "WARNING:root:We do not export the state of sparse optimizer\n",
      "WARNING:root:We do not export the state of sparse optimizer\n",
      "WARNING:root:We do not export the state of sparse optimizer\n",
      "WARNING:root:We do not export the state of sparse optimizer\n",
      "WARNING:root:We do not export the state of sparse optimizer\n",
      "WARNING:root:We do not export the state of sparse optimizer\n"
     ]
    }
   ],
   "source": [
    "# Train the model with the trainer\n",
    "trainer.fit(\n",
    "    train_loader=dataloader,\n",
    "    val_loader=val_dataloader,\n",
    "    test_loader=test_dataloader,\n",
    "    num_epochs=10,\n",
    "    save_model_path='nc_model/',\n",
    ")"
   ]
  },
  {
   "attachments": {},
   "cell_type": "markdown",
   "metadata": {},
   "source": [
    "Next, we examine the model performance over the training process"
   ]
  },
  {
   "cell_type": "code",
   "execution_count": 12,
   "metadata": {},
   "outputs": [],
   "source": [
    "# Extract accuracies from the trainer's evaluator:\n",
    "val_accs, test_accs = [], []\n",
    "for val_acc, test_acc in trainer.evaluator.history:\n",
    "    val_accs.append(val_acc['accuracy'])\n",
    "    test_accs.append(test_acc['accuracy'])"
   ]
  },
  {
   "cell_type": "code",
   "execution_count": 13,
   "metadata": {},
   "outputs": [
    {
     "data": {
      "image/png": "[encoded data removed]",
      "text/plain": [
       "<Figure size 640x480 with 1 Axes>"
      ]
     },
     "metadata": {},
     "output_type": "display_data"
    }
   ],
   "source": [
    "# plot the learning curves\n",
    "fig, ax = plt.subplots()\n",
    "ax.plot(val_accs, label='val')\n",
    "ax.plot(test_accs, label='test')\n",
    "ax.set(xlabel='Epoch', ylabel='Accuracy')\n",
    "ax.legend(loc='best');"
   ]
  },
  {
   "cell_type": "code",
   "execution_count": 14,
   "metadata": {},
   "outputs": [
    {
     "name": "stdout",
     "output_type": "stream",
     "text": [
      "Best model checkpoint: nc_model/epoch-6\n"
     ]
    }
   ],
   "source": [
    "# after training, the best model is saved to disk:\n",
    "best_model_path = trainer.get_best_model_path()\n",
    "print('Best model checkpoint:', best_model_path)"
   ]
  },
  {
   "cell_type": "code",
   "execution_count": 15,
   "metadata": {},
   "outputs": [
    {
     "name": "stdout",
     "output_type": "stream",
     "text": [
      "total 1012\n",
      "336 -rw-rw-r-- 1 ubuntu ubuntu 340551 Oct 11 15:07 model.bin\n",
      "  4 drwxrw-rwx 2 ubuntu ubuntu   4096 Oct 11 15:07 movie\n",
      "668 -rw-rw-r-- 1 ubuntu ubuntu 681259 Oct 11 15:07 optimizers.bin\n",
      "  4 drwxrw-rwx 2 ubuntu ubuntu   4096 Oct 11 15:07 user\n"
     ]
    }
   ],
   "source": [
    "# check the saved artifacts\n",
    "!ls -ls {best_model_path}"
   ]
  },
  {
   "attachments": {},
   "cell_type": "markdown",
   "metadata": {},
   "source": [
    "### 3. Inference with the trained model"
   ]
  },
  {
   "cell_type": "code",
   "execution_count": 16,
   "metadata": {},
   "outputs": [
    {
     "name": "stderr",
     "output_type": "stream",
     "text": [
      "/opt/conda/envs/pytorch/lib/python3.10/site-packages/torch/_utils.py:776: UserWarning: TypedStorage is deprecated. It will be removed in the future and UntypedStorage will be the only storage class. This should only matter to you if you are using storages directly.  To access UntypedStorage directly, use tensor.untyped_storage() instead of tensor.storage()\n",
      "  return self.fget.__get__(instance, owner)()\n"
     ]
    }
   ],
   "source": [
    "# we can restore the model from the checkpoint:\n",
    "model.restore_model(best_model_path)"
   ]
  },
  {
   "cell_type": "code",
   "execution_count": 17,
   "metadata": {},
   "outputs": [],
   "source": [
    "# Create a dataset for inference, we use the same MovieLens graph\n",
    "infer_data = GSgnnNodeInferData(\n",
    "    graph_name,\n",
    "    constructed_graph_config,\n",
    "    eval_ntypes=target_ntype,\n",
    "    node_feat_field=node_feat_name,\n",
    "    label_field=label_field)\n",
    "\n",
    "# Set up dataloader for the inference dataset\n",
    "infer_dataloader = GSgnnNodeDataLoader(\n",
    "    infer_data, infer_data.test_idxs, fanout=fanout,\n",
    "    batch_size=100,\n",
    "    train_task=False)\n",
    "\n",
    "\n",
    "# Create an Inferrer object\n",
    "infer = GSgnnNodePredictionInferrer(model)\n",
    "infer.setup_device(device=device)\n",
    "infer.setup_evaluator(evaluator)\n"
   ]
  },
  {
   "cell_type": "code",
   "execution_count": 18,
   "metadata": {},
   "outputs": [],
   "source": [
    "# Run inference on the inference dataset\n",
    "infer.infer(infer_dataloader,\n",
    "            save_embed_path=os.path.join(best_model_path, 'infer/embeddings'),\n",
    "            save_prediction_path=os.path.join(best_model_path, 'infer/predictions'),\n",
    "            use_mini_batch_infer=True)"
   ]
  },
  {
   "cell_type": "code",
   "execution_count": 19,
   "metadata": {},
   "outputs": [
    {
     "name": "stdout",
     "output_type": "stream",
     "text": [
      "total 848K\n",
      "-rw-rw-r-- 1 ubuntu ubuntu   40 Oct 11 15:07 emb_info.json\n",
      "-rw-rw-r-- 1 ubuntu ubuntu 842K Oct 11 15:07 movie_emb.part00000.bin\n"
     ]
    }
   ],
   "source": [
    "# The GNN embeddings on the inference graph are saved to:\n",
    "!ls -lh {best_model_path}/infer/embeddings"
   ]
  },
  {
   "cell_type": "code",
   "execution_count": 20,
   "metadata": {},
   "outputs": [
    {
     "name": "stdout",
     "output_type": "stream",
     "text": [
      "total 16K\n",
      "-rw-rw-r-- 1 ubuntu ubuntu 14K Oct 11 15:07 predict-00000.pt\n"
     ]
    }
   ],
   "source": [
    "!ls -lh {best_model_path}/infer/predictions"
   ]
  }
 ],
 "metadata": {
  "kernelspec": {
   "display_name": "Python 3",
   "language": "python",
   "name": "python3"
  },
  "language_info": {
   "codemirror_mode": {
    "name": "ipython",
    "version": 3
   },
   "file_extension": ".py",
   "mimetype": "text/x-python",
   "name": "python",
   "nbconvert_exporter": "python",
   "pygments_lexer": "ipython3",
   "version": "3.10.11"
  },
  "orig_nbformat": 4
 },
 "nbformat": 4,
 "nbformat_minor": 2
}
