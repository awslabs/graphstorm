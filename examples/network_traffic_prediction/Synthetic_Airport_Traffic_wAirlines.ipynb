{
 "cells": [
  {
   "cell_type": "markdown",
   "id": "a37217b5-d299-46bb-8690-bdf85d7fd6d2",
   "metadata": {},
   "source": [
    "# Synthetic Air Transportation Traffic Data Generation\n",
    "\n",
    "This notebook endeavors to generate some synthetic air transportation traffic data for an AWS blog post. This notebook uses the following design ideas about data generation.\n",
    "\n",
    "1. Use all major large airports in the world.\n",
    "2. Allow any airport pair to have cargo demands.\n",
    "3. Add airlines between some airports. Airlines follow rules:\n",
    "    - The number of airlines are proportion to the number of airports in a country;\n",
    "    - An airline only has a few airport-airport flights;\n",
    "    - Half of airlines in one country will have international flights, while another half only have domestic fligths.\n",
    "4. The time unit is one day.\n",
    "5. The routing policy is that we evenly distribute cargo demands between two airports through all available routes (shortest path).\n",
    "6. The capacity of an airport is the sum of all outgoing flights' capacity per day.\n",
    "7. Always use shortest path for traffic distribution.\n",
    "8. A constant delay between actual traffic and demands, i.e., demands come first and then deliver after."
   ]
  },
  {
   "cell_type": "code",
   "execution_count": null,
   "id": "5d1840e9-c577-499a-a3e2-351fee1b1b65",
   "metadata": {
    "tags": []
   },
   "outputs": [],
   "source": [
    "from IPython.display import display, HTML\n",
    "display(HTML(\"<style>.container { width:100% !important; }</style>\"))"
   ]
  },
  {
   "cell_type": "code",
   "execution_count": null,
   "id": "aec25e44-bdc3-4888-838b-bafd2a63dcd7",
   "metadata": {
    "tags": []
   },
   "outputs": [],
   "source": [
    "%pip install geopandas\n",
    "%pip install cartopy\n",
    "%pip install pandas\n",
    "%pip install numpy\n",
    "%pip install networkx\n",
    "%pip install matplotlib"
   ]
  },
  {
   "cell_type": "code",
   "execution_count": 3,
   "id": "cf345e63-3605-48cc-b3e2-33d066e29015",
   "metadata": {
    "tags": []
   },
   "outputs": [],
   "source": [
    "import math\n",
    "\n",
    "import pandas as pd\n",
    "import numpy as np\n",
    "import networkx as nx\n",
    "import matplotlib.pyplot as plt\n",
    "import geopandas as gpd\n",
    "from cartopy import crs as ccrs\n",
    "from cartopy.io import shapereader"
   ]
  },
  {
   "cell_type": "code",
   "execution_count": 4,
   "id": "6a96c307-a582-451e-bdc8-ae7e20fe3ff3",
   "metadata": {
    "tags": []
   },
   "outputs": [],
   "source": [
    "# Set up the total days for generating data\n",
    "NUM_DEMAND_DAYS = 31\n",
    "# Fix the random seed\n",
    "np.random.seed(47)"
   ]
  },
  {
   "cell_type": "markdown",
   "id": "76ab15dc-00cc-49cf-94cf-c8fb91e8ac9b",
   "metadata": {},
   "source": [
    "## Extract Major Airports in the World"
   ]
  },
  {
   "cell_type": "code",
   "execution_count": 5,
   "id": "ebf608a3-cd8a-4235-8414-7e34dd47536b",
   "metadata": {
    "tags": []
   },
   "outputs": [],
   "source": [
    "# Fetch a list of N airport codes (three letter IATA codes) and their lat, lon coordinates\n",
    "def fetch_airports_data(N=100):\n",
    "    # You can use a public CSV file with airport data\n",
    "    path = 'https://ourairports.com/data/airports.csv'\n",
    "\n",
    "    airports = pd.read_csv(path)\n",
    "\n",
    "    # Process `continent` column to replace NaN with string NA\n",
    "    airports['continent'].fillna('NA', inplace=True)\n",
    "\n",
    "    # filter out valid major airports in the world\n",
    "    airports = airports[(airports['type'] == 'large_airport') & \\\n",
    "                        airports['iata_code'].notna() & \\\n",
    "                        airports['iso_country'].notna()]\n",
    "\n",
    "    # Select only the first N airports and relevant columns\n",
    "    selected_airports = airports[['iata_code', 'name', 'continent', 'iso_country', 'latitude_deg', 'longitude_deg']].head(N)\n",
    "    return selected_airports"
   ]
  },
  {
   "cell_type": "code",
   "execution_count": null,
   "id": "12b22747-63cb-4e9d-b203-4d397567a59c",
   "metadata": {
    "tags": []
   },
   "outputs": [],
   "source": [
    "# Extract first 400 major airports\n",
    "airports_df = fetch_airports_data(N=400)\n",
    "\n",
    "print(airports_df.shape)"
   ]
  },
  {
   "cell_type": "code",
   "execution_count": 7,
   "id": "17a4f570-ee2c-4065-9826-306d36fe148f",
   "metadata": {
    "tags": []
   },
   "outputs": [],
   "source": [
    "# Create a Networkx graph where nodes are the airports, and edges are demands between any two airports.\n",
    "def create_airport_graph(airports_df):\n",
    "    G = nx.Graph()\n",
    "\n",
    "    # Add nodes\n",
    "    for _, row in airports_df.iterrows():\n",
    "        G.add_node(row['iata_code'], pos=(row['longitude_deg'], row['latitude_deg']))\n",
    "\n",
    "    # Create edges between any two airports but not self loop\n",
    "    np.random.seed(42)  # For reproducibility\n",
    "    for i, source in enumerate(airports_df['iata_code']):\n",
    "        for j, target in enumerate(airports_df['iata_code']):\n",
    "            if i != j:  # Avoid self-loops and duplicate edges\n",
    "                G.add_edge(source, target)\n",
    "    return G"
   ]
  },
  {
   "cell_type": "code",
   "execution_count": 8,
   "id": "84a5b77c-ee87-4275-b1c7-3a28ec6be443",
   "metadata": {
    "tags": []
   },
   "outputs": [],
   "source": [
    "G = create_airport_graph(airports_df)"
   ]
  },
  {
   "cell_type": "code",
   "execution_count": null,
   "id": "8a0e8584-c561-402c-b52a-60934855c095",
   "metadata": {
    "tags": []
   },
   "outputs": [],
   "source": [
    "# Plot the airports only on a world map\n",
    "def plot_graph(G, title, draw_edges=False):\n",
    "    fig, ax = plt.subplots(figsize=(20, 14), subplot_kw={'projection': ccrs.PlateCarree()})\n",
    "    ax.set_extent([-180, 180, -90, 90], crs=ccrs.PlateCarree())\n",
    "\n",
    "    # Add the world background map\n",
    "    ax.stock_img()\n",
    "\n",
    "    # Get the node positions (longitude, latitude)\n",
    "    pos = nx.get_node_attributes(G, 'pos')\n",
    "\n",
    "    # Plot nodes (metros/airports)\n",
    "    nx.draw_networkx_nodes(G, pos, node_size=10, node_color='blue', ax=ax, edgecolors='k')\n",
    "\n",
    "    # Plot edges (connections between metros)\n",
    "    if draw_edges:\n",
    "        edges = G.edges(data=True)\n",
    "        for edge in edges:\n",
    "            src, dst, data = edge\n",
    "            coord_src = pos[src]\n",
    "            coord_dst = pos[dst]\n",
    "            ax.plot([coord_src[0], coord_dst[0]], [coord_src[1], coord_dst[1]], \n",
    "                    color='m', linestyle='-', linewidth=1, alpha=0.075)\n",
    "\n",
    "    # plt.title(\"Airports Network with Connections\")\n",
    "    plt.title(title)\n",
    "\n",
    "    plt.show()\n",
    "\n",
    "plot_graph(G, title=\"World Major Airports Map\")"
   ]
  },
  {
   "cell_type": "markdown",
   "id": "4e9f1fff-e9fc-491c-a64a-b2fcedfc2f25",
   "metadata": {},
   "source": [
    "## Create fully connected airport pairs for demand generation"
   ]
  },
  {
   "cell_type": "code",
   "execution_count": 10,
   "id": "91c3284e-d68a-4134-b251-217a8109caf9",
   "metadata": {
    "tags": []
   },
   "outputs": [],
   "source": [
    "airport_simple_df = airports_df[['iata_code', 'continent', 'iso_country']]"
   ]
  },
  {
   "cell_type": "code",
   "execution_count": null,
   "id": "a8335b39-f3ff-4594-a62e-908c6c944565",
   "metadata": {
    "tags": []
   },
   "outputs": [],
   "source": [
    "# create fully connected airport pairs\n",
    "airports = airport_simple_df.iata_code.to_numpy().tolist()\n",
    "\n",
    "num_aps = len(airports)\n",
    "src_aps = []\n",
    "dst_aps = []\n",
    "for i, airport in enumerate(airports):\n",
    "    src_aps += [airport] * (num_aps - 1)\n",
    "    dst_ap = airports[:i] + airports[i+1:]\n",
    "    dst_aps += dst_ap\n",
    "\n",
    "airport_pair_full_df = pd.DataFrame({'src': src_aps, 'dst': dst_aps})\n",
    "print(airport_pair_full_df.shape)"
   ]
  },
  {
   "cell_type": "code",
   "execution_count": 12,
   "id": "139bca21-25b4-452d-b509-8f15d9caf4b6",
   "metadata": {
    "tags": []
   },
   "outputs": [],
   "source": [
    "# add source and destination countries\n",
    "airport_pair_full_df = pd.merge(airport_pair_full_df, airports_df[['iata_code', 'iso_country']], how='left',\n",
    "                                left_on='src', right_on='iata_code')\n",
    "airport_pair_full_df = pd.merge(airport_pair_full_df, airports_df[['iata_code', 'iso_country']], how='left',\n",
    "                                left_on='dst', right_on='iata_code')\n",
    "airport_pair_full_df.rename(columns={'iso_country_x': 'iso_country_src', 'iso_country_y': 'iso_country_dst'},\n",
    "                            inplace=True)\n",
    "airport_pair_full_df = airport_pair_full_df[['src', 'dst', 'iso_country_src', 'iso_country_dst']]"
   ]
  },
  {
   "cell_type": "markdown",
   "id": "ada042a0-74d7-4392-9a1c-613e4a87652c",
   "metadata": {},
   "source": [
    "## Create airlines"
   ]
  },
  {
   "cell_type": "code",
   "execution_count": null,
   "id": "60da00b2-3059-4a3d-a78b-ec8a3e283359",
   "metadata": {
    "tags": []
   },
   "outputs": [],
   "source": [
    "country_df = airports_df.groupby(by=['iso_country'])['name'].count().sort_values(ascending=False)\n",
    "country_df = country_df.reset_index()\n",
    "country_df.rename(columns={'name':'cnt'}, inplace=True)\n",
    "print(country_df.shape)"
   ]
  },
  {
   "cell_type": "code",
   "execution_count": 14,
   "id": "a7fc6250-8dee-48fa-ba9e-a8f8b3bfbf5c",
   "metadata": {
    "tags": []
   },
   "outputs": [],
   "source": [
    "# Set the proportion ratio of the number of airlines to the number of aiports\n",
    "airline_to_country_ratio = 0.15\n",
    "\n",
    "country_df['airline'] = country_df.apply(lambda x: [x.iso_country + '_AL' + str(i+1) \\\n",
    "                                                    for i in range(math.ceil(x.cnt * airline_to_country_ratio))], axis=1)"
   ]
  },
  {
   "cell_type": "code",
   "execution_count": null,
   "id": "181e0ab3-a029-4523-bdb2-4bee16a9943f",
   "metadata": {
    "tags": []
   },
   "outputs": [],
   "source": [
    "airlines_by_country = country_df.airline.to_numpy()\n",
    "\n",
    "airlines = []\n",
    "for al_country in airlines_by_country:\n",
    "    airlines += al_country\n",
    "\n",
    "print(f'There are totally {len(airlines)} airlines generated.')"
   ]
  },
  {
   "cell_type": "markdown",
   "id": "3d48c8d3-7ecf-4aa0-a691-749728432ece",
   "metadata": {},
   "source": [
    "## Create flights for airlines\n",
    "\n",
    "We use the following design ideas of creating flights.\n",
    "\n",
    "1. Each airline choose one \"hub\" airport as its main base.\n",
    "2. Roll a 1/0 dice to determine if the airline can have international flights.\n",
    "3. From the hub airport pick a one-hop airport as destination. If got 0 in the step 2, can only pick a domestic airport; if got 1, can pick any international airport.\n",
    "4. Assign the capacity of the flight. A capacity is the number of flights per day, from 0 to 4 for domestic flights, or 0 to 1 for international flights. It could be a decimal, e.g., 0.5 means 1 fly per two days.\n",
    "5. If the one-hop destination is a domestic one, pick another domestic destination and form a new flight between them."
   ]
  },
  {
   "cell_type": "code",
   "execution_count": 16,
   "id": "4fe89fd5-4b84-4b6e-a19d-e45e0e222bc5",
   "metadata": {
    "tags": []
   },
   "outputs": [],
   "source": [
    "def generate_num_flight_per_airline(num_airports, flight_per_day=2):\n",
    "    \"\"\"\n",
    "    Use the flight per day for one airline to compute the number flights for an airline.\n",
    "    Also depends on the number of airports in a country.\n",
    "    \"\"\"\n",
    "    power_ratio = 0\n",
    "    if num_airports < 2**0:\n",
    "        power_ratio = 0\n",
    "    elif num_airports >= 2**0 and num_airports < 2**1:\n",
    "        power_ratio = 1\n",
    "    elif num_airports >= 2**1 and num_airports < 2**2:\n",
    "        power_ratio = 1\n",
    "    elif num_airports >= 2**2 and num_airports < 2**3:\n",
    "        power_ratio = 2\n",
    "    elif num_airports >= 2**3 and num_airports < 2**4:\n",
    "        power_ratio = 2\n",
    "    elif num_airports >= 2**4 and num_airports < 2**6:\n",
    "        power_ratio = 3\n",
    "    elif num_airports >= 2**5 and num_airports < 2**6:\n",
    "        power_ratio = 3\n",
    "    else:\n",
    "        power_ratio = 4\n",
    "\n",
    "    portional_flight_per_day = flight_per_day * power_ratio\n",
    "\n",
    "    num_flights = portional_flight_per_day * num_airports\n",
    "    return num_flights"
   ]
  },
  {
   "cell_type": "code",
   "execution_count": 17,
   "id": "dbeb4054-558f-4a1d-a2ba-96aa274023a5",
   "metadata": {
    "tags": []
   },
   "outputs": [],
   "source": [
    "def generate_capacity(row):\n",
    "    domestic_capacities = [0.125, 0.5, 1, 1.5, 2, 2.5, 3, 3.5, 4]\n",
    "    intl_capacities = [0.125, 0.5, 1]\n",
    "\n",
    "    if row.iso_country_src == row.iso_country_dst:\n",
    "        capacity = np.random.choice(domestic_capacities, 1)[0]\n",
    "    else:\n",
    "        capacity = np.random.choice(intl_capacities, 1)[0]\n",
    "\n",
    "    return capacity"
   ]
  },
  {
   "cell_type": "code",
   "execution_count": 18,
   "id": "997e5657-9eef-44ec-862e-a0c088a15513",
   "metadata": {
    "tags": []
   },
   "outputs": [],
   "source": [
    "def generate_flights(al_country, hub, is_intl, airport_pair_full_df, num_flights):\n",
    "    \"\"\" Generate flights for an airline.\n",
    "\n",
    "    Use a simple design:\n",
    "    1. if domestic only, half flights will be one-hop and another half will be two-hop.\n",
    "    2. if international, half flights will be one-hop domestic, quarter flights will be two-hop domestics, and the\n",
    "       rest quarter will be international.\n",
    "    Return\n",
    "    -------\n",
    "    flight_df: DataFrame\n",
    "        A dataframe with 4 columns, fligt_num, src, dst, capacity\n",
    "    \"\"\"\n",
    "    domestic_pair = airport_pair_full_df[(airport_pair_full_df.iso_country_src == al_country) &\n",
    "                                         (airport_pair_full_df.iso_country_dst == al_country)]\n",
    "    domestic_one_hop = domestic_pair[domestic_pair.src == hub]\n",
    "    international_pair = airport_pair_full_df[(airport_pair_full_df.src == hub) &\n",
    "                                              (airport_pair_full_df.iso_country_dst != al_country)]\n",
    "\n",
    "    # Sepcial case, only one aiport in a country. So only international flights\n",
    "    if domestic_pair.shape[0] == 0:\n",
    "        flights = international_pair.sample(num_flights)\n",
    "        flights['flight_num'] = np.arange(1, flights.shape[0]+1)\n",
    "        flights['capacity'] = flights.apply(generate_capacity, axis=1)\n",
    "\n",
    "        return flights\n",
    "\n",
    "    # one-hop domestic flights\n",
    "    half_num_flights = math.ceil(num_flights * 0.5)\n",
    "    one_hop_flights = domestic_one_hop.sample(n=half_num_flights, replace=True)\n",
    "\n",
    "    # international flights\n",
    "    another_half_num_flights = num_flights - half_num_flights\n",
    "    third_quarter_num_flights = math.ceil(another_half_num_flights * 0.5)\n",
    "\n",
    "    intl_flights = pd.DataFrame({'src': [], 'dst': [], 'iso_country_src': [], 'iso_country_dst': []})\n",
    "\n",
    "    if is_intl:\n",
    "        intl_flights = international_pair.sample(third_quarter_num_flights)\n",
    "        rest_num_flights = another_half_num_flights - third_quarter_num_flights\n",
    "        two_hop_flights = pd.merge(one_hop_flights, domestic_pair,\n",
    "                                   how='inner', left_on='dst',\n",
    "                                   right_on='src').sample(rest_num_flights, replace=True)\n",
    "    else:\n",
    "        two_hop_flights = pd.merge(one_hop_flights, domestic_pair,\n",
    "                                   how='inner', left_on='dst',\n",
    "                                   right_on='src').sample(another_half_num_flights, replace=True)\n",
    "\n",
    "    two_hop_flights = two_hop_flights[['src_y', 'dst_y', 'iso_country_src_y', 'iso_country_dst_y']]\n",
    "    two_hop_flights = two_hop_flights.rename(columns={'src_y':'src', 'dst_y': 'dst',\n",
    "                                                      'iso_country_src_y': 'iso_country_src',\n",
    "                                                      'iso_country_dst_y': 'iso_country_dst'})\n",
    "\n",
    "    flights = pd.concat([one_hop_flights, two_hop_flights, intl_flights])\n",
    "\n",
    "    # remove duplicate flights. All flights are round trips, so should no hub in dst column\n",
    "    flights = flights[flights.dst != hub]\n",
    "\n",
    "    flights['flight_num'] = np.arange(1, flights.shape[0]+1)\n",
    "\n",
    "    flights['capacity'] = flights.apply(generate_capacity, axis=1)\n",
    "\n",
    "    return flights"
   ]
  },
  {
   "cell_type": "code",
   "execution_count": 19,
   "id": "c4b99c27-e288-4703-9bc6-3f8a2fb4695c",
   "metadata": {
    "tags": []
   },
   "outputs": [],
   "source": [
    "all_flight_list = []\n",
    "\n",
    "for al in airlines:\n",
    "    al_country = al[:2]\n",
    "\n",
    "    country_aps = airports_df[airports_df.iso_country == al_country].iata_code.to_numpy()\n",
    "    ap_cnt = country_aps.shape[0]\n",
    "    is_intl = np.random.choice([0, 1], p=[0.5, 0.5]) if ap_cnt > 1 else 0\n",
    "\n",
    "    al_hub = np.random.choice(country_aps, 1)[0]\n",
    "\n",
    "    num_flights = generate_num_flight_per_airline(ap_cnt)\n",
    "\n",
    "    al_flights = generate_flights(al_country, al_hub, is_intl, airport_pair_full_df, num_flights)\n",
    "\n",
    "    al_flights['flight_num'] = al + '_' + al_flights['flight_num'].astype(str)\n",
    "\n",
    "    all_flight_list.append(al_flights)\n",
    "\n",
    "all_flights = pd.concat(all_flight_list)\n",
    "\n",
    "# to build bi-directional flights, capacity should be divided by 2\n",
    "all_flights['capacity'] = all_flights['capacity'] / 2"
   ]
  },
  {
   "cell_type": "code",
   "execution_count": null,
   "id": "dc23e89d-4ca9-4daf-9e77-20706c34eaad",
   "metadata": {
    "tags": []
   },
   "outputs": [],
   "source": [
    "print(f'Total capacity in the world: {all_flights.capacity.sum()} by {all_flights.shape[0]} flights.')"
   ]
  },
  {
   "cell_type": "code",
   "execution_count": 21,
   "id": "f7120710-0fe9-4a4a-92c6-08c88d20310d",
   "metadata": {
    "tags": []
   },
   "outputs": [],
   "source": [
    "all_flights_rev = all_flights[['dst', 'src', 'iso_country_dst', 'iso_country_src', 'flight_num', 'capacity']]\n",
    "all_flights_rev.rename(columns={'dst':'src', 'src': 'dst',\n",
    "                                'iso_country_dst': 'iso_country_src', 'iso_country_src': 'iso_country_dst'}, inplace=True)\n",
    "all_flights_rev['flight_num'] = all_flights_rev['flight_num'] + '_rev'"
   ]
  },
  {
   "cell_type": "code",
   "execution_count": null,
   "id": "1cf17451-1a32-4673-9b96-5ad85be1db11",
   "metadata": {
    "tags": []
   },
   "outputs": [],
   "source": [
    "all_flights_full = pd.concat([all_flights, all_flights_rev])\n",
    "print(f'Total capacity in the world: {all_flights_full.capacity.sum()} for {all_flights_full.shape[0]} flights')"
   ]
  },
  {
   "cell_type": "markdown",
   "id": "ec714168-46d5-4c6a-b73e-89f89d2541c4",
   "metadata": {
    "tags": []
   },
   "source": [
    "### Visualize world flights map"
   ]
  },
  {
   "cell_type": "code",
   "execution_count": null,
   "id": "d889bf47-bd8d-49bd-93f8-29579690b549",
   "metadata": {
    "tags": []
   },
   "outputs": [],
   "source": [
    "flight_G = nx.Graph()\n",
    "\n",
    "ap_codes = []\n",
    "nids = []\n",
    "# Add nodes from airports_df\n",
    "for _, row in airports_df.iterrows():\n",
    "    ap_codes.append(row['iata_code'])\n",
    "    flight_G.add_node(row['iata_code'], pos=(row['longitude_deg'], row['latitude_deg']))\n",
    "\n",
    "# Create edges based on generated flights\n",
    "for _, row in all_flights_full.iterrows():\n",
    "    flight_G.add_edge(row['src'], row['dst'], capacity=row['capacity'])\n",
    "\n",
    "plot_graph(flight_G, title=\"Simulated World Airports and Air Flights Map\", draw_edges=True)"
   ]
  },
  {
   "cell_type": "markdown",
   "id": "ddb22c13-6490-4639-980e-88a295e859bf",
   "metadata": {},
   "source": [
    "## Generate airport to airport demands\n",
    "\n",
    "We generate demands between any two airports based on the following design ideas.\n",
    "\n",
    "1. Use day as time unit of demand to match the flight capacity time unit.\n",
    "2. Dometics demands are four times larger than the international demands, following the same pattern as flights' capacities.\n",
    "3. Demands have weekly patterns and some random variances. So far, no seasonal patterns.\n",
    "4. Set up demands to be smaller than the total capability of flights, so that all demands can be handled in some days."
   ]
  },
  {
   "cell_type": "code",
   "execution_count": 24,
   "id": "89278ec7-925a-4f3b-a6b3-04bc753d6623",
   "metadata": {
    "tags": []
   },
   "outputs": [],
   "source": [
    "def generate_demand_timeseries(top, scale=1, n_days=365):\n",
    "    # Create a combination of sinusoids to simulate daily demand with weekly pattern\n",
    "    assert top >= scale\n",
    "    days = np.arange(n_days)\n",
    "    weekly_demand = np.clip(scale * (np.sin(2 * np.pi * days / 7) + (top - scale)) + np.random.normal(-scale, scale, n_days),\n",
    "                            a_min=0, a_max=top)\n",
    "    # remove very small demands to avoid nearly 0 paylod\n",
    "    weekly_demand = np.round(weekly_demand, 2)\n",
    "    return weekly_demand"
   ]
  },
  {
   "cell_type": "code",
   "execution_count": null,
   "id": "41406d80-1295-4215-a3b3-147b649df44f",
   "metadata": {
    "tags": []
   },
   "outputs": [],
   "source": [
    "# Test the above function\n",
    "demands = generate_demand_timeseries(top=1, scale=0.5, n_days=28)\n",
    "\n",
    "# Bonus: plot a timeseries for one of the airport pairs\n",
    "def plot_demand_timeseries(demands):\n",
    "    plt.figure(figsize=(10, 5))\n",
    "    plt.plot(demands, label='Demands per Day', linestyle='--')\n",
    "    plt.title(f'Traffic Demands between Airports')\n",
    "    plt.xlabel('Day')\n",
    "    plt.ylabel('Flights per Day')\n",
    "    plt.legend()\n",
    "    plt.grid(True)\n",
    "    plt.show()\n",
    "# visualize the pattern for better understanding\n",
    "plot_demand_timeseries(demands)"
   ]
  },
  {
   "cell_type": "code",
   "execution_count": 26,
   "id": "104d2556-08d3-4b78-9bc9-d28386d828e0",
   "metadata": {
    "tags": []
   },
   "outputs": [],
   "source": [
    "def get_ratio(num_airports, scale=1):\n",
    "    power_ratio = 0\n",
    "    if num_airports < 2**0:\n",
    "        power_ratio = 0\n",
    "    elif num_airports >= 2**0 and num_airports < 2**1:\n",
    "        power_ratio = 1\n",
    "    elif num_airports >= 2**1 and num_airports < 2**2:\n",
    "        power_ratio = 1\n",
    "    elif num_airports >= 2**2 and num_airports < 2**3:\n",
    "        power_ratio = 2\n",
    "    elif num_airports >= 2**3 and num_airports < 2**4:\n",
    "        power_ratio = 2\n",
    "    elif num_airports >= 2**4 and num_airports < 2**6:\n",
    "        power_ratio = 3\n",
    "    elif num_airports >= 2**5 and num_airports < 2**6:\n",
    "        power_ratio = 3\n",
    "    else:\n",
    "        power_ratio = 4\n",
    "\n",
    "    return math.ceil(power_ratio * scale)\n",
    "\n",
    "\n",
    "def generate_pair_demands(src_cn, dst_cn, n_days, num_aps_dict):\n",
    "    \"\"\" Generate demands for all airport pairs with given number of days.\n",
    "\n",
    "    The demands should follow the 3 rules:\n",
    "    1. demands are propotional to the number of airports in a country;\n",
    "    2. demands for domestic pairs is 4 times of international pairs;\n",
    "    3. the number of airports will determine the arguments of generate_demand_timeseries(), top and scale.\n",
    "    \"\"\"\n",
    "    # src_cn = row['iso_country_src']\n",
    "    # dst_cn = row['iso_country_dst']\n",
    "    num_aps = num_aps_dict[src_cn]\n",
    "    if src_cn == dst_cn:    # a domestic pair\n",
    "        power_ratio = get_ratio(num_aps, scale=0.5)\n",
    "    else:                   # an international pair\n",
    "        power_ratio = get_ratio(num_aps, scale=0.125)\n",
    "\n",
    "    demands = generate_demand_timeseries(top=power_ratio, scale=1, n_days=n_days)\n",
    "\n",
    "    return demands"
   ]
  },
  {
   "cell_type": "code",
   "execution_count": 27,
   "id": "e4f498b7-91c0-4795-81e5-b76d9b0fb300",
   "metadata": {
    "tags": []
   },
   "outputs": [],
   "source": [
    "num_aps_dict = {}\n",
    "for _, row in country_df.iterrows():\n",
    "    num_aps_dict[row['iso_country']] = row['cnt']"
   ]
  },
  {
   "cell_type": "markdown",
   "id": "91b2bd74-1a70-497a-8a51-b7e8a389d132",
   "metadata": {},
   "source": [
    "Now generate demands for all airport pairs"
   ]
  },
  {
   "cell_type": "code",
   "execution_count": 28,
   "id": "bfac7cb4-06dd-4160-a16c-3d5579776d46",
   "metadata": {
    "tags": []
   },
   "outputs": [],
   "source": [
    "airport_pair_full_df['demands'] = airport_pair_full_df.apply(lambda \n",
    "                                                             row: generate_pair_demands(row['iso_country_src'], row['iso_country_dst'], NUM_DEMAND_DAYS, num_aps_dict),\n",
    "                                                             axis=1)"
   ]
  },
  {
   "cell_type": "code",
   "execution_count": 29,
   "id": "a660ea3f-0c43-43cb-8a17-c7a67f8bc7b1",
   "metadata": {
    "tags": []
   },
   "outputs": [],
   "source": [
    "# expend the list to multiple columns for later usage.\n",
    "demands_df = pd.DataFrame(airport_pair_full_df.demands.to_list(), columns=['demand_d'+str(i) for i in range(NUM_DEMAND_DAYS)])\n",
    "demands_df = pd.concat([airport_pair_full_df[['src', 'dst', 'iso_country_src', 'iso_country_dst']], demands_df], axis=1)"
   ]
  },
  {
   "cell_type": "markdown",
   "id": "42523d27-b7f3-40a7-b43e-b80f6503a278",
   "metadata": {},
   "source": [
    "## Simulate Demand Fulfillment\n",
    "\n",
    "We use a simple routing algorithm to simulate how to fulfill demands between airports.\n",
    "\n",
    "1. Demands will be fulfilled in the next day.\n",
    "2. Follow first come first serve policy.\n",
    "3. If no flights available, store at airport as inventory to the the next day. And there is no limit of airport storage capacity so far.\n",
    "4. Always use the shortest path to fulfill demands.\n",
    "5. If there are multiple shortest paths for a demand, fulfill it with ALL shortest paths evenly.\n",
    "6. In an airport, traffics will NOT be evenly distributed if there are multiple flights to the next stop. Always use one flight to carry a traffic. If not enough, take the rest traffic to the next flight until all flights occupied."
   ]
  },
  {
   "cell_type": "markdown",
   "id": "40c95b1c-0eb0-4e57-bebf-66232ae8dc57",
   "metadata": {},
   "source": [
    "### A: Generate traffic router class"
   ]
  },
  {
   "cell_type": "code",
   "execution_count": 30,
   "id": "68572657-f8e9-4ffb-9370-46f6166b7a35",
   "metadata": {
    "tags": []
   },
   "outputs": [],
   "source": [
    "class Traffic():\n",
    "    \"\"\"\n",
    "    \"\"\"\n",
    "    def __init__(self,\n",
    "                 header,\n",
    "                 payload):\n",
    "        assert len(header) > 0, 'The header must contains at least one airport, ' + \\\n",
    "                                f'but got {header}.'\n",
    "        self._header = header\n",
    "        assert round(payload, 4) > 0, 'Payload should be a value greather than 0. ' + \\\n",
    "                                     f'but got to {header} with {payload}.'\n",
    "        self._payload = round(payload, 4)\n",
    "\n",
    "    def next_stop(self):\n",
    "        if len(self._header) > 1:\n",
    "            next_stop = self._header.pop(0)\n",
    "        elif len(self._header) == 1:\n",
    "            next_stop = self._header[0]\n",
    "        else:\n",
    "            next_stop = None\n",
    "        return next_stop\n",
    "\n",
    "    def is_final(self, airport=None):\n",
    "        if airport is not None:\n",
    "            return len(self._header) == 1 and self._header[0] == airport\n",
    "        else:\n",
    "            return len(self._header) == 1\n",
    "\n",
    "    def get_header(self):\n",
    "        \"\"\" Give a copy of the header to avoid mutation by others.\n",
    "        \"\"\"\n",
    "        cp_header = [ap for ap in self._header]\n",
    "        return cp_header\n",
    "\n",
    "    def get_payload(self):\n",
    "        return self._payload\n",
    "\n",
    "    def set_payload(self, payload):\n",
    "        assert payload > 0, 'Payload should be a value greather than 0.'\n",
    "        self._payload = payload\n",
    "\n",
    "    def to_string(self):\n",
    "        return '(' + '->'.join(self._header) + ': ' + str(self._payload) + ')'\n",
    "\n",
    "\n",
    "class AirportRouter():\n",
    "    \"\"\" A router that simulate how to relay traffics\n",
    "\n",
    "    Parameters\n",
    "    ----------\n",
    "    name: str\n",
    "        Name of this airport.\n",
    "    routing_tables: dict of list of lists\n",
    "        Pre-computed shortest paths to other airports from this airport in the format of\n",
    "        {dst: [[airport1, airport2, ...], [...]], dst: [[]]}\n",
    "    flights_tables: dict of list of tuples\n",
    "        Available connected airports with flights in the format of\n",
    "        {dst: [(flight1, cap), (flight2, cap), ...], ...}\n",
    "    \"\"\"\n",
    "    def __init__(self,\n",
    "                 name,\n",
    "                 routing_table,\n",
    "                 flights_table):\n",
    "        self.name = name\n",
    "        self.routing_table = routing_table\n",
    "        self.flights_table = flights_table\n",
    "        self.stored_traffics = {}\n",
    "\n",
    "    def to_string(self):\n",
    "        \"\"\" Output stored traffics for easy debug.\n",
    "        \"\"\"\n",
    "        outputs = ''\n",
    "        for next_stop, next_stop_queue in self.stored_traffics.items():\n",
    "            queue_outputs = [traffic.to_string() for traffic in next_stop_queue]\n",
    "            next_stop_outputs = next_stop + ': ' + '\\t'.join(queue_outputs)\n",
    "            outputs += next_stop_outputs + '\\n'\n",
    "        return outputs\n",
    "\n",
    "    def add_demand(self, dst, demand):\n",
    "        \"\"\" Accept local demand to the destination airport.\n",
    "\n",
    "        For the demand, extract the shortest paths from this airport to the dst airport.\n",
    "        If only one path, create one traffic, whose header is the path, and payload is the\n",
    "        demand number.\n",
    "        If there are multiple paths, create multiple traffics, evenly distribute demands.\n",
    "        \"\"\"\n",
    "        # The demand is too small, ignored...\n",
    "        if demand < 0.001:\n",
    "            return\n",
    "        else:\n",
    "            pre_demand = round(demand, 4)\n",
    "\n",
    "        shortest_paths = self.routing_table[dst]\n",
    "\n",
    "        ave_demand = round(demand/len(shortest_paths), 4)\n",
    "\n",
    "        # if the demand is too small to be split, only use the first shortest path to deliver. \n",
    "        if ave_demand < 0.001:\n",
    "            new_shortest_path = [airport for airport in shortest_paths[0]]\n",
    "            traffic = Traffic(new_shortest_path, demand)\n",
    "\n",
    "            # route this traffic in queue\n",
    "            self._route_traffic(traffic)\n",
    "        else:\n",
    "            for shortest_path in shortest_paths:\n",
    "                # copy the shortest path to avoid change the original\n",
    "                new_shortest_path = [airport for airport in shortest_path]\n",
    "                traffic = Traffic(new_shortest_path, ave_demand)\n",
    "\n",
    "                # route this traffic in queue\n",
    "                self._route_traffic(traffic)\n",
    "\n",
    "    def add_traffics(self, traffics):\n",
    "        \"\"\" Add incoming flight traffics.\n",
    "\n",
    "        A traffic has a header and a payload.\n",
    "        - The header contains a list of airports, indicating the next stops to send.\n",
    "        - The payload is a number.\n",
    "\n",
    "        In an incoming traffic, the first airport in the header should be same as this airport.\n",
    "        When add a traffic, first get the first airport as the next stop from the header, and\n",
    "        then check the next stop to relay this traffic. If no next stop, i.e., the traffic has\n",
    "        reach its final destination, delete this traffic and no further action. If there is the\n",
    "        next stop, add this traffic to the stored traffics under the same next stop airport.\n",
    "        \"\"\"\n",
    "        for traffic in traffics:\n",
    "\n",
    "            if traffic.is_final(self.name):\n",
    "                del traffic\n",
    "                continue\n",
    "                # Comment out print claude to save spaces\n",
    "                # print(f'The traffic {traffic.to_string()} arrives its final destination.')\n",
    "            else:\n",
    "                self._route_traffic(traffic)\n",
    "\n",
    "    def _route_traffic(self, traffic):\n",
    "        \"\"\" Take a traffic and route it to the correct queue for dispatch.\n",
    "        \"\"\"\n",
    "        next_stop = traffic.next_stop()\n",
    "        assert next_stop is not None, 'This is an invalid traffic or the traffic has reach its ' + \\\n",
    "                                      'final destionation'\n",
    "        if self.stored_traffics.get(next_stop, None) is None:\n",
    "            self.stored_traffics[next_stop] = [traffic]\n",
    "        else:\n",
    "            next_stop_queue = self.stored_traffics.get(next_stop)\n",
    "            next_stop_queue.append(traffic)\n",
    "\n",
    "    def dispatch_traffics(self):\n",
    "        \"\"\" dispatch the stored traffics based on the airport's next stops.\n",
    "\n",
    "        Iterate the stored_traffics. For each traffic, extract its next airport, and then check the\n",
    "        flights_table to find out available flights. If there are available flights, evenly send out\n",
    "        traffics to the next stops.\n",
    "        \"\"\"\n",
    "        out_traffics = {}\n",
    "        fulfilled_next_stops = []\n",
    "\n",
    "        for next_stop, next_stop_queue in self.stored_traffics.items():\n",
    "\n",
    "            new_next_stop_queue = []\n",
    "\n",
    "            # extract available flights by making copeis, so that later operation will not modify the\n",
    "            # predefined flight table.\n",
    "            flights = [(flight, capacity) for (flight, capacity) in self.flights_table[next_stop]]\n",
    "\n",
    "            while len(next_stop_queue) > 0:\n",
    "                traffic = next_stop_queue.pop(0)\n",
    "                payload = traffic.get_payload()\n",
    "                while len(flights) > 0:\n",
    "                    flight, capacity = flights.pop(0)\n",
    "                    if payload > capacity:    # this flight is not enough\n",
    "                        new_payload = round(capacity, 4)\n",
    "                        if new_payload > 0.001:\n",
    "                            out_traffic = Traffic(traffic.get_header(), new_payload)\n",
    "                            new_next_stop_queue.append(out_traffic)\n",
    "                        payload = round((payload - capacity), 4)\n",
    "                        if payload < 0.001:\n",
    "                            break\n",
    "                    elif payload == capacity:\n",
    "                        new_payload = round(payload, 4)\n",
    "                        if new_payload > 0.001:\n",
    "                            out_traffic = Traffic(traffic.get_header(), new_payload)\n",
    "                            new_next_stop_queue.append(out_traffic)\n",
    "                        else:\n",
    "                            payload = 0\n",
    "                        break\n",
    "                    else:                      # this flight has redundent capacity\n",
    "                        new_payload = round(payload, 4)\n",
    "                        if new_payload > 0.001:\n",
    "                            out_traffic = Traffic(traffic.get_header(), new_payload)\n",
    "                            new_next_stop_queue.append(out_traffic)\n",
    "                        rest_capacity = round((capacity - new_payload), 4)\n",
    "                        if rest_capacity > 0.001:\n",
    "                            flights = [(flight, rest_capacity)] + flights\n",
    "                        else:\n",
    "                            payload = 0\n",
    "                        break\n",
    "                # All flights can not deliver stored queue, and the rest payload is big enough\n",
    "                if payload > 0.:\n",
    "                    traffic.set_payload(payload)\n",
    "                    next_stop_queue.insert(0, traffic)    # use the original pointer of this list\n",
    "                    break\n",
    "            # add new queue to out traffics\n",
    "            if new_next_stop_queue:\n",
    "                out_traffics[next_stop] = new_next_stop_queue\n",
    "            # check if the queue is fulfilled\n",
    "            if not next_stop_queue:\n",
    "                fulfilled_next_stops.append(next_stop)\n",
    "\n",
    "        # clean up fufilled next stops\n",
    "        for next_stop in fulfilled_next_stops:\n",
    "            del self.stored_traffics[next_stop]\n",
    "\n",
    "        return out_traffics\n",
    "\n",
    "    def current_inventory_amount(self):\n",
    "        \"\"\" The current inventory total amount.\n",
    "        \"\"\"\n",
    "        inventory_amount = 0\n",
    "        for _, next_stop_queue in self.stored_traffics.items():\n",
    "            for traffic in next_stop_queue:\n",
    "                inventory_amount += traffic.get_payload()\n",
    "\n",
    "        return inventory_amount"
   ]
  },
  {
   "cell_type": "markdown",
   "id": "844467a7-4be1-4988-a01b-4ac5e0c1ec9f",
   "metadata": {},
   "source": [
    "### B: Generate airline flight network's routing table and flight table\n",
    "\n",
    "Use the `all_flights_full` dataframe and `flight_G` graph to create the two tables for all airports.\n",
    "- routing table: records all the shortest paths between any pair of airports.\n",
    "- flight table: records the destination and flights for any airport."
   ]
  },
  {
   "cell_type": "code",
   "execution_count": 31,
   "id": "4d8bf305-3968-4529-a32c-643afbe2325f",
   "metadata": {
    "tags": []
   },
   "outputs": [],
   "source": [
    "all_routing_table = {}\n",
    "\n",
    "for src, dst_paths in dict(nx.all_pairs_all_shortest_paths(flight_G)).items():\n",
    "    routing_table = {}\n",
    "    for dst, paths in dst_paths.items():\n",
    "        if src == dst:\n",
    "            continue\n",
    "        # remove the src from all path\n",
    "        new_paths = [path[1:] for path in paths]\n",
    "        routing_table[dst] = new_paths\n",
    "\n",
    "    all_routing_table[src] = routing_table\n"
   ]
  },
  {
   "cell_type": "code",
   "execution_count": null,
   "id": "7f8254ca-f6e8-434c-b561-5b3009713a12",
   "metadata": {
    "tags": []
   },
   "outputs": [],
   "source": [
    "total_num_aps = len(all_routing_table)\n",
    "print(total_num_aps)\n",
    "\n",
    "# sanity check\n",
    "for src, paths in all_routing_table.items():\n",
    "    num_dsts = len(paths)\n",
    "    if num_dsts != total_num_aps - 1:\n",
    "        print(f'Source airport {src} can not reach to all airports, but {num_dsts}...')"
   ]
  },
  {
   "cell_type": "code",
   "execution_count": 33,
   "id": "fa9ea1c0-dfbb-4648-88cc-c57d0c733141",
   "metadata": {
    "tags": []
   },
   "outputs": [],
   "source": [
    "all_flights_full['flights'] = list(zip(all_flights_full.flight_num, all_flights_full.capacity))\n",
    "\n",
    "pair_flights = all_flights_full.groupby(by=['src', 'dst'])['flights'].apply(list).reset_index(name='flights')\n",
    "airport_flights = pair_flights.groupby(by=['src']).agg(list)\n",
    "airport_flights.reset_index(inplace=True)"
   ]
  },
  {
   "cell_type": "code",
   "execution_count": 34,
   "id": "d86cad78-00d1-4e97-9c67-9580ab814393",
   "metadata": {
    "tags": []
   },
   "outputs": [],
   "source": [
    "all_flights_table = {}\n",
    "\n",
    "for _, row in airport_flights.iterrows():\n",
    "    src = row['src']\n",
    "    dst_list = row['dst']\n",
    "    flights_list = row['flights']\n",
    "    # sanity check\n",
    "    if len(dst_list) != len(flights_list):\n",
    "        print(f'Invalid row: {row}')\n",
    "\n",
    "    dst_flights = {}\n",
    "    for dst, flights in zip(dst_list, flights_list):\n",
    "        dst_flights[dst] = flights\n",
    "\n",
    "    all_flights_table[src] = dst_flights"
   ]
  },
  {
   "cell_type": "code",
   "execution_count": 35,
   "id": "5bcff4d3-1818-47ee-8d13-536215ea5266",
   "metadata": {
    "tags": []
   },
   "outputs": [],
   "source": [
    "# sanity check\n",
    "assert len(all_routing_table) == len(all_flights_table)"
   ]
  },
  {
   "cell_type": "markdown",
   "id": "15d0fffe-97f0-404b-a25e-db46fd0b6258",
   "metadata": {},
   "source": [
    "### C: Create utility functions\n",
    "----\n",
    "1. a function to initialize all airport with routing tables and flight tables."
   ]
  },
  {
   "cell_type": "code",
   "execution_count": 36,
   "id": "ef6c4083-844c-485e-b18c-e53346e68ed0",
   "metadata": {
    "tags": []
   },
   "outputs": [],
   "source": [
    "def initialize_airports(all_routing_table, all_flights_table):\n",
    "    airport_list = {}\n",
    "\n",
    "    for src, routing_table in all_routing_table.items():\n",
    "        airport_router = AirportRouter(src, routing_table, all_flights_table[src])\n",
    "        airport_list[src] = airport_router\n",
    "    return airport_list"
   ]
  },
  {
   "cell_type": "markdown",
   "id": "3f71f442-edbe-443c-b95a-7e49d973f1f0",
   "metadata": {},
   "source": [
    "2. a function to add local demands."
   ]
  },
  {
   "cell_type": "code",
   "execution_count": 37,
   "id": "4466f394-60ea-40ba-b49e-77430160ad7e",
   "metadata": {
    "tags": []
   },
   "outputs": [],
   "source": [
    "def add_current_demands(airport_list, current_demands):\n",
    "    airports = []\n",
    "    inventory_amount_list = []\n",
    "    for _, row in current_demands.iterrows():\n",
    "        src = row['src']\n",
    "        airport_router = airport_list[src]\n",
    "\n",
    "        demand_list = row['current_demand']\n",
    "        for dst, demand in demand_list:\n",
    "            airport_router.add_demand(dst, demand)\n",
    "\n",
    "        airports.append(src)\n",
    "        inventory_amount_list.append(airport_router.current_inventory_amount())\n",
    "\n",
    "    current_airport_inventory_df = pd.DataFrame({\n",
    "        'iata_code': airports,\n",
    "        'inventory_amount': inventory_amount_list\n",
    "    })\n",
    "\n",
    "    return current_airport_inventory_df"
   ]
  },
  {
   "cell_type": "markdown",
   "id": "5a7430aa-ef5a-482b-b5e4-ac5f7a966ecc",
   "metadata": {},
   "source": [
    "3. a function to dispatch demands (local + through traffics) as traffics"
   ]
  },
  {
   "cell_type": "code",
   "execution_count": 38,
   "id": "933cf641-f290-4364-b4ee-932bda0796af",
   "metadata": {
    "tags": []
   },
   "outputs": [],
   "source": [
    "def dispatch_demands(airport_list):\n",
    "    \"\"\" Dispatch demands in all airports\n",
    "\n",
    "    Return: a dict of list of traffics as inputs of adding traffics to all airports.\n",
    "    \"\"\"\n",
    "    dst_ap_traffics = {}\n",
    "    ap2ap_traffics = {}\n",
    "    for src_ap, airport_router in airport_list.items():\n",
    "        output_traffics = airport_router.dispatch_traffics()\n",
    "        for next_stop_ap, traffics in output_traffics.items():\n",
    "            # extract destination airport based traffics\n",
    "            if dst_ap_traffics.get(next_stop_ap, None) is None:\n",
    "                dst_ap_traffics[next_stop_ap] = traffics\n",
    "            else:\n",
    "                existing_traffics = dst_ap_traffics[next_stop_ap]\n",
    "                dst_ap_traffics[next_stop_ap] = existing_traffics + traffics\n",
    "\n",
    "            # extract pair-wised traffics\n",
    "            if ap2ap_traffics.get((src_ap, next_stop_ap), None) is None:\n",
    "                ap2ap_traffics[(src_ap, next_stop_ap)] = traffics\n",
    "            else:\n",
    "                existing_traffics = ap2ap_traffics[(src_ap, next_stop_ap)]\n",
    "                ap2ap_traffics[(src_ap, next_stop_ap)] = existing_traffics + traffics\n",
    "\n",
    "    return dst_ap_traffics, ap2ap_traffics"
   ]
  },
  {
   "cell_type": "markdown",
   "id": "e4470a68-8c84-4061-a439-5c244c113128",
   "metadata": {},
   "source": [
    "### D: Simulate all local demands adding and traffic dispatching"
   ]
  },
  {
   "cell_type": "code",
   "execution_count": null,
   "id": "76f6152d-1a04-465c-b51e-0c5b2dea6428",
   "metadata": {
    "tags": []
   },
   "outputs": [],
   "source": [
    "# intialize all airport routers\n",
    "airports = initialize_airports(all_routing_table, all_flights_table)\n",
    "print(f'Total have {len(airports)} airports.')"
   ]
  },
  {
   "cell_type": "code",
   "execution_count": 40,
   "id": "69dc0d6b-f2e9-47d6-8e1d-d278cca58870",
   "metadata": {
    "tags": []
   },
   "outputs": [],
   "source": [
    "inventory_list = []\n",
    "ap2ap_traffics_df_list = []\n",
    "\n",
    "for ts_day in range(NUM_DEMAND_DAYS):\n",
    "    # extract the current day demands\n",
    "    demand_current_ts = 'demand_d' + str(ts_day)\n",
    "    # print(f'\\n================ Process and Add Day {ts_day} Demands and Dispatch ==================')\n",
    "    demands_df['current_demand'] = list(zip(demands_df.dst, demands_df[demand_current_ts]))\n",
    "    current_demands = demands_df.groupby(by=['src'])['current_demand'].apply(list).reset_index(name='current_demand')\n",
    "\n",
    "    # add current demands to all airports before dispatching traffics\n",
    "    current_inventory_df = add_current_demands(airports, current_demands)\n",
    "    current_inventory_df.rename(columns={'inventory_amount': 'inventory_amount_d'+str(ts_day)}, inplace=True)\n",
    "    inventory_list.append(current_inventory_df)\n",
    "\n",
    "    # dispatch demands to world wide airports\n",
    "    dst_ap_traffics, ap2ap_traffics = dispatch_demands(airports)\n",
    "\n",
    "    # collecting ap2ap traffic volume as edge ts features\n",
    "    src_list = []\n",
    "    dst_list = []\n",
    "    traffic_payload_list = []\n",
    "    for (src, dst), traffics in ap2ap_traffics.items():\n",
    "        src_list.append(src)\n",
    "        dst_list.append(dst)\n",
    "        total_payload = 0\n",
    "        for traffic in traffics:\n",
    "            total_payload += traffic.get_payload()\n",
    "        traffic_payload_list.append(total_payload)\n",
    "    ap2ap_traffics_df = pd.DataFrame({\n",
    "        'src': src_list,\n",
    "        'dst': dst_list,\n",
    "        'traffic_payload_d'+str(ts_day): traffic_payload_list\n",
    "    })\n",
    "    ap2ap_traffics_df_list.append(ap2ap_traffics_df)\n",
    "\n",
    "    # add traffics to all airports\n",
    "    for dst_ap, traffics in dst_ap_traffics.items():\n",
    "        dst_airport_router = airports[dst_ap]\n",
    "        dst_airport_router.add_traffics(traffics)\n"
   ]
  },
  {
   "cell_type": "markdown",
   "id": "a90ad3dc-ffd4-4478-aae3-805abf6bbc49",
   "metadata": {},
   "source": [
    "## Save generated air transportation traffic data to local files.\n",
    "\n",
    "---\n",
    "\n",
    "### Build node data tables\n",
    "\n",
    "For simplicity, we only use airports as nodes, i.e., one node type. Static node features are in `airports_df`, while dynamic (time series) airport features are the inventory ammount collected in `inventory_list`."
   ]
  },
  {
   "cell_type": "code",
   "execution_count": null,
   "id": "0379309f-44f0-46c6-9738-34aeaa8fb76e",
   "metadata": {
    "tags": []
   },
   "outputs": [],
   "source": [
    "airport_node_df = airports_df[['iata_code', 'latitude_deg', 'longitude_deg']]\n",
    "\n",
    "for d, current_inventory_df in enumerate(inventory_list):\n",
    "    current_inventory_df.rename(columns={'inventory_amount': 'inventory_amount_'+str(d)}, inplace=True)\n",
    "    airport_node_df = pd.merge(airport_node_df, current_inventory_df, how='inner', on='iata_code')\n",
    "\n",
    "print(airport_node_df.shape)\n",
    "\n",
    "airport_node_df['inventory_amounts'] = airport_node_df[['inventory_amount_d'+str(d) for d in range(NUM_DEMAND_DAYS)]].values.tolist()\n",
    "airport_node_df['inventory_amounts'] = airport_node_df['inventory_amounts'].apply(lambda x: [round(v, 4) for v in x])"
   ]
  },
  {
   "cell_type": "code",
   "execution_count": 42,
   "id": "7a1ec1b3-d673-479d-a3a0-6fb18217f4cf",
   "metadata": {
    "tags": []
   },
   "outputs": [],
   "source": [
    "# Save the node table to a local parquet file\n",
    "airport_node_df[['iata_code', 'latitude_deg', 'longitude_deg', 'inventory_amounts']].to_parquet('airport.parquet', index=False)"
   ]
  },
  {
   "cell_type": "markdown",
   "id": "bd375cbf-189a-4264-a096-880f621ff9dd",
   "metadata": {},
   "source": [
    "### Build edge data tables\n",
    "\n",
    "Based on the airport traffics, we have two types of messages moving around airports.\n",
    "\n",
    "1. Airport to airport demands, which form a fully connected graph among all airports. Therefore, the edge list contains all pair-wised connections between any two airports. And the edge features are demand numbers between these pairs. If there is no demand in a day, its value should be 0. In addition, for GNN message passing, we need to reverse the src and dst in this edge type so that demand information can be passed to the src airport and then pass through flights as traffics. This edge table is from `airport_pair_full_df`.\n",
    "2. Airport to airport traffics, which are based on the actual flight connections. Therefore, it only contains airport pairs that have flights connected. This data could be from `ap2ap_traffics_df_list` and `all_flights_full`. If there is no traffic is a day, its value should be 0."
   ]
  },
  {
   "cell_type": "code",
   "execution_count": null,
   "id": "920d4ad7-9145-48b6-b4c6-04c994d08119",
   "metadata": {
    "tags": []
   },
   "outputs": [],
   "source": [
    "# demand edge list\n",
    "demand_edge_df = airport_pair_full_df[['dst', 'src', 'demands']]\n",
    "\n",
    "#reverse the demand edge direction\n",
    "demand_edge_df.rename(columns={'dst': 'src_code', 'src': 'dst_code'}, inplace=True)"
   ]
  },
  {
   "cell_type": "code",
   "execution_count": 44,
   "id": "1703ea9a-d71c-4413-b481-925c0ec51ee0",
   "metadata": {
    "tags": []
   },
   "outputs": [],
   "source": [
    "# save demand edge table to a local parquet file\n",
    "demand_edge_df.to_parquet('demand_edge.parquet', index=False)"
   ]
  },
  {
   "cell_type": "code",
   "execution_count": 45,
   "id": "90f507f4-9e9e-44af-b0b9-2c4f98517df3",
   "metadata": {
    "tags": []
   },
   "outputs": [],
   "source": [
    "# traffic edge list\n",
    "traffic_edge_df = pd.DataFrame(all_flights_full.groupby(by=['src', 'dst'])['capacity'].sum())\n",
    "traffic_edge_df.reset_index(inplace=True)"
   ]
  },
  {
   "cell_type": "code",
   "execution_count": 46,
   "id": "0545799e-7b16-4c3d-bdfb-7e7324326bcc",
   "metadata": {
    "tags": []
   },
   "outputs": [],
   "source": [
    "for ap2ap_traffic_df in ap2ap_traffics_df_list:\n",
    "    traffic_edge_df = pd.merge(traffic_edge_df, ap2ap_traffic_df, how='left', on=['src', 'dst'])"
   ]
  },
  {
   "cell_type": "code",
   "execution_count": 47,
   "id": "2a5db147-a2e1-441a-b108-4c1a1e2b4ceb",
   "metadata": {
    "tags": []
   },
   "outputs": [],
   "source": [
    "# replace nan to 0\n",
    "traffic_edge_df.fillna(0, inplace=True) \n",
    "traffic_edge_df.rename(columns={'src': 'src_code', 'dst': 'dst_code'}, inplace=True)"
   ]
  },
  {
   "cell_type": "code",
   "execution_count": 48,
   "id": "ac4fcc49-033c-4677-bc08-7155df674a15",
   "metadata": {
    "tags": []
   },
   "outputs": [],
   "source": [
    "# merge multiple columns into one column of list\n",
    "traffic_edge_df['traffics'] = traffic_edge_df[['traffic_payload_d'+str(d) for d in range(NUM_DEMAND_DAYS)]].values.tolist()"
   ]
  },
  {
   "cell_type": "code",
   "execution_count": 49,
   "id": "b49faaed-066d-45bb-ae28-2e3d57a03cf7",
   "metadata": {
    "tags": []
   },
   "outputs": [],
   "source": [
    "# save traffic edge table to a local parquet file\n",
    "traffic_edge_df[['src_code', 'dst_code', 'capacity', 'traffics']].to_parquet('traffic_edge.parquet', index=False)"
   ]
  },
  {
   "cell_type": "code",
   "execution_count": null,
   "id": "00f8cbce-5132-45b1-b37e-430176429b87",
   "metadata": {},
   "outputs": [],
   "source": []
  }
 ],
 "metadata": {
  "kernelspec": {
   "display_name": "gsf",
   "language": "python",
   "name": "python3"
  },
  "language_info": {
   "codemirror_mode": {
    "name": "ipython",
    "version": 3
   },
   "file_extension": ".py",
   "mimetype": "text/x-python",
   "name": "python",
   "nbconvert_exporter": "python",
   "pygments_lexer": "ipython3",
   "version": "3.9.21"
  }
 },
 "nbformat": 4,
 "nbformat_minor": 5
}
