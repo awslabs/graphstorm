{
 "cells": [
  {
   "cell_type": "markdown",
   "id": "5347daab-2350-491a-9ce2-03f668104c25",
   "metadata": {},
   "source": [
    "## Network Data Processing for Graph Construciton\n",
    "\n",
    "After discussion with the Network team, we defined a graph schema based on **Metro** and **Port** only. There are two types of nodes and four types of edges as listed below.\n",
    "\n",
    "- Node types:\n",
    "    - Metro: all metros in network;\n",
    "    - Port: all connected ports\n",
    "\n",
    "- Edge types:\n",
    "    - (Metro, demand, Metro): a directional link from a Metro to any other Metros. This is a fully connected sub-graph, i.e., any two metros have two links.\n",
    "    - (Port, in, Metro): a bi-directional link from a Port to a Metro. There will be a reverse link from a Metro to a Port.\n",
    "    - (Metro, to, Metro): a directional link from a Port to a Port. Following the physical connection, there is only one way Port-to-Port traffic.\n",
    "----"
   ]
  },
  {
   "cell_type": "code",
   "execution_count": 1,
   "id": "fdb8a96f-f7ff-4a66-a4be-e9d675328d3a",
   "metadata": {
    "tags": []
   },
   "outputs": [],
   "source": [
    "import os\n",
    "import pandas as pd\n",
    "import numpy as np\n",
    "pd.set_option('display.max_columns', 100)"
   ]
  },
  {
   "cell_type": "code",
   "execution_count": 2,
   "id": "58244ceb-8c11-45e1-9c8f-cadb87f40458",
   "metadata": {
    "tags": []
   },
   "outputs": [
    {
     "name": "stdout",
     "output_type": "stream",
     "text": [
      "(383412, 22)\n",
      "(383362, 22)\n",
      "---------------------------------------------------------------------------------------------------\n",
      "(111834, 4)\n",
      "(111625, 4)\n"
     ]
    }
   ],
   "source": [
    "nl04_df = pd.read_csv('node_link_data_2023121104.csv')\n",
    "nl05_df = pd.read_csv('node_link_data_2023121105.csv')\n",
    "print(nl04_df.shape)\n",
    "print(nl05_df.shape)\n",
    "\n",
    "split_line = '-'.join([_ for i in range(100)])\n",
    "print(split_line)\n",
    "\n",
    "dm04_df = pd.read_csv('traffic_demand_2023121104.csv')\n",
    "dm05_df = pd.read_csv('traffic_demand_2023121105.csv')\n",
    "print(dm04_df.shape)\n",
    "print(dm05_df.shape)"
   ]
  },
  {
   "cell_type": "code",
   "execution_count": 3,
   "id": "921c01ee-9b80-4bcf-aeb4-af0b3e57fa91",
   "metadata": {
    "tags": []
   },
   "outputs": [
    {
     "data": {
      "text/html": [
       "<div>\n",
       "<style scoped>\n",
       "    .dataframe tbody tr th:only-of-type {\n",
       "        vertical-align: middle;\n",
       "    }\n",
       "\n",
       "    .dataframe tbody tr th {\n",
       "        vertical-align: top;\n",
       "    }\n",
       "\n",
       "    .dataframe thead th {\n",
       "        text-align: right;\n",
       "    }\n",
       "</style>\n",
       "<table border=\"1\" class=\"dataframe\">\n",
       "  <thead>\n",
       "    <tr style=\"text-align: right;\">\n",
       "      <th></th>\n",
       "      <th>site_a</th>\n",
       "      <th>site_z</th>\n",
       "      <th>device_a</th>\n",
       "      <th>device_z</th>\n",
       "      <th>port_a</th>\n",
       "      <th>port_z</th>\n",
       "      <th>path_id</th>\n",
       "      <th>bw_gbps</th>\n",
       "      <th>lifecycle_state</th>\n",
       "      <th>tshift_status_a</th>\n",
       "      <th>tshift_status_z</th>\n",
       "      <th>metro_a</th>\n",
       "      <th>metro_z</th>\n",
       "      <th>span_name_m</th>\n",
       "      <th>span_name</th>\n",
       "      <th>fabric</th>\n",
       "      <th>span_type</th>\n",
       "      <th>span_build_type</th>\n",
       "      <th>span_bw_gbps</th>\n",
       "      <th>timestamp</th>\n",
       "      <th>traffic_gbps</th>\n",
       "      <th>utilization_%</th>\n",
       "    </tr>\n",
       "  </thead>\n",
       "  <tbody>\n",
       "    <tr>\n",
       "      <th>158807</th>\n",
       "      <td>MDW062</td>\n",
       "      <td>SEA019</td>\n",
       "      <td>mdw62-br-fnc-f1-b1-t1-r14</td>\n",
       "      <td>sea19-br-fnc-f1-b1-t1-r14</td>\n",
       "      <td>jrp10-3</td>\n",
       "      <td>jrp10-3</td>\n",
       "      <td>P-MDW062-SEA019-01-[BF]-Lumen</td>\n",
       "      <td>10.0</td>\n",
       "      <td>PENDING_NORMALIZE</td>\n",
       "      <td>shifted</td>\n",
       "      <td>shifted</td>\n",
       "      <td>MDW</td>\n",
       "      <td>SEA</td>\n",
       "      <td>MDW_SEA</td>\n",
       "      <td>MDW062_SEA019</td>\n",
       "      <td>FNC</td>\n",
       "      <td>BACKBONE</td>\n",
       "      <td>BACKBONE</td>\n",
       "      <td>1080.0</td>\n",
       "      <td>2023-12-11 04:24:00</td>\n",
       "      <td>NaN</td>\n",
       "      <td>NaN</td>\n",
       "    </tr>\n",
       "  </tbody>\n",
       "</table>\n",
       "</div>"
      ],
      "text/plain": [
       "        site_a  site_z                   device_a                   device_z  \\\n",
       "158807  MDW062  SEA019  mdw62-br-fnc-f1-b1-t1-r14  sea19-br-fnc-f1-b1-t1-r14   \n",
       "\n",
       "         port_a   port_z                        path_id  bw_gbps  \\\n",
       "158807  jrp10-3  jrp10-3  P-MDW062-SEA019-01-[BF]-Lumen     10.0   \n",
       "\n",
       "          lifecycle_state tshift_status_a tshift_status_z metro_a metro_z  \\\n",
       "158807  PENDING_NORMALIZE         shifted         shifted     MDW     SEA   \n",
       "\n",
       "       span_name_m      span_name fabric span_type span_build_type  \\\n",
       "158807     MDW_SEA  MDW062_SEA019    FNC  BACKBONE        BACKBONE   \n",
       "\n",
       "        span_bw_gbps            timestamp  traffic_gbps  utilization_%  \n",
       "158807        1080.0  2023-12-11 04:24:00           NaN            NaN  "
      ]
     },
     "execution_count": 3,
     "metadata": {},
     "output_type": "execute_result"
    }
   ],
   "source": [
    "nl04_df[nl04_df.traffic_gbps.isna()].sample(1)"
   ]
  },
  {
   "cell_type": "code",
   "execution_count": 4,
   "id": "37b654e2-fbf2-4973-bf8c-7cffffde4a9c",
   "metadata": {
    "tags": []
   },
   "outputs": [
    {
     "data": {
      "text/html": [
       "<div>\n",
       "<style scoped>\n",
       "    .dataframe tbody tr th:only-of-type {\n",
       "        vertical-align: middle;\n",
       "    }\n",
       "\n",
       "    .dataframe tbody tr th {\n",
       "        vertical-align: top;\n",
       "    }\n",
       "\n",
       "    .dataframe thead th {\n",
       "        text-align: right;\n",
       "    }\n",
       "</style>\n",
       "<table border=\"1\" class=\"dataframe\">\n",
       "  <thead>\n",
       "    <tr style=\"text-align: right;\">\n",
       "      <th></th>\n",
       "      <th>site_a</th>\n",
       "      <th>site_z</th>\n",
       "      <th>device_a</th>\n",
       "      <th>device_z</th>\n",
       "      <th>port_a</th>\n",
       "      <th>port_z</th>\n",
       "      <th>path_id</th>\n",
       "      <th>bw_gbps</th>\n",
       "      <th>lifecycle_state</th>\n",
       "      <th>tshift_status_a</th>\n",
       "      <th>tshift_status_z</th>\n",
       "      <th>metro_a</th>\n",
       "      <th>metro_z</th>\n",
       "      <th>span_name_m</th>\n",
       "      <th>span_name</th>\n",
       "      <th>fabric</th>\n",
       "      <th>span_type</th>\n",
       "      <th>span_build_type</th>\n",
       "      <th>span_bw_gbps</th>\n",
       "      <th>timestamp</th>\n",
       "      <th>traffic_gbps</th>\n",
       "      <th>utilization_%</th>\n",
       "    </tr>\n",
       "  </thead>\n",
       "  <tbody>\n",
       "    <tr>\n",
       "      <th>5</th>\n",
       "      <td>PDX001</td>\n",
       "      <td>PDX068</td>\n",
       "      <td>pdx1-br-fnc-f1-b3-t1-r2</td>\n",
       "      <td>pdx68-br-fnc-f1-b1-t1-r14</td>\n",
       "      <td>jrp7-4</td>\n",
       "      <td>jrp11-4</td>\n",
       "      <td>P-PDX001-PDX068-02-[BF]</td>\n",
       "      <td>100.0</td>\n",
       "      <td>DECOMMISSIONED</td>\n",
       "      <td>shifted</td>\n",
       "      <td>shifted</td>\n",
       "      <td>PDX</td>\n",
       "      <td>PDX</td>\n",
       "      <td>PDX_PDX</td>\n",
       "      <td>PDX001_PDX068</td>\n",
       "      <td>FNC</td>\n",
       "      <td>INTRA-METRO</td>\n",
       "      <td>BULK_FIBER</td>\n",
       "      <td>153600.0</td>\n",
       "      <td>2023-12-11 05:04:00</td>\n",
       "      <td>NaN</td>\n",
       "      <td>NaN</td>\n",
       "    </tr>\n",
       "  </tbody>\n",
       "</table>\n",
       "</div>"
      ],
      "text/plain": [
       "   site_a  site_z                 device_a                   device_z  port_a  \\\n",
       "5  PDX001  PDX068  pdx1-br-fnc-f1-b3-t1-r2  pdx68-br-fnc-f1-b1-t1-r14  jrp7-4   \n",
       "\n",
       "    port_z                  path_id  bw_gbps lifecycle_state tshift_status_a  \\\n",
       "5  jrp11-4  P-PDX001-PDX068-02-[BF]    100.0  DECOMMISSIONED         shifted   \n",
       "\n",
       "  tshift_status_z metro_a metro_z span_name_m      span_name fabric  \\\n",
       "5         shifted     PDX     PDX     PDX_PDX  PDX001_PDX068    FNC   \n",
       "\n",
       "     span_type span_build_type  span_bw_gbps            timestamp  \\\n",
       "5  INTRA-METRO      BULK_FIBER      153600.0  2023-12-11 05:04:00   \n",
       "\n",
       "   traffic_gbps  utilization_%  \n",
       "5           NaN            NaN  "
      ]
     },
     "execution_count": 4,
     "metadata": {},
     "output_type": "execute_result"
    }
   ],
   "source": [
    "nl05_df[nl05_df.traffic_gbps.isna()].head(1)"
   ]
  },
  {
   "cell_type": "markdown",
   "id": "14b18d73-1a67-4fc3-a658-b6af42f5ee51",
   "metadata": {},
   "source": [
    "### Step 1: Collect all nodes\n",
    "\n",
    "- Collect all Metro from both traffic and demand tables, and get unique values;\n",
    "- Collect all device+port name from traffic tables, and get unique values."
   ]
  },
  {
   "cell_type": "code",
   "execution_count": 5,
   "id": "07aaa8ac-f49a-441e-893e-f87019c913af",
   "metadata": {
    "tags": []
   },
   "outputs": [],
   "source": [
    "nl_df = pd.concat([nl04_df, nl05_df])\n",
    "dm_df = pd.concat([dm04_df, dm05_df])"
   ]
  },
  {
   "cell_type": "code",
   "execution_count": 6,
   "id": "73cc835c-ea50-47ae-947d-5e7553135d7f",
   "metadata": {
    "tags": []
   },
   "outputs": [
    {
     "name": "stdout",
     "output_type": "stream",
     "text": [
      "Index(['site_a', 'site_z', 'device_a', 'device_z', 'port_a', 'port_z',\n",
      "       'path_id', 'bw_gbps', 'lifecycle_state', 'tshift_status_a',\n",
      "       'tshift_status_z', 'metro_a', 'metro_z', 'span_name_m', 'span_name',\n",
      "       'fabric', 'span_type', 'span_build_type', 'span_bw_gbps', 'timestamp',\n",
      "       'traffic_gbps', 'utilization_%'],\n",
      "      dtype='object')\n",
      "Index(['src_region', 'dst_region', 'timebucket', 'gb'], dtype='object')\n"
     ]
    }
   ],
   "source": [
    "print(nl_df.columns)\n",
    "print(dm_df.columns)"
   ]
  },
  {
   "cell_type": "code",
   "execution_count": 7,
   "id": "c5795fa4-7e4f-46ac-890f-ee0ca1acce14",
   "metadata": {
    "tags": []
   },
   "outputs": [
    {
     "name": "stdout",
     "output_type": "stream",
     "text": [
      "(38501, 22)\n",
      "(0, 22)\n"
     ]
    }
   ],
   "source": [
    "# fill NaNs with 0s\n",
    "print(nl_df[nl_df.traffic_gbps.isna()].shape)\n",
    "nl_df.fillna(0, inplace=True)\n",
    "print(nl_df[nl_df.traffic_gbps.isna()].shape)"
   ]
  },
  {
   "cell_type": "code",
   "execution_count": 8,
   "id": "3c918051-fc59-4ecd-b73b-090f441517a3",
   "metadata": {
    "tags": []
   },
   "outputs": [
    {
     "name": "stdout",
     "output_type": "stream",
     "text": [
      "(766774, 22)\n",
      "(766774, 22)\n"
     ]
    }
   ],
   "source": [
    "# drop duplicated records\n",
    "print(nl_df.shape)\n",
    "nl_df.drop_duplicates(inplace=True)\n",
    "print(nl_df.shape)"
   ]
  },
  {
   "cell_type": "markdown",
   "id": "e72d56b2-457f-4f38-9472-2c9195339c02",
   "metadata": {},
   "source": [
    "#### **Metro** nodes"
   ]
  },
  {
   "cell_type": "code",
   "execution_count": 9,
   "id": "1235180f-12a8-4c09-a29a-a4c69d7bdb1e",
   "metadata": {
    "tags": []
   },
   "outputs": [
    {
     "name": "stdout",
     "output_type": "stream",
     "text": [
      "(93,)\n",
      "(93,)\n",
      "(93,)\n"
     ]
    },
    {
     "data": {
      "text/plain": [
       "array(['akl', 'ams', 'arn', 'ath', 'atl', 'bah', 'bcn'], dtype='<U3')"
      ]
     },
     "execution_count": 9,
     "metadata": {},
     "output_type": "execute_result"
    }
   ],
   "source": [
    "metro_a = nl_df.metro_a.unique()\n",
    "metro_z = nl_df.metro_a.unique()\n",
    "print(metro_a.shape)\n",
    "print(metro_z.shape)\n",
    "metro_in_nl = np.char.lower(np.unique(np.concatenate([metro_a, metro_z])).astype('U'))\n",
    "print(metro_in_nl.shape)\n",
    "metro_in_nl[:7]"
   ]
  },
  {
   "cell_type": "code",
   "execution_count": 10,
   "id": "0a247d24-3ddd-489e-8441-43bc3aec44ed",
   "metadata": {
    "tags": []
   },
   "outputs": [
    {
     "name": "stdout",
     "output_type": "stream",
     "text": [
      "(114,)\n",
      "(132,)\n",
      "(132,)\n"
     ]
    },
    {
     "data": {
      "text/plain": [
       "array(['abc', 'akl', 'amm', 'ams', 'arn', 'ath', 'atl'], dtype='<U3')"
      ]
     },
     "execution_count": 10,
     "metadata": {},
     "output_type": "execute_result"
    }
   ],
   "source": [
    "src = dm_df.src_region.unique()\n",
    "dst = dm_df.dst_region.unique()\n",
    "print(src.shape)\n",
    "print(dst.shape)\n",
    "metro_in_dm = np.unique(np.concatenate([src, dst])).astype('U')\n",
    "print(metro_in_dm.shape)\n",
    "metro_in_dm[:7]"
   ]
  },
  {
   "cell_type": "code",
   "execution_count": 11,
   "id": "ddc6e06d-9746-49ff-80de-5a2e2bd89dbd",
   "metadata": {
    "tags": []
   },
   "outputs": [
    {
     "name": "stdout",
     "output_type": "stream",
     "text": [
      "(133,)\n"
     ]
    },
    {
     "data": {
      "text/plain": [
       "array(['yul', 'yvr', 'yyc', 'zag', 'zaz', 'zhy', 'zrh'], dtype='<U3')"
      ]
     },
     "execution_count": 11,
     "metadata": {},
     "output_type": "execute_result"
    }
   ],
   "source": [
    "metro_all = np.unique(np.concatenate([metro_in_nl, metro_in_dm]))\n",
    "print(metro_all.shape)\n",
    "metro_all[-7:]"
   ]
  },
  {
   "cell_type": "markdown",
   "id": "f9f108a8-3f7b-40ba-8644-b0487d7ee3e1",
   "metadata": {},
   "source": [
    "#### **Port** nodes"
   ]
  },
  {
   "cell_type": "code",
   "execution_count": 12,
   "id": "b9d359b8-568b-46d1-9d57-a3a53d6a49c7",
   "metadata": {
    "tags": []
   },
   "outputs": [
    {
     "name": "stdout",
     "output_type": "stream",
     "text": [
      "(31291,)\n",
      "(31126,)\n",
      "(62334,)\n"
     ]
    },
    {
     "data": {
      "text/plain": [
       "array(['akl50-br-cor-r1:et-0/0/19', 'akl50-br-cor-r2:et-0/0/19',\n",
       "       'akl50-br-cor-r3:et-0/0/19', 'ams1-br-bfb-f1-b2-t1-r1:et-0/0/13',\n",
       "       'ams1-br-bfb-f1-b2-t1-r1:et-0/0/17',\n",
       "       'ams1-br-bfb-f1-b2-t1-r1:et-0/0/23',\n",
       "       'ams1-br-bfb-f1-b2-t1-r1:et-0/0/29'], dtype=object)"
      ]
     },
     "execution_count": 12,
     "metadata": {},
     "output_type": "execute_result"
    }
   ],
   "source": [
    "nl_df['da_pa'] = nl_df['device_a'] + ':' + nl_df['port_a']\n",
    "nl_df['dz_pz'] = nl_df['device_z'] + ':' + nl_df['port_z']\n",
    "da_pa_df = nl_df.da_pa.unique()\n",
    "dz_pz_df = nl_df.dz_pz.unique()\n",
    "print(da_pa_df.shape)\n",
    "print(dz_pz_df.shape)\n",
    "port_all = np.unique(np.concatenate([da_pa_df, dz_pz_df]))\n",
    "print(port_all.shape)\n",
    "port_all[:7]"
   ]
  },
  {
   "cell_type": "markdown",
   "id": "761cfc25-d2f0-4f40-b050-3a542eaea1f2",
   "metadata": {},
   "source": [
    "### Step 2: Generate node data\n",
    "\n",
    "collect all nodes' feature. For **Metro** nodes, we can have the number of sites and the number of devices as features. And if possible to get all longitute and latitute as feature too. For **Port** nodes, there is no feature, but a node id list."
   ]
  },
  {
   "cell_type": "code",
   "execution_count": 13,
   "id": "fc31474e-d77d-4c69-a34f-2687fdd52f2d",
   "metadata": {
    "tags": []
   },
   "outputs": [
    {
     "data": {
      "text/plain": [
       "(133, 1)"
      ]
     },
     "execution_count": 13,
     "metadata": {},
     "output_type": "execute_result"
    }
   ],
   "source": [
    "metro_df = pd.DataFrame({'nid': metro_all})\n",
    "metro_df.shape"
   ]
  },
  {
   "cell_type": "code",
   "execution_count": 14,
   "id": "2448d900-489f-4412-a5a5-7a456e82973a",
   "metadata": {
    "tags": []
   },
   "outputs": [
    {
     "data": {
      "text/html": [
       "<div>\n",
       "<style scoped>\n",
       "    .dataframe tbody tr th:only-of-type {\n",
       "        vertical-align: middle;\n",
       "    }\n",
       "\n",
       "    .dataframe tbody tr th {\n",
       "        vertical-align: top;\n",
       "    }\n",
       "\n",
       "    .dataframe thead th {\n",
       "        text-align: right;\n",
       "    }\n",
       "</style>\n",
       "<table border=\"1\" class=\"dataframe\">\n",
       "  <thead>\n",
       "    <tr style=\"text-align: right;\">\n",
       "      <th></th>\n",
       "      <th>site_a</th>\n",
       "      <th>site_z</th>\n",
       "      <th>device_a</th>\n",
       "      <th>device_z</th>\n",
       "      <th>port_a</th>\n",
       "      <th>port_z</th>\n",
       "      <th>path_id</th>\n",
       "      <th>bw_gbps</th>\n",
       "      <th>lifecycle_state</th>\n",
       "      <th>tshift_status_a</th>\n",
       "      <th>tshift_status_z</th>\n",
       "      <th>metro_a</th>\n",
       "      <th>metro_z</th>\n",
       "      <th>span_name_m</th>\n",
       "      <th>span_name</th>\n",
       "      <th>fabric</th>\n",
       "      <th>span_type</th>\n",
       "      <th>span_build_type</th>\n",
       "      <th>span_bw_gbps</th>\n",
       "      <th>timestamp</th>\n",
       "      <th>traffic_gbps</th>\n",
       "      <th>utilization_%</th>\n",
       "      <th>da_pa</th>\n",
       "      <th>dz_pz</th>\n",
       "    </tr>\n",
       "  </thead>\n",
       "  <tbody>\n",
       "    <tr>\n",
       "      <th>0</th>\n",
       "      <td>IAD055</td>\n",
       "      <td>IAD061</td>\n",
       "      <td>iad55-br-fnc-f1-b2-t1-r9</td>\n",
       "      <td>iad61-br-fnc-f1-b1-t1-r1</td>\n",
       "      <td>jrp10-4</td>\n",
       "      <td>jrp14-4</td>\n",
       "      <td>P-IAD055-IAD061-01-[Metro]</td>\n",
       "      <td>100.0</td>\n",
       "      <td>OPERATIONAL</td>\n",
       "      <td>not_shifted</td>\n",
       "      <td>not_shifted</td>\n",
       "      <td>IAD</td>\n",
       "      <td>IAD</td>\n",
       "      <td>IAD_IAD</td>\n",
       "      <td>IAD055_IAD061</td>\n",
       "      <td>FNC</td>\n",
       "      <td>INTRA-METRO</td>\n",
       "      <td>AMAZON_OLP_METRO</td>\n",
       "      <td>76800.0</td>\n",
       "      <td>2023-12-11 04:04:00</td>\n",
       "      <td>8.162865</td>\n",
       "      <td>8.162865</td>\n",
       "      <td>iad55-br-fnc-f1-b2-t1-r9:jrp10-4</td>\n",
       "      <td>iad61-br-fnc-f1-b1-t1-r1:jrp14-4</td>\n",
       "    </tr>\n",
       "  </tbody>\n",
       "</table>\n",
       "</div>"
      ],
      "text/plain": [
       "   site_a  site_z                  device_a                  device_z  \\\n",
       "0  IAD055  IAD061  iad55-br-fnc-f1-b2-t1-r9  iad61-br-fnc-f1-b1-t1-r1   \n",
       "\n",
       "    port_a   port_z                     path_id  bw_gbps lifecycle_state  \\\n",
       "0  jrp10-4  jrp14-4  P-IAD055-IAD061-01-[Metro]    100.0     OPERATIONAL   \n",
       "\n",
       "  tshift_status_a tshift_status_z metro_a metro_z span_name_m      span_name  \\\n",
       "0     not_shifted     not_shifted     IAD     IAD     IAD_IAD  IAD055_IAD061   \n",
       "\n",
       "  fabric    span_type   span_build_type  span_bw_gbps            timestamp  \\\n",
       "0    FNC  INTRA-METRO  AMAZON_OLP_METRO       76800.0  2023-12-11 04:04:00   \n",
       "\n",
       "   traffic_gbps  utilization_%                             da_pa  \\\n",
       "0      8.162865       8.162865  iad55-br-fnc-f1-b2-t1-r9:jrp10-4   \n",
       "\n",
       "                              dz_pz  \n",
       "0  iad61-br-fnc-f1-b1-t1-r1:jrp14-4  "
      ]
     },
     "execution_count": 14,
     "metadata": {},
     "output_type": "execute_result"
    }
   ],
   "source": [
    "nl_df.head(1)"
   ]
  },
  {
   "cell_type": "code",
   "execution_count": 15,
   "id": "884582a1-6faf-4530-8290-a6d1045d5116",
   "metadata": {
    "tags": []
   },
   "outputs": [],
   "source": [
    "def split_site(site):\n",
    "    return [site[:3], site[3:]]"
   ]
  },
  {
   "cell_type": "code",
   "execution_count": 16,
   "id": "847155ab-20d5-443a-9c59-7bdc882c9968",
   "metadata": {
    "tags": []
   },
   "outputs": [],
   "source": [
    "site_a = pd.DataFrame(nl_df.site_a.apply(split_site).to_list(), columns=['metro', 'site_num'])\n",
    "site_z = pd.DataFrame(nl_df.site_z.apply(split_site).to_list(), columns=['metro', 'site_num'])"
   ]
  },
  {
   "cell_type": "code",
   "execution_count": 17,
   "id": "f04b3625-5ad1-4e02-9566-1529a46339dc",
   "metadata": {
    "tags": []
   },
   "outputs": [],
   "source": [
    "sites = pd.concat([site_a, site_z])"
   ]
  },
  {
   "cell_type": "code",
   "execution_count": 18,
   "id": "69155839-0c5e-422d-8caf-f93d2339146e",
   "metadata": {
    "tags": []
   },
   "outputs": [
    {
     "name": "stdout",
     "output_type": "stream",
     "text": [
      "(1533548, 2)\n"
     ]
    },
    {
     "data": {
      "text/html": [
       "<div>\n",
       "<style scoped>\n",
       "    .dataframe tbody tr th:only-of-type {\n",
       "        vertical-align: middle;\n",
       "    }\n",
       "\n",
       "    .dataframe tbody tr th {\n",
       "        vertical-align: top;\n",
       "    }\n",
       "\n",
       "    .dataframe thead th {\n",
       "        text-align: right;\n",
       "    }\n",
       "</style>\n",
       "<table border=\"1\" class=\"dataframe\">\n",
       "  <thead>\n",
       "    <tr style=\"text-align: right;\">\n",
       "      <th></th>\n",
       "      <th>metro</th>\n",
       "      <th>site_num</th>\n",
       "    </tr>\n",
       "  </thead>\n",
       "  <tbody>\n",
       "    <tr>\n",
       "      <th>0</th>\n",
       "      <td>IAD</td>\n",
       "      <td>055</td>\n",
       "    </tr>\n",
       "    <tr>\n",
       "      <th>1</th>\n",
       "      <td>LAX</td>\n",
       "      <td>003</td>\n",
       "    </tr>\n",
       "    <tr>\n",
       "      <th>2</th>\n",
       "      <td>CMH</td>\n",
       "      <td>051</td>\n",
       "    </tr>\n",
       "    <tr>\n",
       "      <th>3</th>\n",
       "      <td>FRA</td>\n",
       "      <td>053</td>\n",
       "    </tr>\n",
       "    <tr>\n",
       "      <th>4</th>\n",
       "      <td>BER</td>\n",
       "      <td>028</td>\n",
       "    </tr>\n",
       "  </tbody>\n",
       "</table>\n",
       "</div>"
      ],
      "text/plain": [
       "  metro site_num\n",
       "0   IAD      055\n",
       "1   LAX      003\n",
       "2   CMH      051\n",
       "3   FRA      053\n",
       "4   BER      028"
      ]
     },
     "execution_count": 18,
     "metadata": {},
     "output_type": "execute_result"
    }
   ],
   "source": [
    "print(sites.shape)\n",
    "sites.head()"
   ]
  },
  {
   "cell_type": "code",
   "execution_count": 19,
   "id": "df5f483c-0f48-495b-abd9-fb2474672845",
   "metadata": {
    "tags": []
   },
   "outputs": [
    {
     "name": "stdout",
     "output_type": "stream",
     "text": [
      "(368, 2)\n"
     ]
    },
    {
     "data": {
      "text/html": [
       "<div>\n",
       "<style scoped>\n",
       "    .dataframe tbody tr th:only-of-type {\n",
       "        vertical-align: middle;\n",
       "    }\n",
       "\n",
       "    .dataframe tbody tr th {\n",
       "        vertical-align: top;\n",
       "    }\n",
       "\n",
       "    .dataframe thead th {\n",
       "        text-align: right;\n",
       "    }\n",
       "</style>\n",
       "<table border=\"1\" class=\"dataframe\">\n",
       "  <thead>\n",
       "    <tr style=\"text-align: right;\">\n",
       "      <th></th>\n",
       "      <th>metro</th>\n",
       "      <th>site_num</th>\n",
       "    </tr>\n",
       "  </thead>\n",
       "  <tbody>\n",
       "    <tr>\n",
       "      <th>162</th>\n",
       "      <td>BOG</td>\n",
       "      <td>051</td>\n",
       "    </tr>\n",
       "    <tr>\n",
       "      <th>17</th>\n",
       "      <td>IAD</td>\n",
       "      <td>117</td>\n",
       "    </tr>\n",
       "    <tr>\n",
       "      <th>164</th>\n",
       "      <td>LHR</td>\n",
       "      <td>005</td>\n",
       "    </tr>\n",
       "    <tr>\n",
       "      <th>122</th>\n",
       "      <td>PIT</td>\n",
       "      <td>050</td>\n",
       "    </tr>\n",
       "  </tbody>\n",
       "</table>\n",
       "</div>"
      ],
      "text/plain": [
       "    metro site_num\n",
       "162   BOG      051\n",
       "17    IAD      117\n",
       "164   LHR      005\n",
       "122   PIT      050"
      ]
     },
     "execution_count": 19,
     "metadata": {},
     "output_type": "execute_result"
    }
   ],
   "source": [
    "uniq_sites = sites.drop_duplicates()\n",
    "print(uniq_sites.shape)\n",
    "uniq_sites.sample(4)"
   ]
  },
  {
   "cell_type": "code",
   "execution_count": 20,
   "id": "9647f6bc-465a-4a1a-969f-f11b74a17097",
   "metadata": {
    "tags": []
   },
   "outputs": [],
   "source": [
    "site_cnt = pd.DataFrame(uniq_sites.groupby('metro').count())"
   ]
  },
  {
   "cell_type": "code",
   "execution_count": 21,
   "id": "a45f6e98-d5d4-48f4-88b1-5352f4139174",
   "metadata": {
    "tags": []
   },
   "outputs": [],
   "source": [
    "site_cnt = site_cnt.reset_index()"
   ]
  },
  {
   "cell_type": "code",
   "execution_count": 22,
   "id": "f2dc4de1-13f9-411f-b553-49ae76337716",
   "metadata": {
    "tags": []
   },
   "outputs": [
    {
     "name": "stdout",
     "output_type": "stream",
     "text": [
      "(108, 3)\n"
     ]
    },
    {
     "data": {
      "text/html": [
       "<div>\n",
       "<style scoped>\n",
       "    .dataframe tbody tr th:only-of-type {\n",
       "        vertical-align: middle;\n",
       "    }\n",
       "\n",
       "    .dataframe tbody tr th {\n",
       "        vertical-align: top;\n",
       "    }\n",
       "\n",
       "    .dataframe thead th {\n",
       "        text-align: right;\n",
       "    }\n",
       "</style>\n",
       "<table border=\"1\" class=\"dataframe\">\n",
       "  <thead>\n",
       "    <tr style=\"text-align: right;\">\n",
       "      <th></th>\n",
       "      <th>metro</th>\n",
       "      <th>site_num</th>\n",
       "      <th>metro_id</th>\n",
       "    </tr>\n",
       "  </thead>\n",
       "  <tbody>\n",
       "    <tr>\n",
       "      <th>0</th>\n",
       "      <td>AKL</td>\n",
       "      <td>1</td>\n",
       "      <td>akl</td>\n",
       "    </tr>\n",
       "    <tr>\n",
       "      <th>1</th>\n",
       "      <td>AMS</td>\n",
       "      <td>5</td>\n",
       "      <td>ams</td>\n",
       "    </tr>\n",
       "    <tr>\n",
       "      <th>2</th>\n",
       "      <td>ARN</td>\n",
       "      <td>4</td>\n",
       "      <td>arn</td>\n",
       "    </tr>\n",
       "    <tr>\n",
       "      <th>3</th>\n",
       "      <td>ATH</td>\n",
       "      <td>1</td>\n",
       "      <td>ath</td>\n",
       "    </tr>\n",
       "    <tr>\n",
       "      <th>4</th>\n",
       "      <td>ATL</td>\n",
       "      <td>6</td>\n",
       "      <td>atl</td>\n",
       "    </tr>\n",
       "  </tbody>\n",
       "</table>\n",
       "</div>"
      ],
      "text/plain": [
       "  metro  site_num metro_id\n",
       "0   AKL         1      akl\n",
       "1   AMS         5      ams\n",
       "2   ARN         4      arn\n",
       "3   ATH         1      ath\n",
       "4   ATL         6      atl"
      ]
     },
     "execution_count": 22,
     "metadata": {},
     "output_type": "execute_result"
    }
   ],
   "source": [
    "site_cnt['metro_id'] = site_cnt.metro.str.lower()\n",
    "print(site_cnt.shape)\n",
    "site_cnt.head()"
   ]
  },
  {
   "cell_type": "code",
   "execution_count": 23,
   "id": "24fdef50-eb2c-4330-a33e-ded509c0c458",
   "metadata": {
    "tags": []
   },
   "outputs": [],
   "source": [
    "metro_node = pd.merge(metro_df, site_cnt, how='left', left_on='nid', right_on='metro_id')"
   ]
  },
  {
   "cell_type": "code",
   "execution_count": 24,
   "id": "150eee68-d9fb-4704-9e22-93f0f66f5cf1",
   "metadata": {
    "tags": []
   },
   "outputs": [
    {
     "name": "stdout",
     "output_type": "stream",
     "text": [
      "(133, 4)\n"
     ]
    }
   ],
   "source": [
    "print(metro_node.shape)"
   ]
  },
  {
   "cell_type": "code",
   "execution_count": 25,
   "id": "5beb1862-5219-4c3a-86c3-38dce43cbf11",
   "metadata": {
    "tags": []
   },
   "outputs": [
    {
     "data": {
      "text/html": [
       "<div>\n",
       "<style scoped>\n",
       "    .dataframe tbody tr th:only-of-type {\n",
       "        vertical-align: middle;\n",
       "    }\n",
       "\n",
       "    .dataframe tbody tr th {\n",
       "        vertical-align: top;\n",
       "    }\n",
       "\n",
       "    .dataframe thead th {\n",
       "        text-align: right;\n",
       "    }\n",
       "</style>\n",
       "<table border=\"1\" class=\"dataframe\">\n",
       "  <thead>\n",
       "    <tr style=\"text-align: right;\">\n",
       "      <th></th>\n",
       "      <th>nid</th>\n",
       "      <th>metro</th>\n",
       "      <th>site_num</th>\n",
       "      <th>metro_id</th>\n",
       "    </tr>\n",
       "  </thead>\n",
       "  <tbody>\n",
       "    <tr>\n",
       "      <th>29</th>\n",
       "      <td>cph</td>\n",
       "      <td>CPH</td>\n",
       "      <td>1.0</td>\n",
       "      <td>cph</td>\n",
       "    </tr>\n",
       "    <tr>\n",
       "      <th>43</th>\n",
       "      <td>for</td>\n",
       "      <td>FOR</td>\n",
       "      <td>1.0</td>\n",
       "      <td>for</td>\n",
       "    </tr>\n",
       "    <tr>\n",
       "      <th>91</th>\n",
       "      <td>osu</td>\n",
       "      <td>NaN</td>\n",
       "      <td>NaN</td>\n",
       "      <td>NaN</td>\n",
       "    </tr>\n",
       "    <tr>\n",
       "      <th>8</th>\n",
       "      <td>bcn</td>\n",
       "      <td>BCN</td>\n",
       "      <td>1.0</td>\n",
       "      <td>bcn</td>\n",
       "    </tr>\n",
       "    <tr>\n",
       "      <th>73</th>\n",
       "      <td>lux</td>\n",
       "      <td>LUX</td>\n",
       "      <td>2.0</td>\n",
       "      <td>lux</td>\n",
       "    </tr>\n",
       "    <tr>\n",
       "      <th>95</th>\n",
       "      <td>pek</td>\n",
       "      <td>NaN</td>\n",
       "      <td>NaN</td>\n",
       "      <td>NaN</td>\n",
       "    </tr>\n",
       "    <tr>\n",
       "      <th>101</th>\n",
       "      <td>pnq</td>\n",
       "      <td>PNQ</td>\n",
       "      <td>1.0</td>\n",
       "      <td>pnq</td>\n",
       "    </tr>\n",
       "  </tbody>\n",
       "</table>\n",
       "</div>"
      ],
      "text/plain": [
       "     nid metro  site_num metro_id\n",
       "29   cph   CPH       1.0      cph\n",
       "43   for   FOR       1.0      for\n",
       "91   osu   NaN       NaN      NaN\n",
       "8    bcn   BCN       1.0      bcn\n",
       "73   lux   LUX       2.0      lux\n",
       "95   pek   NaN       NaN      NaN\n",
       "101  pnq   PNQ       1.0      pnq"
      ]
     },
     "execution_count": 25,
     "metadata": {},
     "output_type": "execute_result"
    }
   ],
   "source": [
    "metro_node.sample(7)"
   ]
  },
  {
   "cell_type": "code",
   "execution_count": 26,
   "id": "64f17525-2052-46ea-a9f5-3ac2a7f729e6",
   "metadata": {
    "tags": []
   },
   "outputs": [
    {
     "data": {
      "text/plain": [
       "(25, 4)"
      ]
     },
     "execution_count": 26,
     "metadata": {},
     "output_type": "execute_result"
    }
   ],
   "source": [
    "metro_node[metro_node.site_num.isna()].shape"
   ]
  },
  {
   "cell_type": "code",
   "execution_count": 27,
   "id": "054a2525-44ff-43f3-888e-9acda8d62781",
   "metadata": {
    "tags": []
   },
   "outputs": [],
   "source": [
    "device_a = pd.DataFrame(nl_df.device_a.apply(split_site).to_list(), columns=['metro', 'device_num'])\n",
    "device_z = pd.DataFrame(nl_df.device_z.apply(split_site).to_list(), columns=['metro', 'device_num'])"
   ]
  },
  {
   "cell_type": "code",
   "execution_count": 28,
   "id": "dce7ebaa-ef4a-4476-9531-6a73672ae8bc",
   "metadata": {
    "tags": []
   },
   "outputs": [
    {
     "name": "stdout",
     "output_type": "stream",
     "text": [
      "(1533548, 2)\n"
     ]
    },
    {
     "data": {
      "text/html": [
       "<div>\n",
       "<style scoped>\n",
       "    .dataframe tbody tr th:only-of-type {\n",
       "        vertical-align: middle;\n",
       "    }\n",
       "\n",
       "    .dataframe tbody tr th {\n",
       "        vertical-align: top;\n",
       "    }\n",
       "\n",
       "    .dataframe thead th {\n",
       "        text-align: right;\n",
       "    }\n",
       "</style>\n",
       "<table border=\"1\" class=\"dataframe\">\n",
       "  <thead>\n",
       "    <tr style=\"text-align: right;\">\n",
       "      <th></th>\n",
       "      <th>metro</th>\n",
       "      <th>device_num</th>\n",
       "    </tr>\n",
       "  </thead>\n",
       "  <tbody>\n",
       "    <tr>\n",
       "      <th>0</th>\n",
       "      <td>iad</td>\n",
       "      <td>55-br-fnc-f1-b2-t1-r9</td>\n",
       "    </tr>\n",
       "    <tr>\n",
       "      <th>1</th>\n",
       "      <td>lax</td>\n",
       "      <td>3-br-fnc-f1-b1-t1-r13</td>\n",
       "    </tr>\n",
       "    <tr>\n",
       "      <th>2</th>\n",
       "      <td>cmh</td>\n",
       "      <td>51-br-bfb-f1-b4-t1-r3</td>\n",
       "    </tr>\n",
       "    <tr>\n",
       "      <th>3</th>\n",
       "      <td>fra</td>\n",
       "      <td>53-br-fnc-f1-b1-t1-r5</td>\n",
       "    </tr>\n",
       "  </tbody>\n",
       "</table>\n",
       "</div>"
      ],
      "text/plain": [
       "  metro             device_num\n",
       "0   iad  55-br-fnc-f1-b2-t1-r9\n",
       "1   lax  3-br-fnc-f1-b1-t1-r13\n",
       "2   cmh  51-br-bfb-f1-b4-t1-r3\n",
       "3   fra  53-br-fnc-f1-b1-t1-r5"
      ]
     },
     "execution_count": 28,
     "metadata": {},
     "output_type": "execute_result"
    }
   ],
   "source": [
    "devices = pd.concat([device_a, device_z])\n",
    "print(devices.shape)\n",
    "devices.head(4)"
   ]
  },
  {
   "cell_type": "code",
   "execution_count": 29,
   "id": "e1dc62b9-9798-4883-9091-a63fbbbf33b9",
   "metadata": {
    "tags": []
   },
   "outputs": [
    {
     "name": "stdout",
     "output_type": "stream",
     "text": [
      "(3633, 2)\n"
     ]
    },
    {
     "data": {
      "text/html": [
       "<div>\n",
       "<style scoped>\n",
       "    .dataframe tbody tr th:only-of-type {\n",
       "        vertical-align: middle;\n",
       "    }\n",
       "\n",
       "    .dataframe tbody tr th {\n",
       "        vertical-align: top;\n",
       "    }\n",
       "\n",
       "    .dataframe thead th {\n",
       "        text-align: right;\n",
       "    }\n",
       "</style>\n",
       "<table border=\"1\" class=\"dataframe\">\n",
       "  <thead>\n",
       "    <tr style=\"text-align: right;\">\n",
       "      <th></th>\n",
       "      <th>metro</th>\n",
       "      <th>device_num</th>\n",
       "    </tr>\n",
       "  </thead>\n",
       "  <tbody>\n",
       "    <tr>\n",
       "      <th>860</th>\n",
       "      <td>lhr</td>\n",
       "      <td>5-br-bfb-f1t1-r6</td>\n",
       "    </tr>\n",
       "    <tr>\n",
       "      <th>1620</th>\n",
       "      <td>ewr</td>\n",
       "      <td>53-br-bfb-f1-b8-t1-r4</td>\n",
       "    </tr>\n",
       "    <tr>\n",
       "      <th>401</th>\n",
       "      <td>pdx</td>\n",
       "      <td>1-br-fnc-f1-b1-t1-r12</td>\n",
       "    </tr>\n",
       "    <tr>\n",
       "      <th>7913</th>\n",
       "      <td>pdx</td>\n",
       "      <td>83-br-fnc-f1-b1-t1-r8</td>\n",
       "    </tr>\n",
       "  </tbody>\n",
       "</table>\n",
       "</div>"
      ],
      "text/plain": [
       "     metro             device_num\n",
       "860    lhr       5-br-bfb-f1t1-r6\n",
       "1620   ewr  53-br-bfb-f1-b8-t1-r4\n",
       "401    pdx  1-br-fnc-f1-b1-t1-r12\n",
       "7913   pdx  83-br-fnc-f1-b1-t1-r8"
      ]
     },
     "execution_count": 29,
     "metadata": {},
     "output_type": "execute_result"
    }
   ],
   "source": [
    "uniq_devices = devices.drop_duplicates()\n",
    "print(uniq_devices.shape)\n",
    "uniq_devices.sample(4)"
   ]
  },
  {
   "cell_type": "code",
   "execution_count": 30,
   "id": "f4c737b8-dc18-4983-9d36-1f3176652848",
   "metadata": {
    "tags": []
   },
   "outputs": [
    {
     "name": "stdout",
     "output_type": "stream",
     "text": [
      "(108, 2)\n"
     ]
    },
    {
     "data": {
      "text/html": [
       "<div>\n",
       "<style scoped>\n",
       "    .dataframe tbody tr th:only-of-type {\n",
       "        vertical-align: middle;\n",
       "    }\n",
       "\n",
       "    .dataframe tbody tr th {\n",
       "        vertical-align: top;\n",
       "    }\n",
       "\n",
       "    .dataframe thead th {\n",
       "        text-align: right;\n",
       "    }\n",
       "</style>\n",
       "<table border=\"1\" class=\"dataframe\">\n",
       "  <thead>\n",
       "    <tr style=\"text-align: right;\">\n",
       "      <th></th>\n",
       "      <th>metro</th>\n",
       "      <th>device_num</th>\n",
       "    </tr>\n",
       "  </thead>\n",
       "  <tbody>\n",
       "    <tr>\n",
       "      <th>0</th>\n",
       "      <td>akl</td>\n",
       "      <td>3</td>\n",
       "    </tr>\n",
       "    <tr>\n",
       "      <th>1</th>\n",
       "      <td>ams</td>\n",
       "      <td>54</td>\n",
       "    </tr>\n",
       "    <tr>\n",
       "      <th>2</th>\n",
       "      <td>arn</td>\n",
       "      <td>27</td>\n",
       "    </tr>\n",
       "    <tr>\n",
       "      <th>3</th>\n",
       "      <td>ath</td>\n",
       "      <td>2</td>\n",
       "    </tr>\n",
       "  </tbody>\n",
       "</table>\n",
       "</div>"
      ],
      "text/plain": [
       "  metro  device_num\n",
       "0   akl           3\n",
       "1   ams          54\n",
       "2   arn          27\n",
       "3   ath           2"
      ]
     },
     "execution_count": 30,
     "metadata": {},
     "output_type": "execute_result"
    }
   ],
   "source": [
    "device_cnt = pd.DataFrame(uniq_devices.groupby('metro').count())\n",
    "device_cnt = device_cnt.reset_index()\n",
    "print(device_cnt.shape)\n",
    "device_cnt.head(4)"
   ]
  },
  {
   "cell_type": "code",
   "execution_count": 31,
   "id": "753cea16-0c5d-4bdd-800a-a1041017f08b",
   "metadata": {
    "tags": []
   },
   "outputs": [],
   "source": [
    "metro_node = metro_node[['nid', 'site_num']]"
   ]
  },
  {
   "cell_type": "code",
   "execution_count": 32,
   "id": "56f00a8d-97cf-4e71-8b95-a37668023021",
   "metadata": {
    "tags": []
   },
   "outputs": [],
   "source": [
    "metro_node = pd.merge(metro_node, device_cnt, how='left', left_on='nid', right_on='metro')"
   ]
  },
  {
   "cell_type": "code",
   "execution_count": 33,
   "id": "52b16ac0-3e4e-420b-a523-c996345df4c0",
   "metadata": {
    "tags": []
   },
   "outputs": [
    {
     "name": "stdout",
     "output_type": "stream",
     "text": [
      "(133, 4)\n"
     ]
    },
    {
     "data": {
      "text/html": [
       "<div>\n",
       "<style scoped>\n",
       "    .dataframe tbody tr th:only-of-type {\n",
       "        vertical-align: middle;\n",
       "    }\n",
       "\n",
       "    .dataframe tbody tr th {\n",
       "        vertical-align: top;\n",
       "    }\n",
       "\n",
       "    .dataframe thead th {\n",
       "        text-align: right;\n",
       "    }\n",
       "</style>\n",
       "<table border=\"1\" class=\"dataframe\">\n",
       "  <thead>\n",
       "    <tr style=\"text-align: right;\">\n",
       "      <th></th>\n",
       "      <th>nid</th>\n",
       "      <th>site_num</th>\n",
       "      <th>metro</th>\n",
       "      <th>device_num</th>\n",
       "    </tr>\n",
       "  </thead>\n",
       "  <tbody>\n",
       "    <tr>\n",
       "      <th>0</th>\n",
       "      <td>abc</td>\n",
       "      <td>NaN</td>\n",
       "      <td>NaN</td>\n",
       "      <td>NaN</td>\n",
       "    </tr>\n",
       "    <tr>\n",
       "      <th>1</th>\n",
       "      <td>akl</td>\n",
       "      <td>1.0</td>\n",
       "      <td>akl</td>\n",
       "      <td>3.0</td>\n",
       "    </tr>\n",
       "    <tr>\n",
       "      <th>2</th>\n",
       "      <td>amm</td>\n",
       "      <td>NaN</td>\n",
       "      <td>NaN</td>\n",
       "      <td>NaN</td>\n",
       "    </tr>\n",
       "    <tr>\n",
       "      <th>3</th>\n",
       "      <td>ams</td>\n",
       "      <td>5.0</td>\n",
       "      <td>ams</td>\n",
       "      <td>54.0</td>\n",
       "    </tr>\n",
       "    <tr>\n",
       "      <th>4</th>\n",
       "      <td>arn</td>\n",
       "      <td>4.0</td>\n",
       "      <td>arn</td>\n",
       "      <td>27.0</td>\n",
       "    </tr>\n",
       "  </tbody>\n",
       "</table>\n",
       "</div>"
      ],
      "text/plain": [
       "   nid  site_num metro  device_num\n",
       "0  abc       NaN   NaN         NaN\n",
       "1  akl       1.0   akl         3.0\n",
       "2  amm       NaN   NaN         NaN\n",
       "3  ams       5.0   ams        54.0\n",
       "4  arn       4.0   arn        27.0"
      ]
     },
     "execution_count": 33,
     "metadata": {},
     "output_type": "execute_result"
    }
   ],
   "source": [
    "print(metro_node.shape)\n",
    "metro_node.head()"
   ]
  },
  {
   "cell_type": "code",
   "execution_count": 34,
   "id": "d26d5565-a0d0-4f5f-a176-3531a703fb56",
   "metadata": {
    "tags": []
   },
   "outputs": [
    {
     "data": {
      "text/plain": [
       "(25, 4)"
      ]
     },
     "execution_count": 34,
     "metadata": {},
     "output_type": "execute_result"
    }
   ],
   "source": [
    "metro_node[metro_node.metro.isna()].shape"
   ]
  },
  {
   "cell_type": "code",
   "execution_count": 35,
   "id": "da0d2798-dd13-4553-9888-4a878f3b11e7",
   "metadata": {
    "tags": []
   },
   "outputs": [],
   "source": [
    "metro_node = metro_node[['nid', 'site_num', 'device_num']]"
   ]
  },
  {
   "cell_type": "code",
   "execution_count": 36,
   "id": "7fd04b84-c110-4fbb-af21-c5639c48d8de",
   "metadata": {
    "tags": []
   },
   "outputs": [],
   "source": [
    "metro_node.to_parquet('gs_data/metro.parquet', index=False)"
   ]
  },
  {
   "cell_type": "code",
   "execution_count": 37,
   "id": "57a11af1-fe2b-4db8-bfb1-eaac0ea3ad7b",
   "metadata": {
    "tags": []
   },
   "outputs": [
    {
     "name": "stdout",
     "output_type": "stream",
     "text": [
      "(62334, 1)\n"
     ]
    },
    {
     "data": {
      "text/html": [
       "<div>\n",
       "<style scoped>\n",
       "    .dataframe tbody tr th:only-of-type {\n",
       "        vertical-align: middle;\n",
       "    }\n",
       "\n",
       "    .dataframe tbody tr th {\n",
       "        vertical-align: top;\n",
       "    }\n",
       "\n",
       "    .dataframe thead th {\n",
       "        text-align: right;\n",
       "    }\n",
       "</style>\n",
       "<table border=\"1\" class=\"dataframe\">\n",
       "  <thead>\n",
       "    <tr style=\"text-align: right;\">\n",
       "      <th></th>\n",
       "      <th>nid</th>\n",
       "    </tr>\n",
       "  </thead>\n",
       "  <tbody>\n",
       "    <tr>\n",
       "      <th>37737</th>\n",
       "      <td>lhr54-br-fnc-f1-b1-t1-r9:jrp10-3</td>\n",
       "    </tr>\n",
       "    <tr>\n",
       "      <th>35660</th>\n",
       "      <td>kix56-br-fnc-f1-b1-t1-r5:jrp13-1</td>\n",
       "    </tr>\n",
       "    <tr>\n",
       "      <th>21621</th>\n",
       "      <td>iad140-br-fnc-f1-b1-t1-r6:jrp14-4</td>\n",
       "    </tr>\n",
       "    <tr>\n",
       "      <th>18292</th>\n",
       "      <td>iad117-br-fnc-f1-b1-t1-r4:jrp10-3</td>\n",
       "    </tr>\n",
       "  </tbody>\n",
       "</table>\n",
       "</div>"
      ],
      "text/plain": [
       "                                     nid\n",
       "37737   lhr54-br-fnc-f1-b1-t1-r9:jrp10-3\n",
       "35660   kix56-br-fnc-f1-b1-t1-r5:jrp13-1\n",
       "21621  iad140-br-fnc-f1-b1-t1-r6:jrp14-4\n",
       "18292  iad117-br-fnc-f1-b1-t1-r4:jrp10-3"
      ]
     },
     "execution_count": 37,
     "metadata": {},
     "output_type": "execute_result"
    }
   ],
   "source": [
    "port_node = pd.DataFrame({'nid': port_all})\n",
    "print(port_node.shape)\n",
    "port_node.sample(4)"
   ]
  },
  {
   "cell_type": "code",
   "execution_count": 38,
   "id": "72ff8cc6-d5d6-4f85-b470-fe2f5ceed316",
   "metadata": {
    "tags": []
   },
   "outputs": [],
   "source": [
    "port_node.to_parquet('gs_data/port.parquet', index=False)"
   ]
  },
  {
   "cell_type": "markdown",
   "id": "b7a515c3-96d0-4dcf-8cf0-5a5edb50af6f",
   "metadata": {},
   "source": [
    "### Step 3: Generate edge tables"
   ]
  },
  {
   "cell_type": "markdown",
   "id": "b8c8fd90-7216-4a28-8677-822ffcbd4c77",
   "metadata": {},
   "source": [
    "#### create all timestamps in the 2 hours\n",
    "\n",
    "Traffic demands were collected in 5 minutes interval, starting from 0th minute of each hour. Althoug actual network traffic numbers were collected in 5 minutes interval too, however, starting in from every 4th minute of each hour.\n",
    "\n",
    "Given demands should occur before actual traffic, we should align actual network traffic in the next round of time interval, i.e., shifting network traffic time 1 min later, e.g., 04:04:00 -> 04:05:00."
   ]
  },
  {
   "cell_type": "code",
   "execution_count": 39,
   "id": "f8882f82-526e-48d8-a46d-0bde45d11ee9",
   "metadata": {
    "tags": []
   },
   "outputs": [
    {
     "name": "stdout",
     "output_type": "stream",
     "text": [
      "['2023-12-11T04:00:00.000Z' '2023-12-11T04:05:00.000Z'\n",
      " '2023-12-11T04:10:00.000Z' '2023-12-11T04:15:00.000Z'\n",
      " '2023-12-11T04:20:00.000Z' '2023-12-11T04:25:00.000Z'\n",
      " '2023-12-11T04:30:00.000Z' '2023-12-11T04:35:00.000Z'\n",
      " '2023-12-11T04:40:00.000Z' '2023-12-11T04:45:00.000Z'\n",
      " '2023-12-11T04:50:00.000Z' '2023-12-11T04:55:00.000Z'\n",
      " '2023-12-11T05:00:00.000Z' '2023-12-11T05:05:00.000Z'\n",
      " '2023-12-11T05:10:00.000Z' '2023-12-11T05:15:00.000Z'\n",
      " '2023-12-11T05:20:00.000Z' '2023-12-11T05:25:00.000Z'\n",
      " '2023-12-11T05:30:00.000Z' '2023-12-11T05:35:00.000Z'\n",
      " '2023-12-11T05:40:00.000Z' '2023-12-11T05:45:00.000Z'\n",
      " '2023-12-11T05:50:00.000Z' '2023-12-11T05:55:00.000Z']\n",
      "---------------------------------------------------------------------------------------------------\n",
      "['2023-12-11 04:04:00' '2023-12-11 04:09:00' '2023-12-11 04:14:00'\n",
      " '2023-12-11 04:19:00' '2023-12-11 04:24:00' '2023-12-11 04:29:00'\n",
      " '2023-12-11 04:34:00' '2023-12-11 04:39:00' '2023-12-11 04:44:00'\n",
      " '2023-12-11 04:49:00' '2023-12-11 04:54:00' '2023-12-11 04:59:00'\n",
      " '2023-12-11 05:04:00' '2023-12-11 05:09:00' '2023-12-11 05:14:00'\n",
      " '2023-12-11 05:19:00' '2023-12-11 05:24:00' '2023-12-11 05:29:00'\n",
      " '2023-12-11 05:34:00' '2023-12-11 05:39:00' '2023-12-11 05:44:00'\n",
      " '2023-12-11 05:49:00' '2023-12-11 05:54:00' '2023-12-11 05:59:00']\n"
     ]
    }
   ],
   "source": [
    "dm_ts_list = dm_df.timebucket.unique()\n",
    "print(dm_ts_list)\n",
    "print('-'.join(['-' for i in range(50)]))\n",
    "nl_ts_list = nl_df.timestamp.unique()\n",
    "print(nl_ts_list)"
   ]
  },
  {
   "cell_type": "code",
   "execution_count": 40,
   "id": "de31cfae-5aa0-4319-b88a-e38765c7aba3",
   "metadata": {
    "tags": []
   },
   "outputs": [],
   "source": [
    "dm_df['ts'] = pd.to_datetime(dm_df.timebucket)\n",
    "nl_df['ts'] = pd.to_datetime(nl_df.timestamp) + pd.Timedelta(minutes=1)"
   ]
  },
  {
   "cell_type": "markdown",
   "id": "ad2fc24a-ce61-46e5-9e1a-59770e685545",
   "metadata": {},
   "source": [
    "### Metro-demand-Metro real demands edge"
   ]
  },
  {
   "cell_type": "code",
   "execution_count": 41,
   "id": "2c147827-4df5-41dd-b765-1c8a4997a5cb",
   "metadata": {
    "tags": []
   },
   "outputs": [],
   "source": [
    "dm_df = dm_df.sort_values(by=['src_region', 'dst_region', 'ts'])"
   ]
  },
  {
   "cell_type": "code",
   "execution_count": 42,
   "id": "a071cefc-c3cd-4506-8024-eb0d8f035326",
   "metadata": {
    "tags": []
   },
   "outputs": [],
   "source": [
    "m2m_gb_df = dm_df.groupby(['src_region', 'dst_region'])['gb'].apply(list).reset_index()\n",
    "m2m_ts_df = dm_df.groupby(['src_region', 'dst_region'])['ts'].apply(list).reset_index()"
   ]
  },
  {
   "cell_type": "code",
   "execution_count": 43,
   "id": "920a6aac-3408-47b4-9e23-2b8b963c1ddb",
   "metadata": {
    "tags": []
   },
   "outputs": [
    {
     "name": "stdout",
     "output_type": "stream",
     "text": [
      "(10226, 3)\n"
     ]
    },
    {
     "data": {
      "text/html": [
       "<div>\n",
       "<style scoped>\n",
       "    .dataframe tbody tr th:only-of-type {\n",
       "        vertical-align: middle;\n",
       "    }\n",
       "\n",
       "    .dataframe tbody tr th {\n",
       "        vertical-align: top;\n",
       "    }\n",
       "\n",
       "    .dataframe thead th {\n",
       "        text-align: right;\n",
       "    }\n",
       "</style>\n",
       "<table border=\"1\" class=\"dataframe\">\n",
       "  <thead>\n",
       "    <tr style=\"text-align: right;\">\n",
       "      <th></th>\n",
       "      <th>src_region</th>\n",
       "      <th>dst_region</th>\n",
       "      <th>gb</th>\n",
       "    </tr>\n",
       "  </thead>\n",
       "  <tbody>\n",
       "    <tr>\n",
       "      <th>0</th>\n",
       "      <td>akl</td>\n",
       "      <td>akl</td>\n",
       "      <td>[7075.259733695001, 7260.10218911, 7279.018763...</td>\n",
       "    </tr>\n",
       "    <tr>\n",
       "      <th>1</th>\n",
       "      <td>akl</td>\n",
       "      <td>ams</td>\n",
       "      <td>[0.012662992, 0.011836268, 0.0124411879999999,...</td>\n",
       "    </tr>\n",
       "    <tr>\n",
       "      <th>2</th>\n",
       "      <td>akl</td>\n",
       "      <td>arn</td>\n",
       "      <td>[0.0612539959999999, 0.0672812879999999, 0.041...</td>\n",
       "    </tr>\n",
       "    <tr>\n",
       "      <th>3</th>\n",
       "      <td>akl</td>\n",
       "      <td>ath</td>\n",
       "      <td>[0.001068692, 0.001371152, 0.001048528, 0.0011...</td>\n",
       "    </tr>\n",
       "    <tr>\n",
       "      <th>4</th>\n",
       "      <td>akl</td>\n",
       "      <td>atl</td>\n",
       "      <td>[0.022039252, 0.0326051879999998, 0.0189138319...</td>\n",
       "    </tr>\n",
       "  </tbody>\n",
       "</table>\n",
       "</div>"
      ],
      "text/plain": [
       "  src_region dst_region                                                 gb\n",
       "0        akl        akl  [7075.259733695001, 7260.10218911, 7279.018763...\n",
       "1        akl        ams  [0.012662992, 0.011836268, 0.0124411879999999,...\n",
       "2        akl        arn  [0.0612539959999999, 0.0672812879999999, 0.041...\n",
       "3        akl        ath  [0.001068692, 0.001371152, 0.001048528, 0.0011...\n",
       "4        akl        atl  [0.022039252, 0.0326051879999998, 0.0189138319..."
      ]
     },
     "execution_count": 43,
     "metadata": {},
     "output_type": "execute_result"
    }
   ],
   "source": [
    "print(m2m_gb_df.shape)\n",
    "m2m_gb_df.head()"
   ]
  },
  {
   "cell_type": "code",
   "execution_count": 44,
   "id": "66631358-8d79-4924-8c6d-247312a0ec24",
   "metadata": {
    "tags": []
   },
   "outputs": [
    {
     "name": "stdout",
     "output_type": "stream",
     "text": [
      "(10226, 3)\n"
     ]
    },
    {
     "data": {
      "text/html": [
       "<div>\n",
       "<style scoped>\n",
       "    .dataframe tbody tr th:only-of-type {\n",
       "        vertical-align: middle;\n",
       "    }\n",
       "\n",
       "    .dataframe tbody tr th {\n",
       "        vertical-align: top;\n",
       "    }\n",
       "\n",
       "    .dataframe thead th {\n",
       "        text-align: right;\n",
       "    }\n",
       "</style>\n",
       "<table border=\"1\" class=\"dataframe\">\n",
       "  <thead>\n",
       "    <tr style=\"text-align: right;\">\n",
       "      <th></th>\n",
       "      <th>src_region</th>\n",
       "      <th>dst_region</th>\n",
       "      <th>ts</th>\n",
       "    </tr>\n",
       "  </thead>\n",
       "  <tbody>\n",
       "    <tr>\n",
       "      <th>0</th>\n",
       "      <td>akl</td>\n",
       "      <td>akl</td>\n",
       "      <td>[2023-12-11 04:00:00+00:00, 2023-12-11 04:05:0...</td>\n",
       "    </tr>\n",
       "    <tr>\n",
       "      <th>1</th>\n",
       "      <td>akl</td>\n",
       "      <td>ams</td>\n",
       "      <td>[2023-12-11 04:00:00+00:00, 2023-12-11 04:05:0...</td>\n",
       "    </tr>\n",
       "    <tr>\n",
       "      <th>2</th>\n",
       "      <td>akl</td>\n",
       "      <td>arn</td>\n",
       "      <td>[2023-12-11 04:00:00+00:00, 2023-12-11 04:05:0...</td>\n",
       "    </tr>\n",
       "    <tr>\n",
       "      <th>3</th>\n",
       "      <td>akl</td>\n",
       "      <td>ath</td>\n",
       "      <td>[2023-12-11 04:00:00+00:00, 2023-12-11 04:05:0...</td>\n",
       "    </tr>\n",
       "    <tr>\n",
       "      <th>4</th>\n",
       "      <td>akl</td>\n",
       "      <td>atl</td>\n",
       "      <td>[2023-12-11 04:00:00+00:00, 2023-12-11 04:05:0...</td>\n",
       "    </tr>\n",
       "  </tbody>\n",
       "</table>\n",
       "</div>"
      ],
      "text/plain": [
       "  src_region dst_region                                                 ts\n",
       "0        akl        akl  [2023-12-11 04:00:00+00:00, 2023-12-11 04:05:0...\n",
       "1        akl        ams  [2023-12-11 04:00:00+00:00, 2023-12-11 04:05:0...\n",
       "2        akl        arn  [2023-12-11 04:00:00+00:00, 2023-12-11 04:05:0...\n",
       "3        akl        ath  [2023-12-11 04:00:00+00:00, 2023-12-11 04:05:0...\n",
       "4        akl        atl  [2023-12-11 04:00:00+00:00, 2023-12-11 04:05:0..."
      ]
     },
     "execution_count": 44,
     "metadata": {},
     "output_type": "execute_result"
    }
   ],
   "source": [
    "print(m2m_ts_df.shape)\n",
    "m2m_ts_df.head()"
   ]
  },
  {
   "cell_type": "code",
   "execution_count": 45,
   "id": "0f30f2ff-9046-436c-857a-3954a2478316",
   "metadata": {
    "tags": []
   },
   "outputs": [
    {
     "name": "stdout",
     "output_type": "stream",
     "text": [
      "(10226, 4)\n"
     ]
    },
    {
     "data": {
      "text/html": [
       "<div>\n",
       "<style scoped>\n",
       "    .dataframe tbody tr th:only-of-type {\n",
       "        vertical-align: middle;\n",
       "    }\n",
       "\n",
       "    .dataframe tbody tr th {\n",
       "        vertical-align: top;\n",
       "    }\n",
       "\n",
       "    .dataframe thead th {\n",
       "        text-align: right;\n",
       "    }\n",
       "</style>\n",
       "<table border=\"1\" class=\"dataframe\">\n",
       "  <thead>\n",
       "    <tr style=\"text-align: right;\">\n",
       "      <th></th>\n",
       "      <th>src_region</th>\n",
       "      <th>dst_region</th>\n",
       "      <th>gb</th>\n",
       "      <th>ts</th>\n",
       "    </tr>\n",
       "  </thead>\n",
       "  <tbody>\n",
       "    <tr>\n",
       "      <th>0</th>\n",
       "      <td>akl</td>\n",
       "      <td>akl</td>\n",
       "      <td>[7075.259733695001, 7260.10218911, 7279.018763...</td>\n",
       "      <td>[2023-12-11 04:00:00+00:00, 2023-12-11 04:05:0...</td>\n",
       "    </tr>\n",
       "    <tr>\n",
       "      <th>1</th>\n",
       "      <td>akl</td>\n",
       "      <td>ams</td>\n",
       "      <td>[0.012662992, 0.011836268, 0.0124411879999999,...</td>\n",
       "      <td>[2023-12-11 04:00:00+00:00, 2023-12-11 04:05:0...</td>\n",
       "    </tr>\n",
       "    <tr>\n",
       "      <th>2</th>\n",
       "      <td>akl</td>\n",
       "      <td>arn</td>\n",
       "      <td>[0.0612539959999999, 0.0672812879999999, 0.041...</td>\n",
       "      <td>[2023-12-11 04:00:00+00:00, 2023-12-11 04:05:0...</td>\n",
       "    </tr>\n",
       "    <tr>\n",
       "      <th>3</th>\n",
       "      <td>akl</td>\n",
       "      <td>ath</td>\n",
       "      <td>[0.001068692, 0.001371152, 0.001048528, 0.0011...</td>\n",
       "      <td>[2023-12-11 04:00:00+00:00, 2023-12-11 04:05:0...</td>\n",
       "    </tr>\n",
       "    <tr>\n",
       "      <th>4</th>\n",
       "      <td>akl</td>\n",
       "      <td>atl</td>\n",
       "      <td>[0.022039252, 0.0326051879999998, 0.0189138319...</td>\n",
       "      <td>[2023-12-11 04:00:00+00:00, 2023-12-11 04:05:0...</td>\n",
       "    </tr>\n",
       "  </tbody>\n",
       "</table>\n",
       "</div>"
      ],
      "text/plain": [
       "  src_region dst_region                                                 gb  \\\n",
       "0        akl        akl  [7075.259733695001, 7260.10218911, 7279.018763...   \n",
       "1        akl        ams  [0.012662992, 0.011836268, 0.0124411879999999,...   \n",
       "2        akl        arn  [0.0612539959999999, 0.0672812879999999, 0.041...   \n",
       "3        akl        ath  [0.001068692, 0.001371152, 0.001048528, 0.0011...   \n",
       "4        akl        atl  [0.022039252, 0.0326051879999998, 0.0189138319...   \n",
       "\n",
       "                                                  ts  \n",
       "0  [2023-12-11 04:00:00+00:00, 2023-12-11 04:05:0...  \n",
       "1  [2023-12-11 04:00:00+00:00, 2023-12-11 04:05:0...  \n",
       "2  [2023-12-11 04:00:00+00:00, 2023-12-11 04:05:0...  \n",
       "3  [2023-12-11 04:00:00+00:00, 2023-12-11 04:05:0...  \n",
       "4  [2023-12-11 04:00:00+00:00, 2023-12-11 04:05:0...  "
      ]
     },
     "execution_count": 45,
     "metadata": {},
     "output_type": "execute_result"
    }
   ],
   "source": [
    "m2m_df = pd.merge(m2m_gb_df, m2m_ts_df, how='inner')\n",
    "print(m2m_df.shape)\n",
    "m2m_df.head()"
   ]
  },
  {
   "cell_type": "markdown",
   "id": "92861257-7bf8-4745-86b9-ca5fd9f8fb6a",
   "metadata": {},
   "source": [
    "### Metro-to-Metro fully connected edges"
   ]
  },
  {
   "cell_type": "code",
   "execution_count": 46,
   "id": "1c090653-a3d0-4ea9-b720-209999fee40a",
   "metadata": {
    "tags": []
   },
   "outputs": [],
   "source": [
    "metros = metro_node.nid"
   ]
  },
  {
   "cell_type": "code",
   "execution_count": 47,
   "id": "64714df7-d23e-4d2a-b6eb-83d411a2d184",
   "metadata": {
    "tags": []
   },
   "outputs": [],
   "source": [
    "src_lists = []\n",
    "dst_lists = []\n",
    "\n",
    "for metro in metros:\n",
    "    others = np.setdiff1d(metros, [metro])\n",
    "    src_lists.append([metro]*len(others))\n",
    "    dst_lists.append(others)\n",
    "\n",
    "src_nodes = np.concatenate(src_lists)\n",
    "dst_nodes = np.concatenate(dst_lists)"
   ]
  },
  {
   "cell_type": "code",
   "execution_count": 48,
   "id": "8989e59d-edd1-49a7-a296-687a249444ae",
   "metadata": {
    "tags": []
   },
   "outputs": [],
   "source": [
    "metro_edges = pd.DataFrame({'src_nid': src_nodes, 'dst_nid': dst_nodes})"
   ]
  },
  {
   "cell_type": "code",
   "execution_count": 49,
   "id": "4ea82d37-84e0-4885-80d2-f83add841fb2",
   "metadata": {
    "tags": []
   },
   "outputs": [],
   "source": [
    "metro_edges = pd.merge(metro_edges, m2m_df,\n",
    "                       how='left',\n",
    "                       left_on=['src_nid', 'dst_nid'],\n",
    "                       right_on=['src_region', 'dst_region'])"
   ]
  },
  {
   "cell_type": "code",
   "execution_count": 50,
   "id": "a5bfee3e-56e8-4ccb-8a6d-a1e8fe1cb7cb",
   "metadata": {
    "tags": []
   },
   "outputs": [
    {
     "name": "stdout",
     "output_type": "stream",
     "text": [
      "(17556, 6)\n"
     ]
    },
    {
     "data": {
      "text/html": [
       "<div>\n",
       "<style scoped>\n",
       "    .dataframe tbody tr th:only-of-type {\n",
       "        vertical-align: middle;\n",
       "    }\n",
       "\n",
       "    .dataframe tbody tr th {\n",
       "        vertical-align: top;\n",
       "    }\n",
       "\n",
       "    .dataframe thead th {\n",
       "        text-align: right;\n",
       "    }\n",
       "</style>\n",
       "<table border=\"1\" class=\"dataframe\">\n",
       "  <thead>\n",
       "    <tr style=\"text-align: right;\">\n",
       "      <th></th>\n",
       "      <th>src_nid</th>\n",
       "      <th>dst_nid</th>\n",
       "      <th>src_region</th>\n",
       "      <th>dst_region</th>\n",
       "      <th>gb</th>\n",
       "      <th>ts</th>\n",
       "    </tr>\n",
       "  </thead>\n",
       "  <tbody>\n",
       "    <tr>\n",
       "      <th>15695</th>\n",
       "      <td>tlv</td>\n",
       "      <td>tpe</td>\n",
       "      <td>tlv</td>\n",
       "      <td>tpe</td>\n",
       "      <td>[0.046517876, 0.0499805, 0.132557228, 0.046478...</td>\n",
       "      <td>[2023-12-11 04:00:00+00:00, 2023-12-11 04:05:0...</td>\n",
       "    </tr>\n",
       "    <tr>\n",
       "      <th>16111</th>\n",
       "      <td>vie</td>\n",
       "      <td>bah</td>\n",
       "      <td>vie</td>\n",
       "      <td>bah</td>\n",
       "      <td>[1.5201224209999995, 1.3910861919999995, 1.474...</td>\n",
       "      <td>[2023-12-11 04:00:00+00:00, 2023-12-11 04:05:0...</td>\n",
       "    </tr>\n",
       "    <tr>\n",
       "      <th>4386</th>\n",
       "      <td>dfw</td>\n",
       "      <td>cpt</td>\n",
       "      <td>dfw</td>\n",
       "      <td>cpt</td>\n",
       "      <td>[0.133217656, 0.498407536, 0.066329358, 0.1489...</td>\n",
       "      <td>[2023-12-11 04:00:00+00:00, 2023-12-11 04:05:0...</td>\n",
       "    </tr>\n",
       "    <tr>\n",
       "      <th>9748</th>\n",
       "      <td>lux</td>\n",
       "      <td>slc</td>\n",
       "      <td>NaN</td>\n",
       "      <td>NaN</td>\n",
       "      <td>NaN</td>\n",
       "      <td>NaN</td>\n",
       "    </tr>\n",
       "  </tbody>\n",
       "</table>\n",
       "</div>"
      ],
      "text/plain": [
       "      src_nid dst_nid src_region dst_region  \\\n",
       "15695     tlv     tpe        tlv        tpe   \n",
       "16111     vie     bah        vie        bah   \n",
       "4386      dfw     cpt        dfw        cpt   \n",
       "9748      lux     slc        NaN        NaN   \n",
       "\n",
       "                                                      gb  \\\n",
       "15695  [0.046517876, 0.0499805, 0.132557228, 0.046478...   \n",
       "16111  [1.5201224209999995, 1.3910861919999995, 1.474...   \n",
       "4386   [0.133217656, 0.498407536, 0.066329358, 0.1489...   \n",
       "9748                                                 NaN   \n",
       "\n",
       "                                                      ts  \n",
       "15695  [2023-12-11 04:00:00+00:00, 2023-12-11 04:05:0...  \n",
       "16111  [2023-12-11 04:00:00+00:00, 2023-12-11 04:05:0...  \n",
       "4386   [2023-12-11 04:00:00+00:00, 2023-12-11 04:05:0...  \n",
       "9748                                                 NaN  "
      ]
     },
     "execution_count": 50,
     "metadata": {},
     "output_type": "execute_result"
    }
   ],
   "source": [
    "print(metro_edges.shape)\n",
    "metro_edges.sample(4)"
   ]
  },
  {
   "cell_type": "code",
   "execution_count": 51,
   "id": "3c0b476f-8061-4bb9-bd1d-5d99ee3e7585",
   "metadata": {
    "tags": []
   },
   "outputs": [
    {
     "name": "stdout",
     "output_type": "stream",
     "text": [
      "[Timestamp('2023-12-11 04:00:00+0000', tz='UTC'), Timestamp('2023-12-11 04:05:00+0000', tz='UTC'), Timestamp('2023-12-11 04:10:00+0000', tz='UTC'), Timestamp('2023-12-11 04:15:00+0000', tz='UTC'), Timestamp('2023-12-11 04:20:00+0000', tz='UTC'), Timestamp('2023-12-11 04:25:00+0000', tz='UTC'), Timestamp('2023-12-11 04:30:00+0000', tz='UTC'), Timestamp('2023-12-11 04:35:00+0000', tz='UTC'), Timestamp('2023-12-11 04:40:00+0000', tz='UTC'), Timestamp('2023-12-11 04:45:00+0000', tz='UTC'), Timestamp('2023-12-11 04:50:00+0000', tz='UTC'), Timestamp('2023-12-11 04:55:00+0000', tz='UTC'), Timestamp('2023-12-11 05:00:00+0000', tz='UTC'), Timestamp('2023-12-11 05:05:00+0000', tz='UTC'), Timestamp('2023-12-11 05:10:00+0000', tz='UTC'), Timestamp('2023-12-11 05:15:00+0000', tz='UTC'), Timestamp('2023-12-11 05:20:00+0000', tz='UTC'), Timestamp('2023-12-11 05:25:00+0000', tz='UTC'), Timestamp('2023-12-11 05:30:00+0000', tz='UTC'), Timestamp('2023-12-11 05:35:00+0000', tz='UTC'), Timestamp('2023-12-11 05:40:00+0000', tz='UTC'), Timestamp('2023-12-11 05:45:00+0000', tz='UTC'), Timestamp('2023-12-11 05:50:00+0000', tz='UTC'), Timestamp('2023-12-11 05:55:00+0000', tz='UTC')]\n"
     ]
    }
   ],
   "source": [
    "one_ts = metro_edges.iloc[[3892]].ts\n",
    "filled_val = list(one_ts)[0]\n",
    "print(filled_val)"
   ]
  },
  {
   "cell_type": "code",
   "execution_count": 52,
   "id": "96d72c06-a47b-47e9-816f-d5497b535304",
   "metadata": {
    "tags": []
   },
   "outputs": [],
   "source": [
    "metro_ts = metro_edges.ts.apply(lambda x: x if isinstance(x, list) else filled_val)\n",
    "metro_gb = metro_edges.gb.apply(lambda x: x if isinstance(x, list) else [0] * 24)"
   ]
  },
  {
   "cell_type": "code",
   "execution_count": 53,
   "id": "accd8d9b-7c49-4206-8875-eb209250a9b1",
   "metadata": {
    "tags": []
   },
   "outputs": [
    {
     "name": "stderr",
     "output_type": "stream",
     "text": [
      "/tmp/ipykernel_14659/26004180.py:2: SettingWithCopyWarning: \n",
      "A value is trying to be set on a copy of a slice from a DataFrame.\n",
      "Try using .loc[row_indexer,col_indexer] = value instead\n",
      "\n",
      "See the caveats in the documentation: https://pandas.pydata.org/pandas-docs/stable/user_guide/indexing.html#returning-a-view-versus-a-copy\n",
      "  mdm_edges['ts'] = metro_ts\n",
      "/tmp/ipykernel_14659/26004180.py:3: SettingWithCopyWarning: \n",
      "A value is trying to be set on a copy of a slice from a DataFrame.\n",
      "Try using .loc[row_indexer,col_indexer] = value instead\n",
      "\n",
      "See the caveats in the documentation: https://pandas.pydata.org/pandas-docs/stable/user_guide/indexing.html#returning-a-view-versus-a-copy\n",
      "  mdm_edges['gb'] = metro_gb\n"
     ]
    }
   ],
   "source": [
    "mdm_edges = metro_edges[['src_nid', 'dst_nid']]\n",
    "mdm_edges['ts'] = metro_ts\n",
    "mdm_edges['gb'] = metro_gb"
   ]
  },
  {
   "cell_type": "code",
   "execution_count": 54,
   "id": "e7743689-1ef8-4c54-ba42-a5f4777af970",
   "metadata": {
    "tags": []
   },
   "outputs": [
    {
     "data": {
      "text/html": [
       "<div>\n",
       "<style scoped>\n",
       "    .dataframe tbody tr th:only-of-type {\n",
       "        vertical-align: middle;\n",
       "    }\n",
       "\n",
       "    .dataframe tbody tr th {\n",
       "        vertical-align: top;\n",
       "    }\n",
       "\n",
       "    .dataframe thead th {\n",
       "        text-align: right;\n",
       "    }\n",
       "</style>\n",
       "<table border=\"1\" class=\"dataframe\">\n",
       "  <thead>\n",
       "    <tr style=\"text-align: right;\">\n",
       "      <th></th>\n",
       "      <th>src_nid</th>\n",
       "      <th>dst_nid</th>\n",
       "      <th>ts</th>\n",
       "      <th>gb</th>\n",
       "    </tr>\n",
       "  </thead>\n",
       "  <tbody>\n",
       "    <tr>\n",
       "      <th>3025</th>\n",
       "      <td>cbr</td>\n",
       "      <td>vie</td>\n",
       "      <td>[2023-12-11 04:00:00+00:00, 2023-12-11 04:05:0...</td>\n",
       "      <td>[0, 0, 0, 0, 0, 0, 0, 0, 0, 0, 0, 0, 0, 0, 0, ...</td>\n",
       "    </tr>\n",
       "    <tr>\n",
       "      <th>14703</th>\n",
       "      <td>sin</td>\n",
       "      <td>hio</td>\n",
       "      <td>[2023-12-11 04:00:00+00:00, 2023-12-11 04:05:0...</td>\n",
       "      <td>[57.058931892, 56.656763906, 54.13195374, 54.6...</td>\n",
       "    </tr>\n",
       "    <tr>\n",
       "      <th>4260</th>\n",
       "      <td>den</td>\n",
       "      <td>dus</td>\n",
       "      <td>[2023-12-11 04:00:00+00:00, 2023-12-11 04:05:0...</td>\n",
       "      <td>[0.981139912, 0.013394112, 0.005323296, 0.0129...</td>\n",
       "    </tr>\n",
       "    <tr>\n",
       "      <th>3144</th>\n",
       "      <td>ccu</td>\n",
       "      <td>sfo</td>\n",
       "      <td>[2023-12-11 04:00:00+00:00, 2023-12-11 04:05:0...</td>\n",
       "      <td>[0.0247597119999999, 0.0200833439999998, 0.012...</td>\n",
       "    </tr>\n",
       "    <tr>\n",
       "      <th>11466</th>\n",
       "      <td>mxp</td>\n",
       "      <td>syd</td>\n",
       "      <td>[2023-12-11 04:00:00+00:00, 2023-12-11 04:05:0...</td>\n",
       "      <td>[10.590685302, 8.624741951999999, 12.78750033,...</td>\n",
       "    </tr>\n",
       "    <tr>\n",
       "      <th>10783</th>\n",
       "      <td>mia</td>\n",
       "      <td>otp</td>\n",
       "      <td>[2023-12-11 04:00:00+00:00, 2023-12-11 04:05:0...</td>\n",
       "      <td>[0.009517408, 0.007299368, 0.0103844599999999,...</td>\n",
       "    </tr>\n",
       "    <tr>\n",
       "      <th>13858</th>\n",
       "      <td>qro</td>\n",
       "      <td>zhy</td>\n",
       "      <td>[2023-12-11 04:00:00+00:00, 2023-12-11 04:05:0...</td>\n",
       "      <td>[0, 0, 0, 0, 0, 0, 0, 0, 0, 0, 0, 0, 0, 0, 0, ...</td>\n",
       "    </tr>\n",
       "  </tbody>\n",
       "</table>\n",
       "</div>"
      ],
      "text/plain": [
       "      src_nid dst_nid                                                 ts  \\\n",
       "3025      cbr     vie  [2023-12-11 04:00:00+00:00, 2023-12-11 04:05:0...   \n",
       "14703     sin     hio  [2023-12-11 04:00:00+00:00, 2023-12-11 04:05:0...   \n",
       "4260      den     dus  [2023-12-11 04:00:00+00:00, 2023-12-11 04:05:0...   \n",
       "3144      ccu     sfo  [2023-12-11 04:00:00+00:00, 2023-12-11 04:05:0...   \n",
       "11466     mxp     syd  [2023-12-11 04:00:00+00:00, 2023-12-11 04:05:0...   \n",
       "10783     mia     otp  [2023-12-11 04:00:00+00:00, 2023-12-11 04:05:0...   \n",
       "13858     qro     zhy  [2023-12-11 04:00:00+00:00, 2023-12-11 04:05:0...   \n",
       "\n",
       "                                                      gb  \n",
       "3025   [0, 0, 0, 0, 0, 0, 0, 0, 0, 0, 0, 0, 0, 0, 0, ...  \n",
       "14703  [57.058931892, 56.656763906, 54.13195374, 54.6...  \n",
       "4260   [0.981139912, 0.013394112, 0.005323296, 0.0129...  \n",
       "3144   [0.0247597119999999, 0.0200833439999998, 0.012...  \n",
       "11466  [10.590685302, 8.624741951999999, 12.78750033,...  \n",
       "10783  [0.009517408, 0.007299368, 0.0103844599999999,...  \n",
       "13858  [0, 0, 0, 0, 0, 0, 0, 0, 0, 0, 0, 0, 0, 0, 0, ...  "
      ]
     },
     "execution_count": 54,
     "metadata": {},
     "output_type": "execute_result"
    }
   ],
   "source": [
    "mdm_edges.sample(7)"
   ]
  },
  {
   "cell_type": "code",
   "execution_count": 55,
   "id": "4b2e0054-592e-4805-b300-d25a1d02e053",
   "metadata": {
    "tags": []
   },
   "outputs": [],
   "source": [
    "mdm_edges.to_parquet('gs_data/metro-demand-metro.parquet', index=False)"
   ]
  },
  {
   "cell_type": "markdown",
   "id": "7f3bb044-8f69-4841-90d9-a6bee9d2070a",
   "metadata": {},
   "source": [
    "### Port-send-Port edges"
   ]
  },
  {
   "cell_type": "code",
   "execution_count": 56,
   "id": "2ff21e82-708d-4d74-a62e-89fbbc1f1306",
   "metadata": {},
   "outputs": [],
   "source": [
    "p2p_edges = nl_df[['da_pa', 'dz_pz', 'ts',\n",
    "                   'lifecycle_state', 'tshift_status_a', 'tshift_status_z',\n",
    "                   'fabric', 'span_type', 'span_build_type',\n",
    "                   'traffic_gbps']]"
   ]
  },
  {
   "cell_type": "code",
   "execution_count": 102,
   "id": "e121f54e-6324-4f07-b573-ce6599e96103",
   "metadata": {
    "tags": []
   },
   "outputs": [
    {
     "data": {
      "text/html": [
       "<div>\n",
       "<style scoped>\n",
       "    .dataframe tbody tr th:only-of-type {\n",
       "        vertical-align: middle;\n",
       "    }\n",
       "\n",
       "    .dataframe tbody tr th {\n",
       "        vertical-align: top;\n",
       "    }\n",
       "\n",
       "    .dataframe thead th {\n",
       "        text-align: right;\n",
       "    }\n",
       "</style>\n",
       "<table border=\"1\" class=\"dataframe\">\n",
       "  <thead>\n",
       "    <tr style=\"text-align: right;\">\n",
       "      <th></th>\n",
       "      <th>da_pa</th>\n",
       "      <th>dz_pz</th>\n",
       "      <th>ts</th>\n",
       "      <th>lifecycle_state</th>\n",
       "      <th>tshift_status_a</th>\n",
       "      <th>tshift_status_z</th>\n",
       "      <th>fabric</th>\n",
       "      <th>span_type</th>\n",
       "      <th>span_build_type</th>\n",
       "      <th>traffic_gbps</th>\n",
       "    </tr>\n",
       "  </thead>\n",
       "  <tbody>\n",
       "    <tr>\n",
       "      <th>210483</th>\n",
       "      <td>maa50-br-fnc-f1-b1-t1-r15:jrp6-2</td>\n",
       "      <td>maa51-br-fnc-f1-b1-t1-r15:jrp6-2</td>\n",
       "      <td>2023-12-11 05:35:00</td>\n",
       "      <td>OPERATIONAL</td>\n",
       "      <td>not_shifted</td>\n",
       "      <td>not_shifted</td>\n",
       "      <td>FNC</td>\n",
       "      <td>INTRA-METRO</td>\n",
       "      <td>AMAZON_OLP_METRO</td>\n",
       "      <td>3.283874</td>\n",
       "    </tr>\n",
       "    <tr>\n",
       "      <th>242431</th>\n",
       "      <td>maa50-br-fnc-f1-b1-t1-r15:jrp6-2</td>\n",
       "      <td>maa51-br-fnc-f1-b1-t1-r15:jrp6-2</td>\n",
       "      <td>2023-12-11 05:40:00</td>\n",
       "      <td>OPERATIONAL</td>\n",
       "      <td>not_shifted</td>\n",
       "      <td>not_shifted</td>\n",
       "      <td>FNC</td>\n",
       "      <td>INTRA-METRO</td>\n",
       "      <td>AMAZON_OLP_METRO</td>\n",
       "      <td>3.454522</td>\n",
       "    </tr>\n",
       "    <tr>\n",
       "      <th>274379</th>\n",
       "      <td>maa50-br-fnc-f1-b1-t1-r15:jrp6-2</td>\n",
       "      <td>maa51-br-fnc-f1-b1-t1-r15:jrp6-2</td>\n",
       "      <td>2023-12-11 05:45:00</td>\n",
       "      <td>OPERATIONAL</td>\n",
       "      <td>not_shifted</td>\n",
       "      <td>not_shifted</td>\n",
       "      <td>FNC</td>\n",
       "      <td>INTRA-METRO</td>\n",
       "      <td>AMAZON_OLP_METRO</td>\n",
       "      <td>3.280173</td>\n",
       "    </tr>\n",
       "    <tr>\n",
       "      <th>306327</th>\n",
       "      <td>maa50-br-fnc-f1-b1-t1-r15:jrp6-2</td>\n",
       "      <td>maa51-br-fnc-f1-b1-t1-r15:jrp6-2</td>\n",
       "      <td>2023-12-11 05:50:00</td>\n",
       "      <td>OPERATIONAL</td>\n",
       "      <td>not_shifted</td>\n",
       "      <td>not_shifted</td>\n",
       "      <td>FNC</td>\n",
       "      <td>INTRA-METRO</td>\n",
       "      <td>AMAZON_OLP_METRO</td>\n",
       "      <td>3.404013</td>\n",
       "    </tr>\n",
       "    <tr>\n",
       "      <th>338275</th>\n",
       "      <td>maa50-br-fnc-f1-b1-t1-r15:jrp6-2</td>\n",
       "      <td>maa51-br-fnc-f1-b1-t1-r15:jrp6-2</td>\n",
       "      <td>2023-12-11 05:55:00</td>\n",
       "      <td>OPERATIONAL</td>\n",
       "      <td>not_shifted</td>\n",
       "      <td>not_shifted</td>\n",
       "      <td>FNC</td>\n",
       "      <td>INTRA-METRO</td>\n",
       "      <td>AMAZON_OLP_METRO</td>\n",
       "      <td>3.502527</td>\n",
       "    </tr>\n",
       "    <tr>\n",
       "      <th>370223</th>\n",
       "      <td>maa50-br-fnc-f1-b1-t1-r15:jrp6-2</td>\n",
       "      <td>maa51-br-fnc-f1-b1-t1-r15:jrp6-2</td>\n",
       "      <td>2023-12-11 06:00:00</td>\n",
       "      <td>OPERATIONAL</td>\n",
       "      <td>not_shifted</td>\n",
       "      <td>not_shifted</td>\n",
       "      <td>FNC</td>\n",
       "      <td>INTRA-METRO</td>\n",
       "      <td>AMAZON_OLP_METRO</td>\n",
       "      <td>3.362675</td>\n",
       "    </tr>\n",
       "  </tbody>\n",
       "</table>\n",
       "</div>"
      ],
      "text/plain": [
       "                                   da_pa                             dz_pz  \\\n",
       "210483  maa50-br-fnc-f1-b1-t1-r15:jrp6-2  maa51-br-fnc-f1-b1-t1-r15:jrp6-2   \n",
       "242431  maa50-br-fnc-f1-b1-t1-r15:jrp6-2  maa51-br-fnc-f1-b1-t1-r15:jrp6-2   \n",
       "274379  maa50-br-fnc-f1-b1-t1-r15:jrp6-2  maa51-br-fnc-f1-b1-t1-r15:jrp6-2   \n",
       "306327  maa50-br-fnc-f1-b1-t1-r15:jrp6-2  maa51-br-fnc-f1-b1-t1-r15:jrp6-2   \n",
       "338275  maa50-br-fnc-f1-b1-t1-r15:jrp6-2  maa51-br-fnc-f1-b1-t1-r15:jrp6-2   \n",
       "370223  maa50-br-fnc-f1-b1-t1-r15:jrp6-2  maa51-br-fnc-f1-b1-t1-r15:jrp6-2   \n",
       "\n",
       "                        ts lifecycle_state tshift_status_a tshift_status_z  \\\n",
       "210483 2023-12-11 05:35:00     OPERATIONAL     not_shifted     not_shifted   \n",
       "242431 2023-12-11 05:40:00     OPERATIONAL     not_shifted     not_shifted   \n",
       "274379 2023-12-11 05:45:00     OPERATIONAL     not_shifted     not_shifted   \n",
       "306327 2023-12-11 05:50:00     OPERATIONAL     not_shifted     not_shifted   \n",
       "338275 2023-12-11 05:55:00     OPERATIONAL     not_shifted     not_shifted   \n",
       "370223 2023-12-11 06:00:00     OPERATIONAL     not_shifted     not_shifted   \n",
       "\n",
       "       fabric    span_type   span_build_type  traffic_gbps  \n",
       "210483    FNC  INTRA-METRO  AMAZON_OLP_METRO      3.283874  \n",
       "242431    FNC  INTRA-METRO  AMAZON_OLP_METRO      3.454522  \n",
       "274379    FNC  INTRA-METRO  AMAZON_OLP_METRO      3.280173  \n",
       "306327    FNC  INTRA-METRO  AMAZON_OLP_METRO      3.404013  \n",
       "338275    FNC  INTRA-METRO  AMAZON_OLP_METRO      3.502527  \n",
       "370223    FNC  INTRA-METRO  AMAZON_OLP_METRO      3.362675  "
      ]
     },
     "execution_count": 102,
     "metadata": {},
     "output_type": "execute_result"
    }
   ],
   "source": [
    "p2p_edges[(p2p_edges.da_pa=='maa50-br-fnc-f1-b1-t1-r15:jrp6-2') & (p2p_edges.dz_pz=='maa51-br-fnc-f1-b1-t1-r15:jrp6-2')]"
   ]
  },
  {
   "cell_type": "code",
   "execution_count": 58,
   "id": "d9b2fea6-b9c8-467d-aa30-e0253f5c33d3",
   "metadata": {
    "tags": []
   },
   "outputs": [
    {
     "name": "stdout",
     "output_type": "stream",
     "text": [
      "(31373, 4)\n"
     ]
    }
   ],
   "source": [
    "p2p_fabric = p2p_edges.groupby(['da_pa', 'dz_pz'])['fabric'].apply(set).reset_index()\n",
    "p2p_fabric['num_type'] = p2p_fabric.fabric.apply(lambda x: len(x))\n",
    "print(p2p_fabric.shape)"
   ]
  },
  {
   "cell_type": "code",
   "execution_count": 59,
   "id": "d6d283f9-26a4-462f-b11b-cbb88f5687ec",
   "metadata": {
    "tags": []
   },
   "outputs": [
    {
     "data": {
      "text/html": [
       "<div>\n",
       "<style scoped>\n",
       "    .dataframe tbody tr th:only-of-type {\n",
       "        vertical-align: middle;\n",
       "    }\n",
       "\n",
       "    .dataframe tbody tr th {\n",
       "        vertical-align: top;\n",
       "    }\n",
       "\n",
       "    .dataframe thead th {\n",
       "        text-align: right;\n",
       "    }\n",
       "</style>\n",
       "<table border=\"1\" class=\"dataframe\">\n",
       "  <thead>\n",
       "    <tr style=\"text-align: right;\">\n",
       "      <th></th>\n",
       "      <th>da_pa</th>\n",
       "      <th>dz_pz</th>\n",
       "      <th>fabric</th>\n",
       "      <th>num_type</th>\n",
       "    </tr>\n",
       "  </thead>\n",
       "  <tbody>\n",
       "  </tbody>\n",
       "</table>\n",
       "</div>"
      ],
      "text/plain": [
       "Empty DataFrame\n",
       "Columns: [da_pa, dz_pz, fabric, num_type]\n",
       "Index: []"
      ]
     },
     "execution_count": 59,
     "metadata": {},
     "output_type": "execute_result"
    }
   ],
   "source": [
    "p2p_fabric[p2p_fabric.num_type > 1]"
   ]
  },
  {
   "cell_type": "code",
   "execution_count": 60,
   "id": "7d0c26a6-6c18-4731-87b3-567aff3375de",
   "metadata": {
    "tags": []
   },
   "outputs": [
    {
     "name": "stdout",
     "output_type": "stream",
     "text": [
      "(31373, 4)\n"
     ]
    },
    {
     "data": {
      "text/html": [
       "<div>\n",
       "<style scoped>\n",
       "    .dataframe tbody tr th:only-of-type {\n",
       "        vertical-align: middle;\n",
       "    }\n",
       "\n",
       "    .dataframe tbody tr th {\n",
       "        vertical-align: top;\n",
       "    }\n",
       "\n",
       "    .dataframe thead th {\n",
       "        text-align: right;\n",
       "    }\n",
       "</style>\n",
       "<table border=\"1\" class=\"dataframe\">\n",
       "  <thead>\n",
       "    <tr style=\"text-align: right;\">\n",
       "      <th></th>\n",
       "      <th>da_pa</th>\n",
       "      <th>dz_pz</th>\n",
       "      <th>span_type</th>\n",
       "      <th>num_type</th>\n",
       "    </tr>\n",
       "  </thead>\n",
       "  <tbody>\n",
       "  </tbody>\n",
       "</table>\n",
       "</div>"
      ],
      "text/plain": [
       "Empty DataFrame\n",
       "Columns: [da_pa, dz_pz, span_type, num_type]\n",
       "Index: []"
      ]
     },
     "execution_count": 60,
     "metadata": {},
     "output_type": "execute_result"
    }
   ],
   "source": [
    "p2p_span = p2p_edges.groupby(['da_pa', 'dz_pz'])['span_type'].apply(set).reset_index()\n",
    "p2p_span['num_type'] = p2p_span.span_type.apply(lambda x: len(x))\n",
    "print(p2p_span.shape)\n",
    "p2p_span[p2p_span.num_type > 1]"
   ]
  },
  {
   "cell_type": "code",
   "execution_count": 61,
   "id": "86145fb3-223f-418c-b503-778d93c09089",
   "metadata": {
    "tags": []
   },
   "outputs": [
    {
     "name": "stdout",
     "output_type": "stream",
     "text": [
      "(31373, 4)\n"
     ]
    },
    {
     "data": {
      "text/html": [
       "<div>\n",
       "<style scoped>\n",
       "    .dataframe tbody tr th:only-of-type {\n",
       "        vertical-align: middle;\n",
       "    }\n",
       "\n",
       "    .dataframe tbody tr th {\n",
       "        vertical-align: top;\n",
       "    }\n",
       "\n",
       "    .dataframe thead th {\n",
       "        text-align: right;\n",
       "    }\n",
       "</style>\n",
       "<table border=\"1\" class=\"dataframe\">\n",
       "  <thead>\n",
       "    <tr style=\"text-align: right;\">\n",
       "      <th></th>\n",
       "      <th>da_pa</th>\n",
       "      <th>dz_pz</th>\n",
       "      <th>span_build_type</th>\n",
       "      <th>num_type</th>\n",
       "    </tr>\n",
       "  </thead>\n",
       "  <tbody>\n",
       "    <tr>\n",
       "      <th>2227</th>\n",
       "      <td>bom50-br-fnc-f1-b1-t1-r13:jrp3-1</td>\n",
       "      <td>bom78-br-fnc-f1-b1-t1-r13:jrp3-1</td>\n",
       "      <td>{AMAZON_OLP_METRO, LEASED}</td>\n",
       "      <td>2</td>\n",
       "    </tr>\n",
       "    <tr>\n",
       "      <th>2228</th>\n",
       "      <td>bom50-br-fnc-f1-b1-t1-r13:jrp3-2</td>\n",
       "      <td>bom78-br-fnc-f1-b1-t1-r13:jrp3-2</td>\n",
       "      <td>{AMAZON_OLP_METRO, LEASED}</td>\n",
       "      <td>2</td>\n",
       "    </tr>\n",
       "    <tr>\n",
       "      <th>2229</th>\n",
       "      <td>bom50-br-fnc-f1-b1-t1-r13:jrp3-3</td>\n",
       "      <td>bom78-br-fnc-f1-b1-t1-r13:jrp3-3</td>\n",
       "      <td>{AMAZON_OLP_METRO, LEASED}</td>\n",
       "      <td>2</td>\n",
       "    </tr>\n",
       "    <tr>\n",
       "      <th>2230</th>\n",
       "      <td>bom50-br-fnc-f1-b1-t1-r13:jrp3-4</td>\n",
       "      <td>bom78-br-fnc-f1-b1-t1-r13:jrp3-4</td>\n",
       "      <td>{AMAZON_OLP_METRO, LEASED}</td>\n",
       "      <td>2</td>\n",
       "    </tr>\n",
       "    <tr>\n",
       "      <th>2231</th>\n",
       "      <td>bom50-br-fnc-f1-b1-t1-r13:jrp4-1</td>\n",
       "      <td>bom78-br-fnc-f1-b1-t1-r13:jrp4-1</td>\n",
       "      <td>{AMAZON_OLP_METRO, LEASED}</td>\n",
       "      <td>2</td>\n",
       "    </tr>\n",
       "    <tr>\n",
       "      <th>...</th>\n",
       "      <td>...</td>\n",
       "      <td>...</td>\n",
       "      <td>...</td>\n",
       "      <td>...</td>\n",
       "    </tr>\n",
       "    <tr>\n",
       "      <th>21346</th>\n",
       "      <td>mrs51-br-bfb-f1-b1-t1-r4:et-0/0/35</td>\n",
       "      <td>mrs52-br-bfb-f1-b2-t1-r4:et-0/0/1</td>\n",
       "      <td>{AMAZON_OLP_METRO, LEASED}</td>\n",
       "      <td>2</td>\n",
       "    </tr>\n",
       "    <tr>\n",
       "      <th>21348</th>\n",
       "      <td>mrs51-br-bfb-f1-b1-t1-r5:et-0/0/17</td>\n",
       "      <td>mrs52-br-bfb-f1-b2-t1-r5:et-0/0/1</td>\n",
       "      <td>{AMAZON_OLP_METRO, LEASED}</td>\n",
       "      <td>2</td>\n",
       "    </tr>\n",
       "    <tr>\n",
       "      <th>21349</th>\n",
       "      <td>mrs51-br-bfb-f1-b1-t1-r5:et-0/0/35</td>\n",
       "      <td>mrs52-br-bfb-f1-b2-t1-r5:et-0/0/5</td>\n",
       "      <td>{AMAZON_OLP_METRO, LEASED}</td>\n",
       "      <td>2</td>\n",
       "    </tr>\n",
       "    <tr>\n",
       "      <th>21351</th>\n",
       "      <td>mrs51-br-bfb-f1-b1-t1-r6:et-0/0/17</td>\n",
       "      <td>mrs52-br-bfb-f1-b2-t1-r6:et-0/0/1</td>\n",
       "      <td>{AMAZON_OLP_METRO, LEASED}</td>\n",
       "      <td>2</td>\n",
       "    </tr>\n",
       "    <tr>\n",
       "      <th>21352</th>\n",
       "      <td>mrs51-br-bfb-f1-b1-t1-r6:et-0/0/35</td>\n",
       "      <td>mrs52-br-bfb-f1-b2-t1-r6:et-0/0/5</td>\n",
       "      <td>{AMAZON_OLP_METRO, LEASED}</td>\n",
       "      <td>2</td>\n",
       "    </tr>\n",
       "  </tbody>\n",
       "</table>\n",
       "<p>68 rows × 4 columns</p>\n",
       "</div>"
      ],
      "text/plain": [
       "                                    da_pa                              dz_pz  \\\n",
       "2227     bom50-br-fnc-f1-b1-t1-r13:jrp3-1   bom78-br-fnc-f1-b1-t1-r13:jrp3-1   \n",
       "2228     bom50-br-fnc-f1-b1-t1-r13:jrp3-2   bom78-br-fnc-f1-b1-t1-r13:jrp3-2   \n",
       "2229     bom50-br-fnc-f1-b1-t1-r13:jrp3-3   bom78-br-fnc-f1-b1-t1-r13:jrp3-3   \n",
       "2230     bom50-br-fnc-f1-b1-t1-r13:jrp3-4   bom78-br-fnc-f1-b1-t1-r13:jrp3-4   \n",
       "2231     bom50-br-fnc-f1-b1-t1-r13:jrp4-1   bom78-br-fnc-f1-b1-t1-r13:jrp4-1   \n",
       "...                                   ...                                ...   \n",
       "21346  mrs51-br-bfb-f1-b1-t1-r4:et-0/0/35  mrs52-br-bfb-f1-b2-t1-r4:et-0/0/1   \n",
       "21348  mrs51-br-bfb-f1-b1-t1-r5:et-0/0/17  mrs52-br-bfb-f1-b2-t1-r5:et-0/0/1   \n",
       "21349  mrs51-br-bfb-f1-b1-t1-r5:et-0/0/35  mrs52-br-bfb-f1-b2-t1-r5:et-0/0/5   \n",
       "21351  mrs51-br-bfb-f1-b1-t1-r6:et-0/0/17  mrs52-br-bfb-f1-b2-t1-r6:et-0/0/1   \n",
       "21352  mrs51-br-bfb-f1-b1-t1-r6:et-0/0/35  mrs52-br-bfb-f1-b2-t1-r6:et-0/0/5   \n",
       "\n",
       "                  span_build_type  num_type  \n",
       "2227   {AMAZON_OLP_METRO, LEASED}         2  \n",
       "2228   {AMAZON_OLP_METRO, LEASED}         2  \n",
       "2229   {AMAZON_OLP_METRO, LEASED}         2  \n",
       "2230   {AMAZON_OLP_METRO, LEASED}         2  \n",
       "2231   {AMAZON_OLP_METRO, LEASED}         2  \n",
       "...                           ...       ...  \n",
       "21346  {AMAZON_OLP_METRO, LEASED}         2  \n",
       "21348  {AMAZON_OLP_METRO, LEASED}         2  \n",
       "21349  {AMAZON_OLP_METRO, LEASED}         2  \n",
       "21351  {AMAZON_OLP_METRO, LEASED}         2  \n",
       "21352  {AMAZON_OLP_METRO, LEASED}         2  \n",
       "\n",
       "[68 rows x 4 columns]"
      ]
     },
     "execution_count": 61,
     "metadata": {},
     "output_type": "execute_result"
    }
   ],
   "source": [
    "p2p_span_bt = p2p_edges.groupby(['da_pa', 'dz_pz'])['span_build_type'].apply(set).reset_index()\n",
    "p2p_span_bt['num_type'] = p2p_span_bt.span_build_type.apply(lambda x: len(x))\n",
    "print(p2p_span_bt.shape)\n",
    "p2p_span_bt[p2p_span_bt.num_type > 1]"
   ]
  },
  {
   "cell_type": "code",
   "execution_count": 62,
   "id": "39c865c1-3b85-4359-96fe-a66b7de31c87",
   "metadata": {
    "tags": []
   },
   "outputs": [],
   "source": [
    "p2p_edges = p2p_edges.sort_values(by=['da_pa', 'dz_pz', 'ts'])"
   ]
  },
  {
   "cell_type": "code",
   "execution_count": 63,
   "id": "098deb66-7e64-416e-9028-5df84dea8b5f",
   "metadata": {
    "tags": []
   },
   "outputs": [],
   "source": [
    "p2p_ts = p2p_edges.groupby(['da_pa', 'dz_pz'])['ts'].apply(list).reset_index()\n",
    "p2p_tr = p2p_edges.groupby(['da_pa', 'dz_pz'])['traffic_gbps'].apply(list).reset_index()"
   ]
  },
  {
   "cell_type": "code",
   "execution_count": 64,
   "id": "76bbfee8-8946-4c0a-8c90-cd657bdf98b5",
   "metadata": {
    "tags": []
   },
   "outputs": [
    {
     "data": {
      "text/plain": [
       "da_pa                              cdg52-br-bfb-f1t1-r11:et-0/0/5\n",
       "dz_pz                          lhr61-br-bfb-f1-b7-t1-r6:et-0/0/11\n",
       "traffic_gbps    [0.0, 0.0, 0.0, 0.0, 0.0, 0.0, 0.0, 0.0, 0.0, ...\n",
       "Name: 3502, dtype: object"
      ]
     },
     "execution_count": 64,
     "metadata": {},
     "output_type": "execute_result"
    }
   ],
   "source": [
    "p2p_tr.iloc[3502]"
   ]
  },
  {
   "cell_type": "code",
   "execution_count": 103,
   "id": "17d21972-3ecc-412e-8759-3ee3bceabc60",
   "metadata": {
    "tags": []
   },
   "outputs": [
    {
     "name": "stdout",
     "output_type": "stream",
     "text": [
      "[24 48 15  6 16]\n",
      "(608, 5)\n"
     ]
    }
   ],
   "source": [
    "p2p_tr['l'] = p2p_tr.traffic_gbps.apply(len)\n",
    "print(p2p_tr.l.unique())\n",
    "p2p_irregular = p2p_tr[p2p_tr.l!=24]\n",
    "print(p2p_irregular.shape)"
   ]
  },
  {
   "cell_type": "code",
   "execution_count": 105,
   "id": "08808802-29c4-4f6b-8411-e1579d6b3342",
   "metadata": {
    "tags": []
   },
   "outputs": [],
   "source": [
    "p2p_irregular[['da_pa', 'dz_pz', 'traffic_gbps', 'l']].to_csv('irregular_port_pairs.csv', index=False)"
   ]
  },
  {
   "cell_type": "code",
   "execution_count": 66,
   "id": "3c596a79-61b1-43e6-8b38-7282f6a3ae8b",
   "metadata": {
    "tags": []
   },
   "outputs": [],
   "source": [
    "def correct_traffic_list(traffic_list):\n",
    "    length = len(traffic_list)\n",
    "\n",
    "    if length < 24:                                                     # pad 0s to short list\n",
    "        new_traffic_list = traffic_list + [0] * (24 - length)\n",
    "    elif length == 24:                                                  # do nothing on correct length ones\n",
    "        new_traffic_list = traffic_list\n",
    "    elif length > 24 and length != 48:                                  # trunk the first 24 values for non-48 long list\n",
    "        new_traffic_list = traffic_list[:24]\n",
    "    else:                                                               # take the odd number from a 48 long list\n",
    "        new_traffic_list = [traffic_list[i] for i in range(0, 48, 2)]\n",
    "\n",
    "    return new_traffic_list"
   ]
  },
  {
   "cell_type": "code",
   "execution_count": 67,
   "id": "acf9c508-8517-47c2-bf18-71972ba36415",
   "metadata": {
    "tags": []
   },
   "outputs": [
    {
     "name": "stdout",
     "output_type": "stream",
     "text": [
      "[24]\n"
     ]
    }
   ],
   "source": [
    "p2p_tr['new_traffic_gbps'] = p2p_tr.traffic_gbps.apply(correct_traffic_list)\n",
    "p2p_tr['l'] = p2p_tr.new_traffic_gbps.apply(len)\n",
    "print(p2p_tr.l.unique())"
   ]
  },
  {
   "cell_type": "code",
   "execution_count": 68,
   "id": "a4127554-52b0-43b8-bde9-940ae60edfe3",
   "metadata": {
    "tags": []
   },
   "outputs": [
    {
     "name": "stdout",
     "output_type": "stream",
     "text": [
      "[24 48 15  6 16]\n"
     ]
    }
   ],
   "source": [
    "p2p_ts['l'] = p2p_ts.ts.apply(len)\n",
    "print(p2p_ts.l.unique())"
   ]
  },
  {
   "cell_type": "code",
   "execution_count": 69,
   "id": "4d47e980-8b01-4bf4-8552-4217fcf7d9d5",
   "metadata": {
    "tags": []
   },
   "outputs": [],
   "source": [
    "def apply_event(row):\n",
    "    \"\"\"\n",
    "    \"\"\"\n",
    "    event = []\n",
    "    for lf, st_a, st_z in zip(row['lifecycle_state'], row['tshift_status_a'], row['tshift_status_z']):\n",
    "        if (lf != \"OPERATIONAL\") or (st_a == \"shifted\" or (st_z == \"shifted\")):\n",
    "            event.append(0)\n",
    "        else:\n",
    "            event.append(1)\n",
    "    return pd.Series({'event': event})\n",
    "\n",
    "p2p_event = p2p_edges.groupby(['da_pa', 'dz_pz']).apply(apply_event).reset_index()"
   ]
  },
  {
   "cell_type": "code",
   "execution_count": 93,
   "id": "a4d0d42a-b309-4c1f-8052-f91f3dd84d17",
   "metadata": {
    "tags": []
   },
   "outputs": [],
   "source": [
    "def correct_event_list(event_list):\n",
    "    length = len(event_list)\n",
    "\n",
    "    if length < 24:                                                     # pad 1s to short list\n",
    "        new_event_list = event_list + [1] * (24 - length)\n",
    "    elif length == 24:                                                  # do nothing on correct length ones\n",
    "        new_event_list = event_list\n",
    "    elif length > 24 and length != 48:                                  # trunk the first 24 values for non-48 long list\n",
    "        new_event_list = event_list[:24]\n",
    "    else:                                                               # take the odd number from a 48 long list\n",
    "        new_event_list = [event_list[i] for i in range(0, 48, 2)]\n",
    "\n",
    "    return new_event_list"
   ]
  },
  {
   "cell_type": "code",
   "execution_count": 94,
   "id": "2b6bdd9c-fb9a-46f4-b60e-63ed14667267",
   "metadata": {
    "tags": []
   },
   "outputs": [
    {
     "name": "stdout",
     "output_type": "stream",
     "text": [
      "[24]\n"
     ]
    }
   ],
   "source": [
    "p2p_event['new_event'] = p2p_event.event.apply(correct_event_list)\n",
    "p2p_event['l'] = p2p_event.new_event.apply(len)\n",
    "print(p2p_event.l.unique())"
   ]
  },
  {
   "cell_type": "code",
   "execution_count": 71,
   "id": "dfe5efaa-decf-4266-8b41-d610e6204bd0",
   "metadata": {
    "tags": []
   },
   "outputs": [
    {
     "data": {
      "text/html": [
       "<div>\n",
       "<style scoped>\n",
       "    .dataframe tbody tr th:only-of-type {\n",
       "        vertical-align: middle;\n",
       "    }\n",
       "\n",
       "    .dataframe tbody tr th {\n",
       "        vertical-align: top;\n",
       "    }\n",
       "\n",
       "    .dataframe thead th {\n",
       "        text-align: right;\n",
       "    }\n",
       "</style>\n",
       "<table border=\"1\" class=\"dataframe\">\n",
       "  <thead>\n",
       "    <tr style=\"text-align: right;\">\n",
       "      <th></th>\n",
       "      <th>da_pa</th>\n",
       "      <th>dz_pz</th>\n",
       "      <th>ts</th>\n",
       "      <th>lifecycle_state</th>\n",
       "      <th>tshift_status_a</th>\n",
       "      <th>tshift_status_z</th>\n",
       "      <th>fabric</th>\n",
       "      <th>span_type</th>\n",
       "      <th>span_build_type</th>\n",
       "      <th>traffic_gbps</th>\n",
       "    </tr>\n",
       "  </thead>\n",
       "  <tbody>\n",
       "    <tr>\n",
       "      <th>6877</th>\n",
       "      <td>akl50-br-cor-r1:et-0/0/19</td>\n",
       "      <td>syd1-br-cor-r2:et-5/1/0</td>\n",
       "      <td>2023-12-11 04:05:00</td>\n",
       "      <td>OPERATIONAL</td>\n",
       "      <td>not_shifted</td>\n",
       "      <td>not_shifted</td>\n",
       "      <td>CLASSIC</td>\n",
       "      <td>BACKBONE</td>\n",
       "      <td>BACKBONE</td>\n",
       "      <td>7.866495</td>\n",
       "    </tr>\n",
       "    <tr>\n",
       "      <th>38828</th>\n",
       "      <td>akl50-br-cor-r1:et-0/0/19</td>\n",
       "      <td>syd1-br-cor-r2:et-5/1/0</td>\n",
       "      <td>2023-12-11 04:10:00</td>\n",
       "      <td>OPERATIONAL</td>\n",
       "      <td>not_shifted</td>\n",
       "      <td>not_shifted</td>\n",
       "      <td>CLASSIC</td>\n",
       "      <td>BACKBONE</td>\n",
       "      <td>BACKBONE</td>\n",
       "      <td>7.762273</td>\n",
       "    </tr>\n",
       "    <tr>\n",
       "      <th>70779</th>\n",
       "      <td>akl50-br-cor-r1:et-0/0/19</td>\n",
       "      <td>syd1-br-cor-r2:et-5/1/0</td>\n",
       "      <td>2023-12-11 04:15:00</td>\n",
       "      <td>OPERATIONAL</td>\n",
       "      <td>not_shifted</td>\n",
       "      <td>not_shifted</td>\n",
       "      <td>CLASSIC</td>\n",
       "      <td>BACKBONE</td>\n",
       "      <td>BACKBONE</td>\n",
       "      <td>8.038799</td>\n",
       "    </tr>\n",
       "    <tr>\n",
       "      <th>102730</th>\n",
       "      <td>akl50-br-cor-r1:et-0/0/19</td>\n",
       "      <td>syd1-br-cor-r2:et-5/1/0</td>\n",
       "      <td>2023-12-11 04:20:00</td>\n",
       "      <td>OPERATIONAL</td>\n",
       "      <td>not_shifted</td>\n",
       "      <td>not_shifted</td>\n",
       "      <td>CLASSIC</td>\n",
       "      <td>BACKBONE</td>\n",
       "      <td>BACKBONE</td>\n",
       "      <td>8.110079</td>\n",
       "    </tr>\n",
       "  </tbody>\n",
       "</table>\n",
       "</div>"
      ],
      "text/plain": [
       "                            da_pa                    dz_pz  \\\n",
       "6877    akl50-br-cor-r1:et-0/0/19  syd1-br-cor-r2:et-5/1/0   \n",
       "38828   akl50-br-cor-r1:et-0/0/19  syd1-br-cor-r2:et-5/1/0   \n",
       "70779   akl50-br-cor-r1:et-0/0/19  syd1-br-cor-r2:et-5/1/0   \n",
       "102730  akl50-br-cor-r1:et-0/0/19  syd1-br-cor-r2:et-5/1/0   \n",
       "\n",
       "                        ts lifecycle_state tshift_status_a tshift_status_z  \\\n",
       "6877   2023-12-11 04:05:00     OPERATIONAL     not_shifted     not_shifted   \n",
       "38828  2023-12-11 04:10:00     OPERATIONAL     not_shifted     not_shifted   \n",
       "70779  2023-12-11 04:15:00     OPERATIONAL     not_shifted     not_shifted   \n",
       "102730 2023-12-11 04:20:00     OPERATIONAL     not_shifted     not_shifted   \n",
       "\n",
       "         fabric span_type span_build_type  traffic_gbps  \n",
       "6877    CLASSIC  BACKBONE        BACKBONE      7.866495  \n",
       "38828   CLASSIC  BACKBONE        BACKBONE      7.762273  \n",
       "70779   CLASSIC  BACKBONE        BACKBONE      8.038799  \n",
       "102730  CLASSIC  BACKBONE        BACKBONE      8.110079  "
      ]
     },
     "execution_count": 71,
     "metadata": {},
     "output_type": "execute_result"
    }
   ],
   "source": [
    "p2p_edges.head(4)"
   ]
  },
  {
   "cell_type": "markdown",
   "id": "a82c55c4-0043-4cf5-876d-292cca3ae5ee",
   "metadata": {},
   "source": [
    "#### Merge all p2p feature dataframes\n",
    "\n",
    "- p2p_fabric; current data shows there is only ONE fabric type for each edge.\n",
    "- p2p_span; current data shows there is only ONE span type for each edge.\n",
    "- p2p_span_bt;current data has multiple span build types for one edge.\n",
    "- p2p_ts;  varient length, so will not used in data set\n",
    "- p2p_tr;\n",
    "- p2p_event."
   ]
  },
  {
   "cell_type": "code",
   "execution_count": 72,
   "id": "1b39e5c6-3faa-47fc-a043-62de65fdded2",
   "metadata": {
    "tags": []
   },
   "outputs": [
    {
     "data": {
      "text/html": [
       "<div>\n",
       "<style scoped>\n",
       "    .dataframe tbody tr th:only-of-type {\n",
       "        vertical-align: middle;\n",
       "    }\n",
       "\n",
       "    .dataframe tbody tr th {\n",
       "        vertical-align: top;\n",
       "    }\n",
       "\n",
       "    .dataframe thead th {\n",
       "        text-align: right;\n",
       "    }\n",
       "</style>\n",
       "<table border=\"1\" class=\"dataframe\">\n",
       "  <thead>\n",
       "    <tr style=\"text-align: right;\">\n",
       "      <th></th>\n",
       "      <th>da_pa</th>\n",
       "      <th>dz_pz</th>\n",
       "      <th>fabric</th>\n",
       "      <th>num_type</th>\n",
       "      <th>fabric_str</th>\n",
       "    </tr>\n",
       "  </thead>\n",
       "  <tbody>\n",
       "    <tr>\n",
       "      <th>0</th>\n",
       "      <td>akl50-br-cor-r1:et-0/0/19</td>\n",
       "      <td>syd1-br-cor-r2:et-5/1/0</td>\n",
       "      <td>{}</td>\n",
       "      <td>1</td>\n",
       "      <td>CLASSIC</td>\n",
       "    </tr>\n",
       "    <tr>\n",
       "      <th>1</th>\n",
       "      <td>akl50-br-cor-r2:et-0/0/19</td>\n",
       "      <td>syd1-br-cor-r3:et-1/3/0</td>\n",
       "      <td>{}</td>\n",
       "      <td>1</td>\n",
       "      <td>CLASSIC</td>\n",
       "    </tr>\n",
       "    <tr>\n",
       "      <th>2</th>\n",
       "      <td>akl50-br-cor-r3:et-0/0/19</td>\n",
       "      <td>syd62-br-bfb-f1-b2-t1-r2:et-0/0/13</td>\n",
       "      <td>{}</td>\n",
       "      <td>1</td>\n",
       "      <td>CLASSIC</td>\n",
       "    </tr>\n",
       "    <tr>\n",
       "      <th>3</th>\n",
       "      <td>ams1-br-bfb-f1-b2-t1-r1:et-0/0/13</td>\n",
       "      <td>fra60-br-bfb-f1-b4-t1-r3:et-0/0/7</td>\n",
       "      <td>{}</td>\n",
       "      <td>1</td>\n",
       "      <td>CLASSIC</td>\n",
       "    </tr>\n",
       "  </tbody>\n",
       "</table>\n",
       "</div>"
      ],
      "text/plain": [
       "                               da_pa                               dz_pz  \\\n",
       "0          akl50-br-cor-r1:et-0/0/19             syd1-br-cor-r2:et-5/1/0   \n",
       "1          akl50-br-cor-r2:et-0/0/19             syd1-br-cor-r3:et-1/3/0   \n",
       "2          akl50-br-cor-r3:et-0/0/19  syd62-br-bfb-f1-b2-t1-r2:et-0/0/13   \n",
       "3  ams1-br-bfb-f1-b2-t1-r1:et-0/0/13   fra60-br-bfb-f1-b4-t1-r3:et-0/0/7   \n",
       "\n",
       "  fabric  num_type fabric_str  \n",
       "0     {}         1    CLASSIC  \n",
       "1     {}         1    CLASSIC  \n",
       "2     {}         1    CLASSIC  \n",
       "3     {}         1    CLASSIC  "
      ]
     },
     "execution_count": 72,
     "metadata": {},
     "output_type": "execute_result"
    }
   ],
   "source": [
    "p2p_fabric['fabric_str'] = p2p_fabric['fabric'].apply(lambda x: x.pop() if len(x) > 0 else '')\n",
    "p2p_fabric.head(4)"
   ]
  },
  {
   "cell_type": "code",
   "execution_count": 73,
   "id": "2e0a8aa4-2d80-492b-b34f-66cb089a1cd5",
   "metadata": {
    "tags": []
   },
   "outputs": [
    {
     "name": "stdout",
     "output_type": "stream",
     "text": [
      "(31373, 3)\n"
     ]
    }
   ],
   "source": [
    "p2p_f = p2p_fabric[['da_pa', 'dz_pz', 'fabric_str']]\n",
    "print(p2p_f.shape)"
   ]
  },
  {
   "cell_type": "code",
   "execution_count": 74,
   "id": "76d85e75-51a9-44fc-9260-0a399d5a3f21",
   "metadata": {
    "tags": []
   },
   "outputs": [
    {
     "data": {
      "text/html": [
       "<div>\n",
       "<style scoped>\n",
       "    .dataframe tbody tr th:only-of-type {\n",
       "        vertical-align: middle;\n",
       "    }\n",
       "\n",
       "    .dataframe tbody tr th {\n",
       "        vertical-align: top;\n",
       "    }\n",
       "\n",
       "    .dataframe thead th {\n",
       "        text-align: right;\n",
       "    }\n",
       "</style>\n",
       "<table border=\"1\" class=\"dataframe\">\n",
       "  <thead>\n",
       "    <tr style=\"text-align: right;\">\n",
       "      <th></th>\n",
       "      <th>da_pa</th>\n",
       "      <th>dz_pz</th>\n",
       "      <th>span_type</th>\n",
       "      <th>num_type</th>\n",
       "      <th>span_str</th>\n",
       "    </tr>\n",
       "  </thead>\n",
       "  <tbody>\n",
       "    <tr>\n",
       "      <th>26433</th>\n",
       "      <td>pdx2-br-fnc-f1-b3-t1-r2:jrp1-3</td>\n",
       "      <td>pdx69-br-fnc-f1-b1-t1-r14:jrp1-3</td>\n",
       "      <td>{}</td>\n",
       "      <td>1</td>\n",
       "      <td>INTRA-METRO</td>\n",
       "    </tr>\n",
       "    <tr>\n",
       "      <th>25444</th>\n",
       "      <td>pdx1-br-fnc-f1-b3-t1-r3:jrp8-1</td>\n",
       "      <td>pdx68-br-fnc-f1-b1-t1-r15:jrp12-1</td>\n",
       "      <td>{}</td>\n",
       "      <td>1</td>\n",
       "      <td>INTRA-METRO</td>\n",
       "    </tr>\n",
       "    <tr>\n",
       "      <th>12290</th>\n",
       "      <td>iad12-br-fnc-f1-b2-t1-r6:jrp16-3</td>\n",
       "      <td>iad79-br-fnc-f1-b1-t1-r6:jrp8-3</td>\n",
       "      <td>{}</td>\n",
       "      <td>1</td>\n",
       "      <td>INTRA-METRO</td>\n",
       "    </tr>\n",
       "    <tr>\n",
       "      <th>543</th>\n",
       "      <td>ams54-br-fnc-f1-b1-t1-r16:jrp6-3</td>\n",
       "      <td>ams58-br-fnc-f1-b1-t1-r16:jrp6-3</td>\n",
       "      <td>{}</td>\n",
       "      <td>1</td>\n",
       "      <td>INTRA-METRO</td>\n",
       "    </tr>\n",
       "  </tbody>\n",
       "</table>\n",
       "</div>"
      ],
      "text/plain": [
       "                                  da_pa                              dz_pz  \\\n",
       "26433    pdx2-br-fnc-f1-b3-t1-r2:jrp1-3   pdx69-br-fnc-f1-b1-t1-r14:jrp1-3   \n",
       "25444    pdx1-br-fnc-f1-b3-t1-r3:jrp8-1  pdx68-br-fnc-f1-b1-t1-r15:jrp12-1   \n",
       "12290  iad12-br-fnc-f1-b2-t1-r6:jrp16-3    iad79-br-fnc-f1-b1-t1-r6:jrp8-3   \n",
       "543    ams54-br-fnc-f1-b1-t1-r16:jrp6-3   ams58-br-fnc-f1-b1-t1-r16:jrp6-3   \n",
       "\n",
       "      span_type  num_type     span_str  \n",
       "26433        {}         1  INTRA-METRO  \n",
       "25444        {}         1  INTRA-METRO  \n",
       "12290        {}         1  INTRA-METRO  \n",
       "543          {}         1  INTRA-METRO  "
      ]
     },
     "execution_count": 74,
     "metadata": {},
     "output_type": "execute_result"
    }
   ],
   "source": [
    "p2p_span['span_str'] = p2p_span['span_type'].apply(lambda x: x.pop() if len(x) > 0 else '')\n",
    "p2p_span.sample(4)"
   ]
  },
  {
   "cell_type": "code",
   "execution_count": 75,
   "id": "386f79d4-b2a6-4419-a042-cd15b20c9049",
   "metadata": {
    "tags": []
   },
   "outputs": [
    {
     "name": "stdout",
     "output_type": "stream",
     "text": [
      "(31373, 3)\n"
     ]
    }
   ],
   "source": [
    "p2p_s = p2p_span[['da_pa', 'dz_pz', 'span_str']]\n",
    "print(p2p_s.shape)"
   ]
  },
  {
   "cell_type": "code",
   "execution_count": 76,
   "id": "09dc608b-07c8-495f-9077-b9150de0eae3",
   "metadata": {
    "tags": []
   },
   "outputs": [
    {
     "data": {
      "text/html": [
       "<div>\n",
       "<style scoped>\n",
       "    .dataframe tbody tr th:only-of-type {\n",
       "        vertical-align: middle;\n",
       "    }\n",
       "\n",
       "    .dataframe tbody tr th {\n",
       "        vertical-align: top;\n",
       "    }\n",
       "\n",
       "    .dataframe thead th {\n",
       "        text-align: right;\n",
       "    }\n",
       "</style>\n",
       "<table border=\"1\" class=\"dataframe\">\n",
       "  <thead>\n",
       "    <tr style=\"text-align: right;\">\n",
       "      <th></th>\n",
       "      <th>da_pa</th>\n",
       "      <th>dz_pz</th>\n",
       "      <th>span_build_type</th>\n",
       "      <th>num_type</th>\n",
       "      <th>span_bt_str</th>\n",
       "    </tr>\n",
       "  </thead>\n",
       "  <tbody>\n",
       "    <tr>\n",
       "      <th>14325</th>\n",
       "      <td>iad55-br-fnc-f1-b2-t1-r9:jrp11-1</td>\n",
       "      <td>iad61-br-fnc-f1-b1-t1-r1:jrp15-1</td>\n",
       "      <td>{}</td>\n",
       "      <td>1</td>\n",
       "      <td>AMAZON_OLP_METRO</td>\n",
       "    </tr>\n",
       "    <tr>\n",
       "      <th>4783</th>\n",
       "      <td>cmh59-br-fnc-f1-b2-t1-r5:jrp5-1</td>\n",
       "      <td>cmh61-br-fnc-f1-b2-t1-r5:jrp1-1</td>\n",
       "      <td>{}</td>\n",
       "      <td>1</td>\n",
       "      <td>AMAZON_OLP_METRO</td>\n",
       "    </tr>\n",
       "    <tr>\n",
       "      <th>468</th>\n",
       "      <td>ams54-br-bfb-f1-b4-t1-r5:et-0/0/1</td>\n",
       "      <td>lhr61-br-bfb-f1-b8-t1-r3:et-0/0/5</td>\n",
       "      <td>{}</td>\n",
       "      <td>1</td>\n",
       "      <td>BACKBONE</td>\n",
       "    </tr>\n",
       "    <tr>\n",
       "      <th>24433</th>\n",
       "      <td>pdx1-br-fnc-f1-b1-t1-r13:jrp8-4</td>\n",
       "      <td>pdx80-br-fnc-f1-b1-t1-r13:jrp8-4</td>\n",
       "      <td>{}</td>\n",
       "      <td>1</td>\n",
       "      <td>AMAZON_OLP_METRO</td>\n",
       "    </tr>\n",
       "  </tbody>\n",
       "</table>\n",
       "</div>"
      ],
      "text/plain": [
       "                                   da_pa                              dz_pz  \\\n",
       "14325   iad55-br-fnc-f1-b2-t1-r9:jrp11-1   iad61-br-fnc-f1-b1-t1-r1:jrp15-1   \n",
       "4783     cmh59-br-fnc-f1-b2-t1-r5:jrp5-1    cmh61-br-fnc-f1-b2-t1-r5:jrp1-1   \n",
       "468    ams54-br-bfb-f1-b4-t1-r5:et-0/0/1  lhr61-br-bfb-f1-b8-t1-r3:et-0/0/5   \n",
       "24433    pdx1-br-fnc-f1-b1-t1-r13:jrp8-4   pdx80-br-fnc-f1-b1-t1-r13:jrp8-4   \n",
       "\n",
       "      span_build_type  num_type       span_bt_str  \n",
       "14325              {}         1  AMAZON_OLP_METRO  \n",
       "4783               {}         1  AMAZON_OLP_METRO  \n",
       "468                {}         1          BACKBONE  \n",
       "24433              {}         1  AMAZON_OLP_METRO  "
      ]
     },
     "execution_count": 76,
     "metadata": {},
     "output_type": "execute_result"
    }
   ],
   "source": [
    "def process_span_build_type(bt_set):\n",
    "    if len(bt_set) == 0:\n",
    "        return ''\n",
    "    elif len(bt_set) == 1:\n",
    "        return bt_set.pop()\n",
    "    else:\n",
    "        return ':'.join([bt for bt in bt_set])\n",
    "\n",
    "p2p_span_bt['span_bt_str'] = p2p_span_bt['span_build_type'].apply(process_span_build_type)\n",
    "p2p_span_bt.sample(4)"
   ]
  },
  {
   "cell_type": "code",
   "execution_count": 77,
   "id": "bc68efac-cfe2-4cc7-a1ab-524c5a168a49",
   "metadata": {
    "tags": []
   },
   "outputs": [
    {
     "name": "stdout",
     "output_type": "stream",
     "text": [
      "(31373, 3)\n"
     ]
    }
   ],
   "source": [
    "p2p_sbt = p2p_span_bt[['da_pa', 'dz_pz', 'span_bt_str']]\n",
    "print(p2p_sbt.shape)"
   ]
  },
  {
   "cell_type": "code",
   "execution_count": 78,
   "id": "f120ec10-5590-4bd8-8382-4fcbc8865952",
   "metadata": {
    "tags": []
   },
   "outputs": [
    {
     "name": "stdout",
     "output_type": "stream",
     "text": [
      "(31373, 4)\n",
      "(31373, 5)\n",
      "(31373, 3)\n"
     ]
    }
   ],
   "source": [
    "print(p2p_ts.shape)\n",
    "print(p2p_tr.shape)\n",
    "print(p2p_event.shape)"
   ]
  },
  {
   "cell_type": "code",
   "execution_count": 97,
   "id": "81e7938a-0141-4fa2-b3fc-1cd7b67d36c2",
   "metadata": {},
   "outputs": [],
   "source": [
    "p2p = pd.merge(p2p_f, p2p_s, left_on=['da_pa', 'dz_pz'], right_on=['da_pa', 'dz_pz'])\n",
    "p2p = pd.merge(p2p, p2p_sbt, left_on=['da_pa', 'dz_pz'], right_on=['da_pa', 'dz_pz'])\n",
    "# p2p = pd.merge(p2p, p2p_ts, left_on=['da_pa', 'dz_pz'], right_on=['da_pa', 'dz_pz'])\n",
    "p2p = pd.merge(p2p, p2p_tr[['da_pa', 'dz_pz', 'new_traffic_gbps']], left_on=['da_pa', 'dz_pz'], right_on=['da_pa', 'dz_pz'])\n",
    "p2p = pd.merge(p2p, p2p_event[['da_pa', 'dz_pz', 'new_event']], left_on=['da_pa', 'dz_pz'], right_on=['da_pa', 'dz_pz'])"
   ]
  },
  {
   "cell_type": "code",
   "execution_count": 98,
   "id": "58ee3304-5fc9-44f3-8c0e-a5c07e777bc6",
   "metadata": {
    "tags": []
   },
   "outputs": [
    {
     "data": {
      "text/html": [
       "<div>\n",
       "<style scoped>\n",
       "    .dataframe tbody tr th:only-of-type {\n",
       "        vertical-align: middle;\n",
       "    }\n",
       "\n",
       "    .dataframe tbody tr th {\n",
       "        vertical-align: top;\n",
       "    }\n",
       "\n",
       "    .dataframe thead th {\n",
       "        text-align: right;\n",
       "    }\n",
       "</style>\n",
       "<table border=\"1\" class=\"dataframe\">\n",
       "  <thead>\n",
       "    <tr style=\"text-align: right;\">\n",
       "      <th></th>\n",
       "      <th>da_pa</th>\n",
       "      <th>dz_pz</th>\n",
       "      <th>fabric_str</th>\n",
       "      <th>span_str</th>\n",
       "      <th>span_bt_str</th>\n",
       "      <th>new_traffic_gbps</th>\n",
       "      <th>new_event</th>\n",
       "    </tr>\n",
       "  </thead>\n",
       "  <tbody>\n",
       "    <tr>\n",
       "      <th>16153</th>\n",
       "      <td>iad6-br-fnc-f1-b3-t1-r10:jrp4-1</td>\n",
       "      <td>iad53-br-fnc-f1-b1-t1-r10:jrp4-1</td>\n",
       "      <td>FNC</td>\n",
       "      <td>INTRA-METRO</td>\n",
       "      <td>AMAZON_OLP_METRO</td>\n",
       "      <td>[24.0024986, 23.5958211, 22.3387505, 22.159689...</td>\n",
       "      <td>[1, 1, 1, 1, 1, 1, 1, 1, 1, 1, 1, 1, 1, 1, 1, ...</td>\n",
       "    </tr>\n",
       "    <tr>\n",
       "      <th>25124</th>\n",
       "      <td>pdx1-br-fnc-f1-b3-t1-r13:jrp16-1</td>\n",
       "      <td>pdx62-br-fnc-f1-b1-t1-r5:jrp16-1</td>\n",
       "      <td>FNC</td>\n",
       "      <td>INTRA-METRO</td>\n",
       "      <td>BULK_FIBER</td>\n",
       "      <td>[6.1957335, 6.4918953, 6.2354744, 6.8462449, 6...</td>\n",
       "      <td>[1, 1, 1, 1, 1, 1, 1, 1, 1, 1, 1, 1, 1, 1, 1, ...</td>\n",
       "    </tr>\n",
       "    <tr>\n",
       "      <th>19210</th>\n",
       "      <td>kix50-br-fnc-f1-b1-t1-r15:jrp10-1</td>\n",
       "      <td>nrt51-br-fnc-f1-b1-t1-r15:jrp10-1</td>\n",
       "      <td>FNC</td>\n",
       "      <td>INTRA-METRO</td>\n",
       "      <td>AMAZON_OLP_METRO</td>\n",
       "      <td>[8.6072586, 8.1212708, 8.759042, 8.5488328, 8....</td>\n",
       "      <td>[1, 1, 1, 1, 1, 1, 1, 1, 1, 1, 1, 1, 1, 1, 1, ...</td>\n",
       "    </tr>\n",
       "    <tr>\n",
       "      <th>3312</th>\n",
       "      <td>cdg50-br-fnc-f1-b1-t1-r15:jrp12-1</td>\n",
       "      <td>cdg55-br-fnc-f1-b1-t1-r15:jrp12-1</td>\n",
       "      <td>FNC</td>\n",
       "      <td>INTRA-METRO</td>\n",
       "      <td>AMAZON_OLP_METRO</td>\n",
       "      <td>[4.3021170000000005e-06, 4.2867886e-06, 4.3000...</td>\n",
       "      <td>[0, 0, 0, 0, 0, 0, 0, 0, 0, 0, 0, 0, 0, 0, 0, ...</td>\n",
       "    </tr>\n",
       "    <tr>\n",
       "      <th>25034</th>\n",
       "      <td>pdx1-br-fnc-f1-b2-t1-r1:jrp2</td>\n",
       "      <td>pdx4-br-fnc-f1-b1-t1-r9:jrp7</td>\n",
       "      <td>FNC</td>\n",
       "      <td>INTRA-METRO</td>\n",
       "      <td>AMAZON_OLP_METRO</td>\n",
       "      <td>[0.0, 0.0, 0.0, 0.0, 0.0, 0.0, 0.0, 0.0, 0.0, ...</td>\n",
       "      <td>[0, 0, 0, 0, 0, 0, 0, 0, 0, 0, 0, 0, 0, 0, 0, ...</td>\n",
       "    </tr>\n",
       "    <tr>\n",
       "      <th>8951</th>\n",
       "      <td>fra53-br-fnc-f1-b2-t1-r7:jrp5-4</td>\n",
       "      <td>fra90-br-fnc-f1-b2-t1-r15:jrp5-4</td>\n",
       "      <td>FNC</td>\n",
       "      <td>INTRA-METRO</td>\n",
       "      <td>AMAZON_OLP_METRO</td>\n",
       "      <td>[3.4519760000000005e-05, 3.8200836e-05, 4.3392...</td>\n",
       "      <td>[1, 1, 1, 1, 1, 1, 1, 1, 1, 1, 1, 1, 1, 1, 1, ...</td>\n",
       "    </tr>\n",
       "    <tr>\n",
       "      <th>27381</th>\n",
       "      <td>pdx56-br-fnc-f1-b1-t1-r5:jrp14-1</td>\n",
       "      <td>pdx66-br-fnc-f1-b1-t1-r1:jrp6-1</td>\n",
       "      <td>FNC</td>\n",
       "      <td>INTRA-METRO</td>\n",
       "      <td>BULK_FIBER</td>\n",
       "      <td>[3.27158784, 2.98065178, 3.07278259, 2.8992560...</td>\n",
       "      <td>[1, 1, 1, 1, 1, 1, 1, 1, 1, 1, 1, 1, 1, 1, 1, ...</td>\n",
       "    </tr>\n",
       "  </tbody>\n",
       "</table>\n",
       "</div>"
      ],
      "text/plain": [
       "                                   da_pa                              dz_pz  \\\n",
       "16153    iad6-br-fnc-f1-b3-t1-r10:jrp4-1   iad53-br-fnc-f1-b1-t1-r10:jrp4-1   \n",
       "25124   pdx1-br-fnc-f1-b3-t1-r13:jrp16-1   pdx62-br-fnc-f1-b1-t1-r5:jrp16-1   \n",
       "19210  kix50-br-fnc-f1-b1-t1-r15:jrp10-1  nrt51-br-fnc-f1-b1-t1-r15:jrp10-1   \n",
       "3312   cdg50-br-fnc-f1-b1-t1-r15:jrp12-1  cdg55-br-fnc-f1-b1-t1-r15:jrp12-1   \n",
       "25034       pdx1-br-fnc-f1-b2-t1-r1:jrp2       pdx4-br-fnc-f1-b1-t1-r9:jrp7   \n",
       "8951     fra53-br-fnc-f1-b2-t1-r7:jrp5-4   fra90-br-fnc-f1-b2-t1-r15:jrp5-4   \n",
       "27381   pdx56-br-fnc-f1-b1-t1-r5:jrp14-1    pdx66-br-fnc-f1-b1-t1-r1:jrp6-1   \n",
       "\n",
       "      fabric_str     span_str       span_bt_str  \\\n",
       "16153        FNC  INTRA-METRO  AMAZON_OLP_METRO   \n",
       "25124        FNC  INTRA-METRO        BULK_FIBER   \n",
       "19210        FNC  INTRA-METRO  AMAZON_OLP_METRO   \n",
       "3312         FNC  INTRA-METRO  AMAZON_OLP_METRO   \n",
       "25034        FNC  INTRA-METRO  AMAZON_OLP_METRO   \n",
       "8951         FNC  INTRA-METRO  AMAZON_OLP_METRO   \n",
       "27381        FNC  INTRA-METRO        BULK_FIBER   \n",
       "\n",
       "                                        new_traffic_gbps  \\\n",
       "16153  [24.0024986, 23.5958211, 22.3387505, 22.159689...   \n",
       "25124  [6.1957335, 6.4918953, 6.2354744, 6.8462449, 6...   \n",
       "19210  [8.6072586, 8.1212708, 8.759042, 8.5488328, 8....   \n",
       "3312   [4.3021170000000005e-06, 4.2867886e-06, 4.3000...   \n",
       "25034  [0.0, 0.0, 0.0, 0.0, 0.0, 0.0, 0.0, 0.0, 0.0, ...   \n",
       "8951   [3.4519760000000005e-05, 3.8200836e-05, 4.3392...   \n",
       "27381  [3.27158784, 2.98065178, 3.07278259, 2.8992560...   \n",
       "\n",
       "                                               new_event  \n",
       "16153  [1, 1, 1, 1, 1, 1, 1, 1, 1, 1, 1, 1, 1, 1, 1, ...  \n",
       "25124  [1, 1, 1, 1, 1, 1, 1, 1, 1, 1, 1, 1, 1, 1, 1, ...  \n",
       "19210  [1, 1, 1, 1, 1, 1, 1, 1, 1, 1, 1, 1, 1, 1, 1, ...  \n",
       "3312   [0, 0, 0, 0, 0, 0, 0, 0, 0, 0, 0, 0, 0, 0, 0, ...  \n",
       "25034  [0, 0, 0, 0, 0, 0, 0, 0, 0, 0, 0, 0, 0, 0, 0, ...  \n",
       "8951   [1, 1, 1, 1, 1, 1, 1, 1, 1, 1, 1, 1, 1, 1, 1, ...  \n",
       "27381  [1, 1, 1, 1, 1, 1, 1, 1, 1, 1, 1, 1, 1, 1, 1, ...  "
      ]
     },
     "execution_count": 98,
     "metadata": {},
     "output_type": "execute_result"
    }
   ],
   "source": [
    "p2p.sample(7)"
   ]
  },
  {
   "cell_type": "code",
   "execution_count": 99,
   "id": "7489da84-9f21-4c1a-bb88-87f71517cc98",
   "metadata": {
    "tags": []
   },
   "outputs": [],
   "source": [
    "p2p.to_parquet('gs_data/port-to-port.parquet', index=False)"
   ]
  },
  {
   "cell_type": "markdown",
   "id": "1124feeb-beee-4efe-9e66-e0dc3be36c9f",
   "metadata": {},
   "source": [
    "### Port belong-to Metro edges\n",
    "\n",
    "Extract the first 3 letters from each Port, and match them back to the Metro table. Should have no missing. Otherwise, add it to the Metro table.\n",
    "Based the splited Port string, create the Port to Metro edges."
   ]
  },
  {
   "cell_type": "code",
   "execution_count": 82,
   "id": "85d86d79-07c3-44d6-911a-37f2e80d932b",
   "metadata": {},
   "outputs": [
    {
     "data": {
      "text/html": [
       "<div>\n",
       "<style scoped>\n",
       "    .dataframe tbody tr th:only-of-type {\n",
       "        vertical-align: middle;\n",
       "    }\n",
       "\n",
       "    .dataframe tbody tr th {\n",
       "        vertical-align: top;\n",
       "    }\n",
       "\n",
       "    .dataframe thead th {\n",
       "        text-align: right;\n",
       "    }\n",
       "</style>\n",
       "<table border=\"1\" class=\"dataframe\">\n",
       "  <thead>\n",
       "    <tr style=\"text-align: right;\">\n",
       "      <th></th>\n",
       "      <th>nid</th>\n",
       "    </tr>\n",
       "  </thead>\n",
       "  <tbody>\n",
       "    <tr>\n",
       "      <th>11461</th>\n",
       "      <td>dub58-br-fnc-f1-b1-t1-r10:jrp5-2</td>\n",
       "    </tr>\n",
       "    <tr>\n",
       "      <th>6179</th>\n",
       "      <td>cmh51-br-fnc-f1-b1-t1-r13:jrp2-1</td>\n",
       "    </tr>\n",
       "    <tr>\n",
       "      <th>34146</th>\n",
       "      <td>jfk1-br-fnc-f1-b1-t1-r16:jrp5-4</td>\n",
       "    </tr>\n",
       "    <tr>\n",
       "      <th>37764</th>\n",
       "      <td>lhr54-br-fnc-f1-b1-t1-r9:jrp6-2</td>\n",
       "    </tr>\n",
       "    <tr>\n",
       "      <th>3212</th>\n",
       "      <td>bom50-br-fnc-f1-b1-t1-r16:jrp1-4</td>\n",
       "    </tr>\n",
       "    <tr>\n",
       "      <th>14138</th>\n",
       "      <td>fra56-br-bfb-f1-b2-t1-r1:et-0/0/13</td>\n",
       "    </tr>\n",
       "    <tr>\n",
       "      <th>14403</th>\n",
       "      <td>fra56-br-fnc-f1-b2-t1-r2:jrp8-3</td>\n",
       "    </tr>\n",
       "  </tbody>\n",
       "</table>\n",
       "</div>"
      ],
      "text/plain": [
       "                                      nid\n",
       "11461    dub58-br-fnc-f1-b1-t1-r10:jrp5-2\n",
       "6179     cmh51-br-fnc-f1-b1-t1-r13:jrp2-1\n",
       "34146     jfk1-br-fnc-f1-b1-t1-r16:jrp5-4\n",
       "37764     lhr54-br-fnc-f1-b1-t1-r9:jrp6-2\n",
       "3212     bom50-br-fnc-f1-b1-t1-r16:jrp1-4\n",
       "14138  fra56-br-bfb-f1-b2-t1-r1:et-0/0/13\n",
       "14403     fra56-br-fnc-f1-b2-t1-r2:jrp8-3"
      ]
     },
     "execution_count": 82,
     "metadata": {},
     "output_type": "execute_result"
    }
   ],
   "source": [
    "port_node.sample(7)"
   ]
  },
  {
   "cell_type": "code",
   "execution_count": 83,
   "id": "78142691-d861-4e4e-9031-8607a87ac10d",
   "metadata": {
    "tags": []
   },
   "outputs": [],
   "source": [
    "port_metro = port_node.nid.apply(lambda x: x[:3] if x is not None else '')"
   ]
  },
  {
   "cell_type": "code",
   "execution_count": 84,
   "id": "fca7cf67-c05e-464c-a749-848d27724885",
   "metadata": {
    "tags": []
   },
   "outputs": [
    {
     "data": {
      "text/plain": [
       "0        akl\n",
       "1        akl\n",
       "2        akl\n",
       "3        ams\n",
       "4        ams\n",
       "        ... \n",
       "62329    zrh\n",
       "62330    zrh\n",
       "62331    zrh\n",
       "62332    zrh\n",
       "62333    zrh\n",
       "Name: nid, Length: 62334, dtype: object"
      ]
     },
     "execution_count": 84,
     "metadata": {},
     "output_type": "execute_result"
    }
   ],
   "source": [
    "port_metro"
   ]
  },
  {
   "cell_type": "code",
   "execution_count": 85,
   "id": "4e63c55c-fec7-4231-9e6d-ea4a4276b267",
   "metadata": {
    "tags": []
   },
   "outputs": [
    {
     "data": {
      "text/plain": [
       "(108, 1)"
      ]
     },
     "execution_count": 85,
     "metadata": {},
     "output_type": "execute_result"
    }
   ],
   "source": [
    "port_metro_unique = pd.DataFrame({'metro_id':port_metro.unique()})\n",
    "port_metro_unique.shape"
   ]
  },
  {
   "cell_type": "code",
   "execution_count": 86,
   "id": "4e02f71b-22f5-4f29-b529-c8f218bda5c9",
   "metadata": {
    "tags": []
   },
   "outputs": [
    {
     "data": {
      "text/html": [
       "<div>\n",
       "<style scoped>\n",
       "    .dataframe tbody tr th:only-of-type {\n",
       "        vertical-align: middle;\n",
       "    }\n",
       "\n",
       "    .dataframe tbody tr th {\n",
       "        vertical-align: top;\n",
       "    }\n",
       "\n",
       "    .dataframe thead th {\n",
       "        text-align: right;\n",
       "    }\n",
       "</style>\n",
       "<table border=\"1\" class=\"dataframe\">\n",
       "  <thead>\n",
       "    <tr style=\"text-align: right;\">\n",
       "      <th></th>\n",
       "      <th>metro_id</th>\n",
       "    </tr>\n",
       "  </thead>\n",
       "  <tbody>\n",
       "    <tr>\n",
       "      <th>107</th>\n",
       "      <td>zrh</td>\n",
       "    </tr>\n",
       "    <tr>\n",
       "      <th>19</th>\n",
       "      <td>cbr</td>\n",
       "    </tr>\n",
       "    <tr>\n",
       "      <th>0</th>\n",
       "      <td>akl</td>\n",
       "    </tr>\n",
       "    <tr>\n",
       "      <th>57</th>\n",
       "      <td>lis</td>\n",
       "    </tr>\n",
       "  </tbody>\n",
       "</table>\n",
       "</div>"
      ],
      "text/plain": [
       "    metro_id\n",
       "107      zrh\n",
       "19       cbr\n",
       "0        akl\n",
       "57       lis"
      ]
     },
     "execution_count": 86,
     "metadata": {},
     "output_type": "execute_result"
    }
   ],
   "source": [
    "port_metro_unique.sample(4)"
   ]
  },
  {
   "cell_type": "code",
   "execution_count": 87,
   "id": "a26a649b-6a5b-4ebd-9878-e66e12a1707a",
   "metadata": {
    "tags": []
   },
   "outputs": [
    {
     "data": {
      "text/plain": [
       "(108, 4)"
      ]
     },
     "execution_count": 87,
     "metadata": {},
     "output_type": "execute_result"
    }
   ],
   "source": [
    "diff = pd.merge(port_metro_unique, metro_node, left_on='metro_id', right_on='nid', how='inner')\n",
    "diff.shape"
   ]
  },
  {
   "cell_type": "markdown",
   "id": "ac42b959-a44f-44ce-8169-03bf701df1b2",
   "metadata": {
    "tags": []
   },
   "source": [
    "It confirms that all metros extracted from port strings are included in the Metro table."
   ]
  },
  {
   "cell_type": "code",
   "execution_count": 88,
   "id": "44cb1862-7732-4cef-adb3-90563a687827",
   "metadata": {
    "tags": []
   },
   "outputs": [
    {
     "name": "stdout",
     "output_type": "stream",
     "text": [
      "(62334, 2)\n"
     ]
    },
    {
     "data": {
      "text/html": [
       "<div>\n",
       "<style scoped>\n",
       "    .dataframe tbody tr th:only-of-type {\n",
       "        vertical-align: middle;\n",
       "    }\n",
       "\n",
       "    .dataframe tbody tr th {\n",
       "        vertical-align: top;\n",
       "    }\n",
       "\n",
       "    .dataframe thead th {\n",
       "        text-align: right;\n",
       "    }\n",
       "</style>\n",
       "<table border=\"1\" class=\"dataframe\">\n",
       "  <thead>\n",
       "    <tr style=\"text-align: right;\">\n",
       "      <th></th>\n",
       "      <th>pid</th>\n",
       "      <th>mid</th>\n",
       "    </tr>\n",
       "  </thead>\n",
       "  <tbody>\n",
       "    <tr>\n",
       "      <th>0</th>\n",
       "      <td>akl50-br-cor-r1:et-0/0/19</td>\n",
       "      <td>akl</td>\n",
       "    </tr>\n",
       "    <tr>\n",
       "      <th>1</th>\n",
       "      <td>akl50-br-cor-r2:et-0/0/19</td>\n",
       "      <td>akl</td>\n",
       "    </tr>\n",
       "    <tr>\n",
       "      <th>2</th>\n",
       "      <td>akl50-br-cor-r3:et-0/0/19</td>\n",
       "      <td>akl</td>\n",
       "    </tr>\n",
       "    <tr>\n",
       "      <th>3</th>\n",
       "      <td>ams1-br-bfb-f1-b2-t1-r1:et-0/0/13</td>\n",
       "      <td>ams</td>\n",
       "    </tr>\n",
       "  </tbody>\n",
       "</table>\n",
       "</div>"
      ],
      "text/plain": [
       "                                 pid  mid\n",
       "0          akl50-br-cor-r1:et-0/0/19  akl\n",
       "1          akl50-br-cor-r2:et-0/0/19  akl\n",
       "2          akl50-br-cor-r3:et-0/0/19  akl\n",
       "3  ams1-br-bfb-f1-b2-t1-r1:et-0/0/13  ams"
      ]
     },
     "execution_count": 88,
     "metadata": {},
     "output_type": "execute_result"
    }
   ],
   "source": [
    "port_metro_edge = pd.DataFrame({'pid':port_node.nid, 'mid': port_metro})\n",
    "print(port_metro_edge.shape)\n",
    "port_metro_edge.head(4)"
   ]
  },
  {
   "cell_type": "code",
   "execution_count": 89,
   "id": "6d9f4115-af58-42d7-b7ed-a05c5221b494",
   "metadata": {
    "tags": []
   },
   "outputs": [],
   "source": [
    "metro_port_edge = pd.DataFrame({'mid': port_metro, 'pid':port_node.nid})"
   ]
  },
  {
   "cell_type": "code",
   "execution_count": 90,
   "id": "8350162b-06f1-4300-bb7c-294aa7d1da7a",
   "metadata": {
    "tags": []
   },
   "outputs": [],
   "source": [
    "port_metro_edge.to_parquet('gs_data/port-in-metro.parquet', index=False)\n",
    "metro_port_edge.to_parquet('gs_data/metro-in-rev-port.parquet', index=False)"
   ]
  },
  {
   "cell_type": "code",
   "execution_count": null,
   "id": "478d6607-6a64-4639-9808-4df19b65b54d",
   "metadata": {},
   "outputs": [],
   "source": []
  }
 ],
 "metadata": {
  "kernelspec": {
   "display_name": "conda_pytorch_p310",
   "language": "python",
   "name": "conda_pytorch_p310"
  },
  "language_info": {
   "codemirror_mode": {
    "name": "ipython",
    "version": 3
   },
   "file_extension": ".py",
   "mimetype": "text/x-python",
   "name": "python",
   "nbconvert_exporter": "python",
   "pygments_lexer": "ipython3",
   "version": "3.10.14"
  }
 },
 "nbformat": 4,
 "nbformat_minor": 5
}
