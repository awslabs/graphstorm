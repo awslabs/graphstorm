{
 "cells": [
  {
   "cell_type": "markdown",
   "id": "f8c5650c-f120-4691-a3e9-3798ad4f5a8b",
   "metadata": {},
   "source": [
    "# Air Traffic Input Data Epxloration and Construction for Usiing GraphStorm"
   ]
  },
  {
   "cell_type": "code",
   "execution_count": 1,
   "id": "f3792ec0-262c-434e-985f-7e8511dd7416",
   "metadata": {
    "tags": []
   },
   "outputs": [],
   "source": [
    "import os\n",
    "import json\n",
    "import pandas as pd"
   ]
  },
  {
   "cell_type": "markdown",
   "id": "01462633-bf20-4a97-bf57-5eb3daa22183",
   "metadata": {},
   "source": [
    "## Explore the Input Data for GraphStorm `gconstruct` Command"
   ]
  },
  {
   "cell_type": "code",
   "execution_count": 2,
   "id": "f0dbb7ca-521c-4eac-a57d-2b2e22d12c73",
   "metadata": {
    "tags": []
   },
   "outputs": [],
   "source": [
    "airport_path = './airport.parquet'\n",
    "airport_node_df = pd.read_parquet(airport_path)"
   ]
  },
  {
   "cell_type": "code",
   "execution_count": 3,
   "id": "2cd28ee5-20b6-4e8b-9f77-83c3134ad795",
   "metadata": {
    "tags": []
   },
   "outputs": [
    {
     "data": {
      "text/html": [
       "<div>\n",
       "<style scoped>\n",
       "    .dataframe tbody tr th:only-of-type {\n",
       "        vertical-align: middle;\n",
       "    }\n",
       "\n",
       "    .dataframe tbody tr th {\n",
       "        vertical-align: top;\n",
       "    }\n",
       "\n",
       "    .dataframe thead th {\n",
       "        text-align: right;\n",
       "    }\n",
       "</style>\n",
       "<table border=\"1\" class=\"dataframe\">\n",
       "  <thead>\n",
       "    <tr style=\"text-align: right;\">\n",
       "      <th></th>\n",
       "      <th>iata_code</th>\n",
       "      <th>latitude_deg</th>\n",
       "      <th>longitude_deg</th>\n",
       "      <th>inventory_amounts</th>\n",
       "    </tr>\n",
       "  </thead>\n",
       "  <tbody>\n",
       "    <tr>\n",
       "      <th>378</th>\n",
       "      <td>AER</td>\n",
       "      <td>43.449902</td>\n",
       "      <td>39.956600</td>\n",
       "      <td>[34.1535, 151.0298, 297.535, 376.4357, 389.930...</td>\n",
       "    </tr>\n",
       "    <tr>\n",
       "      <th>343</th>\n",
       "      <td>ESG</td>\n",
       "      <td>-22.033912</td>\n",
       "      <td>-60.618964</td>\n",
       "      <td>[34.3388, 152.4774, 302.5459, 376.1521, 393.61...</td>\n",
       "    </tr>\n",
       "    <tr>\n",
       "      <th>39</th>\n",
       "      <td>EDI</td>\n",
       "      <td>55.950145</td>\n",
       "      <td>-3.372288</td>\n",
       "      <td>[25.8268, 147.9907, 288.1349, 355.7757, 373.01...</td>\n",
       "    </tr>\n",
       "    <tr>\n",
       "      <th>82</th>\n",
       "      <td>TFS</td>\n",
       "      <td>28.044500</td>\n",
       "      <td>-16.572500</td>\n",
       "      <td>[33.2797, 140.5403, 284.6276, 353.8395, 376.77...</td>\n",
       "    </tr>\n",
       "    <tr>\n",
       "      <th>71</th>\n",
       "      <td>TMS</td>\n",
       "      <td>0.378175</td>\n",
       "      <td>6.712150</td>\n",
       "      <td>[33.1588, 144.1395, 290.6109, 356.0667, 367.04...</td>\n",
       "    </tr>\n",
       "    <tr>\n",
       "      <th>79</th>\n",
       "      <td>FUE</td>\n",
       "      <td>28.452700</td>\n",
       "      <td>-13.863800</td>\n",
       "      <td>[32.5105, 152.8554, 302.787, 370.7813, 390.586...</td>\n",
       "    </tr>\n",
       "    <tr>\n",
       "      <th>84</th>\n",
       "      <td>ROB</td>\n",
       "      <td>6.233790</td>\n",
       "      <td>-10.362300</td>\n",
       "      <td>[34.6886, 154.6892, 297.1849, 378.3564, 396.90...</td>\n",
       "    </tr>\n",
       "  </tbody>\n",
       "</table>\n",
       "</div>"
      ],
      "text/plain": [
       "    iata_code  latitude_deg  longitude_deg  \\\n",
       "378       AER     43.449902      39.956600   \n",
       "343       ESG    -22.033912     -60.618964   \n",
       "39        EDI     55.950145      -3.372288   \n",
       "82        TFS     28.044500     -16.572500   \n",
       "71        TMS      0.378175       6.712150   \n",
       "79        FUE     28.452700     -13.863800   \n",
       "84        ROB      6.233790     -10.362300   \n",
       "\n",
       "                                     inventory_amounts  \n",
       "378  [34.1535, 151.0298, 297.535, 376.4357, 389.930...  \n",
       "343  [34.3388, 152.4774, 302.5459, 376.1521, 393.61...  \n",
       "39   [25.8268, 147.9907, 288.1349, 355.7757, 373.01...  \n",
       "82   [33.2797, 140.5403, 284.6276, 353.8395, 376.77...  \n",
       "71   [33.1588, 144.1395, 290.6109, 356.0667, 367.04...  \n",
       "79   [32.5105, 152.8554, 302.787, 370.7813, 390.586...  \n",
       "84   [34.6886, 154.6892, 297.1849, 378.3564, 396.90...  "
      ]
     },
     "execution_count": 3,
     "metadata": {},
     "output_type": "execute_result"
    }
   ],
   "source": [
    "airport_node_df.sample(7)"
   ]
  },
  {
   "cell_type": "code",
   "execution_count": 4,
   "id": "6cc434dc-4278-4dd3-b884-01af89f62060",
   "metadata": {
    "tags": []
   },
   "outputs": [],
   "source": [
    "demand_edge_path = './demand_edge.parquet'\n",
    "demand_edge_df = pd.read_parquet(demand_edge_path)"
   ]
  },
  {
   "cell_type": "code",
   "execution_count": 5,
   "id": "6d4c61c1-40ff-49fd-b6e6-61c33e96863e",
   "metadata": {
    "tags": []
   },
   "outputs": [
    {
     "data": {
      "text/html": [
       "<div>\n",
       "<style scoped>\n",
       "    .dataframe tbody tr th:only-of-type {\n",
       "        vertical-align: middle;\n",
       "    }\n",
       "\n",
       "    .dataframe tbody tr th {\n",
       "        vertical-align: top;\n",
       "    }\n",
       "\n",
       "    .dataframe thead th {\n",
       "        text-align: right;\n",
       "    }\n",
       "</style>\n",
       "<table border=\"1\" class=\"dataframe\">\n",
       "  <thead>\n",
       "    <tr style=\"text-align: right;\">\n",
       "      <th></th>\n",
       "      <th>src_code</th>\n",
       "      <th>dst_code</th>\n",
       "      <th>demands</th>\n",
       "    </tr>\n",
       "  </thead>\n",
       "  <tbody>\n",
       "    <tr>\n",
       "      <th>108834</th>\n",
       "      <td>GCM</td>\n",
       "      <td>DLM</td>\n",
       "      <td>[0.0, 0.0, 0.99, 0.0, 0.0, 0.0, 0.0, 0.0, 0.51...</td>\n",
       "    </tr>\n",
       "    <tr>\n",
       "      <th>202856</th>\n",
       "      <td>DQM</td>\n",
       "      <td>DRW</td>\n",
       "      <td>[0.0, 0.0, 0.0, 0.0, 0.0, 0.0, 0.0, 0.0, 0.82,...</td>\n",
       "    </tr>\n",
       "    <tr>\n",
       "      <th>87607</th>\n",
       "      <td>TLS</td>\n",
       "      <td>SCQ</td>\n",
       "      <td>[0.0, 0.0, 0.0, 0.0, 0.0, 0.0, 0.0, 0.0, 0.72,...</td>\n",
       "    </tr>\n",
       "    <tr>\n",
       "      <th>24108</th>\n",
       "      <td>MSP</td>\n",
       "      <td>TOS</td>\n",
       "      <td>[0.0, 0.49, 0.0, 0.0, 0.0, 0.0, 0.0, 0.0, 0.18...</td>\n",
       "    </tr>\n",
       "    <tr>\n",
       "      <th>2516</th>\n",
       "      <td>SMF</td>\n",
       "      <td>YOW</td>\n",
       "      <td>[0.0, 0.0, 0.0, 0.0, 0.0, 0.0, 0.0, 0.0, 0.6, ...</td>\n",
       "    </tr>\n",
       "    <tr>\n",
       "      <th>202731</th>\n",
       "      <td>SDF</td>\n",
       "      <td>DRW</td>\n",
       "      <td>[0.0, 0.0, 1.0, 0.0, 0.0, 0.0, 0.0, 0.57, 0.0,...</td>\n",
       "    </tr>\n",
       "    <tr>\n",
       "      <th>35883</th>\n",
       "      <td>SFO</td>\n",
       "      <td>FIH</td>\n",
       "      <td>[0.0, 0.96, 0.0, 0.0, 0.0, 0.0, 0.0, 0.0, 0.0,...</td>\n",
       "    </tr>\n",
       "  </tbody>\n",
       "</table>\n",
       "</div>"
      ],
      "text/plain": [
       "       src_code dst_code                                            demands\n",
       "108834      GCM      DLM  [0.0, 0.0, 0.99, 0.0, 0.0, 0.0, 0.0, 0.0, 0.51...\n",
       "202856      DQM      DRW  [0.0, 0.0, 0.0, 0.0, 0.0, 0.0, 0.0, 0.0, 0.82,...\n",
       "87607       TLS      SCQ  [0.0, 0.0, 0.0, 0.0, 0.0, 0.0, 0.0, 0.0, 0.72,...\n",
       "24108       MSP      TOS  [0.0, 0.49, 0.0, 0.0, 0.0, 0.0, 0.0, 0.0, 0.18...\n",
       "2516        SMF      YOW  [0.0, 0.0, 0.0, 0.0, 0.0, 0.0, 0.0, 0.0, 0.6, ...\n",
       "202731      SDF      DRW  [0.0, 0.0, 1.0, 0.0, 0.0, 0.0, 0.0, 0.57, 0.0,...\n",
       "35883       SFO      FIH  [0.0, 0.96, 0.0, 0.0, 0.0, 0.0, 0.0, 0.0, 0.0,..."
      ]
     },
     "execution_count": 5,
     "metadata": {},
     "output_type": "execute_result"
    }
   ],
   "source": [
    "demand_edge_df.sample(7)"
   ]
  },
  {
   "cell_type": "code",
   "execution_count": 6,
   "id": "1ed14c55-30c1-4aaf-8efb-2ae95ac9f6bc",
   "metadata": {
    "tags": []
   },
   "outputs": [],
   "source": [
    "traffic_edge_path = 'traffic_edge.parquet'\n",
    "traffic_edge_df = pd.read_parquet(traffic_edge_path)"
   ]
  },
  {
   "cell_type": "code",
   "execution_count": 7,
   "id": "a2c4918a-2e4f-4167-aa4c-0d6fe28475ce",
   "metadata": {
    "tags": []
   },
   "outputs": [
    {
     "data": {
      "text/html": [
       "<div>\n",
       "<style scoped>\n",
       "    .dataframe tbody tr th:only-of-type {\n",
       "        vertical-align: middle;\n",
       "    }\n",
       "\n",
       "    .dataframe tbody tr th {\n",
       "        vertical-align: top;\n",
       "    }\n",
       "\n",
       "    .dataframe thead th {\n",
       "        text-align: right;\n",
       "    }\n",
       "</style>\n",
       "<table border=\"1\" class=\"dataframe\">\n",
       "  <thead>\n",
       "    <tr style=\"text-align: right;\">\n",
       "      <th></th>\n",
       "      <th>src_code</th>\n",
       "      <th>dst_code</th>\n",
       "      <th>capacity</th>\n",
       "      <th>traffics</th>\n",
       "    </tr>\n",
       "  </thead>\n",
       "  <tbody>\n",
       "    <tr>\n",
       "      <th>6379</th>\n",
       "      <td>RSW</td>\n",
       "      <td>OAK</td>\n",
       "      <td>0.5625</td>\n",
       "      <td>[0.0227, 0.0227, 0.0227, 0.0227, 0.0227, 0.022...</td>\n",
       "    </tr>\n",
       "    <tr>\n",
       "      <th>1175</th>\n",
       "      <td>CKG</td>\n",
       "      <td>PVG</td>\n",
       "      <td>1.5000</td>\n",
       "      <td>[0.0367, 0.0367, 0.0367, 0.0367, 0.0367, 0.036...</td>\n",
       "    </tr>\n",
       "    <tr>\n",
       "      <th>3138</th>\n",
       "      <td>IND</td>\n",
       "      <td>TFS</td>\n",
       "      <td>0.0625</td>\n",
       "      <td>[0.0625, 0.0625, 0.0625, 0.0125, 0.0125, 0.012...</td>\n",
       "    </tr>\n",
       "    <tr>\n",
       "      <th>7789</th>\n",
       "      <td>THR</td>\n",
       "      <td>IND</td>\n",
       "      <td>0.2500</td>\n",
       "      <td>[0.25, 0.145, 0.145, 0.145, 0.145, 0.145, 0.14...</td>\n",
       "    </tr>\n",
       "    <tr>\n",
       "      <th>5253</th>\n",
       "      <td>OMA</td>\n",
       "      <td>SDF</td>\n",
       "      <td>1.0000</td>\n",
       "      <td>[0.045, 0.045, 0.045, 0.045, 0.045, 0.045, 0.0...</td>\n",
       "    </tr>\n",
       "    <tr>\n",
       "      <th>2604</th>\n",
       "      <td>HAK</td>\n",
       "      <td>SAN</td>\n",
       "      <td>0.2500</td>\n",
       "      <td>[0.1, 0.1, 0.1, 0.1, 0.1, 0.1, 0.1, 0.1, 0.1, ...</td>\n",
       "    </tr>\n",
       "    <tr>\n",
       "      <th>7224</th>\n",
       "      <td>SJC</td>\n",
       "      <td>SRQ</td>\n",
       "      <td>1.5000</td>\n",
       "      <td>[0.0388, 0.0388, 0.0388, 0.0388, 0.0388, 0.038...</td>\n",
       "    </tr>\n",
       "  </tbody>\n",
       "</table>\n",
       "</div>"
      ],
      "text/plain": [
       "     src_code dst_code  capacity  \\\n",
       "6379      RSW      OAK    0.5625   \n",
       "1175      CKG      PVG    1.5000   \n",
       "3138      IND      TFS    0.0625   \n",
       "7789      THR      IND    0.2500   \n",
       "5253      OMA      SDF    1.0000   \n",
       "2604      HAK      SAN    0.2500   \n",
       "7224      SJC      SRQ    1.5000   \n",
       "\n",
       "                                               traffics  \n",
       "6379  [0.0227, 0.0227, 0.0227, 0.0227, 0.0227, 0.022...  \n",
       "1175  [0.0367, 0.0367, 0.0367, 0.0367, 0.0367, 0.036...  \n",
       "3138  [0.0625, 0.0625, 0.0625, 0.0125, 0.0125, 0.012...  \n",
       "7789  [0.25, 0.145, 0.145, 0.145, 0.145, 0.145, 0.14...  \n",
       "5253  [0.045, 0.045, 0.045, 0.045, 0.045, 0.045, 0.0...  \n",
       "2604  [0.1, 0.1, 0.1, 0.1, 0.1, 0.1, 0.1, 0.1, 0.1, ...  \n",
       "7224  [0.0388, 0.0388, 0.0388, 0.0388, 0.0388, 0.038...  "
      ]
     },
     "execution_count": 7,
     "metadata": {},
     "output_type": "execute_result"
    }
   ],
   "source": [
    "traffic_edge_df.sample(7)"
   ]
  },
  {
   "cell_type": "markdown",
   "id": "321b3930-36f0-4847-be31-f23c1c5ea382",
   "metadata": {},
   "source": [
    "### Prepare the JSON file for `gconstruct` command"
   ]
  },
  {
   "cell_type": "code",
   "execution_count": 8,
   "id": "a2623711-b846-4b55-88c0-635f50be1fd4",
   "metadata": {
    "tags": []
   },
   "outputs": [],
   "source": [
    "air_traffic_json = {\"version\": \"gconstruct-v0.1\"}"
   ]
  },
  {
   "cell_type": "markdown",
   "id": "347de8fe-8bc5-40e4-98f5-c277d68537ab",
   "metadata": {},
   "source": [
    "Node objects"
   ]
  },
  {
   "cell_type": "code",
   "execution_count": 9,
   "id": "19675d5b-52c3-4c99-a84c-e58698ecf0d3",
   "metadata": {
    "tags": []
   },
   "outputs": [],
   "source": [
    "nodes = []\n",
    "airport = {\n",
    "    \"node_type\": \"airport\",\n",
    "    \"format\": {\n",
    "        \"name\": \"parquet\"\n",
    "    },\n",
    "    \"files\": [\n",
    "        airport_path\n",
    "    ],\n",
    "    \"node_id_col\": \"iata_code\",\n",
    "    \"features\": [\n",
    "        {\n",
    "            \"feature_col\": \"latitude_deg\",\n",
    "            \"feature_name\": \"latitude\"\n",
    "        },\n",
    "        {\n",
    "            \"feature_col\": \"longitude_deg\",\n",
    "            \"feature_name\": \"longitude\"\n",
    "        },\n",
    "        {\n",
    "            \"feature_col\": \"inventory_amounts\",\n",
    "            \"feature_name\": \"inventory_amounts\"\n",
    "        }\n",
    "    ],\n",
    "    \"labels\": [\n",
    "        {\n",
    "            \"label_col\": \"inventory_amounts\",\n",
    "            \"task_type\": \"regression\",\n",
    "            \"split_pct\": [\n",
    "                0.8,\n",
    "                0.1,\n",
    "                0.1\n",
    "            ]\n",
    "        }\n",
    "    ]\n",
    "}\n",
    "\n",
    "nodes.append(airport)"
   ]
  },
  {
   "cell_type": "markdown",
   "id": "02df1b10-e3a5-490e-a456-117aea92681a",
   "metadata": {},
   "source": [
    "Edge objects"
   ]
  },
  {
   "cell_type": "code",
   "execution_count": 10,
   "id": "bf7d7ba3-c40f-4e29-8cb7-b31700a06bec",
   "metadata": {},
   "outputs": [],
   "source": [
    "edges = []\n",
    "ap_demand_ap = {\n",
    "    \"relation\": [\n",
    "        \"airport\",\n",
    "        \"demand\",\n",
    "        \"airport\"\n",
    "    ],\n",
    "    \"format\": {\n",
    "        \"name\": \"parquet\"\n",
    "    },\n",
    "    \"files\": [\n",
    "        demand_edge_path\n",
    "    ],\n",
    "    \"source_id_col\": \"src_code\",\n",
    "    \"dest_id_col\": \"dst_code\",\n",
    "    \"features\": [\n",
    "        {\n",
    "            \"feature_col\": \"demands\",\n",
    "            \"feature_name\": \"demands\"\n",
    "        }\n",
    "    ]\n",
    "}\n",
    "ap_traffic_ap = {\n",
    "    \"relation\": [\n",
    "        \"airport\",\n",
    "        \"traffic\",\n",
    "        \"airport\"\n",
    "    ],\n",
    "    \"format\": {\n",
    "        \"name\": \"parquet\"\n",
    "    },\n",
    "    \"files\": [\n",
    "        traffic_edge_path\n",
    "    ],\n",
    "    \"source_id_col\": \"src_code\",\n",
    "    \"dest_id_col\": \"dst_code\",\n",
    "    \"features\": [\n",
    "        {\n",
    "            \"feature_col\": \"capacity\",\n",
    "            \"feature_name\": \"capacity\"\n",
    "        },\n",
    "        {\n",
    "            \"feature_col\": \"traffics\",\n",
    "            \"feature_name\": \"traffics\"\n",
    "        }\n",
    "    ]\n",
    "}\n",
    "edges.append(ap_demand_ap)\n",
    "edges.append(ap_traffic_ap)"
   ]
  },
  {
   "cell_type": "code",
   "execution_count": 11,
   "id": "0f6cb74c-b4f6-4d92-88ac-d5b116f03a50",
   "metadata": {
    "tags": []
   },
   "outputs": [],
   "source": [
    "air_traffic_json['nodes'] = nodes\n",
    "air_traffic_json['edges'] = edges"
   ]
  },
  {
   "cell_type": "code",
   "execution_count": 12,
   "id": "95378bff-52eb-4655-ad2a-c45088f23dc1",
   "metadata": {
    "tags": []
   },
   "outputs": [],
   "source": [
    "with open(os.path.join(\"config.json\"), \"w\") as f:\n",
    "    json.dump(air_traffic_json, f, indent=4)"
   ]
  },
  {
   "cell_type": "markdown",
   "id": "48497e65-cda4-4cd6-9de1-898f25493112",
   "metadata": {},
   "source": [
    "## Run GraphStorm `gconstruct` Command to Process Air Traffic Data for Using GraphStorm"
   ]
  },
  {
   "cell_type": "code",
   "execution_count": 1,
   "id": "cca59b7f-1c6d-4842-b328-d37fc26d2fb4",
   "metadata": {
    "tags": []
   },
   "outputs": [
    {
     "name": "stdout",
     "output_type": "stream",
     "text": [
      "Requirement already satisfied: graphstorm in /home/ec2-user/anaconda3/envs/pytorch_p310/lib/python3.10/site-packages (0.3.1)\n",
      "Requirement already satisfied: h5py in /home/ec2-user/anaconda3/envs/pytorch_p310/lib/python3.10/site-packages (from graphstorm) (3.12.1)\n",
      "Requirement already satisfied: pyarrow in /home/ec2-user/anaconda3/envs/pytorch_p310/lib/python3.10/site-packages (from graphstorm) (17.0.0)\n",
      "Requirement already satisfied: transformers==4.36.0 in /home/ec2-user/anaconda3/envs/pytorch_p310/lib/python3.10/site-packages (from graphstorm) (4.36.0)\n",
      "Requirement already satisfied: pandas in /home/ec2-user/anaconda3/envs/pytorch_p310/lib/python3.10/site-packages (from graphstorm) (1.5.3)\n",
      "Requirement already satisfied: scikit-learn in /home/ec2-user/anaconda3/envs/pytorch_p310/lib/python3.10/site-packages (from graphstorm) (1.5.2)\n",
      "Requirement already satisfied: ogb==1.3.6 in /home/ec2-user/anaconda3/envs/pytorch_p310/lib/python3.10/site-packages (from graphstorm) (1.3.6)\n",
      "Requirement already satisfied: psutil in /home/ec2-user/anaconda3/envs/pytorch_p310/lib/python3.10/site-packages (from graphstorm) (6.0.0)\n",
      "Requirement already satisfied: torch>=1.6.0 in /home/ec2-user/anaconda3/envs/pytorch_p310/lib/python3.10/site-packages (from ogb==1.3.6->graphstorm) (2.1.0+cpu)\n",
      "Requirement already satisfied: numpy>=1.16.0 in /home/ec2-user/anaconda3/envs/pytorch_p310/lib/python3.10/site-packages (from ogb==1.3.6->graphstorm) (1.26.4)\n",
      "Requirement already satisfied: tqdm>=4.29.0 in /home/ec2-user/anaconda3/envs/pytorch_p310/lib/python3.10/site-packages (from ogb==1.3.6->graphstorm) (4.66.5)\n",
      "Requirement already satisfied: six>=1.12.0 in /home/ec2-user/anaconda3/envs/pytorch_p310/lib/python3.10/site-packages (from ogb==1.3.6->graphstorm) (1.16.0)\n",
      "Requirement already satisfied: urllib3>=1.24.0 in /home/ec2-user/anaconda3/envs/pytorch_p310/lib/python3.10/site-packages (from ogb==1.3.6->graphstorm) (2.2.3)\n",
      "Requirement already satisfied: outdated>=0.2.0 in /home/ec2-user/anaconda3/envs/pytorch_p310/lib/python3.10/site-packages (from ogb==1.3.6->graphstorm) (0.2.2)\n",
      "Requirement already satisfied: filelock in /home/ec2-user/anaconda3/envs/pytorch_p310/lib/python3.10/site-packages (from transformers==4.36.0->graphstorm) (3.16.1)\n",
      "Requirement already satisfied: huggingface-hub<1.0,>=0.19.3 in /home/ec2-user/anaconda3/envs/pytorch_p310/lib/python3.10/site-packages (from transformers==4.36.0->graphstorm) (0.26.2)\n",
      "Requirement already satisfied: packaging>=20.0 in /home/ec2-user/anaconda3/envs/pytorch_p310/lib/python3.10/site-packages (from transformers==4.36.0->graphstorm) (21.3)\n",
      "Requirement already satisfied: pyyaml>=5.1 in /home/ec2-user/anaconda3/envs/pytorch_p310/lib/python3.10/site-packages (from transformers==4.36.0->graphstorm) (6.0.2)\n",
      "Requirement already satisfied: regex!=2019.12.17 in /home/ec2-user/anaconda3/envs/pytorch_p310/lib/python3.10/site-packages (from transformers==4.36.0->graphstorm) (2024.11.6)\n",
      "Requirement already satisfied: requests in /home/ec2-user/anaconda3/envs/pytorch_p310/lib/python3.10/site-packages (from transformers==4.36.0->graphstorm) (2.32.3)\n",
      "Requirement already satisfied: tokenizers<0.19,>=0.14 in /home/ec2-user/anaconda3/envs/pytorch_p310/lib/python3.10/site-packages (from transformers==4.36.0->graphstorm) (0.15.2)\n",
      "Requirement already satisfied: safetensors>=0.3.1 in /home/ec2-user/anaconda3/envs/pytorch_p310/lib/python3.10/site-packages (from transformers==4.36.0->graphstorm) (0.4.5)\n",
      "Requirement already satisfied: python-dateutil>=2.8.1 in /home/ec2-user/anaconda3/envs/pytorch_p310/lib/python3.10/site-packages (from pandas->graphstorm) (2.9.0)\n",
      "Requirement already satisfied: pytz>=2020.1 in /home/ec2-user/anaconda3/envs/pytorch_p310/lib/python3.10/site-packages (from pandas->graphstorm) (2024.1)\n",
      "Requirement already satisfied: scipy>=1.6.0 in /home/ec2-user/anaconda3/envs/pytorch_p310/lib/python3.10/site-packages (from scikit-learn->graphstorm) (1.14.1)\n",
      "Requirement already satisfied: joblib>=1.2.0 in /home/ec2-user/anaconda3/envs/pytorch_p310/lib/python3.10/site-packages (from scikit-learn->graphstorm) (1.4.2)\n",
      "Requirement already satisfied: threadpoolctl>=3.1.0 in /home/ec2-user/anaconda3/envs/pytorch_p310/lib/python3.10/site-packages (from scikit-learn->graphstorm) (3.5.0)\n",
      "Requirement already satisfied: fsspec>=2023.5.0 in /home/ec2-user/anaconda3/envs/pytorch_p310/lib/python3.10/site-packages (from huggingface-hub<1.0,>=0.19.3->transformers==4.36.0->graphstorm) (2024.9.0)\n",
      "Requirement already satisfied: typing-extensions>=3.7.4.3 in /home/ec2-user/anaconda3/envs/pytorch_p310/lib/python3.10/site-packages (from huggingface-hub<1.0,>=0.19.3->transformers==4.36.0->graphstorm) (4.12.2)\n",
      "Requirement already satisfied: setuptools>=44 in /home/ec2-user/anaconda3/envs/pytorch_p310/lib/python3.10/site-packages (from outdated>=0.2.0->ogb==1.3.6->graphstorm) (75.1.0)\n",
      "Requirement already satisfied: littleutils in /home/ec2-user/anaconda3/envs/pytorch_p310/lib/python3.10/site-packages (from outdated>=0.2.0->ogb==1.3.6->graphstorm) (0.2.4)\n",
      "Requirement already satisfied: pyparsing!=3.0.5,>=2.0.2 in /home/ec2-user/anaconda3/envs/pytorch_p310/lib/python3.10/site-packages (from packaging>=20.0->transformers==4.36.0->graphstorm) (3.1.4)\n",
      "Requirement already satisfied: sympy in /home/ec2-user/anaconda3/envs/pytorch_p310/lib/python3.10/site-packages (from torch>=1.6.0->ogb==1.3.6->graphstorm) (1.13.2)\n",
      "Requirement already satisfied: networkx in /home/ec2-user/anaconda3/envs/pytorch_p310/lib/python3.10/site-packages (from torch>=1.6.0->ogb==1.3.6->graphstorm) (3.3)\n",
      "Requirement already satisfied: jinja2 in /home/ec2-user/anaconda3/envs/pytorch_p310/lib/python3.10/site-packages (from torch>=1.6.0->ogb==1.3.6->graphstorm) (3.1.4)\n",
      "Requirement already satisfied: charset-normalizer<4,>=2 in /home/ec2-user/anaconda3/envs/pytorch_p310/lib/python3.10/site-packages (from requests->transformers==4.36.0->graphstorm) (3.3.2)\n",
      "Requirement already satisfied: idna<4,>=2.5 in /home/ec2-user/anaconda3/envs/pytorch_p310/lib/python3.10/site-packages (from requests->transformers==4.36.0->graphstorm) (3.10)\n",
      "Requirement already satisfied: certifi>=2017.4.17 in /home/ec2-user/anaconda3/envs/pytorch_p310/lib/python3.10/site-packages (from requests->transformers==4.36.0->graphstorm) (2024.8.30)\n",
      "Requirement already satisfied: MarkupSafe>=2.0 in /home/ec2-user/anaconda3/envs/pytorch_p310/lib/python3.10/site-packages (from jinja2->torch>=1.6.0->ogb==1.3.6->graphstorm) (2.1.5)\n",
      "Requirement already satisfied: mpmath<1.4,>=1.1.0 in /home/ec2-user/anaconda3/envs/pytorch_p310/lib/python3.10/site-packages (from sympy->torch>=1.6.0->ogb==1.3.6->graphstorm) (1.3.0)\n",
      "Looking in indexes: https://download.pytorch.org/whl/cpu\n",
      "Requirement already satisfied: torch==2.1.0 in /home/ec2-user/anaconda3/envs/pytorch_p310/lib/python3.10/site-packages (2.1.0+cpu)\n",
      "Requirement already satisfied: torchvision in /home/ec2-user/anaconda3/envs/pytorch_p310/lib/python3.10/site-packages (0.17.2)\n",
      "Requirement already satisfied: torchaudio in /home/ec2-user/anaconda3/envs/pytorch_p310/lib/python3.10/site-packages (2.2.2)\n",
      "Requirement already satisfied: filelock in /home/ec2-user/anaconda3/envs/pytorch_p310/lib/python3.10/site-packages (from torch==2.1.0) (3.16.1)\n",
      "Requirement already satisfied: typing-extensions in /home/ec2-user/anaconda3/envs/pytorch_p310/lib/python3.10/site-packages (from torch==2.1.0) (4.12.2)\n",
      "Requirement already satisfied: sympy in /home/ec2-user/anaconda3/envs/pytorch_p310/lib/python3.10/site-packages (from torch==2.1.0) (1.13.2)\n",
      "Requirement already satisfied: networkx in /home/ec2-user/anaconda3/envs/pytorch_p310/lib/python3.10/site-packages (from torch==2.1.0) (3.3)\n",
      "Requirement already satisfied: jinja2 in /home/ec2-user/anaconda3/envs/pytorch_p310/lib/python3.10/site-packages (from torch==2.1.0) (3.1.4)\n",
      "Requirement already satisfied: fsspec in /home/ec2-user/anaconda3/envs/pytorch_p310/lib/python3.10/site-packages (from torch==2.1.0) (2024.9.0)\n",
      "Requirement already satisfied: numpy in /home/ec2-user/anaconda3/envs/pytorch_p310/lib/python3.10/site-packages (from torchvision) (1.26.4)\n",
      "Requirement already satisfied: pillow!=8.3.*,>=5.3.0 in /home/ec2-user/anaconda3/envs/pytorch_p310/lib/python3.10/site-packages (from torchvision) (10.4.0)\n",
      "Requirement already satisfied: MarkupSafe>=2.0 in /home/ec2-user/anaconda3/envs/pytorch_p310/lib/python3.10/site-packages (from jinja2->torch==2.1.0) (2.1.5)\n",
      "Requirement already satisfied: mpmath<1.4,>=1.1.0 in /home/ec2-user/anaconda3/envs/pytorch_p310/lib/python3.10/site-packages (from sympy->torch==2.1.0) (1.3.0)\n",
      "Looking in links: https://data.dgl.ai/wheels-internal/repo.html\n",
      "Requirement already satisfied: dgl==1.1.3 in /home/ec2-user/anaconda3/envs/pytorch_p310/lib/python3.10/site-packages (1.1.3)\n",
      "Requirement already satisfied: numpy>=1.14.0 in /home/ec2-user/anaconda3/envs/pytorch_p310/lib/python3.10/site-packages (from dgl==1.1.3) (1.26.4)\n",
      "Requirement already satisfied: scipy>=1.1.0 in /home/ec2-user/anaconda3/envs/pytorch_p310/lib/python3.10/site-packages (from dgl==1.1.3) (1.14.1)\n",
      "Requirement already satisfied: networkx>=2.1 in /home/ec2-user/anaconda3/envs/pytorch_p310/lib/python3.10/site-packages (from dgl==1.1.3) (3.3)\n",
      "Requirement already satisfied: requests>=2.19.0 in /home/ec2-user/anaconda3/envs/pytorch_p310/lib/python3.10/site-packages (from dgl==1.1.3) (2.32.3)\n",
      "Requirement already satisfied: tqdm in /home/ec2-user/anaconda3/envs/pytorch_p310/lib/python3.10/site-packages (from dgl==1.1.3) (4.66.5)\n",
      "Requirement already satisfied: psutil>=5.8.0 in /home/ec2-user/anaconda3/envs/pytorch_p310/lib/python3.10/site-packages (from dgl==1.1.3) (6.0.0)\n",
      "Requirement already satisfied: charset-normalizer<4,>=2 in /home/ec2-user/anaconda3/envs/pytorch_p310/lib/python3.10/site-packages (from requests>=2.19.0->dgl==1.1.3) (3.3.2)\n",
      "Requirement already satisfied: idna<4,>=2.5 in /home/ec2-user/anaconda3/envs/pytorch_p310/lib/python3.10/site-packages (from requests>=2.19.0->dgl==1.1.3) (3.10)\n",
      "Requirement already satisfied: urllib3<3,>=1.21.1 in /home/ec2-user/anaconda3/envs/pytorch_p310/lib/python3.10/site-packages (from requests>=2.19.0->dgl==1.1.3) (2.2.3)\n",
      "Requirement already satisfied: certifi>=2017.4.17 in /home/ec2-user/anaconda3/envs/pytorch_p310/lib/python3.10/site-packages (from requests>=2.19.0->dgl==1.1.3) (2024.8.30)\n"
     ]
    }
   ],
   "source": [
    "!pip install graphstorm\n",
    "\n",
    "# If using GPU instances\n",
    "# for CUDA 11\n",
    "# !pip install torch==2.1.0 torchvision torchaudio --index-url https://download.pytorch.org/whl/cu118\n",
    "# !pip install dgl==1.1.3+cu118 -f https://data.dgl.ai/wheels/cu118/repo.html\n",
    "\n",
    "# for CUDA 12\n",
    "# !pip install torch==2.1.0 torchvision torchaudio --index-url https://download.pytorch.org/whl/cu121\n",
    "# !pip install dgl==1.1.3+cu121 -f https://data.dgl.ai/wheels/cu121/repo.html\n",
    "\n",
    "# If using CPU instances\n",
    "!pip install torch==2.1.0 torchvision torchaudio --index-url https://download.pytorch.org/whl/cpu\n",
    "!pip install dgl==1.1.3 -f https://data.dgl.ai/wheels-internal/repo.html"
   ]
  },
  {
   "cell_type": "code",
   "execution_count": 2,
   "id": "e345a330-267a-4d9f-8778-9a826be9ecc3",
   "metadata": {
    "tags": []
   },
   "outputs": [
    {
     "name": "stdout",
     "output_type": "stream",
     "text": [
      "INFO:root:The graph has 1 node types and 2 edge types.\n",
      "INFO:root:Node type airport has 471 nodes\n",
      "INFO:root:Edge type ('airport', 'demand', 'airport') has 221370 edges\n",
      "INFO:root:Edge type ('airport', 'traffic', 'airport') has 8530 edges\n",
      "INFO:root:Node type airport has features: ['latitude', 'longitude', 'inventory_amounts', 'train_mask', 'val_mask', 'test_mask'].\n",
      "INFO:root:Train/val/test on airport with mask train_mask, val_mask, test_mask: 376, 47, 47\n",
      "INFO:root:Note: Custom train, validate, test mask information for nodes are not collected.\n",
      "INFO:root:Edge type ('airport', 'demand', 'airport') has features: ['demands'].\n",
      "INFO:root:Edge type ('airport', 'traffic', 'airport') has features: ['capacity', 'traffics'].\n",
      "The graph has 1 node types and balance among 4 types\n",
      "Converting to homogeneous graph takes 0.003s, peak mem: 4.975 GB\n",
      "Save partitions: 0.007 seconds, peak memory: 6.743 GB\n",
      "There are 229900 edges in the graph and 0 edge cuts for 1 partitions.\n",
      "INFO:root:Graph construction generated new node IDs for 'airport'. The ID map is saved under gs_1p/raw_id_mappings/airport.\n"
     ]
    }
   ],
   "source": [
    "!python -m graphstorm.gconstruct.construct_graph \\\n",
    "           --conf-file config.json \\\n",
    "           --output-dir gs_1p/ \\\n",
    "           --num-parts 1 \\\n",
    "           --graph-name air_traffic"
   ]
  },
  {
   "cell_type": "code",
   "execution_count": null,
   "id": "1aa9887d-c657-417b-b0f8-b1338644832d",
   "metadata": {},
   "outputs": [],
   "source": []
  }
 ],
 "metadata": {
  "kernelspec": {
   "display_name": "conda_pytorch_p310",
   "language": "python",
   "name": "conda_pytorch_p310"
  },
  "language_info": {
   "codemirror_mode": {
    "name": "ipython",
    "version": 3
   },
   "file_extension": ".py",
   "mimetype": "text/x-python",
   "name": "python",
   "nbconvert_exporter": "python",
   "pygments_lexer": "ipython3",
   "version": "3.10.14"
  }
 },
 "nbformat": 4,
 "nbformat_minor": 5
}
