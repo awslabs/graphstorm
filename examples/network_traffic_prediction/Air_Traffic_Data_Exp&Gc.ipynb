{
 "cells": [
  {
   "cell_type": "markdown",
   "id": "f8c5650c-f120-4691-a3e9-3798ad4f5a8b",
   "metadata": {},
   "source": [
    "# Air Traffic Input Data Epxloration and Graph Construction for Air Traffic Prediction\n",
    "\n",
    "This notebook helps readers get better understanding of the input data format of the synthetic air transportation graph, and how it meets GraphStorm's graph construction command requirements. Readers should run the `Synthetic_Airport_Traffic_wAirlines.ipynb` first to generate the three parquet files that will be used in this notebook.\n",
    "\n",
    "GraphStorm can handel experise-level graph data, measured in billions of nodes and tens of billions of edges. This synthetic air trasportation, however, is relatively small. Therefore we will use the `graphstorm.gconstruct.construct_graph` command that can run on a single machine. Details of the input data format can be found in GraphStorm's [Input Raw Data Specification](https://graphstorm.readthedocs.io/en/latest/cli/graph-construction/raw_data.html) documentations. For large graph data that might consume more memory in multiple machines, readers can refer to GraphStorm's [Distributed Graph Construction\n",
    "](https://graphstorm.readthedocs.io/en/latest/cli/graph-construction/distributed/index.html) documentations."
   ]
  },
  {
   "cell_type": "code",
   "execution_count": 19,
   "id": "f3792ec0-262c-434e-985f-7e8511dd7416",
   "metadata": {
    "tags": []
   },
   "outputs": [],
   "source": [
    "import os\n",
    "import json\n",
    "import pandas as pd"
   ]
  },
  {
   "cell_type": "markdown",
   "id": "01462633-bf20-4a97-bf57-5eb3daa22183",
   "metadata": {},
   "source": [
    "## Explore the Input Data\n",
    "\n",
    "In order to deal with time series data, we store them as lists in one column. In such way, we store the time series data as a $N \\times T$ tensor, where $N$ is the number of samples, and $T$ is the number of days. Then we can use this tensor for modeling."
   ]
  },
  {
   "cell_type": "code",
   "execution_count": 20,
   "id": "f0dbb7ca-521c-4eac-a57d-2b2e22d12c73",
   "metadata": {
    "tags": []
   },
   "outputs": [],
   "source": [
    "airport_path = './airport.parquet'\n",
    "airport_node_df = pd.read_parquet(airport_path)"
   ]
  },
  {
   "cell_type": "code",
   "execution_count": 21,
   "id": "2cd28ee5-20b6-4e8b-9f77-83c3134ad795",
   "metadata": {
    "tags": []
   },
   "outputs": [
    {
     "data": {
      "text/html": [
       "<div>\n",
       "<style scoped>\n",
       "    .dataframe tbody tr th:only-of-type {\n",
       "        vertical-align: middle;\n",
       "    }\n",
       "\n",
       "    .dataframe tbody tr th {\n",
       "        vertical-align: top;\n",
       "    }\n",
       "\n",
       "    .dataframe thead th {\n",
       "        text-align: right;\n",
       "    }\n",
       "</style>\n",
       "<table border=\"1\" class=\"dataframe\">\n",
       "  <thead>\n",
       "    <tr style=\"text-align: right;\">\n",
       "      <th></th>\n",
       "      <th>iata_code</th>\n",
       "      <th>latitude_deg</th>\n",
       "      <th>longitude_deg</th>\n",
       "      <th>inventory_amounts</th>\n",
       "    </tr>\n",
       "  </thead>\n",
       "  <tbody>\n",
       "    <tr>\n",
       "      <th>67</th>\n",
       "      <td>LUN</td>\n",
       "      <td>-15.330833</td>\n",
       "      <td>28.452722</td>\n",
       "      <td>[32.0998, 149.0973, 278.5409, 355.3423, 374.61...</td>\n",
       "    </tr>\n",
       "    <tr>\n",
       "      <th>298</th>\n",
       "      <td>ANC</td>\n",
       "      <td>61.179004</td>\n",
       "      <td>-149.992561</td>\n",
       "      <td>[59.6863, 225.2477, 405.2508, 519.401, 551.395...</td>\n",
       "    </tr>\n",
       "    <tr>\n",
       "      <th>420</th>\n",
       "      <td>SUB</td>\n",
       "      <td>-7.379830</td>\n",
       "      <td>112.787003</td>\n",
       "      <td>[32.94, 145.8966, 278.7163, 353.1881, 370.8502...</td>\n",
       "    </tr>\n",
       "    <tr>\n",
       "      <th>250</th>\n",
       "      <td>MEX</td>\n",
       "      <td>19.435137</td>\n",
       "      <td>-99.071328</td>\n",
       "      <td>[36.5487, 166.4547, 312.2333, 373.408, 389.343...</td>\n",
       "    </tr>\n",
       "    <tr>\n",
       "      <th>312</th>\n",
       "      <td>HND</td>\n",
       "      <td>35.552299</td>\n",
       "      <td>139.779999</td>\n",
       "      <td>[26.7707, 129.2653, 275.964, 353.6493, 368.263...</td>\n",
       "    </tr>\n",
       "    <tr>\n",
       "      <th>154</th>\n",
       "      <td>RDU</td>\n",
       "      <td>35.877602</td>\n",
       "      <td>-78.787498</td>\n",
       "      <td>[54.9289, 197.2499, 388.1767, 508.6314, 539.00...</td>\n",
       "    </tr>\n",
       "    <tr>\n",
       "      <th>146</th>\n",
       "      <td>ORF</td>\n",
       "      <td>36.895341</td>\n",
       "      <td>-76.201000</td>\n",
       "      <td>[62.4095, 216.1833, 412.1431, 499.6082, 526.24...</td>\n",
       "    </tr>\n",
       "  </tbody>\n",
       "</table>\n",
       "</div>"
      ],
      "text/plain": [
       "    iata_code  latitude_deg  longitude_deg  \\\n",
       "67        LUN    -15.330833      28.452722   \n",
       "298       ANC     61.179004    -149.992561   \n",
       "420       SUB     -7.379830     112.787003   \n",
       "250       MEX     19.435137     -99.071328   \n",
       "312       HND     35.552299     139.779999   \n",
       "154       RDU     35.877602     -78.787498   \n",
       "146       ORF     36.895341     -76.201000   \n",
       "\n",
       "                                     inventory_amounts  \n",
       "67   [32.0998, 149.0973, 278.5409, 355.3423, 374.61...  \n",
       "298  [59.6863, 225.2477, 405.2508, 519.401, 551.395...  \n",
       "420  [32.94, 145.8966, 278.7163, 353.1881, 370.8502...  \n",
       "250  [36.5487, 166.4547, 312.2333, 373.408, 389.343...  \n",
       "312  [26.7707, 129.2653, 275.964, 353.6493, 368.263...  \n",
       "154  [54.9289, 197.2499, 388.1767, 508.6314, 539.00...  \n",
       "146  [62.4095, 216.1833, 412.1431, 499.6082, 526.24...  "
      ]
     },
     "execution_count": 21,
     "metadata": {},
     "output_type": "execute_result"
    }
   ],
   "source": [
    "airport_node_df.sample(7)"
   ]
  },
  {
   "cell_type": "code",
   "execution_count": 22,
   "id": "6cc434dc-4278-4dd3-b884-01af89f62060",
   "metadata": {
    "tags": []
   },
   "outputs": [],
   "source": [
    "demand_edge_path = './demand_edge.parquet'\n",
    "demand_edge_df = pd.read_parquet(demand_edge_path)"
   ]
  },
  {
   "cell_type": "code",
   "execution_count": 23,
   "id": "6d4c61c1-40ff-49fd-b6e6-61c33e96863e",
   "metadata": {
    "tags": []
   },
   "outputs": [
    {
     "data": {
      "text/html": [
       "<div>\n",
       "<style scoped>\n",
       "    .dataframe tbody tr th:only-of-type {\n",
       "        vertical-align: middle;\n",
       "    }\n",
       "\n",
       "    .dataframe tbody tr th {\n",
       "        vertical-align: top;\n",
       "    }\n",
       "\n",
       "    .dataframe thead th {\n",
       "        text-align: right;\n",
       "    }\n",
       "</style>\n",
       "<table border=\"1\" class=\"dataframe\">\n",
       "  <thead>\n",
       "    <tr style=\"text-align: right;\">\n",
       "      <th></th>\n",
       "      <th>src_code</th>\n",
       "      <th>dst_code</th>\n",
       "      <th>demands</th>\n",
       "    </tr>\n",
       "  </thead>\n",
       "  <tbody>\n",
       "    <tr>\n",
       "      <th>158907</th>\n",
       "      <td>CPH</td>\n",
       "      <td>GYE</td>\n",
       "      <td>[0.0, 0.75, 0.0, 0.82, 0.0, 0.0, 0.0, 0.0, 0.0...</td>\n",
       "    </tr>\n",
       "    <tr>\n",
       "      <th>42749</th>\n",
       "      <td>UBN</td>\n",
       "      <td>ADD</td>\n",
       "      <td>[0.77, 0.0, 0.38, 0.0, 0.0, 0.0, 0.0, 0.0, 0.0...</td>\n",
       "    </tr>\n",
       "    <tr>\n",
       "      <th>27113</th>\n",
       "      <td>AEP</td>\n",
       "      <td>GOT</td>\n",
       "      <td>[0.0, 0.0, 0.0, 0.0, 0.0, 0.0, 0.0, 0.0, 0.0, ...</td>\n",
       "    </tr>\n",
       "    <tr>\n",
       "      <th>44660</th>\n",
       "      <td>YYC</td>\n",
       "      <td>JUB</td>\n",
       "      <td>[0.0, 0.0, 0.71, 0.56, 0.0, 0.0, 0.0, 0.0, 0.2...</td>\n",
       "    </tr>\n",
       "    <tr>\n",
       "      <th>213372</th>\n",
       "      <td>KWE</td>\n",
       "      <td>KHN</td>\n",
       "      <td>[0.49, 0.0, 0.81, 1.91, 0.0, 0.22, 0.84, 0.0, ...</td>\n",
       "    </tr>\n",
       "    <tr>\n",
       "      <th>200582</th>\n",
       "      <td>COV</td>\n",
       "      <td>BNE</td>\n",
       "      <td>[0.0, 1.0, 0.0, 0.0, 0.0, 0.0, 0.0, 0.0, 0.0, ...</td>\n",
       "    </tr>\n",
       "    <tr>\n",
       "      <th>183528</th>\n",
       "      <td>AYT</td>\n",
       "      <td>GOI</td>\n",
       "      <td>[0.0, 0.49, 0.0, 0.46, 0.0, 0.0, 0.0, 0.0, 0.0...</td>\n",
       "    </tr>\n",
       "  </tbody>\n",
       "</table>\n",
       "</div>"
      ],
      "text/plain": [
       "       src_code dst_code                                            demands\n",
       "158907      CPH      GYE  [0.0, 0.75, 0.0, 0.82, 0.0, 0.0, 0.0, 0.0, 0.0...\n",
       "42749       UBN      ADD  [0.77, 0.0, 0.38, 0.0, 0.0, 0.0, 0.0, 0.0, 0.0...\n",
       "27113       AEP      GOT  [0.0, 0.0, 0.0, 0.0, 0.0, 0.0, 0.0, 0.0, 0.0, ...\n",
       "44660       YYC      JUB  [0.0, 0.0, 0.71, 0.56, 0.0, 0.0, 0.0, 0.0, 0.2...\n",
       "213372      KWE      KHN  [0.49, 0.0, 0.81, 1.91, 0.0, 0.22, 0.84, 0.0, ...\n",
       "200582      COV      BNE  [0.0, 1.0, 0.0, 0.0, 0.0, 0.0, 0.0, 0.0, 0.0, ...\n",
       "183528      AYT      GOI  [0.0, 0.49, 0.0, 0.46, 0.0, 0.0, 0.0, 0.0, 0.0..."
      ]
     },
     "execution_count": 23,
     "metadata": {},
     "output_type": "execute_result"
    }
   ],
   "source": [
    "demand_edge_df.sample(7)"
   ]
  },
  {
   "cell_type": "code",
   "execution_count": 24,
   "id": "1ed14c55-30c1-4aaf-8efb-2ae95ac9f6bc",
   "metadata": {
    "tags": []
   },
   "outputs": [],
   "source": [
    "traffic_edge_path = 'traffic_edge.parquet'\n",
    "traffic_edge_df = pd.read_parquet(traffic_edge_path)"
   ]
  },
  {
   "cell_type": "code",
   "execution_count": 25,
   "id": "a2c4918a-2e4f-4167-aa4c-0d6fe28475ce",
   "metadata": {
    "tags": []
   },
   "outputs": [
    {
     "data": {
      "text/html": [
       "<div>\n",
       "<style scoped>\n",
       "    .dataframe tbody tr th:only-of-type {\n",
       "        vertical-align: middle;\n",
       "    }\n",
       "\n",
       "    .dataframe tbody tr th {\n",
       "        vertical-align: top;\n",
       "    }\n",
       "\n",
       "    .dataframe thead th {\n",
       "        text-align: right;\n",
       "    }\n",
       "</style>\n",
       "<table border=\"1\" class=\"dataframe\">\n",
       "  <thead>\n",
       "    <tr style=\"text-align: right;\">\n",
       "      <th></th>\n",
       "      <th>src_code</th>\n",
       "      <th>dst_code</th>\n",
       "      <th>capacity</th>\n",
       "      <th>traffics</th>\n",
       "    </tr>\n",
       "  </thead>\n",
       "  <tbody>\n",
       "    <tr>\n",
       "      <th>1744</th>\n",
       "      <td>DFW</td>\n",
       "      <td>DAM</td>\n",
       "      <td>0.2500</td>\n",
       "      <td>[0.0125, 0.0125, 0.0125, 0.0125, 0.0125, 0.012...</td>\n",
       "    </tr>\n",
       "    <tr>\n",
       "      <th>1575</th>\n",
       "      <td>CVG</td>\n",
       "      <td>ORD</td>\n",
       "      <td>6.2500</td>\n",
       "      <td>[0.26, 0.26, 0.26, 0.26, 0.26, 0.26, 0.26, 0.2...</td>\n",
       "    </tr>\n",
       "    <tr>\n",
       "      <th>7188</th>\n",
       "      <td>SMF</td>\n",
       "      <td>FLL</td>\n",
       "      <td>3.2500</td>\n",
       "      <td>[0.0363, 0.0363, 0.0363, 0.0363, 0.0363, 0.036...</td>\n",
       "    </tr>\n",
       "    <tr>\n",
       "      <th>143</th>\n",
       "      <td>AER</td>\n",
       "      <td>LED</td>\n",
       "      <td>3.1875</td>\n",
       "      <td>[0.0367, 0.0367, 0.0367, 0.0367, 0.0367, 0.036...</td>\n",
       "    </tr>\n",
       "    <tr>\n",
       "      <th>4980</th>\n",
       "      <td>ORD</td>\n",
       "      <td>AMS</td>\n",
       "      <td>0.2500</td>\n",
       "      <td>[0.0, 0.25, 0.25, 0.25, 0.25, 0.25, 0.25, 0.25...</td>\n",
       "    </tr>\n",
       "    <tr>\n",
       "      <th>7957</th>\n",
       "      <td>TYN</td>\n",
       "      <td>HAK</td>\n",
       "      <td>5.2500</td>\n",
       "      <td>[0.0077, 0.0077, 0.0077, 0.0077, 0.0077, 0.007...</td>\n",
       "    </tr>\n",
       "    <tr>\n",
       "      <th>2415</th>\n",
       "      <td>FUK</td>\n",
       "      <td>DNA</td>\n",
       "      <td>1.3750</td>\n",
       "      <td>[0.0017, 0.0017, 0.0017, 0.0017, 0.0017, 0.001...</td>\n",
       "    </tr>\n",
       "  </tbody>\n",
       "</table>\n",
       "</div>"
      ],
      "text/plain": [
       "     src_code dst_code  capacity  \\\n",
       "1744      DFW      DAM    0.2500   \n",
       "1575      CVG      ORD    6.2500   \n",
       "7188      SMF      FLL    3.2500   \n",
       "143       AER      LED    3.1875   \n",
       "4980      ORD      AMS    0.2500   \n",
       "7957      TYN      HAK    5.2500   \n",
       "2415      FUK      DNA    1.3750   \n",
       "\n",
       "                                               traffics  \n",
       "1744  [0.0125, 0.0125, 0.0125, 0.0125, 0.0125, 0.012...  \n",
       "1575  [0.26, 0.26, 0.26, 0.26, 0.26, 0.26, 0.26, 0.2...  \n",
       "7188  [0.0363, 0.0363, 0.0363, 0.0363, 0.0363, 0.036...  \n",
       "143   [0.0367, 0.0367, 0.0367, 0.0367, 0.0367, 0.036...  \n",
       "4980  [0.0, 0.25, 0.25, 0.25, 0.25, 0.25, 0.25, 0.25...  \n",
       "7957  [0.0077, 0.0077, 0.0077, 0.0077, 0.0077, 0.007...  \n",
       "2415  [0.0017, 0.0017, 0.0017, 0.0017, 0.0017, 0.001...  "
      ]
     },
     "execution_count": 25,
     "metadata": {},
     "output_type": "execute_result"
    }
   ],
   "source": [
    "traffic_edge_df.sample(7)"
   ]
  },
  {
   "cell_type": "markdown",
   "id": "321b3930-36f0-4847-be31-f23c1c5ea382",
   "metadata": {},
   "source": [
    "### Prepare the JSON file for `graphstorm.gconstruct.construct_graph` command\n",
    "\n",
    "The `graphstorm.gconstruct.construct_graph` command replys on a JSON file to understand the given graph data. So here we provide the JSON file of the synthetic air transportation network. For more details of each field of the JSON file and format requirements, readers can refer to the [Configuration JSON Object Explanations](https://graphstorm.readthedocs.io/en/latest/cli/graph-construction/single-machine-gconstruct.html#configuration-json-object-explanations)."
   ]
  },
  {
   "cell_type": "code",
   "execution_count": 26,
   "id": "a2623711-b846-4b55-88c0-635f50be1fd4",
   "metadata": {
    "tags": []
   },
   "outputs": [],
   "source": [
    "air_traffic_json = {\"version\": \"gconstruct-v0.1\"}"
   ]
  },
  {
   "cell_type": "markdown",
   "id": "347de8fe-8bc5-40e4-98f5-c277d68537ab",
   "metadata": {},
   "source": [
    "Node objects record the node types in a graph, in where node data table path, and node features or labels if have, are presented. It is worth noting that we normalize some features by using GraphStorm's built-in transform (feature engineering) functions. This operation could help GNN models to converge faster."
   ]
  },
  {
   "cell_type": "code",
   "execution_count": 27,
   "id": "19675d5b-52c3-4c99-a84c-e58698ecf0d3",
   "metadata": {
    "tags": []
   },
   "outputs": [],
   "source": [
    "nodes = []\n",
    "airport = {\n",
    "    \"node_type\": \"airport\",\n",
    "    \"format\": {\n",
    "        \"name\": \"parquet\"\n",
    "    },\n",
    "    \"files\": [\n",
    "        airport_path\n",
    "    ],\n",
    "    \"node_id_col\": \"iata_code\",\n",
    "    \"features\": [\n",
    "        {\n",
    "            \"feature_col\": \"latitude_deg\",\n",
    "            \"feature_name\": \"latitude\",\n",
    "            \"transform\": {\"name\": \"max_min_norm\",\n",
    "                          \"max_val\": 90.,\n",
    "                          \"min_val\": -90.}\n",
    "        },\n",
    "        {\n",
    "            \"feature_col\": \"longitude_deg\",\n",
    "            \"feature_name\": \"longitude\",\n",
    "            \"transform\": {\"name\": \"max_min_norm\",\n",
    "                          \"max_val\": 180.,\n",
    "                          \"min_val\": -180.}\n",
    "        },\n",
    "        {\n",
    "            \"feature_col\": \"inventory_amounts\",\n",
    "            \"feature_name\": \"inventory_amounts\",\n",
    "            \"transform\": {\"name\": \"max_min_norm\",\n",
    "                          \"max_val\": 1000.,\n",
    "                          \"min_val\": 0.}\n",
    "        }\n",
    "    ],\n",
    "    \"labels\": [\n",
    "        {\n",
    "            \"label_col\": \"inventory_amounts\",\n",
    "            \"task_type\": \"regression\",\n",
    "            \"split_pct\": [\n",
    "                0.8,\n",
    "                0.1,\n",
    "                0.1\n",
    "            ]\n",
    "        }\n",
    "    ]\n",
    "}\n",
    "\n",
    "nodes.append(airport)"
   ]
  },
  {
   "cell_type": "markdown",
   "id": "02df1b10-e3a5-490e-a456-117aea92681a",
   "metadata": {},
   "source": [
    "Edge objects are similar as node objects except that they have a \"relation\" field to record source node type, edge type, and destination type in a list."
   ]
  },
  {
   "cell_type": "code",
   "execution_count": 28,
   "id": "bf7d7ba3-c40f-4e29-8cb7-b31700a06bec",
   "metadata": {},
   "outputs": [],
   "source": [
    "edges = []\n",
    "ap_demand_ap = {\n",
    "    \"relation\": [\n",
    "        \"airport\",\n",
    "        \"demand\",\n",
    "        \"airport\"\n",
    "    ],\n",
    "    \"format\": {\n",
    "        \"name\": \"parquet\"\n",
    "    },\n",
    "    \"files\": [\n",
    "        demand_edge_path\n",
    "    ],\n",
    "    \"source_id_col\": \"src_code\",\n",
    "    \"dest_id_col\": \"dst_code\",\n",
    "    \"features\": [\n",
    "        {\n",
    "            \"feature_col\": \"demands\",\n",
    "            \"feature_name\": \"demands\"\n",
    "        }\n",
    "    ]\n",
    "}\n",
    "ap_traffic_ap = {\n",
    "    \"relation\": [\n",
    "        \"airport\",\n",
    "        \"traffic\",\n",
    "        \"airport\"\n",
    "    ],\n",
    "    \"format\": {\n",
    "        \"name\": \"parquet\"\n",
    "    },\n",
    "    \"files\": [\n",
    "        traffic_edge_path\n",
    "    ],\n",
    "    \"source_id_col\": \"src_code\",\n",
    "    \"dest_id_col\": \"dst_code\",\n",
    "    \"features\": [\n",
    "        {\n",
    "            \"feature_col\": \"capacity\",\n",
    "            \"feature_name\": \"capacity\"\n",
    "        },\n",
    "        {\n",
    "            \"feature_col\": \"traffics\",\n",
    "            \"feature_name\": \"traffics\"\n",
    "        }\n",
    "    ]\n",
    "}\n",
    "edges.append(ap_demand_ap)\n",
    "edges.append(ap_traffic_ap)"
   ]
  },
  {
   "cell_type": "code",
   "execution_count": 29,
   "id": "0f6cb74c-b4f6-4d92-88ac-d5b116f03a50",
   "metadata": {
    "tags": []
   },
   "outputs": [],
   "source": [
    "air_traffic_json['nodes'] = nodes\n",
    "air_traffic_json['edges'] = edges"
   ]
  },
  {
   "cell_type": "code",
   "execution_count": 30,
   "id": "95378bff-52eb-4655-ad2a-c45088f23dc1",
   "metadata": {
    "tags": []
   },
   "outputs": [],
   "source": [
    "# Save to a local file, named config.json\n",
    "with open(os.path.join(\"config.json\"), \"w\") as f:\n",
    "    json.dump(air_traffic_json, f, indent=4)"
   ]
  },
  {
   "cell_type": "markdown",
   "id": "48497e65-cda4-4cd6-9de1-898f25493112",
   "metadata": {},
   "source": [
    "## Run GraphStorm `gconstruct` Command to Process Air Traffic Data for Using GraphStorm\n",
    "\n",
    "With the tree parquet files and the `config.json` JSON file, we then run graph construction.\n",
    "\n",
    "First, let's install GraphStorm and its depenencies, assuming on a CPU machine."
   ]
  },
  {
   "cell_type": "code",
   "execution_count": 31,
   "id": "cca59b7f-1c6d-4842-b328-d37fc26d2fb4",
   "metadata": {
    "tags": []
   },
   "outputs": [],
   "source": [
    "!pip install graphstorm\n",
    "\n",
    "# If using CPU instances\n",
    "!pip install torch==2.1.0 torchvision torchaudio --index-url https://download.pytorch.org/whl/cpu\n",
    "!pip install dgl==1.1.3 -f https://data.dgl.ai/wheels-internal/repo.html"
   ]
  },
  {
   "cell_type": "markdown",
   "id": "a891579e-b244-42b2-8269-ebbd0724e881",
   "metadata": {},
   "source": [
    "Now, run the `gconstruct.construct_graph` command with a few arguments. For example, as the air traffic graph data is relatively small, we only split the data into one partition, i.e., `--num-part 1`. And the output data will be saved to a folder named `gs_1p` to be used in the model training and inference at the `AirTrafficPrediction.ipynb` notebook."
   ]
  },
  {
   "cell_type": "code",
   "execution_count": 32,
   "id": "e345a330-267a-4d9f-8778-9a826be9ecc3",
   "metadata": {
    "tags": []
   },
   "outputs": [
    {
     "name": "stdout",
     "output_type": "stream",
     "text": [
      "WARNING:root:Overwrote the existing gs_1p/data_transform_new.json file, which was generated in the previous graph construction command. Use the --output-conf-file argument to specify a different location if not want to overwrite the existing configuration file.\n",
      "INFO:root:The graph has 1 node types and 2 edge types.\n",
      "INFO:root:Node type airport has 471 nodes\n",
      "INFO:root:Edge type ('airport', 'demand', 'airport') has 221370 edges\n",
      "INFO:root:Edge type ('airport', 'traffic', 'airport') has 8408 edges\n",
      "INFO:root:Node type airport has features: ['latitude', 'longitude', 'inventory_amounts', 'train_mask', 'val_mask', 'test_mask'].\n",
      "INFO:root:Train/val/test on airport with mask train_mask, val_mask, test_mask: 376, 47, 47\n",
      "INFO:root:Note: Custom train, validate, test mask information for nodes are not collected.\n",
      "INFO:root:Edge type ('airport', 'demand', 'airport') has features: ['demands'].\n",
      "INFO:root:Edge type ('airport', 'traffic', 'airport') has features: ['capacity', 'traffics'].\n",
      "The graph has 1 node types and balance among 4 types\n",
      "Converting to homogeneous graph takes 0.003s, peak mem: 5.120 GB\n",
      "Save partitions: 0.022 seconds, peak memory: 6.127 GB\n",
      "There are 229778 edges in the graph and 0 edge cuts for 1 partitions.\n",
      "INFO:root:Graph construction generated new node IDs for 'airport'. The ID map is saved under gs_1p/raw_id_mappings/airport.\n"
     ]
    }
   ],
   "source": [
    "!python -m graphstorm.gconstruct.construct_graph \\\n",
    "           --conf-file config.json \\\n",
    "           --output-dir gs_1p/ \\\n",
    "           --num-parts 1 \\\n",
    "           --graph-name air_traffic"
   ]
  },
  {
   "cell_type": "code",
   "execution_count": null,
   "id": "1aa9887d-c657-417b-b0f8-b1338644832d",
   "metadata": {},
   "outputs": [],
   "source": []
  }
 ],
 "metadata": {
  "kernelspec": {
   "display_name": "gsf",
   "language": "python",
   "name": "gsf"
  },
  "language_info": {
   "codemirror_mode": {
    "name": "ipython",
    "version": 3
   },
   "file_extension": ".py",
   "mimetype": "text/x-python",
   "name": "python",
   "nbconvert_exporter": "python",
   "pygments_lexer": "ipython3",
   "version": "3.10.15"
  }
 },
 "nbformat": 4,
 "nbformat_minor": 5
}
