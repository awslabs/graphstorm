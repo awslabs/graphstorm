{
 "cells": [
  {
   "cell_type": "markdown",
   "id": "f8c5650c-f120-4691-a3e9-3798ad4f5a8b",
   "metadata": {},
   "source": [
    "# Air Traffic Input Data Epxloration and Construction for Usiing GraphStorm\n",
    "\n",
    "This notebook will help readers to get better idea of the input data format that GraphStorm's graph construction commands requires. For more details of the input data format, readers can refer to GraphStorm's [Input Raw Data Specification](https://graphstorm.readthedocs.io/en/latest/cli/graph-construction/raw_data.html) documentations.\n",
    "\n",
    "GraphStorm can handel experise-level graph data, measured in billions of nodes and tens of billions of edges. This synthetic air trasportation, however, is relatively small. Therefore we will use the `graphstorm.gconstruct.construct_graph` command that can run on a single machine. For large graph data that might consume large machine memory, readers can refer to GraphStorm's [Distributed Graph Construction\n",
    "](https://graphstorm.readthedocs.io/en/latest/cli/graph-construction/distributed/index.html) documentations."
   ]
  },
  {
   "cell_type": "code",
   "execution_count": 1,
   "id": "f3792ec0-262c-434e-985f-7e8511dd7416",
   "metadata": {
    "tags": []
   },
   "outputs": [],
   "source": [
    "import os\n",
    "import json\n",
    "import pandas as pd"
   ]
  },
  {
   "cell_type": "markdown",
   "id": "01462633-bf20-4a97-bf57-5eb3daa22183",
   "metadata": {},
   "source": [
    "## Explore the Input Data"
   ]
  },
  {
   "cell_type": "code",
   "execution_count": 2,
   "id": "f0dbb7ca-521c-4eac-a57d-2b2e22d12c73",
   "metadata": {
    "tags": []
   },
   "outputs": [],
   "source": [
    "airport_path = './airport.parquet'\n",
    "airport_node_df = pd.read_parquet(airport_path)"
   ]
  },
  {
   "cell_type": "code",
   "execution_count": 3,
   "id": "2cd28ee5-20b6-4e8b-9f77-83c3134ad795",
   "metadata": {
    "tags": []
   },
   "outputs": [
    {
     "data": {
      "text/html": [
       "<div>\n",
       "<style scoped>\n",
       "    .dataframe tbody tr th:only-of-type {\n",
       "        vertical-align: middle;\n",
       "    }\n",
       "\n",
       "    .dataframe tbody tr th {\n",
       "        vertical-align: top;\n",
       "    }\n",
       "\n",
       "    .dataframe thead th {\n",
       "        text-align: right;\n",
       "    }\n",
       "</style>\n",
       "<table border=\"1\" class=\"dataframe\">\n",
       "  <thead>\n",
       "    <tr style=\"text-align: right;\">\n",
       "      <th></th>\n",
       "      <th>iata_code</th>\n",
       "      <th>latitude_deg</th>\n",
       "      <th>longitude_deg</th>\n",
       "      <th>inventory_amounts</th>\n",
       "    </tr>\n",
       "  </thead>\n",
       "  <tbody>\n",
       "    <tr>\n",
       "      <th>25</th>\n",
       "      <td>MUC</td>\n",
       "      <td>48.353802</td>\n",
       "      <td>11.786100</td>\n",
       "      <td>[38.0836, 149.0189, 309.1679, 382.152, 392.400...</td>\n",
       "    </tr>\n",
       "    <tr>\n",
       "      <th>311</th>\n",
       "      <td>SDJ</td>\n",
       "      <td>38.139702</td>\n",
       "      <td>140.917007</td>\n",
       "      <td>[31.3694, 146.7459, 293.8917, 368.27, 383.98, ...</td>\n",
       "    </tr>\n",
       "    <tr>\n",
       "      <th>326</th>\n",
       "      <td>BEL</td>\n",
       "      <td>-1.379279</td>\n",
       "      <td>-48.476207</td>\n",
       "      <td>[34.9218, 150.4731, 298.6603, 357.8567, 372.01...</td>\n",
       "    </tr>\n",
       "    <tr>\n",
       "      <th>120</th>\n",
       "      <td>DEN</td>\n",
       "      <td>39.861698</td>\n",
       "      <td>-104.672997</td>\n",
       "      <td>[55.7827, 207.3755, 396.9583, 506.4432, 537.53...</td>\n",
       "    </tr>\n",
       "    <tr>\n",
       "      <th>264</th>\n",
       "      <td>VRA</td>\n",
       "      <td>23.034401</td>\n",
       "      <td>-81.435303</td>\n",
       "      <td>[29.8999, 155.3827, 316.1508, 389.1257, 405.43...</td>\n",
       "    </tr>\n",
       "    <tr>\n",
       "      <th>159</th>\n",
       "      <td>SAT</td>\n",
       "      <td>29.533701</td>\n",
       "      <td>-98.469803</td>\n",
       "      <td>[64.7669, 213.8917, 410.0118, 519.9839, 547.92...</td>\n",
       "    </tr>\n",
       "    <tr>\n",
       "      <th>404</th>\n",
       "      <td>HYD</td>\n",
       "      <td>17.231318</td>\n",
       "      <td>78.429855</td>\n",
       "      <td>[37.6584, 141.7291, 281.9312, 342.3924, 358.37...</td>\n",
       "    </tr>\n",
       "  </tbody>\n",
       "</table>\n",
       "</div>"
      ],
      "text/plain": [
       "    iata_code  latitude_deg  longitude_deg  \\\n",
       "25        MUC     48.353802      11.786100   \n",
       "311       SDJ     38.139702     140.917007   \n",
       "326       BEL     -1.379279     -48.476207   \n",
       "120       DEN     39.861698    -104.672997   \n",
       "264       VRA     23.034401     -81.435303   \n",
       "159       SAT     29.533701     -98.469803   \n",
       "404       HYD     17.231318      78.429855   \n",
       "\n",
       "                                     inventory_amounts  \n",
       "25   [38.0836, 149.0189, 309.1679, 382.152, 392.400...  \n",
       "311  [31.3694, 146.7459, 293.8917, 368.27, 383.98, ...  \n",
       "326  [34.9218, 150.4731, 298.6603, 357.8567, 372.01...  \n",
       "120  [55.7827, 207.3755, 396.9583, 506.4432, 537.53...  \n",
       "264  [29.8999, 155.3827, 316.1508, 389.1257, 405.43...  \n",
       "159  [64.7669, 213.8917, 410.0118, 519.9839, 547.92...  \n",
       "404  [37.6584, 141.7291, 281.9312, 342.3924, 358.37...  "
      ]
     },
     "execution_count": 3,
     "metadata": {},
     "output_type": "execute_result"
    }
   ],
   "source": [
    "airport_node_df.sample(7)"
   ]
  },
  {
   "cell_type": "code",
   "execution_count": 8,
   "id": "6cc434dc-4278-4dd3-b884-01af89f62060",
   "metadata": {
    "tags": []
   },
   "outputs": [],
   "source": [
    "demand_edge_path = './demand_edge.parquet'\n",
    "demand_edge_df = pd.read_parquet(demand_edge_path)"
   ]
  },
  {
   "cell_type": "code",
   "execution_count": 9,
   "id": "6d4c61c1-40ff-49fd-b6e6-61c33e96863e",
   "metadata": {
    "tags": []
   },
   "outputs": [
    {
     "data": {
      "text/html": [
       "<div>\n",
       "<style scoped>\n",
       "    .dataframe tbody tr th:only-of-type {\n",
       "        vertical-align: middle;\n",
       "    }\n",
       "\n",
       "    .dataframe tbody tr th {\n",
       "        vertical-align: top;\n",
       "    }\n",
       "\n",
       "    .dataframe thead th {\n",
       "        text-align: right;\n",
       "    }\n",
       "</style>\n",
       "<table border=\"1\" class=\"dataframe\">\n",
       "  <thead>\n",
       "    <tr style=\"text-align: right;\">\n",
       "      <th></th>\n",
       "      <th>src_code</th>\n",
       "      <th>dst_code</th>\n",
       "      <th>demands</th>\n",
       "    </tr>\n",
       "  </thead>\n",
       "  <tbody>\n",
       "    <tr>\n",
       "      <th>146026</th>\n",
       "      <td>BSB</td>\n",
       "      <td>ITM</td>\n",
       "      <td>[0.0, 0.0, 0.37, 0.0, 0.0, 0.0, 0.0, 0.0, 0.0,...</td>\n",
       "    </tr>\n",
       "    <tr>\n",
       "      <th>43840</th>\n",
       "      <td>LAX</td>\n",
       "      <td>HRG</td>\n",
       "      <td>[0.0, 0.03, 0.0, 0.26, 0.0, 0.0, 0.0, 0.0, 0.0...</td>\n",
       "    </tr>\n",
       "    <tr>\n",
       "      <th>75580</th>\n",
       "      <td>ZIA</td>\n",
       "      <td>SAV</td>\n",
       "      <td>[0.0, 0.0, 0.42, 0.0, 0.0, 0.0, 0.0, 0.0, 0.02...</td>\n",
       "    </tr>\n",
       "    <tr>\n",
       "      <th>205054</th>\n",
       "      <td>MCO</td>\n",
       "      <td>TSN</td>\n",
       "      <td>[0.0, 0.0, 0.16, 0.0, 0.12, 0.99, 0.0, 0.0, 0....</td>\n",
       "    </tr>\n",
       "    <tr>\n",
       "      <th>216086</th>\n",
       "      <td>SJU</td>\n",
       "      <td>PVG</td>\n",
       "      <td>[0.72, 0.0, 0.0, 0.0, 0.0, 0.0, 0.0, 0.0, 0.0,...</td>\n",
       "    </tr>\n",
       "    <tr>\n",
       "      <th>125803</th>\n",
       "      <td>MWX</td>\n",
       "      <td>BZE</td>\n",
       "      <td>[0.61, 0.0, 0.0, 0.17, 0.0, 0.0, 0.0, 0.0, 0.0...</td>\n",
       "    </tr>\n",
       "    <tr>\n",
       "      <th>13914</th>\n",
       "      <td>BEY</td>\n",
       "      <td>HAJ</td>\n",
       "      <td>[0.0, 0.0, 1.0, 0.0, 0.0, 0.0, 0.0, 0.0, 0.0, ...</td>\n",
       "    </tr>\n",
       "  </tbody>\n",
       "</table>\n",
       "</div>"
      ],
      "text/plain": [
       "       src_code dst_code                                            demands\n",
       "146026      BSB      ITM  [0.0, 0.0, 0.37, 0.0, 0.0, 0.0, 0.0, 0.0, 0.0,...\n",
       "43840       LAX      HRG  [0.0, 0.03, 0.0, 0.26, 0.0, 0.0, 0.0, 0.0, 0.0...\n",
       "75580       ZIA      SAV  [0.0, 0.0, 0.42, 0.0, 0.0, 0.0, 0.0, 0.0, 0.02...\n",
       "205054      MCO      TSN  [0.0, 0.0, 0.16, 0.0, 0.12, 0.99, 0.0, 0.0, 0....\n",
       "216086      SJU      PVG  [0.72, 0.0, 0.0, 0.0, 0.0, 0.0, 0.0, 0.0, 0.0,...\n",
       "125803      MWX      BZE  [0.61, 0.0, 0.0, 0.17, 0.0, 0.0, 0.0, 0.0, 0.0...\n",
       "13914       BEY      HAJ  [0.0, 0.0, 1.0, 0.0, 0.0, 0.0, 0.0, 0.0, 0.0, ..."
      ]
     },
     "execution_count": 9,
     "metadata": {},
     "output_type": "execute_result"
    }
   ],
   "source": [
    "demand_edge_df.sample(7)"
   ]
  },
  {
   "cell_type": "code",
   "execution_count": 10,
   "id": "1ed14c55-30c1-4aaf-8efb-2ae95ac9f6bc",
   "metadata": {
    "tags": []
   },
   "outputs": [],
   "source": [
    "traffic_edge_path = 'traffic_edge.parquet'\n",
    "traffic_edge_df = pd.read_parquet(traffic_edge_path)"
   ]
  },
  {
   "cell_type": "code",
   "execution_count": 11,
   "id": "a2c4918a-2e4f-4167-aa4c-0d6fe28475ce",
   "metadata": {
    "tags": []
   },
   "outputs": [
    {
     "data": {
      "text/html": [
       "<div>\n",
       "<style scoped>\n",
       "    .dataframe tbody tr th:only-of-type {\n",
       "        vertical-align: middle;\n",
       "    }\n",
       "\n",
       "    .dataframe tbody tr th {\n",
       "        vertical-align: top;\n",
       "    }\n",
       "\n",
       "    .dataframe thead th {\n",
       "        text-align: right;\n",
       "    }\n",
       "</style>\n",
       "<table border=\"1\" class=\"dataframe\">\n",
       "  <thead>\n",
       "    <tr style=\"text-align: right;\">\n",
       "      <th></th>\n",
       "      <th>src_code</th>\n",
       "      <th>dst_code</th>\n",
       "      <th>capacity</th>\n",
       "      <th>traffics</th>\n",
       "    </tr>\n",
       "  </thead>\n",
       "  <tbody>\n",
       "    <tr>\n",
       "      <th>6850</th>\n",
       "      <td>SEA</td>\n",
       "      <td>JFK</td>\n",
       "      <td>2.2500</td>\n",
       "      <td>[0.0485, 0.0485, 0.0485, 0.0485, 0.0485, 0.048...</td>\n",
       "    </tr>\n",
       "    <tr>\n",
       "      <th>7363</th>\n",
       "      <td>SNA</td>\n",
       "      <td>SDF</td>\n",
       "      <td>2.0000</td>\n",
       "      <td>[0.0028, 0.0028, 0.0028, 0.0028, 0.0028, 0.002...</td>\n",
       "    </tr>\n",
       "    <tr>\n",
       "      <th>8489</th>\n",
       "      <td>ZAG</td>\n",
       "      <td>PVG</td>\n",
       "      <td>0.0625</td>\n",
       "      <td>[0.0407, 0.0407, 0.0407, 0.0407, 0.0407, 0.040...</td>\n",
       "    </tr>\n",
       "    <tr>\n",
       "      <th>4008</th>\n",
       "      <td>LHW</td>\n",
       "      <td>TAO</td>\n",
       "      <td>3.0000</td>\n",
       "      <td>[1.08, 1.08, 1.08, 1.08, 1.08, 1.08, 1.08, 1.0...</td>\n",
       "    </tr>\n",
       "    <tr>\n",
       "      <th>4059</th>\n",
       "      <td>LRM</td>\n",
       "      <td>KWL</td>\n",
       "      <td>0.0625</td>\n",
       "      <td>[0.0625, 0.0625, 0.0625, 0.0625, 0.0625, 0.062...</td>\n",
       "    </tr>\n",
       "    <tr>\n",
       "      <th>3554</th>\n",
       "      <td>KWE</td>\n",
       "      <td>RUH</td>\n",
       "      <td>0.2500</td>\n",
       "      <td>[0.0275, 0.0275, 0.0275, 0.0275, 0.0275, 0.027...</td>\n",
       "    </tr>\n",
       "    <tr>\n",
       "      <th>3246</th>\n",
       "      <td>JED</td>\n",
       "      <td>CLE</td>\n",
       "      <td>0.2500</td>\n",
       "      <td>[0.155, 0.155, 0.155, 0.155, 0.155, 0.155, 0.1...</td>\n",
       "    </tr>\n",
       "  </tbody>\n",
       "</table>\n",
       "</div>"
      ],
      "text/plain": [
       "     src_code dst_code  capacity  \\\n",
       "6850      SEA      JFK    2.2500   \n",
       "7363      SNA      SDF    2.0000   \n",
       "8489      ZAG      PVG    0.0625   \n",
       "4008      LHW      TAO    3.0000   \n",
       "4059      LRM      KWL    0.0625   \n",
       "3554      KWE      RUH    0.2500   \n",
       "3246      JED      CLE    0.2500   \n",
       "\n",
       "                                               traffics  \n",
       "6850  [0.0485, 0.0485, 0.0485, 0.0485, 0.0485, 0.048...  \n",
       "7363  [0.0028, 0.0028, 0.0028, 0.0028, 0.0028, 0.002...  \n",
       "8489  [0.0407, 0.0407, 0.0407, 0.0407, 0.0407, 0.040...  \n",
       "4008  [1.08, 1.08, 1.08, 1.08, 1.08, 1.08, 1.08, 1.0...  \n",
       "4059  [0.0625, 0.0625, 0.0625, 0.0625, 0.0625, 0.062...  \n",
       "3554  [0.0275, 0.0275, 0.0275, 0.0275, 0.0275, 0.027...  \n",
       "3246  [0.155, 0.155, 0.155, 0.155, 0.155, 0.155, 0.1...  "
      ]
     },
     "execution_count": 11,
     "metadata": {},
     "output_type": "execute_result"
    }
   ],
   "source": [
    "traffic_edge_df.sample(7)"
   ]
  },
  {
   "cell_type": "markdown",
   "id": "321b3930-36f0-4847-be31-f23c1c5ea382",
   "metadata": {},
   "source": [
    "### Prepare the JSON file for `graphstorm.gconstruct.construct_graph` command\n",
    "\n",
    "The `graphstorm.gconstruct.construct_graph` command replys on a JSON file to understand the given graph data. So here we provide the JSON file of the synthetic air transportation network. For more details of each field of the JSON file and format requirements, readers can refer to the [Configuration JSON Object Explanations](https://graphstorm.readthedocs.io/en/latest/cli/graph-construction/single-machine-gconstruct.html#configuration-json-object-explanations)."
   ]
  },
  {
   "cell_type": "code",
   "execution_count": 12,
   "id": "a2623711-b846-4b55-88c0-635f50be1fd4",
   "metadata": {
    "tags": []
   },
   "outputs": [],
   "source": [
    "air_traffic_json = {\"version\": \"gconstruct-v0.1\"}"
   ]
  },
  {
   "cell_type": "markdown",
   "id": "347de8fe-8bc5-40e4-98f5-c277d68537ab",
   "metadata": {},
   "source": [
    "Node objects record the node types in a graph, where node data tables are stored and node features or labels if have. It worths noticed that we here normalized some features by using GraphStorm's built-in feature engineering functions. This operation could help GNN models to converge quickly."
   ]
  },
  {
   "cell_type": "code",
   "execution_count": 13,
   "id": "19675d5b-52c3-4c99-a84c-e58698ecf0d3",
   "metadata": {
    "tags": []
   },
   "outputs": [],
   "source": [
    "nodes = []\n",
    "airport = {\n",
    "    \"node_type\": \"airport\",\n",
    "    \"format\": {\n",
    "        \"name\": \"parquet\"\n",
    "    },\n",
    "    \"files\": [\n",
    "        airport_path\n",
    "    ],\n",
    "    \"node_id_col\": \"iata_code\",\n",
    "    \"features\": [\n",
    "        {\n",
    "            \"feature_col\": \"latitude_deg\",\n",
    "            \"feature_name\": \"latitude\",\n",
    "            \"transform\": {\"name\": \"max_min_norm\",\n",
    "                          \"max_val\": 90.,\n",
    "                          \"min_val\": -90.}\n",
    "        },\n",
    "        {\n",
    "            \"feature_col\": \"longitude_deg\",\n",
    "            \"feature_name\": \"longitude\",\n",
    "            \"transform\": {\"name\": \"max_min_norm\",\n",
    "                          \"max_val\": 180.,\n",
    "                          \"min_val\": -180.}\n",
    "        },\n",
    "        {\n",
    "            \"feature_col\": \"inventory_amounts\",\n",
    "            \"feature_name\": \"inventory_amounts\",\n",
    "            \"transform\": {\"name\": \"max_min_norm\",\n",
    "                          \"max_val\": 1000.,\n",
    "                          \"min_val\": 0.}\n",
    "        }\n",
    "    ],\n",
    "    \"labels\": [\n",
    "        {\n",
    "            \"label_col\": \"inventory_amounts\",\n",
    "            \"task_type\": \"regression\",\n",
    "            \"split_pct\": [\n",
    "                0.8,\n",
    "                0.1,\n",
    "                0.1\n",
    "            ]\n",
    "        }\n",
    "    ]\n",
    "}\n",
    "\n",
    "nodes.append(airport)"
   ]
  },
  {
   "cell_type": "markdown",
   "id": "02df1b10-e3a5-490e-a456-117aea92681a",
   "metadata": {},
   "source": [
    "Edge objects"
   ]
  },
  {
   "cell_type": "code",
   "execution_count": null,
   "id": "bf7d7ba3-c40f-4e29-8cb7-b31700a06bec",
   "metadata": {},
   "outputs": [],
   "source": [
    "edges = []\n",
    "ap_demand_ap = {\n",
    "    \"relation\": [\n",
    "        \"airport\",\n",
    "        \"demand\",\n",
    "        \"airport\"\n",
    "    ],\n",
    "    \"format\": {\n",
    "        \"name\": \"parquet\"\n",
    "    },\n",
    "    \"files\": [\n",
    "        demand_edge_path\n",
    "    ],\n",
    "    \"source_id_col\": \"src_code\",\n",
    "    \"dest_id_col\": \"dst_code\",\n",
    "    \"features\": [\n",
    "        {\n",
    "            \"feature_col\": \"demands\",\n",
    "            \"feature_name\": \"demands\"\n",
    "        }\n",
    "    ]\n",
    "}\n",
    "ap_traffic_ap = {\n",
    "    \"relation\": [\n",
    "        \"airport\",\n",
    "        \"traffic\",\n",
    "        \"airport\"\n",
    "    ],\n",
    "    \"format\": {\n",
    "        \"name\": \"parquet\"\n",
    "    },\n",
    "    \"files\": [\n",
    "        traffic_edge_path\n",
    "    ],\n",
    "    \"source_id_col\": \"src_code\",\n",
    "    \"dest_id_col\": \"dst_code\",\n",
    "    \"features\": [\n",
    "        {\n",
    "            \"feature_col\": \"capacity\",\n",
    "            \"feature_name\": \"capacity\"\n",
    "        },\n",
    "        {\n",
    "            \"feature_col\": \"traffics\",\n",
    "            \"feature_name\": \"traffics\"\n",
    "        }\n",
    "    ]\n",
    "}\n",
    "edges.append(ap_demand_ap)\n",
    "edges.append(ap_traffic_ap)"
   ]
  },
  {
   "cell_type": "code",
   "execution_count": 15,
   "id": "0f6cb74c-b4f6-4d92-88ac-d5b116f03a50",
   "metadata": {
    "tags": []
   },
   "outputs": [],
   "source": [
    "air_traffic_json['nodes'] = nodes\n",
    "air_traffic_json['edges'] = edges"
   ]
  },
  {
   "cell_type": "code",
   "execution_count": 16,
   "id": "95378bff-52eb-4655-ad2a-c45088f23dc1",
   "metadata": {
    "tags": []
   },
   "outputs": [],
   "source": [
    "with open(os.path.join(\"config.json\"), \"w\") as f:\n",
    "    json.dump(air_traffic_json, f, indent=4)"
   ]
  },
  {
   "cell_type": "markdown",
   "id": "48497e65-cda4-4cd6-9de1-898f25493112",
   "metadata": {},
   "source": [
    "## Run GraphStorm `gconstruct` Command to Process Air Traffic Data for Using GraphStorm"
   ]
  },
  {
   "cell_type": "code",
   "execution_count": 1,
   "id": "cca59b7f-1c6d-4842-b328-d37fc26d2fb4",
   "metadata": {
    "tags": []
   },
   "outputs": [
    {
     "name": "stdout",
     "output_type": "stream",
     "text": [
      "Requirement already satisfied: graphstorm in /home/ec2-user/anaconda3/envs/pytorch_p310/lib/python3.10/site-packages (0.3.1)\n",
      "Requirement already satisfied: h5py in /home/ec2-user/anaconda3/envs/pytorch_p310/lib/python3.10/site-packages (from graphstorm) (3.12.1)\n",
      "Requirement already satisfied: pyarrow in /home/ec2-user/anaconda3/envs/pytorch_p310/lib/python3.10/site-packages (from graphstorm) (17.0.0)\n",
      "Requirement already satisfied: transformers==4.36.0 in /home/ec2-user/anaconda3/envs/pytorch_p310/lib/python3.10/site-packages (from graphstorm) (4.36.0)\n",
      "Requirement already satisfied: pandas in /home/ec2-user/anaconda3/envs/pytorch_p310/lib/python3.10/site-packages (from graphstorm) (1.5.3)\n",
      "Requirement already satisfied: scikit-learn in /home/ec2-user/anaconda3/envs/pytorch_p310/lib/python3.10/site-packages (from graphstorm) (1.5.2)\n",
      "Requirement already satisfied: ogb==1.3.6 in /home/ec2-user/anaconda3/envs/pytorch_p310/lib/python3.10/site-packages (from graphstorm) (1.3.6)\n",
      "Requirement already satisfied: psutil in /home/ec2-user/anaconda3/envs/pytorch_p310/lib/python3.10/site-packages (from graphstorm) (6.0.0)\n",
      "Requirement already satisfied: torch>=1.6.0 in /home/ec2-user/anaconda3/envs/pytorch_p310/lib/python3.10/site-packages (from ogb==1.3.6->graphstorm) (2.1.0+cpu)\n",
      "Requirement already satisfied: numpy>=1.16.0 in /home/ec2-user/anaconda3/envs/pytorch_p310/lib/python3.10/site-packages (from ogb==1.3.6->graphstorm) (1.26.4)\n",
      "Requirement already satisfied: tqdm>=4.29.0 in /home/ec2-user/anaconda3/envs/pytorch_p310/lib/python3.10/site-packages (from ogb==1.3.6->graphstorm) (4.66.5)\n",
      "Requirement already satisfied: six>=1.12.0 in /home/ec2-user/anaconda3/envs/pytorch_p310/lib/python3.10/site-packages (from ogb==1.3.6->graphstorm) (1.16.0)\n",
      "Requirement already satisfied: urllib3>=1.24.0 in /home/ec2-user/anaconda3/envs/pytorch_p310/lib/python3.10/site-packages (from ogb==1.3.6->graphstorm) (2.2.3)\n",
      "Requirement already satisfied: outdated>=0.2.0 in /home/ec2-user/anaconda3/envs/pytorch_p310/lib/python3.10/site-packages (from ogb==1.3.6->graphstorm) (0.2.2)\n",
      "Requirement already satisfied: filelock in /home/ec2-user/anaconda3/envs/pytorch_p310/lib/python3.10/site-packages (from transformers==4.36.0->graphstorm) (3.16.1)\n",
      "Requirement already satisfied: huggingface-hub<1.0,>=0.19.3 in /home/ec2-user/anaconda3/envs/pytorch_p310/lib/python3.10/site-packages (from transformers==4.36.0->graphstorm) (0.26.2)\n",
      "Requirement already satisfied: packaging>=20.0 in /home/ec2-user/anaconda3/envs/pytorch_p310/lib/python3.10/site-packages (from transformers==4.36.0->graphstorm) (21.3)\n",
      "Requirement already satisfied: pyyaml>=5.1 in /home/ec2-user/anaconda3/envs/pytorch_p310/lib/python3.10/site-packages (from transformers==4.36.0->graphstorm) (6.0.2)\n",
      "Requirement already satisfied: regex!=2019.12.17 in /home/ec2-user/anaconda3/envs/pytorch_p310/lib/python3.10/site-packages (from transformers==4.36.0->graphstorm) (2024.11.6)\n",
      "Requirement already satisfied: requests in /home/ec2-user/anaconda3/envs/pytorch_p310/lib/python3.10/site-packages (from transformers==4.36.0->graphstorm) (2.32.3)\n",
      "Requirement already satisfied: tokenizers<0.19,>=0.14 in /home/ec2-user/anaconda3/envs/pytorch_p310/lib/python3.10/site-packages (from transformers==4.36.0->graphstorm) (0.15.2)\n",
      "Requirement already satisfied: safetensors>=0.3.1 in /home/ec2-user/anaconda3/envs/pytorch_p310/lib/python3.10/site-packages (from transformers==4.36.0->graphstorm) (0.4.5)\n",
      "Requirement already satisfied: python-dateutil>=2.8.1 in /home/ec2-user/anaconda3/envs/pytorch_p310/lib/python3.10/site-packages (from pandas->graphstorm) (2.9.0)\n",
      "Requirement already satisfied: pytz>=2020.1 in /home/ec2-user/anaconda3/envs/pytorch_p310/lib/python3.10/site-packages (from pandas->graphstorm) (2024.1)\n",
      "Requirement already satisfied: scipy>=1.6.0 in /home/ec2-user/anaconda3/envs/pytorch_p310/lib/python3.10/site-packages (from scikit-learn->graphstorm) (1.14.1)\n",
      "Requirement already satisfied: joblib>=1.2.0 in /home/ec2-user/anaconda3/envs/pytorch_p310/lib/python3.10/site-packages (from scikit-learn->graphstorm) (1.4.2)\n",
      "Requirement already satisfied: threadpoolctl>=3.1.0 in /home/ec2-user/anaconda3/envs/pytorch_p310/lib/python3.10/site-packages (from scikit-learn->graphstorm) (3.5.0)\n",
      "Requirement already satisfied: fsspec>=2023.5.0 in /home/ec2-user/anaconda3/envs/pytorch_p310/lib/python3.10/site-packages (from huggingface-hub<1.0,>=0.19.3->transformers==4.36.0->graphstorm) (2024.9.0)\n",
      "Requirement already satisfied: typing-extensions>=3.7.4.3 in /home/ec2-user/anaconda3/envs/pytorch_p310/lib/python3.10/site-packages (from huggingface-hub<1.0,>=0.19.3->transformers==4.36.0->graphstorm) (4.12.2)\n",
      "Requirement already satisfied: setuptools>=44 in /home/ec2-user/anaconda3/envs/pytorch_p310/lib/python3.10/site-packages (from outdated>=0.2.0->ogb==1.3.6->graphstorm) (75.1.0)\n",
      "Requirement already satisfied: littleutils in /home/ec2-user/anaconda3/envs/pytorch_p310/lib/python3.10/site-packages (from outdated>=0.2.0->ogb==1.3.6->graphstorm) (0.2.4)\n",
      "Requirement already satisfied: pyparsing!=3.0.5,>=2.0.2 in /home/ec2-user/anaconda3/envs/pytorch_p310/lib/python3.10/site-packages (from packaging>=20.0->transformers==4.36.0->graphstorm) (3.1.4)\n",
      "Requirement already satisfied: sympy in /home/ec2-user/anaconda3/envs/pytorch_p310/lib/python3.10/site-packages (from torch>=1.6.0->ogb==1.3.6->graphstorm) (1.13.2)\n",
      "Requirement already satisfied: networkx in /home/ec2-user/anaconda3/envs/pytorch_p310/lib/python3.10/site-packages (from torch>=1.6.0->ogb==1.3.6->graphstorm) (3.3)\n",
      "Requirement already satisfied: jinja2 in /home/ec2-user/anaconda3/envs/pytorch_p310/lib/python3.10/site-packages (from torch>=1.6.0->ogb==1.3.6->graphstorm) (3.1.4)\n",
      "Requirement already satisfied: charset-normalizer<4,>=2 in /home/ec2-user/anaconda3/envs/pytorch_p310/lib/python3.10/site-packages (from requests->transformers==4.36.0->graphstorm) (3.3.2)\n",
      "Requirement already satisfied: idna<4,>=2.5 in /home/ec2-user/anaconda3/envs/pytorch_p310/lib/python3.10/site-packages (from requests->transformers==4.36.0->graphstorm) (3.10)\n",
      "Requirement already satisfied: certifi>=2017.4.17 in /home/ec2-user/anaconda3/envs/pytorch_p310/lib/python3.10/site-packages (from requests->transformers==4.36.0->graphstorm) (2024.8.30)\n",
      "Requirement already satisfied: MarkupSafe>=2.0 in /home/ec2-user/anaconda3/envs/pytorch_p310/lib/python3.10/site-packages (from jinja2->torch>=1.6.0->ogb==1.3.6->graphstorm) (2.1.5)\n",
      "Requirement already satisfied: mpmath<1.4,>=1.1.0 in /home/ec2-user/anaconda3/envs/pytorch_p310/lib/python3.10/site-packages (from sympy->torch>=1.6.0->ogb==1.3.6->graphstorm) (1.3.0)\n",
      "Looking in indexes: https://download.pytorch.org/whl/cpu\n",
      "Requirement already satisfied: torch==2.1.0 in /home/ec2-user/anaconda3/envs/pytorch_p310/lib/python3.10/site-packages (2.1.0+cpu)\n",
      "Requirement already satisfied: torchvision in /home/ec2-user/anaconda3/envs/pytorch_p310/lib/python3.10/site-packages (0.17.2)\n",
      "Requirement already satisfied: torchaudio in /home/ec2-user/anaconda3/envs/pytorch_p310/lib/python3.10/site-packages (2.2.2)\n",
      "Requirement already satisfied: filelock in /home/ec2-user/anaconda3/envs/pytorch_p310/lib/python3.10/site-packages (from torch==2.1.0) (3.16.1)\n",
      "Requirement already satisfied: typing-extensions in /home/ec2-user/anaconda3/envs/pytorch_p310/lib/python3.10/site-packages (from torch==2.1.0) (4.12.2)\n",
      "Requirement already satisfied: sympy in /home/ec2-user/anaconda3/envs/pytorch_p310/lib/python3.10/site-packages (from torch==2.1.0) (1.13.2)\n",
      "Requirement already satisfied: networkx in /home/ec2-user/anaconda3/envs/pytorch_p310/lib/python3.10/site-packages (from torch==2.1.0) (3.3)\n",
      "Requirement already satisfied: jinja2 in /home/ec2-user/anaconda3/envs/pytorch_p310/lib/python3.10/site-packages (from torch==2.1.0) (3.1.4)\n",
      "Requirement already satisfied: fsspec in /home/ec2-user/anaconda3/envs/pytorch_p310/lib/python3.10/site-packages (from torch==2.1.0) (2024.9.0)\n",
      "Requirement already satisfied: numpy in /home/ec2-user/anaconda3/envs/pytorch_p310/lib/python3.10/site-packages (from torchvision) (1.26.4)\n",
      "Requirement already satisfied: pillow!=8.3.*,>=5.3.0 in /home/ec2-user/anaconda3/envs/pytorch_p310/lib/python3.10/site-packages (from torchvision) (10.4.0)\n",
      "Requirement already satisfied: MarkupSafe>=2.0 in /home/ec2-user/anaconda3/envs/pytorch_p310/lib/python3.10/site-packages (from jinja2->torch==2.1.0) (2.1.5)\n",
      "Requirement already satisfied: mpmath<1.4,>=1.1.0 in /home/ec2-user/anaconda3/envs/pytorch_p310/lib/python3.10/site-packages (from sympy->torch==2.1.0) (1.3.0)\n",
      "Looking in links: https://data.dgl.ai/wheels-internal/repo.html\n",
      "Requirement already satisfied: dgl==1.1.3 in /home/ec2-user/anaconda3/envs/pytorch_p310/lib/python3.10/site-packages (1.1.3)\n",
      "Requirement already satisfied: numpy>=1.14.0 in /home/ec2-user/anaconda3/envs/pytorch_p310/lib/python3.10/site-packages (from dgl==1.1.3) (1.26.4)\n",
      "Requirement already satisfied: scipy>=1.1.0 in /home/ec2-user/anaconda3/envs/pytorch_p310/lib/python3.10/site-packages (from dgl==1.1.3) (1.14.1)\n",
      "Requirement already satisfied: networkx>=2.1 in /home/ec2-user/anaconda3/envs/pytorch_p310/lib/python3.10/site-packages (from dgl==1.1.3) (3.3)\n",
      "Requirement already satisfied: requests>=2.19.0 in /home/ec2-user/anaconda3/envs/pytorch_p310/lib/python3.10/site-packages (from dgl==1.1.3) (2.32.3)\n",
      "Requirement already satisfied: tqdm in /home/ec2-user/anaconda3/envs/pytorch_p310/lib/python3.10/site-packages (from dgl==1.1.3) (4.66.5)\n",
      "Requirement already satisfied: psutil>=5.8.0 in /home/ec2-user/anaconda3/envs/pytorch_p310/lib/python3.10/site-packages (from dgl==1.1.3) (6.0.0)\n",
      "Requirement already satisfied: charset-normalizer<4,>=2 in /home/ec2-user/anaconda3/envs/pytorch_p310/lib/python3.10/site-packages (from requests>=2.19.0->dgl==1.1.3) (3.3.2)\n",
      "Requirement already satisfied: idna<4,>=2.5 in /home/ec2-user/anaconda3/envs/pytorch_p310/lib/python3.10/site-packages (from requests>=2.19.0->dgl==1.1.3) (3.10)\n",
      "Requirement already satisfied: urllib3<3,>=1.21.1 in /home/ec2-user/anaconda3/envs/pytorch_p310/lib/python3.10/site-packages (from requests>=2.19.0->dgl==1.1.3) (2.2.3)\n",
      "Requirement already satisfied: certifi>=2017.4.17 in /home/ec2-user/anaconda3/envs/pytorch_p310/lib/python3.10/site-packages (from requests>=2.19.0->dgl==1.1.3) (2024.8.30)\n"
     ]
    }
   ],
   "source": [
    "!pip install graphstorm\n",
    "\n",
    "# If using CPU instances\n",
    "!pip install torch==2.1.0 torchvision torchaudio --index-url https://download.pytorch.org/whl/cpu\n",
    "!pip install dgl==1.1.3 -f https://data.dgl.ai/wheels-internal/repo.html"
   ]
  },
  {
   "cell_type": "code",
   "execution_count": 17,
   "id": "e345a330-267a-4d9f-8778-9a826be9ecc3",
   "metadata": {
    "tags": []
   },
   "outputs": [
    {
     "name": "stdout",
     "output_type": "stream",
     "text": [
      "/opt/conda/envs/gsf/lib/python3.10/site-packages/torchdata/datapipes/__init__.py:18: UserWarning: \n",
      "################################################################################\n",
      "WARNING!\n",
      "The 'datapipes', 'dataloader2' modules are deprecated and will be removed in a\n",
      "future torchdata release! Please see https://github.com/pytorch/data/issues/1196\n",
      "to learn more and leave feedback.\n",
      "################################################################################\n",
      "\n",
      "  deprecation_warning()\n",
      "/opt/conda/envs/gsf/lib/python3.10/site-packages/transformers/utils/generic.py:441: UserWarning: torch.utils._pytree._register_pytree_node is deprecated. Please use torch.utils._pytree.register_pytree_node instead.\n",
      "  _torch_pytree._register_pytree_node(\n",
      "/opt/conda/envs/gsf/lib/python3.10/site-packages/transformers/utils/generic.py:309: UserWarning: torch.utils._pytree._register_pytree_node is deprecated. Please use torch.utils._pytree.register_pytree_node instead.\n",
      "  _torch_pytree._register_pytree_node(\n",
      "INFO:root:The graph has 1 node types and 2 edge types.\n",
      "INFO:root:Node type airport has 471 nodes\n",
      "INFO:root:Edge type ('airport', 'demand', 'airport') has 221370 edges\n",
      "INFO:root:Edge type ('airport', 'traffic', 'airport') has 8512 edges\n",
      "INFO:root:Node type airport has features: ['latitude', 'longitude', 'inventory_amounts', 'train_mask', 'val_mask', 'test_mask'].\n",
      "INFO:root:Train/val/test on airport with mask train_mask, val_mask, test_mask: 376, 47, 47\n",
      "INFO:root:Note: Custom train, validate, test mask information for nodes are not collected.\n",
      "INFO:root:Edge type ('airport', 'demand', 'airport') has features: ['demands'].\n",
      "INFO:root:Edge type ('airport', 'traffic', 'airport') has features: ['capacity', 'traffics'].\n",
      "The graph has 1 node types and balance among 4 types\n",
      "Converting to homogeneous graph takes 0.003s, peak mem: 5.775 GB\n",
      "Save partitions: 0.008 seconds, peak memory: 5.970 GB\n",
      "There are 229882 edges in the graph and 0 edge cuts for 1 partitions.\n",
      "INFO:root:Graph construction generated new node IDs for 'airport'. The ID map is saved under gs_1p/raw_id_mappings/airport.\n"
     ]
    }
   ],
   "source": [
    "!python -m graphstorm.gconstruct.construct_graph \\\n",
    "           --conf-file config.json \\\n",
    "           --output-dir gs_1p/ \\\n",
    "           --num-parts 1 \\\n",
    "           --graph-name air_traffic"
   ]
  },
  {
   "cell_type": "code",
   "execution_count": null,
   "id": "1aa9887d-c657-417b-b0f8-b1338644832d",
   "metadata": {},
   "outputs": [],
   "source": []
  }
 ],
 "metadata": {
  "kernelspec": {
   "display_name": "gsf",
   "language": "python",
   "name": "gsf"
  },
  "language_info": {
   "codemirror_mode": {
    "name": "ipython",
    "version": 3
   },
   "file_extension": ".py",
   "mimetype": "text/x-python",
   "name": "python",
   "nbconvert_exporter": "python",
   "pygments_lexer": "ipython3",
   "version": "3.10.14"
  }
 },
 "nbformat": 4,
 "nbformat_minor": 5
}
