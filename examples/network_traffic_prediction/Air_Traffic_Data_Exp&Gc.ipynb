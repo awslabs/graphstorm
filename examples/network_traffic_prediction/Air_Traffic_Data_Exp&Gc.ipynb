{
 "cells": [
  {
   "cell_type": "markdown",
   "id": "f8c5650c-f120-4691-a3e9-3798ad4f5a8b",
   "metadata": {},
   "source": [
    "# Air Traffic Input Data Epxloration and Graph Construction for Air Traffic Prediction\n",
    "\n",
    "This notebook helps readers get better understanding of the input data format of the synthetic air transportation graph, and how it meets GraphStorm's graph construction command requirements. Readers should run the `Synthetic_Airport_Traffic_wAirlines.ipynb` first to generate the three parquet files that will be used in this notebook.\n",
    "\n",
    "GraphStorm can handel experise-level graph data, measured in billions of nodes and tens of billions of edges. This synthetic air trasportation, however, is relatively small. Therefore we will use the `graphstorm.gconstruct.construct_graph` command that can run on a single machine. Details of the input data format can be found in GraphStorm's [Input Raw Data Specification](https://graphstorm.readthedocs.io/en/latest/cli/graph-construction/raw_data.html) documentations. For large graph data that might consume more memory in multiple machines, readers can refer to GraphStorm's [Distributed Graph Construction\n",
    "](https://graphstorm.readthedocs.io/en/latest/cli/graph-construction/distributed/index.html) documentations."
   ]
  },
  {
   "cell_type": "code",
   "execution_count": 1,
   "id": "f3792ec0-262c-434e-985f-7e8511dd7416",
   "metadata": {
    "tags": []
   },
   "outputs": [],
   "source": [
    "import os\n",
    "import json\n",
    "import pandas as pd"
   ]
  },
  {
   "cell_type": "markdown",
   "id": "01462633-bf20-4a97-bf57-5eb3daa22183",
   "metadata": {},
   "source": [
    "## Explore the Input Data\n",
    "\n",
    "In order to deal with time series data, we store them as lists in one column. In such way, we store the time series data as a $N \\times T$ tensor, where $N$ is the number of samples, and $T$ is the number of days. Then we can use this tensor for modeling."
   ]
  },
  {
   "cell_type": "code",
   "execution_count": 2,
   "id": "f0dbb7ca-521c-4eac-a57d-2b2e22d12c73",
   "metadata": {
    "tags": []
   },
   "outputs": [],
   "source": [
    "airport_path = './airport.parquet'\n",
    "airport_node_df = pd.read_parquet(airport_path)"
   ]
  },
  {
   "cell_type": "code",
   "execution_count": 3,
   "id": "2cd28ee5-20b6-4e8b-9f77-83c3134ad795",
   "metadata": {
    "tags": []
   },
   "outputs": [
    {
     "data": {
      "text/html": [
       "<div>\n",
       "<style scoped>\n",
       "    .dataframe tbody tr th:only-of-type {\n",
       "        vertical-align: middle;\n",
       "    }\n",
       "\n",
       "    .dataframe tbody tr th {\n",
       "        vertical-align: top;\n",
       "    }\n",
       "\n",
       "    .dataframe thead th {\n",
       "        text-align: right;\n",
       "    }\n",
       "</style>\n",
       "<table border=\"1\" class=\"dataframe\">\n",
       "  <thead>\n",
       "    <tr style=\"text-align: right;\">\n",
       "      <th></th>\n",
       "      <th>iata_code</th>\n",
       "      <th>latitude_deg</th>\n",
       "      <th>longitude_deg</th>\n",
       "      <th>inventory_amounts</th>\n",
       "    </tr>\n",
       "  </thead>\n",
       "  <tbody>\n",
       "    <tr>\n",
       "      <th>282</th>\n",
       "      <td>THR</td>\n",
       "      <td>35.689201</td>\n",
       "      <td>51.313400</td>\n",
       "      <td>[26.3705, 113.2035, 235.0796, 294.976, 305.833...</td>\n",
       "    </tr>\n",
       "    <tr>\n",
       "      <th>176</th>\n",
       "      <td>TIA</td>\n",
       "      <td>41.414700</td>\n",
       "      <td>19.720600</td>\n",
       "      <td>[27.3904, 125.6269, 256.6235, 315.6315, 327.67...</td>\n",
       "    </tr>\n",
       "    <tr>\n",
       "      <th>336</th>\n",
       "      <td>BPS</td>\n",
       "      <td>-16.438426</td>\n",
       "      <td>-39.080584</td>\n",
       "      <td>[33.1111, 124.6781, 247.1536, 303.8346, 315.60...</td>\n",
       "    </tr>\n",
       "    <tr>\n",
       "      <th>6</th>\n",
       "      <td>YQB</td>\n",
       "      <td>46.791100</td>\n",
       "      <td>-71.393303</td>\n",
       "      <td>[30.869, 140.0717, 262.2105, 318.3473, 330.663...</td>\n",
       "    </tr>\n",
       "    <tr>\n",
       "      <th>219</th>\n",
       "      <td>MLA</td>\n",
       "      <td>35.857498</td>\n",
       "      <td>14.477500</td>\n",
       "      <td>[35.7183, 137.6625, 265.6365, 320.0791, 330.87...</td>\n",
       "    </tr>\n",
       "    <tr>\n",
       "      <th>37</th>\n",
       "      <td>LHR</td>\n",
       "      <td>51.470600</td>\n",
       "      <td>-0.461941</td>\n",
       "      <td>[25.2028, 114.7148, 240.5703, 293.9926, 302.89...</td>\n",
       "    </tr>\n",
       "    <tr>\n",
       "      <th>192</th>\n",
       "      <td>MRS</td>\n",
       "      <td>43.438088</td>\n",
       "      <td>5.212500</td>\n",
       "      <td>[38.9391, 136.8784, 255.9467, 329.7522, 346.73...</td>\n",
       "    </tr>\n",
       "  </tbody>\n",
       "</table>\n",
       "</div>"
      ],
      "text/plain": [
       "    iata_code  latitude_deg  longitude_deg  \\\n",
       "282       THR     35.689201      51.313400   \n",
       "176       TIA     41.414700      19.720600   \n",
       "336       BPS    -16.438426     -39.080584   \n",
       "6         YQB     46.791100     -71.393303   \n",
       "219       MLA     35.857498      14.477500   \n",
       "37        LHR     51.470600      -0.461941   \n",
       "192       MRS     43.438088       5.212500   \n",
       "\n",
       "                                     inventory_amounts  \n",
       "282  [26.3705, 113.2035, 235.0796, 294.976, 305.833...  \n",
       "176  [27.3904, 125.6269, 256.6235, 315.6315, 327.67...  \n",
       "336  [33.1111, 124.6781, 247.1536, 303.8346, 315.60...  \n",
       "6    [30.869, 140.0717, 262.2105, 318.3473, 330.663...  \n",
       "219  [35.7183, 137.6625, 265.6365, 320.0791, 330.87...  \n",
       "37   [25.2028, 114.7148, 240.5703, 293.9926, 302.89...  \n",
       "192  [38.9391, 136.8784, 255.9467, 329.7522, 346.73...  "
      ]
     },
     "execution_count": 3,
     "metadata": {},
     "output_type": "execute_result"
    }
   ],
   "source": [
    "airport_node_df.sample(7)"
   ]
  },
  {
   "cell_type": "code",
   "execution_count": 4,
   "id": "6cc434dc-4278-4dd3-b884-01af89f62060",
   "metadata": {
    "tags": []
   },
   "outputs": [],
   "source": [
    "demand_edge_path = './demand_edge.parquet'\n",
    "demand_edge_df = pd.read_parquet(demand_edge_path)"
   ]
  },
  {
   "cell_type": "code",
   "execution_count": 5,
   "id": "6d4c61c1-40ff-49fd-b6e6-61c33e96863e",
   "metadata": {
    "tags": []
   },
   "outputs": [
    {
     "data": {
      "text/html": [
       "<div>\n",
       "<style scoped>\n",
       "    .dataframe tbody tr th:only-of-type {\n",
       "        vertical-align: middle;\n",
       "    }\n",
       "\n",
       "    .dataframe tbody tr th {\n",
       "        vertical-align: top;\n",
       "    }\n",
       "\n",
       "    .dataframe thead th {\n",
       "        text-align: right;\n",
       "    }\n",
       "</style>\n",
       "<table border=\"1\" class=\"dataframe\">\n",
       "  <thead>\n",
       "    <tr style=\"text-align: right;\">\n",
       "      <th></th>\n",
       "      <th>src_code</th>\n",
       "      <th>dst_code</th>\n",
       "      <th>demands</th>\n",
       "    </tr>\n",
       "  </thead>\n",
       "  <tbody>\n",
       "    <tr>\n",
       "      <th>157962</th>\n",
       "      <td>PTP</td>\n",
       "      <td>HRI</td>\n",
       "      <td>[0.0, 1.0, 0.76, 1.0, 0.37, 0.0, 0.0, 0.0, 0.0...</td>\n",
       "    </tr>\n",
       "    <tr>\n",
       "      <th>148213</th>\n",
       "      <td>IBZ</td>\n",
       "      <td>VVO</td>\n",
       "      <td>[0.0, 1.0, 0.0, 0.0, 0.0, 0.0, 0.0, 0.0, 0.0, ...</td>\n",
       "    </tr>\n",
       "    <tr>\n",
       "      <th>55890</th>\n",
       "      <td>TLL</td>\n",
       "      <td>MKE</td>\n",
       "      <td>[0.0, 1.0, 0.0, 0.0, 0.0, 0.0, 0.0, 0.0, 0.0, ...</td>\n",
       "    </tr>\n",
       "    <tr>\n",
       "      <th>108989</th>\n",
       "      <td>DUR</td>\n",
       "      <td>CHC</td>\n",
       "      <td>[0.0, 0.0, 0.76, 0.0, 0.0, 0.0, 0.0, 0.0, 0.0,...</td>\n",
       "    </tr>\n",
       "    <tr>\n",
       "      <th>25923</th>\n",
       "      <td>GSV</td>\n",
       "      <td>GBE</td>\n",
       "      <td>[0.15, 0.24, 1.0, 0.0, 0.0, 0.0, 0.0, 0.0, 0.0...</td>\n",
       "    </tr>\n",
       "    <tr>\n",
       "      <th>59604</th>\n",
       "      <td>PVD</td>\n",
       "      <td>PBI</td>\n",
       "      <td>[0.86, 0.2, 1.24, 0.0, 0.0, 0.0, 0.0, 0.12, 2....</td>\n",
       "    </tr>\n",
       "    <tr>\n",
       "      <th>3279</th>\n",
       "      <td>SID</td>\n",
       "      <td>YVR</td>\n",
       "      <td>[0.0, 0.66, 1.0, 0.0, 0.0, 0.0, 0.0, 0.0, 1.0,...</td>\n",
       "    </tr>\n",
       "  </tbody>\n",
       "</table>\n",
       "</div>"
      ],
      "text/plain": [
       "       src_code dst_code                                            demands\n",
       "157962      PTP      HRI  [0.0, 1.0, 0.76, 1.0, 0.37, 0.0, 0.0, 0.0, 0.0...\n",
       "148213      IBZ      VVO  [0.0, 1.0, 0.0, 0.0, 0.0, 0.0, 0.0, 0.0, 0.0, ...\n",
       "55890       TLL      MKE  [0.0, 1.0, 0.0, 0.0, 0.0, 0.0, 0.0, 0.0, 0.0, ...\n",
       "108989      DUR      CHC  [0.0, 0.0, 0.76, 0.0, 0.0, 0.0, 0.0, 0.0, 0.0,...\n",
       "25923       GSV      GBE  [0.15, 0.24, 1.0, 0.0, 0.0, 0.0, 0.0, 0.0, 0.0...\n",
       "59604       PVD      PBI  [0.86, 0.2, 1.24, 0.0, 0.0, 0.0, 0.0, 0.12, 2....\n",
       "3279        SID      YVR  [0.0, 0.66, 1.0, 0.0, 0.0, 0.0, 0.0, 0.0, 1.0,..."
      ]
     },
     "execution_count": 5,
     "metadata": {},
     "output_type": "execute_result"
    }
   ],
   "source": [
    "demand_edge_df.sample(7)"
   ]
  },
  {
   "cell_type": "code",
   "execution_count": 6,
   "id": "1ed14c55-30c1-4aaf-8efb-2ae95ac9f6bc",
   "metadata": {
    "tags": []
   },
   "outputs": [],
   "source": [
    "traffic_edge_path = 'traffic_edge.parquet'\n",
    "traffic_edge_df = pd.read_parquet(traffic_edge_path)"
   ]
  },
  {
   "cell_type": "code",
   "execution_count": 7,
   "id": "a2c4918a-2e4f-4167-aa4c-0d6fe28475ce",
   "metadata": {
    "tags": []
   },
   "outputs": [
    {
     "data": {
      "text/html": [
       "<div>\n",
       "<style scoped>\n",
       "    .dataframe tbody tr th:only-of-type {\n",
       "        vertical-align: middle;\n",
       "    }\n",
       "\n",
       "    .dataframe tbody tr th {\n",
       "        vertical-align: top;\n",
       "    }\n",
       "\n",
       "    .dataframe thead th {\n",
       "        text-align: right;\n",
       "    }\n",
       "</style>\n",
       "<table border=\"1\" class=\"dataframe\">\n",
       "  <thead>\n",
       "    <tr style=\"text-align: right;\">\n",
       "      <th></th>\n",
       "      <th>src_code</th>\n",
       "      <th>dst_code</th>\n",
       "      <th>capacity</th>\n",
       "      <th>traffics</th>\n",
       "    </tr>\n",
       "  </thead>\n",
       "  <tbody>\n",
       "    <tr>\n",
       "      <th>4300</th>\n",
       "      <td>OMA</td>\n",
       "      <td>CMH</td>\n",
       "      <td>3.3125</td>\n",
       "      <td>[0.0, 0.0, 0.0, 0.0, 0.0, 0.0, 0.0, 0.0, 0.0, ...</td>\n",
       "    </tr>\n",
       "    <tr>\n",
       "      <th>1297</th>\n",
       "      <td>DEN</td>\n",
       "      <td>ANC</td>\n",
       "      <td>3.0000</td>\n",
       "      <td>[0.24, 0.24, 0.24, 0.24, 0.24, 0.24, 0.24, 0.2...</td>\n",
       "    </tr>\n",
       "    <tr>\n",
       "      <th>2102</th>\n",
       "      <td>GYD</td>\n",
       "      <td>DAC</td>\n",
       "      <td>0.5000</td>\n",
       "      <td>[0.0238, 0.0238, 0.0238, 0.0238, 0.0238, 0.023...</td>\n",
       "    </tr>\n",
       "    <tr>\n",
       "      <th>2614</th>\n",
       "      <td>JAX</td>\n",
       "      <td>CLT</td>\n",
       "      <td>2.0000</td>\n",
       "      <td>[0.0129, 0.0129, 0.0129, 0.0129, 0.0129, 0.012...</td>\n",
       "    </tr>\n",
       "    <tr>\n",
       "      <th>5766</th>\n",
       "      <td>SLC</td>\n",
       "      <td>LGA</td>\n",
       "      <td>3.0000</td>\n",
       "      <td>[0.0224, 0.0224, 0.0224, 0.0224, 0.0224, 0.022...</td>\n",
       "    </tr>\n",
       "    <tr>\n",
       "      <th>795</th>\n",
       "      <td>BUF</td>\n",
       "      <td>RDU</td>\n",
       "      <td>1.5000</td>\n",
       "      <td>[0.015, 0.015, 0.015, 0.015, 0.015, 0.015, 0.0...</td>\n",
       "    </tr>\n",
       "    <tr>\n",
       "      <th>5051</th>\n",
       "      <td>RDU</td>\n",
       "      <td>ORF</td>\n",
       "      <td>2.5000</td>\n",
       "      <td>[0.0213, 0.0213, 0.0213, 0.0213, 0.0213, 0.021...</td>\n",
       "    </tr>\n",
       "  </tbody>\n",
       "</table>\n",
       "</div>"
      ],
      "text/plain": [
       "     src_code dst_code  capacity  \\\n",
       "4300      OMA      CMH    3.3125   \n",
       "1297      DEN      ANC    3.0000   \n",
       "2102      GYD      DAC    0.5000   \n",
       "2614      JAX      CLT    2.0000   \n",
       "5766      SLC      LGA    3.0000   \n",
       "795       BUF      RDU    1.5000   \n",
       "5051      RDU      ORF    2.5000   \n",
       "\n",
       "                                               traffics  \n",
       "4300  [0.0, 0.0, 0.0, 0.0, 0.0, 0.0, 0.0, 0.0, 0.0, ...  \n",
       "1297  [0.24, 0.24, 0.24, 0.24, 0.24, 0.24, 0.24, 0.2...  \n",
       "2102  [0.0238, 0.0238, 0.0238, 0.0238, 0.0238, 0.023...  \n",
       "2614  [0.0129, 0.0129, 0.0129, 0.0129, 0.0129, 0.012...  \n",
       "5766  [0.0224, 0.0224, 0.0224, 0.0224, 0.0224, 0.022...  \n",
       "795   [0.015, 0.015, 0.015, 0.015, 0.015, 0.015, 0.0...  \n",
       "5051  [0.0213, 0.0213, 0.0213, 0.0213, 0.0213, 0.021...  "
      ]
     },
     "execution_count": 7,
     "metadata": {},
     "output_type": "execute_result"
    }
   ],
   "source": [
    "traffic_edge_df.sample(7)"
   ]
  },
  {
   "cell_type": "markdown",
   "id": "321b3930-36f0-4847-be31-f23c1c5ea382",
   "metadata": {},
   "source": [
    "### Prepare the JSON file for `graphstorm.gconstruct.construct_graph` command\n",
    "\n",
    "The `graphstorm.gconstruct.construct_graph` command replys on a JSON file to understand the given graph data. So here we provide the JSON file of the synthetic air transportation network. For more details of each field of the JSON file and format requirements, readers can refer to the [Configuration JSON Object Explanations](https://graphstorm.readthedocs.io/en/latest/cli/graph-construction/single-machine-gconstruct.html#configuration-json-object-explanations)."
   ]
  },
  {
   "cell_type": "code",
   "execution_count": 8,
   "id": "a2623711-b846-4b55-88c0-635f50be1fd4",
   "metadata": {
    "tags": []
   },
   "outputs": [],
   "source": [
    "air_traffic_json = {\"version\": \"gconstruct-v0.1\"}"
   ]
  },
  {
   "cell_type": "markdown",
   "id": "347de8fe-8bc5-40e4-98f5-c277d68537ab",
   "metadata": {},
   "source": [
    "Node objects record the node types in a graph, in where node data table path, and node features or labels if have, are presented. It is worth noting that we normalize some features by using GraphStorm's built-in transform (feature engineering) functions. This operation could help GNN models to converge faster."
   ]
  },
  {
   "cell_type": "code",
   "execution_count": 9,
   "id": "19675d5b-52c3-4c99-a84c-e58698ecf0d3",
   "metadata": {
    "tags": []
   },
   "outputs": [],
   "source": [
    "nodes = []\n",
    "airport = {\n",
    "    \"node_type\": \"airport\",\n",
    "    \"format\": {\n",
    "        \"name\": \"parquet\"\n",
    "    },\n",
    "    \"files\": [\n",
    "        airport_path\n",
    "    ],\n",
    "    \"node_id_col\": \"iata_code\",\n",
    "    \"features\": [\n",
    "        {\n",
    "            \"feature_col\": \"latitude_deg\",\n",
    "            \"feature_name\": \"latitude\",\n",
    "            \"transform\": {\"name\": \"max_min_norm\",\n",
    "                          \"max_val\": 90.,\n",
    "                          \"min_val\": -90.}\n",
    "        },\n",
    "        {\n",
    "            \"feature_col\": \"longitude_deg\",\n",
    "            \"feature_name\": \"longitude\",\n",
    "            \"transform\": {\"name\": \"max_min_norm\",\n",
    "                          \"max_val\": 180.,\n",
    "                          \"min_val\": -180.}\n",
    "        },\n",
    "        {\n",
    "            \"feature_col\": \"inventory_amounts\",\n",
    "            \"feature_name\": \"inventory_amounts\",\n",
    "            \"transform\": {\"name\": \"max_min_norm\",\n",
    "                          \"max_val\": 1000.,\n",
    "                          \"min_val\": 0.}\n",
    "        }\n",
    "    ],\n",
    "    \"labels\": [\n",
    "        {\n",
    "            \"label_col\": \"inventory_amounts\",\n",
    "            \"task_type\": \"regression\",\n",
    "            \"split_pct\": [\n",
    "                0.8,\n",
    "                0.1,\n",
    "                0.1\n",
    "            ]\n",
    "        }\n",
    "    ]\n",
    "}\n",
    "\n",
    "nodes.append(airport)"
   ]
  },
  {
   "cell_type": "markdown",
   "id": "02df1b10-e3a5-490e-a456-117aea92681a",
   "metadata": {},
   "source": [
    "Edge objects are similar as node objects except that they have a \"relation\" field to record source node type, edge type, and destination type in a list."
   ]
  },
  {
   "cell_type": "code",
   "execution_count": 10,
   "id": "bf7d7ba3-c40f-4e29-8cb7-b31700a06bec",
   "metadata": {},
   "outputs": [],
   "source": [
    "edges = []\n",
    "ap_demand_ap = {\n",
    "    \"relation\": [\n",
    "        \"airport\",\n",
    "        \"demand\",\n",
    "        \"airport\"\n",
    "    ],\n",
    "    \"format\": {\n",
    "        \"name\": \"parquet\"\n",
    "    },\n",
    "    \"files\": [\n",
    "        demand_edge_path\n",
    "    ],\n",
    "    \"source_id_col\": \"src_code\",\n",
    "    \"dest_id_col\": \"dst_code\",\n",
    "    \"features\": [\n",
    "        {\n",
    "            \"feature_col\": \"demands\",\n",
    "            \"feature_name\": \"demands\"\n",
    "        }\n",
    "    ]\n",
    "}\n",
    "ap_traffic_ap = {\n",
    "    \"relation\": [\n",
    "        \"airport\",\n",
    "        \"traffic\",\n",
    "        \"airport\"\n",
    "    ],\n",
    "    \"format\": {\n",
    "        \"name\": \"parquet\"\n",
    "    },\n",
    "    \"files\": [\n",
    "        traffic_edge_path\n",
    "    ],\n",
    "    \"source_id_col\": \"src_code\",\n",
    "    \"dest_id_col\": \"dst_code\",\n",
    "    \"features\": [\n",
    "        {\n",
    "            \"feature_col\": \"capacity\",\n",
    "            \"feature_name\": \"capacity\"\n",
    "        },\n",
    "        {\n",
    "            \"feature_col\": \"traffics\",\n",
    "            \"feature_name\": \"traffics\"\n",
    "        }\n",
    "    ]\n",
    "}\n",
    "edges.append(ap_demand_ap)\n",
    "edges.append(ap_traffic_ap)"
   ]
  },
  {
   "cell_type": "code",
   "execution_count": 11,
   "id": "0f6cb74c-b4f6-4d92-88ac-d5b116f03a50",
   "metadata": {
    "tags": []
   },
   "outputs": [],
   "source": [
    "air_traffic_json['nodes'] = nodes\n",
    "air_traffic_json['edges'] = edges"
   ]
  },
  {
   "cell_type": "code",
   "execution_count": 12,
   "id": "95378bff-52eb-4655-ad2a-c45088f23dc1",
   "metadata": {
    "tags": []
   },
   "outputs": [],
   "source": [
    "# Save to a local file, named config.json\n",
    "with open(os.path.join(\"config.json\"), \"w\") as f:\n",
    "    json.dump(air_traffic_json, f, indent=4)"
   ]
  },
  {
   "cell_type": "markdown",
   "id": "48497e65-cda4-4cd6-9de1-898f25493112",
   "metadata": {},
   "source": [
    "## Run GraphStorm `gconstruct` Command to Process Air Traffic Data for Using GraphStorm\n",
    "\n",
    "With the tree parquet files and the `config.json` JSON file, we then run graph construction.\n",
    "\n",
    "First, let's install GraphStorm and its depenencies, assuming on a CPU machine."
   ]
  },
  {
   "cell_type": "code",
   "execution_count": 13,
   "id": "cca59b7f-1c6d-4842-b328-d37fc26d2fb4",
   "metadata": {
    "tags": []
   },
   "outputs": [
    {
     "name": "stdout",
     "output_type": "stream",
     "text": [
      "Collecting graphstorm\n",
      "  Downloading graphstorm-0.4.0-py3-none-any.whl.metadata (403 bytes)\n",
      "Requirement already satisfied: h5py in /opt/conda/envs/gsf/lib/python3.9/site-packages (from graphstorm) (3.12.1)\n",
      "Requirement already satisfied: pyarrow in /opt/conda/envs/gsf/lib/python3.9/site-packages (from graphstorm) (18.1.0)\n",
      "Requirement already satisfied: transformers==4.36.0 in /opt/conda/envs/gsf/lib/python3.9/site-packages (from graphstorm) (4.36.0)\n",
      "Requirement already satisfied: pandas in /opt/conda/envs/gsf/lib/python3.9/site-packages (from graphstorm) (2.2.3)\n",
      "Requirement already satisfied: scikit-learn in /opt/conda/envs/gsf/lib/python3.9/site-packages (from graphstorm) (1.6.0)\n",
      "Requirement already satisfied: ogb==1.3.6 in /opt/conda/envs/gsf/lib/python3.9/site-packages (from graphstorm) (1.3.6)\n",
      "Requirement already satisfied: packaging in /opt/conda/envs/gsf/lib/python3.9/site-packages (from graphstorm) (24.2)\n",
      "Requirement already satisfied: psutil in /opt/conda/envs/gsf/lib/python3.9/site-packages (from graphstorm) (6.1.0)\n",
      "Requirement already satisfied: torch>=1.6.0 in /opt/conda/envs/gsf/lib/python3.9/site-packages (from ogb==1.3.6->graphstorm) (2.1.0+cu121)\n",
      "Requirement already satisfied: numpy>=1.16.0 in /opt/conda/envs/gsf/lib/python3.9/site-packages (from ogb==1.3.6->graphstorm) (1.26.0)\n",
      "Requirement already satisfied: tqdm>=4.29.0 in /opt/conda/envs/gsf/lib/python3.9/site-packages (from ogb==1.3.6->graphstorm) (4.67.1)\n",
      "Requirement already satisfied: six>=1.12.0 in /opt/conda/envs/gsf/lib/python3.9/site-packages (from ogb==1.3.6->graphstorm) (1.17.0)\n",
      "Requirement already satisfied: urllib3>=1.24.0 in /opt/conda/envs/gsf/lib/python3.9/site-packages (from ogb==1.3.6->graphstorm) (1.26.20)\n",
      "Requirement already satisfied: outdated>=0.2.0 in /opt/conda/envs/gsf/lib/python3.9/site-packages (from ogb==1.3.6->graphstorm) (0.2.2)\n",
      "Requirement already satisfied: filelock in /opt/conda/envs/gsf/lib/python3.9/site-packages (from transformers==4.36.0->graphstorm) (3.16.1)\n",
      "Requirement already satisfied: huggingface-hub<1.0,>=0.19.3 in /opt/conda/envs/gsf/lib/python3.9/site-packages (from transformers==4.36.0->graphstorm) (0.26.5)\n",
      "Requirement already satisfied: pyyaml>=5.1 in /opt/conda/envs/gsf/lib/python3.9/site-packages (from transformers==4.36.0->graphstorm) (6.0.2)\n",
      "Requirement already satisfied: regex!=2019.12.17 in /opt/conda/envs/gsf/lib/python3.9/site-packages (from transformers==4.36.0->graphstorm) (2024.11.6)\n",
      "Requirement already satisfied: requests in /opt/conda/envs/gsf/lib/python3.9/site-packages (from transformers==4.36.0->graphstorm) (2.32.3)\n",
      "Requirement already satisfied: tokenizers<0.19,>=0.14 in /opt/conda/envs/gsf/lib/python3.9/site-packages (from transformers==4.36.0->graphstorm) (0.15.2)\n",
      "Requirement already satisfied: safetensors>=0.3.1 in /opt/conda/envs/gsf/lib/python3.9/site-packages (from transformers==4.36.0->graphstorm) (0.4.5)\n",
      "Requirement already satisfied: python-dateutil>=2.8.2 in /opt/conda/envs/gsf/lib/python3.9/site-packages (from pandas->graphstorm) (2.9.0.post0)\n",
      "Requirement already satisfied: pytz>=2020.1 in /opt/conda/envs/gsf/lib/python3.9/site-packages (from pandas->graphstorm) (2024.2)\n",
      "Requirement already satisfied: tzdata>=2022.7 in /opt/conda/envs/gsf/lib/python3.9/site-packages (from pandas->graphstorm) (2024.2)\n",
      "Requirement already satisfied: scipy>=1.6.0 in /opt/conda/envs/gsf/lib/python3.9/site-packages (from scikit-learn->graphstorm) (1.13.1)\n",
      "Requirement already satisfied: joblib>=1.2.0 in /opt/conda/envs/gsf/lib/python3.9/site-packages (from scikit-learn->graphstorm) (1.4.2)\n",
      "Requirement already satisfied: threadpoolctl>=3.1.0 in /opt/conda/envs/gsf/lib/python3.9/site-packages (from scikit-learn->graphstorm) (3.5.0)\n",
      "Requirement already satisfied: fsspec>=2023.5.0 in /opt/conda/envs/gsf/lib/python3.9/site-packages (from huggingface-hub<1.0,>=0.19.3->transformers==4.36.0->graphstorm) (2024.10.0)\n",
      "Requirement already satisfied: typing-extensions>=3.7.4.3 in /opt/conda/envs/gsf/lib/python3.9/site-packages (from huggingface-hub<1.0,>=0.19.3->transformers==4.36.0->graphstorm) (4.12.2)\n",
      "Requirement already satisfied: setuptools>=44 in /opt/conda/envs/gsf/lib/python3.9/site-packages (from outdated>=0.2.0->ogb==1.3.6->graphstorm) (75.6.0)\n",
      "Requirement already satisfied: littleutils in /opt/conda/envs/gsf/lib/python3.9/site-packages (from outdated>=0.2.0->ogb==1.3.6->graphstorm) (0.2.4)\n",
      "Requirement already satisfied: sympy in /opt/conda/envs/gsf/lib/python3.9/site-packages (from torch>=1.6.0->ogb==1.3.6->graphstorm) (1.13.1)\n",
      "Requirement already satisfied: networkx in /opt/conda/envs/gsf/lib/python3.9/site-packages (from torch>=1.6.0->ogb==1.3.6->graphstorm) (3.2.1)\n",
      "Requirement already satisfied: jinja2 in /opt/conda/envs/gsf/lib/python3.9/site-packages (from torch>=1.6.0->ogb==1.3.6->graphstorm) (3.1.4)\n",
      "Requirement already satisfied: triton==2.1.0 in /opt/conda/envs/gsf/lib/python3.9/site-packages (from torch>=1.6.0->ogb==1.3.6->graphstorm) (2.1.0)\n",
      "Requirement already satisfied: charset-normalizer<4,>=2 in /opt/conda/envs/gsf/lib/python3.9/site-packages (from requests->transformers==4.36.0->graphstorm) (3.4.0)\n",
      "Requirement already satisfied: idna<4,>=2.5 in /opt/conda/envs/gsf/lib/python3.9/site-packages (from requests->transformers==4.36.0->graphstorm) (3.10)\n",
      "Requirement already satisfied: certifi>=2017.4.17 in /opt/conda/envs/gsf/lib/python3.9/site-packages (from requests->transformers==4.36.0->graphstorm) (2024.8.30)\n",
      "Requirement already satisfied: MarkupSafe>=2.0 in /opt/conda/envs/gsf/lib/python3.9/site-packages (from jinja2->torch>=1.6.0->ogb==1.3.6->graphstorm) (3.0.2)\n",
      "Requirement already satisfied: mpmath<1.4,>=1.1.0 in /opt/conda/envs/gsf/lib/python3.9/site-packages (from sympy->torch>=1.6.0->ogb==1.3.6->graphstorm) (1.3.0)\n",
      "Downloading graphstorm-0.4.0-py3-none-any.whl (461 kB)\n",
      "Installing collected packages: graphstorm\n",
      "Successfully installed graphstorm-0.4.0\n",
      "Looking in indexes: https://download.pytorch.org/whl/cpu\n",
      "Requirement already satisfied: torch==2.1.0 in /opt/conda/envs/gsf/lib/python3.9/site-packages (2.1.0+cu121)\n",
      "Requirement already satisfied: torchvision in /opt/conda/envs/gsf/lib/python3.9/site-packages (0.16.0+cu121)\n",
      "Requirement already satisfied: torchaudio in /opt/conda/envs/gsf/lib/python3.9/site-packages (2.1.0+cu121)\n",
      "Requirement already satisfied: filelock in /opt/conda/envs/gsf/lib/python3.9/site-packages (from torch==2.1.0) (3.16.1)\n",
      "Requirement already satisfied: typing-extensions in /opt/conda/envs/gsf/lib/python3.9/site-packages (from torch==2.1.0) (4.12.2)\n",
      "Requirement already satisfied: sympy in /opt/conda/envs/gsf/lib/python3.9/site-packages (from torch==2.1.0) (1.13.1)\n",
      "Requirement already satisfied: networkx in /opt/conda/envs/gsf/lib/python3.9/site-packages (from torch==2.1.0) (3.2.1)\n",
      "Requirement already satisfied: jinja2 in /opt/conda/envs/gsf/lib/python3.9/site-packages (from torch==2.1.0) (3.1.4)\n",
      "Requirement already satisfied: fsspec in /opt/conda/envs/gsf/lib/python3.9/site-packages (from torch==2.1.0) (2024.10.0)\n",
      "Requirement already satisfied: triton==2.1.0 in /opt/conda/envs/gsf/lib/python3.9/site-packages (from torch==2.1.0) (2.1.0)\n",
      "Requirement already satisfied: numpy in /opt/conda/envs/gsf/lib/python3.9/site-packages (from torchvision) (1.26.0)\n",
      "Requirement already satisfied: requests in /opt/conda/envs/gsf/lib/python3.9/site-packages (from torchvision) (2.32.3)\n",
      "Requirement already satisfied: pillow!=8.3.*,>=5.3.0 in /opt/conda/envs/gsf/lib/python3.9/site-packages (from torchvision) (10.2.0)\n",
      "Requirement already satisfied: MarkupSafe>=2.0 in /opt/conda/envs/gsf/lib/python3.9/site-packages (from jinja2->torch==2.1.0) (3.0.2)\n",
      "Requirement already satisfied: charset-normalizer<4,>=2 in /opt/conda/envs/gsf/lib/python3.9/site-packages (from requests->torchvision) (3.4.0)\n",
      "Requirement already satisfied: idna<4,>=2.5 in /opt/conda/envs/gsf/lib/python3.9/site-packages (from requests->torchvision) (3.10)\n",
      "Requirement already satisfied: urllib3<3,>=1.21.1 in /opt/conda/envs/gsf/lib/python3.9/site-packages (from requests->torchvision) (1.26.20)\n",
      "Requirement already satisfied: certifi>=2017.4.17 in /opt/conda/envs/gsf/lib/python3.9/site-packages (from requests->torchvision) (2024.8.30)\n",
      "Requirement already satisfied: mpmath<1.4,>=1.1.0 in /opt/conda/envs/gsf/lib/python3.9/site-packages (from sympy->torch==2.1.0) (1.3.0)\n",
      "Looking in links: https://data.dgl.ai/wheels-internal/repo.html\n",
      "Requirement already satisfied: dgl==1.1.3 in /opt/conda/envs/gsf/lib/python3.9/site-packages (1.1.3+cu121)\n",
      "Requirement already satisfied: numpy>=1.14.0 in /opt/conda/envs/gsf/lib/python3.9/site-packages (from dgl==1.1.3) (1.26.0)\n",
      "Requirement already satisfied: scipy>=1.1.0 in /opt/conda/envs/gsf/lib/python3.9/site-packages (from dgl==1.1.3) (1.13.1)\n",
      "Requirement already satisfied: networkx>=2.1 in /opt/conda/envs/gsf/lib/python3.9/site-packages (from dgl==1.1.3) (3.2.1)\n",
      "Requirement already satisfied: requests>=2.19.0 in /opt/conda/envs/gsf/lib/python3.9/site-packages (from dgl==1.1.3) (2.32.3)\n",
      "Requirement already satisfied: tqdm in /opt/conda/envs/gsf/lib/python3.9/site-packages (from dgl==1.1.3) (4.67.1)\n",
      "Requirement already satisfied: psutil>=5.8.0 in /opt/conda/envs/gsf/lib/python3.9/site-packages (from dgl==1.1.3) (6.1.0)\n",
      "Requirement already satisfied: charset-normalizer<4,>=2 in /opt/conda/envs/gsf/lib/python3.9/site-packages (from requests>=2.19.0->dgl==1.1.3) (3.4.0)\n",
      "Requirement already satisfied: idna<4,>=2.5 in /opt/conda/envs/gsf/lib/python3.9/site-packages (from requests>=2.19.0->dgl==1.1.3) (3.10)\n",
      "Requirement already satisfied: urllib3<3,>=1.21.1 in /opt/conda/envs/gsf/lib/python3.9/site-packages (from requests>=2.19.0->dgl==1.1.3) (1.26.20)\n",
      "Requirement already satisfied: certifi>=2017.4.17 in /opt/conda/envs/gsf/lib/python3.9/site-packages (from requests>=2.19.0->dgl==1.1.3) (2024.8.30)\n"
     ]
    }
   ],
   "source": [
    "!pip install graphstorm\n",
    "\n",
    "# If using CPU instances\n",
    "!pip install torch==2.1.0 torchvision torchaudio --index-url https://download.pytorch.org/whl/cpu\n",
    "!pip install dgl==1.1.3 -f https://data.dgl.ai/wheels-internal/repo.html"
   ]
  },
  {
   "cell_type": "markdown",
   "id": "a891579e-b244-42b2-8269-ebbd0724e881",
   "metadata": {},
   "source": [
    "Now, run the `gconstruct.construct_graph` command with a few arguments. For example, as the air traffic graph data is relatively small, we only split the data into one partition, i.e., `--num-part 1`. And the output data will be saved to a folder named `gs_1p` to be used in the model training and inference at the `AirTrafficPrediction.ipynb` notebook."
   ]
  },
  {
   "cell_type": "code",
   "execution_count": 14,
   "id": "e345a330-267a-4d9f-8778-9a826be9ecc3",
   "metadata": {
    "tags": []
   },
   "outputs": [
    {
     "name": "stdout",
     "output_type": "stream",
     "text": [
      "INFO:root:The graph has 1 node types and 2 edge types.\n",
      "INFO:root:Node type airport has 400 nodes\n",
      "INFO:root:Edge type ('airport', 'demand', 'airport') has 159600 edges\n",
      "INFO:root:Edge type ('airport', 'traffic', 'airport') has 6628 edges\n",
      "INFO:root:Node type airport has features: ['latitude', 'longitude', 'inventory_amounts', 'train_mask', 'val_mask', 'test_mask'].\n",
      "INFO:root:Train/val/test on airport with mask train_mask, val_mask, test_mask: 320, 40, 40\n",
      "INFO:root:Note: Custom train, validate, test mask information for nodes are not collected.\n",
      "INFO:root:Edge type ('airport', 'demand', 'airport') has features: ['demands'].\n",
      "INFO:root:Edge type ('airport', 'traffic', 'airport') has features: ['capacity', 'traffics'].\n",
      "The graph has 1 node types and balance among 3 types\n",
      "Converting to homogeneous graph takes 0.006s, peak mem: 13.504 GB\n",
      "Save partitions: 0.008 seconds, peak memory: 14.958 GB\n",
      "There are 166228 edges in the graph and 0 edge cuts for 1 partitions.\n",
      "INFO:root:Graph construction generated new node IDs for 'airport'. The ID map is saved under gs_1p/raw_id_mappings/airport.\n"
     ]
    }
   ],
   "source": [
    "!python -m graphstorm.gconstruct.construct_graph \\\n",
    "           --conf-file config.json \\\n",
    "           --output-dir gs_1p/ \\\n",
    "           --num-parts 1 \\\n",
    "           --graph-name air_traffic"
   ]
  },
  {
   "cell_type": "code",
   "execution_count": null,
   "id": "1aa9887d-c657-417b-b0f8-b1338644832d",
   "metadata": {},
   "outputs": [],
   "source": []
  }
 ],
 "metadata": {
  "kernelspec": {
   "display_name": "gsf",
   "language": "python",
   "name": "python3"
  },
  "language_info": {
   "codemirror_mode": {
    "name": "ipython",
    "version": 3
   },
   "file_extension": ".py",
   "mimetype": "text/x-python",
   "name": "python",
   "nbconvert_exporter": "python",
   "pygments_lexer": "ipython3",
   "version": "3.9.21"
  }
 },
 "nbformat": 4,
 "nbformat_minor": 5
}
